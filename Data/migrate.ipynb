{
 "cells": [
  {
   "cell_type": "code",
   "execution_count": 6,
   "metadata": {},
   "outputs": [],
   "source": [
    "import sqlite3\n",
    "import pandas as pd\n"
   ]
  },
  {
   "cell_type": "code",
   "execution_count": 7,
   "metadata": {},
   "outputs": [],
   "source": [
    "pd.set_option('display.max_rows', 500)\n",
    "pd.set_option('display.max_columns', 500)\n",
    "pd.set_option('display.width', 1000)\n"
   ]
  },
  {
   "cell_type": "code",
   "execution_count": 8,
   "metadata": {},
   "outputs": [],
   "source": [
    "conn = sqlite3.connect(\"./raw/data.db\")\n",
    "crs = conn.cursor()\n"
   ]
  },
  {
   "cell_type": "code",
   "execution_count": 9,
   "metadata": {},
   "outputs": [
    {
     "name": "stdout",
     "output_type": "stream",
     "text": [
      "   STT  Emotion Title                                              Posts\n",
      "0    1        2   NaN  buồn quá mọi người ơi mình mới phát_hiện chồng...\n",
      "1    2        5   NaN      yêu một người keo_kiệt kiểu \\n cre mai phuong\n",
      "2    3        1   NaN  đợt sale tôi lên sóp pi đặt cục này về các ông...\n",
      "3    4        2   NaN            anh xin_lỗi là anh sai \\n topcmt \\n ksc\n",
      "4    5        5   NaN  vừa xong những người dân tại làng bún hà_nội đ...\n",
      "<class 'pandas.core.frame.DataFrame'>\n",
      "Int64Index: 7161 entries, 0 to 7241\n",
      "Data columns (total 4 columns):\n",
      " #   Column   Non-Null Count  Dtype \n",
      "---  ------   --------------  ----- \n",
      " 0   STT      7161 non-null   int64 \n",
      " 1   Emotion  7161 non-null   int64 \n",
      " 2   Title    519 non-null    object\n",
      " 3   Posts    7161 non-null   object\n",
      "dtypes: int64(2), object(2)\n",
      "memory usage: 279.7+ KB\n",
      "None\n"
     ]
    }
   ],
   "source": [
    "file_path = \"./raw/Data_DATN_Full.csv\"\n",
    "df = pd.read_csv(file_path)\n",
    "df.drop_duplicates(subset=['Posts'], keep='first', inplace=True)\n",
    "df.dropna(subset=['Posts'], inplace=True)\n",
    "# drop if Posts have only white space and newline character\n",
    "df = df[~df['Posts'].str.isspace()]\n",
    "\n",
    "print(df.head())\n",
    "# print df structure\n",
    "print(df.info())\n"
   ]
  },
  {
   "cell_type": "code",
   "execution_count": 10,
   "metadata": {},
   "outputs": [
    {
     "data": {
      "text/plain": [
       "[]"
      ]
     },
     "execution_count": 10,
     "metadata": {},
     "output_type": "execute_result"
    }
   ],
   "source": [
    "df.to_sql(\"data\", conn, if_exists=\"replace\")\n",
    "conn.commit()\n",
    "crs.fetchall()"
   ]
  }
 ],
 "metadata": {
  "kernelspec": {
   "display_name": "Python 3.8.13 (conda)",
   "language": "python",
   "name": "python3"
  },
  "language_info": {
   "codemirror_mode": {
    "name": "ipython",
    "version": 3
   },
   "file_extension": ".py",
   "mimetype": "text/x-python",
   "name": "python",
   "nbconvert_exporter": "python",
   "pygments_lexer": "ipython3",
   "version": "3.8.13"
  },
  "orig_nbformat": 4,
  "vscode": {
   "interpreter": {
    "hash": "36b5d234dcadb63a5dcffe129e6467f293a83c75bbea9a5662c39cecefcc4dbb"
   }
  }
 },
 "nbformat": 4,
 "nbformat_minor": 2
}
