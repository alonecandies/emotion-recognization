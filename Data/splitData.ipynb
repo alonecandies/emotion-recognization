{
 "cells": [
  {
   "cell_type": "code",
   "execution_count": 1,
   "metadata": {},
   "outputs": [],
   "source": [
    "import sqlite3\n",
    "import pandas as pd\n"
   ]
  },
  {
   "cell_type": "code",
   "execution_count": 2,
   "metadata": {},
   "outputs": [],
   "source": [
    "pd.set_option('display.max_rows', 500)\n",
    "pd.set_option('display.max_columns', 500)\n",
    "pd.set_option('display.width', 1000)\n"
   ]
  },
  {
   "cell_type": "code",
   "execution_count": 3,
   "metadata": {},
   "outputs": [],
   "source": [
    "conn1 = sqlite3.connect(\"./raw/data.db\")\n",
    "crs1 = conn1.cursor()\n",
    "\n",
    "conn2 = sqlite3.connect(\"./raw/data_test.db\")\n",
    "crs2 = conn2.cursor()\n",
    "\n",
    "conn3 = sqlite3.connect(\"./raw/data_train.db\")\n",
    "crs3 = conn3.cursor()"
   ]
  },
  {
   "cell_type": "code",
   "execution_count": 4,
   "metadata": {},
   "outputs": [
    {
     "name": "stdout",
     "output_type": "stream",
     "text": [
      "0\n",
      "1\n",
      "2\n",
      "3\n",
      "4\n",
      "5\n"
     ]
    }
   ],
   "source": [
    "for i in range(0, 6):\n",
    "    print(i)\n",
    "    query = \"SELECT * FROM data WHERE emotion = \"+str(i)\n",
    "    df = pd.read_sql_query(query, conn1)\n",
    "    test_90 = df.sample(n=90)\n",
    "    test_90.to_sql(\"data\", conn2, if_exists='append', index=False)\n",
    "    train_left = df.drop(test_90.index)\n",
    "    train_left.to_sql(\"data\", conn3, if_exists='append', index=False)\n"
   ]
  }
 ],
 "metadata": {
  "kernelspec": {
   "display_name": "Python 3.8.13",
   "language": "python",
   "name": "python3"
  },
  "language_info": {
   "codemirror_mode": {
    "name": "ipython",
    "version": 3
   },
   "file_extension": ".py",
   "mimetype": "text/x-python",
   "name": "python",
   "nbconvert_exporter": "python",
   "pygments_lexer": "ipython3",
   "version": "3.8.13"
  },
  "orig_nbformat": 4,
  "vscode": {
   "interpreter": {
    "hash": "36b5d234dcadb63a5dcffe129e6467f293a83c75bbea9a5662c39cecefcc4dbb"
   }
  }
 },
 "nbformat": 4,
 "nbformat_minor": 2
}
