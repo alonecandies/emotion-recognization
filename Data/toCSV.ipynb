{
 "cells": [
  {
   "cell_type": "code",
   "execution_count": 6,
   "metadata": {},
   "outputs": [],
   "source": [
    "import sqlite3\n",
    "import pandas as pd"
   ]
  },
  {
   "cell_type": "code",
   "execution_count": 7,
   "metadata": {},
   "outputs": [],
   "source": [
    "conn_train_dirty = sqlite3.connect(\"./data_train_dirty.db\")\n",
    "crs_train_dirty = conn_train_dirty.cursor()\n",
    "\n",
    "conn_test_dirty = sqlite3.connect(\"./data_test_dirty.db\")\n",
    "crs_test_dirty = conn_test_dirty.cursor()\n"
   ]
  },
  {
   "cell_type": "code",
   "execution_count": 9,
   "metadata": {},
   "outputs": [],
   "source": [
    "def migrate_data_to_csv():\n",
    "    df_train = pd.read_sql_query(\n",
    "        \"SELECT * FROM data ORDER BY RANDOM()\", conn_train_dirty)\n",
    "    df_test = pd.read_sql_query(\n",
    "        \"SELECT * FROM data ORDER BY RANDOM()\", conn_test_dirty)\n",
    "    df = pd.concat([df_train, df_test], ignore_index=True)\n",
    "    df = df.dropna(subset=['Posts'])\n",
    "    df.to_csv(\"./data_dirty.csv\", index=False)\n",
    "\n",
    "migrate_data_to_csv()\n"
   ]
  }
 ],
 "metadata": {
  "kernelspec": {
   "display_name": "Python 3.8.13 (conda)",
   "language": "python",
   "name": "python3"
  },
  "language_info": {
   "codemirror_mode": {
    "name": "ipython",
    "version": 3
   },
   "file_extension": ".py",
   "mimetype": "text/x-python",
   "name": "python",
   "nbconvert_exporter": "python",
   "pygments_lexer": "ipython3",
   "version": "3.8.13"
  },
  "orig_nbformat": 4,
  "vscode": {
   "interpreter": {
    "hash": "36b5d234dcadb63a5dcffe129e6467f293a83c75bbea9a5662c39cecefcc4dbb"
   }
  }
 },
 "nbformat": 4,
 "nbformat_minor": 2
}
