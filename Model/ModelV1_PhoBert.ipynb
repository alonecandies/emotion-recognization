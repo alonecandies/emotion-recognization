{
  "cells": [
    {
      "cell_type": "markdown",
      "metadata": {},
      "source": [
        "## Instal requirements"
      ]
    },
    {
      "cell_type": "code",
      "execution_count": null,
      "metadata": {},
      "outputs": [],
      "source": [
        "!pip install transformers\n",
        "!pip install fastBPE\n",
        "!pip install fairseq\n",
        "!pip install vncorenlp\n",
        "!pip install scikit-learn"
      ]
    },
    {
      "cell_type": "code",
      "execution_count": null,
      "metadata": {},
      "outputs": [],
      "source": [
        "!mkdir -p vncorenlp/models/wordsegmenter\n",
        "!wget https://raw.githubusercontent.com/vncorenlp/VnCoreNLP/master/VnCoreNLP-1.1.1.jar\n",
        "!wget https://raw.githubusercontent.com/vncorenlp/VnCoreNLP/master/models/wordsegmenter/vi-vocab\n",
        "!wget https://raw.githubusercontent.com/vncorenlp/VnCoreNLP/master/models/wordsegmenter/wordsegmenter.rdr\n",
        "!mv VnCoreNLP-1.1.1.jar vncorenlp/\n",
        "!mv vi-vocab vncorenlp/models/wordsegmenter/\n",
        "!mv wordsegmenter.rdr vncorenlp/models/wordsegmenter/\n"
      ]
    },
    {
      "cell_type": "code",
      "execution_count": null,
      "metadata": {
        "id": "w3Be1B4QsXXk"
      },
      "outputs": [],
      "source": [
        "!wget https://public.vinai.io/PhoBERT_base_transformers.tar.gz\n",
        "!tar -xzvf PhoBERT_base_transformers.tar.gz\n",
        "!rm -rf PhoBERT_base_transformers.tar.gz"
      ]
    },
    {
      "cell_type": "code",
      "execution_count": null,
      "metadata": {
        "id": "JemZ4tgeWpWU"
      },
      "outputs": [],
      "source": [
        "!wget https://public.vinai.io/PhoBERT_large_transformers.tar.gz\n",
        "!tar -xzvf PhoBERT_large_transformers.tar.gz\n",
        "!rm -rf PhoBERT_large_transformers.tar.gz"
      ]
    },
    {
      "cell_type": "code",
      "execution_count": null,
      "metadata": {
        "id": "qqpoVnv6sZfV"
      },
      "outputs": [],
      "source": [
        "!wget https://public.vinai.io/PhoBERT_base_fairseq.tar.gz\n",
        "!tar -xzvf PhoBERT_base_fairseq.tar.gz\n",
        "!rm -rf PhoBERT_base_fairseq.tar.gz"
      ]
    },
    {
      "cell_type": "markdown",
      "metadata": {},
      "source": [
        "## Import dependencies"
      ]
    },
    {
      "cell_type": "code",
      "execution_count": null,
      "metadata": {
        "colab": {
          "base_uri": "https://localhost:8080/"
        },
        "id": "AIzIar05qaNv",
        "outputId": "fb3c5277-4a7e-4153-c137-697b82020efb"
      },
      "outputs": [],
      "source": [
        "# from google.colab import drive\n",
        "# drive.mount(\"/content/drive\")"
      ]
    },
    {
      "cell_type": "code",
      "execution_count": 1,
      "metadata": {
        "id": "oyjiNnxOq8FW"
      },
      "outputs": [],
      "source": [
        "import pandas as pd\n",
        "import re\n",
        "import sqlite3\n",
        "import string\n",
        "import pickle"
      ]
    },
    {
      "cell_type": "code",
      "execution_count": 2,
      "metadata": {
        "id": "TMT-9mF-rAtM"
      },
      "outputs": [],
      "source": [
        "# data = pd.read_csv('/content/drive/MyDrive/DATN/DATA/DataV1/data_datn_trainV1_numberlable_6_1.csv')\n",
        "# data.head(10)"
      ]
    },
    {
      "cell_type": "code",
      "execution_count": 2,
      "metadata": {},
      "outputs": [],
      "source": [
        "conn_train = sqlite3.connect(\"../Data/raw/data_train_clean.db\")\n",
        "crs_train = conn_train.cursor()\n",
        "data_train = pd.read_sql_query(\"SELECT * FROM data ORDER BY RANDOM()\", conn_train)\n",
        "\n",
        "conn_test = sqlite3.connect(\"../Data/raw/data_test_clean.db\")\n",
        "crs_test = conn_test.cursor()\n",
        "data_test = pd.read_sql_query(\"SELECT * FROM data ORDER BY RANDOM()\", conn_test)\n"
      ]
    },
    {
      "cell_type": "code",
      "execution_count": 3,
      "metadata": {
        "id": "yRh_F7Q0rPEG"
      },
      "outputs": [],
      "source": [
        "train_data = pd.DataFrame()\n",
        "train_data['title'] = data_train.Posts\n",
        "train_data['label'] = data_train['Emotion']\n",
        "\n",
        "test_data = pd.DataFrame()\n",
        "test_data['title'] = data_test.Posts\n",
        "test_data['label'] = data_test['Emotion']"
      ]
    },
    {
      "cell_type": "code",
      "execution_count": 4,
      "metadata": {
        "id": "mymjJ5ucsTts"
      },
      "outputs": [],
      "source": [
        "from vncorenlp import VnCoreNLP\n",
        "rdrsegmenter = VnCoreNLP(\"./vncorenlp/VnCoreNLP-1.1.1.jar\", annotators=\"wseg\", max_heap_size='-Xmx500m')"
      ]
    },
    {
      "cell_type": "code",
      "execution_count": 5,
      "metadata": {
        "id": "iTPWNfQZsbQc"
      },
      "outputs": [
        {
          "name": "stderr",
          "output_type": "stream",
          "text": [
            "Loading codes from ./PhoBERT_base_transformers/bpe.codes ...\n",
            "Read 64000 codes from the codes file.\n"
          ]
        }
      ],
      "source": [
        "from fairseq.data.encoders.fastbpe import fastBPE\n",
        "from fairseq.data import Dictionary\n",
        "import argparse\n",
        "\n",
        "parser = argparse.ArgumentParser()\n",
        "parser.add_argument('--bpe-codes', \n",
        "    default=\"./PhoBERT_base_transformers/bpe.codes\",\n",
        "    # default=\"./PhoBERT_large_transformers/bpe.codes\",\n",
        "    required=False,\n",
        "    type=str,\n",
        "    help='path to fastBPE BPE'\n",
        ")\n",
        "args, unknown = parser.parse_known_args()\n",
        "bpe = fastBPE(args)\n",
        "\n",
        "# Load the dictionary\n",
        "vocab = Dictionary()\n",
        "vocab.add_from_file(\"./PhoBERT_base_transformers/dict.txt\")\n",
        "# vocab.add_from_file(\"./PhoBERT_large_transformers/dict.txt\")"
      ]
    },
    {
      "cell_type": "code",
      "execution_count": 7,
      "metadata": {},
      "outputs": [],
      "source": [
        "def removeStopWord():\n",
        "   f = open(\"../StopWords/vietnamese-stopwords-dash.txt\", \"r\")\n",
        "   stopWords = f.readlines()\n",
        "   for idx,line  in enumerate(stopWords):\n",
        "      stopWords[idx] = line.replace(\"\\n\", \"\").strip()\n",
        "      if (len(stopWords[idx]) <= 0):\n",
        "         stopWords.pop(idx)\n",
        "   return stopWords\n",
        "\n",
        "stopWords = removeStopWord()"
      ]
    },
    {
      "cell_type": "code",
      "execution_count": 8,
      "metadata": {},
      "outputs": [],
      "source": [
        "def remove_emoji(string):\n",
        "    emoji_pattern = re.compile(\"[\"\n",
        "                               u\"\\U0001F600-\\U0001F64F\"  # emoticons\n",
        "                               u\"\\U0001F300-\\U0001F5FF\"  # symbols & pictographs\n",
        "                               u\"\\U0001F680-\\U0001F6FF\"  # transport & map symbols\n",
        "                               u\"\\U0001F1E0-\\U0001F1FF\"  # flags (iOS)\n",
        "                               u\"\\U00002500-\\U00002BEF\"  # chinese char\n",
        "                               u\"\\U00002702-\\U000027B0\"\n",
        "                               u\"\\U00002702-\\U000027B0\"\n",
        "                               u\"\\U000024C2-\\U0001F251\"\n",
        "                               u\"\\U0001f926-\\U0001f937\"\n",
        "                               u\"\\U00010000-\\U0010ffff\"\n",
        "                               u\"\\u2640-\\u2642\"\n",
        "                               u\"\\u2600-\\u2B55\"\n",
        "                               u\"\\u200d\"\n",
        "                               u\"\\u23cf\"\n",
        "                               u\"\\u23e9\"\n",
        "                               u\"\\u231a\"\n",
        "                               u\"\\ufe0f\"  # dingbats\n",
        "                               u\"\\u3030\"\n",
        "                               \"]+\", flags=re.UNICODE)\n",
        "    return emoji_pattern.sub(r'', string)\n"
      ]
    },
    {
      "cell_type": "code",
      "execution_count": 9,
      "metadata": {},
      "outputs": [],
      "source": [
        "with open('../Emoticon_Dict.p', 'rb') as fp:\n",
        "    Emoticon_Dict = pickle.load(fp)\n",
        "\n",
        "def remove_emoticons(text):\n",
        "    emoticon_pattern = re.compile(\n",
        "        u'(' + u'|'.join(k for k in Emoticon_Dict) + u')')\n",
        "    return emoticon_pattern.sub(r'', text)\n"
      ]
    },
    {
      "cell_type": "code",
      "execution_count": 10,
      "metadata": {},
      "outputs": [],
      "source": [
        "# puncs = string.punctuation + '“”’'\n",
        "# puncs = string.punctuation.replace(\"_\", \"\")"
      ]
    },
    {
      "cell_type": "code",
      "execution_count": 6,
      "metadata": {
        "id": "nr6JR50jrk_1"
      },
      "outputs": [],
      "source": [
        "train_text = train_data['title'].to_list()\n",
        "train_labels = train_data['label'].to_list()\n",
        "# train_text = [re.sub(r'^\\s+|\\s+$', '', str(t)) for t in train_text]\n",
        "# train_text = [str(t).strip() for t in train_text]\n",
        "# train_text = [re.sub(r'\\s\\s+', ' ', str(t)) for t in train_text]\n",
        "# train_text = [re.sub(r'\\n', ' ', str(t)) for t in train_text]\n",
        "# train_text = [re.sub(r'\\d+', '', str(t)) for t in train_text]\n",
        "# train_text = [re.sub(r'http\\S+', '', str(t)) for t in train_text]\n",
        "# train_text = [remove_emoji(str(t)) for t in train_text]\n",
        "# train_text = [remove_emoticons(str(t)) for t in train_text]\n",
        "# train_text = [str(t).translate(str.maketrans('', '', puncs)) for t in train_text]\n",
        "# train_text = [str(t).replace(\"_\", \" \") for t in train_text]\n",
        "# train_text = [str(t).strip() for t in train_text]\n",
        "# train_text = [str(t).lower() for t in train_text]\n",
        "# train_text = [rdrsegmenter.tokenize(t) for t in train_text]\n",
        "# for idx, text in enumerate(train_text):\n",
        "#     for idx2, text2 in enumerate(text):\n",
        "#         for idx3, text3 in enumerate(text2):\n",
        "#             if text3 in stopWords:\n",
        "#                 text2.pop(idx3)\n",
        "#         if len(text2) <= 0:\n",
        "#             text.pop(idx2)\n",
        "#     if len(text) <= 0:\n",
        "#         train_text.pop(idx)\n",
        "#         train_labels.pop(idx)\n",
        "# for idx, text in enumerate(train_text):\n",
        "#     tmp = []\n",
        "#     for idx2, text2 in enumerate(text):\n",
        "#         tmp2 = []\n",
        "#         for idx3, text3 in enumerate(text2):\n",
        "#             # if not text3.startswith(\"'\") and text3 not in string.punctuation:\n",
        "#             #    tmp2.append(\" \"+text3)\n",
        "#             # else:\n",
        "#             #    tmp2.append(text3)\n",
        "#             if text3 not in puncs:\n",
        "#                 tmp2.append(\" \"+text3)\n",
        "#         tmp.append(\"\".join(tmp2).strip())\n",
        "#     train_text[idx] = \" \".join(tmp).strip()\n",
        "# train_text = [re.sub(r'\\s+_\\s+', '_', str(t)) for t in train_text]\n",
        "\n",
        "test_text = test_data['title'].to_list()\n",
        "test_labels = test_data['label'].to_list()\n",
        "# test_text = [re.sub(r'^\\s+|\\s+$', '', str(t)) for t in test_text]\n",
        "# test_text = [str(t).strip() for t in test_text]\n",
        "# test_text = [re.sub(r'\\s\\s+', ' ', str(t)) for t in test_text]\n",
        "# test_text = [re.sub(r'\\n', ' ', str(t)) for t in test_text]\n",
        "# test_text = [re.sub(r'\\d+', '', str(t)) for t in test_text]\n",
        "# test_text = [re.sub(r'http\\S+', '', str(t)) for t in test_text]\n",
        "# test_text = [remove_emoji(str(t)) for t in test_text]\n",
        "# test_text = [remove_emoticons(str(t)) for t in test_text]\n",
        "# test_text = [str(t).translate(str.maketrans('', '', puncs)) for t in test_text]\n",
        "# test_text = [str(t).replace(\"_\", \" \") for t in test_text]\n",
        "# test_text = [str(t).strip() for t in test_text]\n",
        "# test_text = [str(t).lower() for t in test_text]\n",
        "# test_text = [rdrsegmenter.tokenize(t) for t in test_text]\n",
        "# for idx, text in enumerate(test_text):\n",
        "#     for idx2, text2 in enumerate(text):\n",
        "#         for idx3, text3 in enumerate(text2):\n",
        "#             if text3 in stopWords:\n",
        "#                 text2.pop(idx3)\n",
        "#         if len(text2) <= 0:\n",
        "#             text.pop(idx2)\n",
        "#     if len(text) <= 0:\n",
        "#         test_text.pop(idx)\n",
        "#         test_labels.pop(idx)\n",
        "# for idx, text in enumerate(test_text):\n",
        "#     tmp = []\n",
        "#     for idx2, text2 in enumerate(text):\n",
        "#         tmp2 = []\n",
        "#         for idx3, text3 in enumerate(text2):\n",
        "#             # if not text3.startswith(\"'\") and text3 not in string.punctuation:\n",
        "#             #    tmp2.append(\" \"+text3)\n",
        "#             # else:\n",
        "#             #    tmp2.append(text3)\n",
        "#             if text3 not in puncs:\n",
        "#                 tmp2.append(\" \"+text3)\n",
        "#         tmp.append(\"\".join(tmp2).strip())\n",
        "#     test_text[idx] = \" \".join(tmp).strip()\n",
        "# test_text = [re.sub(r'\\s+_\\s+', '_', str(t)) for t in test_text]\n"
      ]
    },
    {
      "cell_type": "code",
      "execution_count": 12,
      "metadata": {
        "id": "u5ChCpOosjbc"
      },
      "outputs": [],
      "source": [
        "# train_path = './train.txt'\n",
        "# test_path = './test.txt'\n",
        "\n",
        "# train_id, train_text, train_labels = [], [], []\n",
        "# test_id, test_text, test_labels = [], [], []\n",
        "\n",
        "# with open(train_path, 'r') as f_r:\n",
        "#     data1 = f_r.read().strip()\n",
        "\n",
        "#     data = re.findall('train_[\\s\\S]+?\\n.*\\n[0-8]\\n\\n', data1)\n",
        "\n",
        "#     for sample in data:\n",
        "#         splits = sample.strip().split('\\n')\n",
        "#         # print(splits)\n",
        "#         id = splits[0]\n",
        "#         label = int(splits[-1])\n",
        "#         # print(label)\n",
        "#         text = ' '.join(splits[1:-1])\n",
        "#         text = rdrsegmenter.tokenize(text)\n",
        "#         text = ' '.join([' '.join(x) for x in text])\n",
        "\n",
        "#         train_id.append(id)\n",
        "#         train_text.append(text)\n",
        "#         train_labels.append(label)\n",
        "\n",
        "\n",
        "# with open(test_path, 'r') as f_r:\n",
        "#     data1 = f_r.read().strip()\n",
        "#     data = re.findall('test_[\\s\\S]+?\\n.*\\n[0-8]\\n\\n', data1)\n",
        "\n",
        "#     for sample in data:\n",
        "#         splits = sample.strip().split('\\n')\n",
        "\n",
        "#         id = splits[0]\n",
        "#         label = int(splits[-1])\n",
        "#         text = ' '.join(splits[1:-1])\n",
        "#         text = rdrsegmenter.tokenize(text)\n",
        "#         text = ' '.join([' '.join(x) for x in text])\n",
        "\n",
        "#         test_id.append(id)\n",
        "#         test_text.append(text)\n",
        "#         test_labels.append(label)\n",
        "\n",
        "# for i in range(len(train_labels)):\n",
        "#   train_labels[i] = train_labels[i] \n",
        "\n",
        "# for i in range(len(test_labels)):\n",
        "#   test_labels[i] = test_labels[i]\n",
        "# print(train_labels)"
      ]
    },
    {
      "cell_type": "code",
      "execution_count": 13,
      "metadata": {
        "id": "Lv5vmnW7slPk"
      },
      "outputs": [],
      "source": [
        "# from sklearn.model_selection import train_test_split\n",
        "\n",
        "# train_sents, val_sents, train_labels, val_labels = train_test_split(train_text, train_labels, test_size=0.1)\n",
        "# print(len(train_labels))\n",
        "# print(len(val_labels))"
      ]
    },
    {
      "cell_type": "code",
      "execution_count": 8,
      "metadata": {},
      "outputs": [],
      "source": [
        "train_sents = train_text\n",
        "train_labels = train_labels\n",
        "val_sents = test_text\n",
        "val_labels = test_labels"
      ]
    },
    {
      "cell_type": "code",
      "execution_count": 9,
      "metadata": {
        "id": "BbLSz7a9snWE"
      },
      "outputs": [],
      "source": [
        "from tensorflow.keras.preprocessing.sequence import pad_sequences\n",
        "MAX_LEN = 30\n",
        "\n",
        "train_ids = []\n",
        "for sent in train_sents:\n",
        "    subwords = '<s> ' + bpe.encode(sent) + ' </s>'\n",
        "    encoded_sent = vocab.encode_line(subwords, append_eos=True, add_if_not_exist=False).long().tolist()\n",
        "    train_ids.append(encoded_sent)\n",
        "\n",
        "val_ids = []\n",
        "for sent in val_sents:\n",
        "    subwords = '<s> ' + bpe.encode(sent) + ' </s>'\n",
        "    encoded_sent = vocab.encode_line(subwords, append_eos=True, add_if_not_exist=False).long().tolist()\n",
        "    val_ids.append(encoded_sent)\n",
        "    \n",
        "train_ids = pad_sequences(train_ids, maxlen=MAX_LEN, dtype=\"long\", value=0, truncating=\"post\", padding=\"post\")\n",
        "# print(train_ids)\n",
        "val_ids = pad_sequences(val_ids, maxlen=MAX_LEN, dtype=\"long\", value=0, truncating=\"post\", padding=\"post\")\n",
        "# print(val_ids)"
      ]
    },
    {
      "cell_type": "code",
      "execution_count": 10,
      "metadata": {
        "id": "oDfWMP72spRL"
      },
      "outputs": [],
      "source": [
        "train_masks = []\n",
        "for sent in train_ids:\n",
        "    mask = [int(token_id > 0) for token_id in sent]\n",
        "    train_masks.append(mask)\n",
        "\n",
        "val_masks = []\n",
        "for sent in val_ids:\n",
        "    mask = [int(token_id > 0) for token_id in sent]\n",
        "\n",
        "    val_masks.append(mask)\n"
      ]
    },
    {
      "cell_type": "code",
      "execution_count": 11,
      "metadata": {
        "id": "4iJ5npuAsrOU"
      },
      "outputs": [],
      "source": [
        "from torch.utils.data import TensorDataset, DataLoader, SequentialSampler\n",
        "import torch\n",
        "# device = torch.device(\"mps\" if torch.has_mps else \"cpu\")\n",
        "device = \"cpu\"\n",
        "train_inputs = torch.tensor(train_ids, device=device)\n",
        "val_inputs = torch.tensor(val_ids, device=device)\n",
        "# print(train_labels)\n",
        "train_labels = torch.tensor(train_labels, device=device)\n",
        "val_labels = torch.tensor(val_labels, device=device)\n",
        "train_masks = torch.tensor(train_masks, device=device)\n",
        "val_masks = torch.tensor(val_masks, device=device)\n",
        "\n",
        "# print(train_labels)\n",
        "train_data = TensorDataset(train_inputs, train_masks, train_labels)\n",
        "# print(train_data)\n",
        "train_sampler = SequentialSampler(train_data)\n",
        "train_dataloader = DataLoader(train_data, sampler=train_sampler, batch_size=64)\n",
        "# print(train_dataloader)\n",
        "val_data = TensorDataset(val_inputs, val_masks, val_labels)\n",
        "val_sampler = SequentialSampler(val_data)\n",
        "val_dataloader = DataLoader(\n",
        "    val_data, sampler=val_sampler, batch_size=64)\n"
      ]
    },
    {
      "cell_type": "code",
      "execution_count": 12,
      "metadata": {
        "id": "LOZy950tss38"
      },
      "outputs": [
        {
          "name": "stderr",
          "output_type": "stream",
          "text": [
            "Some weights of the model checkpoint at ./PhoBERT_base_transformers/model.bin were not used when initializing RobertaForSequenceClassification: ['roberta.encoder.layer.5.attention.self.query.weight', 'roberta.encoder.layer.8.attention.self.query.weight', 'roberta.encoder.layer.4.output.LayerNorm.weight', 'roberta.encoder.layer.5.output.dense.weight', 'roberta.encoder.layer.6.attention.self.value.weight', 'lm_head.dense.bias', 'roberta.encoder.layer.5.attention.self.value.bias', 'roberta.pooler.dense.weight', 'roberta.encoder.layer.9.intermediate.dense.weight', 'lm_head.layer_norm.weight', 'roberta.encoder.layer.11.attention.output.dense.weight', 'roberta.encoder.layer.8.output.LayerNorm.bias', 'roberta.encoder.layer.11.output.LayerNorm.weight', 'roberta.encoder.layer.7.attention.self.query.weight', 'roberta.encoder.layer.9.output.LayerNorm.weight', 'roberta.encoder.layer.11.attention.self.query.bias', 'roberta.encoder.layer.8.output.dense.bias', 'roberta.encoder.layer.9.intermediate.dense.bias', 'roberta.encoder.layer.11.intermediate.dense.bias', 'roberta.encoder.layer.7.attention.self.key.bias', 'roberta.encoder.layer.4.attention.self.value.bias', 'roberta.encoder.layer.11.output.dense.weight', 'roberta.encoder.layer.5.attention.output.LayerNorm.bias', 'roberta.encoder.layer.4.attention.self.key.bias', 'roberta.encoder.layer.6.attention.self.key.bias', 'roberta.encoder.layer.10.attention.self.key.bias', 'roberta.encoder.layer.9.attention.self.query.weight', 'roberta.encoder.layer.6.attention.output.LayerNorm.bias', 'roberta.encoder.layer.4.attention.self.value.weight', 'lm_head.decoder.weight', 'roberta.encoder.layer.7.output.LayerNorm.bias', 'roberta.encoder.layer.8.intermediate.dense.weight', 'roberta.encoder.layer.8.attention.self.value.bias', 'roberta.encoder.layer.8.output.dense.weight', 'roberta.encoder.layer.6.output.dense.bias', 'roberta.encoder.layer.11.output.dense.bias', 'roberta.encoder.layer.9.attention.output.dense.bias', 'roberta.pooler.dense.bias', 'roberta.encoder.layer.10.intermediate.dense.weight', 'lm_head.decoder.bias', 'roberta.encoder.layer.7.output.LayerNorm.weight', 'roberta.encoder.layer.9.output.LayerNorm.bias', 'roberta.encoder.layer.9.attention.output.LayerNorm.bias', 'roberta.encoder.layer.4.intermediate.dense.weight', 'roberta.encoder.layer.6.attention.self.query.weight', 'roberta.encoder.layer.4.attention.self.key.weight', 'roberta.encoder.layer.9.attention.self.query.bias', 'roberta.encoder.layer.4.attention.self.query.weight', 'roberta.encoder.layer.6.attention.output.dense.bias', 'roberta.encoder.layer.8.attention.output.LayerNorm.weight', 'roberta.encoder.layer.6.output.LayerNorm.bias', 'roberta.encoder.layer.5.attention.self.value.weight', 'lm_head.bias', 'roberta.encoder.layer.10.attention.self.query.weight', 'roberta.encoder.layer.10.output.dense.weight', 'roberta.encoder.layer.6.intermediate.dense.weight', 'roberta.encoder.layer.11.attention.self.query.weight', 'roberta.encoder.layer.10.intermediate.dense.bias', 'roberta.encoder.layer.7.attention.output.LayerNorm.bias', 'lm_head.layer_norm.bias', 'roberta.encoder.layer.7.attention.output.dense.weight', 'roberta.encoder.layer.6.attention.output.dense.weight', 'roberta.encoder.layer.9.attention.self.value.bias', 'roberta.encoder.layer.11.attention.self.value.bias', 'roberta.encoder.layer.9.attention.self.key.bias', 'roberta.encoder.layer.10.attention.self.value.weight', 'roberta.encoder.layer.11.attention.output.LayerNorm.weight', 'roberta.encoder.layer.10.attention.output.LayerNorm.weight', 'roberta.encoder.layer.4.attention.self.query.bias', 'roberta.encoder.layer.10.attention.self.query.bias', 'roberta.encoder.layer.10.attention.output.dense.weight', 'roberta.encoder.layer.5.attention.self.key.weight', 'roberta.encoder.layer.10.attention.output.dense.bias', 'roberta.encoder.layer.5.output.dense.bias', 'roberta.encoder.layer.5.output.LayerNorm.bias', 'roberta.encoder.layer.4.attention.output.LayerNorm.weight', 'roberta.encoder.layer.11.attention.self.value.weight', 'roberta.encoder.layer.4.attention.output.dense.weight', 'roberta.encoder.layer.10.attention.self.value.bias', 'roberta.encoder.layer.9.attention.self.key.weight', 'roberta.encoder.layer.6.output.LayerNorm.weight', 'roberta.encoder.layer.7.attention.output.LayerNorm.weight', 'roberta.encoder.layer.8.attention.output.dense.weight', 'roberta.encoder.layer.10.attention.output.LayerNorm.bias', 'roberta.encoder.layer.6.output.dense.weight', 'roberta.encoder.layer.10.attention.self.key.weight', 'roberta.encoder.layer.4.output.dense.weight', 'roberta.encoder.layer.6.attention.output.LayerNorm.weight', 'roberta.encoder.layer.4.attention.output.LayerNorm.bias', 'roberta.encoder.layer.7.attention.self.value.weight', 'roberta.encoder.layer.8.attention.output.dense.bias', 'roberta.encoder.layer.11.attention.output.dense.bias', 'roberta.encoder.layer.11.intermediate.dense.weight', 'roberta.encoder.layer.9.attention.self.value.weight', 'roberta.encoder.layer.7.attention.self.query.bias', 'roberta.encoder.layer.6.attention.self.value.bias', 'roberta.encoder.layer.7.output.dense.bias', 'roberta.encoder.layer.7.attention.self.key.weight', 'roberta.encoder.layer.10.output.dense.bias', 'roberta.encoder.layer.5.attention.self.query.bias', 'roberta.encoder.layer.5.intermediate.dense.bias', 'roberta.encoder.layer.7.output.dense.weight', 'roberta.encoder.layer.4.output.dense.bias', 'roberta.encoder.layer.5.attention.output.dense.weight', 'roberta.encoder.layer.4.attention.output.dense.bias', 'roberta.encoder.layer.4.output.LayerNorm.bias', 'roberta.encoder.layer.8.attention.self.key.weight', 'roberta.encoder.layer.11.attention.self.key.weight', 'roberta.encoder.layer.10.output.LayerNorm.weight', 'roberta.encoder.layer.4.intermediate.dense.bias', 'roberta.encoder.layer.11.attention.self.key.bias', 'roberta.encoder.layer.11.output.LayerNorm.bias', 'roberta.encoder.layer.7.intermediate.dense.weight', 'roberta.encoder.layer.8.attention.self.key.bias', 'roberta.encoder.layer.8.intermediate.dense.bias', 'roberta.encoder.layer.8.output.LayerNorm.weight', 'roberta.encoder.layer.5.attention.self.key.bias', 'roberta.encoder.layer.5.output.LayerNorm.weight', 'roberta.encoder.layer.11.attention.output.LayerNorm.bias', 'roberta.encoder.layer.9.output.dense.weight', 'roberta.encoder.layer.7.intermediate.dense.bias', 'roberta.encoder.layer.5.attention.output.dense.bias', 'roberta.encoder.layer.8.attention.self.query.bias', 'roberta.encoder.layer.9.attention.output.LayerNorm.weight', 'roberta.encoder.layer.7.attention.output.dense.bias', 'roberta.encoder.layer.8.attention.output.LayerNorm.bias', 'roberta.encoder.layer.9.output.dense.bias', 'roberta.encoder.layer.8.attention.self.value.weight', 'roberta.encoder.layer.9.attention.output.dense.weight', 'roberta.encoder.layer.10.output.LayerNorm.bias', 'roberta.encoder.layer.5.attention.output.LayerNorm.weight', 'roberta.encoder.layer.6.attention.self.key.weight', 'roberta.encoder.layer.5.intermediate.dense.weight', 'roberta.encoder.layer.6.intermediate.dense.bias', 'roberta.encoder.layer.6.attention.self.query.bias', 'lm_head.dense.weight', 'roberta.encoder.layer.7.attention.self.value.bias']\n",
            "- This IS expected if you are initializing RobertaForSequenceClassification from the checkpoint of a model trained on another task or with another architecture (e.g. initializing a BertForSequenceClassification model from a BertForPreTraining model).\n",
            "- This IS NOT expected if you are initializing RobertaForSequenceClassification from the checkpoint of a model that you expect to be exactly identical (initializing a BertForSequenceClassification model from a BertForSequenceClassification model).\n",
            "Some weights of RobertaForSequenceClassification were not initialized from the model checkpoint at ./PhoBERT_base_transformers/model.bin and are newly initialized: ['classifier.dense.bias', 'classifier.dense.weight', 'classifier.out_proj.weight', 'classifier.out_proj.bias']\n",
            "You should probably TRAIN this model on a down-stream task to be able to use it for predictions and inference.\n"
          ]
        }
      ],
      "source": [
        "from transformers import RobertaForSequenceClassification, RobertaConfig, AdamW\n",
        "\n",
        "config = RobertaConfig.from_pretrained(\n",
        "    \"./configs/base/config.json\"\n",
        "    # \"./PhoBERT_large_transformers/config.json\"\n",
        "    , from_tf=False, num_labels = 6, output_hidden_states=False\n",
        ")\n",
        "BERT_SA = RobertaForSequenceClassification.from_pretrained(\n",
        "    \"./PhoBERT_base_transformers/model.bin\",\n",
        "    # \"./PhoBERT_large_transformers/model.bin\",\n",
        "    config = config\n",
        ")"
      ]
    },
    {
      "cell_type": "code",
      "execution_count": 19,
      "metadata": {
        "colab": {
          "base_uri": "https://localhost:8080/"
        },
        "id": "sbSGO1D-suhs",
        "outputId": "37780e7b-568e-4b18-ea19-3c98981ae75b"
      },
      "outputs": [
        {
          "name": "stdout",
          "output_type": "stream",
          "text": [
            "True\n",
            "True\n"
          ]
        }
      ],
      "source": [
        "# BERT_SA.cuda()\n",
        "# print('Done')\n",
        "print(torch.backends.mps.is_available())\n",
        "print(torch.backends.mps.is_built())\n"
      ]
    },
    {
      "cell_type": "code",
      "execution_count": 13,
      "metadata": {
        "id": "zxoOmF91swPM"
      },
      "outputs": [],
      "source": [
        "import numpy as np\n",
        "from sklearn.metrics import f1_score, accuracy_score\n",
        "\n",
        "def flat_accuracy(preds, labels):\n",
        "    pred_flat = np.argmax(preds, axis=1).flatten()\n",
        "    labels_flat = labels.flatten()\n",
        "    \n",
        "    F1_score = f1_score(pred_flat, labels_flat, average='macro')\n",
        "    \n",
        "    return accuracy_score(pred_flat, labels_flat), F1_score"
      ]
    },
    {
      "cell_type": "code",
      "execution_count": 14,
      "metadata": {},
      "outputs": [
        {
          "name": "stdout",
          "output_type": "stream",
          "text": [
            "104\n",
            "9\n"
          ]
        }
      ],
      "source": [
        "print(len(train_dataloader))\n",
        "print(len(val_dataloader))"
      ]
    },
    {
      "cell_type": "code",
      "execution_count": 15,
      "metadata": {
        "id": "jai8BmMxsyyU"
      },
      "outputs": [
        {
          "name": "stdout",
          "output_type": "stream",
          "text": [
            "======== Epoch 1 / 500 ========\n",
            "Training...\n"
          ]
        },
        {
          "name": "stderr",
          "output_type": "stream",
          "text": [
            "/Users/maddie/Desktop/DATN/HoangPhiLong/Code/env/lib/python3.8/site-packages/transformers/optimization.py:306: FutureWarning: This implementation of AdamW is deprecated and will be removed in a future version. Use the PyTorch implementation torch.optim.AdamW instead, or set `no_deprecation_warning=True` to disable this warning\n",
            "  warnings.warn(\n"
          ]
        },
        {
          "data": {
            "application/vnd.jupyter.widget-view+json": {
              "model_id": "3ffaa669bec44ccd9a8444c65eafe721",
              "version_major": 2,
              "version_minor": 0
            },
            "text/plain": [
              "  0%|          | 0/104 [00:00<?, ?it/s]"
            ]
          },
          "metadata": {},
          "output_type": "display_data"
        },
        {
          "name": "stdout",
          "output_type": "stream",
          "text": [
            " Accuracy: 0.2489\n",
            " F1 score: 0.1291\n",
            " Average training loss: 1.7466\n",
            "Running Validation...\n"
          ]
        },
        {
          "data": {
            "application/vnd.jupyter.widget-view+json": {
              "model_id": "90635343648442cebd97f74450b18fc5",
              "version_major": 2,
              "version_minor": 0
            },
            "text/plain": [
              "  0%|          | 0/9 [00:00<?, ?it/s]"
            ]
          },
          "metadata": {},
          "output_type": "display_data"
        },
        {
          "name": "stdout",
          "output_type": "stream",
          "text": [
            "logits:    [1 1 1 1 1 1 1 1 1 1 1 1 1 1 1 1 1 1 1 1 1 1 2 2 1 2]\n",
            "labels_id: [1 4 2 4 2 1 4 2 3 3 4 3 1 3 0 0 0 5 5 2 4 1 3 2 1 5]\n",
            " Accuracy: 0.1958\n",
            " F1 score: 0.0962\n",
            "======== Epoch 2 / 500 ========\n",
            "Training...\n"
          ]
        },
        {
          "data": {
            "application/vnd.jupyter.widget-view+json": {
              "model_id": "375289aa42d04c6592d20be5028452a5",
              "version_major": 2,
              "version_minor": 0
            },
            "text/plain": [
              "  0%|          | 0/104 [00:00<?, ?it/s]"
            ]
          },
          "metadata": {},
          "output_type": "display_data"
        },
        {
          "name": "stdout",
          "output_type": "stream",
          "text": [
            " Accuracy: 0.2781\n",
            " F1 score: 0.1460\n",
            " Average training loss: 1.6989\n",
            "Running Validation...\n"
          ]
        },
        {
          "data": {
            "application/vnd.jupyter.widget-view+json": {
              "model_id": "bd5cbfe7c4d54908834accbcf4b0742c",
              "version_major": 2,
              "version_minor": 0
            },
            "text/plain": [
              "  0%|          | 0/9 [00:00<?, ?it/s]"
            ]
          },
          "metadata": {},
          "output_type": "display_data"
        },
        {
          "name": "stdout",
          "output_type": "stream",
          "text": [
            "logits:    [1 1 1 1 1 1 1 1 1 1 1 1 1 1 1 1 1 1 1 1 1 1 5 5 1 5]\n",
            "labels_id: [1 4 2 4 2 1 4 2 3 3 4 3 1 3 0 0 0 5 5 2 4 1 3 2 1 5]\n",
            " Accuracy: 0.2010\n",
            " F1 score: 0.0999\n",
            "======== Epoch 3 / 500 ========\n",
            "Training...\n"
          ]
        },
        {
          "data": {
            "application/vnd.jupyter.widget-view+json": {
              "model_id": "cf02657582a44939a39a00be267c445e",
              "version_major": 2,
              "version_minor": 0
            },
            "text/plain": [
              "  0%|          | 0/104 [00:00<?, ?it/s]"
            ]
          },
          "metadata": {},
          "output_type": "display_data"
        },
        {
          "name": "stdout",
          "output_type": "stream",
          "text": [
            " Accuracy: 0.2964\n",
            " F1 score: 0.1606\n",
            " Average training loss: 1.6734\n",
            "Running Validation...\n"
          ]
        },
        {
          "data": {
            "application/vnd.jupyter.widget-view+json": {
              "model_id": "72cecc09d95d4b358d00044c8b04af04",
              "version_major": 2,
              "version_minor": 0
            },
            "text/plain": [
              "  0%|          | 0/9 [00:00<?, ?it/s]"
            ]
          },
          "metadata": {},
          "output_type": "display_data"
        },
        {
          "name": "stdout",
          "output_type": "stream",
          "text": [
            "logits:    [1 1 1 1 1 1 1 1 1 1 1 1 1 1 1 1 1 1 1 1 1 1 5 5 1 5]\n",
            "labels_id: [1 4 2 4 2 1 4 2 3 3 4 3 1 3 0 0 0 5 5 2 4 1 3 2 1 5]\n",
            " Accuracy: 0.2045\n",
            " F1 score: 0.1031\n",
            "======== Epoch 4 / 500 ========\n",
            "Training...\n"
          ]
        },
        {
          "data": {
            "application/vnd.jupyter.widget-view+json": {
              "model_id": "3c987fbcc11c46a58093ef1a3ec321d5",
              "version_major": 2,
              "version_minor": 0
            },
            "text/plain": [
              "  0%|          | 0/104 [00:00<?, ?it/s]"
            ]
          },
          "metadata": {},
          "output_type": "display_data"
        },
        {
          "name": "stdout",
          "output_type": "stream",
          "text": [
            " Accuracy: 0.2810\n",
            " F1 score: 0.1514\n",
            " Average training loss: 1.6615\n",
            "Running Validation...\n"
          ]
        },
        {
          "data": {
            "application/vnd.jupyter.widget-view+json": {
              "model_id": "0c1bd9ae12d54f31bd6340cc5a58cc1d",
              "version_major": 2,
              "version_minor": 0
            },
            "text/plain": [
              "  0%|          | 0/9 [00:00<?, ?it/s]"
            ]
          },
          "metadata": {},
          "output_type": "display_data"
        },
        {
          "name": "stdout",
          "output_type": "stream",
          "text": [
            "logits:    [1 1 1 1 1 1 1 1 1 1 1 1 1 1 1 1 1 1 1 1 1 1 5 5 1 5]\n",
            "labels_id: [1 4 2 4 2 1 4 2 3 3 4 3 1 3 0 0 0 5 5 2 4 1 3 2 1 5]\n",
            " Accuracy: 0.2079\n",
            " F1 score: 0.1125\n",
            "======== Epoch 5 / 500 ========\n",
            "Training...\n"
          ]
        },
        {
          "data": {
            "application/vnd.jupyter.widget-view+json": {
              "model_id": "0ad117bb44ea435eacae6e6c4b740568",
              "version_major": 2,
              "version_minor": 0
            },
            "text/plain": [
              "  0%|          | 0/104 [00:00<?, ?it/s]"
            ]
          },
          "metadata": {},
          "output_type": "display_data"
        },
        {
          "name": "stdout",
          "output_type": "stream",
          "text": [
            " Accuracy: 0.2867\n",
            " F1 score: 0.1559\n",
            " Average training loss: 1.6509\n",
            "Running Validation...\n"
          ]
        },
        {
          "data": {
            "application/vnd.jupyter.widget-view+json": {
              "model_id": "556b4260f6d045cf80e04ac548a0f1dd",
              "version_major": 2,
              "version_minor": 0
            },
            "text/plain": [
              "  0%|          | 0/9 [00:00<?, ?it/s]"
            ]
          },
          "metadata": {},
          "output_type": "display_data"
        },
        {
          "name": "stdout",
          "output_type": "stream",
          "text": [
            "logits:    [1 1 1 1 1 1 1 1 1 1 1 1 1 1 1 1 1 1 1 1 1 1 5 5 1 2]\n",
            "labels_id: [1 4 2 4 2 1 4 2 3 3 4 3 1 3 0 0 0 5 5 2 4 1 3 2 1 5]\n",
            " Accuracy: 0.2054\n",
            " F1 score: 0.1073\n",
            "======== Epoch 6 / 500 ========\n",
            "Training...\n"
          ]
        },
        {
          "data": {
            "application/vnd.jupyter.widget-view+json": {
              "model_id": "b15530f9e23040c9ae90f3137ee8a4d6",
              "version_major": 2,
              "version_minor": 0
            },
            "text/plain": [
              "  0%|          | 0/104 [00:00<?, ?it/s]"
            ]
          },
          "metadata": {},
          "output_type": "display_data"
        },
        {
          "name": "stdout",
          "output_type": "stream",
          "text": [
            " Accuracy: 0.2915\n",
            " F1 score: 0.1593\n",
            " Average training loss: 1.6432\n",
            "Running Validation...\n"
          ]
        },
        {
          "data": {
            "application/vnd.jupyter.widget-view+json": {
              "model_id": "9031fba3b536495592c26076183b89e3",
              "version_major": 2,
              "version_minor": 0
            },
            "text/plain": [
              "  0%|          | 0/9 [00:00<?, ?it/s]"
            ]
          },
          "metadata": {},
          "output_type": "display_data"
        },
        {
          "name": "stdout",
          "output_type": "stream",
          "text": [
            "logits:    [1 1 1 1 1 1 1 1 1 1 1 1 1 1 1 1 1 1 1 1 1 1 5 2 1 2]\n",
            "labels_id: [1 4 2 4 2 1 4 2 3 3 4 3 1 3 0 0 0 5 5 2 4 1 3 2 1 5]\n",
            " Accuracy: 0.2097\n",
            " F1 score: 0.1132\n",
            "======== Epoch 7 / 500 ========\n",
            "Training...\n"
          ]
        },
        {
          "data": {
            "application/vnd.jupyter.widget-view+json": {
              "model_id": "250d2f0b276441a4b4191b376977f83f",
              "version_major": 2,
              "version_minor": 0
            },
            "text/plain": [
              "  0%|          | 0/104 [00:00<?, ?it/s]"
            ]
          },
          "metadata": {},
          "output_type": "display_data"
        },
        {
          "name": "stdout",
          "output_type": "stream",
          "text": [
            " Accuracy: 0.2975\n",
            " F1 score: 0.1633\n",
            " Average training loss: 1.6353\n",
            "Running Validation...\n"
          ]
        },
        {
          "data": {
            "application/vnd.jupyter.widget-view+json": {
              "model_id": "9be7c94afc4c433da626c6b67e16aaf0",
              "version_major": 2,
              "version_minor": 0
            },
            "text/plain": [
              "  0%|          | 0/9 [00:00<?, ?it/s]"
            ]
          },
          "metadata": {},
          "output_type": "display_data"
        },
        {
          "name": "stdout",
          "output_type": "stream",
          "text": [
            "logits:    [1 1 1 1 1 1 1 1 1 1 1 1 1 1 1 1 1 1 1 1 1 1 2 2 1 2]\n",
            "labels_id: [1 4 2 4 2 1 4 2 3 3 4 3 1 3 0 0 0 5 5 2 4 1 3 2 1 5]\n",
            " Accuracy: 0.2062\n",
            " F1 score: 0.1101\n",
            "======== Epoch 8 / 500 ========\n",
            "Training...\n"
          ]
        },
        {
          "data": {
            "application/vnd.jupyter.widget-view+json": {
              "model_id": "8f719b6b44ad417ea5c09a0973773e71",
              "version_major": 2,
              "version_minor": 0
            },
            "text/plain": [
              "  0%|          | 0/104 [00:00<?, ?it/s]"
            ]
          },
          "metadata": {},
          "output_type": "display_data"
        },
        {
          "name": "stdout",
          "output_type": "stream",
          "text": [
            " Accuracy: 0.2968\n",
            " F1 score: 0.1636\n",
            " Average training loss: 1.6315\n",
            "Running Validation...\n"
          ]
        },
        {
          "data": {
            "application/vnd.jupyter.widget-view+json": {
              "model_id": "602a56220e4f4836a23bafc14205edb2",
              "version_major": 2,
              "version_minor": 0
            },
            "text/plain": [
              "  0%|          | 0/9 [00:00<?, ?it/s]"
            ]
          },
          "metadata": {},
          "output_type": "display_data"
        },
        {
          "name": "stdout",
          "output_type": "stream",
          "text": [
            "logits:    [1 1 1 1 1 1 1 1 1 1 1 1 1 1 1 1 1 1 1 1 1 1 2 2 1 2]\n",
            "labels_id: [1 4 2 4 2 1 4 2 3 3 4 3 1 3 0 0 0 5 5 2 4 1 3 2 1 5]\n",
            " Accuracy: 0.2062\n",
            " F1 score: 0.1106\n",
            "======== Epoch 9 / 500 ========\n",
            "Training...\n"
          ]
        },
        {
          "data": {
            "application/vnd.jupyter.widget-view+json": {
              "model_id": "0d7cbc6133a049b7b6173226ccd67a8d",
              "version_major": 2,
              "version_minor": 0
            },
            "text/plain": [
              "  0%|          | 0/104 [00:00<?, ?it/s]"
            ]
          },
          "metadata": {},
          "output_type": "display_data"
        },
        {
          "name": "stdout",
          "output_type": "stream",
          "text": [
            " Accuracy: 0.2958\n",
            " F1 score: 0.1628\n",
            " Average training loss: 1.6280\n",
            "Running Validation...\n"
          ]
        },
        {
          "data": {
            "application/vnd.jupyter.widget-view+json": {
              "model_id": "f12a746247294ff99c1d0d64de8811e1",
              "version_major": 2,
              "version_minor": 0
            },
            "text/plain": [
              "  0%|          | 0/9 [00:00<?, ?it/s]"
            ]
          },
          "metadata": {},
          "output_type": "display_data"
        },
        {
          "name": "stdout",
          "output_type": "stream",
          "text": [
            "logits:    [1 1 1 1 1 1 1 1 1 1 1 1 1 1 1 1 1 1 1 1 1 1 2 2 1 2]\n",
            "labels_id: [1 4 2 4 2 1 4 2 3 3 4 3 1 3 0 0 0 5 5 2 4 1 3 2 1 5]\n",
            " Accuracy: 0.2097\n",
            " F1 score: 0.1133\n",
            "======== Epoch 10 / 500 ========\n",
            "Training...\n"
          ]
        },
        {
          "data": {
            "application/vnd.jupyter.widget-view+json": {
              "model_id": "4ca82b61e86a4275b9c79bccc736f02d",
              "version_major": 2,
              "version_minor": 0
            },
            "text/plain": [
              "  0%|          | 0/104 [00:00<?, ?it/s]"
            ]
          },
          "metadata": {},
          "output_type": "display_data"
        },
        {
          "name": "stdout",
          "output_type": "stream",
          "text": [
            " Accuracy: 0.3013\n",
            " F1 score: 0.1644\n",
            " Average training loss: 1.6222\n",
            "Running Validation...\n"
          ]
        },
        {
          "data": {
            "application/vnd.jupyter.widget-view+json": {
              "model_id": "8274819400e54ead8a1e4ccaac2d2469",
              "version_major": 2,
              "version_minor": 0
            },
            "text/plain": [
              "  0%|          | 0/9 [00:00<?, ?it/s]"
            ]
          },
          "metadata": {},
          "output_type": "display_data"
        },
        {
          "name": "stdout",
          "output_type": "stream",
          "text": [
            "logits:    [1 1 1 1 1 1 1 1 1 1 1 1 1 1 1 1 1 1 1 1 1 1 2 2 1 2]\n",
            "labels_id: [1 4 2 4 2 1 4 2 3 3 4 3 1 3 0 0 0 5 5 2 4 1 3 2 1 5]\n",
            " Accuracy: 0.2131\n",
            " F1 score: 0.1172\n",
            "======== Epoch 11 / 500 ========\n",
            "Training...\n"
          ]
        },
        {
          "data": {
            "application/vnd.jupyter.widget-view+json": {
              "model_id": "ece8882d046541e58cf3965ac973c5eb",
              "version_major": 2,
              "version_minor": 0
            },
            "text/plain": [
              "  0%|          | 0/104 [00:00<?, ?it/s]"
            ]
          },
          "metadata": {},
          "output_type": "display_data"
        },
        {
          "name": "stdout",
          "output_type": "stream",
          "text": [
            " Accuracy: 0.2933\n",
            " F1 score: 0.1600\n",
            " Average training loss: 1.6197\n",
            "Running Validation...\n"
          ]
        },
        {
          "data": {
            "application/vnd.jupyter.widget-view+json": {
              "model_id": "a71159f6773a4ccc82ba31a15dfa3b20",
              "version_major": 2,
              "version_minor": 0
            },
            "text/plain": [
              "  0%|          | 0/9 [00:00<?, ?it/s]"
            ]
          },
          "metadata": {},
          "output_type": "display_data"
        },
        {
          "name": "stdout",
          "output_type": "stream",
          "text": [
            "logits:    [1 1 1 1 1 1 1 1 1 1 1 1 1 1 1 1 1 1 1 1 1 1 2 2 1 2]\n",
            "labels_id: [1 4 2 4 2 1 4 2 3 3 4 3 1 3 0 0 0 5 5 2 4 1 3 2 1 5]\n",
            " Accuracy: 0.2131\n",
            " F1 score: 0.1169\n",
            "======== Epoch 12 / 500 ========\n",
            "Training...\n"
          ]
        },
        {
          "data": {
            "application/vnd.jupyter.widget-view+json": {
              "model_id": "0a66b4271ab44b2d926ada55878d7ad5",
              "version_major": 2,
              "version_minor": 0
            },
            "text/plain": [
              "  0%|          | 0/104 [00:00<?, ?it/s]"
            ]
          },
          "metadata": {},
          "output_type": "display_data"
        },
        {
          "name": "stdout",
          "output_type": "stream",
          "text": [
            " Accuracy: 0.3073\n",
            " F1 score: 0.1706\n",
            " Average training loss: 1.6178\n",
            "Running Validation...\n"
          ]
        },
        {
          "data": {
            "application/vnd.jupyter.widget-view+json": {
              "model_id": "e0100b6263494c62a6394ebfe75c0852",
              "version_major": 2,
              "version_minor": 0
            },
            "text/plain": [
              "  0%|          | 0/9 [00:00<?, ?it/s]"
            ]
          },
          "metadata": {},
          "output_type": "display_data"
        },
        {
          "name": "stdout",
          "output_type": "stream",
          "text": [
            "logits:    [1 1 1 1 1 1 1 1 1 1 1 1 1 1 1 1 1 1 1 1 5 1 2 2 1 2]\n",
            "labels_id: [1 4 2 4 2 1 4 2 3 3 4 3 1 3 0 0 0 5 5 2 4 1 3 2 1 5]\n",
            " Accuracy: 0.2114\n",
            " F1 score: 0.1164\n",
            "======== Epoch 13 / 500 ========\n",
            "Training...\n"
          ]
        },
        {
          "data": {
            "application/vnd.jupyter.widget-view+json": {
              "model_id": "95735a38a72145f0ab47c42c96f555e9",
              "version_major": 2,
              "version_minor": 0
            },
            "text/plain": [
              "  0%|          | 0/104 [00:00<?, ?it/s]"
            ]
          },
          "metadata": {},
          "output_type": "display_data"
        },
        {
          "name": "stdout",
          "output_type": "stream",
          "text": [
            " Accuracy: 0.3064\n",
            " F1 score: 0.1677\n",
            " Average training loss: 1.6121\n",
            "Running Validation...\n"
          ]
        },
        {
          "data": {
            "application/vnd.jupyter.widget-view+json": {
              "model_id": "74913d51390c432a98ed3d98aff03f07",
              "version_major": 2,
              "version_minor": 0
            },
            "text/plain": [
              "  0%|          | 0/9 [00:00<?, ?it/s]"
            ]
          },
          "metadata": {},
          "output_type": "display_data"
        },
        {
          "name": "stdout",
          "output_type": "stream",
          "text": [
            "logits:    [1 1 1 1 1 1 1 1 1 1 1 1 1 1 1 1 1 1 1 1 5 1 2 2 1 2]\n",
            "labels_id: [1 4 2 4 2 1 4 2 3 3 4 3 1 3 0 0 0 5 5 2 4 1 3 2 1 5]\n",
            " Accuracy: 0.2097\n",
            " F1 score: 0.1148\n",
            "======== Epoch 14 / 500 ========\n",
            "Training...\n"
          ]
        },
        {
          "data": {
            "application/vnd.jupyter.widget-view+json": {
              "model_id": "a48f7261d715404cafbfbdd272ca9e7f",
              "version_major": 2,
              "version_minor": 0
            },
            "text/plain": [
              "  0%|          | 0/104 [00:00<?, ?it/s]"
            ]
          },
          "metadata": {},
          "output_type": "display_data"
        },
        {
          "name": "stdout",
          "output_type": "stream",
          "text": [
            " Accuracy: 0.2966\n",
            " F1 score: 0.1640\n",
            " Average training loss: 1.6125\n",
            "Running Validation...\n"
          ]
        },
        {
          "data": {
            "application/vnd.jupyter.widget-view+json": {
              "model_id": "a3c5993a8a844c1999adf0a8b4149043",
              "version_major": 2,
              "version_minor": 0
            },
            "text/plain": [
              "  0%|          | 0/9 [00:00<?, ?it/s]"
            ]
          },
          "metadata": {},
          "output_type": "display_data"
        },
        {
          "name": "stdout",
          "output_type": "stream",
          "text": [
            "logits:    [1 1 1 1 1 1 1 1 1 1 1 1 1 1 1 1 1 1 1 1 1 1 2 2 1 2]\n",
            "labels_id: [1 4 2 4 2 1 4 2 3 3 4 3 1 3 0 0 0 5 5 2 4 1 3 2 1 5]\n",
            " Accuracy: 0.2062\n",
            " F1 score: 0.1118\n",
            "======== Epoch 15 / 500 ========\n",
            "Training...\n"
          ]
        },
        {
          "data": {
            "application/vnd.jupyter.widget-view+json": {
              "model_id": "588935998cbd4529aa02b0fbb4364037",
              "version_major": 2,
              "version_minor": 0
            },
            "text/plain": [
              "  0%|          | 0/104 [00:00<?, ?it/s]"
            ]
          },
          "metadata": {},
          "output_type": "display_data"
        },
        {
          "name": "stdout",
          "output_type": "stream",
          "text": [
            " Accuracy: 0.3110\n",
            " F1 score: 0.1716\n",
            " Average training loss: 1.6063\n",
            "Running Validation...\n"
          ]
        },
        {
          "data": {
            "application/vnd.jupyter.widget-view+json": {
              "model_id": "6ea796f229884232baafb63cda7a2c24",
              "version_major": 2,
              "version_minor": 0
            },
            "text/plain": [
              "  0%|          | 0/9 [00:00<?, ?it/s]"
            ]
          },
          "metadata": {},
          "output_type": "display_data"
        },
        {
          "name": "stdout",
          "output_type": "stream",
          "text": [
            "logits:    [1 1 1 1 1 1 1 1 1 1 1 1 1 1 1 1 1 1 1 1 1 1 2 2 1 2]\n",
            "labels_id: [1 4 2 4 2 1 4 2 3 3 4 3 1 3 0 0 0 5 5 2 4 1 3 2 1 5]\n",
            " Accuracy: 0.2114\n",
            " F1 score: 0.1176\n",
            "======== Epoch 16 / 500 ========\n",
            "Training...\n"
          ]
        },
        {
          "data": {
            "application/vnd.jupyter.widget-view+json": {
              "model_id": "cc3d333c760d44579b2ca07054af2a4d",
              "version_major": 2,
              "version_minor": 0
            },
            "text/plain": [
              "  0%|          | 0/104 [00:00<?, ?it/s]"
            ]
          },
          "metadata": {},
          "output_type": "display_data"
        },
        {
          "name": "stdout",
          "output_type": "stream",
          "text": [
            " Accuracy: 0.2967\n",
            " F1 score: 0.1634\n",
            " Average training loss: 1.6049\n",
            "Running Validation...\n"
          ]
        },
        {
          "data": {
            "application/vnd.jupyter.widget-view+json": {
              "model_id": "25f29a561f4e40a49b42f976369cd784",
              "version_major": 2,
              "version_minor": 0
            },
            "text/plain": [
              "  0%|          | 0/9 [00:00<?, ?it/s]"
            ]
          },
          "metadata": {},
          "output_type": "display_data"
        },
        {
          "name": "stdout",
          "output_type": "stream",
          "text": [
            "logits:    [1 1 1 1 1 1 1 1 1 1 1 1 1 1 1 1 1 1 1 1 1 1 2 2 1 2]\n",
            "labels_id: [1 4 2 4 2 1 4 2 3 3 4 3 1 3 0 0 0 5 5 2 4 1 3 2 1 5]\n",
            " Accuracy: 0.2131\n",
            " F1 score: 0.1205\n",
            "======== Epoch 17 / 500 ========\n",
            "Training...\n"
          ]
        },
        {
          "data": {
            "application/vnd.jupyter.widget-view+json": {
              "model_id": "2db7f7d69c494514b6fbe868fae97e29",
              "version_major": 2,
              "version_minor": 0
            },
            "text/plain": [
              "  0%|          | 0/104 [00:00<?, ?it/s]"
            ]
          },
          "metadata": {},
          "output_type": "display_data"
        },
        {
          "name": "stdout",
          "output_type": "stream",
          "text": [
            " Accuracy: 0.3038\n",
            " F1 score: 0.1706\n",
            " Average training loss: 1.6031\n",
            "Running Validation...\n"
          ]
        },
        {
          "data": {
            "application/vnd.jupyter.widget-view+json": {
              "model_id": "02bd8bffcf7b441e9cd502ceb6624f76",
              "version_major": 2,
              "version_minor": 0
            },
            "text/plain": [
              "  0%|          | 0/9 [00:00<?, ?it/s]"
            ]
          },
          "metadata": {},
          "output_type": "display_data"
        },
        {
          "name": "stdout",
          "output_type": "stream",
          "text": [
            "logits:    [1 1 1 1 1 1 1 1 1 1 1 1 1 1 1 1 1 1 1 1 1 1 2 2 1 2]\n",
            "labels_id: [1 4 2 4 2 1 4 2 3 3 4 3 1 3 0 0 0 5 5 2 4 1 3 2 1 5]\n",
            " Accuracy: 0.2218\n",
            " F1 score: 0.1316\n",
            "======== Epoch 18 / 500 ========\n",
            "Training...\n"
          ]
        },
        {
          "data": {
            "application/vnd.jupyter.widget-view+json": {
              "model_id": "76c43826acda4112af311e249055bb41",
              "version_major": 2,
              "version_minor": 0
            },
            "text/plain": [
              "  0%|          | 0/104 [00:00<?, ?it/s]"
            ]
          },
          "metadata": {},
          "output_type": "display_data"
        },
        {
          "name": "stdout",
          "output_type": "stream",
          "text": [
            " Accuracy: 0.3136\n",
            " F1 score: 0.1791\n",
            " Average training loss: 1.5997\n",
            "Running Validation...\n"
          ]
        },
        {
          "data": {
            "application/vnd.jupyter.widget-view+json": {
              "model_id": "fc3816d4b51142068d362666f65a58e1",
              "version_major": 2,
              "version_minor": 0
            },
            "text/plain": [
              "  0%|          | 0/9 [00:00<?, ?it/s]"
            ]
          },
          "metadata": {},
          "output_type": "display_data"
        },
        {
          "name": "stdout",
          "output_type": "stream",
          "text": [
            "logits:    [1 1 1 1 1 1 1 1 1 1 1 1 1 1 1 1 1 1 1 1 1 1 2 2 1 2]\n",
            "labels_id: [1 4 2 4 2 1 4 2 3 3 4 3 1 3 0 0 0 5 5 2 4 1 3 2 1 5]\n",
            " Accuracy: 0.2218\n",
            " F1 score: 0.1335\n",
            "======== Epoch 19 / 500 ========\n",
            "Training...\n"
          ]
        },
        {
          "data": {
            "application/vnd.jupyter.widget-view+json": {
              "model_id": "f3c908cb12b84930a3f13eec2ce1f47a",
              "version_major": 2,
              "version_minor": 0
            },
            "text/plain": [
              "  0%|          | 0/104 [00:00<?, ?it/s]"
            ]
          },
          "metadata": {},
          "output_type": "display_data"
        },
        {
          "name": "stdout",
          "output_type": "stream",
          "text": [
            " Accuracy: 0.3085\n",
            " F1 score: 0.1735\n",
            " Average training loss: 1.5960\n",
            "Running Validation...\n"
          ]
        },
        {
          "data": {
            "application/vnd.jupyter.widget-view+json": {
              "model_id": "fd23505948534807b24b2c20b9d67895",
              "version_major": 2,
              "version_minor": 0
            },
            "text/plain": [
              "  0%|          | 0/9 [00:00<?, ?it/s]"
            ]
          },
          "metadata": {},
          "output_type": "display_data"
        },
        {
          "name": "stdout",
          "output_type": "stream",
          "text": [
            "logits:    [1 1 1 1 1 1 1 1 1 1 1 1 1 1 1 1 1 1 1 1 0 1 2 2 1 2]\n",
            "labels_id: [1 4 2 4 2 1 4 2 3 3 4 3 1 3 0 0 0 5 5 2 4 1 3 2 1 5]\n",
            " Accuracy: 0.2201\n",
            " F1 score: 0.1386\n",
            "======== Epoch 20 / 500 ========\n",
            "Training...\n"
          ]
        },
        {
          "data": {
            "application/vnd.jupyter.widget-view+json": {
              "model_id": "014de58ed22e443098a44ca535353a47",
              "version_major": 2,
              "version_minor": 0
            },
            "text/plain": [
              "  0%|          | 0/104 [00:00<?, ?it/s]"
            ]
          },
          "metadata": {},
          "output_type": "display_data"
        },
        {
          "name": "stdout",
          "output_type": "stream",
          "text": [
            " Accuracy: 0.3124\n",
            " F1 score: 0.1793\n",
            " Average training loss: 1.5958\n",
            "Running Validation...\n"
          ]
        },
        {
          "data": {
            "application/vnd.jupyter.widget-view+json": {
              "model_id": "c755a57acb374c3fb2fc2ce29d2dd6fe",
              "version_major": 2,
              "version_minor": 0
            },
            "text/plain": [
              "  0%|          | 0/9 [00:00<?, ?it/s]"
            ]
          },
          "metadata": {},
          "output_type": "display_data"
        },
        {
          "name": "stdout",
          "output_type": "stream",
          "text": [
            "logits:    [1 1 1 1 1 1 1 1 1 1 1 1 1 1 0 1 1 1 1 1 0 1 2 2 1 2]\n",
            "labels_id: [1 4 2 4 2 1 4 2 3 3 4 3 1 3 0 0 0 5 5 2 4 1 3 2 1 5]\n",
            " Accuracy: 0.2278\n",
            " F1 score: 0.1508\n",
            "======== Epoch 21 / 500 ========\n",
            "Training...\n"
          ]
        },
        {
          "data": {
            "application/vnd.jupyter.widget-view+json": {
              "model_id": "cd63f7b439854178bf946bb24f241533",
              "version_major": 2,
              "version_minor": 0
            },
            "text/plain": [
              "  0%|          | 0/104 [00:00<?, ?it/s]"
            ]
          },
          "metadata": {},
          "output_type": "display_data"
        },
        {
          "name": "stdout",
          "output_type": "stream",
          "text": [
            " Accuracy: 0.3162\n",
            " F1 score: 0.1829\n",
            " Average training loss: 1.5927\n",
            "Running Validation...\n"
          ]
        },
        {
          "data": {
            "application/vnd.jupyter.widget-view+json": {
              "model_id": "60a8948f44094ce091f0a083dc0be07e",
              "version_major": 2,
              "version_minor": 0
            },
            "text/plain": [
              "  0%|          | 0/9 [00:00<?, ?it/s]"
            ]
          },
          "metadata": {},
          "output_type": "display_data"
        },
        {
          "name": "stdout",
          "output_type": "stream",
          "text": [
            "logits:    [1 1 1 1 1 1 1 1 1 1 1 1 1 1 0 1 1 1 1 1 0 1 2 2 1 2]\n",
            "labels_id: [1 4 2 4 2 1 4 2 3 3 4 3 1 3 0 0 0 5 5 2 4 1 3 2 1 5]\n",
            " Accuracy: 0.2382\n",
            " F1 score: 0.1630\n",
            "======== Epoch 22 / 500 ========\n",
            "Training...\n"
          ]
        },
        {
          "data": {
            "application/vnd.jupyter.widget-view+json": {
              "model_id": "c534c9b0f9aa4f44969f3970939f43bb",
              "version_major": 2,
              "version_minor": 0
            },
            "text/plain": [
              "  0%|          | 0/104 [00:00<?, ?it/s]"
            ]
          },
          "metadata": {},
          "output_type": "display_data"
        },
        {
          "name": "stdout",
          "output_type": "stream",
          "text": [
            " Accuracy: 0.3084\n",
            " F1 score: 0.1772\n",
            " Average training loss: 1.5910\n",
            "Running Validation...\n"
          ]
        },
        {
          "data": {
            "application/vnd.jupyter.widget-view+json": {
              "model_id": "d5bc4a87bbd449de97501aa12b1b6967",
              "version_major": 2,
              "version_minor": 0
            },
            "text/plain": [
              "  0%|          | 0/9 [00:00<?, ?it/s]"
            ]
          },
          "metadata": {},
          "output_type": "display_data"
        },
        {
          "name": "stdout",
          "output_type": "stream",
          "text": [
            "logits:    [1 1 1 1 1 1 1 1 1 1 0 1 1 1 0 1 1 1 1 1 0 1 2 2 1 2]\n",
            "labels_id: [1 4 2 4 2 1 4 2 3 3 4 3 1 3 0 0 0 5 5 2 4 1 3 2 1 5]\n",
            " Accuracy: 0.2417\n",
            " F1 score: 0.1639\n",
            "======== Epoch 23 / 500 ========\n",
            "Training...\n"
          ]
        },
        {
          "data": {
            "application/vnd.jupyter.widget-view+json": {
              "model_id": "061cf196cea44f9c9eeccd8472e0c352",
              "version_major": 2,
              "version_minor": 0
            },
            "text/plain": [
              "  0%|          | 0/104 [00:00<?, ?it/s]"
            ]
          },
          "metadata": {},
          "output_type": "display_data"
        },
        {
          "name": "stdout",
          "output_type": "stream",
          "text": [
            " Accuracy: 0.3237\n",
            " F1 score: 0.1896\n",
            " Average training loss: 1.5828\n",
            "Running Validation...\n"
          ]
        },
        {
          "data": {
            "application/vnd.jupyter.widget-view+json": {
              "model_id": "a37278f97425451aa4e0267a55e6e307",
              "version_major": 2,
              "version_minor": 0
            },
            "text/plain": [
              "  0%|          | 0/9 [00:00<?, ?it/s]"
            ]
          },
          "metadata": {},
          "output_type": "display_data"
        },
        {
          "name": "stdout",
          "output_type": "stream",
          "text": [
            "logits:    [1 1 1 1 1 1 1 1 1 1 0 1 1 1 0 1 1 1 1 1 0 1 2 2 1 2]\n",
            "labels_id: [1 4 2 4 2 1 4 2 3 3 4 3 1 3 0 0 0 5 5 2 4 1 3 2 1 5]\n",
            " Accuracy: 0.2417\n",
            " F1 score: 0.1648\n",
            "======== Epoch 24 / 500 ========\n",
            "Training...\n"
          ]
        },
        {
          "data": {
            "application/vnd.jupyter.widget-view+json": {
              "model_id": "7d8550a52b5b485fbb9bc4c0ba26b745",
              "version_major": 2,
              "version_minor": 0
            },
            "text/plain": [
              "  0%|          | 0/104 [00:00<?, ?it/s]"
            ]
          },
          "metadata": {},
          "output_type": "display_data"
        },
        {
          "name": "stdout",
          "output_type": "stream",
          "text": [
            " Accuracy: 0.3245\n",
            " F1 score: 0.1939\n",
            " Average training loss: 1.5805\n",
            "Running Validation...\n"
          ]
        },
        {
          "data": {
            "application/vnd.jupyter.widget-view+json": {
              "model_id": "657b11f8cc214850b93241b40e04c373",
              "version_major": 2,
              "version_minor": 0
            },
            "text/plain": [
              "  0%|          | 0/9 [00:00<?, ?it/s]"
            ]
          },
          "metadata": {},
          "output_type": "display_data"
        },
        {
          "name": "stdout",
          "output_type": "stream",
          "text": [
            "logits:    [1 0 1 1 1 1 1 0 1 0 0 1 1 1 0 1 1 1 1 1 0 1 2 2 1 2]\n",
            "labels_id: [1 4 2 4 2 1 4 2 3 3 4 3 1 3 0 0 0 5 5 2 4 1 3 2 1 5]\n",
            " Accuracy: 0.2487\n",
            " F1 score: 0.1707\n",
            "======== Epoch 25 / 500 ========\n",
            "Training...\n"
          ]
        },
        {
          "data": {
            "application/vnd.jupyter.widget-view+json": {
              "model_id": "293024bb3bf24cac94ebbe2da8861140",
              "version_major": 2,
              "version_minor": 0
            },
            "text/plain": [
              "  0%|          | 0/104 [00:00<?, ?it/s]"
            ]
          },
          "metadata": {},
          "output_type": "display_data"
        },
        {
          "name": "stdout",
          "output_type": "stream",
          "text": [
            " Accuracy: 0.3172\n",
            " F1 score: 0.1922\n",
            " Average training loss: 1.5790\n",
            "Running Validation...\n"
          ]
        },
        {
          "data": {
            "application/vnd.jupyter.widget-view+json": {
              "model_id": "dd6b4d41aeec46b28d26530dd8d0bb2e",
              "version_major": 2,
              "version_minor": 0
            },
            "text/plain": [
              "  0%|          | 0/9 [00:00<?, ?it/s]"
            ]
          },
          "metadata": {},
          "output_type": "display_data"
        },
        {
          "name": "stdout",
          "output_type": "stream",
          "text": [
            "logits:    [1 0 1 1 1 1 1 0 1 0 0 1 1 1 0 1 1 1 1 0 0 1 2 2 1 2]\n",
            "labels_id: [1 4 2 4 2 1 4 2 3 3 4 3 1 3 0 0 0 5 5 2 4 1 3 2 1 5]\n",
            " Accuracy: 0.2469\n",
            " F1 score: 0.1705\n",
            "======== Epoch 26 / 500 ========\n",
            "Training...\n"
          ]
        },
        {
          "data": {
            "application/vnd.jupyter.widget-view+json": {
              "model_id": "40d65c29f6df41ffba75fa282d872e5d",
              "version_major": 2,
              "version_minor": 0
            },
            "text/plain": [
              "  0%|          | 0/104 [00:00<?, ?it/s]"
            ]
          },
          "metadata": {},
          "output_type": "display_data"
        },
        {
          "name": "stdout",
          "output_type": "stream",
          "text": [
            " Accuracy: 0.3311\n",
            " F1 score: 0.2037\n",
            " Average training loss: 1.5757\n",
            "Running Validation...\n"
          ]
        },
        {
          "data": {
            "application/vnd.jupyter.widget-view+json": {
              "model_id": "4852f78244f945b3b467a38389f4300b",
              "version_major": 2,
              "version_minor": 0
            },
            "text/plain": [
              "  0%|          | 0/9 [00:00<?, ?it/s]"
            ]
          },
          "metadata": {},
          "output_type": "display_data"
        },
        {
          "name": "stdout",
          "output_type": "stream",
          "text": [
            "logits:    [1 0 1 1 1 1 1 0 1 0 0 1 1 1 0 1 1 1 1 0 0 1 2 2 1 2]\n",
            "labels_id: [1 4 2 4 2 1 4 2 3 3 4 3 1 3 0 0 0 5 5 2 4 1 3 2 1 5]\n",
            " Accuracy: 0.2469\n",
            " F1 score: 0.1699\n",
            "======== Epoch 27 / 500 ========\n",
            "Training...\n"
          ]
        },
        {
          "data": {
            "application/vnd.jupyter.widget-view+json": {
              "model_id": "55345c45fd9b48ecbd646629be2c931a",
              "version_major": 2,
              "version_minor": 0
            },
            "text/plain": [
              "  0%|          | 0/104 [00:00<?, ?it/s]"
            ]
          },
          "metadata": {},
          "output_type": "display_data"
        },
        {
          "name": "stdout",
          "output_type": "stream",
          "text": [
            " Accuracy: 0.3218\n",
            " F1 score: 0.2027\n",
            " Average training loss: 1.5724\n",
            "Running Validation...\n"
          ]
        },
        {
          "data": {
            "application/vnd.jupyter.widget-view+json": {
              "model_id": "dca9e9c14b694bd88c40656db374187a",
              "version_major": 2,
              "version_minor": 0
            },
            "text/plain": [
              "  0%|          | 0/9 [00:00<?, ?it/s]"
            ]
          },
          "metadata": {},
          "output_type": "display_data"
        },
        {
          "name": "stdout",
          "output_type": "stream",
          "text": [
            "logits:    [1 0 1 1 1 1 1 0 1 0 0 1 1 1 0 1 1 1 1 0 0 1 2 2 1 2]\n",
            "labels_id: [1 4 2 4 2 1 4 2 3 3 4 3 1 3 0 0 0 5 5 2 4 1 3 2 1 5]\n",
            " Accuracy: 0.2504\n",
            " F1 score: 0.1730\n",
            "======== Epoch 28 / 500 ========\n",
            "Training...\n"
          ]
        },
        {
          "data": {
            "application/vnd.jupyter.widget-view+json": {
              "model_id": "f8731727c4b64bb790348a8d97a324e7",
              "version_major": 2,
              "version_minor": 0
            },
            "text/plain": [
              "  0%|          | 0/104 [00:00<?, ?it/s]"
            ]
          },
          "metadata": {},
          "output_type": "display_data"
        },
        {
          "name": "stdout",
          "output_type": "stream",
          "text": [
            " Accuracy: 0.3288\n",
            " F1 score: 0.2066\n",
            " Average training loss: 1.5720\n",
            "Running Validation...\n"
          ]
        },
        {
          "data": {
            "application/vnd.jupyter.widget-view+json": {
              "model_id": "67ea2b07a1774e0bbdd4907a253fdc09",
              "version_major": 2,
              "version_minor": 0
            },
            "text/plain": [
              "  0%|          | 0/9 [00:00<?, ?it/s]"
            ]
          },
          "metadata": {},
          "output_type": "display_data"
        },
        {
          "name": "stdout",
          "output_type": "stream",
          "text": [
            "logits:    [1 0 1 0 1 1 1 0 1 0 0 1 1 1 0 1 1 1 1 0 0 1 2 2 1 2]\n",
            "labels_id: [1 4 2 4 2 1 4 2 3 3 4 3 1 3 0 0 0 5 5 2 4 1 3 2 1 5]\n",
            " Accuracy: 0.2521\n",
            " F1 score: 0.1734\n",
            "======== Epoch 29 / 500 ========\n",
            "Training...\n"
          ]
        },
        {
          "data": {
            "application/vnd.jupyter.widget-view+json": {
              "model_id": "2993329c4b81451084f59b8cda416958",
              "version_major": 2,
              "version_minor": 0
            },
            "text/plain": [
              "  0%|          | 0/104 [00:00<?, ?it/s]"
            ]
          },
          "metadata": {},
          "output_type": "display_data"
        },
        {
          "name": "stdout",
          "output_type": "stream",
          "text": [
            " Accuracy: 0.3363\n",
            " F1 score: 0.2166\n",
            " Average training loss: 1.5664\n",
            "Running Validation...\n"
          ]
        },
        {
          "data": {
            "application/vnd.jupyter.widget-view+json": {
              "model_id": "c1c427a1551d4bdc9c8ccbd1c9d3c076",
              "version_major": 2,
              "version_minor": 0
            },
            "text/plain": [
              "  0%|          | 0/9 [00:00<?, ?it/s]"
            ]
          },
          "metadata": {},
          "output_type": "display_data"
        },
        {
          "name": "stdout",
          "output_type": "stream",
          "text": [
            "logits:    [1 0 1 0 1 1 1 0 1 0 0 1 1 1 0 1 1 1 1 0 0 1 2 2 1 2]\n",
            "labels_id: [1 4 2 4 2 1 4 2 3 3 4 3 1 3 0 0 0 5 5 2 4 1 3 2 1 5]\n",
            " Accuracy: 0.2556\n",
            " F1 score: 0.1753\n",
            "======== Epoch 30 / 500 ========\n",
            "Training...\n"
          ]
        },
        {
          "data": {
            "application/vnd.jupyter.widget-view+json": {
              "model_id": "f28da9170ce944f399b8f8de943a982d",
              "version_major": 2,
              "version_minor": 0
            },
            "text/plain": [
              "  0%|          | 0/104 [00:00<?, ?it/s]"
            ]
          },
          "metadata": {},
          "output_type": "display_data"
        },
        {
          "name": "stdout",
          "output_type": "stream",
          "text": [
            " Accuracy: 0.3370\n",
            " F1 score: 0.2189\n",
            " Average training loss: 1.5624\n",
            "Running Validation...\n"
          ]
        },
        {
          "data": {
            "application/vnd.jupyter.widget-view+json": {
              "model_id": "61d0fea5c5f04c0a977deb3f164a7004",
              "version_major": 2,
              "version_minor": 0
            },
            "text/plain": [
              "  0%|          | 0/9 [00:00<?, ?it/s]"
            ]
          },
          "metadata": {},
          "output_type": "display_data"
        },
        {
          "name": "stdout",
          "output_type": "stream",
          "text": [
            "logits:    [1 0 1 0 1 1 1 0 1 0 0 1 1 1 0 1 1 1 1 0 0 1 2 2 1 2]\n",
            "labels_id: [1 4 2 4 2 1 4 2 3 3 4 3 1 3 0 0 0 5 5 2 4 1 3 2 1 5]\n",
            " Accuracy: 0.2573\n",
            " F1 score: 0.1790\n",
            "======== Epoch 31 / 500 ========\n",
            "Training...\n"
          ]
        },
        {
          "data": {
            "application/vnd.jupyter.widget-view+json": {
              "model_id": "e1c1bbaeaff6475eaf83c16b9db80830",
              "version_major": 2,
              "version_minor": 0
            },
            "text/plain": [
              "  0%|          | 0/104 [00:00<?, ?it/s]"
            ]
          },
          "metadata": {},
          "output_type": "display_data"
        },
        {
          "name": "stdout",
          "output_type": "stream",
          "text": [
            " Accuracy: 0.3377\n",
            " F1 score: 0.2205\n",
            " Average training loss: 1.5581\n",
            "Running Validation...\n"
          ]
        },
        {
          "data": {
            "application/vnd.jupyter.widget-view+json": {
              "model_id": "c32c3b8536a0402cab91d0b8e8ee0555",
              "version_major": 2,
              "version_minor": 0
            },
            "text/plain": [
              "  0%|          | 0/9 [00:00<?, ?it/s]"
            ]
          },
          "metadata": {},
          "output_type": "display_data"
        },
        {
          "name": "stdout",
          "output_type": "stream",
          "text": [
            "logits:    [1 0 1 0 1 1 1 0 1 0 0 1 1 1 0 1 1 1 1 0 0 1 2 2 1 2]\n",
            "labels_id: [1 4 2 4 2 1 4 2 3 3 4 3 1 3 0 0 0 5 5 2 4 1 3 2 1 5]\n",
            " Accuracy: 0.2573\n",
            " F1 score: 0.1810\n",
            "======== Epoch 32 / 500 ========\n",
            "Training...\n"
          ]
        },
        {
          "data": {
            "application/vnd.jupyter.widget-view+json": {
              "model_id": "2fb063d026934402bbb8292244c0b010",
              "version_major": 2,
              "version_minor": 0
            },
            "text/plain": [
              "  0%|          | 0/104 [00:00<?, ?it/s]"
            ]
          },
          "metadata": {},
          "output_type": "display_data"
        },
        {
          "name": "stdout",
          "output_type": "stream",
          "text": [
            " Accuracy: 0.3431\n",
            " F1 score: 0.2244\n",
            " Average training loss: 1.5505\n",
            "Running Validation...\n"
          ]
        },
        {
          "data": {
            "application/vnd.jupyter.widget-view+json": {
              "model_id": "3911425c40cd4df0b0eff0ea09738557",
              "version_major": 2,
              "version_minor": 0
            },
            "text/plain": [
              "  0%|          | 0/9 [00:00<?, ?it/s]"
            ]
          },
          "metadata": {},
          "output_type": "display_data"
        },
        {
          "name": "stdout",
          "output_type": "stream",
          "text": [
            "logits:    [1 0 1 0 1 1 1 0 1 0 0 1 1 1 0 1 1 1 1 0 0 1 2 2 1 2]\n",
            "labels_id: [1 4 2 4 2 1 4 2 3 3 4 3 1 3 0 0 0 5 5 2 4 1 3 2 1 5]\n",
            " Accuracy: 0.2608\n",
            " F1 score: 0.1840\n",
            "======== Epoch 33 / 500 ========\n",
            "Training...\n"
          ]
        },
        {
          "data": {
            "application/vnd.jupyter.widget-view+json": {
              "model_id": "40fd6a872b514ac9912688ad578169ed",
              "version_major": 2,
              "version_minor": 0
            },
            "text/plain": [
              "  0%|          | 0/104 [00:00<?, ?it/s]"
            ]
          },
          "metadata": {},
          "output_type": "display_data"
        },
        {
          "name": "stdout",
          "output_type": "stream",
          "text": [
            " Accuracy: 0.3483\n",
            " F1 score: 0.2299\n",
            " Average training loss: 1.5516\n",
            "Running Validation...\n"
          ]
        },
        {
          "data": {
            "application/vnd.jupyter.widget-view+json": {
              "model_id": "b5dc9690d0414e83b6019ea1376fe62a",
              "version_major": 2,
              "version_minor": 0
            },
            "text/plain": [
              "  0%|          | 0/9 [00:00<?, ?it/s]"
            ]
          },
          "metadata": {},
          "output_type": "display_data"
        },
        {
          "name": "stdout",
          "output_type": "stream",
          "text": [
            "logits:    [1 0 5 0 1 1 1 0 1 0 0 1 1 1 0 1 1 1 1 0 0 1 2 2 1 2]\n",
            "labels_id: [1 4 2 4 2 1 4 2 3 3 4 3 1 3 0 0 0 5 5 2 4 1 3 2 1 5]\n",
            " Accuracy: 0.2678\n",
            " F1 score: 0.1896\n",
            "======== Epoch 34 / 500 ========\n",
            "Training...\n"
          ]
        },
        {
          "data": {
            "application/vnd.jupyter.widget-view+json": {
              "model_id": "8976d3fdd0284f779fe3cedd29687e5a",
              "version_major": 2,
              "version_minor": 0
            },
            "text/plain": [
              "  0%|          | 0/104 [00:00<?, ?it/s]"
            ]
          },
          "metadata": {},
          "output_type": "display_data"
        },
        {
          "name": "stdout",
          "output_type": "stream",
          "text": [
            " Accuracy: 0.3447\n",
            " F1 score: 0.2287\n",
            " Average training loss: 1.5464\n",
            "Running Validation...\n"
          ]
        },
        {
          "data": {
            "application/vnd.jupyter.widget-view+json": {
              "model_id": "cb7f946f51574213989fa6646dfd0525",
              "version_major": 2,
              "version_minor": 0
            },
            "text/plain": [
              "  0%|          | 0/9 [00:00<?, ?it/s]"
            ]
          },
          "metadata": {},
          "output_type": "display_data"
        },
        {
          "name": "stdout",
          "output_type": "stream",
          "text": [
            "logits:    [1 0 5 0 1 1 0 0 1 0 0 1 1 1 0 1 1 1 1 0 0 1 2 2 1 2]\n",
            "labels_id: [1 4 2 4 2 1 4 2 3 3 4 3 1 3 0 0 0 5 5 2 4 1 3 2 1 5]\n",
            " Accuracy: 0.2730\n",
            " F1 score: 0.1938\n",
            "======== Epoch 35 / 500 ========\n",
            "Training...\n"
          ]
        },
        {
          "data": {
            "application/vnd.jupyter.widget-view+json": {
              "model_id": "660978daf04940e4a60c860cf3e44141",
              "version_major": 2,
              "version_minor": 0
            },
            "text/plain": [
              "  0%|          | 0/104 [00:00<?, ?it/s]"
            ]
          },
          "metadata": {},
          "output_type": "display_data"
        },
        {
          "name": "stdout",
          "output_type": "stream",
          "text": [
            " Accuracy: 0.3483\n",
            " F1 score: 0.2299\n",
            " Average training loss: 1.5436\n",
            "Running Validation...\n"
          ]
        },
        {
          "data": {
            "application/vnd.jupyter.widget-view+json": {
              "model_id": "75a93caf86a14935bf28e2e34caee611",
              "version_major": 2,
              "version_minor": 0
            },
            "text/plain": [
              "  0%|          | 0/9 [00:00<?, ?it/s]"
            ]
          },
          "metadata": {},
          "output_type": "display_data"
        },
        {
          "name": "stdout",
          "output_type": "stream",
          "text": [
            "logits:    [1 0 5 0 1 1 0 0 1 0 0 1 1 1 0 1 1 1 1 0 0 1 2 2 1 2]\n",
            "labels_id: [1 4 2 4 2 1 4 2 3 3 4 3 1 3 0 0 0 5 5 2 4 1 3 2 1 5]\n",
            " Accuracy: 0.2678\n",
            " F1 score: 0.1892\n",
            "======== Epoch 36 / 500 ========\n",
            "Training...\n"
          ]
        },
        {
          "data": {
            "application/vnd.jupyter.widget-view+json": {
              "model_id": "6cea4341facd4b67ad190de0f324c428",
              "version_major": 2,
              "version_minor": 0
            },
            "text/plain": [
              "  0%|          | 0/104 [00:00<?, ?it/s]"
            ]
          },
          "metadata": {},
          "output_type": "display_data"
        },
        {
          "name": "stdout",
          "output_type": "stream",
          "text": [
            " Accuracy: 0.3590\n",
            " F1 score: 0.2421\n",
            " Average training loss: 1.5419\n",
            "Running Validation...\n"
          ]
        },
        {
          "data": {
            "application/vnd.jupyter.widget-view+json": {
              "model_id": "9323c1c33970442b9ae616f64668e89c",
              "version_major": 2,
              "version_minor": 0
            },
            "text/plain": [
              "  0%|          | 0/9 [00:00<?, ?it/s]"
            ]
          },
          "metadata": {},
          "output_type": "display_data"
        },
        {
          "name": "stdout",
          "output_type": "stream",
          "text": [
            "logits:    [1 0 5 0 1 1 0 0 1 0 0 1 1 1 0 1 1 1 1 0 0 1 2 2 1 2]\n",
            "labels_id: [1 4 2 4 2 1 4 2 3 3 4 3 1 3 0 0 0 5 5 2 4 1 3 2 1 5]\n",
            " Accuracy: 0.2712\n",
            " F1 score: 0.1929\n",
            "======== Epoch 37 / 500 ========\n",
            "Training...\n"
          ]
        },
        {
          "data": {
            "application/vnd.jupyter.widget-view+json": {
              "model_id": "7489ada903ef40ccb3d6555e91b242c6",
              "version_major": 2,
              "version_minor": 0
            },
            "text/plain": [
              "  0%|          | 0/104 [00:00<?, ?it/s]"
            ]
          },
          "metadata": {},
          "output_type": "display_data"
        },
        {
          "name": "stdout",
          "output_type": "stream",
          "text": [
            " Accuracy: 0.3507\n",
            " F1 score: 0.2338\n",
            " Average training loss: 1.5365\n",
            "Running Validation...\n"
          ]
        },
        {
          "data": {
            "application/vnd.jupyter.widget-view+json": {
              "model_id": "a34727f05203497ba6bb9c08e003ab60",
              "version_major": 2,
              "version_minor": 0
            },
            "text/plain": [
              "  0%|          | 0/9 [00:00<?, ?it/s]"
            ]
          },
          "metadata": {},
          "output_type": "display_data"
        },
        {
          "name": "stdout",
          "output_type": "stream",
          "text": [
            "logits:    [1 0 2 0 1 1 0 0 1 0 0 1 1 1 0 1 1 1 1 0 0 1 2 2 1 2]\n",
            "labels_id: [1 4 2 4 2 1 4 2 3 3 4 3 1 3 0 0 0 5 5 2 4 1 3 2 1 5]\n",
            " Accuracy: 0.2738\n",
            " F1 score: 0.1948\n",
            "======== Epoch 38 / 500 ========\n",
            "Training...\n"
          ]
        },
        {
          "data": {
            "application/vnd.jupyter.widget-view+json": {
              "model_id": "694a15b2d1cb4bf0b389bbd445291bf6",
              "version_major": 2,
              "version_minor": 0
            },
            "text/plain": [
              "  0%|          | 0/104 [00:00<?, ?it/s]"
            ]
          },
          "metadata": {},
          "output_type": "display_data"
        },
        {
          "name": "stdout",
          "output_type": "stream",
          "text": [
            " Accuracy: 0.3558\n",
            " F1 score: 0.2397\n",
            " Average training loss: 1.5339\n",
            "Running Validation...\n"
          ]
        },
        {
          "data": {
            "application/vnd.jupyter.widget-view+json": {
              "model_id": "17cee5137fdc464d947aa1e67393fd78",
              "version_major": 2,
              "version_minor": 0
            },
            "text/plain": [
              "  0%|          | 0/9 [00:00<?, ?it/s]"
            ]
          },
          "metadata": {},
          "output_type": "display_data"
        },
        {
          "name": "stdout",
          "output_type": "stream",
          "text": [
            "logits:    [1 0 2 0 1 1 0 0 1 0 0 1 1 1 0 1 1 1 1 0 0 1 2 2 1 2]\n",
            "labels_id: [1 4 2 4 2 1 4 2 3 3 4 3 1 3 0 0 0 5 5 2 4 1 3 2 1 5]\n",
            " Accuracy: 0.2703\n",
            " F1 score: 0.1927\n",
            "======== Epoch 39 / 500 ========\n",
            "Training...\n"
          ]
        },
        {
          "data": {
            "application/vnd.jupyter.widget-view+json": {
              "model_id": "53249e12c8e34732848f44ed56dbcafa",
              "version_major": 2,
              "version_minor": 0
            },
            "text/plain": [
              "  0%|          | 0/104 [00:00<?, ?it/s]"
            ]
          },
          "metadata": {},
          "output_type": "display_data"
        },
        {
          "name": "stdout",
          "output_type": "stream",
          "text": [
            " Accuracy: 0.3599\n",
            " F1 score: 0.2417\n",
            " Average training loss: 1.5305\n",
            "Running Validation...\n"
          ]
        },
        {
          "data": {
            "application/vnd.jupyter.widget-view+json": {
              "model_id": "6b2805b4ed70488089abdbfb9ca41e2e",
              "version_major": 2,
              "version_minor": 0
            },
            "text/plain": [
              "  0%|          | 0/9 [00:00<?, ?it/s]"
            ]
          },
          "metadata": {},
          "output_type": "display_data"
        },
        {
          "name": "stdout",
          "output_type": "stream",
          "text": [
            "logits:    [1 0 2 0 1 1 0 0 1 0 0 1 1 1 0 1 1 1 1 0 0 1 2 2 1 2]\n",
            "labels_id: [1 4 2 4 2 1 4 2 3 3 4 3 1 3 0 0 0 5 5 2 4 1 3 2 1 5]\n",
            " Accuracy: 0.2738\n",
            " F1 score: 0.1953\n",
            "======== Epoch 40 / 500 ========\n",
            "Training...\n"
          ]
        },
        {
          "data": {
            "application/vnd.jupyter.widget-view+json": {
              "model_id": "e733e646e84a42168733105c25722c23",
              "version_major": 2,
              "version_minor": 0
            },
            "text/plain": [
              "  0%|          | 0/104 [00:00<?, ?it/s]"
            ]
          },
          "metadata": {},
          "output_type": "display_data"
        },
        {
          "name": "stdout",
          "output_type": "stream",
          "text": [
            " Accuracy: 0.3551\n",
            " F1 score: 0.2399\n",
            " Average training loss: 1.5302\n",
            "Running Validation...\n"
          ]
        },
        {
          "data": {
            "application/vnd.jupyter.widget-view+json": {
              "model_id": "cba5434eb05e40b2b08d8de02223ea26",
              "version_major": 2,
              "version_minor": 0
            },
            "text/plain": [
              "  0%|          | 0/9 [00:00<?, ?it/s]"
            ]
          },
          "metadata": {},
          "output_type": "display_data"
        },
        {
          "name": "stdout",
          "output_type": "stream",
          "text": [
            "logits:    [1 0 2 0 1 1 0 0 1 0 0 1 1 1 0 1 1 1 1 0 0 1 2 2 1 2]\n",
            "labels_id: [1 4 2 4 2 1 4 2 3 3 4 3 1 3 0 0 0 5 5 2 4 1 3 2 1 5]\n",
            " Accuracy: 0.2755\n",
            " F1 score: 0.1967\n",
            "======== Epoch 41 / 500 ========\n",
            "Training...\n"
          ]
        },
        {
          "data": {
            "application/vnd.jupyter.widget-view+json": {
              "model_id": "4076e5384559483f99a6b1dfe29a3d26",
              "version_major": 2,
              "version_minor": 0
            },
            "text/plain": [
              "  0%|          | 0/104 [00:00<?, ?it/s]"
            ]
          },
          "metadata": {},
          "output_type": "display_data"
        },
        {
          "name": "stdout",
          "output_type": "stream",
          "text": [
            " Accuracy: 0.3592\n",
            " F1 score: 0.2430\n",
            " Average training loss: 1.5234\n",
            "Running Validation...\n"
          ]
        },
        {
          "data": {
            "application/vnd.jupyter.widget-view+json": {
              "model_id": "91837d8055c041958850df3bedfc83db",
              "version_major": 2,
              "version_minor": 0
            },
            "text/plain": [
              "  0%|          | 0/9 [00:00<?, ?it/s]"
            ]
          },
          "metadata": {},
          "output_type": "display_data"
        },
        {
          "name": "stdout",
          "output_type": "stream",
          "text": [
            "logits:    [1 0 2 0 1 1 0 0 1 0 0 1 1 1 0 1 1 1 1 0 0 1 2 2 1 2]\n",
            "labels_id: [1 4 2 4 2 1 4 2 3 3 4 3 1 3 0 0 0 5 5 2 4 1 3 2 1 5]\n",
            " Accuracy: 0.2772\n",
            " F1 score: 0.1967\n",
            "======== Epoch 42 / 500 ========\n",
            "Training...\n"
          ]
        },
        {
          "data": {
            "application/vnd.jupyter.widget-view+json": {
              "model_id": "cd8d21044de0420abbff3f00ce9cd126",
              "version_major": 2,
              "version_minor": 0
            },
            "text/plain": [
              "  0%|          | 0/104 [00:00<?, ?it/s]"
            ]
          },
          "metadata": {},
          "output_type": "display_data"
        },
        {
          "name": "stdout",
          "output_type": "stream",
          "text": [
            " Accuracy: 0.3658\n",
            " F1 score: 0.2483\n",
            " Average training loss: 1.5161\n",
            "Running Validation...\n"
          ]
        },
        {
          "data": {
            "application/vnd.jupyter.widget-view+json": {
              "model_id": "1fd9a3a240cf442fb48047223565eaa6",
              "version_major": 2,
              "version_minor": 0
            },
            "text/plain": [
              "  0%|          | 0/9 [00:00<?, ?it/s]"
            ]
          },
          "metadata": {},
          "output_type": "display_data"
        },
        {
          "name": "stdout",
          "output_type": "stream",
          "text": [
            "logits:    [1 0 2 0 1 1 0 0 1 0 0 1 1 1 0 1 1 1 1 0 0 1 2 2 1 2]\n",
            "labels_id: [1 4 2 4 2 1 4 2 3 3 4 3 1 3 0 0 0 5 5 2 4 1 3 2 1 5]\n",
            " Accuracy: 0.2772\n",
            " F1 score: 0.1967\n",
            "======== Epoch 43 / 500 ========\n",
            "Training...\n"
          ]
        },
        {
          "data": {
            "application/vnd.jupyter.widget-view+json": {
              "model_id": "a23fb608444c4cbc8d583708cc5d118a",
              "version_major": 2,
              "version_minor": 0
            },
            "text/plain": [
              "  0%|          | 0/104 [00:00<?, ?it/s]"
            ]
          },
          "metadata": {},
          "output_type": "display_data"
        },
        {
          "name": "stdout",
          "output_type": "stream",
          "text": [
            " Accuracy: 0.3679\n",
            " F1 score: 0.2499\n",
            " Average training loss: 1.5138\n",
            "Running Validation...\n"
          ]
        },
        {
          "data": {
            "application/vnd.jupyter.widget-view+json": {
              "model_id": "160b4961616545c99104f6caabd95651",
              "version_major": 2,
              "version_minor": 0
            },
            "text/plain": [
              "  0%|          | 0/9 [00:00<?, ?it/s]"
            ]
          },
          "metadata": {},
          "output_type": "display_data"
        },
        {
          "name": "stdout",
          "output_type": "stream",
          "text": [
            "logits:    [1 0 2 0 1 1 0 0 1 0 0 1 1 1 0 1 1 1 1 0 0 1 2 2 1 2]\n",
            "labels_id: [1 4 2 4 2 1 4 2 3 3 4 3 1 3 0 0 0 5 5 2 4 1 3 2 1 5]\n",
            " Accuracy: 0.2790\n",
            " F1 score: 0.1982\n",
            "======== Epoch 44 / 500 ========\n",
            "Training...\n"
          ]
        },
        {
          "data": {
            "application/vnd.jupyter.widget-view+json": {
              "model_id": "47d0d2d6ff58469089c3dd2f8f2ac60d",
              "version_major": 2,
              "version_minor": 0
            },
            "text/plain": [
              "  0%|          | 0/104 [00:00<?, ?it/s]"
            ]
          },
          "metadata": {},
          "output_type": "display_data"
        },
        {
          "name": "stdout",
          "output_type": "stream",
          "text": [
            " Accuracy: 0.3710\n",
            " F1 score: 0.2525\n",
            " Average training loss: 1.5093\n",
            "Running Validation...\n"
          ]
        },
        {
          "data": {
            "application/vnd.jupyter.widget-view+json": {
              "model_id": "94b1b47261e640aab17252848010bbfb",
              "version_major": 2,
              "version_minor": 0
            },
            "text/plain": [
              "  0%|          | 0/9 [00:00<?, ?it/s]"
            ]
          },
          "metadata": {},
          "output_type": "display_data"
        },
        {
          "name": "stdout",
          "output_type": "stream",
          "text": [
            "logits:    [1 0 2 0 1 1 0 0 1 0 0 1 1 1 0 1 1 1 1 0 0 1 2 2 1 2]\n",
            "labels_id: [1 4 2 4 2 1 4 2 3 3 4 3 1 3 0 0 0 5 5 2 4 1 3 2 1 5]\n",
            " Accuracy: 0.2807\n",
            " F1 score: 0.2001\n",
            "======== Epoch 45 / 500 ========\n",
            "Training...\n"
          ]
        },
        {
          "data": {
            "application/vnd.jupyter.widget-view+json": {
              "model_id": "0d55aee521144678a3ad5d871bf4a666",
              "version_major": 2,
              "version_minor": 0
            },
            "text/plain": [
              "  0%|          | 0/104 [00:00<?, ?it/s]"
            ]
          },
          "metadata": {},
          "output_type": "display_data"
        },
        {
          "name": "stdout",
          "output_type": "stream",
          "text": [
            " Accuracy: 0.3713\n",
            " F1 score: 0.2557\n",
            " Average training loss: 1.5084\n",
            "Running Validation...\n"
          ]
        },
        {
          "data": {
            "application/vnd.jupyter.widget-view+json": {
              "model_id": "f35e03ccc33547298ffd74957cf8debd",
              "version_major": 2,
              "version_minor": 0
            },
            "text/plain": [
              "  0%|          | 0/9 [00:00<?, ?it/s]"
            ]
          },
          "metadata": {},
          "output_type": "display_data"
        },
        {
          "name": "stdout",
          "output_type": "stream",
          "text": [
            "logits:    [1 0 2 0 1 2 0 0 1 0 0 1 1 1 0 1 1 1 1 0 0 1 2 2 1 2]\n",
            "labels_id: [1 4 2 4 2 1 4 2 3 3 4 3 1 3 0 0 0 5 5 2 4 1 3 2 1 5]\n",
            " Accuracy: 0.2799\n",
            " F1 score: 0.1997\n",
            "======== Epoch 46 / 500 ========\n",
            "Training...\n"
          ]
        },
        {
          "data": {
            "application/vnd.jupyter.widget-view+json": {
              "model_id": "fd49b6a70f7145b58eef1328ad74dca5",
              "version_major": 2,
              "version_minor": 0
            },
            "text/plain": [
              "  0%|          | 0/104 [00:00<?, ?it/s]"
            ]
          },
          "metadata": {},
          "output_type": "display_data"
        },
        {
          "name": "stdout",
          "output_type": "stream",
          "text": [
            " Accuracy: 0.3731\n",
            " F1 score: 0.2541\n",
            " Average training loss: 1.5021\n",
            "Running Validation...\n"
          ]
        },
        {
          "data": {
            "application/vnd.jupyter.widget-view+json": {
              "model_id": "4fb1938f824246ee87ee226d32853f7a",
              "version_major": 2,
              "version_minor": 0
            },
            "text/plain": [
              "  0%|          | 0/9 [00:00<?, ?it/s]"
            ]
          },
          "metadata": {},
          "output_type": "display_data"
        },
        {
          "name": "stdout",
          "output_type": "stream",
          "text": [
            "logits:    [1 0 2 0 1 1 0 0 1 0 0 1 1 1 0 1 1 1 1 0 0 1 2 2 1 2]\n",
            "labels_id: [1 4 2 4 2 1 4 2 3 3 4 3 1 3 0 0 0 5 5 2 4 1 3 2 1 5]\n",
            " Accuracy: 0.2859\n",
            " F1 score: 0.2026\n",
            "======== Epoch 47 / 500 ========\n",
            "Training...\n"
          ]
        },
        {
          "data": {
            "application/vnd.jupyter.widget-view+json": {
              "model_id": "c99275a32d384cb9a7408edd745f2e98",
              "version_major": 2,
              "version_minor": 0
            },
            "text/plain": [
              "  0%|          | 0/104 [00:00<?, ?it/s]"
            ]
          },
          "metadata": {},
          "output_type": "display_data"
        },
        {
          "name": "stdout",
          "output_type": "stream",
          "text": [
            " Accuracy: 0.3735\n",
            " F1 score: 0.2549\n",
            " Average training loss: 1.4996\n",
            "Running Validation...\n"
          ]
        },
        {
          "data": {
            "application/vnd.jupyter.widget-view+json": {
              "model_id": "d4dd0a005ccb49f7b25095545433519d",
              "version_major": 2,
              "version_minor": 0
            },
            "text/plain": [
              "  0%|          | 0/9 [00:00<?, ?it/s]"
            ]
          },
          "metadata": {},
          "output_type": "display_data"
        },
        {
          "name": "stdout",
          "output_type": "stream",
          "text": [
            "logits:    [1 0 2 0 1 1 0 0 1 0 0 1 1 1 0 1 1 1 1 0 0 1 2 2 1 2]\n",
            "labels_id: [1 4 2 4 2 1 4 2 3 3 4 3 1 3 0 0 0 5 5 2 4 1 3 2 1 5]\n",
            " Accuracy: 0.2911\n",
            " F1 score: 0.2073\n",
            "======== Epoch 48 / 500 ========\n",
            "Training...\n"
          ]
        },
        {
          "data": {
            "application/vnd.jupyter.widget-view+json": {
              "model_id": "81077ca7a9654e088940bf9cc37f6767",
              "version_major": 2,
              "version_minor": 0
            },
            "text/plain": [
              "  0%|          | 0/104 [00:00<?, ?it/s]"
            ]
          },
          "metadata": {},
          "output_type": "display_data"
        },
        {
          "name": "stdout",
          "output_type": "stream",
          "text": [
            " Accuracy: 0.3804\n",
            " F1 score: 0.2610\n",
            " Average training loss: 1.4961\n",
            "Running Validation...\n"
          ]
        },
        {
          "data": {
            "application/vnd.jupyter.widget-view+json": {
              "model_id": "a69c5a69649e40a58f1185d5b31b62bb",
              "version_major": 2,
              "version_minor": 0
            },
            "text/plain": [
              "  0%|          | 0/9 [00:00<?, ?it/s]"
            ]
          },
          "metadata": {},
          "output_type": "display_data"
        },
        {
          "name": "stdout",
          "output_type": "stream",
          "text": [
            "logits:    [1 0 2 0 1 2 0 0 1 0 0 1 1 1 0 1 1 1 1 0 0 1 2 2 1 2]\n",
            "labels_id: [1 4 2 4 2 1 4 2 3 3 4 3 1 3 0 0 0 5 5 2 4 1 3 2 1 5]\n",
            " Accuracy: 0.2938\n",
            " F1 score: 0.2110\n",
            "======== Epoch 49 / 500 ========\n",
            "Training...\n"
          ]
        },
        {
          "data": {
            "application/vnd.jupyter.widget-view+json": {
              "model_id": "bdf253b2bc2941179583cbffe7c2c8be",
              "version_major": 2,
              "version_minor": 0
            },
            "text/plain": [
              "  0%|          | 0/104 [00:00<?, ?it/s]"
            ]
          },
          "metadata": {},
          "output_type": "display_data"
        },
        {
          "name": "stdout",
          "output_type": "stream",
          "text": [
            " Accuracy: 0.3770\n",
            " F1 score: 0.2571\n",
            " Average training loss: 1.4952\n",
            "Running Validation...\n"
          ]
        },
        {
          "data": {
            "application/vnd.jupyter.widget-view+json": {
              "model_id": "c290fa9a2fc8460bb8c732f011877afa",
              "version_major": 2,
              "version_minor": 0
            },
            "text/plain": [
              "  0%|          | 0/9 [00:00<?, ?it/s]"
            ]
          },
          "metadata": {},
          "output_type": "display_data"
        },
        {
          "name": "stdout",
          "output_type": "stream",
          "text": [
            "logits:    [1 0 2 0 1 2 0 0 5 0 0 1 1 1 0 1 1 1 1 0 0 1 2 2 1 2]\n",
            "labels_id: [1 4 2 4 2 1 4 2 3 3 4 3 1 3 0 0 0 5 5 2 4 1 3 2 1 5]\n",
            " Accuracy: 0.2921\n",
            " F1 score: 0.2091\n",
            "======== Epoch 50 / 500 ========\n",
            "Training...\n"
          ]
        },
        {
          "data": {
            "application/vnd.jupyter.widget-view+json": {
              "model_id": "ac0f284d8ae64838bf7bfe136a5aca1c",
              "version_major": 2,
              "version_minor": 0
            },
            "text/plain": [
              "  0%|          | 0/104 [00:00<?, ?it/s]"
            ]
          },
          "metadata": {},
          "output_type": "display_data"
        },
        {
          "name": "stdout",
          "output_type": "stream",
          "text": [
            " Accuracy: 0.3773\n",
            " F1 score: 0.2592\n",
            " Average training loss: 1.4909\n",
            "Running Validation...\n"
          ]
        },
        {
          "data": {
            "application/vnd.jupyter.widget-view+json": {
              "model_id": "d7b52dd58ec749b786d426c389227b3c",
              "version_major": 2,
              "version_minor": 0
            },
            "text/plain": [
              "  0%|          | 0/9 [00:00<?, ?it/s]"
            ]
          },
          "metadata": {},
          "output_type": "display_data"
        },
        {
          "name": "stdout",
          "output_type": "stream",
          "text": [
            "logits:    [1 0 2 0 1 1 0 0 5 0 0 1 1 1 0 1 1 1 1 0 0 1 2 2 1 2]\n",
            "labels_id: [1 4 2 4 2 1 4 2 3 3 4 3 1 3 0 0 0 5 5 2 4 1 3 2 1 5]\n",
            " Accuracy: 0.2963\n",
            " F1 score: 0.2134\n",
            "======== Epoch 51 / 500 ========\n",
            "Training...\n"
          ]
        },
        {
          "data": {
            "application/vnd.jupyter.widget-view+json": {
              "model_id": "0cd99408bbb9497ead8456058f9715c2",
              "version_major": 2,
              "version_minor": 0
            },
            "text/plain": [
              "  0%|          | 0/104 [00:00<?, ?it/s]"
            ]
          },
          "metadata": {},
          "output_type": "display_data"
        },
        {
          "name": "stdout",
          "output_type": "stream",
          "text": [
            " Accuracy: 0.3833\n",
            " F1 score: 0.2618\n",
            " Average training loss: 1.4858\n",
            "Running Validation...\n"
          ]
        },
        {
          "data": {
            "application/vnd.jupyter.widget-view+json": {
              "model_id": "db7d39f6409c4fc5a9b59f87feaec81e",
              "version_major": 2,
              "version_minor": 0
            },
            "text/plain": [
              "  0%|          | 0/9 [00:00<?, ?it/s]"
            ]
          },
          "metadata": {},
          "output_type": "display_data"
        },
        {
          "name": "stdout",
          "output_type": "stream",
          "text": [
            "logits:    [1 0 2 0 1 1 0 0 5 0 0 1 1 1 0 1 1 1 1 0 0 1 2 2 1 2]\n",
            "labels_id: [1 4 2 4 2 1 4 2 3 3 4 3 1 3 0 0 0 5 5 2 4 1 3 2 1 5]\n",
            " Accuracy: 0.2963\n",
            " F1 score: 0.2130\n",
            "======== Epoch 52 / 500 ========\n",
            "Training...\n"
          ]
        },
        {
          "data": {
            "application/vnd.jupyter.widget-view+json": {
              "model_id": "8853d7e808f240dfb789da25759f19fa",
              "version_major": 2,
              "version_minor": 0
            },
            "text/plain": [
              "  0%|          | 0/104 [00:00<?, ?it/s]"
            ]
          },
          "metadata": {},
          "output_type": "display_data"
        },
        {
          "name": "stdout",
          "output_type": "stream",
          "text": [
            " Accuracy: 0.3875\n",
            " F1 score: 0.2656\n",
            " Average training loss: 1.4893\n",
            "Running Validation...\n"
          ]
        },
        {
          "data": {
            "application/vnd.jupyter.widget-view+json": {
              "model_id": "02962aea5f9845c5a5c28043a65aca37",
              "version_major": 2,
              "version_minor": 0
            },
            "text/plain": [
              "  0%|          | 0/9 [00:00<?, ?it/s]"
            ]
          },
          "metadata": {},
          "output_type": "display_data"
        },
        {
          "name": "stdout",
          "output_type": "stream",
          "text": [
            "logits:    [1 0 2 0 1 1 0 0 5 0 0 1 1 1 0 1 1 1 1 0 0 1 2 2 1 2]\n",
            "labels_id: [1 4 2 4 2 1 4 2 3 3 4 3 1 3 0 0 0 5 5 2 4 1 3 2 1 5]\n",
            " Accuracy: 0.2981\n",
            " F1 score: 0.2136\n",
            "======== Epoch 53 / 500 ========\n",
            "Training...\n"
          ]
        },
        {
          "data": {
            "application/vnd.jupyter.widget-view+json": {
              "model_id": "2050ba42fe3246fbba2ac49678dcfa19",
              "version_major": 2,
              "version_minor": 0
            },
            "text/plain": [
              "  0%|          | 0/104 [00:00<?, ?it/s]"
            ]
          },
          "metadata": {},
          "output_type": "display_data"
        },
        {
          "name": "stdout",
          "output_type": "stream",
          "text": [
            " Accuracy: 0.3920\n",
            " F1 score: 0.2691\n",
            " Average training loss: 1.4775\n",
            "Running Validation...\n"
          ]
        },
        {
          "data": {
            "application/vnd.jupyter.widget-view+json": {
              "model_id": "127713c41a274bb7a6d182f609f61ad6",
              "version_major": 2,
              "version_minor": 0
            },
            "text/plain": [
              "  0%|          | 0/9 [00:00<?, ?it/s]"
            ]
          },
          "metadata": {},
          "output_type": "display_data"
        },
        {
          "name": "stdout",
          "output_type": "stream",
          "text": [
            "logits:    [1 0 2 0 1 1 0 0 5 0 0 1 1 1 0 1 1 1 1 0 0 1 2 2 1 2]\n",
            "labels_id: [1 4 2 4 2 1 4 2 3 3 4 3 1 3 0 0 0 5 5 2 4 1 3 2 1 5]\n",
            " Accuracy: 0.3033\n",
            " F1 score: 0.2181\n",
            "======== Epoch 54 / 500 ========\n",
            "Training...\n"
          ]
        },
        {
          "data": {
            "application/vnd.jupyter.widget-view+json": {
              "model_id": "9dadc4f1c94243baa563ae9f1941a995",
              "version_major": 2,
              "version_minor": 0
            },
            "text/plain": [
              "  0%|          | 0/104 [00:00<?, ?it/s]"
            ]
          },
          "metadata": {},
          "output_type": "display_data"
        },
        {
          "name": "stdout",
          "output_type": "stream",
          "text": [
            " Accuracy: 0.3979\n",
            " F1 score: 0.2736\n",
            " Average training loss: 1.4745\n",
            "Running Validation...\n"
          ]
        },
        {
          "data": {
            "application/vnd.jupyter.widget-view+json": {
              "model_id": "3264fdca716b4bc9aaf7aed5fde88f64",
              "version_major": 2,
              "version_minor": 0
            },
            "text/plain": [
              "  0%|          | 0/9 [00:00<?, ?it/s]"
            ]
          },
          "metadata": {},
          "output_type": "display_data"
        },
        {
          "name": "stdout",
          "output_type": "stream",
          "text": [
            "logits:    [1 0 2 0 1 1 0 0 5 0 0 1 1 1 0 1 1 1 1 0 0 1 2 2 1 2]\n",
            "labels_id: [1 4 2 4 2 1 4 2 3 3 4 3 1 3 0 0 0 5 5 2 4 1 3 2 1 5]\n",
            " Accuracy: 0.3033\n",
            " F1 score: 0.2179\n",
            "======== Epoch 55 / 500 ========\n",
            "Training...\n"
          ]
        },
        {
          "data": {
            "application/vnd.jupyter.widget-view+json": {
              "model_id": "91233e6761f94d7b8b172dda65e6bbac",
              "version_major": 2,
              "version_minor": 0
            },
            "text/plain": [
              "  0%|          | 0/104 [00:00<?, ?it/s]"
            ]
          },
          "metadata": {},
          "output_type": "display_data"
        },
        {
          "name": "stdout",
          "output_type": "stream",
          "text": [
            " Accuracy: 0.3897\n",
            " F1 score: 0.2668\n",
            " Average training loss: 1.4687\n",
            "Running Validation...\n"
          ]
        },
        {
          "data": {
            "application/vnd.jupyter.widget-view+json": {
              "model_id": "ff090ba05b3842799a2c4d1a74a2e148",
              "version_major": 2,
              "version_minor": 0
            },
            "text/plain": [
              "  0%|          | 0/9 [00:00<?, ?it/s]"
            ]
          },
          "metadata": {},
          "output_type": "display_data"
        },
        {
          "name": "stdout",
          "output_type": "stream",
          "text": [
            "logits:    [1 0 2 0 1 1 0 0 5 0 0 1 1 0 0 1 1 1 1 0 0 1 2 2 1 2]\n",
            "labels_id: [1 4 2 4 2 1 4 2 3 3 4 3 1 3 0 0 0 5 5 2 4 1 3 2 1 5]\n",
            " Accuracy: 0.3068\n",
            " F1 score: 0.2209\n",
            "======== Epoch 56 / 500 ========\n",
            "Training...\n"
          ]
        },
        {
          "data": {
            "application/vnd.jupyter.widget-view+json": {
              "model_id": "8abc560179ad40739769a92e2a00d7b0",
              "version_major": 2,
              "version_minor": 0
            },
            "text/plain": [
              "  0%|          | 0/104 [00:00<?, ?it/s]"
            ]
          },
          "metadata": {},
          "output_type": "display_data"
        },
        {
          "name": "stdout",
          "output_type": "stream",
          "text": [
            " Accuracy: 0.4013\n",
            " F1 score: 0.2746\n",
            " Average training loss: 1.4668\n",
            "Running Validation...\n"
          ]
        },
        {
          "data": {
            "application/vnd.jupyter.widget-view+json": {
              "model_id": "d01247a4b43a4396a2d1fb7d78fc6db6",
              "version_major": 2,
              "version_minor": 0
            },
            "text/plain": [
              "  0%|          | 0/9 [00:00<?, ?it/s]"
            ]
          },
          "metadata": {},
          "output_type": "display_data"
        },
        {
          "name": "stdout",
          "output_type": "stream",
          "text": [
            "logits:    [1 0 2 0 1 1 0 0 5 0 0 1 1 0 0 1 1 1 1 0 0 1 2 2 1 2]\n",
            "labels_id: [1 4 2 4 2 1 4 2 3 3 4 3 1 3 0 0 0 5 5 2 4 1 3 2 1 5]\n",
            " Accuracy: 0.3068\n",
            " F1 score: 0.2214\n",
            "======== Epoch 57 / 500 ========\n",
            "Training...\n"
          ]
        },
        {
          "data": {
            "application/vnd.jupyter.widget-view+json": {
              "model_id": "7341f89f918d42dd932dae8acf38876a",
              "version_major": 2,
              "version_minor": 0
            },
            "text/plain": [
              "  0%|          | 0/104 [00:00<?, ?it/s]"
            ]
          },
          "metadata": {},
          "output_type": "display_data"
        },
        {
          "name": "stdout",
          "output_type": "stream",
          "text": [
            " Accuracy: 0.4020\n",
            " F1 score: 0.2768\n",
            " Average training loss: 1.4615\n",
            "Running Validation...\n"
          ]
        },
        {
          "data": {
            "application/vnd.jupyter.widget-view+json": {
              "model_id": "cb65bc23d0444104ab149f6c74c72377",
              "version_major": 2,
              "version_minor": 0
            },
            "text/plain": [
              "  0%|          | 0/9 [00:00<?, ?it/s]"
            ]
          },
          "metadata": {},
          "output_type": "display_data"
        },
        {
          "name": "stdout",
          "output_type": "stream",
          "text": [
            "logits:    [1 0 2 0 1 1 0 0 5 0 0 1 1 0 0 1 1 1 1 0 0 1 2 2 1 2]\n",
            "labels_id: [1 4 2 4 2 1 4 2 3 3 4 3 1 3 0 0 0 5 5 2 4 1 3 2 1 5]\n",
            " Accuracy: 0.3102\n",
            " F1 score: 0.2261\n",
            "======== Epoch 58 / 500 ========\n",
            "Training...\n"
          ]
        },
        {
          "data": {
            "application/vnd.jupyter.widget-view+json": {
              "model_id": "314de14ff3934e6286126675fdecafc2",
              "version_major": 2,
              "version_minor": 0
            },
            "text/plain": [
              "  0%|          | 0/104 [00:00<?, ?it/s]"
            ]
          },
          "metadata": {},
          "output_type": "display_data"
        },
        {
          "name": "stdout",
          "output_type": "stream",
          "text": [
            " Accuracy: 0.3928\n",
            " F1 score: 0.2702\n",
            " Average training loss: 1.4612\n",
            "Running Validation...\n"
          ]
        },
        {
          "data": {
            "application/vnd.jupyter.widget-view+json": {
              "model_id": "6315fc984986495092fdf33c20a84d30",
              "version_major": 2,
              "version_minor": 0
            },
            "text/plain": [
              "  0%|          | 0/9 [00:00<?, ?it/s]"
            ]
          },
          "metadata": {},
          "output_type": "display_data"
        },
        {
          "name": "stdout",
          "output_type": "stream",
          "text": [
            "logits:    [1 0 2 0 1 1 0 0 5 0 0 1 1 0 0 1 1 1 1 0 0 1 2 2 1 2]\n",
            "labels_id: [1 4 2 4 2 1 4 2 3 3 4 3 1 3 0 0 0 5 5 2 4 1 3 2 1 5]\n",
            " Accuracy: 0.3102\n",
            " F1 score: 0.2266\n",
            "======== Epoch 59 / 500 ========\n",
            "Training...\n"
          ]
        },
        {
          "data": {
            "application/vnd.jupyter.widget-view+json": {
              "model_id": "dd8a20b00691435896557af1af2807b1",
              "version_major": 2,
              "version_minor": 0
            },
            "text/plain": [
              "  0%|          | 0/104 [00:00<?, ?it/s]"
            ]
          },
          "metadata": {},
          "output_type": "display_data"
        },
        {
          "name": "stdout",
          "output_type": "stream",
          "text": [
            " Accuracy: 0.4002\n",
            " F1 score: 0.2762\n",
            " Average training loss: 1.4594\n",
            "Running Validation...\n"
          ]
        },
        {
          "data": {
            "application/vnd.jupyter.widget-view+json": {
              "model_id": "fbb79717dc2c4ed8824a9c5229536b10",
              "version_major": 2,
              "version_minor": 0
            },
            "text/plain": [
              "  0%|          | 0/9 [00:00<?, ?it/s]"
            ]
          },
          "metadata": {},
          "output_type": "display_data"
        },
        {
          "name": "stdout",
          "output_type": "stream",
          "text": [
            "logits:    [1 0 2 0 1 1 0 0 5 0 0 1 1 0 0 1 1 1 1 0 0 1 2 2 1 2]\n",
            "labels_id: [1 4 2 4 2 1 4 2 3 3 4 3 1 3 0 0 0 5 5 2 4 1 3 2 1 5]\n",
            " Accuracy: 0.3120\n",
            " F1 score: 0.2314\n",
            "======== Epoch 60 / 500 ========\n",
            "Training...\n"
          ]
        },
        {
          "data": {
            "application/vnd.jupyter.widget-view+json": {
              "model_id": "6cc0c9af31c543ffaeed366e3a0fc18d",
              "version_major": 2,
              "version_minor": 0
            },
            "text/plain": [
              "  0%|          | 0/104 [00:00<?, ?it/s]"
            ]
          },
          "metadata": {},
          "output_type": "display_data"
        },
        {
          "name": "stdout",
          "output_type": "stream",
          "text": [
            " Accuracy: 0.4105\n",
            " F1 score: 0.2842\n",
            " Average training loss: 1.4566\n",
            "Running Validation...\n"
          ]
        },
        {
          "data": {
            "application/vnd.jupyter.widget-view+json": {
              "model_id": "4f1f52b2576a4951a9e665cc2c8c1e7d",
              "version_major": 2,
              "version_minor": 0
            },
            "text/plain": [
              "  0%|          | 0/9 [00:00<?, ?it/s]"
            ]
          },
          "metadata": {},
          "output_type": "display_data"
        },
        {
          "name": "stdout",
          "output_type": "stream",
          "text": [
            "logits:    [1 0 2 0 1 1 0 0 5 0 0 1 1 0 0 1 1 1 1 0 0 1 2 2 1 2]\n",
            "labels_id: [1 4 2 4 2 1 4 2 3 3 4 3 1 3 0 0 0 5 5 2 4 1 3 2 1 5]\n",
            " Accuracy: 0.3137\n",
            " F1 score: 0.2328\n",
            "======== Epoch 61 / 500 ========\n",
            "Training...\n"
          ]
        },
        {
          "data": {
            "application/vnd.jupyter.widget-view+json": {
              "model_id": "4638ce3d3d634f82ac90bda018150bd1",
              "version_major": 2,
              "version_minor": 0
            },
            "text/plain": [
              "  0%|          | 0/104 [00:00<?, ?it/s]"
            ]
          },
          "metadata": {},
          "output_type": "display_data"
        },
        {
          "name": "stdout",
          "output_type": "stream",
          "text": [
            " Accuracy: 0.4092\n",
            " F1 score: 0.2816\n",
            " Average training loss: 1.4517\n",
            "Running Validation...\n"
          ]
        },
        {
          "data": {
            "application/vnd.jupyter.widget-view+json": {
              "model_id": "f500aec3e4f345a0b3e71ef20467233f",
              "version_major": 2,
              "version_minor": 0
            },
            "text/plain": [
              "  0%|          | 0/9 [00:00<?, ?it/s]"
            ]
          },
          "metadata": {},
          "output_type": "display_data"
        },
        {
          "name": "stdout",
          "output_type": "stream",
          "text": [
            "logits:    [1 0 2 0 1 1 0 0 5 0 0 1 1 0 0 1 1 1 1 0 0 1 2 2 1 2]\n",
            "labels_id: [1 4 2 4 2 1 4 2 3 3 4 3 1 3 0 0 0 5 5 2 4 1 3 2 1 5]\n",
            " Accuracy: 0.3154\n",
            " F1 score: 0.2335\n",
            "======== Epoch 62 / 500 ========\n",
            "Training...\n"
          ]
        },
        {
          "data": {
            "application/vnd.jupyter.widget-view+json": {
              "model_id": "50c02ef60a06499282c847caa33e5c6f",
              "version_major": 2,
              "version_minor": 0
            },
            "text/plain": [
              "  0%|          | 0/104 [00:00<?, ?it/s]"
            ]
          },
          "metadata": {},
          "output_type": "display_data"
        },
        {
          "name": "stdout",
          "output_type": "stream",
          "text": [
            " Accuracy: 0.4102\n",
            " F1 score: 0.2832\n",
            " Average training loss: 1.4488\n",
            "Running Validation...\n"
          ]
        },
        {
          "data": {
            "application/vnd.jupyter.widget-view+json": {
              "model_id": "f174593fb88f4262870a5a15a3136ddb",
              "version_major": 2,
              "version_minor": 0
            },
            "text/plain": [
              "  0%|          | 0/9 [00:00<?, ?it/s]"
            ]
          },
          "metadata": {},
          "output_type": "display_data"
        },
        {
          "name": "stdout",
          "output_type": "stream",
          "text": [
            "logits:    [1 0 2 0 1 1 0 0 2 0 0 1 1 0 0 1 1 1 1 0 0 1 2 2 1 2]\n",
            "labels_id: [1 4 2 4 2 1 4 2 3 3 4 3 1 3 0 0 0 5 5 2 4 1 3 2 1 5]\n",
            " Accuracy: 0.3154\n",
            " F1 score: 0.2334\n",
            "======== Epoch 63 / 500 ========\n",
            "Training...\n"
          ]
        },
        {
          "data": {
            "application/vnd.jupyter.widget-view+json": {
              "model_id": "ec9df42f02ce4835ad6534c36b3a6959",
              "version_major": 2,
              "version_minor": 0
            },
            "text/plain": [
              "  0%|          | 0/104 [00:00<?, ?it/s]"
            ]
          },
          "metadata": {},
          "output_type": "display_data"
        },
        {
          "name": "stdout",
          "output_type": "stream",
          "text": [
            " Accuracy: 0.4112\n",
            " F1 score: 0.2830\n",
            " Average training loss: 1.4472\n",
            "Running Validation...\n"
          ]
        },
        {
          "data": {
            "application/vnd.jupyter.widget-view+json": {
              "model_id": "ae68eb663bc04532a5ba3a55a8207658",
              "version_major": 2,
              "version_minor": 0
            },
            "text/plain": [
              "  0%|          | 0/9 [00:00<?, ?it/s]"
            ]
          },
          "metadata": {},
          "output_type": "display_data"
        },
        {
          "name": "stdout",
          "output_type": "stream",
          "text": [
            "logits:    [1 0 2 0 1 1 0 0 5 0 0 1 1 0 0 1 1 1 1 0 0 1 2 2 1 2]\n",
            "labels_id: [1 4 2 4 2 1 4 2 3 3 4 3 1 3 0 0 0 5 5 2 4 1 3 2 1 5]\n",
            " Accuracy: 0.3172\n",
            " F1 score: 0.2341\n",
            "======== Epoch 64 / 500 ========\n",
            "Training...\n"
          ]
        },
        {
          "data": {
            "application/vnd.jupyter.widget-view+json": {
              "model_id": "649a6ee532b44c6da0490a3e45de21a5",
              "version_major": 2,
              "version_minor": 0
            },
            "text/plain": [
              "  0%|          | 0/104 [00:00<?, ?it/s]"
            ]
          },
          "metadata": {},
          "output_type": "display_data"
        },
        {
          "name": "stdout",
          "output_type": "stream",
          "text": [
            " Accuracy: 0.4132\n",
            " F1 score: 0.2852\n",
            " Average training loss: 1.4456\n",
            "Running Validation...\n"
          ]
        },
        {
          "data": {
            "application/vnd.jupyter.widget-view+json": {
              "model_id": "6152d9b56ec24573ab998a7edc18c7d3",
              "version_major": 2,
              "version_minor": 0
            },
            "text/plain": [
              "  0%|          | 0/9 [00:00<?, ?it/s]"
            ]
          },
          "metadata": {},
          "output_type": "display_data"
        },
        {
          "name": "stdout",
          "output_type": "stream",
          "text": [
            "logits:    [1 0 2 0 1 1 0 0 5 0 0 1 1 0 0 1 1 1 1 0 0 1 2 2 1 2]\n",
            "labels_id: [1 4 2 4 2 1 4 2 3 3 4 3 1 3 0 0 0 5 5 2 4 1 3 2 1 5]\n",
            " Accuracy: 0.3172\n",
            " F1 score: 0.2340\n",
            "======== Epoch 65 / 500 ========\n",
            "Training...\n"
          ]
        },
        {
          "data": {
            "application/vnd.jupyter.widget-view+json": {
              "model_id": "e80b10008c1f46b6b429e9b7ed736a42",
              "version_major": 2,
              "version_minor": 0
            },
            "text/plain": [
              "  0%|          | 0/104 [00:00<?, ?it/s]"
            ]
          },
          "metadata": {},
          "output_type": "display_data"
        },
        {
          "name": "stdout",
          "output_type": "stream",
          "text": [
            " Accuracy: 0.4167\n",
            " F1 score: 0.2879\n",
            " Average training loss: 1.4406\n",
            "Running Validation...\n"
          ]
        },
        {
          "data": {
            "application/vnd.jupyter.widget-view+json": {
              "model_id": "ac8dd080ee98454b90298dfefb782185",
              "version_major": 2,
              "version_minor": 0
            },
            "text/plain": [
              "  0%|          | 0/9 [00:00<?, ?it/s]"
            ]
          },
          "metadata": {},
          "output_type": "display_data"
        },
        {
          "name": "stdout",
          "output_type": "stream",
          "text": [
            "logits:    [1 0 2 0 1 1 0 0 5 0 0 1 1 0 0 1 1 1 1 0 0 1 2 2 1 2]\n",
            "labels_id: [1 4 2 4 2 1 4 2 3 3 4 3 1 3 0 0 0 5 5 2 4 1 3 2 1 5]\n",
            " Accuracy: 0.3206\n",
            " F1 score: 0.2364\n",
            "======== Epoch 66 / 500 ========\n",
            "Training...\n"
          ]
        },
        {
          "data": {
            "application/vnd.jupyter.widget-view+json": {
              "model_id": "a2cb55199a5442068480f73acc6643be",
              "version_major": 2,
              "version_minor": 0
            },
            "text/plain": [
              "  0%|          | 0/104 [00:00<?, ?it/s]"
            ]
          },
          "metadata": {},
          "output_type": "display_data"
        },
        {
          "name": "stdout",
          "output_type": "stream",
          "text": [
            " Accuracy: 0.4206\n",
            " F1 score: 0.2905\n",
            " Average training loss: 1.4407\n",
            "Running Validation...\n"
          ]
        },
        {
          "data": {
            "application/vnd.jupyter.widget-view+json": {
              "model_id": "fd5bc5b6c40a4df6ae31ed6e533461e2",
              "version_major": 2,
              "version_minor": 0
            },
            "text/plain": [
              "  0%|          | 0/9 [00:00<?, ?it/s]"
            ]
          },
          "metadata": {},
          "output_type": "display_data"
        },
        {
          "name": "stdout",
          "output_type": "stream",
          "text": [
            "logits:    [1 0 2 0 1 1 0 0 2 0 0 1 1 0 0 1 1 1 1 0 0 1 2 2 1 2]\n",
            "labels_id: [1 4 2 4 2 1 4 2 3 3 4 3 1 3 0 0 0 5 5 2 4 1 3 2 1 5]\n",
            " Accuracy: 0.3259\n",
            " F1 score: 0.2391\n",
            "======== Epoch 67 / 500 ========\n",
            "Training...\n"
          ]
        },
        {
          "data": {
            "application/vnd.jupyter.widget-view+json": {
              "model_id": "22a86edb445e43eda47eee8cacafba00",
              "version_major": 2,
              "version_minor": 0
            },
            "text/plain": [
              "  0%|          | 0/104 [00:00<?, ?it/s]"
            ]
          },
          "metadata": {},
          "output_type": "display_data"
        },
        {
          "name": "stdout",
          "output_type": "stream",
          "text": [
            " Accuracy: 0.4198\n",
            " F1 score: 0.2897\n",
            " Average training loss: 1.4350\n",
            "Running Validation...\n"
          ]
        },
        {
          "data": {
            "application/vnd.jupyter.widget-view+json": {
              "model_id": "2751a43353f84359837263f03486033b",
              "version_major": 2,
              "version_minor": 0
            },
            "text/plain": [
              "  0%|          | 0/9 [00:00<?, ?it/s]"
            ]
          },
          "metadata": {},
          "output_type": "display_data"
        },
        {
          "name": "stdout",
          "output_type": "stream",
          "text": [
            "logits:    [1 0 2 0 1 1 0 0 2 0 0 1 1 0 0 1 1 1 1 0 0 1 2 2 1 2]\n",
            "labels_id: [1 4 2 4 2 1 4 2 3 3 4 3 1 3 0 0 0 5 5 2 4 1 3 2 1 5]\n",
            " Accuracy: 0.3259\n",
            " F1 score: 0.2390\n",
            "======== Epoch 68 / 500 ========\n",
            "Training...\n"
          ]
        },
        {
          "data": {
            "application/vnd.jupyter.widget-view+json": {
              "model_id": "24a5b5012bc34a37a175f3c900e2a03c",
              "version_major": 2,
              "version_minor": 0
            },
            "text/plain": [
              "  0%|          | 0/104 [00:00<?, ?it/s]"
            ]
          },
          "metadata": {},
          "output_type": "display_data"
        },
        {
          "name": "stdout",
          "output_type": "stream",
          "text": [
            " Accuracy: 0.4242\n",
            " F1 score: 0.2913\n",
            " Average training loss: 1.4298\n",
            "Running Validation...\n"
          ]
        },
        {
          "data": {
            "application/vnd.jupyter.widget-view+json": {
              "model_id": "0e9750eae5ad4d1eae74aa6ccab14887",
              "version_major": 2,
              "version_minor": 0
            },
            "text/plain": [
              "  0%|          | 0/9 [00:00<?, ?it/s]"
            ]
          },
          "metadata": {},
          "output_type": "display_data"
        },
        {
          "name": "stdout",
          "output_type": "stream",
          "text": [
            "logits:    [1 0 2 0 1 1 0 0 2 0 0 1 1 0 0 1 1 1 1 0 0 1 2 2 1 2]\n",
            "labels_id: [1 4 2 4 2 1 4 2 3 3 4 3 1 3 0 0 0 5 5 2 4 1 3 2 1 5]\n",
            " Accuracy: 0.3311\n",
            " F1 score: 0.2445\n",
            "======== Epoch 69 / 500 ========\n",
            "Training...\n"
          ]
        },
        {
          "data": {
            "application/vnd.jupyter.widget-view+json": {
              "model_id": "6455e2d9d6b54433a92aa53702061d90",
              "version_major": 2,
              "version_minor": 0
            },
            "text/plain": [
              "  0%|          | 0/104 [00:00<?, ?it/s]"
            ]
          },
          "metadata": {},
          "output_type": "display_data"
        },
        {
          "name": "stdout",
          "output_type": "stream",
          "text": [
            " Accuracy: 0.4212\n",
            " F1 score: 0.2900\n",
            " Average training loss: 1.4280\n",
            "Running Validation...\n"
          ]
        },
        {
          "data": {
            "application/vnd.jupyter.widget-view+json": {
              "model_id": "1087150192ac44979346b515ec9568ff",
              "version_major": 2,
              "version_minor": 0
            },
            "text/plain": [
              "  0%|          | 0/9 [00:00<?, ?it/s]"
            ]
          },
          "metadata": {},
          "output_type": "display_data"
        },
        {
          "name": "stdout",
          "output_type": "stream",
          "text": [
            "logits:    [1 0 2 0 1 1 0 0 2 0 0 1 1 0 0 1 1 1 1 0 0 1 2 2 1 2]\n",
            "labels_id: [1 4 2 4 2 1 4 2 3 3 4 3 1 3 0 0 0 5 5 2 4 1 3 2 1 5]\n",
            " Accuracy: 0.3328\n",
            " F1 score: 0.2452\n",
            "======== Epoch 70 / 500 ========\n",
            "Training...\n"
          ]
        },
        {
          "data": {
            "application/vnd.jupyter.widget-view+json": {
              "model_id": "cfd59cfbacfb4aeaac35ca1518c1e308",
              "version_major": 2,
              "version_minor": 0
            },
            "text/plain": [
              "  0%|          | 0/104 [00:00<?, ?it/s]"
            ]
          },
          "metadata": {},
          "output_type": "display_data"
        },
        {
          "name": "stdout",
          "output_type": "stream",
          "text": [
            " Accuracy: 0.4293\n",
            " F1 score: 0.2968\n",
            " Average training loss: 1.4206\n",
            "Running Validation...\n"
          ]
        },
        {
          "data": {
            "application/vnd.jupyter.widget-view+json": {
              "model_id": "e28a8c7cc9de4db491a448592f26bda0",
              "version_major": 2,
              "version_minor": 0
            },
            "text/plain": [
              "  0%|          | 0/9 [00:00<?, ?it/s]"
            ]
          },
          "metadata": {},
          "output_type": "display_data"
        },
        {
          "name": "stdout",
          "output_type": "stream",
          "text": [
            "logits:    [1 0 2 0 1 1 0 0 2 0 0 1 1 0 0 1 1 1 0 0 0 1 2 2 1 2]\n",
            "labels_id: [1 4 2 4 2 1 4 2 3 3 4 3 1 3 0 0 0 5 5 2 4 1 3 2 1 5]\n",
            " Accuracy: 0.3363\n",
            " F1 score: 0.2485\n",
            "======== Epoch 71 / 500 ========\n",
            "Training...\n"
          ]
        },
        {
          "data": {
            "application/vnd.jupyter.widget-view+json": {
              "model_id": "03719be10be949c295951a14fb259a24",
              "version_major": 2,
              "version_minor": 0
            },
            "text/plain": [
              "  0%|          | 0/104 [00:00<?, ?it/s]"
            ]
          },
          "metadata": {},
          "output_type": "display_data"
        },
        {
          "name": "stdout",
          "output_type": "stream",
          "text": [
            " Accuracy: 0.4336\n",
            " F1 score: 0.2997\n",
            " Average training loss: 1.4169\n",
            "Running Validation...\n"
          ]
        },
        {
          "data": {
            "application/vnd.jupyter.widget-view+json": {
              "model_id": "bb00af05dec1405c9ca14ca2381728ba",
              "version_major": 2,
              "version_minor": 0
            },
            "text/plain": [
              "  0%|          | 0/9 [00:00<?, ?it/s]"
            ]
          },
          "metadata": {},
          "output_type": "display_data"
        },
        {
          "name": "stdout",
          "output_type": "stream",
          "text": [
            "logits:    [1 0 2 0 1 1 0 0 2 0 0 1 1 0 0 1 1 1 0 0 0 1 2 2 1 2]\n",
            "labels_id: [1 4 2 4 2 1 4 2 3 3 4 3 1 3 0 0 0 5 5 2 4 1 3 2 1 5]\n",
            " Accuracy: 0.3380\n",
            " F1 score: 0.2498\n",
            "======== Epoch 72 / 500 ========\n",
            "Training...\n"
          ]
        },
        {
          "data": {
            "application/vnd.jupyter.widget-view+json": {
              "model_id": "2719bde0af544d909a4d7573cb8298a2",
              "version_major": 2,
              "version_minor": 0
            },
            "text/plain": [
              "  0%|          | 0/104 [00:00<?, ?it/s]"
            ]
          },
          "metadata": {},
          "output_type": "display_data"
        },
        {
          "name": "stdout",
          "output_type": "stream",
          "text": [
            " Accuracy: 0.4356\n",
            " F1 score: 0.3004\n",
            " Average training loss: 1.4175\n",
            "Running Validation...\n"
          ]
        },
        {
          "data": {
            "application/vnd.jupyter.widget-view+json": {
              "model_id": "3cf764c57af5467e89da406200695440",
              "version_major": 2,
              "version_minor": 0
            },
            "text/plain": [
              "  0%|          | 0/9 [00:00<?, ?it/s]"
            ]
          },
          "metadata": {},
          "output_type": "display_data"
        },
        {
          "name": "stdout",
          "output_type": "stream",
          "text": [
            "logits:    [1 0 2 0 1 1 0 0 2 0 0 1 1 0 0 1 1 1 0 0 0 1 2 2 1 2]\n",
            "labels_id: [1 4 2 4 2 1 4 2 3 3 4 3 1 3 0 0 0 5 5 2 4 1 3 2 1 5]\n",
            " Accuracy: 0.3380\n",
            " F1 score: 0.2498\n",
            "======== Epoch 73 / 500 ========\n",
            "Training...\n"
          ]
        },
        {
          "data": {
            "application/vnd.jupyter.widget-view+json": {
              "model_id": "0d56dcf4248e473086da28f3dd812315",
              "version_major": 2,
              "version_minor": 0
            },
            "text/plain": [
              "  0%|          | 0/104 [00:00<?, ?it/s]"
            ]
          },
          "metadata": {},
          "output_type": "display_data"
        },
        {
          "name": "stdout",
          "output_type": "stream",
          "text": [
            " Accuracy: 0.4361\n",
            " F1 score: 0.3015\n",
            " Average training loss: 1.4126\n",
            "Running Validation...\n"
          ]
        },
        {
          "data": {
            "application/vnd.jupyter.widget-view+json": {
              "model_id": "58b93cefd2994855bb0edb4aac6aeb88",
              "version_major": 2,
              "version_minor": 0
            },
            "text/plain": [
              "  0%|          | 0/9 [00:00<?, ?it/s]"
            ]
          },
          "metadata": {},
          "output_type": "display_data"
        },
        {
          "name": "stdout",
          "output_type": "stream",
          "text": [
            "logits:    [1 0 2 0 1 1 0 0 2 0 0 1 1 0 0 1 1 1 0 0 0 1 2 2 1 2]\n",
            "labels_id: [1 4 2 4 2 1 4 2 3 3 4 3 1 3 0 0 0 5 5 2 4 1 3 2 1 5]\n",
            " Accuracy: 0.3380\n",
            " F1 score: 0.2496\n",
            "======== Epoch 74 / 500 ========\n",
            "Training...\n"
          ]
        },
        {
          "data": {
            "application/vnd.jupyter.widget-view+json": {
              "model_id": "314cf2f5753a4eee8268f61b74581380",
              "version_major": 2,
              "version_minor": 0
            },
            "text/plain": [
              "  0%|          | 0/104 [00:00<?, ?it/s]"
            ]
          },
          "metadata": {},
          "output_type": "display_data"
        },
        {
          "name": "stdout",
          "output_type": "stream",
          "text": [
            " Accuracy: 0.4335\n",
            " F1 score: 0.2994\n",
            " Average training loss: 1.4091\n",
            "Running Validation...\n"
          ]
        },
        {
          "data": {
            "application/vnd.jupyter.widget-view+json": {
              "model_id": "63af40bfd3734d87951b2d63cc87bd14",
              "version_major": 2,
              "version_minor": 0
            },
            "text/plain": [
              "  0%|          | 0/9 [00:00<?, ?it/s]"
            ]
          },
          "metadata": {},
          "output_type": "display_data"
        },
        {
          "name": "stdout",
          "output_type": "stream",
          "text": [
            "logits:    [1 0 2 0 1 1 0 0 2 0 0 0 1 0 0 1 1 1 0 0 0 1 2 2 1 2]\n",
            "labels_id: [1 4 2 4 2 1 4 2 3 3 4 3 1 3 0 0 0 5 5 2 4 1 3 2 1 5]\n",
            " Accuracy: 0.3397\n",
            " F1 score: 0.2523\n",
            "======== Epoch 75 / 500 ========\n",
            "Training...\n"
          ]
        },
        {
          "data": {
            "application/vnd.jupyter.widget-view+json": {
              "model_id": "a0c6957b5a0943f3ba10282432c0011a",
              "version_major": 2,
              "version_minor": 0
            },
            "text/plain": [
              "  0%|          | 0/104 [00:00<?, ?it/s]"
            ]
          },
          "metadata": {},
          "output_type": "display_data"
        },
        {
          "name": "stdout",
          "output_type": "stream",
          "text": [
            " Accuracy: 0.4314\n",
            " F1 score: 0.2989\n",
            " Average training loss: 1.4088\n",
            "Running Validation...\n"
          ]
        },
        {
          "data": {
            "application/vnd.jupyter.widget-view+json": {
              "model_id": "bc3628a9e5dc4e94be2a06cd940512be",
              "version_major": 2,
              "version_minor": 0
            },
            "text/plain": [
              "  0%|          | 0/9 [00:00<?, ?it/s]"
            ]
          },
          "metadata": {},
          "output_type": "display_data"
        },
        {
          "name": "stdout",
          "output_type": "stream",
          "text": [
            "logits:    [1 0 2 0 1 1 0 0 2 0 0 0 1 0 0 0 1 1 0 0 0 1 2 2 1 2]\n",
            "labels_id: [1 4 2 4 2 1 4 2 3 3 4 3 1 3 0 0 0 5 5 2 4 1 3 2 1 5]\n",
            " Accuracy: 0.3458\n",
            " F1 score: 0.2572\n",
            "======== Epoch 76 / 500 ========\n",
            "Training...\n"
          ]
        },
        {
          "data": {
            "application/vnd.jupyter.widget-view+json": {
              "model_id": "7be8e15251424e71b45190a6f9fa345b",
              "version_major": 2,
              "version_minor": 0
            },
            "text/plain": [
              "  0%|          | 0/104 [00:00<?, ?it/s]"
            ]
          },
          "metadata": {},
          "output_type": "display_data"
        },
        {
          "name": "stdout",
          "output_type": "stream",
          "text": [
            " Accuracy: 0.4389\n",
            " F1 score: 0.3032\n",
            " Average training loss: 1.4046\n",
            "Running Validation...\n"
          ]
        },
        {
          "data": {
            "application/vnd.jupyter.widget-view+json": {
              "model_id": "97564cb651f44f3aa6df3dd9762a653f",
              "version_major": 2,
              "version_minor": 0
            },
            "text/plain": [
              "  0%|          | 0/9 [00:00<?, ?it/s]"
            ]
          },
          "metadata": {},
          "output_type": "display_data"
        },
        {
          "name": "stdout",
          "output_type": "stream",
          "text": [
            "logits:    [1 0 2 0 1 1 0 0 2 0 0 0 1 0 0 0 1 1 0 0 0 1 2 2 1 2]\n",
            "labels_id: [1 4 2 4 2 1 4 2 3 3 4 3 1 3 0 0 0 5 5 2 4 1 3 2 1 5]\n",
            " Accuracy: 0.3440\n",
            " F1 score: 0.2554\n",
            "======== Epoch 77 / 500 ========\n",
            "Training...\n"
          ]
        },
        {
          "data": {
            "application/vnd.jupyter.widget-view+json": {
              "model_id": "f65b35e300a54c9a9eb85a0781cd0406",
              "version_major": 2,
              "version_minor": 0
            },
            "text/plain": [
              "  0%|          | 0/104 [00:00<?, ?it/s]"
            ]
          },
          "metadata": {},
          "output_type": "display_data"
        },
        {
          "name": "stdout",
          "output_type": "stream",
          "text": [
            " Accuracy: 0.4335\n",
            " F1 score: 0.3001\n",
            " Average training loss: 1.4028\n",
            "Running Validation...\n"
          ]
        },
        {
          "data": {
            "application/vnd.jupyter.widget-view+json": {
              "model_id": "eee19cfa976c4e6faef8c11345eecbb9",
              "version_major": 2,
              "version_minor": 0
            },
            "text/plain": [
              "  0%|          | 0/9 [00:00<?, ?it/s]"
            ]
          },
          "metadata": {},
          "output_type": "display_data"
        },
        {
          "name": "stdout",
          "output_type": "stream",
          "text": [
            "logits:    [1 0 2 0 1 1 0 0 2 0 0 0 1 0 0 0 1 1 0 0 0 1 2 2 1 2]\n",
            "labels_id: [1 4 2 4 2 1 4 2 3 3 4 3 1 3 0 0 0 5 5 2 4 1 3 2 1 5]\n",
            " Accuracy: 0.3440\n",
            " F1 score: 0.2554\n",
            "======== Epoch 78 / 500 ========\n",
            "Training...\n"
          ]
        },
        {
          "data": {
            "application/vnd.jupyter.widget-view+json": {
              "model_id": "d546339014f94cc7adfaf9269a4d781b",
              "version_major": 2,
              "version_minor": 0
            },
            "text/plain": [
              "  0%|          | 0/104 [00:00<?, ?it/s]"
            ]
          },
          "metadata": {},
          "output_type": "display_data"
        },
        {
          "name": "stdout",
          "output_type": "stream",
          "text": [
            " Accuracy: 0.4378\n",
            " F1 score: 0.3027\n",
            " Average training loss: 1.4006\n",
            "Running Validation...\n"
          ]
        },
        {
          "data": {
            "application/vnd.jupyter.widget-view+json": {
              "model_id": "590d74dbb4b7499495e8e568582684c2",
              "version_major": 2,
              "version_minor": 0
            },
            "text/plain": [
              "  0%|          | 0/9 [00:00<?, ?it/s]"
            ]
          },
          "metadata": {},
          "output_type": "display_data"
        },
        {
          "name": "stdout",
          "output_type": "stream",
          "text": [
            "logits:    [1 0 2 0 1 1 0 0 2 0 0 0 1 0 0 0 1 1 0 0 0 1 2 2 1 2]\n",
            "labels_id: [1 4 2 4 2 1 4 2 3 3 4 3 1 3 0 0 0 5 5 2 4 1 3 2 1 5]\n",
            " Accuracy: 0.3405\n",
            " F1 score: 0.2517\n",
            "======== Epoch 79 / 500 ========\n",
            "Training...\n"
          ]
        },
        {
          "data": {
            "application/vnd.jupyter.widget-view+json": {
              "model_id": "1bd8ab02041245db8804625d7295e872",
              "version_major": 2,
              "version_minor": 0
            },
            "text/plain": [
              "  0%|          | 0/104 [00:00<?, ?it/s]"
            ]
          },
          "metadata": {},
          "output_type": "display_data"
        },
        {
          "name": "stdout",
          "output_type": "stream",
          "text": [
            " Accuracy: 0.4395\n",
            " F1 score: 0.3035\n",
            " Average training loss: 1.3952\n",
            "Running Validation...\n"
          ]
        },
        {
          "data": {
            "application/vnd.jupyter.widget-view+json": {
              "model_id": "a14860fb59a448a7b14aa3e91207b4a2",
              "version_major": 2,
              "version_minor": 0
            },
            "text/plain": [
              "  0%|          | 0/9 [00:00<?, ?it/s]"
            ]
          },
          "metadata": {},
          "output_type": "display_data"
        },
        {
          "name": "stdout",
          "output_type": "stream",
          "text": [
            "logits:    [1 0 2 0 1 1 0 0 2 0 0 0 1 0 0 0 1 1 0 0 0 1 2 2 1 2]\n",
            "labels_id: [1 4 2 4 2 1 4 2 3 3 4 3 1 3 0 0 0 5 5 2 4 1 3 2 1 5]\n",
            " Accuracy: 0.3388\n",
            " F1 score: 0.2512\n",
            "======== Epoch 80 / 500 ========\n",
            "Training...\n"
          ]
        },
        {
          "data": {
            "application/vnd.jupyter.widget-view+json": {
              "model_id": "334e9d41092d48829ca964a135c0f17f",
              "version_major": 2,
              "version_minor": 0
            },
            "text/plain": [
              "  0%|          | 0/104 [00:00<?, ?it/s]"
            ]
          },
          "metadata": {},
          "output_type": "display_data"
        },
        {
          "name": "stdout",
          "output_type": "stream",
          "text": [
            " Accuracy: 0.4353\n",
            " F1 score: 0.3018\n",
            " Average training loss: 1.3995\n",
            "Running Validation...\n"
          ]
        },
        {
          "data": {
            "application/vnd.jupyter.widget-view+json": {
              "model_id": "5013c74f22624c79b9ca93b8ba77ae4b",
              "version_major": 2,
              "version_minor": 0
            },
            "text/plain": [
              "  0%|          | 0/9 [00:00<?, ?it/s]"
            ]
          },
          "metadata": {},
          "output_type": "display_data"
        },
        {
          "name": "stdout",
          "output_type": "stream",
          "text": [
            "logits:    [1 0 2 0 1 1 0 0 2 0 0 0 1 0 0 0 1 1 0 0 0 1 2 2 1 2]\n",
            "labels_id: [1 4 2 4 2 1 4 2 3 3 4 3 1 3 0 0 0 5 5 2 4 1 3 2 1 5]\n",
            " Accuracy: 0.3371\n",
            " F1 score: 0.2505\n",
            "======== Epoch 81 / 500 ========\n",
            "Training...\n"
          ]
        },
        {
          "data": {
            "application/vnd.jupyter.widget-view+json": {
              "model_id": "bbff09c0cfd94480b7acba7bfeefffa7",
              "version_major": 2,
              "version_minor": 0
            },
            "text/plain": [
              "  0%|          | 0/104 [00:00<?, ?it/s]"
            ]
          },
          "metadata": {},
          "output_type": "display_data"
        },
        {
          "name": "stdout",
          "output_type": "stream",
          "text": [
            " Accuracy: 0.4475\n",
            " F1 score: 0.3097\n",
            " Average training loss: 1.3864\n",
            "Running Validation...\n"
          ]
        },
        {
          "data": {
            "application/vnd.jupyter.widget-view+json": {
              "model_id": "686a2b86c6044f3a9854fd9282e7872d",
              "version_major": 2,
              "version_minor": 0
            },
            "text/plain": [
              "  0%|          | 0/9 [00:00<?, ?it/s]"
            ]
          },
          "metadata": {},
          "output_type": "display_data"
        },
        {
          "name": "stdout",
          "output_type": "stream",
          "text": [
            "logits:    [1 0 2 0 1 1 0 0 2 0 0 0 1 0 0 0 1 1 0 0 0 1 2 2 1 2]\n",
            "labels_id: [1 4 2 4 2 1 4 2 3 3 4 3 1 3 0 0 0 5 5 2 4 1 3 2 1 5]\n",
            " Accuracy: 0.3353\n",
            " F1 score: 0.2491\n",
            "======== Epoch 82 / 500 ========\n",
            "Training...\n"
          ]
        },
        {
          "data": {
            "application/vnd.jupyter.widget-view+json": {
              "model_id": "a25010aa54be4b589d5c02b83089fb9f",
              "version_major": 2,
              "version_minor": 0
            },
            "text/plain": [
              "  0%|          | 0/104 [00:00<?, ?it/s]"
            ]
          },
          "metadata": {},
          "output_type": "display_data"
        },
        {
          "name": "stdout",
          "output_type": "stream",
          "text": [
            " Accuracy: 0.4446\n",
            " F1 score: 0.3084\n",
            " Average training loss: 1.3809\n",
            "Running Validation...\n"
          ]
        },
        {
          "data": {
            "application/vnd.jupyter.widget-view+json": {
              "model_id": "a3de19dbaf574d7db9adb5bd51cf00b6",
              "version_major": 2,
              "version_minor": 0
            },
            "text/plain": [
              "  0%|          | 0/9 [00:00<?, ?it/s]"
            ]
          },
          "metadata": {},
          "output_type": "display_data"
        },
        {
          "name": "stdout",
          "output_type": "stream",
          "text": [
            "logits:    [1 0 2 0 1 1 0 0 2 0 0 0 1 0 0 0 1 1 0 0 0 1 2 2 1 2]\n",
            "labels_id: [1 4 2 4 2 1 4 2 3 3 4 3 1 3 0 0 0 5 5 2 4 1 3 2 1 5]\n",
            " Accuracy: 0.3423\n",
            " F1 score: 0.2538\n",
            "======== Epoch 83 / 500 ========\n",
            "Training...\n"
          ]
        },
        {
          "data": {
            "application/vnd.jupyter.widget-view+json": {
              "model_id": "e889bb82b5a140af8b6b931b3a8bac19",
              "version_major": 2,
              "version_minor": 0
            },
            "text/plain": [
              "  0%|          | 0/104 [00:00<?, ?it/s]"
            ]
          },
          "metadata": {},
          "output_type": "display_data"
        },
        {
          "name": "stdout",
          "output_type": "stream",
          "text": [
            " Accuracy: 0.4421\n",
            " F1 score: 0.3049\n",
            " Average training loss: 1.3861\n",
            "Running Validation...\n"
          ]
        },
        {
          "data": {
            "application/vnd.jupyter.widget-view+json": {
              "model_id": "94973a78a004438cb79ae41e81624ed0",
              "version_major": 2,
              "version_minor": 0
            },
            "text/plain": [
              "  0%|          | 0/9 [00:00<?, ?it/s]"
            ]
          },
          "metadata": {},
          "output_type": "display_data"
        },
        {
          "name": "stdout",
          "output_type": "stream",
          "text": [
            "logits:    [1 0 2 0 1 1 0 0 2 0 0 0 1 0 0 0 1 1 0 0 0 1 2 2 1 2]\n",
            "labels_id: [1 4 2 4 2 1 4 2 3 3 4 3 1 3 0 0 0 5 5 2 4 1 3 2 1 5]\n",
            " Accuracy: 0.3440\n",
            " F1 score: 0.2546\n",
            "======== Epoch 84 / 500 ========\n",
            "Training...\n"
          ]
        },
        {
          "data": {
            "application/vnd.jupyter.widget-view+json": {
              "model_id": "9799c03e05734b5b92a2c608b54c9f0d",
              "version_major": 2,
              "version_minor": 0
            },
            "text/plain": [
              "  0%|          | 0/104 [00:00<?, ?it/s]"
            ]
          },
          "metadata": {},
          "output_type": "display_data"
        },
        {
          "name": "stdout",
          "output_type": "stream",
          "text": [
            " Accuracy: 0.4503\n",
            " F1 score: 0.3120\n",
            " Average training loss: 1.3813\n",
            "Running Validation...\n"
          ]
        },
        {
          "data": {
            "application/vnd.jupyter.widget-view+json": {
              "model_id": "bf044ffa66664948ab8fde29ca629201",
              "version_major": 2,
              "version_minor": 0
            },
            "text/plain": [
              "  0%|          | 0/9 [00:00<?, ?it/s]"
            ]
          },
          "metadata": {},
          "output_type": "display_data"
        },
        {
          "name": "stdout",
          "output_type": "stream",
          "text": [
            "logits:    [1 0 2 0 1 1 0 0 2 0 0 0 1 0 0 0 1 1 0 0 0 1 2 2 1 2]\n",
            "labels_id: [1 4 2 4 2 1 4 2 3 3 4 3 1 3 0 0 0 5 5 2 4 1 3 2 1 5]\n",
            " Accuracy: 0.3440\n",
            " F1 score: 0.2546\n",
            "======== Epoch 85 / 500 ========\n",
            "Training...\n"
          ]
        },
        {
          "data": {
            "application/vnd.jupyter.widget-view+json": {
              "model_id": "48312b905fe54d3ea606995d9f77ddf3",
              "version_major": 2,
              "version_minor": 0
            },
            "text/plain": [
              "  0%|          | 0/104 [00:00<?, ?it/s]"
            ]
          },
          "metadata": {},
          "output_type": "display_data"
        },
        {
          "name": "stdout",
          "output_type": "stream",
          "text": [
            " Accuracy: 0.4526\n",
            " F1 score: 0.3137\n",
            " Average training loss: 1.3817\n",
            "Running Validation...\n"
          ]
        },
        {
          "data": {
            "application/vnd.jupyter.widget-view+json": {
              "model_id": "72f4085d5c3d4936991f9c0148b6d96f",
              "version_major": 2,
              "version_minor": 0
            },
            "text/plain": [
              "  0%|          | 0/9 [00:00<?, ?it/s]"
            ]
          },
          "metadata": {},
          "output_type": "display_data"
        },
        {
          "name": "stdout",
          "output_type": "stream",
          "text": [
            "logits:    [1 0 2 0 1 1 0 0 2 0 0 0 1 0 0 0 1 1 0 0 0 1 2 2 1 2]\n",
            "labels_id: [1 4 2 4 2 1 4 2 3 3 4 3 1 3 0 0 0 5 5 2 4 1 3 2 1 5]\n",
            " Accuracy: 0.3440\n",
            " F1 score: 0.2555\n",
            "======== Epoch 86 / 500 ========\n",
            "Training...\n"
          ]
        },
        {
          "data": {
            "application/vnd.jupyter.widget-view+json": {
              "model_id": "5df0eb38efec42e7a578d9d350837c57",
              "version_major": 2,
              "version_minor": 0
            },
            "text/plain": [
              "  0%|          | 0/104 [00:00<?, ?it/s]"
            ]
          },
          "metadata": {},
          "output_type": "display_data"
        },
        {
          "name": "stdout",
          "output_type": "stream",
          "text": [
            " Accuracy: 0.4532\n",
            " F1 score: 0.3147\n",
            " Average training loss: 1.3804\n",
            "Running Validation...\n"
          ]
        },
        {
          "data": {
            "application/vnd.jupyter.widget-view+json": {
              "model_id": "38756fed46a945f582a9cfc24f63c481",
              "version_major": 2,
              "version_minor": 0
            },
            "text/plain": [
              "  0%|          | 0/9 [00:00<?, ?it/s]"
            ]
          },
          "metadata": {},
          "output_type": "display_data"
        },
        {
          "name": "stdout",
          "output_type": "stream",
          "text": [
            "logits:    [1 0 2 0 1 1 0 0 2 0 0 0 1 0 0 0 1 1 0 0 0 1 2 2 1 2]\n",
            "labels_id: [1 4 2 4 2 1 4 2 3 3 4 3 1 3 0 0 0 5 5 2 4 1 3 2 1 5]\n",
            " Accuracy: 0.3440\n",
            " F1 score: 0.2555\n",
            "======== Epoch 87 / 500 ========\n",
            "Training...\n"
          ]
        },
        {
          "data": {
            "application/vnd.jupyter.widget-view+json": {
              "model_id": "8b4b2ed679db4b768959cb018083169f",
              "version_major": 2,
              "version_minor": 0
            },
            "text/plain": [
              "  0%|          | 0/104 [00:00<?, ?it/s]"
            ]
          },
          "metadata": {},
          "output_type": "display_data"
        },
        {
          "name": "stdout",
          "output_type": "stream",
          "text": [
            " Accuracy: 0.4513\n",
            " F1 score: 0.3126\n",
            " Average training loss: 1.3695\n",
            "Running Validation...\n"
          ]
        },
        {
          "data": {
            "application/vnd.jupyter.widget-view+json": {
              "model_id": "18b15afe301d48469d05fa092cfb2240",
              "version_major": 2,
              "version_minor": 0
            },
            "text/plain": [
              "  0%|          | 0/9 [00:00<?, ?it/s]"
            ]
          },
          "metadata": {},
          "output_type": "display_data"
        },
        {
          "name": "stdout",
          "output_type": "stream",
          "text": [
            "logits:    [1 0 2 0 1 1 0 0 2 0 0 0 1 0 0 0 1 1 0 0 0 1 2 2 1 2]\n",
            "labels_id: [1 4 2 4 2 1 4 2 3 3 4 3 1 3 0 0 0 5 5 2 4 1 3 2 1 5]\n",
            " Accuracy: 0.3440\n",
            " F1 score: 0.2561\n",
            "======== Epoch 88 / 500 ========\n",
            "Training...\n"
          ]
        },
        {
          "data": {
            "application/vnd.jupyter.widget-view+json": {
              "model_id": "df793211f4754b339b4af3d2d050a5ca",
              "version_major": 2,
              "version_minor": 0
            },
            "text/plain": [
              "  0%|          | 0/104 [00:00<?, ?it/s]"
            ]
          },
          "metadata": {},
          "output_type": "display_data"
        },
        {
          "name": "stdout",
          "output_type": "stream",
          "text": [
            " Accuracy: 0.4472\n",
            " F1 score: 0.3115\n",
            " Average training loss: 1.3713\n",
            "Running Validation...\n"
          ]
        },
        {
          "data": {
            "application/vnd.jupyter.widget-view+json": {
              "model_id": "f9f6cb976c7940fc8f868c3d2d1134d5",
              "version_major": 2,
              "version_minor": 0
            },
            "text/plain": [
              "  0%|          | 0/9 [00:00<?, ?it/s]"
            ]
          },
          "metadata": {},
          "output_type": "display_data"
        },
        {
          "name": "stdout",
          "output_type": "stream",
          "text": [
            "logits:    [1 0 2 0 1 1 0 0 2 0 0 0 1 0 0 0 1 1 0 0 0 1 2 2 1 2]\n",
            "labels_id: [1 4 2 4 2 1 4 2 3 3 4 3 1 3 0 0 0 5 5 2 4 1 3 2 1 5]\n",
            " Accuracy: 0.3423\n",
            " F1 score: 0.2549\n",
            "======== Epoch 89 / 500 ========\n",
            "Training...\n"
          ]
        },
        {
          "data": {
            "application/vnd.jupyter.widget-view+json": {
              "model_id": "dc32eb9529864eee8b31bdbe55856bc0",
              "version_major": 2,
              "version_minor": 0
            },
            "text/plain": [
              "  0%|          | 0/104 [00:00<?, ?it/s]"
            ]
          },
          "metadata": {},
          "output_type": "display_data"
        },
        {
          "name": "stdout",
          "output_type": "stream",
          "text": [
            " Accuracy: 0.4636\n",
            " F1 score: 0.3199\n",
            " Average training loss: 1.3587\n",
            "Running Validation...\n"
          ]
        },
        {
          "data": {
            "application/vnd.jupyter.widget-view+json": {
              "model_id": "0665cca7636b4c228eb1e103c0b0ecd4",
              "version_major": 2,
              "version_minor": 0
            },
            "text/plain": [
              "  0%|          | 0/9 [00:00<?, ?it/s]"
            ]
          },
          "metadata": {},
          "output_type": "display_data"
        },
        {
          "name": "stdout",
          "output_type": "stream",
          "text": [
            "logits:    [1 0 2 0 1 1 0 0 2 0 0 0 1 0 0 0 1 1 0 0 0 1 2 2 1 2]\n",
            "labels_id: [1 4 2 4 2 1 4 2 3 3 4 3 1 3 0 0 0 5 5 2 4 1 3 2 1 5]\n",
            " Accuracy: 0.3440\n",
            " F1 score: 0.2571\n",
            "======== Epoch 90 / 500 ========\n",
            "Training...\n"
          ]
        },
        {
          "data": {
            "application/vnd.jupyter.widget-view+json": {
              "model_id": "5dedae72c0014d47b33328ba7a83707f",
              "version_major": 2,
              "version_minor": 0
            },
            "text/plain": [
              "  0%|          | 0/104 [00:00<?, ?it/s]"
            ]
          },
          "metadata": {},
          "output_type": "display_data"
        },
        {
          "name": "stdout",
          "output_type": "stream",
          "text": [
            " Accuracy: 0.4479\n",
            " F1 score: 0.3107\n",
            " Average training loss: 1.3664\n",
            "Running Validation...\n"
          ]
        },
        {
          "data": {
            "application/vnd.jupyter.widget-view+json": {
              "model_id": "6169dc0f8b584314a3cf99e34645fe83",
              "version_major": 2,
              "version_minor": 0
            },
            "text/plain": [
              "  0%|          | 0/9 [00:00<?, ?it/s]"
            ]
          },
          "metadata": {},
          "output_type": "display_data"
        },
        {
          "name": "stdout",
          "output_type": "stream",
          "text": [
            "logits:    [1 0 2 0 1 1 0 0 2 0 0 0 1 0 0 0 1 1 0 0 0 1 2 2 1 2]\n",
            "labels_id: [1 4 2 4 2 1 4 2 3 3 4 3 1 3 0 0 0 5 5 2 4 1 3 2 1 5]\n",
            " Accuracy: 0.3492\n",
            " F1 score: 0.2604\n",
            "======== Epoch 91 / 500 ========\n",
            "Training...\n"
          ]
        },
        {
          "data": {
            "application/vnd.jupyter.widget-view+json": {
              "model_id": "ae2177dab5f84ef081b6940909060809",
              "version_major": 2,
              "version_minor": 0
            },
            "text/plain": [
              "  0%|          | 0/104 [00:00<?, ?it/s]"
            ]
          },
          "metadata": {},
          "output_type": "display_data"
        },
        {
          "name": "stdout",
          "output_type": "stream",
          "text": [
            " Accuracy: 0.4538\n",
            " F1 score: 0.3150\n",
            " Average training loss: 1.3663\n",
            "Running Validation...\n"
          ]
        },
        {
          "data": {
            "application/vnd.jupyter.widget-view+json": {
              "model_id": "1171edb5cfc74239811d4efc699fa6d9",
              "version_major": 2,
              "version_minor": 0
            },
            "text/plain": [
              "  0%|          | 0/9 [00:00<?, ?it/s]"
            ]
          },
          "metadata": {},
          "output_type": "display_data"
        },
        {
          "name": "stdout",
          "output_type": "stream",
          "text": [
            "logits:    [1 0 2 0 1 1 0 0 2 0 0 0 1 0 0 0 1 1 0 0 0 1 2 2 1 2]\n",
            "labels_id: [1 4 2 4 2 1 4 2 3 3 4 3 1 3 0 0 0 5 5 2 4 1 3 2 1 5]\n",
            " Accuracy: 0.3475\n",
            " F1 score: 0.2584\n",
            "======== Epoch 92 / 500 ========\n",
            "Training...\n"
          ]
        },
        {
          "data": {
            "application/vnd.jupyter.widget-view+json": {
              "model_id": "4ff16288226d4931a8acbc950f782224",
              "version_major": 2,
              "version_minor": 0
            },
            "text/plain": [
              "  0%|          | 0/104 [00:00<?, ?it/s]"
            ]
          },
          "metadata": {},
          "output_type": "display_data"
        },
        {
          "name": "stdout",
          "output_type": "stream",
          "text": [
            " Accuracy: 0.4620\n",
            " F1 score: 0.3209\n",
            " Average training loss: 1.3561\n",
            "Running Validation...\n"
          ]
        },
        {
          "data": {
            "application/vnd.jupyter.widget-view+json": {
              "model_id": "f228e532067249f0b4b2a5311f4414ea",
              "version_major": 2,
              "version_minor": 0
            },
            "text/plain": [
              "  0%|          | 0/9 [00:00<?, ?it/s]"
            ]
          },
          "metadata": {},
          "output_type": "display_data"
        },
        {
          "name": "stdout",
          "output_type": "stream",
          "text": [
            "logits:    [1 0 2 0 1 1 0 0 2 0 0 0 1 0 0 0 1 1 0 0 0 1 2 2 1 2]\n",
            "labels_id: [1 4 2 4 2 1 4 2 3 3 4 3 1 3 0 0 0 5 5 2 4 1 3 2 1 5]\n",
            " Accuracy: 0.3458\n",
            " F1 score: 0.2589\n",
            "======== Epoch 93 / 500 ========\n",
            "Training...\n"
          ]
        },
        {
          "data": {
            "application/vnd.jupyter.widget-view+json": {
              "model_id": "0035b076db974c83b4de02db956ba380",
              "version_major": 2,
              "version_minor": 0
            },
            "text/plain": [
              "  0%|          | 0/104 [00:00<?, ?it/s]"
            ]
          },
          "metadata": {},
          "output_type": "display_data"
        },
        {
          "name": "stdout",
          "output_type": "stream",
          "text": [
            " Accuracy: 0.4597\n",
            " F1 score: 0.3189\n",
            " Average training loss: 1.3534\n",
            "Running Validation...\n"
          ]
        },
        {
          "data": {
            "application/vnd.jupyter.widget-view+json": {
              "model_id": "922ec8c49fdb44c980ead29a081c3934",
              "version_major": 2,
              "version_minor": 0
            },
            "text/plain": [
              "  0%|          | 0/9 [00:00<?, ?it/s]"
            ]
          },
          "metadata": {},
          "output_type": "display_data"
        },
        {
          "name": "stdout",
          "output_type": "stream",
          "text": [
            "logits:    [1 0 2 0 1 1 0 0 2 0 0 0 1 0 0 0 1 1 0 0 0 1 2 2 1 2]\n",
            "labels_id: [1 4 2 4 2 1 4 2 3 3 4 3 1 3 0 0 0 5 5 2 4 1 3 2 1 5]\n",
            " Accuracy: 0.3440\n",
            " F1 score: 0.2564\n",
            "======== Epoch 94 / 500 ========\n",
            "Training...\n"
          ]
        },
        {
          "data": {
            "application/vnd.jupyter.widget-view+json": {
              "model_id": "d3cfd216a0bb41658f598e7c12ef4887",
              "version_major": 2,
              "version_minor": 0
            },
            "text/plain": [
              "  0%|          | 0/104 [00:00<?, ?it/s]"
            ]
          },
          "metadata": {},
          "output_type": "display_data"
        },
        {
          "name": "stdout",
          "output_type": "stream",
          "text": [
            " Accuracy: 0.4563\n",
            " F1 score: 0.3172\n",
            " Average training loss: 1.3560\n",
            "Running Validation...\n"
          ]
        },
        {
          "data": {
            "application/vnd.jupyter.widget-view+json": {
              "model_id": "8e88dea91144435197090331ab1774ca",
              "version_major": 2,
              "version_minor": 0
            },
            "text/plain": [
              "  0%|          | 0/9 [00:00<?, ?it/s]"
            ]
          },
          "metadata": {},
          "output_type": "display_data"
        },
        {
          "name": "stdout",
          "output_type": "stream",
          "text": [
            "logits:    [1 0 2 0 1 1 0 0 2 0 0 0 1 0 0 0 1 1 0 0 0 1 2 2 1 2]\n",
            "labels_id: [1 4 2 4 2 1 4 2 3 3 4 3 1 3 0 0 0 5 5 2 4 1 3 2 1 5]\n",
            " Accuracy: 0.3458\n",
            " F1 score: 0.2574\n",
            "======== Epoch 95 / 500 ========\n",
            "Training...\n"
          ]
        },
        {
          "data": {
            "application/vnd.jupyter.widget-view+json": {
              "model_id": "3f17b7b6b92048ad859d14014f297cd0",
              "version_major": 2,
              "version_minor": 0
            },
            "text/plain": [
              "  0%|          | 0/104 [00:00<?, ?it/s]"
            ]
          },
          "metadata": {},
          "output_type": "display_data"
        },
        {
          "name": "stdout",
          "output_type": "stream",
          "text": [
            " Accuracy: 0.4558\n",
            " F1 score: 0.3154\n",
            " Average training loss: 1.3587\n",
            "Running Validation...\n"
          ]
        },
        {
          "data": {
            "application/vnd.jupyter.widget-view+json": {
              "model_id": "0343b151736c4ff8b2ad8b19ecca423b",
              "version_major": 2,
              "version_minor": 0
            },
            "text/plain": [
              "  0%|          | 0/9 [00:00<?, ?it/s]"
            ]
          },
          "metadata": {},
          "output_type": "display_data"
        },
        {
          "name": "stdout",
          "output_type": "stream",
          "text": [
            "logits:    [1 0 2 0 1 1 0 0 2 0 0 0 1 0 0 0 1 1 0 0 0 1 2 2 1 2]\n",
            "labels_id: [1 4 2 4 2 1 4 2 3 3 4 3 1 3 0 0 0 5 5 2 4 1 3 2 1 5]\n",
            " Accuracy: 0.3492\n",
            " F1 score: 0.2610\n",
            "======== Epoch 96 / 500 ========\n",
            "Training...\n"
          ]
        },
        {
          "data": {
            "application/vnd.jupyter.widget-view+json": {
              "model_id": "be8affb27a8d472aa4f3283c4a94d81c",
              "version_major": 2,
              "version_minor": 0
            },
            "text/plain": [
              "  0%|          | 0/104 [00:00<?, ?it/s]"
            ]
          },
          "metadata": {},
          "output_type": "display_data"
        },
        {
          "name": "stdout",
          "output_type": "stream",
          "text": [
            " Accuracy: 0.4664\n",
            " F1 score: 0.3247\n",
            " Average training loss: 1.3500\n",
            "Running Validation...\n"
          ]
        },
        {
          "data": {
            "application/vnd.jupyter.widget-view+json": {
              "model_id": "87ec44dccfec4d3fa9d87a44a8f203a0",
              "version_major": 2,
              "version_minor": 0
            },
            "text/plain": [
              "  0%|          | 0/9 [00:00<?, ?it/s]"
            ]
          },
          "metadata": {},
          "output_type": "display_data"
        },
        {
          "name": "stdout",
          "output_type": "stream",
          "text": [
            "logits:    [1 0 2 0 1 1 0 0 2 0 0 0 1 0 0 0 1 1 0 0 0 1 2 2 1 2]\n",
            "labels_id: [1 4 2 4 2 1 4 2 3 3 4 3 1 3 0 0 0 5 5 2 4 1 3 2 1 5]\n",
            " Accuracy: 0.3475\n",
            " F1 score: 0.2593\n",
            "======== Epoch 97 / 500 ========\n",
            "Training...\n"
          ]
        },
        {
          "data": {
            "application/vnd.jupyter.widget-view+json": {
              "model_id": "e1e5faf8099446fca015a21bef85772e",
              "version_major": 2,
              "version_minor": 0
            },
            "text/plain": [
              "  0%|          | 0/104 [00:00<?, ?it/s]"
            ]
          },
          "metadata": {},
          "output_type": "display_data"
        },
        {
          "name": "stdout",
          "output_type": "stream",
          "text": [
            " Accuracy: 0.4656\n",
            " F1 score: 0.3250\n",
            " Average training loss: 1.3497\n",
            "Running Validation...\n"
          ]
        },
        {
          "data": {
            "application/vnd.jupyter.widget-view+json": {
              "model_id": "506f2fa1c2fd4df3b8f238c25d75206d",
              "version_major": 2,
              "version_minor": 0
            },
            "text/plain": [
              "  0%|          | 0/9 [00:00<?, ?it/s]"
            ]
          },
          "metadata": {},
          "output_type": "display_data"
        },
        {
          "name": "stdout",
          "output_type": "stream",
          "text": [
            "logits:    [1 0 2 0 1 1 0 0 2 0 0 0 1 0 0 0 1 1 0 0 0 1 2 2 1 2]\n",
            "labels_id: [1 4 2 4 2 1 4 2 3 3 4 3 1 3 0 0 0 5 5 2 4 1 3 2 1 5]\n",
            " Accuracy: 0.3492\n",
            " F1 score: 0.2609\n",
            "======== Epoch 98 / 500 ========\n",
            "Training...\n"
          ]
        },
        {
          "data": {
            "application/vnd.jupyter.widget-view+json": {
              "model_id": "1c46352b1b274239a6a89fece6def78c",
              "version_major": 2,
              "version_minor": 0
            },
            "text/plain": [
              "  0%|          | 0/104 [00:00<?, ?it/s]"
            ]
          },
          "metadata": {},
          "output_type": "display_data"
        },
        {
          "name": "stdout",
          "output_type": "stream",
          "text": [
            " Accuracy: 0.4670\n",
            " F1 score: 0.3237\n",
            " Average training loss: 1.3486\n",
            "Running Validation...\n"
          ]
        },
        {
          "data": {
            "application/vnd.jupyter.widget-view+json": {
              "model_id": "b8571a03d1f4463f8fc3a9e21f4663f6",
              "version_major": 2,
              "version_minor": 0
            },
            "text/plain": [
              "  0%|          | 0/9 [00:00<?, ?it/s]"
            ]
          },
          "metadata": {},
          "output_type": "display_data"
        },
        {
          "name": "stdout",
          "output_type": "stream",
          "text": [
            "logits:    [1 0 2 0 1 1 0 0 2 0 0 0 1 0 0 0 1 1 0 0 0 1 2 2 1 2]\n",
            "labels_id: [1 4 2 4 2 1 4 2 3 3 4 3 1 3 0 0 0 5 5 2 4 1 3 2 1 5]\n",
            " Accuracy: 0.3492\n",
            " F1 score: 0.2618\n",
            "======== Epoch 99 / 500 ========\n",
            "Training...\n"
          ]
        },
        {
          "data": {
            "application/vnd.jupyter.widget-view+json": {
              "model_id": "e04a7da5d6704a3f9dbc699791ec8030",
              "version_major": 2,
              "version_minor": 0
            },
            "text/plain": [
              "  0%|          | 0/104 [00:00<?, ?it/s]"
            ]
          },
          "metadata": {},
          "output_type": "display_data"
        },
        {
          "name": "stdout",
          "output_type": "stream",
          "text": [
            " Accuracy: 0.4639\n",
            " F1 score: 0.3216\n",
            " Average training loss: 1.3430\n",
            "Running Validation...\n"
          ]
        },
        {
          "data": {
            "application/vnd.jupyter.widget-view+json": {
              "model_id": "cf77fde22d934ca593c65671e1c0c7b4",
              "version_major": 2,
              "version_minor": 0
            },
            "text/plain": [
              "  0%|          | 0/9 [00:00<?, ?it/s]"
            ]
          },
          "metadata": {},
          "output_type": "display_data"
        },
        {
          "name": "stdout",
          "output_type": "stream",
          "text": [
            "logits:    [1 0 2 0 1 1 0 0 2 0 0 0 1 0 0 0 1 1 0 0 0 1 2 2 1 2]\n",
            "labels_id: [1 4 2 4 2 1 4 2 3 3 4 3 1 3 0 0 0 5 5 2 4 1 3 2 1 5]\n",
            " Accuracy: 0.3527\n",
            " F1 score: 0.2642\n",
            "======== Epoch 100 / 500 ========\n",
            "Training...\n"
          ]
        },
        {
          "data": {
            "application/vnd.jupyter.widget-view+json": {
              "model_id": "d54c8f4c0f664c54bbd2e8978dc798cb",
              "version_major": 2,
              "version_minor": 0
            },
            "text/plain": [
              "  0%|          | 0/104 [00:00<?, ?it/s]"
            ]
          },
          "metadata": {},
          "output_type": "display_data"
        },
        {
          "name": "stdout",
          "output_type": "stream",
          "text": [
            " Accuracy: 0.4623\n",
            " F1 score: 0.3226\n",
            " Average training loss: 1.3425\n",
            "Running Validation...\n"
          ]
        },
        {
          "data": {
            "application/vnd.jupyter.widget-view+json": {
              "model_id": "b6aa236c027f4ff8bf8e8348b862da2f",
              "version_major": 2,
              "version_minor": 0
            },
            "text/plain": [
              "  0%|          | 0/9 [00:00<?, ?it/s]"
            ]
          },
          "metadata": {},
          "output_type": "display_data"
        },
        {
          "name": "stdout",
          "output_type": "stream",
          "text": [
            "logits:    [1 0 2 0 1 1 0 0 2 0 0 0 1 0 0 0 1 1 0 0 0 1 2 2 1 2]\n",
            "labels_id: [1 4 2 4 2 1 4 2 3 3 4 3 1 3 0 0 0 5 5 2 4 1 3 2 1 5]\n",
            " Accuracy: 0.3475\n",
            " F1 score: 0.2606\n",
            "======== Epoch 101 / 500 ========\n",
            "Training...\n"
          ]
        },
        {
          "data": {
            "application/vnd.jupyter.widget-view+json": {
              "model_id": "fb8131afb021483cad9caf8bb25c31bd",
              "version_major": 2,
              "version_minor": 0
            },
            "text/plain": [
              "  0%|          | 0/104 [00:00<?, ?it/s]"
            ]
          },
          "metadata": {},
          "output_type": "display_data"
        },
        {
          "name": "stdout",
          "output_type": "stream",
          "text": [
            " Accuracy: 0.4692\n",
            " F1 score: 0.3287\n",
            " Average training loss: 1.3379\n",
            "Running Validation...\n"
          ]
        },
        {
          "data": {
            "application/vnd.jupyter.widget-view+json": {
              "model_id": "a349d578e56341109b7ccfb7ce2260a7",
              "version_major": 2,
              "version_minor": 0
            },
            "text/plain": [
              "  0%|          | 0/9 [00:00<?, ?it/s]"
            ]
          },
          "metadata": {},
          "output_type": "display_data"
        },
        {
          "name": "stdout",
          "output_type": "stream",
          "text": [
            "logits:    [1 0 2 0 1 1 0 0 2 0 0 0 1 0 0 0 1 1 0 0 0 1 2 2 1 2]\n",
            "labels_id: [1 4 2 4 2 1 4 2 3 3 4 3 1 3 0 0 0 5 5 2 4 1 3 2 1 5]\n",
            " Accuracy: 0.3475\n",
            " F1 score: 0.2601\n",
            "======== Epoch 102 / 500 ========\n",
            "Training...\n"
          ]
        },
        {
          "data": {
            "application/vnd.jupyter.widget-view+json": {
              "model_id": "6ff954b45f5a45c7b8e6125ad7519221",
              "version_major": 2,
              "version_minor": 0
            },
            "text/plain": [
              "  0%|          | 0/104 [00:00<?, ?it/s]"
            ]
          },
          "metadata": {},
          "output_type": "display_data"
        },
        {
          "name": "stdout",
          "output_type": "stream",
          "text": [
            " Accuracy: 0.4695\n",
            " F1 score: 0.3271\n",
            " Average training loss: 1.3386\n",
            "Running Validation...\n"
          ]
        },
        {
          "data": {
            "application/vnd.jupyter.widget-view+json": {
              "model_id": "c494403c819a429eb522827ad523de00",
              "version_major": 2,
              "version_minor": 0
            },
            "text/plain": [
              "  0%|          | 0/9 [00:00<?, ?it/s]"
            ]
          },
          "metadata": {},
          "output_type": "display_data"
        },
        {
          "name": "stdout",
          "output_type": "stream",
          "text": [
            "logits:    [1 0 2 0 1 1 0 0 2 0 0 0 1 0 0 0 1 1 0 0 0 1 2 2 1 2]\n",
            "labels_id: [1 4 2 4 2 1 4 2 3 3 4 3 1 3 0 0 0 5 5 2 4 1 3 2 1 5]\n",
            " Accuracy: 0.3458\n",
            " F1 score: 0.2595\n",
            "======== Epoch 103 / 500 ========\n",
            "Training...\n"
          ]
        },
        {
          "data": {
            "application/vnd.jupyter.widget-view+json": {
              "model_id": "c1b1e5a307844ed0a6e600b272951354",
              "version_major": 2,
              "version_minor": 0
            },
            "text/plain": [
              "  0%|          | 0/104 [00:00<?, ?it/s]"
            ]
          },
          "metadata": {},
          "output_type": "display_data"
        },
        {
          "name": "stdout",
          "output_type": "stream",
          "text": [
            " Accuracy: 0.4721\n",
            " F1 score: 0.3297\n",
            " Average training loss: 1.3329\n",
            "Running Validation...\n"
          ]
        },
        {
          "data": {
            "application/vnd.jupyter.widget-view+json": {
              "model_id": "56ea61197593474ca9789ddbce601ca0",
              "version_major": 2,
              "version_minor": 0
            },
            "text/plain": [
              "  0%|          | 0/9 [00:00<?, ?it/s]"
            ]
          },
          "metadata": {},
          "output_type": "display_data"
        },
        {
          "name": "stdout",
          "output_type": "stream",
          "text": [
            "logits:    [1 0 2 0 1 1 0 0 2 0 0 0 1 0 0 0 1 1 0 0 0 1 2 2 1 2]\n",
            "labels_id: [1 4 2 4 2 1 4 2 3 3 4 3 1 3 0 0 0 5 5 2 4 1 3 2 1 5]\n",
            " Accuracy: 0.3458\n",
            " F1 score: 0.2596\n",
            "======== Epoch 104 / 500 ========\n",
            "Training...\n"
          ]
        },
        {
          "data": {
            "application/vnd.jupyter.widget-view+json": {
              "model_id": "a128f343e89f464382c73d237a9de342",
              "version_major": 2,
              "version_minor": 0
            },
            "text/plain": [
              "  0%|          | 0/104 [00:00<?, ?it/s]"
            ]
          },
          "metadata": {},
          "output_type": "display_data"
        },
        {
          "name": "stdout",
          "output_type": "stream",
          "text": [
            " Accuracy: 0.4742\n",
            " F1 score: 0.3297\n",
            " Average training loss: 1.3326\n",
            "Running Validation...\n"
          ]
        },
        {
          "data": {
            "application/vnd.jupyter.widget-view+json": {
              "model_id": "b11f68f0b4bc456d8c343976657f1083",
              "version_major": 2,
              "version_minor": 0
            },
            "text/plain": [
              "  0%|          | 0/9 [00:00<?, ?it/s]"
            ]
          },
          "metadata": {},
          "output_type": "display_data"
        },
        {
          "name": "stdout",
          "output_type": "stream",
          "text": [
            "logits:    [1 0 2 0 1 1 0 0 2 0 0 0 1 0 0 0 1 1 0 0 0 1 2 2 1 2]\n",
            "labels_id: [1 4 2 4 2 1 4 2 3 3 4 3 1 3 0 0 0 5 5 2 4 1 3 2 1 5]\n",
            " Accuracy: 0.3440\n",
            " F1 score: 0.2570\n",
            "======== Epoch 105 / 500 ========\n",
            "Training...\n"
          ]
        },
        {
          "data": {
            "application/vnd.jupyter.widget-view+json": {
              "model_id": "e0c800e33777427da8169f1748622270",
              "version_major": 2,
              "version_minor": 0
            },
            "text/plain": [
              "  0%|          | 0/104 [00:00<?, ?it/s]"
            ]
          },
          "metadata": {},
          "output_type": "display_data"
        },
        {
          "name": "stdout",
          "output_type": "stream",
          "text": [
            " Accuracy: 0.4766\n",
            " F1 score: 0.3321\n",
            " Average training loss: 1.3280\n",
            "Running Validation...\n"
          ]
        },
        {
          "data": {
            "application/vnd.jupyter.widget-view+json": {
              "model_id": "6f333631a1134b5a9bf9ed5cee655d7c",
              "version_major": 2,
              "version_minor": 0
            },
            "text/plain": [
              "  0%|          | 0/9 [00:00<?, ?it/s]"
            ]
          },
          "metadata": {},
          "output_type": "display_data"
        },
        {
          "name": "stdout",
          "output_type": "stream",
          "text": [
            "logits:    [1 0 2 0 1 1 0 0 2 0 0 0 1 0 0 0 1 1 0 0 0 1 2 2 1 2]\n",
            "labels_id: [1 4 2 4 2 1 4 2 3 3 4 3 1 3 0 0 0 5 5 2 4 1 3 2 1 5]\n",
            " Accuracy: 0.3440\n",
            " F1 score: 0.2581\n",
            "======== Epoch 106 / 500 ========\n",
            "Training...\n"
          ]
        },
        {
          "data": {
            "application/vnd.jupyter.widget-view+json": {
              "model_id": "fbefc5c926d6444e9b70c77b6ac9dd54",
              "version_major": 2,
              "version_minor": 0
            },
            "text/plain": [
              "  0%|          | 0/104 [00:00<?, ?it/s]"
            ]
          },
          "metadata": {},
          "output_type": "display_data"
        },
        {
          "name": "stdout",
          "output_type": "stream",
          "text": [
            " Accuracy: 0.4777\n",
            " F1 score: 0.3343\n",
            " Average training loss: 1.3281\n",
            "Running Validation...\n"
          ]
        },
        {
          "data": {
            "application/vnd.jupyter.widget-view+json": {
              "model_id": "12cafae248b44b26909757ffc11ade56",
              "version_major": 2,
              "version_minor": 0
            },
            "text/plain": [
              "  0%|          | 0/9 [00:00<?, ?it/s]"
            ]
          },
          "metadata": {},
          "output_type": "display_data"
        },
        {
          "name": "stdout",
          "output_type": "stream",
          "text": [
            "logits:    [1 0 2 0 1 1 0 0 2 0 0 0 1 0 0 0 1 1 0 0 0 1 2 2 1 2]\n",
            "labels_id: [1 4 2 4 2 1 4 2 3 3 4 3 1 3 0 0 0 5 5 2 4 1 3 2 1 5]\n",
            " Accuracy: 0.3440\n",
            " F1 score: 0.2572\n",
            "======== Epoch 107 / 500 ========\n",
            "Training...\n"
          ]
        },
        {
          "data": {
            "application/vnd.jupyter.widget-view+json": {
              "model_id": "67f66478dbe74f3198e04ef0c57a37ae",
              "version_major": 2,
              "version_minor": 0
            },
            "text/plain": [
              "  0%|          | 0/104 [00:00<?, ?it/s]"
            ]
          },
          "metadata": {},
          "output_type": "display_data"
        },
        {
          "name": "stdout",
          "output_type": "stream",
          "text": [
            " Accuracy: 0.4743\n",
            " F1 score: 0.3313\n",
            " Average training loss: 1.3223\n",
            "Running Validation...\n"
          ]
        },
        {
          "data": {
            "application/vnd.jupyter.widget-view+json": {
              "model_id": "15fad985f8c94b86be905d803b5c262c",
              "version_major": 2,
              "version_minor": 0
            },
            "text/plain": [
              "  0%|          | 0/9 [00:00<?, ?it/s]"
            ]
          },
          "metadata": {},
          "output_type": "display_data"
        },
        {
          "name": "stdout",
          "output_type": "stream",
          "text": [
            "logits:    [1 0 2 0 1 1 0 0 2 0 0 0 1 0 0 0 1 1 0 0 0 1 2 2 1 2]\n",
            "labels_id: [1 4 2 4 2 1 4 2 3 3 4 3 1 3 0 0 0 5 5 2 4 1 3 2 1 5]\n",
            " Accuracy: 0.3423\n",
            " F1 score: 0.2558\n",
            "======== Epoch 108 / 500 ========\n",
            "Training...\n"
          ]
        },
        {
          "data": {
            "application/vnd.jupyter.widget-view+json": {
              "model_id": "87f687706e434e4cbb244251aef3cafa",
              "version_major": 2,
              "version_minor": 0
            },
            "text/plain": [
              "  0%|          | 0/104 [00:00<?, ?it/s]"
            ]
          },
          "metadata": {},
          "output_type": "display_data"
        },
        {
          "name": "stdout",
          "output_type": "stream",
          "text": [
            " Accuracy: 0.4780\n",
            " F1 score: 0.3346\n",
            " Average training loss: 1.3215\n",
            "Running Validation...\n"
          ]
        },
        {
          "data": {
            "application/vnd.jupyter.widget-view+json": {
              "model_id": "eb3d6e2ad0924f61a60e896a288fd9ff",
              "version_major": 2,
              "version_minor": 0
            },
            "text/plain": [
              "  0%|          | 0/9 [00:00<?, ?it/s]"
            ]
          },
          "metadata": {},
          "output_type": "display_data"
        },
        {
          "name": "stdout",
          "output_type": "stream",
          "text": [
            "logits:    [1 0 2 0 1 1 0 0 2 0 0 0 1 0 0 0 1 1 0 0 0 1 2 2 1 2]\n",
            "labels_id: [1 4 2 4 2 1 4 2 3 3 4 3 1 3 0 0 0 5 5 2 4 1 3 2 1 5]\n",
            " Accuracy: 0.3492\n",
            " F1 score: 0.2635\n",
            "======== Epoch 109 / 500 ========\n",
            "Training...\n"
          ]
        },
        {
          "data": {
            "application/vnd.jupyter.widget-view+json": {
              "model_id": "08e3ed0c44e847839cf272052f416864",
              "version_major": 2,
              "version_minor": 0
            },
            "text/plain": [
              "  0%|          | 0/104 [00:00<?, ?it/s]"
            ]
          },
          "metadata": {},
          "output_type": "display_data"
        },
        {
          "name": "stdout",
          "output_type": "stream",
          "text": [
            " Accuracy: 0.4842\n",
            " F1 score: 0.3419\n",
            " Average training loss: 1.3160\n",
            "Running Validation...\n"
          ]
        },
        {
          "data": {
            "application/vnd.jupyter.widget-view+json": {
              "model_id": "6575801d391344c3964d2ef107c837b1",
              "version_major": 2,
              "version_minor": 0
            },
            "text/plain": [
              "  0%|          | 0/9 [00:00<?, ?it/s]"
            ]
          },
          "metadata": {},
          "output_type": "display_data"
        },
        {
          "name": "stdout",
          "output_type": "stream",
          "text": [
            "logits:    [1 0 2 0 1 1 0 0 2 0 0 0 1 0 0 0 1 1 0 0 0 1 2 2 1 2]\n",
            "labels_id: [1 4 2 4 2 1 4 2 3 3 4 3 1 3 0 0 0 5 5 2 4 1 3 2 1 5]\n",
            " Accuracy: 0.3527\n",
            " F1 score: 0.2662\n",
            "======== Epoch 110 / 500 ========\n",
            "Training...\n"
          ]
        },
        {
          "data": {
            "application/vnd.jupyter.widget-view+json": {
              "model_id": "b64218152ef548f7b58412965d3aea39",
              "version_major": 2,
              "version_minor": 0
            },
            "text/plain": [
              "  0%|          | 0/104 [00:00<?, ?it/s]"
            ]
          },
          "metadata": {},
          "output_type": "display_data"
        },
        {
          "name": "stdout",
          "output_type": "stream",
          "text": [
            " Accuracy: 0.4767\n",
            " F1 score: 0.3342\n",
            " Average training loss: 1.3160\n",
            "Running Validation...\n"
          ]
        },
        {
          "data": {
            "application/vnd.jupyter.widget-view+json": {
              "model_id": "4d855a690e684896887973cf0a388680",
              "version_major": 2,
              "version_minor": 0
            },
            "text/plain": [
              "  0%|          | 0/9 [00:00<?, ?it/s]"
            ]
          },
          "metadata": {},
          "output_type": "display_data"
        },
        {
          "name": "stdout",
          "output_type": "stream",
          "text": [
            "logits:    [1 0 2 0 1 1 0 0 2 0 0 0 1 0 0 0 1 1 0 0 0 1 2 2 1 2]\n",
            "labels_id: [1 4 2 4 2 1 4 2 3 3 4 3 1 3 0 0 0 5 5 2 4 1 3 2 1 5]\n",
            " Accuracy: 0.3527\n",
            " F1 score: 0.2670\n",
            "======== Epoch 111 / 500 ========\n",
            "Training...\n"
          ]
        },
        {
          "data": {
            "application/vnd.jupyter.widget-view+json": {
              "model_id": "bb60b49496e54ebfb87696591501a526",
              "version_major": 2,
              "version_minor": 0
            },
            "text/plain": [
              "  0%|          | 0/104 [00:00<?, ?it/s]"
            ]
          },
          "metadata": {},
          "output_type": "display_data"
        },
        {
          "name": "stdout",
          "output_type": "stream",
          "text": [
            " Accuracy: 0.4845\n",
            " F1 score: 0.3414\n",
            " Average training loss: 1.3060\n",
            "Running Validation...\n"
          ]
        },
        {
          "data": {
            "application/vnd.jupyter.widget-view+json": {
              "model_id": "dae148180b0d4fe58c06e3e901ae78b3",
              "version_major": 2,
              "version_minor": 0
            },
            "text/plain": [
              "  0%|          | 0/9 [00:00<?, ?it/s]"
            ]
          },
          "metadata": {},
          "output_type": "display_data"
        },
        {
          "name": "stdout",
          "output_type": "stream",
          "text": [
            "logits:    [1 0 2 0 1 1 0 0 2 0 0 0 1 0 0 0 1 1 0 0 0 1 2 2 1 2]\n",
            "labels_id: [1 4 2 4 2 1 4 2 3 3 4 3 1 3 0 0 0 5 5 2 4 1 3 2 1 5]\n",
            " Accuracy: 0.3492\n",
            " F1 score: 0.2636\n",
            "======== Epoch 112 / 500 ========\n",
            "Training...\n"
          ]
        },
        {
          "data": {
            "application/vnd.jupyter.widget-view+json": {
              "model_id": "96d2f29bcfb94f6a8f91ed581f2429c5",
              "version_major": 2,
              "version_minor": 0
            },
            "text/plain": [
              "  0%|          | 0/104 [00:00<?, ?it/s]"
            ]
          },
          "metadata": {},
          "output_type": "display_data"
        },
        {
          "name": "stdout",
          "output_type": "stream",
          "text": [
            " Accuracy: 0.4839\n",
            " F1 score: 0.3404\n",
            " Average training loss: 1.3077\n",
            "Running Validation...\n"
          ]
        },
        {
          "data": {
            "application/vnd.jupyter.widget-view+json": {
              "model_id": "5559f08bf7f445589368732b969db8fb",
              "version_major": 2,
              "version_minor": 0
            },
            "text/plain": [
              "  0%|          | 0/9 [00:00<?, ?it/s]"
            ]
          },
          "metadata": {},
          "output_type": "display_data"
        },
        {
          "name": "stdout",
          "output_type": "stream",
          "text": [
            "logits:    [1 0 2 0 1 1 0 0 2 0 0 0 1 0 0 0 1 1 0 0 0 1 2 2 1 2]\n",
            "labels_id: [1 4 2 4 2 1 4 2 3 3 4 3 1 3 0 0 0 5 5 2 4 1 3 2 1 5]\n",
            " Accuracy: 0.3510\n",
            " F1 score: 0.2654\n",
            "======== Epoch 113 / 500 ========\n",
            "Training...\n"
          ]
        },
        {
          "data": {
            "application/vnd.jupyter.widget-view+json": {
              "model_id": "5a2ae73d97b14a1a9b7940769afdd4c4",
              "version_major": 2,
              "version_minor": 0
            },
            "text/plain": [
              "  0%|          | 0/104 [00:00<?, ?it/s]"
            ]
          },
          "metadata": {},
          "output_type": "display_data"
        },
        {
          "name": "stdout",
          "output_type": "stream",
          "text": [
            " Accuracy: 0.4811\n",
            " F1 score: 0.3395\n",
            " Average training loss: 1.3069\n",
            "Running Validation...\n"
          ]
        },
        {
          "data": {
            "application/vnd.jupyter.widget-view+json": {
              "model_id": "7425ab0ec1ec43c8a4c6b1701c737273",
              "version_major": 2,
              "version_minor": 0
            },
            "text/plain": [
              "  0%|          | 0/9 [00:00<?, ?it/s]"
            ]
          },
          "metadata": {},
          "output_type": "display_data"
        },
        {
          "name": "stdout",
          "output_type": "stream",
          "text": [
            "logits:    [1 0 2 0 1 1 0 0 2 0 0 0 1 0 0 0 1 1 0 0 0 1 2 2 1 2]\n",
            "labels_id: [1 4 2 4 2 1 4 2 3 3 4 3 1 3 0 0 0 5 5 2 4 1 3 2 1 5]\n",
            " Accuracy: 0.3527\n",
            " F1 score: 0.2679\n",
            "======== Epoch 114 / 500 ========\n",
            "Training...\n"
          ]
        },
        {
          "data": {
            "application/vnd.jupyter.widget-view+json": {
              "model_id": "ea71033f92d6438e9b5293f049e1c9d4",
              "version_major": 2,
              "version_minor": 0
            },
            "text/plain": [
              "  0%|          | 0/104 [00:00<?, ?it/s]"
            ]
          },
          "metadata": {},
          "output_type": "display_data"
        },
        {
          "name": "stdout",
          "output_type": "stream",
          "text": [
            " Accuracy: 0.4850\n",
            " F1 score: 0.3423\n",
            " Average training loss: 1.3010\n",
            "Running Validation...\n"
          ]
        },
        {
          "data": {
            "application/vnd.jupyter.widget-view+json": {
              "model_id": "c617de485bf3472bb69092590284d428",
              "version_major": 2,
              "version_minor": 0
            },
            "text/plain": [
              "  0%|          | 0/9 [00:00<?, ?it/s]"
            ]
          },
          "metadata": {},
          "output_type": "display_data"
        },
        {
          "name": "stdout",
          "output_type": "stream",
          "text": [
            "logits:    [1 0 2 0 1 1 0 0 2 4 0 0 1 0 0 0 1 1 0 0 0 1 2 2 1 2]\n",
            "labels_id: [1 4 2 4 2 1 4 2 3 3 4 3 1 3 0 0 0 5 5 2 4 1 3 2 1 5]\n",
            " Accuracy: 0.3544\n",
            " F1 score: 0.2715\n",
            "======== Epoch 115 / 500 ========\n",
            "Training...\n"
          ]
        },
        {
          "data": {
            "application/vnd.jupyter.widget-view+json": {
              "model_id": "bd89e44a1883450bb2387836f731b7bf",
              "version_major": 2,
              "version_minor": 0
            },
            "text/plain": [
              "  0%|          | 0/104 [00:00<?, ?it/s]"
            ]
          },
          "metadata": {},
          "output_type": "display_data"
        },
        {
          "name": "stdout",
          "output_type": "stream",
          "text": [
            " Accuracy: 0.4834\n",
            " F1 score: 0.3383\n",
            " Average training loss: 1.3049\n",
            "Running Validation...\n"
          ]
        },
        {
          "data": {
            "application/vnd.jupyter.widget-view+json": {
              "model_id": "7160e9fbfd5945fdb05645b34aae877c",
              "version_major": 2,
              "version_minor": 0
            },
            "text/plain": [
              "  0%|          | 0/9 [00:00<?, ?it/s]"
            ]
          },
          "metadata": {},
          "output_type": "display_data"
        },
        {
          "name": "stdout",
          "output_type": "stream",
          "text": [
            "logits:    [1 0 2 0 1 1 0 0 2 4 0 0 1 0 0 0 1 1 0 0 0 1 2 2 1 2]\n",
            "labels_id: [1 4 2 4 2 1 4 2 3 3 4 3 1 3 0 0 0 5 5 2 4 1 3 2 1 5]\n",
            " Accuracy: 0.3458\n",
            " F1 score: 0.2637\n",
            "======== Epoch 116 / 500 ========\n",
            "Training...\n"
          ]
        },
        {
          "data": {
            "application/vnd.jupyter.widget-view+json": {
              "model_id": "c9ee722e0fe44e439d416a780764d91b",
              "version_major": 2,
              "version_minor": 0
            },
            "text/plain": [
              "  0%|          | 0/104 [00:00<?, ?it/s]"
            ]
          },
          "metadata": {},
          "output_type": "display_data"
        },
        {
          "name": "stdout",
          "output_type": "stream",
          "text": [
            " Accuracy: 0.4842\n",
            " F1 score: 0.3401\n",
            " Average training loss: 1.3030\n",
            "Running Validation...\n"
          ]
        },
        {
          "data": {
            "application/vnd.jupyter.widget-view+json": {
              "model_id": "bbe4112b1b9646c4956a10b5e45a9253",
              "version_major": 2,
              "version_minor": 0
            },
            "text/plain": [
              "  0%|          | 0/9 [00:00<?, ?it/s]"
            ]
          },
          "metadata": {},
          "output_type": "display_data"
        },
        {
          "name": "stdout",
          "output_type": "stream",
          "text": [
            "logits:    [1 0 2 0 1 1 0 0 2 4 0 0 1 0 0 0 1 1 0 0 0 1 2 2 1 2]\n",
            "labels_id: [1 4 2 4 2 1 4 2 3 3 4 3 1 3 0 0 0 5 5 2 4 1 3 2 1 5]\n",
            " Accuracy: 0.3527\n",
            " F1 score: 0.2713\n",
            "======== Epoch 117 / 500 ========\n",
            "Training...\n"
          ]
        },
        {
          "data": {
            "application/vnd.jupyter.widget-view+json": {
              "model_id": "5369a973e9f6440385b7ee2f96a524f3",
              "version_major": 2,
              "version_minor": 0
            },
            "text/plain": [
              "  0%|          | 0/104 [00:00<?, ?it/s]"
            ]
          },
          "metadata": {},
          "output_type": "display_data"
        },
        {
          "name": "stdout",
          "output_type": "stream",
          "text": [
            " Accuracy: 0.4856\n",
            " F1 score: 0.3443\n",
            " Average training loss: 1.2968\n",
            "Running Validation...\n"
          ]
        },
        {
          "data": {
            "application/vnd.jupyter.widget-view+json": {
              "model_id": "ac611dee791a4de5a9dd609debc2a29f",
              "version_major": 2,
              "version_minor": 0
            },
            "text/plain": [
              "  0%|          | 0/9 [00:00<?, ?it/s]"
            ]
          },
          "metadata": {},
          "output_type": "display_data"
        },
        {
          "name": "stdout",
          "output_type": "stream",
          "text": [
            "logits:    [1 0 2 0 1 1 0 0 2 4 0 0 1 0 0 0 1 1 0 0 0 1 2 2 1 2]\n",
            "labels_id: [1 4 2 4 2 1 4 2 3 3 4 3 1 3 0 0 0 5 5 2 4 1 3 2 1 5]\n",
            " Accuracy: 0.3510\n",
            " F1 score: 0.2701\n",
            "======== Epoch 118 / 500 ========\n",
            "Training...\n"
          ]
        },
        {
          "data": {
            "application/vnd.jupyter.widget-view+json": {
              "model_id": "0ff5df62006b4b27b6bbaebc8effe159",
              "version_major": 2,
              "version_minor": 0
            },
            "text/plain": [
              "  0%|          | 0/104 [00:00<?, ?it/s]"
            ]
          },
          "metadata": {},
          "output_type": "display_data"
        },
        {
          "name": "stdout",
          "output_type": "stream",
          "text": [
            " Accuracy: 0.4904\n",
            " F1 score: 0.3485\n",
            " Average training loss: 1.2949\n",
            "Running Validation...\n"
          ]
        },
        {
          "data": {
            "application/vnd.jupyter.widget-view+json": {
              "model_id": "6cb46188776342bca1b9832df98b5b3a",
              "version_major": 2,
              "version_minor": 0
            },
            "text/plain": [
              "  0%|          | 0/9 [00:00<?, ?it/s]"
            ]
          },
          "metadata": {},
          "output_type": "display_data"
        },
        {
          "name": "stdout",
          "output_type": "stream",
          "text": [
            "logits:    [1 0 2 0 1 1 0 0 2 4 0 0 1 0 0 0 1 1 0 0 0 1 2 2 1 2]\n",
            "labels_id: [1 4 2 4 2 1 4 2 3 3 4 3 1 3 0 0 0 5 5 2 4 1 3 2 1 5]\n",
            " Accuracy: 0.3544\n",
            " F1 score: 0.2749\n",
            "======== Epoch 119 / 500 ========\n",
            "Training...\n"
          ]
        },
        {
          "data": {
            "application/vnd.jupyter.widget-view+json": {
              "model_id": "0f4ab824336649e4a3cabce56b829ced",
              "version_major": 2,
              "version_minor": 0
            },
            "text/plain": [
              "  0%|          | 0/104 [00:00<?, ?it/s]"
            ]
          },
          "metadata": {},
          "output_type": "display_data"
        },
        {
          "name": "stdout",
          "output_type": "stream",
          "text": [
            " Accuracy: 0.4882\n",
            " F1 score: 0.3448\n",
            " Average training loss: 1.2950\n",
            "Running Validation...\n"
          ]
        },
        {
          "data": {
            "application/vnd.jupyter.widget-view+json": {
              "model_id": "3ae6dd4687a34ba1b8b410c3bbac5b3a",
              "version_major": 2,
              "version_minor": 0
            },
            "text/plain": [
              "  0%|          | 0/9 [00:00<?, ?it/s]"
            ]
          },
          "metadata": {},
          "output_type": "display_data"
        },
        {
          "name": "stdout",
          "output_type": "stream",
          "text": [
            "logits:    [1 0 2 0 1 1 0 0 2 4 0 0 1 0 0 0 0 1 0 0 0 1 2 2 1 2]\n",
            "labels_id: [1 4 2 4 2 1 4 2 3 3 4 3 1 3 0 0 0 5 5 2 4 1 3 2 1 5]\n",
            " Accuracy: 0.3622\n",
            " F1 score: 0.2803\n",
            "======== Epoch 120 / 500 ========\n",
            "Training...\n"
          ]
        },
        {
          "data": {
            "application/vnd.jupyter.widget-view+json": {
              "model_id": "7b43757e5c494580a9dfe81a979946d6",
              "version_major": 2,
              "version_minor": 0
            },
            "text/plain": [
              "  0%|          | 0/104 [00:00<?, ?it/s]"
            ]
          },
          "metadata": {},
          "output_type": "display_data"
        },
        {
          "name": "stdout",
          "output_type": "stream",
          "text": [
            " Accuracy: 0.4860\n",
            " F1 score: 0.3467\n",
            " Average training loss: 1.2943\n",
            "Running Validation...\n"
          ]
        },
        {
          "data": {
            "application/vnd.jupyter.widget-view+json": {
              "model_id": "388dbcfcb7644b6dbb81c5ee93460efa",
              "version_major": 2,
              "version_minor": 0
            },
            "text/plain": [
              "  0%|          | 0/9 [00:00<?, ?it/s]"
            ]
          },
          "metadata": {},
          "output_type": "display_data"
        },
        {
          "name": "stdout",
          "output_type": "stream",
          "text": [
            "logits:    [1 0 2 0 1 1 0 0 2 4 0 0 1 0 0 0 0 1 0 0 4 1 2 2 1 2]\n",
            "labels_id: [1 4 2 4 2 1 4 2 3 3 4 3 1 3 0 0 0 5 5 2 4 1 3 2 1 5]\n",
            " Accuracy: 0.3682\n",
            " F1 score: 0.2880\n",
            "======== Epoch 121 / 500 ========\n",
            "Training...\n"
          ]
        },
        {
          "data": {
            "application/vnd.jupyter.widget-view+json": {
              "model_id": "3ac8df9667e746e797e125b83d03321c",
              "version_major": 2,
              "version_minor": 0
            },
            "text/plain": [
              "  0%|          | 0/104 [00:00<?, ?it/s]"
            ]
          },
          "metadata": {},
          "output_type": "display_data"
        },
        {
          "name": "stdout",
          "output_type": "stream",
          "text": [
            " Accuracy: 0.4880\n",
            " F1 score: 0.3476\n",
            " Average training loss: 1.2945\n",
            "Running Validation...\n"
          ]
        },
        {
          "data": {
            "application/vnd.jupyter.widget-view+json": {
              "model_id": "1eb25355d5c340af9876846efed03d33",
              "version_major": 2,
              "version_minor": 0
            },
            "text/plain": [
              "  0%|          | 0/9 [00:00<?, ?it/s]"
            ]
          },
          "metadata": {},
          "output_type": "display_data"
        },
        {
          "name": "stdout",
          "output_type": "stream",
          "text": [
            "logits:    [1 0 2 0 1 1 0 0 2 4 0 0 1 0 0 0 0 1 0 0 4 1 2 2 1 2]\n",
            "labels_id: [1 4 2 4 2 1 4 2 3 3 4 3 1 3 0 0 0 5 5 2 4 1 3 2 1 5]\n",
            " Accuracy: 0.3665\n",
            " F1 score: 0.2866\n",
            "======== Epoch 122 / 500 ========\n",
            "Training...\n"
          ]
        },
        {
          "data": {
            "application/vnd.jupyter.widget-view+json": {
              "model_id": "c0ae4b8b54a64cfe8f8f4572c4a072af",
              "version_major": 2,
              "version_minor": 0
            },
            "text/plain": [
              "  0%|          | 0/104 [00:00<?, ?it/s]"
            ]
          },
          "metadata": {},
          "output_type": "display_data"
        },
        {
          "name": "stdout",
          "output_type": "stream",
          "text": [
            " Accuracy: 0.4927\n",
            " F1 score: 0.3504\n",
            " Average training loss: 1.2880\n",
            "Running Validation...\n"
          ]
        },
        {
          "data": {
            "application/vnd.jupyter.widget-view+json": {
              "model_id": "fef4384228e64abeba090ee77d8bb124",
              "version_major": 2,
              "version_minor": 0
            },
            "text/plain": [
              "  0%|          | 0/9 [00:00<?, ?it/s]"
            ]
          },
          "metadata": {},
          "output_type": "display_data"
        },
        {
          "name": "stdout",
          "output_type": "stream",
          "text": [
            "logits:    [1 0 2 0 1 1 0 0 2 4 0 0 1 0 0 0 0 1 0 0 4 1 2 2 1 2]\n",
            "labels_id: [1 4 2 4 2 1 4 2 3 3 4 3 1 3 0 0 0 5 5 2 4 1 3 2 1 5]\n",
            " Accuracy: 0.3665\n",
            " F1 score: 0.2874\n",
            "======== Epoch 123 / 500 ========\n",
            "Training...\n"
          ]
        },
        {
          "data": {
            "application/vnd.jupyter.widget-view+json": {
              "model_id": "1290b1a2a27148178995b380f5994e18",
              "version_major": 2,
              "version_minor": 0
            },
            "text/plain": [
              "  0%|          | 0/104 [00:00<?, ?it/s]"
            ]
          },
          "metadata": {},
          "output_type": "display_data"
        },
        {
          "name": "stdout",
          "output_type": "stream",
          "text": [
            " Accuracy: 0.4844\n",
            " F1 score: 0.3434\n",
            " Average training loss: 1.2961\n",
            "Running Validation...\n"
          ]
        },
        {
          "data": {
            "application/vnd.jupyter.widget-view+json": {
              "model_id": "15b6c29700aa454cb95f0884cec2ffcb",
              "version_major": 2,
              "version_minor": 0
            },
            "text/plain": [
              "  0%|          | 0/9 [00:00<?, ?it/s]"
            ]
          },
          "metadata": {},
          "output_type": "display_data"
        },
        {
          "name": "stdout",
          "output_type": "stream",
          "text": [
            "logits:    [1 0 2 0 1 1 0 0 2 4 0 0 1 0 0 0 0 1 0 0 4 1 2 2 1 2]\n",
            "labels_id: [1 4 2 4 2 1 4 2 3 3 4 3 1 3 0 0 0 5 5 2 4 1 3 2 1 5]\n",
            " Accuracy: 0.3699\n",
            " F1 score: 0.2922\n",
            "======== Epoch 124 / 500 ========\n",
            "Training...\n"
          ]
        },
        {
          "data": {
            "application/vnd.jupyter.widget-view+json": {
              "model_id": "4794e2b2034740dd96f533283ad2efce",
              "version_major": 2,
              "version_minor": 0
            },
            "text/plain": [
              "  0%|          | 0/104 [00:00<?, ?it/s]"
            ]
          },
          "metadata": {},
          "output_type": "display_data"
        },
        {
          "name": "stdout",
          "output_type": "stream",
          "text": [
            " Accuracy: 0.4892\n",
            " F1 score: 0.3466\n",
            " Average training loss: 1.2837\n",
            "Running Validation...\n"
          ]
        },
        {
          "data": {
            "application/vnd.jupyter.widget-view+json": {
              "model_id": "c231f17da8444756ac71babd9c713aec",
              "version_major": 2,
              "version_minor": 0
            },
            "text/plain": [
              "  0%|          | 0/9 [00:00<?, ?it/s]"
            ]
          },
          "metadata": {},
          "output_type": "display_data"
        },
        {
          "name": "stdout",
          "output_type": "stream",
          "text": [
            "logits:    [1 0 2 0 1 1 0 0 2 4 0 0 1 0 0 0 0 1 0 0 4 1 2 2 1 2]\n",
            "labels_id: [1 4 2 4 2 1 4 2 3 3 4 3 1 3 0 0 0 5 5 2 4 1 3 2 1 5]\n",
            " Accuracy: 0.3734\n",
            " F1 score: 0.2995\n",
            "======== Epoch 125 / 500 ========\n",
            "Training...\n"
          ]
        },
        {
          "data": {
            "application/vnd.jupyter.widget-view+json": {
              "model_id": "fe761453929a48368d4e33a322eadcf3",
              "version_major": 2,
              "version_minor": 0
            },
            "text/plain": [
              "  0%|          | 0/104 [00:00<?, ?it/s]"
            ]
          },
          "metadata": {},
          "output_type": "display_data"
        },
        {
          "name": "stdout",
          "output_type": "stream",
          "text": [
            " Accuracy: 0.4980\n",
            " F1 score: 0.3547\n",
            " Average training loss: 1.2846\n",
            "Running Validation...\n"
          ]
        },
        {
          "data": {
            "application/vnd.jupyter.widget-view+json": {
              "model_id": "7d41d25b84c747a4a25b6b58d5889a5d",
              "version_major": 2,
              "version_minor": 0
            },
            "text/plain": [
              "  0%|          | 0/9 [00:00<?, ?it/s]"
            ]
          },
          "metadata": {},
          "output_type": "display_data"
        },
        {
          "name": "stdout",
          "output_type": "stream",
          "text": [
            "logits:    [1 0 2 0 1 1 0 0 2 4 0 0 1 0 0 0 0 1 0 0 4 1 2 2 1 2]\n",
            "labels_id: [1 4 2 4 2 1 4 2 3 3 4 3 1 3 0 0 0 5 5 2 4 1 3 2 1 5]\n",
            " Accuracy: 0.3734\n",
            " F1 score: 0.2993\n",
            "======== Epoch 126 / 500 ========\n",
            "Training...\n"
          ]
        },
        {
          "data": {
            "application/vnd.jupyter.widget-view+json": {
              "model_id": "d5f15677f8c64f14b634a1c7d3e8bbcb",
              "version_major": 2,
              "version_minor": 0
            },
            "text/plain": [
              "  0%|          | 0/104 [00:00<?, ?it/s]"
            ]
          },
          "metadata": {},
          "output_type": "display_data"
        },
        {
          "name": "stdout",
          "output_type": "stream",
          "text": [
            " Accuracy: 0.4983\n",
            " F1 score: 0.3524\n",
            " Average training loss: 1.2742\n",
            "Running Validation...\n"
          ]
        },
        {
          "data": {
            "application/vnd.jupyter.widget-view+json": {
              "model_id": "330f01b7696944a5b5ee7d24e29f34d1",
              "version_major": 2,
              "version_minor": 0
            },
            "text/plain": [
              "  0%|          | 0/9 [00:00<?, ?it/s]"
            ]
          },
          "metadata": {},
          "output_type": "display_data"
        },
        {
          "name": "stdout",
          "output_type": "stream",
          "text": [
            "logits:    [1 0 2 0 1 1 0 0 2 4 0 0 1 0 0 0 0 1 0 0 4 1 2 2 1 2]\n",
            "labels_id: [1 4 2 4 2 1 4 2 3 3 4 3 1 3 0 0 0 5 5 2 4 1 3 2 1 5]\n",
            " Accuracy: 0.3734\n",
            " F1 score: 0.2995\n",
            "======== Epoch 127 / 500 ========\n",
            "Training...\n"
          ]
        },
        {
          "data": {
            "application/vnd.jupyter.widget-view+json": {
              "model_id": "c6c44404314d47e8b5d4fc616328c939",
              "version_major": 2,
              "version_minor": 0
            },
            "text/plain": [
              "  0%|          | 0/104 [00:00<?, ?it/s]"
            ]
          },
          "metadata": {},
          "output_type": "display_data"
        },
        {
          "name": "stdout",
          "output_type": "stream",
          "text": [
            " Accuracy: 0.5001\n",
            " F1 score: 0.3583\n",
            " Average training loss: 1.2819\n",
            "Running Validation...\n"
          ]
        },
        {
          "data": {
            "application/vnd.jupyter.widget-view+json": {
              "model_id": "554e13e7035c45a3b3e3d913204ef029",
              "version_major": 2,
              "version_minor": 0
            },
            "text/plain": [
              "  0%|          | 0/9 [00:00<?, ?it/s]"
            ]
          },
          "metadata": {},
          "output_type": "display_data"
        },
        {
          "name": "stdout",
          "output_type": "stream",
          "text": [
            "logits:    [1 0 2 0 1 1 0 0 2 4 0 0 1 0 0 0 0 1 0 0 4 1 2 2 1 2]\n",
            "labels_id: [1 4 2 4 2 1 4 2 3 3 4 3 1 3 0 0 0 5 5 2 4 1 3 2 1 5]\n",
            " Accuracy: 0.3734\n",
            " F1 score: 0.2997\n",
            "======== Epoch 128 / 500 ========\n",
            "Training...\n"
          ]
        },
        {
          "data": {
            "application/vnd.jupyter.widget-view+json": {
              "model_id": "2c888615ce5a41cf8532d7816ef9711b",
              "version_major": 2,
              "version_minor": 0
            },
            "text/plain": [
              "  0%|          | 0/104 [00:00<?, ?it/s]"
            ]
          },
          "metadata": {},
          "output_type": "display_data"
        },
        {
          "name": "stdout",
          "output_type": "stream",
          "text": [
            " Accuracy: 0.4892\n",
            " F1 score: 0.3453\n",
            " Average training loss: 1.2775\n",
            "Running Validation...\n"
          ]
        },
        {
          "data": {
            "application/vnd.jupyter.widget-view+json": {
              "model_id": "f4135c61443d4ab09e170f8f0bdbde90",
              "version_major": 2,
              "version_minor": 0
            },
            "text/plain": [
              "  0%|          | 0/9 [00:00<?, ?it/s]"
            ]
          },
          "metadata": {},
          "output_type": "display_data"
        },
        {
          "name": "stdout",
          "output_type": "stream",
          "text": [
            "logits:    [1 0 2 0 1 1 0 0 2 4 0 0 1 0 0 0 0 1 0 0 4 1 2 2 1 2]\n",
            "labels_id: [1 4 2 4 2 1 4 2 3 3 4 3 1 3 0 0 0 5 5 2 4 1 3 2 1 5]\n",
            " Accuracy: 0.3734\n",
            " F1 score: 0.2994\n",
            "======== Epoch 129 / 500 ========\n",
            "Training...\n"
          ]
        },
        {
          "data": {
            "application/vnd.jupyter.widget-view+json": {
              "model_id": "70cd84f1b4854c94acb248e2cd715d98",
              "version_major": 2,
              "version_minor": 0
            },
            "text/plain": [
              "  0%|          | 0/104 [00:00<?, ?it/s]"
            ]
          },
          "metadata": {},
          "output_type": "display_data"
        },
        {
          "name": "stdout",
          "output_type": "stream",
          "text": [
            " Accuracy: 0.4962\n",
            " F1 score: 0.3550\n",
            " Average training loss: 1.2763\n",
            "Running Validation...\n"
          ]
        },
        {
          "data": {
            "application/vnd.jupyter.widget-view+json": {
              "model_id": "fc36bcd7f31c46658c4103f3dacf9ef0",
              "version_major": 2,
              "version_minor": 0
            },
            "text/plain": [
              "  0%|          | 0/9 [00:00<?, ?it/s]"
            ]
          },
          "metadata": {},
          "output_type": "display_data"
        },
        {
          "name": "stdout",
          "output_type": "stream",
          "text": [
            "logits:    [1 0 2 0 1 1 0 0 2 4 0 0 1 0 0 0 0 1 0 0 4 1 2 2 1 2]\n",
            "labels_id: [1 4 2 4 2 1 4 2 3 3 4 3 1 3 0 0 0 5 5 2 4 1 3 2 1 5]\n",
            " Accuracy: 0.3786\n",
            " F1 score: 0.3042\n",
            "======== Epoch 130 / 500 ========\n",
            "Training...\n"
          ]
        },
        {
          "data": {
            "application/vnd.jupyter.widget-view+json": {
              "model_id": "4419db7be38a47b8bb361f9d5883db87",
              "version_major": 2,
              "version_minor": 0
            },
            "text/plain": [
              "  0%|          | 0/104 [00:00<?, ?it/s]"
            ]
          },
          "metadata": {},
          "output_type": "display_data"
        },
        {
          "name": "stdout",
          "output_type": "stream",
          "text": [
            " Accuracy: 0.4932\n",
            " F1 score: 0.3497\n",
            " Average training loss: 1.2763\n",
            "Running Validation...\n"
          ]
        },
        {
          "data": {
            "application/vnd.jupyter.widget-view+json": {
              "model_id": "2a6524d18175441cb8e90215598d06bb",
              "version_major": 2,
              "version_minor": 0
            },
            "text/plain": [
              "  0%|          | 0/9 [00:00<?, ?it/s]"
            ]
          },
          "metadata": {},
          "output_type": "display_data"
        },
        {
          "name": "stdout",
          "output_type": "stream",
          "text": [
            "logits:    [1 0 2 0 1 1 0 0 2 4 0 0 1 0 0 0 0 1 0 0 4 1 4 2 1 2]\n",
            "labels_id: [1 4 2 4 2 1 4 2 3 3 4 3 1 3 0 0 0 5 5 2 4 1 3 2 1 5]\n",
            " Accuracy: 0.3751\n",
            " F1 score: 0.3020\n",
            "======== Epoch 131 / 500 ========\n",
            "Training...\n"
          ]
        },
        {
          "data": {
            "application/vnd.jupyter.widget-view+json": {
              "model_id": "9af9cc34fb4a4731a44a2eab765ae630",
              "version_major": 2,
              "version_minor": 0
            },
            "text/plain": [
              "  0%|          | 0/104 [00:00<?, ?it/s]"
            ]
          },
          "metadata": {},
          "output_type": "display_data"
        },
        {
          "name": "stdout",
          "output_type": "stream",
          "text": [
            " Accuracy: 0.4968\n",
            " F1 score: 0.3562\n",
            " Average training loss: 1.2673\n",
            "Running Validation...\n"
          ]
        },
        {
          "data": {
            "application/vnd.jupyter.widget-view+json": {
              "model_id": "d7e6584d4edf40f9a8df423fb3becf5e",
              "version_major": 2,
              "version_minor": 0
            },
            "text/plain": [
              "  0%|          | 0/9 [00:00<?, ?it/s]"
            ]
          },
          "metadata": {},
          "output_type": "display_data"
        },
        {
          "name": "stdout",
          "output_type": "stream",
          "text": [
            "logits:    [1 0 2 0 1 1 0 0 2 4 0 0 1 0 0 0 0 1 0 0 4 1 4 2 1 2]\n",
            "labels_id: [1 4 2 4 2 1 4 2 3 3 4 3 1 3 0 0 0 5 5 2 4 1 3 2 1 5]\n",
            " Accuracy: 0.3786\n",
            " F1 score: 0.3067\n",
            "======== Epoch 132 / 500 ========\n",
            "Training...\n"
          ]
        },
        {
          "data": {
            "application/vnd.jupyter.widget-view+json": {
              "model_id": "558439f10d1342d4ad2b976f8ca489f2",
              "version_major": 2,
              "version_minor": 0
            },
            "text/plain": [
              "  0%|          | 0/104 [00:00<?, ?it/s]"
            ]
          },
          "metadata": {},
          "output_type": "display_data"
        },
        {
          "name": "stdout",
          "output_type": "stream",
          "text": [
            " Accuracy: 0.5029\n",
            " F1 score: 0.3621\n",
            " Average training loss: 1.2684\n",
            "Running Validation...\n"
          ]
        },
        {
          "data": {
            "application/vnd.jupyter.widget-view+json": {
              "model_id": "10071ead05f34acca44e1070557bdcfb",
              "version_major": 2,
              "version_minor": 0
            },
            "text/plain": [
              "  0%|          | 0/9 [00:00<?, ?it/s]"
            ]
          },
          "metadata": {},
          "output_type": "display_data"
        },
        {
          "name": "stdout",
          "output_type": "stream",
          "text": [
            "logits:    [1 0 2 0 1 1 0 0 2 4 0 0 1 0 0 0 0 1 0 0 4 1 4 2 1 2]\n",
            "labels_id: [1 4 2 4 2 1 4 2 3 3 4 3 1 3 0 0 0 5 5 2 4 1 3 2 1 5]\n",
            " Accuracy: 0.3821\n",
            " F1 score: 0.3103\n",
            "======== Epoch 133 / 500 ========\n",
            "Training...\n"
          ]
        },
        {
          "data": {
            "application/vnd.jupyter.widget-view+json": {
              "model_id": "8977a29983f34903b967c04b2b64342b",
              "version_major": 2,
              "version_minor": 0
            },
            "text/plain": [
              "  0%|          | 0/104 [00:00<?, ?it/s]"
            ]
          },
          "metadata": {},
          "output_type": "display_data"
        },
        {
          "name": "stdout",
          "output_type": "stream",
          "text": [
            " Accuracy: 0.5010\n",
            " F1 score: 0.3577\n",
            " Average training loss: 1.2690\n",
            "Running Validation...\n"
          ]
        },
        {
          "data": {
            "application/vnd.jupyter.widget-view+json": {
              "model_id": "4e44af6b1762432db2343b8940caf48d",
              "version_major": 2,
              "version_minor": 0
            },
            "text/plain": [
              "  0%|          | 0/9 [00:00<?, ?it/s]"
            ]
          },
          "metadata": {},
          "output_type": "display_data"
        },
        {
          "name": "stdout",
          "output_type": "stream",
          "text": [
            "logits:    [1 0 2 0 1 1 0 0 2 4 0 0 1 0 0 0 0 1 0 0 4 1 4 2 1 2]\n",
            "labels_id: [1 4 2 4 2 1 4 2 3 3 4 3 1 3 0 0 0 5 5 2 4 1 3 2 1 5]\n",
            " Accuracy: 0.3856\n",
            " F1 score: 0.3148\n",
            "======== Epoch 134 / 500 ========\n",
            "Training...\n"
          ]
        },
        {
          "data": {
            "application/vnd.jupyter.widget-view+json": {
              "model_id": "aab638411eae4d07a9418189b30d1e9a",
              "version_major": 2,
              "version_minor": 0
            },
            "text/plain": [
              "  0%|          | 0/104 [00:00<?, ?it/s]"
            ]
          },
          "metadata": {},
          "output_type": "display_data"
        },
        {
          "name": "stdout",
          "output_type": "stream",
          "text": [
            " Accuracy: 0.5083\n",
            " F1 score: 0.3663\n",
            " Average training loss: 1.2615\n",
            "Running Validation...\n"
          ]
        },
        {
          "data": {
            "application/vnd.jupyter.widget-view+json": {
              "model_id": "9613b5ad71fc43f8957c569e6eef459f",
              "version_major": 2,
              "version_minor": 0
            },
            "text/plain": [
              "  0%|          | 0/9 [00:00<?, ?it/s]"
            ]
          },
          "metadata": {},
          "output_type": "display_data"
        },
        {
          "name": "stdout",
          "output_type": "stream",
          "text": [
            "logits:    [1 0 2 0 1 1 0 0 2 4 0 0 1 0 0 0 0 1 0 0 4 1 4 2 1 2]\n",
            "labels_id: [1 4 2 4 2 1 4 2 3 3 4 3 1 3 0 0 0 5 5 2 4 1 3 2 1 5]\n",
            " Accuracy: 0.3856\n",
            " F1 score: 0.3148\n",
            "======== Epoch 135 / 500 ========\n",
            "Training...\n"
          ]
        },
        {
          "data": {
            "application/vnd.jupyter.widget-view+json": {
              "model_id": "8bc1c4d2a14442c5b23f8076f9d4c3f3",
              "version_major": 2,
              "version_minor": 0
            },
            "text/plain": [
              "  0%|          | 0/104 [00:00<?, ?it/s]"
            ]
          },
          "metadata": {},
          "output_type": "display_data"
        },
        {
          "name": "stdout",
          "output_type": "stream",
          "text": [
            " Accuracy: 0.5038\n",
            " F1 score: 0.3632\n",
            " Average training loss: 1.2673\n",
            "Running Validation...\n"
          ]
        },
        {
          "data": {
            "application/vnd.jupyter.widget-view+json": {
              "model_id": "1dbec13ff3264d47aefa78bd74852f42",
              "version_major": 2,
              "version_minor": 0
            },
            "text/plain": [
              "  0%|          | 0/9 [00:00<?, ?it/s]"
            ]
          },
          "metadata": {},
          "output_type": "display_data"
        },
        {
          "name": "stdout",
          "output_type": "stream",
          "text": [
            "logits:    [1 0 2 0 1 1 0 0 2 3 0 0 1 0 0 0 0 1 0 0 4 1 4 2 1 2]\n",
            "labels_id: [1 4 2 4 2 1 4 2 3 3 4 3 1 3 0 0 0 5 5 2 4 1 3 2 1 5]\n",
            " Accuracy: 0.3881\n",
            " F1 score: 0.3201\n",
            "======== Epoch 136 / 500 ========\n",
            "Training...\n"
          ]
        },
        {
          "data": {
            "application/vnd.jupyter.widget-view+json": {
              "model_id": "f37ffaf789b043a9ab4baed511d26211",
              "version_major": 2,
              "version_minor": 0
            },
            "text/plain": [
              "  0%|          | 0/104 [00:00<?, ?it/s]"
            ]
          },
          "metadata": {},
          "output_type": "display_data"
        },
        {
          "name": "stdout",
          "output_type": "stream",
          "text": [
            " Accuracy: 0.5102\n",
            " F1 score: 0.3715\n",
            " Average training loss: 1.2543\n",
            "Running Validation...\n"
          ]
        },
        {
          "data": {
            "application/vnd.jupyter.widget-view+json": {
              "model_id": "fdc6b7a63dfb4a82bb0372a07aea90ee",
              "version_major": 2,
              "version_minor": 0
            },
            "text/plain": [
              "  0%|          | 0/9 [00:00<?, ?it/s]"
            ]
          },
          "metadata": {},
          "output_type": "display_data"
        },
        {
          "name": "stdout",
          "output_type": "stream",
          "text": [
            "logits:    [5 0 2 0 1 1 0 0 2 3 0 0 1 0 0 0 0 1 0 0 4 1 4 2 1 2]\n",
            "labels_id: [1 4 2 4 2 1 4 2 3 3 4 3 1 3 0 0 0 5 5 2 4 1 3 2 1 5]\n",
            " Accuracy: 0.3821\n",
            " F1 score: 0.3168\n",
            "======== Epoch 137 / 500 ========\n",
            "Training...\n"
          ]
        },
        {
          "data": {
            "application/vnd.jupyter.widget-view+json": {
              "model_id": "a46f0810dcab4c638a7096595082b2b1",
              "version_major": 2,
              "version_minor": 0
            },
            "text/plain": [
              "  0%|          | 0/104 [00:00<?, ?it/s]"
            ]
          },
          "metadata": {},
          "output_type": "display_data"
        },
        {
          "name": "stdout",
          "output_type": "stream",
          "text": [
            " Accuracy: 0.5122\n",
            " F1 score: 0.3759\n",
            " Average training loss: 1.2570\n",
            "Running Validation...\n"
          ]
        },
        {
          "data": {
            "application/vnd.jupyter.widget-view+json": {
              "model_id": "c2374e3eaac04f2381046614cee5d20d",
              "version_major": 2,
              "version_minor": 0
            },
            "text/plain": [
              "  0%|          | 0/9 [00:00<?, ?it/s]"
            ]
          },
          "metadata": {},
          "output_type": "display_data"
        },
        {
          "name": "stdout",
          "output_type": "stream",
          "text": [
            "logits:    [5 0 2 0 1 1 0 0 2 3 0 0 1 0 0 0 0 1 0 0 4 1 4 2 1 2]\n",
            "labels_id: [1 4 2 4 2 1 4 2 3 3 4 3 1 3 0 0 0 5 5 2 4 1 3 2 1 5]\n",
            " Accuracy: 0.3838\n",
            " F1 score: 0.3187\n",
            "======== Epoch 138 / 500 ========\n",
            "Training...\n"
          ]
        },
        {
          "data": {
            "application/vnd.jupyter.widget-view+json": {
              "model_id": "2518777c95b8415cb31297adb427d271",
              "version_major": 2,
              "version_minor": 0
            },
            "text/plain": [
              "  0%|          | 0/104 [00:00<?, ?it/s]"
            ]
          },
          "metadata": {},
          "output_type": "display_data"
        },
        {
          "name": "stdout",
          "output_type": "stream",
          "text": [
            " Accuracy: 0.5105\n",
            " F1 score: 0.3699\n",
            " Average training loss: 1.2545\n",
            "Running Validation...\n"
          ]
        },
        {
          "data": {
            "application/vnd.jupyter.widget-view+json": {
              "model_id": "ef00f0a32ff64d9b81756d3c7c7465ea",
              "version_major": 2,
              "version_minor": 0
            },
            "text/plain": [
              "  0%|          | 0/9 [00:00<?, ?it/s]"
            ]
          },
          "metadata": {},
          "output_type": "display_data"
        },
        {
          "name": "stdout",
          "output_type": "stream",
          "text": [
            "logits:    [5 0 2 0 1 1 0 0 2 3 4 0 1 0 0 0 0 1 0 0 4 1 4 2 1 2]\n",
            "labels_id: [1 4 2 4 2 1 4 2 3 3 4 3 1 3 0 0 0 5 5 2 4 1 3 2 1 5]\n",
            " Accuracy: 0.3898\n",
            " F1 score: 0.3249\n",
            "======== Epoch 139 / 500 ========\n",
            "Training...\n"
          ]
        },
        {
          "data": {
            "application/vnd.jupyter.widget-view+json": {
              "model_id": "e2cdc152fbe6463898373cae5c765255",
              "version_major": 2,
              "version_minor": 0
            },
            "text/plain": [
              "  0%|          | 0/104 [00:00<?, ?it/s]"
            ]
          },
          "metadata": {},
          "output_type": "display_data"
        },
        {
          "name": "stdout",
          "output_type": "stream",
          "text": [
            " Accuracy: 0.5097\n",
            " F1 score: 0.3735\n",
            " Average training loss: 1.2558\n",
            "Running Validation...\n"
          ]
        },
        {
          "data": {
            "application/vnd.jupyter.widget-view+json": {
              "model_id": "1805c5d86c574fbda29f19e19fc45d90",
              "version_major": 2,
              "version_minor": 0
            },
            "text/plain": [
              "  0%|          | 0/9 [00:00<?, ?it/s]"
            ]
          },
          "metadata": {},
          "output_type": "display_data"
        },
        {
          "name": "stdout",
          "output_type": "stream",
          "text": [
            "logits:    [5 0 2 0 1 1 0 0 2 3 4 0 1 0 0 0 0 1 0 0 4 1 4 2 1 2]\n",
            "labels_id: [1 4 2 4 2 1 4 2 3 3 4 3 1 3 0 0 0 5 5 2 4 1 3 2 1 5]\n",
            " Accuracy: 0.3881\n",
            " F1 score: 0.3232\n",
            "======== Epoch 140 / 500 ========\n",
            "Training...\n"
          ]
        },
        {
          "data": {
            "application/vnd.jupyter.widget-view+json": {
              "model_id": "0fa542fcb0304a8cb207eb64f8a3e20b",
              "version_major": 2,
              "version_minor": 0
            },
            "text/plain": [
              "  0%|          | 0/104 [00:00<?, ?it/s]"
            ]
          },
          "metadata": {},
          "output_type": "display_data"
        },
        {
          "name": "stdout",
          "output_type": "stream",
          "text": [
            " Accuracy: 0.5142\n",
            " F1 score: 0.3772\n",
            " Average training loss: 1.2594\n",
            "Running Validation...\n"
          ]
        },
        {
          "data": {
            "application/vnd.jupyter.widget-view+json": {
              "model_id": "6cf57137fc8a485bbe7ae9b94cce67b5",
              "version_major": 2,
              "version_minor": 0
            },
            "text/plain": [
              "  0%|          | 0/9 [00:00<?, ?it/s]"
            ]
          },
          "metadata": {},
          "output_type": "display_data"
        },
        {
          "name": "stdout",
          "output_type": "stream",
          "text": [
            "logits:    [5 0 2 0 1 1 0 0 2 3 4 0 1 0 0 0 0 1 0 0 4 1 4 2 1 2]\n",
            "labels_id: [1 4 2 4 2 1 4 2 3 3 4 3 1 3 0 0 0 5 5 2 4 1 3 2 1 5]\n",
            " Accuracy: 0.3881\n",
            " F1 score: 0.3233\n",
            "======== Epoch 141 / 500 ========\n",
            "Training...\n"
          ]
        },
        {
          "data": {
            "application/vnd.jupyter.widget-view+json": {
              "model_id": "53d8d22948b940e68b311191316d5ee9",
              "version_major": 2,
              "version_minor": 0
            },
            "text/plain": [
              "  0%|          | 0/104 [00:00<?, ?it/s]"
            ]
          },
          "metadata": {},
          "output_type": "display_data"
        },
        {
          "name": "stdout",
          "output_type": "stream",
          "text": [
            " Accuracy: 0.5132\n",
            " F1 score: 0.3780\n",
            " Average training loss: 1.2490\n",
            "Running Validation...\n"
          ]
        },
        {
          "data": {
            "application/vnd.jupyter.widget-view+json": {
              "model_id": "2a372f19f88b416a9d540b35d1b487e5",
              "version_major": 2,
              "version_minor": 0
            },
            "text/plain": [
              "  0%|          | 0/9 [00:00<?, ?it/s]"
            ]
          },
          "metadata": {},
          "output_type": "display_data"
        },
        {
          "name": "stdout",
          "output_type": "stream",
          "text": [
            "logits:    [5 0 2 0 1 1 0 0 2 3 4 0 1 0 0 0 0 1 0 0 4 1 4 2 1 2]\n",
            "labels_id: [1 4 2 4 2 1 4 2 3 3 4 3 1 3 0 0 0 5 5 2 4 1 3 2 1 5]\n",
            " Accuracy: 0.3898\n",
            " F1 score: 0.3254\n",
            "======== Epoch 142 / 500 ========\n",
            "Training...\n"
          ]
        },
        {
          "data": {
            "application/vnd.jupyter.widget-view+json": {
              "model_id": "db99dc05e381416ab7851597fc26c087",
              "version_major": 2,
              "version_minor": 0
            },
            "text/plain": [
              "  0%|          | 0/104 [00:00<?, ?it/s]"
            ]
          },
          "metadata": {},
          "output_type": "display_data"
        },
        {
          "name": "stdout",
          "output_type": "stream",
          "text": [
            " Accuracy: 0.5184\n",
            " F1 score: 0.3810\n",
            " Average training loss: 1.2426\n",
            "Running Validation...\n"
          ]
        },
        {
          "data": {
            "application/vnd.jupyter.widget-view+json": {
              "model_id": "891ea4ebed0e49ecbb812f49c14817b0",
              "version_major": 2,
              "version_minor": 0
            },
            "text/plain": [
              "  0%|          | 0/9 [00:00<?, ?it/s]"
            ]
          },
          "metadata": {},
          "output_type": "display_data"
        },
        {
          "name": "stdout",
          "output_type": "stream",
          "text": [
            "logits:    [5 0 2 0 1 1 0 0 2 3 4 0 1 0 0 0 0 1 0 0 4 1 4 2 1 2]\n",
            "labels_id: [1 4 2 4 2 1 4 2 3 3 4 3 1 3 0 0 0 5 5 2 4 1 3 2 1 5]\n",
            " Accuracy: 0.3933\n",
            " F1 score: 0.3299\n",
            "======== Epoch 143 / 500 ========\n",
            "Training...\n"
          ]
        },
        {
          "data": {
            "application/vnd.jupyter.widget-view+json": {
              "model_id": "e9a938ad8c184b28b447f4858757ea1b",
              "version_major": 2,
              "version_minor": 0
            },
            "text/plain": [
              "  0%|          | 0/104 [00:00<?, ?it/s]"
            ]
          },
          "metadata": {},
          "output_type": "display_data"
        },
        {
          "name": "stdout",
          "output_type": "stream",
          "text": [
            " Accuracy: 0.5115\n",
            " F1 score: 0.3706\n",
            " Average training loss: 1.2459\n",
            "Running Validation...\n"
          ]
        },
        {
          "data": {
            "application/vnd.jupyter.widget-view+json": {
              "model_id": "e2f1b49a1c1245889dc3526e5f3b9f68",
              "version_major": 2,
              "version_minor": 0
            },
            "text/plain": [
              "  0%|          | 0/9 [00:00<?, ?it/s]"
            ]
          },
          "metadata": {},
          "output_type": "display_data"
        },
        {
          "name": "stdout",
          "output_type": "stream",
          "text": [
            "logits:    [5 0 2 0 1 1 0 0 2 3 4 0 1 0 0 0 0 1 0 0 4 1 4 2 1 2]\n",
            "labels_id: [1 4 2 4 2 1 4 2 3 3 4 3 1 3 0 0 0 5 5 2 4 1 3 2 1 5]\n",
            " Accuracy: 0.3933\n",
            " F1 score: 0.3301\n",
            "======== Epoch 144 / 500 ========\n",
            "Training...\n"
          ]
        },
        {
          "data": {
            "application/vnd.jupyter.widget-view+json": {
              "model_id": "59d59466492f4283abdbdb2ed565c350",
              "version_major": 2,
              "version_minor": 0
            },
            "text/plain": [
              "  0%|          | 0/104 [00:00<?, ?it/s]"
            ]
          },
          "metadata": {},
          "output_type": "display_data"
        },
        {
          "name": "stdout",
          "output_type": "stream",
          "text": [
            " Accuracy: 0.5211\n",
            " F1 score: 0.3806\n",
            " Average training loss: 1.2425\n",
            "Running Validation...\n"
          ]
        },
        {
          "data": {
            "application/vnd.jupyter.widget-view+json": {
              "model_id": "4afd45640b294667815a1b78ab7493d1",
              "version_major": 2,
              "version_minor": 0
            },
            "text/plain": [
              "  0%|          | 0/9 [00:00<?, ?it/s]"
            ]
          },
          "metadata": {},
          "output_type": "display_data"
        },
        {
          "name": "stdout",
          "output_type": "stream",
          "text": [
            "logits:    [5 0 2 0 1 1 0 0 2 3 4 0 1 0 0 0 0 1 0 0 4 1 4 2 1 2]\n",
            "labels_id: [1 4 2 4 2 1 4 2 3 3 4 3 1 3 0 0 0 5 5 2 4 1 3 2 1 5]\n",
            " Accuracy: 0.3933\n",
            " F1 score: 0.3286\n",
            "======== Epoch 145 / 500 ========\n",
            "Training...\n"
          ]
        },
        {
          "data": {
            "application/vnd.jupyter.widget-view+json": {
              "model_id": "3ad06f937b4f43a087871fc406b44c2e",
              "version_major": 2,
              "version_minor": 0
            },
            "text/plain": [
              "  0%|          | 0/104 [00:00<?, ?it/s]"
            ]
          },
          "metadata": {},
          "output_type": "display_data"
        },
        {
          "name": "stdout",
          "output_type": "stream",
          "text": [
            " Accuracy: 0.5212\n",
            " F1 score: 0.3790\n",
            " Average training loss: 1.2455\n",
            "Running Validation...\n"
          ]
        },
        {
          "data": {
            "application/vnd.jupyter.widget-view+json": {
              "model_id": "867e4680ec2c43228f537b860bcebfd5",
              "version_major": 2,
              "version_minor": 0
            },
            "text/plain": [
              "  0%|          | 0/9 [00:00<?, ?it/s]"
            ]
          },
          "metadata": {},
          "output_type": "display_data"
        },
        {
          "name": "stdout",
          "output_type": "stream",
          "text": [
            "logits:    [5 0 2 0 1 1 0 0 2 3 4 0 1 0 0 0 0 1 0 0 4 1 4 2 1 2]\n",
            "labels_id: [1 4 2 4 2 1 4 2 3 3 4 3 1 3 0 0 0 5 5 2 4 1 3 2 1 5]\n",
            " Accuracy: 0.3916\n",
            " F1 score: 0.3274\n",
            "======== Epoch 146 / 500 ========\n",
            "Training...\n"
          ]
        },
        {
          "data": {
            "application/vnd.jupyter.widget-view+json": {
              "model_id": "20e8eb66737842f09a1c7596de965e24",
              "version_major": 2,
              "version_minor": 0
            },
            "text/plain": [
              "  0%|          | 0/104 [00:00<?, ?it/s]"
            ]
          },
          "metadata": {},
          "output_type": "display_data"
        },
        {
          "name": "stdout",
          "output_type": "stream",
          "text": [
            " Accuracy: 0.5183\n",
            " F1 score: 0.3823\n",
            " Average training loss: 1.2455\n",
            "Running Validation...\n"
          ]
        },
        {
          "data": {
            "application/vnd.jupyter.widget-view+json": {
              "model_id": "6fd359a8db6646118e7141b94c4097f2",
              "version_major": 2,
              "version_minor": 0
            },
            "text/plain": [
              "  0%|          | 0/9 [00:00<?, ?it/s]"
            ]
          },
          "metadata": {},
          "output_type": "display_data"
        },
        {
          "name": "stdout",
          "output_type": "stream",
          "text": [
            "logits:    [5 0 2 0 1 1 0 0 2 3 4 0 1 0 0 0 0 1 0 0 4 1 4 2 1 2]\n",
            "labels_id: [1 4 2 4 2 1 4 2 3 3 4 3 1 3 0 0 0 5 5 2 4 1 3 2 1 5]\n",
            " Accuracy: 0.3916\n",
            " F1 score: 0.3277\n",
            "======== Epoch 147 / 500 ========\n",
            "Training...\n"
          ]
        },
        {
          "data": {
            "application/vnd.jupyter.widget-view+json": {
              "model_id": "39f20bd85bd44c78988ee283dbd4a249",
              "version_major": 2,
              "version_minor": 0
            },
            "text/plain": [
              "  0%|          | 0/104 [00:00<?, ?it/s]"
            ]
          },
          "metadata": {},
          "output_type": "display_data"
        },
        {
          "name": "stdout",
          "output_type": "stream",
          "text": [
            " Accuracy: 0.5197\n",
            " F1 score: 0.3792\n",
            " Average training loss: 1.2302\n",
            "Running Validation...\n"
          ]
        },
        {
          "data": {
            "application/vnd.jupyter.widget-view+json": {
              "model_id": "4f5d8bb1bd434ebd8f705bb6db7a1a44",
              "version_major": 2,
              "version_minor": 0
            },
            "text/plain": [
              "  0%|          | 0/9 [00:00<?, ?it/s]"
            ]
          },
          "metadata": {},
          "output_type": "display_data"
        },
        {
          "name": "stdout",
          "output_type": "stream",
          "text": [
            "logits:    [5 0 2 0 1 1 0 0 2 3 4 0 1 0 0 0 0 1 0 0 4 1 4 2 1 2]\n",
            "labels_id: [1 4 2 4 2 1 4 2 3 3 4 3 1 3 0 0 0 5 5 2 4 1 3 2 1 5]\n",
            " Accuracy: 0.4002\n",
            " F1 score: 0.3411\n",
            "======== Epoch 148 / 500 ========\n",
            "Training...\n"
          ]
        },
        {
          "data": {
            "application/vnd.jupyter.widget-view+json": {
              "model_id": "73e7d71c1deb4f4f90419cc6b6c22700",
              "version_major": 2,
              "version_minor": 0
            },
            "text/plain": [
              "  0%|          | 0/104 [00:00<?, ?it/s]"
            ]
          },
          "metadata": {},
          "output_type": "display_data"
        },
        {
          "name": "stdout",
          "output_type": "stream",
          "text": [
            " Accuracy: 0.5187\n",
            " F1 score: 0.3811\n",
            " Average training loss: 1.2357\n",
            "Running Validation...\n"
          ]
        },
        {
          "data": {
            "application/vnd.jupyter.widget-view+json": {
              "model_id": "ee47bed0e232426c81c207f70dd54a76",
              "version_major": 2,
              "version_minor": 0
            },
            "text/plain": [
              "  0%|          | 0/9 [00:00<?, ?it/s]"
            ]
          },
          "metadata": {},
          "output_type": "display_data"
        },
        {
          "name": "stdout",
          "output_type": "stream",
          "text": [
            "logits:    [5 0 2 0 1 1 0 0 2 3 4 0 1 0 0 0 0 1 0 0 4 1 4 2 1 2]\n",
            "labels_id: [1 4 2 4 2 1 4 2 3 3 4 3 1 3 0 0 0 5 5 2 4 1 3 2 1 5]\n",
            " Accuracy: 0.4002\n",
            " F1 score: 0.3412\n",
            "======== Epoch 149 / 500 ========\n",
            "Training...\n"
          ]
        },
        {
          "data": {
            "application/vnd.jupyter.widget-view+json": {
              "model_id": "1b277c95f5b64d748ca128fa8ca5b95f",
              "version_major": 2,
              "version_minor": 0
            },
            "text/plain": [
              "  0%|          | 0/104 [00:00<?, ?it/s]"
            ]
          },
          "metadata": {},
          "output_type": "display_data"
        },
        {
          "name": "stdout",
          "output_type": "stream",
          "text": [
            " Accuracy: 0.5234\n",
            " F1 score: 0.3884\n",
            " Average training loss: 1.2326\n",
            "Running Validation...\n"
          ]
        },
        {
          "data": {
            "application/vnd.jupyter.widget-view+json": {
              "model_id": "d42130cb9058433ab4f34b5bb0eebeaf",
              "version_major": 2,
              "version_minor": 0
            },
            "text/plain": [
              "  0%|          | 0/9 [00:00<?, ?it/s]"
            ]
          },
          "metadata": {},
          "output_type": "display_data"
        },
        {
          "name": "stdout",
          "output_type": "stream",
          "text": [
            "logits:    [5 0 2 0 1 1 0 0 2 3 4 0 1 0 0 0 0 1 0 0 4 1 4 2 1 2]\n",
            "labels_id: [1 4 2 4 2 1 4 2 3 3 4 3 1 3 0 0 0 5 5 2 4 1 3 2 1 5]\n",
            " Accuracy: 0.4020\n",
            " F1 score: 0.3421\n",
            "======== Epoch 150 / 500 ========\n",
            "Training...\n"
          ]
        },
        {
          "data": {
            "application/vnd.jupyter.widget-view+json": {
              "model_id": "4e22e3c0999b4052b335a70e66bb5c23",
              "version_major": 2,
              "version_minor": 0
            },
            "text/plain": [
              "  0%|          | 0/104 [00:00<?, ?it/s]"
            ]
          },
          "metadata": {},
          "output_type": "display_data"
        },
        {
          "name": "stdout",
          "output_type": "stream",
          "text": [
            " Accuracy: 0.5232\n",
            " F1 score: 0.3835\n",
            " Average training loss: 1.2262\n",
            "Running Validation...\n"
          ]
        },
        {
          "data": {
            "application/vnd.jupyter.widget-view+json": {
              "model_id": "db9c9d9f17c94a0485c2ca28053e9f0c",
              "version_major": 2,
              "version_minor": 0
            },
            "text/plain": [
              "  0%|          | 0/9 [00:00<?, ?it/s]"
            ]
          },
          "metadata": {},
          "output_type": "display_data"
        },
        {
          "name": "stdout",
          "output_type": "stream",
          "text": [
            "logits:    [5 0 2 0 1 1 0 0 2 3 4 0 1 0 0 0 0 1 0 0 4 1 4 2 1 2]\n",
            "labels_id: [1 4 2 4 2 1 4 2 3 3 4 3 1 3 0 0 0 5 5 2 4 1 3 2 1 5]\n",
            " Accuracy: 0.4020\n",
            " F1 score: 0.3421\n",
            "======== Epoch 151 / 500 ========\n",
            "Training...\n"
          ]
        },
        {
          "data": {
            "application/vnd.jupyter.widget-view+json": {
              "model_id": "216154406fe44ae7987c00db588322c4",
              "version_major": 2,
              "version_minor": 0
            },
            "text/plain": [
              "  0%|          | 0/104 [00:00<?, ?it/s]"
            ]
          },
          "metadata": {},
          "output_type": "display_data"
        },
        {
          "name": "stdout",
          "output_type": "stream",
          "text": [
            " Accuracy: 0.5219\n",
            " F1 score: 0.3859\n",
            " Average training loss: 1.2247\n",
            "Running Validation...\n"
          ]
        },
        {
          "data": {
            "application/vnd.jupyter.widget-view+json": {
              "model_id": "9492a309d87a49e08691f2c27c97edd6",
              "version_major": 2,
              "version_minor": 0
            },
            "text/plain": [
              "  0%|          | 0/9 [00:00<?, ?it/s]"
            ]
          },
          "metadata": {},
          "output_type": "display_data"
        },
        {
          "name": "stdout",
          "output_type": "stream",
          "text": [
            "logits:    [5 0 2 0 1 1 0 0 2 3 4 0 1 0 0 0 0 1 0 0 4 1 4 2 1 2]\n",
            "labels_id: [1 4 2 4 2 1 4 2 3 3 4 3 1 3 0 0 0 5 5 2 4 1 3 2 1 5]\n",
            " Accuracy: 0.4037\n",
            " F1 score: 0.3433\n",
            "======== Epoch 152 / 500 ========\n",
            "Training...\n"
          ]
        },
        {
          "data": {
            "application/vnd.jupyter.widget-view+json": {
              "model_id": "de2cb24fb692413fb79e430e4539f54e",
              "version_major": 2,
              "version_minor": 0
            },
            "text/plain": [
              "  0%|          | 0/104 [00:00<?, ?it/s]"
            ]
          },
          "metadata": {},
          "output_type": "display_data"
        },
        {
          "name": "stdout",
          "output_type": "stream",
          "text": [
            " Accuracy: 0.5247\n",
            " F1 score: 0.3885\n",
            " Average training loss: 1.2303\n",
            "Running Validation...\n"
          ]
        },
        {
          "data": {
            "application/vnd.jupyter.widget-view+json": {
              "model_id": "fa7d4ab0ad37494091e85ad1f9c71d69",
              "version_major": 2,
              "version_minor": 0
            },
            "text/plain": [
              "  0%|          | 0/9 [00:00<?, ?it/s]"
            ]
          },
          "metadata": {},
          "output_type": "display_data"
        },
        {
          "name": "stdout",
          "output_type": "stream",
          "text": [
            "logits:    [5 0 2 0 1 1 0 0 2 3 4 0 1 0 0 0 0 1 0 0 4 1 4 2 1 2]\n",
            "labels_id: [1 4 2 4 2 1 4 2 3 3 4 3 1 3 0 0 0 5 5 2 4 1 3 2 1 5]\n",
            " Accuracy: 0.4054\n",
            " F1 score: 0.3473\n",
            "======== Epoch 153 / 500 ========\n",
            "Training...\n"
          ]
        },
        {
          "data": {
            "application/vnd.jupyter.widget-view+json": {
              "model_id": "bc0833af82ac4133ace03aa0b074d408",
              "version_major": 2,
              "version_minor": 0
            },
            "text/plain": [
              "  0%|          | 0/104 [00:00<?, ?it/s]"
            ]
          },
          "metadata": {},
          "output_type": "display_data"
        },
        {
          "name": "stdout",
          "output_type": "stream",
          "text": [
            " Accuracy: 0.5263\n",
            " F1 score: 0.3868\n",
            " Average training loss: 1.2225\n",
            "Running Validation...\n"
          ]
        },
        {
          "data": {
            "application/vnd.jupyter.widget-view+json": {
              "model_id": "e6d10d7026c34ce7b106b9383030ce5f",
              "version_major": 2,
              "version_minor": 0
            },
            "text/plain": [
              "  0%|          | 0/9 [00:00<?, ?it/s]"
            ]
          },
          "metadata": {},
          "output_type": "display_data"
        },
        {
          "name": "stdout",
          "output_type": "stream",
          "text": [
            "logits:    [5 0 2 0 1 1 0 0 2 3 4 0 1 0 0 0 0 1 0 0 4 1 4 2 1 2]\n",
            "labels_id: [1 4 2 4 2 1 4 2 3 3 4 3 1 3 0 0 0 5 5 2 4 1 3 2 1 5]\n",
            " Accuracy: 0.4072\n",
            " F1 score: 0.3538\n",
            "======== Epoch 154 / 500 ========\n",
            "Training...\n"
          ]
        },
        {
          "data": {
            "application/vnd.jupyter.widget-view+json": {
              "model_id": "43ce03a94481456bbf2c3589d5bce7b4",
              "version_major": 2,
              "version_minor": 0
            },
            "text/plain": [
              "  0%|          | 0/104 [00:00<?, ?it/s]"
            ]
          },
          "metadata": {},
          "output_type": "display_data"
        },
        {
          "name": "stdout",
          "output_type": "stream",
          "text": [
            " Accuracy: 0.5288\n",
            " F1 score: 0.3991\n",
            " Average training loss: 1.2178\n",
            "Running Validation...\n"
          ]
        },
        {
          "data": {
            "application/vnd.jupyter.widget-view+json": {
              "model_id": "5d0b2466ccb243d6af411f79a1d67230",
              "version_major": 2,
              "version_minor": 0
            },
            "text/plain": [
              "  0%|          | 0/9 [00:00<?, ?it/s]"
            ]
          },
          "metadata": {},
          "output_type": "display_data"
        },
        {
          "name": "stdout",
          "output_type": "stream",
          "text": [
            "logits:    [5 0 2 0 1 1 0 0 2 3 4 0 1 0 0 0 0 1 0 0 4 1 4 2 1 2]\n",
            "labels_id: [1 4 2 4 2 1 4 2 3 3 4 3 1 3 0 0 0 5 5 2 4 1 3 2 1 5]\n",
            " Accuracy: 0.4072\n",
            " F1 score: 0.3538\n",
            "======== Epoch 155 / 500 ========\n",
            "Training...\n"
          ]
        },
        {
          "data": {
            "application/vnd.jupyter.widget-view+json": {
              "model_id": "aa8a057d83f04ee7bd51017df18ac2c6",
              "version_major": 2,
              "version_minor": 0
            },
            "text/plain": [
              "  0%|          | 0/104 [00:00<?, ?it/s]"
            ]
          },
          "metadata": {},
          "output_type": "display_data"
        },
        {
          "name": "stdout",
          "output_type": "stream",
          "text": [
            " Accuracy: 0.5346\n",
            " F1 score: 0.3960\n",
            " Average training loss: 1.2118\n",
            "Running Validation...\n"
          ]
        },
        {
          "data": {
            "application/vnd.jupyter.widget-view+json": {
              "model_id": "e43a8a8237094cd2be03640283688f15",
              "version_major": 2,
              "version_minor": 0
            },
            "text/plain": [
              "  0%|          | 0/9 [00:00<?, ?it/s]"
            ]
          },
          "metadata": {},
          "output_type": "display_data"
        },
        {
          "name": "stdout",
          "output_type": "stream",
          "text": [
            "logits:    [5 0 2 0 1 1 0 0 2 3 4 0 1 0 0 0 0 1 0 0 4 1 4 2 1 2]\n",
            "labels_id: [1 4 2 4 2 1 4 2 3 3 4 3 1 3 0 0 0 5 5 2 4 1 3 2 1 5]\n",
            " Accuracy: 0.4072\n",
            " F1 score: 0.3538\n",
            "======== Epoch 156 / 500 ========\n",
            "Training...\n"
          ]
        },
        {
          "data": {
            "application/vnd.jupyter.widget-view+json": {
              "model_id": "1727bb522e054724911f3d7b353e6c82",
              "version_major": 2,
              "version_minor": 0
            },
            "text/plain": [
              "  0%|          | 0/104 [00:00<?, ?it/s]"
            ]
          },
          "metadata": {},
          "output_type": "display_data"
        },
        {
          "name": "stdout",
          "output_type": "stream",
          "text": [
            " Accuracy: 0.5324\n",
            " F1 score: 0.3999\n",
            " Average training loss: 1.2162\n",
            "Running Validation...\n"
          ]
        },
        {
          "data": {
            "application/vnd.jupyter.widget-view+json": {
              "model_id": "8dc1a66d41ca43b193885b225f236a07",
              "version_major": 2,
              "version_minor": 0
            },
            "text/plain": [
              "  0%|          | 0/9 [00:00<?, ?it/s]"
            ]
          },
          "metadata": {},
          "output_type": "display_data"
        },
        {
          "name": "stdout",
          "output_type": "stream",
          "text": [
            "logits:    [5 0 2 0 1 1 0 0 2 3 4 0 1 0 0 0 0 1 0 0 4 1 4 2 1 2]\n",
            "labels_id: [1 4 2 4 2 1 4 2 3 3 4 3 1 3 0 0 0 5 5 2 4 1 3 2 1 5]\n",
            " Accuracy: 0.4072\n",
            " F1 score: 0.3537\n",
            "======== Epoch 157 / 500 ========\n",
            "Training...\n"
          ]
        },
        {
          "data": {
            "application/vnd.jupyter.widget-view+json": {
              "model_id": "e16657193a274681b9d7a12a031e9c5e",
              "version_major": 2,
              "version_minor": 0
            },
            "text/plain": [
              "  0%|          | 0/104 [00:00<?, ?it/s]"
            ]
          },
          "metadata": {},
          "output_type": "display_data"
        },
        {
          "name": "stdout",
          "output_type": "stream",
          "text": [
            " Accuracy: 0.5345\n",
            " F1 score: 0.4037\n",
            " Average training loss: 1.2111\n",
            "Running Validation...\n"
          ]
        },
        {
          "data": {
            "application/vnd.jupyter.widget-view+json": {
              "model_id": "dc4be0ac5ab9439b810b4b6e441918ec",
              "version_major": 2,
              "version_minor": 0
            },
            "text/plain": [
              "  0%|          | 0/9 [00:00<?, ?it/s]"
            ]
          },
          "metadata": {},
          "output_type": "display_data"
        },
        {
          "name": "stdout",
          "output_type": "stream",
          "text": [
            "logits:    [5 0 2 0 1 1 0 0 2 3 4 0 1 0 0 0 0 1 0 0 4 1 4 2 1 2]\n",
            "labels_id: [1 4 2 4 2 1 4 2 3 3 4 3 1 3 0 0 0 5 5 2 4 1 3 2 1 5]\n",
            " Accuracy: 0.4072\n",
            " F1 score: 0.3556\n",
            "======== Epoch 158 / 500 ========\n",
            "Training...\n"
          ]
        },
        {
          "data": {
            "application/vnd.jupyter.widget-view+json": {
              "model_id": "aec31ac57c4f4f74bccbb74635294bb2",
              "version_major": 2,
              "version_minor": 0
            },
            "text/plain": [
              "  0%|          | 0/104 [00:00<?, ?it/s]"
            ]
          },
          "metadata": {},
          "output_type": "display_data"
        },
        {
          "name": "stdout",
          "output_type": "stream",
          "text": [
            " Accuracy: 0.5318\n",
            " F1 score: 0.3937\n",
            " Average training loss: 1.2087\n",
            "Running Validation...\n"
          ]
        },
        {
          "data": {
            "application/vnd.jupyter.widget-view+json": {
              "model_id": "36f0ad0f6d0a4b0d91d82fed7634cd62",
              "version_major": 2,
              "version_minor": 0
            },
            "text/plain": [
              "  0%|          | 0/9 [00:00<?, ?it/s]"
            ]
          },
          "metadata": {},
          "output_type": "display_data"
        },
        {
          "name": "stdout",
          "output_type": "stream",
          "text": [
            "logits:    [5 0 2 0 1 1 0 0 2 3 4 0 1 0 0 0 0 1 0 0 4 1 4 2 1 2]\n",
            "labels_id: [1 4 2 4 2 1 4 2 3 3 4 3 1 3 0 0 0 5 5 2 4 1 3 2 1 5]\n",
            " Accuracy: 0.4072\n",
            " F1 score: 0.3556\n",
            "======== Epoch 159 / 500 ========\n",
            "Training...\n"
          ]
        },
        {
          "data": {
            "application/vnd.jupyter.widget-view+json": {
              "model_id": "7a79927a0727493fa1d5627650dd599c",
              "version_major": 2,
              "version_minor": 0
            },
            "text/plain": [
              "  0%|          | 0/104 [00:00<?, ?it/s]"
            ]
          },
          "metadata": {},
          "output_type": "display_data"
        },
        {
          "name": "stdout",
          "output_type": "stream",
          "text": [
            " Accuracy: 0.5361\n",
            " F1 score: 0.4003\n",
            " Average training loss: 1.2049\n",
            "Running Validation...\n"
          ]
        },
        {
          "data": {
            "application/vnd.jupyter.widget-view+json": {
              "model_id": "7514bc9e453b4210b1c441db5bd76212",
              "version_major": 2,
              "version_minor": 0
            },
            "text/plain": [
              "  0%|          | 0/9 [00:00<?, ?it/s]"
            ]
          },
          "metadata": {},
          "output_type": "display_data"
        },
        {
          "name": "stdout",
          "output_type": "stream",
          "text": [
            "logits:    [5 0 2 0 1 1 0 0 2 3 4 0 1 0 0 0 0 1 0 0 4 1 4 2 1 2]\n",
            "labels_id: [1 4 2 4 2 1 4 2 3 3 4 3 1 3 0 0 0 5 5 2 4 1 3 2 1 5]\n",
            " Accuracy: 0.4072\n",
            " F1 score: 0.3556\n",
            "======== Epoch 160 / 500 ========\n",
            "Training...\n"
          ]
        },
        {
          "data": {
            "application/vnd.jupyter.widget-view+json": {
              "model_id": "666a1bc35ce54df0a1ee84ea41c44b89",
              "version_major": 2,
              "version_minor": 0
            },
            "text/plain": [
              "  0%|          | 0/104 [00:00<?, ?it/s]"
            ]
          },
          "metadata": {},
          "output_type": "display_data"
        },
        {
          "name": "stdout",
          "output_type": "stream",
          "text": [
            " Accuracy: 0.5270\n",
            " F1 score: 0.3972\n",
            " Average training loss: 1.2079\n",
            "Running Validation...\n"
          ]
        },
        {
          "data": {
            "application/vnd.jupyter.widget-view+json": {
              "model_id": "a21371d4ac354034abf7a16525744387",
              "version_major": 2,
              "version_minor": 0
            },
            "text/plain": [
              "  0%|          | 0/9 [00:00<?, ?it/s]"
            ]
          },
          "metadata": {},
          "output_type": "display_data"
        },
        {
          "name": "stdout",
          "output_type": "stream",
          "text": [
            "logits:    [5 0 2 0 1 1 0 0 2 3 4 0 1 0 0 0 0 1 0 0 4 1 4 2 1 2]\n",
            "labels_id: [1 4 2 4 2 1 4 2 3 3 4 3 1 3 0 0 0 5 5 2 4 1 3 2 1 5]\n",
            " Accuracy: 0.4107\n",
            " F1 score: 0.3590\n",
            "======== Epoch 161 / 500 ========\n",
            "Training...\n"
          ]
        },
        {
          "data": {
            "application/vnd.jupyter.widget-view+json": {
              "model_id": "29381777a1354faea05a9303f0789205",
              "version_major": 2,
              "version_minor": 0
            },
            "text/plain": [
              "  0%|          | 0/104 [00:00<?, ?it/s]"
            ]
          },
          "metadata": {},
          "output_type": "display_data"
        },
        {
          "name": "stdout",
          "output_type": "stream",
          "text": [
            " Accuracy: 0.5383\n",
            " F1 score: 0.4059\n",
            " Average training loss: 1.2044\n",
            "Running Validation...\n"
          ]
        },
        {
          "data": {
            "application/vnd.jupyter.widget-view+json": {
              "model_id": "725fd0723cb54533aa007ee909ac931d",
              "version_major": 2,
              "version_minor": 0
            },
            "text/plain": [
              "  0%|          | 0/9 [00:00<?, ?it/s]"
            ]
          },
          "metadata": {},
          "output_type": "display_data"
        },
        {
          "name": "stdout",
          "output_type": "stream",
          "text": [
            "logits:    [5 0 2 0 1 1 0 0 2 3 4 0 1 0 0 0 0 1 0 0 4 1 4 2 1 2]\n",
            "labels_id: [1 4 2 4 2 1 4 2 3 3 4 3 1 3 0 0 0 5 5 2 4 1 3 2 1 5]\n",
            " Accuracy: 0.4107\n",
            " F1 score: 0.3594\n",
            "======== Epoch 162 / 500 ========\n",
            "Training...\n"
          ]
        },
        {
          "data": {
            "application/vnd.jupyter.widget-view+json": {
              "model_id": "3b5e01d3955e419e88ff02b06fca7dc9",
              "version_major": 2,
              "version_minor": 0
            },
            "text/plain": [
              "  0%|          | 0/104 [00:00<?, ?it/s]"
            ]
          },
          "metadata": {},
          "output_type": "display_data"
        },
        {
          "name": "stdout",
          "output_type": "stream",
          "text": [
            " Accuracy: 0.5403\n",
            " F1 score: 0.4105\n",
            " Average training loss: 1.2001\n",
            "Running Validation...\n"
          ]
        },
        {
          "data": {
            "application/vnd.jupyter.widget-view+json": {
              "model_id": "b5d407b9c415452eb1e4105a66a65dc8",
              "version_major": 2,
              "version_minor": 0
            },
            "text/plain": [
              "  0%|          | 0/9 [00:00<?, ?it/s]"
            ]
          },
          "metadata": {},
          "output_type": "display_data"
        },
        {
          "name": "stdout",
          "output_type": "stream",
          "text": [
            "logits:    [5 0 2 0 1 1 0 0 2 3 4 0 1 0 0 0 0 1 0 0 4 1 4 2 1 2]\n",
            "labels_id: [1 4 2 4 2 1 4 2 3 3 4 3 1 3 0 0 0 5 5 2 4 1 3 2 1 5]\n",
            " Accuracy: 0.4107\n",
            " F1 score: 0.3599\n",
            "======== Epoch 163 / 500 ========\n",
            "Training...\n"
          ]
        },
        {
          "data": {
            "application/vnd.jupyter.widget-view+json": {
              "model_id": "ba5ed53aea8d401fa437871db231ab4c",
              "version_major": 2,
              "version_minor": 0
            },
            "text/plain": [
              "  0%|          | 0/104 [00:00<?, ?it/s]"
            ]
          },
          "metadata": {},
          "output_type": "display_data"
        },
        {
          "name": "stdout",
          "output_type": "stream",
          "text": [
            " Accuracy: 0.5360\n",
            " F1 score: 0.4055\n",
            " Average training loss: 1.1980\n",
            "Running Validation...\n"
          ]
        },
        {
          "data": {
            "application/vnd.jupyter.widget-view+json": {
              "model_id": "d2719c95e9af4540b90577380fe7415e",
              "version_major": 2,
              "version_minor": 0
            },
            "text/plain": [
              "  0%|          | 0/9 [00:00<?, ?it/s]"
            ]
          },
          "metadata": {},
          "output_type": "display_data"
        },
        {
          "name": "stdout",
          "output_type": "stream",
          "text": [
            "logits:    [5 0 2 0 1 1 0 0 2 3 4 0 1 0 0 0 0 1 0 0 4 1 4 2 1 2]\n",
            "labels_id: [1 4 2 4 2 1 4 2 3 3 4 3 1 3 0 0 0 5 5 2 4 1 3 2 1 5]\n",
            " Accuracy: 0.4107\n",
            " F1 score: 0.3600\n",
            "======== Epoch 164 / 500 ========\n",
            "Training...\n"
          ]
        },
        {
          "data": {
            "application/vnd.jupyter.widget-view+json": {
              "model_id": "eeb1d76acc7d4bc286a9d66ee7dc7072",
              "version_major": 2,
              "version_minor": 0
            },
            "text/plain": [
              "  0%|          | 0/104 [00:00<?, ?it/s]"
            ]
          },
          "metadata": {},
          "output_type": "display_data"
        },
        {
          "name": "stdout",
          "output_type": "stream",
          "text": [
            " Accuracy: 0.5321\n",
            " F1 score: 0.4028\n",
            " Average training loss: 1.2037\n",
            "Running Validation...\n"
          ]
        },
        {
          "data": {
            "application/vnd.jupyter.widget-view+json": {
              "model_id": "e33764325c7b449ab7eb590980775dcf",
              "version_major": 2,
              "version_minor": 0
            },
            "text/plain": [
              "  0%|          | 0/9 [00:00<?, ?it/s]"
            ]
          },
          "metadata": {},
          "output_type": "display_data"
        },
        {
          "name": "stdout",
          "output_type": "stream",
          "text": [
            "logits:    [5 0 2 0 1 1 0 0 2 3 4 0 1 0 0 0 0 1 0 0 3 1 4 2 1 2]\n",
            "labels_id: [1 4 2 4 2 1 4 2 3 3 4 3 1 3 0 0 0 5 5 2 4 1 3 2 1 5]\n",
            " Accuracy: 0.4064\n",
            " F1 score: 0.3549\n",
            "======== Epoch 165 / 500 ========\n",
            "Training...\n"
          ]
        },
        {
          "data": {
            "application/vnd.jupyter.widget-view+json": {
              "model_id": "2620cce881294b87bf0ee824152266bc",
              "version_major": 2,
              "version_minor": 0
            },
            "text/plain": [
              "  0%|          | 0/104 [00:00<?, ?it/s]"
            ]
          },
          "metadata": {},
          "output_type": "display_data"
        },
        {
          "name": "stdout",
          "output_type": "stream",
          "text": [
            " Accuracy: 0.5380\n",
            " F1 score: 0.4133\n",
            " Average training loss: 1.1907\n",
            "Running Validation...\n"
          ]
        },
        {
          "data": {
            "application/vnd.jupyter.widget-view+json": {
              "model_id": "81606f24b5354e23a6828868fe7c07c4",
              "version_major": 2,
              "version_minor": 0
            },
            "text/plain": [
              "  0%|          | 0/9 [00:00<?, ?it/s]"
            ]
          },
          "metadata": {},
          "output_type": "display_data"
        },
        {
          "name": "stdout",
          "output_type": "stream",
          "text": [
            "logits:    [5 0 2 0 1 1 0 0 2 3 4 0 1 0 0 0 0 1 0 0 4 1 4 2 1 2]\n",
            "labels_id: [1 4 2 4 2 1 4 2 3 3 4 3 1 3 0 0 0 5 5 2 4 1 3 2 1 5]\n",
            " Accuracy: 0.4107\n",
            " F1 score: 0.3601\n",
            "======== Epoch 166 / 500 ========\n",
            "Training...\n"
          ]
        },
        {
          "data": {
            "application/vnd.jupyter.widget-view+json": {
              "model_id": "c03c990ee2b4473298be142c89fe41a9",
              "version_major": 2,
              "version_minor": 0
            },
            "text/plain": [
              "  0%|          | 0/104 [00:00<?, ?it/s]"
            ]
          },
          "metadata": {},
          "output_type": "display_data"
        },
        {
          "name": "stdout",
          "output_type": "stream",
          "text": [
            " Accuracy: 0.5354\n",
            " F1 score: 0.4045\n",
            " Average training loss: 1.2005\n",
            "Running Validation...\n"
          ]
        },
        {
          "data": {
            "application/vnd.jupyter.widget-view+json": {
              "model_id": "de4e737749b0455b942c3b8342928ca5",
              "version_major": 2,
              "version_minor": 0
            },
            "text/plain": [
              "  0%|          | 0/9 [00:00<?, ?it/s]"
            ]
          },
          "metadata": {},
          "output_type": "display_data"
        },
        {
          "name": "stdout",
          "output_type": "stream",
          "text": [
            "logits:    [5 0 2 0 1 1 4 0 2 3 4 0 1 0 0 0 0 1 0 0 3 1 4 2 1 2]\n",
            "labels_id: [1 4 2 4 2 1 4 2 3 3 4 3 1 3 0 0 0 5 5 2 4 1 3 2 1 5]\n",
            " Accuracy: 0.4124\n",
            " F1 score: 0.3633\n",
            "======== Epoch 167 / 500 ========\n",
            "Training...\n"
          ]
        },
        {
          "data": {
            "application/vnd.jupyter.widget-view+json": {
              "model_id": "f0c07bd77afe49d9a3ca293fc1d9a653",
              "version_major": 2,
              "version_minor": 0
            },
            "text/plain": [
              "  0%|          | 0/104 [00:00<?, ?it/s]"
            ]
          },
          "metadata": {},
          "output_type": "display_data"
        },
        {
          "name": "stdout",
          "output_type": "stream",
          "text": [
            " Accuracy: 0.5387\n",
            " F1 score: 0.4084\n",
            " Average training loss: 1.1969\n",
            "Running Validation...\n"
          ]
        },
        {
          "data": {
            "application/vnd.jupyter.widget-view+json": {
              "model_id": "0f59ce4e42ae423f82e70e6abf5bc8b2",
              "version_major": 2,
              "version_minor": 0
            },
            "text/plain": [
              "  0%|          | 0/9 [00:00<?, ?it/s]"
            ]
          },
          "metadata": {},
          "output_type": "display_data"
        },
        {
          "name": "stdout",
          "output_type": "stream",
          "text": [
            "logits:    [5 0 2 0 1 1 0 0 2 3 4 0 1 0 0 0 0 1 0 0 3 1 4 2 1 2]\n",
            "labels_id: [1 4 2 4 2 1 4 2 3 3 4 3 1 3 0 0 0 5 5 2 4 1 3 2 1 5]\n",
            " Accuracy: 0.4081\n",
            " F1 score: 0.3590\n",
            "======== Epoch 168 / 500 ========\n",
            "Training...\n"
          ]
        },
        {
          "data": {
            "application/vnd.jupyter.widget-view+json": {
              "model_id": "73c7adc530f54cf8afbedf1c62b1d6c7",
              "version_major": 2,
              "version_minor": 0
            },
            "text/plain": [
              "  0%|          | 0/104 [00:00<?, ?it/s]"
            ]
          },
          "metadata": {},
          "output_type": "display_data"
        },
        {
          "name": "stdout",
          "output_type": "stream",
          "text": [
            " Accuracy: 0.5375\n",
            " F1 score: 0.4037\n",
            " Average training loss: 1.1919\n",
            "Running Validation...\n"
          ]
        },
        {
          "data": {
            "application/vnd.jupyter.widget-view+json": {
              "model_id": "d84dab399f2144c6aa8168eb6a989b51",
              "version_major": 2,
              "version_minor": 0
            },
            "text/plain": [
              "  0%|          | 0/9 [00:00<?, ?it/s]"
            ]
          },
          "metadata": {},
          "output_type": "display_data"
        },
        {
          "name": "stdout",
          "output_type": "stream",
          "text": [
            "logits:    [5 0 2 0 1 1 4 0 2 3 4 0 1 0 0 0 0 1 0 0 3 1 4 2 1 2]\n",
            "labels_id: [1 4 2 4 2 1 4 2 3 3 4 3 1 3 0 0 0 5 5 2 4 1 3 2 1 5]\n",
            " Accuracy: 0.4124\n",
            " F1 score: 0.3636\n",
            "======== Epoch 169 / 500 ========\n",
            "Training...\n"
          ]
        },
        {
          "data": {
            "application/vnd.jupyter.widget-view+json": {
              "model_id": "0b277a35475b4c388dc78417510a8328",
              "version_major": 2,
              "version_minor": 0
            },
            "text/plain": [
              "  0%|          | 0/104 [00:00<?, ?it/s]"
            ]
          },
          "metadata": {},
          "output_type": "display_data"
        },
        {
          "name": "stdout",
          "output_type": "stream",
          "text": [
            " Accuracy: 0.5396\n",
            " F1 score: 0.4103\n",
            " Average training loss: 1.1932\n",
            "Running Validation...\n"
          ]
        },
        {
          "data": {
            "application/vnd.jupyter.widget-view+json": {
              "model_id": "f1bc9dad821b4b64a2da81581a456edc",
              "version_major": 2,
              "version_minor": 0
            },
            "text/plain": [
              "  0%|          | 0/9 [00:00<?, ?it/s]"
            ]
          },
          "metadata": {},
          "output_type": "display_data"
        },
        {
          "name": "stdout",
          "output_type": "stream",
          "text": [
            "logits:    [5 0 2 0 1 1 4 0 2 3 4 0 1 0 0 0 0 1 0 0 3 1 4 2 1 2]\n",
            "labels_id: [1 4 2 4 2 1 4 2 3 3 4 3 1 3 0 0 0 5 5 2 4 1 3 2 1 5]\n",
            " Accuracy: 0.4159\n",
            " F1 score: 0.3673\n",
            "======== Epoch 170 / 500 ========\n",
            "Training...\n"
          ]
        },
        {
          "data": {
            "application/vnd.jupyter.widget-view+json": {
              "model_id": "db394e7be82842f09e6faaec3909957d",
              "version_major": 2,
              "version_minor": 0
            },
            "text/plain": [
              "  0%|          | 0/104 [00:00<?, ?it/s]"
            ]
          },
          "metadata": {},
          "output_type": "display_data"
        },
        {
          "name": "stdout",
          "output_type": "stream",
          "text": [
            " Accuracy: 0.5455\n",
            " F1 score: 0.4127\n",
            " Average training loss: 1.1912\n",
            "Running Validation...\n"
          ]
        },
        {
          "data": {
            "application/vnd.jupyter.widget-view+json": {
              "model_id": "466e62adad3a4eb3863540e0357bc53c",
              "version_major": 2,
              "version_minor": 0
            },
            "text/plain": [
              "  0%|          | 0/9 [00:00<?, ?it/s]"
            ]
          },
          "metadata": {},
          "output_type": "display_data"
        },
        {
          "name": "stdout",
          "output_type": "stream",
          "text": [
            "logits:    [5 0 2 0 1 1 4 0 2 3 4 0 1 0 0 0 0 1 0 0 3 1 4 2 1 2]\n",
            "labels_id: [1 4 2 4 2 1 4 2 3 3 4 3 1 3 0 0 0 5 5 2 4 1 3 2 1 5]\n",
            " Accuracy: 0.4176\n",
            " F1 score: 0.3731\n",
            "======== Epoch 171 / 500 ========\n",
            "Training...\n"
          ]
        },
        {
          "data": {
            "application/vnd.jupyter.widget-view+json": {
              "model_id": "ba26fcaa34674ca7abd9377391056dd1",
              "version_major": 2,
              "version_minor": 0
            },
            "text/plain": [
              "  0%|          | 0/104 [00:00<?, ?it/s]"
            ]
          },
          "metadata": {},
          "output_type": "display_data"
        },
        {
          "name": "stdout",
          "output_type": "stream",
          "text": [
            " Accuracy: 0.5401\n",
            " F1 score: 0.4149\n",
            " Average training loss: 1.1883\n",
            "Running Validation...\n"
          ]
        },
        {
          "data": {
            "application/vnd.jupyter.widget-view+json": {
              "model_id": "a6136452253f481f90a1af598c058585",
              "version_major": 2,
              "version_minor": 0
            },
            "text/plain": [
              "  0%|          | 0/9 [00:00<?, ?it/s]"
            ]
          },
          "metadata": {},
          "output_type": "display_data"
        },
        {
          "name": "stdout",
          "output_type": "stream",
          "text": [
            "logits:    [5 0 2 0 1 1 4 0 2 3 4 0 1 0 0 0 0 1 0 0 3 1 4 2 1 2]\n",
            "labels_id: [1 4 2 4 2 1 4 2 3 3 4 3 1 3 0 0 0 5 5 2 4 1 3 2 1 5]\n",
            " Accuracy: 0.4211\n",
            " F1 score: 0.3764\n",
            "======== Epoch 172 / 500 ========\n",
            "Training...\n"
          ]
        },
        {
          "data": {
            "application/vnd.jupyter.widget-view+json": {
              "model_id": "276132c5c63a475082b61a2ab8e49ede",
              "version_major": 2,
              "version_minor": 0
            },
            "text/plain": [
              "  0%|          | 0/104 [00:00<?, ?it/s]"
            ]
          },
          "metadata": {},
          "output_type": "display_data"
        },
        {
          "name": "stdout",
          "output_type": "stream",
          "text": [
            " Accuracy: 0.5461\n",
            " F1 score: 0.4160\n",
            " Average training loss: 1.1822\n",
            "Running Validation...\n"
          ]
        },
        {
          "data": {
            "application/vnd.jupyter.widget-view+json": {
              "model_id": "c53453e5cc4a4ffaa1b350abf5c82e20",
              "version_major": 2,
              "version_minor": 0
            },
            "text/plain": [
              "  0%|          | 0/9 [00:00<?, ?it/s]"
            ]
          },
          "metadata": {},
          "output_type": "display_data"
        },
        {
          "name": "stdout",
          "output_type": "stream",
          "text": [
            "logits:    [5 0 2 0 1 1 4 0 2 3 4 0 1 0 0 0 0 1 0 0 3 1 4 2 1 2]\n",
            "labels_id: [1 4 2 4 2 1 4 2 3 3 4 3 1 3 0 0 0 5 5 2 4 1 3 2 1 5]\n",
            " Accuracy: 0.4228\n",
            " F1 score: 0.3780\n",
            "======== Epoch 173 / 500 ========\n",
            "Training...\n"
          ]
        },
        {
          "data": {
            "application/vnd.jupyter.widget-view+json": {
              "model_id": "b723c59a33874350aa3aa9898d63f8c0",
              "version_major": 2,
              "version_minor": 0
            },
            "text/plain": [
              "  0%|          | 0/104 [00:00<?, ?it/s]"
            ]
          },
          "metadata": {},
          "output_type": "display_data"
        },
        {
          "name": "stdout",
          "output_type": "stream",
          "text": [
            " Accuracy: 0.5434\n",
            " F1 score: 0.4174\n",
            " Average training loss: 1.1874\n",
            "Running Validation...\n"
          ]
        },
        {
          "data": {
            "application/vnd.jupyter.widget-view+json": {
              "model_id": "e591281d157243d58c7789c46b399166",
              "version_major": 2,
              "version_minor": 0
            },
            "text/plain": [
              "  0%|          | 0/9 [00:00<?, ?it/s]"
            ]
          },
          "metadata": {},
          "output_type": "display_data"
        },
        {
          "name": "stdout",
          "output_type": "stream",
          "text": [
            "logits:    [5 0 2 0 1 1 4 0 2 3 4 0 1 0 0 0 0 1 0 0 3 1 4 2 1 2]\n",
            "labels_id: [1 4 2 4 2 1 4 2 3 3 4 3 1 3 0 0 0 5 5 2 4 1 3 2 1 5]\n",
            " Accuracy: 0.4245\n",
            " F1 score: 0.3837\n",
            "======== Epoch 174 / 500 ========\n",
            "Training...\n"
          ]
        },
        {
          "data": {
            "application/vnd.jupyter.widget-view+json": {
              "model_id": "a97fc993838840d2941104ecf70c9457",
              "version_major": 2,
              "version_minor": 0
            },
            "text/plain": [
              "  0%|          | 0/104 [00:00<?, ?it/s]"
            ]
          },
          "metadata": {},
          "output_type": "display_data"
        },
        {
          "name": "stdout",
          "output_type": "stream",
          "text": [
            " Accuracy: 0.5419\n",
            " F1 score: 0.4163\n",
            " Average training loss: 1.1868\n",
            "Running Validation...\n"
          ]
        },
        {
          "data": {
            "application/vnd.jupyter.widget-view+json": {
              "model_id": "c5f4309b32b640788c4c4d9f26d9a406",
              "version_major": 2,
              "version_minor": 0
            },
            "text/plain": [
              "  0%|          | 0/9 [00:00<?, ?it/s]"
            ]
          },
          "metadata": {},
          "output_type": "display_data"
        },
        {
          "name": "stdout",
          "output_type": "stream",
          "text": [
            "logits:    [5 0 2 0 1 1 4 0 2 3 4 0 1 0 0 0 0 1 0 0 3 1 4 2 1 2]\n",
            "labels_id: [1 4 2 4 2 1 4 2 3 3 4 3 1 3 0 0 0 5 5 2 4 1 3 2 1 5]\n",
            " Accuracy: 0.4280\n",
            " F1 score: 0.3862\n",
            "======== Epoch 175 / 500 ========\n",
            "Training...\n"
          ]
        },
        {
          "data": {
            "application/vnd.jupyter.widget-view+json": {
              "model_id": "64ea5cd729f24aa2a0ab280137bbbd32",
              "version_major": 2,
              "version_minor": 0
            },
            "text/plain": [
              "  0%|          | 0/104 [00:00<?, ?it/s]"
            ]
          },
          "metadata": {},
          "output_type": "display_data"
        },
        {
          "name": "stdout",
          "output_type": "stream",
          "text": [
            " Accuracy: 0.5492\n",
            " F1 score: 0.4249\n",
            " Average training loss: 1.1749\n",
            "Running Validation...\n"
          ]
        },
        {
          "data": {
            "application/vnd.jupyter.widget-view+json": {
              "model_id": "2c586f4521e44e45b5030892af44dc57",
              "version_major": 2,
              "version_minor": 0
            },
            "text/plain": [
              "  0%|          | 0/9 [00:00<?, ?it/s]"
            ]
          },
          "metadata": {},
          "output_type": "display_data"
        },
        {
          "name": "stdout",
          "output_type": "stream",
          "text": [
            "logits:    [5 0 2 0 1 1 4 0 2 3 4 0 1 0 0 0 0 1 0 0 3 1 4 2 1 2]\n",
            "labels_id: [1 4 2 4 2 1 4 2 3 3 4 3 1 3 0 0 0 5 5 2 4 1 3 2 1 5]\n",
            " Accuracy: 0.4298\n",
            " F1 score: 0.3921\n",
            "======== Epoch 176 / 500 ========\n",
            "Training...\n"
          ]
        },
        {
          "data": {
            "application/vnd.jupyter.widget-view+json": {
              "model_id": "3b4dbdd896d441dcb299a893f69c068d",
              "version_major": 2,
              "version_minor": 0
            },
            "text/plain": [
              "  0%|          | 0/104 [00:00<?, ?it/s]"
            ]
          },
          "metadata": {},
          "output_type": "display_data"
        },
        {
          "name": "stdout",
          "output_type": "stream",
          "text": [
            " Accuracy: 0.5439\n",
            " F1 score: 0.4190\n",
            " Average training loss: 1.1788\n",
            "Running Validation...\n"
          ]
        },
        {
          "data": {
            "application/vnd.jupyter.widget-view+json": {
              "model_id": "e6ad7ee4decf4d08b237191ce1464aaf",
              "version_major": 2,
              "version_minor": 0
            },
            "text/plain": [
              "  0%|          | 0/9 [00:00<?, ?it/s]"
            ]
          },
          "metadata": {},
          "output_type": "display_data"
        },
        {
          "name": "stdout",
          "output_type": "stream",
          "text": [
            "logits:    [5 0 2 0 1 1 4 0 2 3 4 0 1 0 0 0 0 1 0 0 3 1 4 2 1 2]\n",
            "labels_id: [1 4 2 4 2 1 4 2 3 3 4 3 1 3 0 0 0 5 5 2 4 1 3 2 1 5]\n",
            " Accuracy: 0.4332\n",
            " F1 score: 0.3957\n",
            "======== Epoch 177 / 500 ========\n",
            "Training...\n"
          ]
        },
        {
          "data": {
            "application/vnd.jupyter.widget-view+json": {
              "model_id": "ff05fb1e6dde4420855c88d78a5fe304",
              "version_major": 2,
              "version_minor": 0
            },
            "text/plain": [
              "  0%|          | 0/104 [00:00<?, ?it/s]"
            ]
          },
          "metadata": {},
          "output_type": "display_data"
        },
        {
          "name": "stdout",
          "output_type": "stream",
          "text": [
            " Accuracy: 0.5517\n",
            " F1 score: 0.4267\n",
            " Average training loss: 1.1765\n",
            "Running Validation...\n"
          ]
        },
        {
          "data": {
            "application/vnd.jupyter.widget-view+json": {
              "model_id": "5a7f4a22dfaf47c280ab56c7f296ae01",
              "version_major": 2,
              "version_minor": 0
            },
            "text/plain": [
              "  0%|          | 0/9 [00:00<?, ?it/s]"
            ]
          },
          "metadata": {},
          "output_type": "display_data"
        },
        {
          "name": "stdout",
          "output_type": "stream",
          "text": [
            "logits:    [5 0 2 0 1 1 4 0 2 3 4 0 1 0 0 0 0 1 0 0 3 1 4 2 1 2]\n",
            "labels_id: [1 4 2 4 2 1 4 2 3 3 4 3 1 3 0 0 0 5 5 2 4 1 3 2 1 5]\n",
            " Accuracy: 0.4332\n",
            " F1 score: 0.3959\n",
            "======== Epoch 178 / 500 ========\n",
            "Training...\n"
          ]
        },
        {
          "data": {
            "application/vnd.jupyter.widget-view+json": {
              "model_id": "3a5eaa960c8c4ef7811bce1a8a144685",
              "version_major": 2,
              "version_minor": 0
            },
            "text/plain": [
              "  0%|          | 0/104 [00:00<?, ?it/s]"
            ]
          },
          "metadata": {},
          "output_type": "display_data"
        },
        {
          "name": "stdout",
          "output_type": "stream",
          "text": [
            " Accuracy: 0.5475\n",
            " F1 score: 0.4245\n",
            " Average training loss: 1.1685\n",
            "Running Validation...\n"
          ]
        },
        {
          "data": {
            "application/vnd.jupyter.widget-view+json": {
              "model_id": "3aac3ed6b0504e27bc26a6da17ef4d3d",
              "version_major": 2,
              "version_minor": 0
            },
            "text/plain": [
              "  0%|          | 0/9 [00:00<?, ?it/s]"
            ]
          },
          "metadata": {},
          "output_type": "display_data"
        },
        {
          "name": "stdout",
          "output_type": "stream",
          "text": [
            "logits:    [5 0 2 0 1 1 4 0 2 3 4 0 1 0 0 0 0 1 0 0 3 1 3 2 1 2]\n",
            "labels_id: [1 4 2 4 2 1 4 2 3 3 4 3 1 3 0 0 0 5 5 2 4 1 3 2 1 5]\n",
            " Accuracy: 0.4375\n",
            " F1 score: 0.4018\n",
            "======== Epoch 179 / 500 ========\n",
            "Training...\n"
          ]
        },
        {
          "data": {
            "application/vnd.jupyter.widget-view+json": {
              "model_id": "4fb72c7ba7ae4c6397918de31ec6c664",
              "version_major": 2,
              "version_minor": 0
            },
            "text/plain": [
              "  0%|          | 0/104 [00:00<?, ?it/s]"
            ]
          },
          "metadata": {},
          "output_type": "display_data"
        },
        {
          "name": "stdout",
          "output_type": "stream",
          "text": [
            " Accuracy: 0.5516\n",
            " F1 score: 0.4314\n",
            " Average training loss: 1.1671\n",
            "Running Validation...\n"
          ]
        },
        {
          "data": {
            "application/vnd.jupyter.widget-view+json": {
              "model_id": "254354320ab3487cb9c4cb8e1dd58ce8",
              "version_major": 2,
              "version_minor": 0
            },
            "text/plain": [
              "  0%|          | 0/9 [00:00<?, ?it/s]"
            ]
          },
          "metadata": {},
          "output_type": "display_data"
        },
        {
          "name": "stdout",
          "output_type": "stream",
          "text": [
            "logits:    [5 0 2 0 1 1 4 0 2 3 4 0 1 0 0 0 0 1 0 0 3 1 3 2 1 2]\n",
            "labels_id: [1 4 2 4 2 1 4 2 3 3 4 3 1 3 0 0 0 5 5 2 4 1 3 2 1 5]\n",
            " Accuracy: 0.4323\n",
            " F1 score: 0.3965\n",
            "======== Epoch 180 / 500 ========\n",
            "Training...\n"
          ]
        },
        {
          "data": {
            "application/vnd.jupyter.widget-view+json": {
              "model_id": "08757c75eab44777baa438bb77219a6f",
              "version_major": 2,
              "version_minor": 0
            },
            "text/plain": [
              "  0%|          | 0/104 [00:00<?, ?it/s]"
            ]
          },
          "metadata": {},
          "output_type": "display_data"
        },
        {
          "name": "stdout",
          "output_type": "stream",
          "text": [
            " Accuracy: 0.5505\n",
            " F1 score: 0.4263\n",
            " Average training loss: 1.1703\n",
            "Running Validation...\n"
          ]
        },
        {
          "data": {
            "application/vnd.jupyter.widget-view+json": {
              "model_id": "e16016226bea469d87e6c56da2fe4d6d",
              "version_major": 2,
              "version_minor": 0
            },
            "text/plain": [
              "  0%|          | 0/9 [00:00<?, ?it/s]"
            ]
          },
          "metadata": {},
          "output_type": "display_data"
        },
        {
          "name": "stdout",
          "output_type": "stream",
          "text": [
            "logits:    [5 0 2 0 1 1 4 0 2 3 4 0 1 0 0 0 0 1 0 0 3 1 3 2 1 2]\n",
            "labels_id: [1 4 2 4 2 1 4 2 3 3 4 3 1 3 0 0 0 5 5 2 4 1 3 2 1 5]\n",
            " Accuracy: 0.4375\n",
            " F1 score: 0.4019\n",
            "======== Epoch 181 / 500 ========\n",
            "Training...\n"
          ]
        },
        {
          "data": {
            "application/vnd.jupyter.widget-view+json": {
              "model_id": "b5d68197d0134c33be38f91839357709",
              "version_major": 2,
              "version_minor": 0
            },
            "text/plain": [
              "  0%|          | 0/104 [00:00<?, ?it/s]"
            ]
          },
          "metadata": {},
          "output_type": "display_data"
        },
        {
          "name": "stdout",
          "output_type": "stream",
          "text": [
            " Accuracy: 0.5516\n",
            " F1 score: 0.4299\n",
            " Average training loss: 1.1703\n",
            "Running Validation...\n"
          ]
        },
        {
          "data": {
            "application/vnd.jupyter.widget-view+json": {
              "model_id": "e27a78cc5cb24b9889e3c0f085b0db13",
              "version_major": 2,
              "version_minor": 0
            },
            "text/plain": [
              "  0%|          | 0/9 [00:00<?, ?it/s]"
            ]
          },
          "metadata": {},
          "output_type": "display_data"
        },
        {
          "name": "stdout",
          "output_type": "stream",
          "text": [
            "logits:    [5 0 2 0 1 1 4 0 2 3 4 0 1 0 0 0 0 1 0 0 3 1 3 2 1 2]\n",
            "labels_id: [1 4 2 4 2 1 4 2 3 3 4 3 1 3 0 0 0 5 5 2 4 1 3 2 1 5]\n",
            " Accuracy: 0.4410\n",
            " F1 score: 0.4057\n",
            "======== Epoch 182 / 500 ========\n",
            "Training...\n"
          ]
        },
        {
          "data": {
            "application/vnd.jupyter.widget-view+json": {
              "model_id": "ca88e1ed172840329e26db80147e491f",
              "version_major": 2,
              "version_minor": 0
            },
            "text/plain": [
              "  0%|          | 0/104 [00:00<?, ?it/s]"
            ]
          },
          "metadata": {},
          "output_type": "display_data"
        },
        {
          "name": "stdout",
          "output_type": "stream",
          "text": [
            " Accuracy: 0.5548\n",
            " F1 score: 0.4259\n",
            " Average training loss: 1.1652\n",
            "Running Validation...\n"
          ]
        },
        {
          "data": {
            "application/vnd.jupyter.widget-view+json": {
              "model_id": "be18f7d3d7144d1485ef925f3d77feed",
              "version_major": 2,
              "version_minor": 0
            },
            "text/plain": [
              "  0%|          | 0/9 [00:00<?, ?it/s]"
            ]
          },
          "metadata": {},
          "output_type": "display_data"
        },
        {
          "name": "stdout",
          "output_type": "stream",
          "text": [
            "logits:    [5 0 2 0 1 1 4 0 2 3 4 0 1 0 0 0 0 1 0 0 3 1 3 2 1 2]\n",
            "labels_id: [1 4 2 4 2 1 4 2 3 3 4 3 1 3 0 0 0 5 5 2 4 1 3 2 1 5]\n",
            " Accuracy: 0.4392\n",
            " F1 score: 0.4037\n",
            "======== Epoch 183 / 500 ========\n",
            "Training...\n"
          ]
        },
        {
          "data": {
            "application/vnd.jupyter.widget-view+json": {
              "model_id": "ec47bfc1777742c28dda01529d95c68b",
              "version_major": 2,
              "version_minor": 0
            },
            "text/plain": [
              "  0%|          | 0/104 [00:00<?, ?it/s]"
            ]
          },
          "metadata": {},
          "output_type": "display_data"
        },
        {
          "name": "stdout",
          "output_type": "stream",
          "text": [
            " Accuracy: 0.5518\n",
            " F1 score: 0.4234\n",
            " Average training loss: 1.1646\n",
            "Running Validation...\n"
          ]
        },
        {
          "data": {
            "application/vnd.jupyter.widget-view+json": {
              "model_id": "6419ecf8699a4545bb5ef509f2937431",
              "version_major": 2,
              "version_minor": 0
            },
            "text/plain": [
              "  0%|          | 0/9 [00:00<?, ?it/s]"
            ]
          },
          "metadata": {},
          "output_type": "display_data"
        },
        {
          "name": "stdout",
          "output_type": "stream",
          "text": [
            "logits:    [5 0 2 0 1 1 4 0 2 3 4 0 1 0 0 0 0 1 0 0 3 1 3 2 1 2]\n",
            "labels_id: [1 4 2 4 2 1 4 2 3 3 4 3 1 3 0 0 0 5 5 2 4 1 3 2 1 5]\n",
            " Accuracy: 0.4392\n",
            " F1 score: 0.4039\n",
            "======== Epoch 184 / 500 ========\n",
            "Training...\n"
          ]
        },
        {
          "data": {
            "application/vnd.jupyter.widget-view+json": {
              "model_id": "c1d2acf637e049b88c66a23d0a2fa1b8",
              "version_major": 2,
              "version_minor": 0
            },
            "text/plain": [
              "  0%|          | 0/104 [00:00<?, ?it/s]"
            ]
          },
          "metadata": {},
          "output_type": "display_data"
        },
        {
          "name": "stdout",
          "output_type": "stream",
          "text": [
            " Accuracy: 0.5557\n",
            " F1 score: 0.4288\n",
            " Average training loss: 1.1711\n",
            "Running Validation...\n"
          ]
        },
        {
          "data": {
            "application/vnd.jupyter.widget-view+json": {
              "model_id": "34f707568b9643bc98850ca30620f54f",
              "version_major": 2,
              "version_minor": 0
            },
            "text/plain": [
              "  0%|          | 0/9 [00:00<?, ?it/s]"
            ]
          },
          "metadata": {},
          "output_type": "display_data"
        },
        {
          "name": "stdout",
          "output_type": "stream",
          "text": [
            "logits:    [5 0 2 0 1 1 4 0 2 3 4 0 1 0 0 0 0 1 0 0 3 1 3 2 1 2]\n",
            "labels_id: [1 4 2 4 2 1 4 2 3 3 4 3 1 3 0 0 0 5 5 2 4 1 3 2 1 5]\n",
            " Accuracy: 0.4358\n",
            " F1 score: 0.4013\n",
            "======== Epoch 185 / 500 ========\n",
            "Training...\n"
          ]
        },
        {
          "data": {
            "application/vnd.jupyter.widget-view+json": {
              "model_id": "872f3eeae19348e38b37b0d6742f2e72",
              "version_major": 2,
              "version_minor": 0
            },
            "text/plain": [
              "  0%|          | 0/104 [00:00<?, ?it/s]"
            ]
          },
          "metadata": {},
          "output_type": "display_data"
        },
        {
          "name": "stdout",
          "output_type": "stream",
          "text": [
            " Accuracy: 0.5644\n",
            " F1 score: 0.4381\n",
            " Average training loss: 1.1516\n",
            "Running Validation...\n"
          ]
        },
        {
          "data": {
            "application/vnd.jupyter.widget-view+json": {
              "model_id": "3f81dd426558437f8489e956e81053eb",
              "version_major": 2,
              "version_minor": 0
            },
            "text/plain": [
              "  0%|          | 0/9 [00:00<?, ?it/s]"
            ]
          },
          "metadata": {},
          "output_type": "display_data"
        },
        {
          "name": "stdout",
          "output_type": "stream",
          "text": [
            "logits:    [5 0 2 0 1 1 4 0 2 3 4 0 1 0 0 0 0 1 0 0 3 1 3 2 1 2]\n",
            "labels_id: [1 4 2 4 2 1 4 2 3 3 4 3 1 3 0 0 0 5 5 2 4 1 3 2 1 5]\n",
            " Accuracy: 0.4375\n",
            " F1 score: 0.4031\n",
            "======== Epoch 186 / 500 ========\n",
            "Training...\n"
          ]
        },
        {
          "data": {
            "application/vnd.jupyter.widget-view+json": {
              "model_id": "7e6a231dd789454499559c6888da5bdc",
              "version_major": 2,
              "version_minor": 0
            },
            "text/plain": [
              "  0%|          | 0/104 [00:00<?, ?it/s]"
            ]
          },
          "metadata": {},
          "output_type": "display_data"
        },
        {
          "name": "stdout",
          "output_type": "stream",
          "text": [
            " Accuracy: 0.5528\n",
            " F1 score: 0.4381\n",
            " Average training loss: 1.1596\n",
            "Running Validation...\n"
          ]
        },
        {
          "data": {
            "application/vnd.jupyter.widget-view+json": {
              "model_id": "be71a5366ecc4a06afb72ed9cabca0be",
              "version_major": 2,
              "version_minor": 0
            },
            "text/plain": [
              "  0%|          | 0/9 [00:00<?, ?it/s]"
            ]
          },
          "metadata": {},
          "output_type": "display_data"
        },
        {
          "name": "stdout",
          "output_type": "stream",
          "text": [
            "logits:    [5 0 2 0 1 1 4 0 2 3 4 0 1 0 0 0 0 1 0 0 3 1 3 2 1 2]\n",
            "labels_id: [1 4 2 4 2 1 4 2 3 3 4 3 1 3 0 0 0 5 5 2 4 1 3 2 1 5]\n",
            " Accuracy: 0.4392\n",
            " F1 score: 0.4042\n",
            "======== Epoch 187 / 500 ========\n",
            "Training...\n"
          ]
        },
        {
          "data": {
            "application/vnd.jupyter.widget-view+json": {
              "model_id": "189f7c384f5043dcb841fb80128e065f",
              "version_major": 2,
              "version_minor": 0
            },
            "text/plain": [
              "  0%|          | 0/104 [00:00<?, ?it/s]"
            ]
          },
          "metadata": {},
          "output_type": "display_data"
        },
        {
          "name": "stdout",
          "output_type": "stream",
          "text": [
            " Accuracy: 0.5585\n",
            " F1 score: 0.4380\n",
            " Average training loss: 1.1583\n",
            "Running Validation...\n"
          ]
        },
        {
          "data": {
            "application/vnd.jupyter.widget-view+json": {
              "model_id": "a036a81b64e64ae3bc7a8ed37b0d23b0",
              "version_major": 2,
              "version_minor": 0
            },
            "text/plain": [
              "  0%|          | 0/9 [00:00<?, ?it/s]"
            ]
          },
          "metadata": {},
          "output_type": "display_data"
        },
        {
          "name": "stdout",
          "output_type": "stream",
          "text": [
            "logits:    [5 0 2 0 1 1 4 0 2 3 4 0 1 0 0 0 0 1 0 0 3 1 3 2 1 2]\n",
            "labels_id: [1 4 2 4 2 1 4 2 3 3 4 3 1 3 0 0 0 5 5 2 4 1 3 2 1 5]\n",
            " Accuracy: 0.4358\n",
            " F1 score: 0.4019\n",
            "======== Epoch 188 / 500 ========\n",
            "Training...\n"
          ]
        },
        {
          "data": {
            "application/vnd.jupyter.widget-view+json": {
              "model_id": "73dd3ee82ea34d83a4438b42d9ab571c",
              "version_major": 2,
              "version_minor": 0
            },
            "text/plain": [
              "  0%|          | 0/104 [00:00<?, ?it/s]"
            ]
          },
          "metadata": {},
          "output_type": "display_data"
        },
        {
          "name": "stdout",
          "output_type": "stream",
          "text": [
            " Accuracy: 0.5487\n",
            " F1 score: 0.4269\n",
            " Average training loss: 1.1627\n",
            "Running Validation...\n"
          ]
        },
        {
          "data": {
            "application/vnd.jupyter.widget-view+json": {
              "model_id": "4d09f14c471a4d1cacd56c995a5530b5",
              "version_major": 2,
              "version_minor": 0
            },
            "text/plain": [
              "  0%|          | 0/9 [00:00<?, ?it/s]"
            ]
          },
          "metadata": {},
          "output_type": "display_data"
        },
        {
          "name": "stdout",
          "output_type": "stream",
          "text": [
            "logits:    [5 0 2 0 1 1 4 0 2 3 4 0 1 0 0 0 0 1 0 0 3 1 3 2 1 2]\n",
            "labels_id: [1 4 2 4 2 1 4 2 3 3 4 3 1 3 0 0 0 5 5 2 4 1 3 2 1 5]\n",
            " Accuracy: 0.4444\n",
            " F1 score: 0.4095\n",
            "======== Epoch 189 / 500 ========\n",
            "Training...\n"
          ]
        },
        {
          "data": {
            "application/vnd.jupyter.widget-view+json": {
              "model_id": "a0ea46688aae46f682ace4605d372d74",
              "version_major": 2,
              "version_minor": 0
            },
            "text/plain": [
              "  0%|          | 0/104 [00:00<?, ?it/s]"
            ]
          },
          "metadata": {},
          "output_type": "display_data"
        },
        {
          "name": "stdout",
          "output_type": "stream",
          "text": [
            " Accuracy: 0.5635\n",
            " F1 score: 0.4428\n",
            " Average training loss: 1.1510\n",
            "Running Validation...\n"
          ]
        },
        {
          "data": {
            "application/vnd.jupyter.widget-view+json": {
              "model_id": "ef1028e1050840d981882d2b603c1fc0",
              "version_major": 2,
              "version_minor": 0
            },
            "text/plain": [
              "  0%|          | 0/9 [00:00<?, ?it/s]"
            ]
          },
          "metadata": {},
          "output_type": "display_data"
        },
        {
          "name": "stdout",
          "output_type": "stream",
          "text": [
            "logits:    [5 0 2 0 1 1 4 0 2 3 4 0 1 0 0 0 0 1 0 0 3 1 3 2 1 2]\n",
            "labels_id: [1 4 2 4 2 1 4 2 3 3 4 3 1 3 0 0 0 5 5 2 4 1 3 2 1 5]\n",
            " Accuracy: 0.4479\n",
            " F1 score: 0.4136\n",
            "======== Epoch 190 / 500 ========\n",
            "Training...\n"
          ]
        },
        {
          "data": {
            "application/vnd.jupyter.widget-view+json": {
              "model_id": "55ee55bf9799468d8e622b1905f7de3c",
              "version_major": 2,
              "version_minor": 0
            },
            "text/plain": [
              "  0%|          | 0/104 [00:00<?, ?it/s]"
            ]
          },
          "metadata": {},
          "output_type": "display_data"
        },
        {
          "name": "stdout",
          "output_type": "stream",
          "text": [
            " Accuracy: 0.5677\n",
            " F1 score: 0.4404\n",
            " Average training loss: 1.1517\n",
            "Running Validation...\n"
          ]
        },
        {
          "data": {
            "application/vnd.jupyter.widget-view+json": {
              "model_id": "dfe487c4af6d4d9cb89218c15180846a",
              "version_major": 2,
              "version_minor": 0
            },
            "text/plain": [
              "  0%|          | 0/9 [00:00<?, ?it/s]"
            ]
          },
          "metadata": {},
          "output_type": "display_data"
        },
        {
          "name": "stdout",
          "output_type": "stream",
          "text": [
            "logits:    [5 0 2 0 1 1 4 0 2 3 4 0 1 0 0 0 0 1 0 0 3 1 3 2 1 2]\n",
            "labels_id: [1 4 2 4 2 1 4 2 3 3 4 3 1 3 0 0 0 5 5 2 4 1 3 2 1 5]\n",
            " Accuracy: 0.4479\n",
            " F1 score: 0.4133\n",
            "======== Epoch 191 / 500 ========\n",
            "Training...\n"
          ]
        },
        {
          "data": {
            "application/vnd.jupyter.widget-view+json": {
              "model_id": "ff6319e6e51f4b4e8316ddfc259b8925",
              "version_major": 2,
              "version_minor": 0
            },
            "text/plain": [
              "  0%|          | 0/104 [00:00<?, ?it/s]"
            ]
          },
          "metadata": {},
          "output_type": "display_data"
        },
        {
          "name": "stdout",
          "output_type": "stream",
          "text": [
            " Accuracy: 0.5659\n",
            " F1 score: 0.4469\n",
            " Average training loss: 1.1499\n",
            "Running Validation...\n"
          ]
        },
        {
          "data": {
            "application/vnd.jupyter.widget-view+json": {
              "model_id": "720ea6f2365b49b2889a1a96ae0208dc",
              "version_major": 2,
              "version_minor": 0
            },
            "text/plain": [
              "  0%|          | 0/9 [00:00<?, ?it/s]"
            ]
          },
          "metadata": {},
          "output_type": "display_data"
        },
        {
          "name": "stdout",
          "output_type": "stream",
          "text": [
            "logits:    [5 0 2 0 1 1 4 0 2 3 4 0 1 0 0 0 0 1 0 0 3 1 3 2 1 2]\n",
            "labels_id: [1 4 2 4 2 1 4 2 3 3 4 3 1 3 0 0 0 5 5 2 4 1 3 2 1 5]\n",
            " Accuracy: 0.4410\n",
            " F1 score: 0.4068\n",
            "======== Epoch 192 / 500 ========\n",
            "Training...\n"
          ]
        },
        {
          "data": {
            "application/vnd.jupyter.widget-view+json": {
              "model_id": "00fc5d94eecd46e3a86d1a73f3fb249c",
              "version_major": 2,
              "version_minor": 0
            },
            "text/plain": [
              "  0%|          | 0/104 [00:00<?, ?it/s]"
            ]
          },
          "metadata": {},
          "output_type": "display_data"
        },
        {
          "name": "stdout",
          "output_type": "stream",
          "text": [
            " Accuracy: 0.5620\n",
            " F1 score: 0.4434\n",
            " Average training loss: 1.1481\n",
            "Running Validation...\n"
          ]
        },
        {
          "data": {
            "application/vnd.jupyter.widget-view+json": {
              "model_id": "2bb38853e95d47c497ecac75699e56f1",
              "version_major": 2,
              "version_minor": 0
            },
            "text/plain": [
              "  0%|          | 0/9 [00:00<?, ?it/s]"
            ]
          },
          "metadata": {},
          "output_type": "display_data"
        },
        {
          "name": "stdout",
          "output_type": "stream",
          "text": [
            "logits:    [5 0 2 0 1 1 4 0 2 3 4 0 1 0 0 0 0 1 0 0 3 1 3 2 1 2]\n",
            "labels_id: [1 4 2 4 2 1 4 2 3 3 4 3 1 3 0 0 0 5 5 2 4 1 3 2 1 5]\n",
            " Accuracy: 0.4479\n",
            " F1 score: 0.4141\n",
            "======== Epoch 193 / 500 ========\n",
            "Training...\n"
          ]
        },
        {
          "data": {
            "application/vnd.jupyter.widget-view+json": {
              "model_id": "ca2f1058b2954a88bab460b204a6768c",
              "version_major": 2,
              "version_minor": 0
            },
            "text/plain": [
              "  0%|          | 0/104 [00:00<?, ?it/s]"
            ]
          },
          "metadata": {},
          "output_type": "display_data"
        },
        {
          "name": "stdout",
          "output_type": "stream",
          "text": [
            " Accuracy: 0.5620\n",
            " F1 score: 0.4480\n",
            " Average training loss: 1.1448\n",
            "Running Validation...\n"
          ]
        },
        {
          "data": {
            "application/vnd.jupyter.widget-view+json": {
              "model_id": "6a37f6d0869a43b2b6c47b7c9ee3f177",
              "version_major": 2,
              "version_minor": 0
            },
            "text/plain": [
              "  0%|          | 0/9 [00:00<?, ?it/s]"
            ]
          },
          "metadata": {},
          "output_type": "display_data"
        },
        {
          "name": "stdout",
          "output_type": "stream",
          "text": [
            "logits:    [5 0 2 0 1 1 4 0 2 3 4 0 1 0 0 0 0 1 0 4 3 1 3 2 1 2]\n",
            "labels_id: [1 4 2 4 2 1 4 2 3 3 4 3 1 3 0 0 0 5 5 2 4 1 3 2 1 5]\n",
            " Accuracy: 0.4444\n",
            " F1 score: 0.4103\n",
            "======== Epoch 194 / 500 ========\n",
            "Training...\n"
          ]
        },
        {
          "data": {
            "application/vnd.jupyter.widget-view+json": {
              "model_id": "22f9d3ac5edf4c428fcf4b9fc709c004",
              "version_major": 2,
              "version_minor": 0
            },
            "text/plain": [
              "  0%|          | 0/104 [00:00<?, ?it/s]"
            ]
          },
          "metadata": {},
          "output_type": "display_data"
        },
        {
          "name": "stdout",
          "output_type": "stream",
          "text": [
            " Accuracy: 0.5596\n",
            " F1 score: 0.4450\n",
            " Average training loss: 1.1509\n",
            "Running Validation...\n"
          ]
        },
        {
          "data": {
            "application/vnd.jupyter.widget-view+json": {
              "model_id": "7b8f1080bca548b68a8e3c09e9e6b3ec",
              "version_major": 2,
              "version_minor": 0
            },
            "text/plain": [
              "  0%|          | 0/9 [00:00<?, ?it/s]"
            ]
          },
          "metadata": {},
          "output_type": "display_data"
        },
        {
          "name": "stdout",
          "output_type": "stream",
          "text": [
            "logits:    [5 0 2 0 1 1 4 0 2 3 4 0 1 0 0 0 0 1 0 4 3 1 3 2 1 2]\n",
            "labels_id: [1 4 2 4 2 1 4 2 3 3 4 3 1 3 0 0 0 5 5 2 4 1 3 2 1 5]\n",
            " Accuracy: 0.4479\n",
            " F1 score: 0.4137\n",
            "======== Epoch 195 / 500 ========\n",
            "Training...\n"
          ]
        },
        {
          "data": {
            "application/vnd.jupyter.widget-view+json": {
              "model_id": "2c2f7b5e20dd42e6a338e943f5502b7e",
              "version_major": 2,
              "version_minor": 0
            },
            "text/plain": [
              "  0%|          | 0/104 [00:00<?, ?it/s]"
            ]
          },
          "metadata": {},
          "output_type": "display_data"
        },
        {
          "name": "stdout",
          "output_type": "stream",
          "text": [
            " Accuracy: 0.5666\n",
            " F1 score: 0.4456\n",
            " Average training loss: 1.1381\n",
            "Running Validation...\n"
          ]
        },
        {
          "data": {
            "application/vnd.jupyter.widget-view+json": {
              "model_id": "1cc931eb5210405dbd3ff53651eb9fb5",
              "version_major": 2,
              "version_minor": 0
            },
            "text/plain": [
              "  0%|          | 0/9 [00:00<?, ?it/s]"
            ]
          },
          "metadata": {},
          "output_type": "display_data"
        },
        {
          "name": "stdout",
          "output_type": "stream",
          "text": [
            "logits:    [5 0 2 0 1 1 4 0 2 3 4 0 1 0 0 0 0 1 0 4 3 1 3 2 1 2]\n",
            "labels_id: [1 4 2 4 2 1 4 2 3 3 4 3 1 3 0 0 0 5 5 2 4 1 3 2 1 5]\n",
            " Accuracy: 0.4462\n",
            " F1 score: 0.4115\n",
            "======== Epoch 196 / 500 ========\n",
            "Training...\n"
          ]
        },
        {
          "data": {
            "application/vnd.jupyter.widget-view+json": {
              "model_id": "24b4cb32da5c403d94dc44e2dc93eea9",
              "version_major": 2,
              "version_minor": 0
            },
            "text/plain": [
              "  0%|          | 0/104 [00:00<?, ?it/s]"
            ]
          },
          "metadata": {},
          "output_type": "display_data"
        },
        {
          "name": "stdout",
          "output_type": "stream",
          "text": [
            " Accuracy: 0.5662\n",
            " F1 score: 0.4464\n",
            " Average training loss: 1.1411\n",
            "Running Validation...\n"
          ]
        },
        {
          "data": {
            "application/vnd.jupyter.widget-view+json": {
              "model_id": "b382c4aa54234f6d85afea151afadd54",
              "version_major": 2,
              "version_minor": 0
            },
            "text/plain": [
              "  0%|          | 0/9 [00:00<?, ?it/s]"
            ]
          },
          "metadata": {},
          "output_type": "display_data"
        },
        {
          "name": "stdout",
          "output_type": "stream",
          "text": [
            "logits:    [5 0 2 0 1 1 4 0 2 3 4 0 1 0 0 0 0 1 0 4 3 1 3 2 1 2]\n",
            "labels_id: [1 4 2 4 2 1 4 2 3 3 4 3 1 3 0 0 0 5 5 2 4 1 3 2 1 5]\n",
            " Accuracy: 0.4462\n",
            " F1 score: 0.4117\n",
            "======== Epoch 197 / 500 ========\n",
            "Training...\n"
          ]
        },
        {
          "data": {
            "application/vnd.jupyter.widget-view+json": {
              "model_id": "e92f52dc2cc74498bd17ff68d5ca74fe",
              "version_major": 2,
              "version_minor": 0
            },
            "text/plain": [
              "  0%|          | 0/104 [00:00<?, ?it/s]"
            ]
          },
          "metadata": {},
          "output_type": "display_data"
        },
        {
          "name": "stdout",
          "output_type": "stream",
          "text": [
            " Accuracy: 0.5681\n",
            " F1 score: 0.4509\n",
            " Average training loss: 1.1270\n",
            "Running Validation...\n"
          ]
        },
        {
          "data": {
            "application/vnd.jupyter.widget-view+json": {
              "model_id": "79eacbfe396c467b860afa48b77158d0",
              "version_major": 2,
              "version_minor": 0
            },
            "text/plain": [
              "  0%|          | 0/9 [00:00<?, ?it/s]"
            ]
          },
          "metadata": {},
          "output_type": "display_data"
        },
        {
          "name": "stdout",
          "output_type": "stream",
          "text": [
            "logits:    [5 0 2 0 1 1 4 0 2 3 4 0 1 0 0 0 0 1 0 4 3 1 3 2 1 2]\n",
            "labels_id: [1 4 2 4 2 1 4 2 3 3 4 3 1 3 0 0 0 5 5 2 4 1 3 2 1 5]\n",
            " Accuracy: 0.4462\n",
            " F1 score: 0.4117\n",
            "======== Epoch 198 / 500 ========\n",
            "Training...\n"
          ]
        },
        {
          "data": {
            "application/vnd.jupyter.widget-view+json": {
              "model_id": "ecd55d810e5e469e9604378f7dcfee6d",
              "version_major": 2,
              "version_minor": 0
            },
            "text/plain": [
              "  0%|          | 0/104 [00:00<?, ?it/s]"
            ]
          },
          "metadata": {},
          "output_type": "display_data"
        },
        {
          "name": "stdout",
          "output_type": "stream",
          "text": [
            " Accuracy: 0.5665\n",
            " F1 score: 0.4484\n",
            " Average training loss: 1.1312\n",
            "Running Validation...\n"
          ]
        },
        {
          "data": {
            "application/vnd.jupyter.widget-view+json": {
              "model_id": "dea28c5ae3844bd2987caf4f72341ea7",
              "version_major": 2,
              "version_minor": 0
            },
            "text/plain": [
              "  0%|          | 0/9 [00:00<?, ?it/s]"
            ]
          },
          "metadata": {},
          "output_type": "display_data"
        },
        {
          "name": "stdout",
          "output_type": "stream",
          "text": [
            "logits:    [5 0 2 0 1 1 4 0 2 3 4 0 1 0 0 0 0 1 0 4 3 1 3 2 1 2]\n",
            "labels_id: [1 4 2 4 2 1 4 2 3 3 4 3 1 3 0 0 0 5 5 2 4 1 3 2 1 5]\n",
            " Accuracy: 0.4462\n",
            " F1 score: 0.4110\n",
            "======== Epoch 199 / 500 ========\n",
            "Training...\n"
          ]
        },
        {
          "data": {
            "application/vnd.jupyter.widget-view+json": {
              "model_id": "897a4ce189ec498dac286054fc1c40d6",
              "version_major": 2,
              "version_minor": 0
            },
            "text/plain": [
              "  0%|          | 0/104 [00:00<?, ?it/s]"
            ]
          },
          "metadata": {},
          "output_type": "display_data"
        },
        {
          "name": "stdout",
          "output_type": "stream",
          "text": [
            " Accuracy: 0.5679\n",
            " F1 score: 0.4447\n",
            " Average training loss: 1.1282\n",
            "Running Validation...\n"
          ]
        },
        {
          "data": {
            "application/vnd.jupyter.widget-view+json": {
              "model_id": "8dd5452e027c4e768131928bb16c036c",
              "version_major": 2,
              "version_minor": 0
            },
            "text/plain": [
              "  0%|          | 0/9 [00:00<?, ?it/s]"
            ]
          },
          "metadata": {},
          "output_type": "display_data"
        },
        {
          "name": "stdout",
          "output_type": "stream",
          "text": [
            "logits:    [5 0 2 0 1 1 4 0 5 3 4 0 1 0 0 0 0 1 0 4 3 1 3 2 1 2]\n",
            "labels_id: [1 4 2 4 2 1 4 2 3 3 4 3 1 3 0 0 0 5 5 2 4 1 3 2 1 5]\n",
            " Accuracy: 0.4462\n",
            " F1 score: 0.4120\n",
            "======== Epoch 200 / 500 ========\n",
            "Training...\n"
          ]
        },
        {
          "data": {
            "application/vnd.jupyter.widget-view+json": {
              "model_id": "5279ace921f04a3d8b94c5e4f128dc12",
              "version_major": 2,
              "version_minor": 0
            },
            "text/plain": [
              "  0%|          | 0/104 [00:00<?, ?it/s]"
            ]
          },
          "metadata": {},
          "output_type": "display_data"
        },
        {
          "name": "stdout",
          "output_type": "stream",
          "text": [
            " Accuracy: 0.5729\n",
            " F1 score: 0.4586\n",
            " Average training loss: 1.1366\n",
            "Running Validation...\n"
          ]
        },
        {
          "data": {
            "application/vnd.jupyter.widget-view+json": {
              "model_id": "958cefbc0c95455b8f3aff577b000340",
              "version_major": 2,
              "version_minor": 0
            },
            "text/plain": [
              "  0%|          | 0/9 [00:00<?, ?it/s]"
            ]
          },
          "metadata": {},
          "output_type": "display_data"
        },
        {
          "name": "stdout",
          "output_type": "stream",
          "text": [
            "logits:    [5 0 2 0 1 1 4 0 5 3 4 0 1 0 0 0 0 1 0 4 3 1 3 2 1 2]\n",
            "labels_id: [1 4 2 4 2 1 4 2 3 3 4 3 1 3 0 0 0 5 5 2 4 1 3 2 1 5]\n",
            " Accuracy: 0.4497\n",
            " F1 score: 0.4153\n",
            "======== Epoch 201 / 500 ========\n",
            "Training...\n"
          ]
        },
        {
          "data": {
            "application/vnd.jupyter.widget-view+json": {
              "model_id": "c6c027cb32c244e8841b59cba7dfc086",
              "version_major": 2,
              "version_minor": 0
            },
            "text/plain": [
              "  0%|          | 0/104 [00:00<?, ?it/s]"
            ]
          },
          "metadata": {},
          "output_type": "display_data"
        },
        {
          "name": "stdout",
          "output_type": "stream",
          "text": [
            " Accuracy: 0.5606\n",
            " F1 score: 0.4436\n",
            " Average training loss: 1.1317\n",
            "Running Validation...\n"
          ]
        },
        {
          "data": {
            "application/vnd.jupyter.widget-view+json": {
              "model_id": "91685da28ae744f08dedab245cb6bd34",
              "version_major": 2,
              "version_minor": 0
            },
            "text/plain": [
              "  0%|          | 0/9 [00:00<?, ?it/s]"
            ]
          },
          "metadata": {},
          "output_type": "display_data"
        },
        {
          "name": "stdout",
          "output_type": "stream",
          "text": [
            "logits:    [5 0 2 0 1 1 4 0 2 3 4 0 1 0 0 0 0 1 0 4 3 1 3 2 1 2]\n",
            "labels_id: [1 4 2 4 2 1 4 2 3 3 4 3 1 3 0 0 0 5 5 2 4 1 3 2 1 5]\n",
            " Accuracy: 0.4549\n",
            " F1 score: 0.4210\n",
            "======== Epoch 202 / 500 ========\n",
            "Training...\n"
          ]
        },
        {
          "data": {
            "application/vnd.jupyter.widget-view+json": {
              "model_id": "7ebb88e19a2847e1826f5ec9887e4af9",
              "version_major": 2,
              "version_minor": 0
            },
            "text/plain": [
              "  0%|          | 0/104 [00:00<?, ?it/s]"
            ]
          },
          "metadata": {},
          "output_type": "display_data"
        },
        {
          "name": "stdout",
          "output_type": "stream",
          "text": [
            " Accuracy: 0.5742\n",
            " F1 score: 0.4567\n",
            " Average training loss: 1.1190\n",
            "Running Validation...\n"
          ]
        },
        {
          "data": {
            "application/vnd.jupyter.widget-view+json": {
              "model_id": "9c2f4fd8a7d54307822f938358ce789d",
              "version_major": 2,
              "version_minor": 0
            },
            "text/plain": [
              "  0%|          | 0/9 [00:00<?, ?it/s]"
            ]
          },
          "metadata": {},
          "output_type": "display_data"
        },
        {
          "name": "stdout",
          "output_type": "stream",
          "text": [
            "logits:    [5 0 2 0 1 1 4 0 5 3 4 0 1 0 0 0 0 1 0 4 3 1 3 2 1 2]\n",
            "labels_id: [1 4 2 4 2 1 4 2 3 3 4 3 1 3 0 0 0 5 5 2 4 1 3 2 1 5]\n",
            " Accuracy: 0.4531\n",
            " F1 score: 0.4206\n",
            "======== Epoch 203 / 500 ========\n",
            "Training...\n"
          ]
        },
        {
          "data": {
            "application/vnd.jupyter.widget-view+json": {
              "model_id": "d846f7815b854f65a8fc6831e551a9ed",
              "version_major": 2,
              "version_minor": 0
            },
            "text/plain": [
              "  0%|          | 0/104 [00:00<?, ?it/s]"
            ]
          },
          "metadata": {},
          "output_type": "display_data"
        },
        {
          "name": "stdout",
          "output_type": "stream",
          "text": [
            " Accuracy: 0.5747\n",
            " F1 score: 0.4570\n",
            " Average training loss: 1.1309\n",
            "Running Validation...\n"
          ]
        },
        {
          "data": {
            "application/vnd.jupyter.widget-view+json": {
              "model_id": "e8a9fcf56a62403588cf199896cdb19c",
              "version_major": 2,
              "version_minor": 0
            },
            "text/plain": [
              "  0%|          | 0/9 [00:00<?, ?it/s]"
            ]
          },
          "metadata": {},
          "output_type": "display_data"
        },
        {
          "name": "stdout",
          "output_type": "stream",
          "text": [
            "logits:    [5 0 2 0 1 1 4 0 5 3 4 0 1 0 0 0 0 1 0 4 3 1 3 2 1 2]\n",
            "labels_id: [1 4 2 4 2 1 4 2 3 3 4 3 1 3 0 0 0 5 5 2 4 1 3 2 1 5]\n",
            " Accuracy: 0.4531\n",
            " F1 score: 0.4197\n",
            "======== Epoch 204 / 500 ========\n",
            "Training...\n"
          ]
        },
        {
          "data": {
            "application/vnd.jupyter.widget-view+json": {
              "model_id": "b1de635dbff64561b5390f9b482b5e0c",
              "version_major": 2,
              "version_minor": 0
            },
            "text/plain": [
              "  0%|          | 0/104 [00:00<?, ?it/s]"
            ]
          },
          "metadata": {},
          "output_type": "display_data"
        },
        {
          "name": "stdout",
          "output_type": "stream",
          "text": [
            " Accuracy: 0.5690\n",
            " F1 score: 0.4479\n",
            " Average training loss: 1.1223\n",
            "Running Validation...\n"
          ]
        },
        {
          "data": {
            "application/vnd.jupyter.widget-view+json": {
              "model_id": "d1d92e1048994ba180ce808fed7dac8d",
              "version_major": 2,
              "version_minor": 0
            },
            "text/plain": [
              "  0%|          | 0/9 [00:00<?, ?it/s]"
            ]
          },
          "metadata": {},
          "output_type": "display_data"
        },
        {
          "name": "stdout",
          "output_type": "stream",
          "text": [
            "logits:    [5 0 2 0 1 1 4 0 5 3 4 0 1 0 0 0 0 1 0 4 3 1 3 2 1 2]\n",
            "labels_id: [1 4 2 4 2 1 4 2 3 3 4 3 1 3 0 0 0 5 5 2 4 1 3 2 1 5]\n",
            " Accuracy: 0.4514\n",
            " F1 score: 0.4185\n",
            "======== Epoch 205 / 500 ========\n",
            "Training...\n"
          ]
        },
        {
          "data": {
            "application/vnd.jupyter.widget-view+json": {
              "model_id": "1c915f9607494025b9556c81a5d9febc",
              "version_major": 2,
              "version_minor": 0
            },
            "text/plain": [
              "  0%|          | 0/104 [00:00<?, ?it/s]"
            ]
          },
          "metadata": {},
          "output_type": "display_data"
        },
        {
          "name": "stdout",
          "output_type": "stream",
          "text": [
            " Accuracy: 0.5733\n",
            " F1 score: 0.4611\n",
            " Average training loss: 1.1208\n",
            "Running Validation...\n"
          ]
        },
        {
          "data": {
            "application/vnd.jupyter.widget-view+json": {
              "model_id": "305c4a608c5d4456a495c1a478d82a52",
              "version_major": 2,
              "version_minor": 0
            },
            "text/plain": [
              "  0%|          | 0/9 [00:00<?, ?it/s]"
            ]
          },
          "metadata": {},
          "output_type": "display_data"
        },
        {
          "name": "stdout",
          "output_type": "stream",
          "text": [
            "logits:    [5 0 2 0 1 1 4 0 5 3 4 0 1 0 0 0 0 1 0 4 3 1 3 2 1 2]\n",
            "labels_id: [1 4 2 4 2 1 4 2 3 3 4 3 1 3 0 0 0 5 5 2 4 1 3 2 1 5]\n",
            " Accuracy: 0.4497\n",
            " F1 score: 0.4180\n",
            "======== Epoch 206 / 500 ========\n",
            "Training...\n"
          ]
        },
        {
          "data": {
            "application/vnd.jupyter.widget-view+json": {
              "model_id": "bac7efde4eb4470083ceca923ba2d0bd",
              "version_major": 2,
              "version_minor": 0
            },
            "text/plain": [
              "  0%|          | 0/104 [00:00<?, ?it/s]"
            ]
          },
          "metadata": {},
          "output_type": "display_data"
        },
        {
          "name": "stdout",
          "output_type": "stream",
          "text": [
            " Accuracy: 0.5763\n",
            " F1 score: 0.4571\n",
            " Average training loss: 1.1169\n",
            "Running Validation...\n"
          ]
        },
        {
          "data": {
            "application/vnd.jupyter.widget-view+json": {
              "model_id": "12149e18936a4fb7b379d40d610f77e6",
              "version_major": 2,
              "version_minor": 0
            },
            "text/plain": [
              "  0%|          | 0/9 [00:00<?, ?it/s]"
            ]
          },
          "metadata": {},
          "output_type": "display_data"
        },
        {
          "name": "stdout",
          "output_type": "stream",
          "text": [
            "logits:    [5 0 2 0 1 1 4 0 5 3 4 0 1 0 0 0 0 1 0 4 3 1 3 2 1 2]\n",
            "labels_id: [1 4 2 4 2 1 4 2 3 3 4 3 1 3 0 0 0 5 5 2 4 1 3 2 1 5]\n",
            " Accuracy: 0.4479\n",
            " F1 score: 0.4152\n",
            "======== Epoch 207 / 500 ========\n",
            "Training...\n"
          ]
        },
        {
          "data": {
            "application/vnd.jupyter.widget-view+json": {
              "model_id": "a143366cb2dd4791bf709ffe9e1e0a0a",
              "version_major": 2,
              "version_minor": 0
            },
            "text/plain": [
              "  0%|          | 0/104 [00:00<?, ?it/s]"
            ]
          },
          "metadata": {},
          "output_type": "display_data"
        },
        {
          "name": "stdout",
          "output_type": "stream",
          "text": [
            " Accuracy: 0.5727\n",
            " F1 score: 0.4573\n",
            " Average training loss: 1.1178\n",
            "Running Validation...\n"
          ]
        },
        {
          "data": {
            "application/vnd.jupyter.widget-view+json": {
              "model_id": "1ea38dbd7bbe4e9e9c3c12a687aa7d5e",
              "version_major": 2,
              "version_minor": 0
            },
            "text/plain": [
              "  0%|          | 0/9 [00:00<?, ?it/s]"
            ]
          },
          "metadata": {},
          "output_type": "display_data"
        },
        {
          "name": "stdout",
          "output_type": "stream",
          "text": [
            "logits:    [5 0 2 0 1 1 4 0 5 3 4 0 1 0 0 0 0 1 0 4 3 1 3 2 1 2]\n",
            "labels_id: [1 4 2 4 2 1 4 2 3 3 4 3 1 3 0 0 0 5 5 2 4 1 3 2 1 5]\n",
            " Accuracy: 0.4514\n",
            " F1 score: 0.4201\n",
            "======== Epoch 208 / 500 ========\n",
            "Training...\n"
          ]
        },
        {
          "data": {
            "application/vnd.jupyter.widget-view+json": {
              "model_id": "e232f561f00443e08be3b4c659b4cb1f",
              "version_major": 2,
              "version_minor": 0
            },
            "text/plain": [
              "  0%|          | 0/104 [00:00<?, ?it/s]"
            ]
          },
          "metadata": {},
          "output_type": "display_data"
        },
        {
          "name": "stdout",
          "output_type": "stream",
          "text": [
            " Accuracy: 0.5726\n",
            " F1 score: 0.4588\n",
            " Average training loss: 1.1196\n",
            "Running Validation...\n"
          ]
        },
        {
          "data": {
            "application/vnd.jupyter.widget-view+json": {
              "model_id": "b7f2f7d5a2c9453b91e78c375234e3c3",
              "version_major": 2,
              "version_minor": 0
            },
            "text/plain": [
              "  0%|          | 0/9 [00:00<?, ?it/s]"
            ]
          },
          "metadata": {},
          "output_type": "display_data"
        },
        {
          "name": "stdout",
          "output_type": "stream",
          "text": [
            "logits:    [5 0 2 0 1 1 4 0 5 3 4 0 1 0 0 0 0 1 0 4 3 1 3 2 1 2]\n",
            "labels_id: [1 4 2 4 2 1 4 2 3 3 4 3 1 3 0 0 0 5 5 2 4 1 3 2 1 5]\n",
            " Accuracy: 0.4549\n",
            " F1 score: 0.4236\n",
            "======== Epoch 209 / 500 ========\n",
            "Training...\n"
          ]
        },
        {
          "data": {
            "application/vnd.jupyter.widget-view+json": {
              "model_id": "6be360b19f8f42019d4163fda89b58a7",
              "version_major": 2,
              "version_minor": 0
            },
            "text/plain": [
              "  0%|          | 0/104 [00:00<?, ?it/s]"
            ]
          },
          "metadata": {},
          "output_type": "display_data"
        },
        {
          "name": "stdout",
          "output_type": "stream",
          "text": [
            " Accuracy: 0.5804\n",
            " F1 score: 0.4665\n",
            " Average training loss: 1.1058\n",
            "Running Validation...\n"
          ]
        },
        {
          "data": {
            "application/vnd.jupyter.widget-view+json": {
              "model_id": "ef35ec38c2e54c6abf7969916a5d74a4",
              "version_major": 2,
              "version_minor": 0
            },
            "text/plain": [
              "  0%|          | 0/9 [00:00<?, ?it/s]"
            ]
          },
          "metadata": {},
          "output_type": "display_data"
        },
        {
          "name": "stdout",
          "output_type": "stream",
          "text": [
            "logits:    [5 0 2 0 1 1 4 0 5 3 4 0 1 0 0 0 0 1 0 4 3 1 3 2 1 2]\n",
            "labels_id: [1 4 2 4 2 1 4 2 3 3 4 3 1 3 0 0 0 5 5 2 4 1 3 2 1 5]\n",
            " Accuracy: 0.4549\n",
            " F1 score: 0.4237\n",
            "======== Epoch 210 / 500 ========\n",
            "Training...\n"
          ]
        },
        {
          "data": {
            "application/vnd.jupyter.widget-view+json": {
              "model_id": "2037f71541a443f2a5d75095d13efdaa",
              "version_major": 2,
              "version_minor": 0
            },
            "text/plain": [
              "  0%|          | 0/104 [00:00<?, ?it/s]"
            ]
          },
          "metadata": {},
          "output_type": "display_data"
        },
        {
          "name": "stdout",
          "output_type": "stream",
          "text": [
            " Accuracy: 0.5739\n",
            " F1 score: 0.4558\n",
            " Average training loss: 1.1211\n",
            "Running Validation...\n"
          ]
        },
        {
          "data": {
            "application/vnd.jupyter.widget-view+json": {
              "model_id": "36471c36dda44979adf0a26c52903aad",
              "version_major": 2,
              "version_minor": 0
            },
            "text/plain": [
              "  0%|          | 0/9 [00:00<?, ?it/s]"
            ]
          },
          "metadata": {},
          "output_type": "display_data"
        },
        {
          "name": "stdout",
          "output_type": "stream",
          "text": [
            "logits:    [5 0 2 0 1 1 4 0 5 3 4 0 1 0 0 0 0 1 0 4 3 1 3 2 1 2]\n",
            "labels_id: [1 4 2 4 2 1 4 2 3 3 4 3 1 3 0 0 0 5 5 2 4 1 3 2 1 5]\n",
            " Accuracy: 0.4514\n",
            " F1 score: 0.4184\n",
            "======== Epoch 211 / 500 ========\n",
            "Training...\n"
          ]
        },
        {
          "data": {
            "application/vnd.jupyter.widget-view+json": {
              "model_id": "90d5653ca9a74c599ca6a8f6201f2a3f",
              "version_major": 2,
              "version_minor": 0
            },
            "text/plain": [
              "  0%|          | 0/104 [00:00<?, ?it/s]"
            ]
          },
          "metadata": {},
          "output_type": "display_data"
        },
        {
          "name": "stdout",
          "output_type": "stream",
          "text": [
            " Accuracy: 0.5781\n",
            " F1 score: 0.4640\n",
            " Average training loss: 1.1107\n",
            "Running Validation...\n"
          ]
        },
        {
          "data": {
            "application/vnd.jupyter.widget-view+json": {
              "model_id": "eafb4fdcd9794b99a18583318c81e7ea",
              "version_major": 2,
              "version_minor": 0
            },
            "text/plain": [
              "  0%|          | 0/9 [00:00<?, ?it/s]"
            ]
          },
          "metadata": {},
          "output_type": "display_data"
        },
        {
          "name": "stdout",
          "output_type": "stream",
          "text": [
            "logits:    [5 0 2 0 1 1 4 0 5 3 4 0 1 0 0 0 0 1 0 4 3 1 3 2 1 2]\n",
            "labels_id: [1 4 2 4 2 1 4 2 3 3 4 3 1 3 0 0 0 5 5 2 4 1 3 2 1 5]\n",
            " Accuracy: 0.4531\n",
            " F1 score: 0.4196\n",
            "======== Epoch 212 / 500 ========\n",
            "Training...\n"
          ]
        },
        {
          "data": {
            "application/vnd.jupyter.widget-view+json": {
              "model_id": "2fc13cb6275b466ab3626819812364fd",
              "version_major": 2,
              "version_minor": 0
            },
            "text/plain": [
              "  0%|          | 0/104 [00:00<?, ?it/s]"
            ]
          },
          "metadata": {},
          "output_type": "display_data"
        },
        {
          "name": "stdout",
          "output_type": "stream",
          "text": [
            " Accuracy: 0.5852\n",
            " F1 score: 0.4698\n",
            " Average training loss: 1.1035\n",
            "Running Validation...\n"
          ]
        },
        {
          "data": {
            "application/vnd.jupyter.widget-view+json": {
              "model_id": "272b769b90db4f38b6e2fb7f67c99423",
              "version_major": 2,
              "version_minor": 0
            },
            "text/plain": [
              "  0%|          | 0/9 [00:00<?, ?it/s]"
            ]
          },
          "metadata": {},
          "output_type": "display_data"
        },
        {
          "name": "stdout",
          "output_type": "stream",
          "text": [
            "logits:    [5 0 2 0 1 1 4 0 5 3 4 0 1 0 0 0 0 1 0 4 3 1 3 2 1 2]\n",
            "labels_id: [1 4 2 4 2 1 4 2 3 3 4 3 1 3 0 0 0 5 5 2 4 1 3 2 1 5]\n",
            " Accuracy: 0.4514\n",
            " F1 score: 0.4182\n",
            "======== Epoch 213 / 500 ========\n",
            "Training...\n"
          ]
        },
        {
          "data": {
            "application/vnd.jupyter.widget-view+json": {
              "model_id": "0023664831534700acd81a61d7947b6b",
              "version_major": 2,
              "version_minor": 0
            },
            "text/plain": [
              "  0%|          | 0/104 [00:00<?, ?it/s]"
            ]
          },
          "metadata": {},
          "output_type": "display_data"
        },
        {
          "name": "stdout",
          "output_type": "stream",
          "text": [
            " Accuracy: 0.5815\n",
            " F1 score: 0.4685\n",
            " Average training loss: 1.1029\n",
            "Running Validation...\n"
          ]
        },
        {
          "data": {
            "application/vnd.jupyter.widget-view+json": {
              "model_id": "1cdf59d9f50a43d6a7c8e8917dedf458",
              "version_major": 2,
              "version_minor": 0
            },
            "text/plain": [
              "  0%|          | 0/9 [00:00<?, ?it/s]"
            ]
          },
          "metadata": {},
          "output_type": "display_data"
        },
        {
          "name": "stdout",
          "output_type": "stream",
          "text": [
            "logits:    [5 0 2 0 1 1 4 0 5 3 4 0 1 0 0 0 0 1 0 4 3 1 3 2 1 2]\n",
            "labels_id: [1 4 2 4 2 1 4 2 3 3 4 3 1 3 0 0 0 5 5 2 4 1 3 2 1 5]\n",
            " Accuracy: 0.4514\n",
            " F1 score: 0.4180\n",
            "======== Epoch 214 / 500 ========\n",
            "Training...\n"
          ]
        },
        {
          "data": {
            "application/vnd.jupyter.widget-view+json": {
              "model_id": "992a148efee741519a6526a332a386b6",
              "version_major": 2,
              "version_minor": 0
            },
            "text/plain": [
              "  0%|          | 0/104 [00:00<?, ?it/s]"
            ]
          },
          "metadata": {},
          "output_type": "display_data"
        },
        {
          "name": "stdout",
          "output_type": "stream",
          "text": [
            " Accuracy: 0.5867\n",
            " F1 score: 0.4694\n",
            " Average training loss: 1.1073\n",
            "Running Validation...\n"
          ]
        },
        {
          "data": {
            "application/vnd.jupyter.widget-view+json": {
              "model_id": "7da374f954ce43418c96b573ffadd387",
              "version_major": 2,
              "version_minor": 0
            },
            "text/plain": [
              "  0%|          | 0/9 [00:00<?, ?it/s]"
            ]
          },
          "metadata": {},
          "output_type": "display_data"
        },
        {
          "name": "stdout",
          "output_type": "stream",
          "text": [
            "logits:    [5 0 2 0 1 1 4 0 5 3 4 0 1 0 0 0 0 1 0 4 3 1 3 2 1 2]\n",
            "labels_id: [1 4 2 4 2 1 4 2 3 3 4 3 1 3 0 0 0 5 5 2 4 1 3 2 1 5]\n",
            " Accuracy: 0.4514\n",
            " F1 score: 0.4179\n",
            "======== Epoch 215 / 500 ========\n",
            "Training...\n"
          ]
        },
        {
          "data": {
            "application/vnd.jupyter.widget-view+json": {
              "model_id": "c5631d93c0174ca48f69817859e94b31",
              "version_major": 2,
              "version_minor": 0
            },
            "text/plain": [
              "  0%|          | 0/104 [00:00<?, ?it/s]"
            ]
          },
          "metadata": {},
          "output_type": "display_data"
        },
        {
          "name": "stdout",
          "output_type": "stream",
          "text": [
            " Accuracy: 0.5787\n",
            " F1 score: 0.4609\n",
            " Average training loss: 1.1040\n",
            "Running Validation...\n"
          ]
        },
        {
          "data": {
            "application/vnd.jupyter.widget-view+json": {
              "model_id": "a589f22603334be9a87eed8dae960eba",
              "version_major": 2,
              "version_minor": 0
            },
            "text/plain": [
              "  0%|          | 0/9 [00:00<?, ?it/s]"
            ]
          },
          "metadata": {},
          "output_type": "display_data"
        },
        {
          "name": "stdout",
          "output_type": "stream",
          "text": [
            "logits:    [5 0 2 0 1 1 4 0 5 3 4 0 1 0 0 0 0 1 0 4 3 1 3 2 1 2]\n",
            "labels_id: [1 4 2 4 2 1 4 2 3 3 4 3 1 3 0 0 0 5 5 2 4 1 3 2 1 5]\n",
            " Accuracy: 0.4497\n",
            " F1 score: 0.4145\n",
            "======== Epoch 216 / 500 ========\n",
            "Training...\n"
          ]
        },
        {
          "data": {
            "application/vnd.jupyter.widget-view+json": {
              "model_id": "4ba7742040194bd2a583b1a462439642",
              "version_major": 2,
              "version_minor": 0
            },
            "text/plain": [
              "  0%|          | 0/104 [00:00<?, ?it/s]"
            ]
          },
          "metadata": {},
          "output_type": "display_data"
        },
        {
          "name": "stdout",
          "output_type": "stream",
          "text": [
            " Accuracy: 0.5825\n",
            " F1 score: 0.4679\n",
            " Average training loss: 1.1033\n",
            "Running Validation...\n"
          ]
        },
        {
          "data": {
            "application/vnd.jupyter.widget-view+json": {
              "model_id": "9556a1639aeb4320baaeec249b03903d",
              "version_major": 2,
              "version_minor": 0
            },
            "text/plain": [
              "  0%|          | 0/9 [00:00<?, ?it/s]"
            ]
          },
          "metadata": {},
          "output_type": "display_data"
        },
        {
          "name": "stdout",
          "output_type": "stream",
          "text": [
            "logits:    [5 0 2 0 1 1 4 0 5 3 4 0 1 0 0 0 0 1 0 4 3 1 3 2 1 2]\n",
            "labels_id: [1 4 2 4 2 1 4 2 3 3 4 3 1 3 0 0 0 5 5 2 4 1 3 2 1 5]\n",
            " Accuracy: 0.4479\n",
            " F1 score: 0.4136\n",
            "======== Epoch 217 / 500 ========\n",
            "Training...\n"
          ]
        },
        {
          "data": {
            "application/vnd.jupyter.widget-view+json": {
              "model_id": "fa052d2926d64b2097d40285f897238d",
              "version_major": 2,
              "version_minor": 0
            },
            "text/plain": [
              "  0%|          | 0/104 [00:00<?, ?it/s]"
            ]
          },
          "metadata": {},
          "output_type": "display_data"
        },
        {
          "name": "stdout",
          "output_type": "stream",
          "text": [
            " Accuracy: 0.5863\n",
            " F1 score: 0.4690\n",
            " Average training loss: 1.0983\n",
            "Running Validation...\n"
          ]
        },
        {
          "data": {
            "application/vnd.jupyter.widget-view+json": {
              "model_id": "2763992720254142a7442d7a58b0fb5e",
              "version_major": 2,
              "version_minor": 0
            },
            "text/plain": [
              "  0%|          | 0/9 [00:00<?, ?it/s]"
            ]
          },
          "metadata": {},
          "output_type": "display_data"
        },
        {
          "name": "stdout",
          "output_type": "stream",
          "text": [
            "logits:    [5 0 2 0 1 1 4 0 5 3 4 0 1 0 0 0 0 1 0 4 3 1 3 2 1 2]\n",
            "labels_id: [1 4 2 4 2 1 4 2 3 3 4 3 1 3 0 0 0 5 5 2 4 1 3 2 1 5]\n",
            " Accuracy: 0.4531\n",
            " F1 score: 0.4176\n",
            "======== Epoch 218 / 500 ========\n",
            "Training...\n"
          ]
        },
        {
          "data": {
            "application/vnd.jupyter.widget-view+json": {
              "model_id": "9e64ea0a49754383a5ee7f907fffb7cf",
              "version_major": 2,
              "version_minor": 0
            },
            "text/plain": [
              "  0%|          | 0/104 [00:00<?, ?it/s]"
            ]
          },
          "metadata": {},
          "output_type": "display_data"
        },
        {
          "name": "stdout",
          "output_type": "stream",
          "text": [
            " Accuracy: 0.5846\n",
            " F1 score: 0.4719\n",
            " Average training loss: 1.0941\n",
            "Running Validation...\n"
          ]
        },
        {
          "data": {
            "application/vnd.jupyter.widget-view+json": {
              "model_id": "7181c358c3d04eaab313e433290c108d",
              "version_major": 2,
              "version_minor": 0
            },
            "text/plain": [
              "  0%|          | 0/9 [00:00<?, ?it/s]"
            ]
          },
          "metadata": {},
          "output_type": "display_data"
        },
        {
          "name": "stdout",
          "output_type": "stream",
          "text": [
            "logits:    [5 0 2 0 1 1 4 0 5 3 4 0 1 0 0 0 0 1 0 4 3 1 3 2 1 2]\n",
            "labels_id: [1 4 2 4 2 1 4 2 3 3 4 3 1 3 0 0 0 5 5 2 4 1 3 2 1 5]\n",
            " Accuracy: 0.4479\n",
            " F1 score: 0.4137\n",
            "======== Epoch 219 / 500 ========\n",
            "Training...\n"
          ]
        },
        {
          "data": {
            "application/vnd.jupyter.widget-view+json": {
              "model_id": "7c1bf00f92474453baf290154c5a8804",
              "version_major": 2,
              "version_minor": 0
            },
            "text/plain": [
              "  0%|          | 0/104 [00:00<?, ?it/s]"
            ]
          },
          "metadata": {},
          "output_type": "display_data"
        },
        {
          "name": "stdout",
          "output_type": "stream",
          "text": [
            " Accuracy: 0.5802\n",
            " F1 score: 0.4644\n",
            " Average training loss: 1.0937\n",
            "Running Validation...\n"
          ]
        },
        {
          "data": {
            "application/vnd.jupyter.widget-view+json": {
              "model_id": "c5427f1d82e04938947cf88eedb78bf7",
              "version_major": 2,
              "version_minor": 0
            },
            "text/plain": [
              "  0%|          | 0/9 [00:00<?, ?it/s]"
            ]
          },
          "metadata": {},
          "output_type": "display_data"
        },
        {
          "name": "stdout",
          "output_type": "stream",
          "text": [
            "logits:    [5 0 2 0 1 1 4 0 5 3 4 0 1 0 0 0 0 1 0 4 3 1 3 2 1 2]\n",
            "labels_id: [1 4 2 4 2 1 4 2 3 3 4 3 1 3 0 0 0 5 5 2 4 1 3 2 1 5]\n",
            " Accuracy: 0.4479\n",
            " F1 score: 0.4135\n",
            "======== Epoch 220 / 500 ========\n",
            "Training...\n"
          ]
        },
        {
          "data": {
            "application/vnd.jupyter.widget-view+json": {
              "model_id": "6638a43a27d3490884052942387dc469",
              "version_major": 2,
              "version_minor": 0
            },
            "text/plain": [
              "  0%|          | 0/104 [00:00<?, ?it/s]"
            ]
          },
          "metadata": {},
          "output_type": "display_data"
        },
        {
          "name": "stdout",
          "output_type": "stream",
          "text": [
            " Accuracy: 0.5827\n",
            " F1 score: 0.4702\n",
            " Average training loss: 1.0968\n",
            "Running Validation...\n"
          ]
        },
        {
          "data": {
            "application/vnd.jupyter.widget-view+json": {
              "model_id": "bf2776b17be041d8bdaff65b759dc34f",
              "version_major": 2,
              "version_minor": 0
            },
            "text/plain": [
              "  0%|          | 0/9 [00:00<?, ?it/s]"
            ]
          },
          "metadata": {},
          "output_type": "display_data"
        },
        {
          "name": "stdout",
          "output_type": "stream",
          "text": [
            "logits:    [5 0 2 0 1 1 4 0 5 3 4 0 1 0 0 0 0 1 0 4 3 1 3 2 1 2]\n",
            "labels_id: [1 4 2 4 2 1 4 2 3 3 4 3 1 3 0 0 0 5 5 2 4 1 3 2 1 5]\n",
            " Accuracy: 0.4497\n",
            " F1 score: 0.4147\n",
            "======== Epoch 221 / 500 ========\n",
            "Training...\n"
          ]
        },
        {
          "data": {
            "application/vnd.jupyter.widget-view+json": {
              "model_id": "5901053c1bf042f58bd2dc95be8e9a77",
              "version_major": 2,
              "version_minor": 0
            },
            "text/plain": [
              "  0%|          | 0/104 [00:00<?, ?it/s]"
            ]
          },
          "metadata": {},
          "output_type": "display_data"
        },
        {
          "name": "stdout",
          "output_type": "stream",
          "text": [
            " Accuracy: 0.5883\n",
            " F1 score: 0.4704\n",
            " Average training loss: 1.0938\n",
            "Running Validation...\n"
          ]
        },
        {
          "data": {
            "application/vnd.jupyter.widget-view+json": {
              "model_id": "8c5b3e266d344bc2a0e8aeaf4743d740",
              "version_major": 2,
              "version_minor": 0
            },
            "text/plain": [
              "  0%|          | 0/9 [00:00<?, ?it/s]"
            ]
          },
          "metadata": {},
          "output_type": "display_data"
        },
        {
          "name": "stdout",
          "output_type": "stream",
          "text": [
            "logits:    [5 0 2 0 1 1 4 0 5 3 4 0 1 0 0 0 0 1 0 4 3 1 3 2 1 2]\n",
            "labels_id: [1 4 2 4 2 1 4 2 3 3 4 3 1 3 0 0 0 5 5 2 4 1 3 2 1 5]\n",
            " Accuracy: 0.4497\n",
            " F1 score: 0.4175\n",
            "======== Epoch 222 / 500 ========\n",
            "Training...\n"
          ]
        },
        {
          "data": {
            "application/vnd.jupyter.widget-view+json": {
              "model_id": "9dbf422de9934edfb92facf2d01a4035",
              "version_major": 2,
              "version_minor": 0
            },
            "text/plain": [
              "  0%|          | 0/104 [00:00<?, ?it/s]"
            ]
          },
          "metadata": {},
          "output_type": "display_data"
        },
        {
          "name": "stdout",
          "output_type": "stream",
          "text": [
            " Accuracy: 0.5833\n",
            " F1 score: 0.4683\n",
            " Average training loss: 1.0883\n",
            "Running Validation...\n"
          ]
        },
        {
          "data": {
            "application/vnd.jupyter.widget-view+json": {
              "model_id": "88555a408e2d48e795b5a1f2bad93068",
              "version_major": 2,
              "version_minor": 0
            },
            "text/plain": [
              "  0%|          | 0/9 [00:00<?, ?it/s]"
            ]
          },
          "metadata": {},
          "output_type": "display_data"
        },
        {
          "name": "stdout",
          "output_type": "stream",
          "text": [
            "logits:    [5 0 2 0 1 1 4 0 5 3 4 0 1 0 0 0 0 1 0 4 3 1 3 2 1 2]\n",
            "labels_id: [1 4 2 4 2 1 4 2 3 3 4 3 1 3 0 0 0 5 5 2 4 1 3 2 1 5]\n",
            " Accuracy: 0.4531\n",
            " F1 score: 0.4200\n",
            "======== Epoch 223 / 500 ========\n",
            "Training...\n"
          ]
        },
        {
          "data": {
            "application/vnd.jupyter.widget-view+json": {
              "model_id": "b30d00f741ff4759a0f2d420eb35f874",
              "version_major": 2,
              "version_minor": 0
            },
            "text/plain": [
              "  0%|          | 0/104 [00:00<?, ?it/s]"
            ]
          },
          "metadata": {},
          "output_type": "display_data"
        },
        {
          "name": "stdout",
          "output_type": "stream",
          "text": [
            " Accuracy: 0.5859\n",
            " F1 score: 0.4787\n",
            " Average training loss: 1.0942\n",
            "Running Validation...\n"
          ]
        },
        {
          "data": {
            "application/vnd.jupyter.widget-view+json": {
              "model_id": "53b3455afe8c49d28b7bc801ed962631",
              "version_major": 2,
              "version_minor": 0
            },
            "text/plain": [
              "  0%|          | 0/9 [00:00<?, ?it/s]"
            ]
          },
          "metadata": {},
          "output_type": "display_data"
        },
        {
          "name": "stdout",
          "output_type": "stream",
          "text": [
            "logits:    [5 0 2 0 1 1 4 0 5 3 4 0 1 0 0 0 0 1 0 4 3 1 3 2 1 2]\n",
            "labels_id: [1 4 2 4 2 1 4 2 3 3 4 3 1 3 0 0 0 5 5 2 4 1 3 2 1 5]\n",
            " Accuracy: 0.4531\n",
            " F1 score: 0.4185\n",
            "======== Epoch 224 / 500 ========\n",
            "Training...\n"
          ]
        },
        {
          "data": {
            "application/vnd.jupyter.widget-view+json": {
              "model_id": "1332c24b3bd24da69f90a95a90d3865b",
              "version_major": 2,
              "version_minor": 0
            },
            "text/plain": [
              "  0%|          | 0/104 [00:00<?, ?it/s]"
            ]
          },
          "metadata": {},
          "output_type": "display_data"
        },
        {
          "name": "stdout",
          "output_type": "stream",
          "text": [
            " Accuracy: 0.5836\n",
            " F1 score: 0.4721\n",
            " Average training loss: 1.0917\n",
            "Running Validation...\n"
          ]
        },
        {
          "data": {
            "application/vnd.jupyter.widget-view+json": {
              "model_id": "6493f1d49acb49d4a1ed9d9b7e0f3dc3",
              "version_major": 2,
              "version_minor": 0
            },
            "text/plain": [
              "  0%|          | 0/9 [00:00<?, ?it/s]"
            ]
          },
          "metadata": {},
          "output_type": "display_data"
        },
        {
          "name": "stdout",
          "output_type": "stream",
          "text": [
            "logits:    [5 0 2 0 1 1 4 0 5 3 4 0 1 0 0 0 0 1 0 4 3 1 3 2 1 2]\n",
            "labels_id: [1 4 2 4 2 1 4 2 3 3 4 3 1 3 0 0 0 5 5 2 4 1 3 2 1 5]\n",
            " Accuracy: 0.4549\n",
            " F1 score: 0.4204\n",
            "======== Epoch 225 / 500 ========\n",
            "Training...\n"
          ]
        },
        {
          "data": {
            "application/vnd.jupyter.widget-view+json": {
              "model_id": "c7b83024982848f0878337be81766b78",
              "version_major": 2,
              "version_minor": 0
            },
            "text/plain": [
              "  0%|          | 0/104 [00:00<?, ?it/s]"
            ]
          },
          "metadata": {},
          "output_type": "display_data"
        },
        {
          "name": "stdout",
          "output_type": "stream",
          "text": [
            " Accuracy: 0.5900\n",
            " F1 score: 0.4747\n",
            " Average training loss: 1.0797\n",
            "Running Validation...\n"
          ]
        },
        {
          "data": {
            "application/vnd.jupyter.widget-view+json": {
              "model_id": "4015b984952f4108a14a230fdc24d293",
              "version_major": 2,
              "version_minor": 0
            },
            "text/plain": [
              "  0%|          | 0/9 [00:00<?, ?it/s]"
            ]
          },
          "metadata": {},
          "output_type": "display_data"
        },
        {
          "name": "stdout",
          "output_type": "stream",
          "text": [
            "logits:    [5 0 2 0 1 1 4 0 5 3 4 0 1 0 0 0 0 1 0 4 3 1 3 2 1 2]\n",
            "labels_id: [1 4 2 4 2 1 4 2 3 3 4 3 1 3 0 0 0 5 5 2 4 1 3 2 1 5]\n",
            " Accuracy: 0.4549\n",
            " F1 score: 0.4229\n",
            "======== Epoch 226 / 500 ========\n",
            "Training...\n"
          ]
        },
        {
          "data": {
            "application/vnd.jupyter.widget-view+json": {
              "model_id": "93a2947c81374567af10affd240502fc",
              "version_major": 2,
              "version_minor": 0
            },
            "text/plain": [
              "  0%|          | 0/104 [00:00<?, ?it/s]"
            ]
          },
          "metadata": {},
          "output_type": "display_data"
        },
        {
          "name": "stdout",
          "output_type": "stream",
          "text": [
            " Accuracy: 0.5898\n",
            " F1 score: 0.4784\n",
            " Average training loss: 1.0831\n",
            "Running Validation...\n"
          ]
        },
        {
          "data": {
            "application/vnd.jupyter.widget-view+json": {
              "model_id": "1adcfcf8c59d4270812cd67cd5a23ce6",
              "version_major": 2,
              "version_minor": 0
            },
            "text/plain": [
              "  0%|          | 0/9 [00:00<?, ?it/s]"
            ]
          },
          "metadata": {},
          "output_type": "display_data"
        },
        {
          "name": "stdout",
          "output_type": "stream",
          "text": [
            "logits:    [5 0 2 0 1 1 4 0 5 3 4 0 1 0 0 0 0 1 0 4 3 1 3 2 1 2]\n",
            "labels_id: [1 4 2 4 2 1 4 2 3 3 4 3 1 3 0 0 0 5 5 2 4 1 3 2 1 5]\n",
            " Accuracy: 0.4497\n",
            " F1 score: 0.4159\n",
            "======== Epoch 227 / 500 ========\n",
            "Training...\n"
          ]
        },
        {
          "data": {
            "application/vnd.jupyter.widget-view+json": {
              "model_id": "199fc2b02ff2478ea0dea1fd6d7c882a",
              "version_major": 2,
              "version_minor": 0
            },
            "text/plain": [
              "  0%|          | 0/104 [00:00<?, ?it/s]"
            ]
          },
          "metadata": {},
          "output_type": "display_data"
        },
        {
          "name": "stdout",
          "output_type": "stream",
          "text": [
            " Accuracy: 0.5907\n",
            " F1 score: 0.4777\n",
            " Average training loss: 1.0760\n",
            "Running Validation...\n"
          ]
        },
        {
          "data": {
            "application/vnd.jupyter.widget-view+json": {
              "model_id": "a47dc88ecf85421da94cbba42c64b0e7",
              "version_major": 2,
              "version_minor": 0
            },
            "text/plain": [
              "  0%|          | 0/9 [00:00<?, ?it/s]"
            ]
          },
          "metadata": {},
          "output_type": "display_data"
        },
        {
          "name": "stdout",
          "output_type": "stream",
          "text": [
            "logits:    [5 0 2 0 1 1 4 0 5 3 4 0 1 0 0 0 0 1 0 4 3 1 3 2 1 2]\n",
            "labels_id: [1 4 2 4 2 1 4 2 3 3 4 3 1 3 0 0 0 5 5 2 4 1 3 2 1 5]\n",
            " Accuracy: 0.4549\n",
            " F1 score: 0.4233\n",
            "======== Epoch 228 / 500 ========\n",
            "Training...\n"
          ]
        },
        {
          "data": {
            "application/vnd.jupyter.widget-view+json": {
              "model_id": "1122a51b2f95408cb3a675ca6d51016b",
              "version_major": 2,
              "version_minor": 0
            },
            "text/plain": [
              "  0%|          | 0/104 [00:00<?, ?it/s]"
            ]
          },
          "metadata": {},
          "output_type": "display_data"
        },
        {
          "name": "stdout",
          "output_type": "stream",
          "text": [
            " Accuracy: 0.5886\n",
            " F1 score: 0.4753\n",
            " Average training loss: 1.0800\n",
            "Running Validation...\n"
          ]
        },
        {
          "data": {
            "application/vnd.jupyter.widget-view+json": {
              "model_id": "c74d02d6ecec4cf6a5408f529020cdeb",
              "version_major": 2,
              "version_minor": 0
            },
            "text/plain": [
              "  0%|          | 0/9 [00:00<?, ?it/s]"
            ]
          },
          "metadata": {},
          "output_type": "display_data"
        },
        {
          "name": "stdout",
          "output_type": "stream",
          "text": [
            "logits:    [5 0 2 0 1 1 4 0 5 3 4 0 1 0 0 0 0 1 0 4 3 1 3 2 1 2]\n",
            "labels_id: [1 4 2 4 2 1 4 2 3 3 4 3 1 3 0 0 0 5 5 2 4 1 3 2 1 5]\n",
            " Accuracy: 0.4514\n",
            " F1 score: 0.4168\n",
            "======== Epoch 229 / 500 ========\n",
            "Training...\n"
          ]
        },
        {
          "data": {
            "application/vnd.jupyter.widget-view+json": {
              "model_id": "621ecf6945f54675b85e3b465fc6c023",
              "version_major": 2,
              "version_minor": 0
            },
            "text/plain": [
              "  0%|          | 0/104 [00:00<?, ?it/s]"
            ]
          },
          "metadata": {},
          "output_type": "display_data"
        },
        {
          "name": "stdout",
          "output_type": "stream",
          "text": [
            " Accuracy: 0.5948\n",
            " F1 score: 0.4810\n",
            " Average training loss: 1.0741\n",
            "Running Validation...\n"
          ]
        },
        {
          "data": {
            "application/vnd.jupyter.widget-view+json": {
              "model_id": "399a6eca25b64c799c6bc88e75371026",
              "version_major": 2,
              "version_minor": 0
            },
            "text/plain": [
              "  0%|          | 0/9 [00:00<?, ?it/s]"
            ]
          },
          "metadata": {},
          "output_type": "display_data"
        },
        {
          "name": "stdout",
          "output_type": "stream",
          "text": [
            "logits:    [5 0 2 0 1 1 4 0 5 3 4 0 1 0 0 0 0 1 0 4 3 1 3 2 1 2]\n",
            "labels_id: [1 4 2 4 2 1 4 2 3 3 4 3 1 3 0 0 0 5 5 2 4 1 3 2 1 5]\n",
            " Accuracy: 0.4566\n",
            " F1 score: 0.4249\n",
            "======== Epoch 230 / 500 ========\n",
            "Training...\n"
          ]
        },
        {
          "data": {
            "application/vnd.jupyter.widget-view+json": {
              "model_id": "7c574c84175a4b4a8368a11600459dd3",
              "version_major": 2,
              "version_minor": 0
            },
            "text/plain": [
              "  0%|          | 0/104 [00:00<?, ?it/s]"
            ]
          },
          "metadata": {},
          "output_type": "display_data"
        },
        {
          "name": "stdout",
          "output_type": "stream",
          "text": [
            " Accuracy: 0.5898\n",
            " F1 score: 0.4821\n",
            " Average training loss: 1.0808\n",
            "Running Validation...\n"
          ]
        },
        {
          "data": {
            "application/vnd.jupyter.widget-view+json": {
              "model_id": "9d15c224efe343cabb56de08631a4504",
              "version_major": 2,
              "version_minor": 0
            },
            "text/plain": [
              "  0%|          | 0/9 [00:00<?, ?it/s]"
            ]
          },
          "metadata": {},
          "output_type": "display_data"
        },
        {
          "name": "stdout",
          "output_type": "stream",
          "text": [
            "logits:    [5 0 2 0 1 1 4 0 5 3 4 0 1 0 0 0 0 1 0 4 3 1 3 2 1 2]\n",
            "labels_id: [1 4 2 4 2 1 4 2 3 3 4 3 1 3 0 0 0 5 5 2 4 1 3 2 1 5]\n",
            " Accuracy: 0.4531\n",
            " F1 score: 0.4216\n",
            "======== Epoch 231 / 500 ========\n",
            "Training...\n"
          ]
        },
        {
          "data": {
            "application/vnd.jupyter.widget-view+json": {
              "model_id": "d7de934c4b0b43deab609d4c83d82c7d",
              "version_major": 2,
              "version_minor": 0
            },
            "text/plain": [
              "  0%|          | 0/104 [00:00<?, ?it/s]"
            ]
          },
          "metadata": {},
          "output_type": "display_data"
        },
        {
          "name": "stdout",
          "output_type": "stream",
          "text": [
            " Accuracy: 0.5921\n",
            " F1 score: 0.4764\n",
            " Average training loss: 1.0780\n",
            "Running Validation...\n"
          ]
        },
        {
          "data": {
            "application/vnd.jupyter.widget-view+json": {
              "model_id": "84ecd7258b5647e7a9cda349742e31fc",
              "version_major": 2,
              "version_minor": 0
            },
            "text/plain": [
              "  0%|          | 0/9 [00:00<?, ?it/s]"
            ]
          },
          "metadata": {},
          "output_type": "display_data"
        },
        {
          "name": "stdout",
          "output_type": "stream",
          "text": [
            "logits:    [5 0 2 0 1 1 4 0 5 3 4 0 1 0 0 0 0 1 0 4 3 1 3 2 1 2]\n",
            "labels_id: [1 4 2 4 2 1 4 2 3 3 4 3 1 3 0 0 0 5 5 2 4 1 3 2 1 5]\n",
            " Accuracy: 0.4566\n",
            " F1 score: 0.4250\n",
            "======== Epoch 232 / 500 ========\n",
            "Training...\n"
          ]
        },
        {
          "data": {
            "application/vnd.jupyter.widget-view+json": {
              "model_id": "e5500e7de2bb49a7893dbbe49f2d5e9e",
              "version_major": 2,
              "version_minor": 0
            },
            "text/plain": [
              "  0%|          | 0/104 [00:00<?, ?it/s]"
            ]
          },
          "metadata": {},
          "output_type": "display_data"
        },
        {
          "name": "stdout",
          "output_type": "stream",
          "text": [
            " Accuracy: 0.5961\n",
            " F1 score: 0.4866\n",
            " Average training loss: 1.0752\n",
            "Running Validation...\n"
          ]
        },
        {
          "data": {
            "application/vnd.jupyter.widget-view+json": {
              "model_id": "163f8a7a797d41d8a0ab9c07cf6aca91",
              "version_major": 2,
              "version_minor": 0
            },
            "text/plain": [
              "  0%|          | 0/9 [00:00<?, ?it/s]"
            ]
          },
          "metadata": {},
          "output_type": "display_data"
        },
        {
          "name": "stdout",
          "output_type": "stream",
          "text": [
            "logits:    [5 0 2 0 1 1 4 0 5 3 4 0 1 0 0 0 0 1 0 4 3 1 3 2 1 2]\n",
            "labels_id: [1 4 2 4 2 1 4 2 3 3 4 3 1 3 0 0 0 5 5 2 4 1 3 2 1 5]\n",
            " Accuracy: 0.4549\n",
            " F1 score: 0.4231\n",
            "======== Epoch 233 / 500 ========\n",
            "Training...\n"
          ]
        },
        {
          "data": {
            "application/vnd.jupyter.widget-view+json": {
              "model_id": "05e2928c5ad642cda71ef0992eb2bb29",
              "version_major": 2,
              "version_minor": 0
            },
            "text/plain": [
              "  0%|          | 0/104 [00:00<?, ?it/s]"
            ]
          },
          "metadata": {},
          "output_type": "display_data"
        },
        {
          "name": "stdout",
          "output_type": "stream",
          "text": [
            " Accuracy: 0.5984\n",
            " F1 score: 0.4848\n",
            " Average training loss: 1.0677\n",
            "Running Validation...\n"
          ]
        },
        {
          "data": {
            "application/vnd.jupyter.widget-view+json": {
              "model_id": "88e49ee35bff4f8193a5c2605beb25f9",
              "version_major": 2,
              "version_minor": 0
            },
            "text/plain": [
              "  0%|          | 0/9 [00:00<?, ?it/s]"
            ]
          },
          "metadata": {},
          "output_type": "display_data"
        },
        {
          "name": "stdout",
          "output_type": "stream",
          "text": [
            "logits:    [5 0 2 0 1 1 4 0 5 3 4 0 1 0 0 0 0 1 0 4 3 1 3 2 1 2]\n",
            "labels_id: [1 4 2 4 2 1 4 2 3 3 4 3 1 3 0 0 0 5 5 2 4 1 3 2 1 5]\n",
            " Accuracy: 0.4566\n",
            " F1 score: 0.4245\n",
            "======== Epoch 234 / 500 ========\n",
            "Training...\n"
          ]
        },
        {
          "data": {
            "application/vnd.jupyter.widget-view+json": {
              "model_id": "e81fc46a64174712a828c956a6a9dae8",
              "version_major": 2,
              "version_minor": 0
            },
            "text/plain": [
              "  0%|          | 0/104 [00:00<?, ?it/s]"
            ]
          },
          "metadata": {},
          "output_type": "display_data"
        },
        {
          "name": "stdout",
          "output_type": "stream",
          "text": [
            " Accuracy: 0.5864\n",
            " F1 score: 0.4752\n",
            " Average training loss: 1.0759\n",
            "Running Validation...\n"
          ]
        },
        {
          "data": {
            "application/vnd.jupyter.widget-view+json": {
              "model_id": "19e2ab01fdfd4ae3bbe2b75ae1d6a497",
              "version_major": 2,
              "version_minor": 0
            },
            "text/plain": [
              "  0%|          | 0/9 [00:00<?, ?it/s]"
            ]
          },
          "metadata": {},
          "output_type": "display_data"
        },
        {
          "name": "stdout",
          "output_type": "stream",
          "text": [
            "logits:    [5 0 2 0 1 1 4 0 5 3 4 0 1 0 0 0 0 1 0 4 3 1 3 2 1 2]\n",
            "labels_id: [1 4 2 4 2 1 4 2 3 3 4 3 1 3 0 0 0 5 5 2 4 1 3 2 1 5]\n",
            " Accuracy: 0.4566\n",
            " F1 score: 0.4248\n",
            "======== Epoch 235 / 500 ========\n",
            "Training...\n"
          ]
        },
        {
          "data": {
            "application/vnd.jupyter.widget-view+json": {
              "model_id": "4629f71e38d6471e8776318703ba7985",
              "version_major": 2,
              "version_minor": 0
            },
            "text/plain": [
              "  0%|          | 0/104 [00:00<?, ?it/s]"
            ]
          },
          "metadata": {},
          "output_type": "display_data"
        },
        {
          "name": "stdout",
          "output_type": "stream",
          "text": [
            " Accuracy: 0.5908\n",
            " F1 score: 0.4827\n",
            " Average training loss: 1.0672\n",
            "Running Validation...\n"
          ]
        },
        {
          "data": {
            "application/vnd.jupyter.widget-view+json": {
              "model_id": "deb897d17adb4d0dbe4a0644e051c391",
              "version_major": 2,
              "version_minor": 0
            },
            "text/plain": [
              "  0%|          | 0/9 [00:00<?, ?it/s]"
            ]
          },
          "metadata": {},
          "output_type": "display_data"
        },
        {
          "name": "stdout",
          "output_type": "stream",
          "text": [
            "logits:    [5 0 2 0 1 1 4 0 5 3 4 0 1 0 0 0 0 1 0 4 3 1 3 2 1 2]\n",
            "labels_id: [1 4 2 4 2 1 4 2 3 3 4 3 1 3 0 0 0 5 5 2 4 1 3 2 1 5]\n",
            " Accuracy: 0.4583\n",
            " F1 score: 0.4256\n",
            "======== Epoch 236 / 500 ========\n",
            "Training...\n"
          ]
        },
        {
          "data": {
            "application/vnd.jupyter.widget-view+json": {
              "model_id": "41ac992c57f742f4bd06a6a84cf675dd",
              "version_major": 2,
              "version_minor": 0
            },
            "text/plain": [
              "  0%|          | 0/104 [00:00<?, ?it/s]"
            ]
          },
          "metadata": {},
          "output_type": "display_data"
        },
        {
          "name": "stdout",
          "output_type": "stream",
          "text": [
            " Accuracy: 0.5983\n",
            " F1 score: 0.4867\n",
            " Average training loss: 1.0703\n",
            "Running Validation...\n"
          ]
        },
        {
          "data": {
            "application/vnd.jupyter.widget-view+json": {
              "model_id": "e043b84cb4a14c4f8ceaa51792e34118",
              "version_major": 2,
              "version_minor": 0
            },
            "text/plain": [
              "  0%|          | 0/9 [00:00<?, ?it/s]"
            ]
          },
          "metadata": {},
          "output_type": "display_data"
        },
        {
          "name": "stdout",
          "output_type": "stream",
          "text": [
            "logits:    [5 0 2 0 1 1 4 0 5 3 4 0 1 0 0 0 0 1 0 4 3 1 3 2 1 2]\n",
            "labels_id: [1 4 2 4 2 1 4 2 3 3 4 3 1 3 0 0 0 5 5 2 4 1 3 2 1 5]\n",
            " Accuracy: 0.4583\n",
            " F1 score: 0.4271\n",
            "======== Epoch 237 / 500 ========\n",
            "Training...\n"
          ]
        },
        {
          "data": {
            "application/vnd.jupyter.widget-view+json": {
              "model_id": "e0ac0bc16dcc42f39cdcabd7421174ca",
              "version_major": 2,
              "version_minor": 0
            },
            "text/plain": [
              "  0%|          | 0/104 [00:00<?, ?it/s]"
            ]
          },
          "metadata": {},
          "output_type": "display_data"
        },
        {
          "name": "stdout",
          "output_type": "stream",
          "text": [
            " Accuracy: 0.6004\n",
            " F1 score: 0.4908\n",
            " Average training loss: 1.0646\n",
            "Running Validation...\n"
          ]
        },
        {
          "data": {
            "application/vnd.jupyter.widget-view+json": {
              "model_id": "ad3a423aa2544c1097db92b69074c89d",
              "version_major": 2,
              "version_minor": 0
            },
            "text/plain": [
              "  0%|          | 0/9 [00:00<?, ?it/s]"
            ]
          },
          "metadata": {},
          "output_type": "display_data"
        },
        {
          "name": "stdout",
          "output_type": "stream",
          "text": [
            "logits:    [5 0 2 0 1 1 4 0 5 3 4 0 1 0 0 0 0 1 0 4 3 1 3 2 1 2]\n",
            "labels_id: [1 4 2 4 2 1 4 2 3 3 4 3 1 3 0 0 0 5 5 2 4 1 3 2 1 5]\n",
            " Accuracy: 0.4583\n",
            " F1 score: 0.4273\n",
            "======== Epoch 238 / 500 ========\n",
            "Training...\n"
          ]
        },
        {
          "data": {
            "application/vnd.jupyter.widget-view+json": {
              "model_id": "091f460b038742dd82685333d58ec68f",
              "version_major": 2,
              "version_minor": 0
            },
            "text/plain": [
              "  0%|          | 0/104 [00:00<?, ?it/s]"
            ]
          },
          "metadata": {},
          "output_type": "display_data"
        },
        {
          "name": "stdout",
          "output_type": "stream",
          "text": [
            " Accuracy: 0.5972\n",
            " F1 score: 0.4850\n",
            " Average training loss: 1.0630\n",
            "Running Validation...\n"
          ]
        },
        {
          "data": {
            "application/vnd.jupyter.widget-view+json": {
              "model_id": "60ceca53023e4563a30c3da4b6dbcde5",
              "version_major": 2,
              "version_minor": 0
            },
            "text/plain": [
              "  0%|          | 0/9 [00:00<?, ?it/s]"
            ]
          },
          "metadata": {},
          "output_type": "display_data"
        },
        {
          "name": "stdout",
          "output_type": "stream",
          "text": [
            "logits:    [5 0 2 0 1 1 4 0 5 3 4 0 1 0 0 0 0 1 0 4 3 1 3 2 1 2]\n",
            "labels_id: [1 4 2 4 2 1 4 2 3 3 4 3 1 3 0 0 0 5 5 2 4 1 3 2 1 5]\n",
            " Accuracy: 0.4583\n",
            " F1 score: 0.4270\n",
            "======== Epoch 239 / 500 ========\n",
            "Training...\n"
          ]
        },
        {
          "data": {
            "application/vnd.jupyter.widget-view+json": {
              "model_id": "d45670a1610144108ea064f807c35665",
              "version_major": 2,
              "version_minor": 0
            },
            "text/plain": [
              "  0%|          | 0/104 [00:00<?, ?it/s]"
            ]
          },
          "metadata": {},
          "output_type": "display_data"
        },
        {
          "name": "stdout",
          "output_type": "stream",
          "text": [
            " Accuracy: 0.5934\n",
            " F1 score: 0.4796\n",
            " Average training loss: 1.0628\n",
            "Running Validation...\n"
          ]
        },
        {
          "data": {
            "application/vnd.jupyter.widget-view+json": {
              "model_id": "a7ab3d3331ee4b69833272b114f4c33c",
              "version_major": 2,
              "version_minor": 0
            },
            "text/plain": [
              "  0%|          | 0/9 [00:00<?, ?it/s]"
            ]
          },
          "metadata": {},
          "output_type": "display_data"
        },
        {
          "name": "stdout",
          "output_type": "stream",
          "text": [
            "logits:    [5 0 2 0 1 1 4 0 5 3 4 0 1 0 0 0 0 1 0 4 3 1 3 2 1 2]\n",
            "labels_id: [1 4 2 4 2 1 4 2 3 3 4 3 1 3 0 0 0 5 5 2 4 1 3 2 1 5]\n",
            " Accuracy: 0.4583\n",
            " F1 score: 0.4271\n",
            "======== Epoch 240 / 500 ========\n",
            "Training...\n"
          ]
        },
        {
          "data": {
            "application/vnd.jupyter.widget-view+json": {
              "model_id": "391946bcd36f48788ef4790574b249f7",
              "version_major": 2,
              "version_minor": 0
            },
            "text/plain": [
              "  0%|          | 0/104 [00:00<?, ?it/s]"
            ]
          },
          "metadata": {},
          "output_type": "display_data"
        },
        {
          "name": "stdout",
          "output_type": "stream",
          "text": [
            " Accuracy: 0.6029\n",
            " F1 score: 0.4966\n",
            " Average training loss: 1.0507\n",
            "Running Validation...\n"
          ]
        },
        {
          "data": {
            "application/vnd.jupyter.widget-view+json": {
              "model_id": "b825443891b2440bb94364b1e60d9dce",
              "version_major": 2,
              "version_minor": 0
            },
            "text/plain": [
              "  0%|          | 0/9 [00:00<?, ?it/s]"
            ]
          },
          "metadata": {},
          "output_type": "display_data"
        },
        {
          "name": "stdout",
          "output_type": "stream",
          "text": [
            "logits:    [5 0 2 0 1 1 4 0 5 3 4 0 1 0 0 0 0 1 0 4 3 1 3 2 1 2]\n",
            "labels_id: [1 4 2 4 2 1 4 2 3 3 4 3 1 3 0 0 0 5 5 2 4 1 3 2 1 5]\n",
            " Accuracy: 0.4583\n",
            " F1 score: 0.4269\n",
            "======== Epoch 241 / 500 ========\n",
            "Training...\n"
          ]
        },
        {
          "data": {
            "application/vnd.jupyter.widget-view+json": {
              "model_id": "fc104debb8984f619ba431d65312cb0f",
              "version_major": 2,
              "version_minor": 0
            },
            "text/plain": [
              "  0%|          | 0/104 [00:00<?, ?it/s]"
            ]
          },
          "metadata": {},
          "output_type": "display_data"
        },
        {
          "name": "stdout",
          "output_type": "stream",
          "text": [
            " Accuracy: 0.5903\n",
            " F1 score: 0.4813\n",
            " Average training loss: 1.0690\n",
            "Running Validation...\n"
          ]
        },
        {
          "data": {
            "application/vnd.jupyter.widget-view+json": {
              "model_id": "a9287d5ff4f949369df8ca842d71d9f7",
              "version_major": 2,
              "version_minor": 0
            },
            "text/plain": [
              "  0%|          | 0/9 [00:00<?, ?it/s]"
            ]
          },
          "metadata": {},
          "output_type": "display_data"
        },
        {
          "name": "stdout",
          "output_type": "stream",
          "text": [
            "logits:    [5 0 2 0 1 1 4 0 5 3 4 0 1 0 0 0 0 1 0 4 3 1 3 2 1 2]\n",
            "labels_id: [1 4 2 4 2 1 4 2 3 3 4 3 1 3 0 0 0 5 5 2 4 1 3 2 1 5]\n",
            " Accuracy: 0.4583\n",
            " F1 score: 0.4272\n",
            "======== Epoch 242 / 500 ========\n",
            "Training...\n"
          ]
        },
        {
          "data": {
            "application/vnd.jupyter.widget-view+json": {
              "model_id": "678b934f37414cca91ce3dc8ea984fc5",
              "version_major": 2,
              "version_minor": 0
            },
            "text/plain": [
              "  0%|          | 0/104 [00:00<?, ?it/s]"
            ]
          },
          "metadata": {},
          "output_type": "display_data"
        },
        {
          "name": "stdout",
          "output_type": "stream",
          "text": [
            " Accuracy: 0.6067\n",
            " F1 score: 0.4974\n",
            " Average training loss: 1.0568\n",
            "Running Validation...\n"
          ]
        },
        {
          "data": {
            "application/vnd.jupyter.widget-view+json": {
              "model_id": "338a8e133eee46c681f023d554930008",
              "version_major": 2,
              "version_minor": 0
            },
            "text/plain": [
              "  0%|          | 0/9 [00:00<?, ?it/s]"
            ]
          },
          "metadata": {},
          "output_type": "display_data"
        },
        {
          "name": "stdout",
          "output_type": "stream",
          "text": [
            "logits:    [5 0 2 0 1 1 4 0 5 3 4 0 1 0 0 0 0 1 0 4 3 1 3 2 1 2]\n",
            "labels_id: [1 4 2 4 2 1 4 2 3 3 4 3 1 3 0 0 0 5 5 2 4 1 3 2 1 5]\n",
            " Accuracy: 0.4583\n",
            " F1 score: 0.4271\n",
            "======== Epoch 243 / 500 ========\n",
            "Training...\n"
          ]
        },
        {
          "data": {
            "application/vnd.jupyter.widget-view+json": {
              "model_id": "7b0add605e79414289e8006c3c2b6f1f",
              "version_major": 2,
              "version_minor": 0
            },
            "text/plain": [
              "  0%|          | 0/104 [00:00<?, ?it/s]"
            ]
          },
          "metadata": {},
          "output_type": "display_data"
        },
        {
          "name": "stdout",
          "output_type": "stream",
          "text": [
            " Accuracy: 0.6022\n",
            " F1 score: 0.4904\n",
            " Average training loss: 1.0427\n",
            "Running Validation...\n"
          ]
        },
        {
          "data": {
            "application/vnd.jupyter.widget-view+json": {
              "model_id": "b75e2aa9da25499189f9d301b3743dfa",
              "version_major": 2,
              "version_minor": 0
            },
            "text/plain": [
              "  0%|          | 0/9 [00:00<?, ?it/s]"
            ]
          },
          "metadata": {},
          "output_type": "display_data"
        },
        {
          "name": "stdout",
          "output_type": "stream",
          "text": [
            "logits:    [5 0 2 0 1 1 4 0 5 3 4 0 1 0 0 0 0 1 0 4 3 1 3 2 1 2]\n",
            "labels_id: [1 4 2 4 2 1 4 2 3 3 4 3 1 3 0 0 0 5 5 2 4 1 3 2 1 5]\n",
            " Accuracy: 0.4601\n",
            " F1 score: 0.4285\n",
            "======== Epoch 244 / 500 ========\n",
            "Training...\n"
          ]
        },
        {
          "data": {
            "application/vnd.jupyter.widget-view+json": {
              "model_id": "056be1e7fe79437abb90bb6aef83eabc",
              "version_major": 2,
              "version_minor": 0
            },
            "text/plain": [
              "  0%|          | 0/104 [00:00<?, ?it/s]"
            ]
          },
          "metadata": {},
          "output_type": "display_data"
        },
        {
          "name": "stdout",
          "output_type": "stream",
          "text": [
            " Accuracy: 0.6029\n",
            " F1 score: 0.4882\n",
            " Average training loss: 1.0530\n",
            "Running Validation...\n"
          ]
        },
        {
          "data": {
            "application/vnd.jupyter.widget-view+json": {
              "model_id": "1136de4c1979492eab008ab2664dc32a",
              "version_major": 2,
              "version_minor": 0
            },
            "text/plain": [
              "  0%|          | 0/9 [00:00<?, ?it/s]"
            ]
          },
          "metadata": {},
          "output_type": "display_data"
        },
        {
          "name": "stdout",
          "output_type": "stream",
          "text": [
            "logits:    [5 0 2 0 1 1 4 0 5 3 4 0 1 0 0 0 0 1 0 4 3 1 3 2 1 2]\n",
            "labels_id: [1 4 2 4 2 1 4 2 3 3 4 3 1 3 0 0 0 5 5 2 4 1 3 2 1 5]\n",
            " Accuracy: 0.4653\n",
            " F1 score: 0.4346\n",
            "======== Epoch 245 / 500 ========\n",
            "Training...\n"
          ]
        },
        {
          "data": {
            "application/vnd.jupyter.widget-view+json": {
              "model_id": "fd10c94701324865b5585d957a477b8f",
              "version_major": 2,
              "version_minor": 0
            },
            "text/plain": [
              "  0%|          | 0/104 [00:00<?, ?it/s]"
            ]
          },
          "metadata": {},
          "output_type": "display_data"
        },
        {
          "name": "stdout",
          "output_type": "stream",
          "text": [
            " Accuracy: 0.5987\n",
            " F1 score: 0.4883\n",
            " Average training loss: 1.0541\n",
            "Running Validation...\n"
          ]
        },
        {
          "data": {
            "application/vnd.jupyter.widget-view+json": {
              "model_id": "fc39119645794e9a8575c722ede8b846",
              "version_major": 2,
              "version_minor": 0
            },
            "text/plain": [
              "  0%|          | 0/9 [00:00<?, ?it/s]"
            ]
          },
          "metadata": {},
          "output_type": "display_data"
        },
        {
          "name": "stdout",
          "output_type": "stream",
          "text": [
            "logits:    [5 0 2 0 1 1 4 0 5 3 4 0 1 0 0 0 0 1 0 4 3 1 3 2 1 2]\n",
            "labels_id: [1 4 2 4 2 1 4 2 3 3 4 3 1 3 0 0 0 5 5 2 4 1 3 2 1 5]\n",
            " Accuracy: 0.4618\n",
            " F1 score: 0.4305\n",
            "======== Epoch 246 / 500 ========\n",
            "Training...\n"
          ]
        },
        {
          "data": {
            "application/vnd.jupyter.widget-view+json": {
              "model_id": "9c8ea9e3ac3d44e49309f45060c79e04",
              "version_major": 2,
              "version_minor": 0
            },
            "text/plain": [
              "  0%|          | 0/104 [00:00<?, ?it/s]"
            ]
          },
          "metadata": {},
          "output_type": "display_data"
        },
        {
          "name": "stdout",
          "output_type": "stream",
          "text": [
            " Accuracy: 0.6034\n",
            " F1 score: 0.5040\n",
            " Average training loss: 1.0488\n",
            "Running Validation...\n"
          ]
        },
        {
          "data": {
            "application/vnd.jupyter.widget-view+json": {
              "model_id": "6cf9c38fec5448d78ef03972e9f79fff",
              "version_major": 2,
              "version_minor": 0
            },
            "text/plain": [
              "  0%|          | 0/9 [00:00<?, ?it/s]"
            ]
          },
          "metadata": {},
          "output_type": "display_data"
        },
        {
          "name": "stdout",
          "output_type": "stream",
          "text": [
            "logits:    [5 0 2 0 1 1 4 0 5 3 4 0 1 0 0 0 0 1 0 4 3 1 3 2 1 2]\n",
            "labels_id: [1 4 2 4 2 1 4 2 3 3 4 3 1 3 0 0 0 5 5 2 4 1 3 2 1 5]\n",
            " Accuracy: 0.4601\n",
            " F1 score: 0.4285\n",
            "======== Epoch 247 / 500 ========\n",
            "Training...\n"
          ]
        },
        {
          "data": {
            "application/vnd.jupyter.widget-view+json": {
              "model_id": "23f961e3b5f04faabf4b419b44e03374",
              "version_major": 2,
              "version_minor": 0
            },
            "text/plain": [
              "  0%|          | 0/104 [00:00<?, ?it/s]"
            ]
          },
          "metadata": {},
          "output_type": "display_data"
        },
        {
          "name": "stdout",
          "output_type": "stream",
          "text": [
            " Accuracy: 0.6078\n",
            " F1 score: 0.4999\n",
            " Average training loss: 1.0437\n",
            "Running Validation...\n"
          ]
        },
        {
          "data": {
            "application/vnd.jupyter.widget-view+json": {
              "model_id": "c3090bcba2e74340a5a30f5360804fe4",
              "version_major": 2,
              "version_minor": 0
            },
            "text/plain": [
              "  0%|          | 0/9 [00:00<?, ?it/s]"
            ]
          },
          "metadata": {},
          "output_type": "display_data"
        },
        {
          "name": "stdout",
          "output_type": "stream",
          "text": [
            "logits:    [5 0 2 0 1 1 4 0 5 3 4 0 1 0 0 0 0 1 0 4 3 1 3 2 1 2]\n",
            "labels_id: [1 4 2 4 2 1 4 2 3 3 4 3 1 3 0 0 0 5 5 2 4 1 3 2 1 5]\n",
            " Accuracy: 0.4670\n",
            " F1 score: 0.4359\n",
            "======== Epoch 248 / 500 ========\n",
            "Training...\n"
          ]
        },
        {
          "data": {
            "application/vnd.jupyter.widget-view+json": {
              "model_id": "2820931e94e54b80989dffbfc1b8b5ab",
              "version_major": 2,
              "version_minor": 0
            },
            "text/plain": [
              "  0%|          | 0/104 [00:00<?, ?it/s]"
            ]
          },
          "metadata": {},
          "output_type": "display_data"
        },
        {
          "name": "stdout",
          "output_type": "stream",
          "text": [
            " Accuracy: 0.6074\n",
            " F1 score: 0.4947\n",
            " Average training loss: 1.0455\n",
            "Running Validation...\n"
          ]
        },
        {
          "data": {
            "application/vnd.jupyter.widget-view+json": {
              "model_id": "d83463a6aa434a78811c63b7d1bf8baf",
              "version_major": 2,
              "version_minor": 0
            },
            "text/plain": [
              "  0%|          | 0/9 [00:00<?, ?it/s]"
            ]
          },
          "metadata": {},
          "output_type": "display_data"
        },
        {
          "name": "stdout",
          "output_type": "stream",
          "text": [
            "logits:    [5 0 2 0 1 1 4 0 5 3 4 0 1 0 0 0 0 1 0 4 3 1 3 2 1 2]\n",
            "labels_id: [1 4 2 4 2 1 4 2 3 3 4 3 1 3 0 0 0 5 5 2 4 1 3 2 1 5]\n",
            " Accuracy: 0.4635\n",
            " F1 score: 0.4323\n",
            "======== Epoch 249 / 500 ========\n",
            "Training...\n"
          ]
        },
        {
          "data": {
            "application/vnd.jupyter.widget-view+json": {
              "model_id": "da6c7d4554c04a66b86943c63d3ea3ad",
              "version_major": 2,
              "version_minor": 0
            },
            "text/plain": [
              "  0%|          | 0/104 [00:00<?, ?it/s]"
            ]
          },
          "metadata": {},
          "output_type": "display_data"
        },
        {
          "name": "stdout",
          "output_type": "stream",
          "text": [
            " Accuracy: 0.6068\n",
            " F1 score: 0.4942\n",
            " Average training loss: 1.0462\n",
            "Running Validation...\n"
          ]
        },
        {
          "data": {
            "application/vnd.jupyter.widget-view+json": {
              "model_id": "b43952570f584100a1d27220582630ab",
              "version_major": 2,
              "version_minor": 0
            },
            "text/plain": [
              "  0%|          | 0/9 [00:00<?, ?it/s]"
            ]
          },
          "metadata": {},
          "output_type": "display_data"
        },
        {
          "name": "stdout",
          "output_type": "stream",
          "text": [
            "logits:    [5 0 2 0 1 1 4 0 5 3 4 3 1 0 0 0 0 1 0 4 3 1 3 2 1 2]\n",
            "labels_id: [1 4 2 4 2 1 4 2 3 3 4 3 1 3 0 0 0 5 5 2 4 1 3 2 1 5]\n",
            " Accuracy: 0.4678\n",
            " F1 score: 0.4363\n",
            "======== Epoch 250 / 500 ========\n",
            "Training...\n"
          ]
        },
        {
          "data": {
            "application/vnd.jupyter.widget-view+json": {
              "model_id": "d74d3c4f4d2b4a859dcbd0cbf5fcaa4e",
              "version_major": 2,
              "version_minor": 0
            },
            "text/plain": [
              "  0%|          | 0/104 [00:00<?, ?it/s]"
            ]
          },
          "metadata": {},
          "output_type": "display_data"
        },
        {
          "name": "stdout",
          "output_type": "stream",
          "text": [
            " Accuracy: 0.6102\n",
            " F1 score: 0.5063\n",
            " Average training loss: 1.0319\n",
            "Running Validation...\n"
          ]
        },
        {
          "data": {
            "application/vnd.jupyter.widget-view+json": {
              "model_id": "39848fa7d3d44578bc13ceb5299e7bf4",
              "version_major": 2,
              "version_minor": 0
            },
            "text/plain": [
              "  0%|          | 0/9 [00:00<?, ?it/s]"
            ]
          },
          "metadata": {},
          "output_type": "display_data"
        },
        {
          "name": "stdout",
          "output_type": "stream",
          "text": [
            "logits:    [5 0 2 0 1 1 4 0 5 3 4 3 1 0 0 0 0 1 0 4 3 1 3 2 1 2]\n",
            "labels_id: [1 4 2 4 2 1 4 2 3 3 4 3 1 3 0 0 0 5 5 2 4 1 3 2 1 5]\n",
            " Accuracy: 0.4713\n",
            " F1 score: 0.4405\n",
            "======== Epoch 251 / 500 ========\n",
            "Training...\n"
          ]
        },
        {
          "data": {
            "application/vnd.jupyter.widget-view+json": {
              "model_id": "0123b6e7020944138e0a6c4d6240c9b1",
              "version_major": 2,
              "version_minor": 0
            },
            "text/plain": [
              "  0%|          | 0/104 [00:00<?, ?it/s]"
            ]
          },
          "metadata": {},
          "output_type": "display_data"
        },
        {
          "name": "stdout",
          "output_type": "stream",
          "text": [
            " Accuracy: 0.6065\n",
            " F1 score: 0.5019\n",
            " Average training loss: 1.0448\n",
            "Running Validation...\n"
          ]
        },
        {
          "data": {
            "application/vnd.jupyter.widget-view+json": {
              "model_id": "fda7e9012ce1484ea66fa45205ef56f9",
              "version_major": 2,
              "version_minor": 0
            },
            "text/plain": [
              "  0%|          | 0/9 [00:00<?, ?it/s]"
            ]
          },
          "metadata": {},
          "output_type": "display_data"
        },
        {
          "name": "stdout",
          "output_type": "stream",
          "text": [
            "logits:    [5 0 2 0 1 1 4 0 5 3 4 3 1 0 0 0 0 1 0 4 3 1 3 2 1 2]\n",
            "labels_id: [1 4 2 4 2 1 4 2 3 3 4 3 1 3 0 0 0 5 5 2 4 1 3 2 1 5]\n",
            " Accuracy: 0.4713\n",
            " F1 score: 0.4399\n",
            "======== Epoch 252 / 500 ========\n",
            "Training...\n"
          ]
        },
        {
          "data": {
            "application/vnd.jupyter.widget-view+json": {
              "model_id": "f59d1fdf73df46359ccbfff9178b4593",
              "version_major": 2,
              "version_minor": 0
            },
            "text/plain": [
              "  0%|          | 0/104 [00:00<?, ?it/s]"
            ]
          },
          "metadata": {},
          "output_type": "display_data"
        },
        {
          "name": "stdout",
          "output_type": "stream",
          "text": [
            " Accuracy: 0.6089\n",
            " F1 score: 0.5030\n",
            " Average training loss: 1.0394\n",
            "Running Validation...\n"
          ]
        },
        {
          "data": {
            "application/vnd.jupyter.widget-view+json": {
              "model_id": "78e80ee7e9b945fbae09a9a8ead2db54",
              "version_major": 2,
              "version_minor": 0
            },
            "text/plain": [
              "  0%|          | 0/9 [00:00<?, ?it/s]"
            ]
          },
          "metadata": {},
          "output_type": "display_data"
        },
        {
          "name": "stdout",
          "output_type": "stream",
          "text": [
            "logits:    [5 0 2 0 1 1 4 0 5 3 4 3 1 0 0 0 0 1 0 4 3 1 3 2 1 2]\n",
            "labels_id: [1 4 2 4 2 1 4 2 3 3 4 3 1 3 0 0 0 5 5 2 4 1 3 2 1 5]\n",
            " Accuracy: 0.4696\n",
            " F1 score: 0.4379\n",
            "======== Epoch 253 / 500 ========\n",
            "Training...\n"
          ]
        },
        {
          "data": {
            "application/vnd.jupyter.widget-view+json": {
              "model_id": "7475f47361524551adbd4139d7c4a956",
              "version_major": 2,
              "version_minor": 0
            },
            "text/plain": [
              "  0%|          | 0/104 [00:00<?, ?it/s]"
            ]
          },
          "metadata": {},
          "output_type": "display_data"
        },
        {
          "name": "stdout",
          "output_type": "stream",
          "text": [
            " Accuracy: 0.6107\n",
            " F1 score: 0.5051\n",
            " Average training loss: 1.0326\n",
            "Running Validation...\n"
          ]
        },
        {
          "data": {
            "application/vnd.jupyter.widget-view+json": {
              "model_id": "0c6ffbc73dd2493a921fe2b76b3ea559",
              "version_major": 2,
              "version_minor": 0
            },
            "text/plain": [
              "  0%|          | 0/9 [00:00<?, ?it/s]"
            ]
          },
          "metadata": {},
          "output_type": "display_data"
        },
        {
          "name": "stdout",
          "output_type": "stream",
          "text": [
            "logits:    [5 0 2 0 1 1 4 0 5 3 4 3 1 0 0 0 0 1 0 4 3 1 3 2 1 2]\n",
            "labels_id: [1 4 2 4 2 1 4 2 3 3 4 3 1 3 0 0 0 5 5 2 4 1 3 2 1 5]\n",
            " Accuracy: 0.4696\n",
            " F1 score: 0.4380\n",
            "======== Epoch 254 / 500 ========\n",
            "Training...\n"
          ]
        },
        {
          "data": {
            "application/vnd.jupyter.widget-view+json": {
              "model_id": "549478dacb26459b93dca5f6f038790c",
              "version_major": 2,
              "version_minor": 0
            },
            "text/plain": [
              "  0%|          | 0/104 [00:00<?, ?it/s]"
            ]
          },
          "metadata": {},
          "output_type": "display_data"
        },
        {
          "name": "stdout",
          "output_type": "stream",
          "text": [
            " Accuracy: 0.6124\n",
            " F1 score: 0.5017\n",
            " Average training loss: 1.0247\n",
            "Running Validation...\n"
          ]
        },
        {
          "data": {
            "application/vnd.jupyter.widget-view+json": {
              "model_id": "bc9c1025f010473b939fe340971f37b0",
              "version_major": 2,
              "version_minor": 0
            },
            "text/plain": [
              "  0%|          | 0/9 [00:00<?, ?it/s]"
            ]
          },
          "metadata": {},
          "output_type": "display_data"
        },
        {
          "name": "stdout",
          "output_type": "stream",
          "text": [
            "logits:    [5 0 2 0 1 1 4 0 5 3 4 3 1 0 0 0 0 1 0 4 3 1 3 2 1 2]\n",
            "labels_id: [1 4 2 4 2 1 4 2 3 3 4 3 1 3 0 0 0 5 5 2 4 1 3 2 1 5]\n",
            " Accuracy: 0.4748\n",
            " F1 score: 0.4439\n",
            "======== Epoch 255 / 500 ========\n",
            "Training...\n"
          ]
        },
        {
          "data": {
            "application/vnd.jupyter.widget-view+json": {
              "model_id": "1cb1a376ab2944c99212fa1e25e58f13",
              "version_major": 2,
              "version_minor": 0
            },
            "text/plain": [
              "  0%|          | 0/104 [00:00<?, ?it/s]"
            ]
          },
          "metadata": {},
          "output_type": "display_data"
        },
        {
          "name": "stdout",
          "output_type": "stream",
          "text": [
            " Accuracy: 0.6117\n",
            " F1 score: 0.5028\n",
            " Average training loss: 1.0375\n",
            "Running Validation...\n"
          ]
        },
        {
          "data": {
            "application/vnd.jupyter.widget-view+json": {
              "model_id": "ad30d58a0744431c8cdec45bf381e2a5",
              "version_major": 2,
              "version_minor": 0
            },
            "text/plain": [
              "  0%|          | 0/9 [00:00<?, ?it/s]"
            ]
          },
          "metadata": {},
          "output_type": "display_data"
        },
        {
          "name": "stdout",
          "output_type": "stream",
          "text": [
            "logits:    [5 0 2 0 1 1 4 0 5 3 4 3 1 0 0 0 0 1 0 4 3 1 3 2 1 2]\n",
            "labels_id: [1 4 2 4 2 1 4 2 3 3 4 3 1 3 0 0 0 5 5 2 4 1 3 2 1 5]\n",
            " Accuracy: 0.4748\n",
            " F1 score: 0.4439\n",
            "======== Epoch 256 / 500 ========\n",
            "Training...\n"
          ]
        },
        {
          "data": {
            "application/vnd.jupyter.widget-view+json": {
              "model_id": "28947aa07e054a2e88371dc1afae5fa5",
              "version_major": 2,
              "version_minor": 0
            },
            "text/plain": [
              "  0%|          | 0/104 [00:00<?, ?it/s]"
            ]
          },
          "metadata": {},
          "output_type": "display_data"
        },
        {
          "name": "stdout",
          "output_type": "stream",
          "text": [
            " Accuracy: 0.6054\n",
            " F1 score: 0.4993\n",
            " Average training loss: 1.0370\n",
            "Running Validation...\n"
          ]
        },
        {
          "data": {
            "application/vnd.jupyter.widget-view+json": {
              "model_id": "2db7bbdaeb5045b98dcf511883eea163",
              "version_major": 2,
              "version_minor": 0
            },
            "text/plain": [
              "  0%|          | 0/9 [00:00<?, ?it/s]"
            ]
          },
          "metadata": {},
          "output_type": "display_data"
        },
        {
          "name": "stdout",
          "output_type": "stream",
          "text": [
            "logits:    [5 0 2 0 1 1 4 0 5 3 4 3 1 0 0 0 0 1 0 4 3 1 3 2 1 2]\n",
            "labels_id: [1 4 2 4 2 1 4 2 3 3 4 3 1 3 0 0 0 5 5 2 4 1 3 2 1 5]\n",
            " Accuracy: 0.4730\n",
            " F1 score: 0.4417\n",
            "======== Epoch 257 / 500 ========\n",
            "Training...\n"
          ]
        },
        {
          "data": {
            "application/vnd.jupyter.widget-view+json": {
              "model_id": "b59ba0d1dd60415ea68a98694256424c",
              "version_major": 2,
              "version_minor": 0
            },
            "text/plain": [
              "  0%|          | 0/104 [00:00<?, ?it/s]"
            ]
          },
          "metadata": {},
          "output_type": "display_data"
        },
        {
          "name": "stdout",
          "output_type": "stream",
          "text": [
            " Accuracy: 0.6105\n",
            " F1 score: 0.5063\n",
            " Average training loss: 1.0235\n",
            "Running Validation...\n"
          ]
        },
        {
          "data": {
            "application/vnd.jupyter.widget-view+json": {
              "model_id": "b81b1cc970fa4cac8ef8c79510a2e154",
              "version_major": 2,
              "version_minor": 0
            },
            "text/plain": [
              "  0%|          | 0/9 [00:00<?, ?it/s]"
            ]
          },
          "metadata": {},
          "output_type": "display_data"
        },
        {
          "name": "stdout",
          "output_type": "stream",
          "text": [
            "logits:    [5 0 2 0 1 1 4 0 5 3 4 3 1 0 0 0 0 1 0 4 3 1 3 2 1 2]\n",
            "labels_id: [1 4 2 4 2 1 4 2 3 3 4 3 1 3 0 0 0 5 5 2 4 1 3 2 1 5]\n",
            " Accuracy: 0.4730\n",
            " F1 score: 0.4418\n",
            "======== Epoch 258 / 500 ========\n",
            "Training...\n"
          ]
        },
        {
          "data": {
            "application/vnd.jupyter.widget-view+json": {
              "model_id": "926f1dbc421f4875a7368510843e3cf1",
              "version_major": 2,
              "version_minor": 0
            },
            "text/plain": [
              "  0%|          | 0/104 [00:00<?, ?it/s]"
            ]
          },
          "metadata": {},
          "output_type": "display_data"
        },
        {
          "name": "stdout",
          "output_type": "stream",
          "text": [
            " Accuracy: 0.6180\n",
            " F1 score: 0.5067\n",
            " Average training loss: 1.0239\n",
            "Running Validation...\n"
          ]
        },
        {
          "data": {
            "application/vnd.jupyter.widget-view+json": {
              "model_id": "a771a272c55e402296bb7f63bfee741c",
              "version_major": 2,
              "version_minor": 0
            },
            "text/plain": [
              "  0%|          | 0/9 [00:00<?, ?it/s]"
            ]
          },
          "metadata": {},
          "output_type": "display_data"
        },
        {
          "name": "stdout",
          "output_type": "stream",
          "text": [
            "logits:    [5 0 2 0 1 1 4 0 5 3 4 3 1 0 0 0 0 1 0 4 3 1 3 2 1 2]\n",
            "labels_id: [1 4 2 4 2 1 4 2 3 3 4 3 1 3 0 0 0 5 5 2 4 1 3 2 1 5]\n",
            " Accuracy: 0.4765\n",
            " F1 score: 0.4465\n",
            "======== Epoch 259 / 500 ========\n",
            "Training...\n"
          ]
        },
        {
          "data": {
            "application/vnd.jupyter.widget-view+json": {
              "model_id": "306435e0076a4eb3b0cfded643e6a3e0",
              "version_major": 2,
              "version_minor": 0
            },
            "text/plain": [
              "  0%|          | 0/104 [00:00<?, ?it/s]"
            ]
          },
          "metadata": {},
          "output_type": "display_data"
        },
        {
          "name": "stdout",
          "output_type": "stream",
          "text": [
            " Accuracy: 0.6148\n",
            " F1 score: 0.5083\n",
            " Average training loss: 1.0260\n",
            "Running Validation...\n"
          ]
        },
        {
          "data": {
            "application/vnd.jupyter.widget-view+json": {
              "model_id": "5c938d2a1fb54376b68dc02ce6cc7ea0",
              "version_major": 2,
              "version_minor": 0
            },
            "text/plain": [
              "  0%|          | 0/9 [00:00<?, ?it/s]"
            ]
          },
          "metadata": {},
          "output_type": "display_data"
        },
        {
          "name": "stdout",
          "output_type": "stream",
          "text": [
            "logits:    [5 0 2 0 1 1 4 0 5 3 4 3 1 0 0 0 0 1 0 4 3 1 3 2 1 2]\n",
            "labels_id: [1 4 2 4 2 1 4 2 3 3 4 3 1 3 0 0 0 5 5 2 4 1 3 2 1 5]\n",
            " Accuracy: 0.4748\n",
            " F1 score: 0.4436\n",
            "======== Epoch 260 / 500 ========\n",
            "Training...\n"
          ]
        },
        {
          "data": {
            "application/vnd.jupyter.widget-view+json": {
              "model_id": "4cc781579aa04b2c8c45bb10e03e4364",
              "version_major": 2,
              "version_minor": 0
            },
            "text/plain": [
              "  0%|          | 0/104 [00:00<?, ?it/s]"
            ]
          },
          "metadata": {},
          "output_type": "display_data"
        },
        {
          "name": "stdout",
          "output_type": "stream",
          "text": [
            " Accuracy: 0.6142\n",
            " F1 score: 0.5085\n",
            " Average training loss: 1.0237\n",
            "Running Validation...\n"
          ]
        },
        {
          "data": {
            "application/vnd.jupyter.widget-view+json": {
              "model_id": "bdb2d38c2231496ab92c91583932f95d",
              "version_major": 2,
              "version_minor": 0
            },
            "text/plain": [
              "  0%|          | 0/9 [00:00<?, ?it/s]"
            ]
          },
          "metadata": {},
          "output_type": "display_data"
        },
        {
          "name": "stdout",
          "output_type": "stream",
          "text": [
            "logits:    [5 0 2 0 1 1 4 0 5 3 4 3 1 0 0 0 0 1 0 4 3 1 3 2 1 2]\n",
            "labels_id: [1 4 2 4 2 1 4 2 3 3 4 3 1 3 0 0 0 5 5 2 4 1 3 2 1 5]\n",
            " Accuracy: 0.4730\n",
            " F1 score: 0.4418\n",
            "======== Epoch 261 / 500 ========\n",
            "Training...\n"
          ]
        },
        {
          "data": {
            "application/vnd.jupyter.widget-view+json": {
              "model_id": "62bfef555b0a422b996d2f56bb8b6be1",
              "version_major": 2,
              "version_minor": 0
            },
            "text/plain": [
              "  0%|          | 0/104 [00:00<?, ?it/s]"
            ]
          },
          "metadata": {},
          "output_type": "display_data"
        },
        {
          "name": "stdout",
          "output_type": "stream",
          "text": [
            " Accuracy: 0.6200\n",
            " F1 score: 0.5109\n",
            " Average training loss: 1.0160\n",
            "Running Validation...\n"
          ]
        },
        {
          "data": {
            "application/vnd.jupyter.widget-view+json": {
              "model_id": "bb87f53953344d7aad20c57a005f158f",
              "version_major": 2,
              "version_minor": 0
            },
            "text/plain": [
              "  0%|          | 0/9 [00:00<?, ?it/s]"
            ]
          },
          "metadata": {},
          "output_type": "display_data"
        },
        {
          "name": "stdout",
          "output_type": "stream",
          "text": [
            "logits:    [5 0 2 0 1 1 4 0 5 3 4 3 1 0 0 0 0 1 0 4 3 1 3 2 1 2]\n",
            "labels_id: [1 4 2 4 2 1 4 2 3 3 4 3 1 3 0 0 0 5 5 2 4 1 3 2 1 5]\n",
            " Accuracy: 0.4748\n",
            " F1 score: 0.4437\n",
            "======== Epoch 262 / 500 ========\n",
            "Training...\n"
          ]
        },
        {
          "data": {
            "application/vnd.jupyter.widget-view+json": {
              "model_id": "1a0455af3238401b99cd24a96489d448",
              "version_major": 2,
              "version_minor": 0
            },
            "text/plain": [
              "  0%|          | 0/104 [00:00<?, ?it/s]"
            ]
          },
          "metadata": {},
          "output_type": "display_data"
        },
        {
          "name": "stdout",
          "output_type": "stream",
          "text": [
            " Accuracy: 0.6161\n",
            " F1 score: 0.5049\n",
            " Average training loss: 1.0203\n",
            "Running Validation...\n"
          ]
        },
        {
          "data": {
            "application/vnd.jupyter.widget-view+json": {
              "model_id": "a83ea32c6f2c41b3b63db73d2eeab350",
              "version_major": 2,
              "version_minor": 0
            },
            "text/plain": [
              "  0%|          | 0/9 [00:00<?, ?it/s]"
            ]
          },
          "metadata": {},
          "output_type": "display_data"
        },
        {
          "name": "stdout",
          "output_type": "stream",
          "text": [
            "logits:    [5 0 2 0 1 1 4 0 5 3 4 3 1 0 0 0 0 1 0 4 3 1 3 2 1 2]\n",
            "labels_id: [1 4 2 4 2 1 4 2 3 3 4 3 1 3 0 0 0 5 5 2 4 1 3 2 1 5]\n",
            " Accuracy: 0.4765\n",
            " F1 score: 0.4460\n",
            "======== Epoch 263 / 500 ========\n",
            "Training...\n"
          ]
        },
        {
          "data": {
            "application/vnd.jupyter.widget-view+json": {
              "model_id": "7ec0eeed89954715b192ea53693c6555",
              "version_major": 2,
              "version_minor": 0
            },
            "text/plain": [
              "  0%|          | 0/104 [00:00<?, ?it/s]"
            ]
          },
          "metadata": {},
          "output_type": "display_data"
        },
        {
          "name": "stdout",
          "output_type": "stream",
          "text": [
            " Accuracy: 0.6118\n",
            " F1 score: 0.5077\n",
            " Average training loss: 1.0237\n",
            "Running Validation...\n"
          ]
        },
        {
          "data": {
            "application/vnd.jupyter.widget-view+json": {
              "model_id": "3b7ed07a051846609945f0e6a6ff726f",
              "version_major": 2,
              "version_minor": 0
            },
            "text/plain": [
              "  0%|          | 0/9 [00:00<?, ?it/s]"
            ]
          },
          "metadata": {},
          "output_type": "display_data"
        },
        {
          "name": "stdout",
          "output_type": "stream",
          "text": [
            "logits:    [5 0 2 0 1 1 4 0 5 3 4 3 1 0 0 0 0 1 0 4 3 1 3 2 1 2]\n",
            "labels_id: [1 4 2 4 2 1 4 2 3 3 4 3 1 3 0 0 0 5 5 2 4 1 3 2 1 5]\n",
            " Accuracy: 0.4782\n",
            " F1 score: 0.4484\n",
            "======== Epoch 264 / 500 ========\n",
            "Training...\n"
          ]
        },
        {
          "data": {
            "application/vnd.jupyter.widget-view+json": {
              "model_id": "5f58fd44c5c34ef6800a2fc24fbbe756",
              "version_major": 2,
              "version_minor": 0
            },
            "text/plain": [
              "  0%|          | 0/104 [00:00<?, ?it/s]"
            ]
          },
          "metadata": {},
          "output_type": "display_data"
        },
        {
          "name": "stdout",
          "output_type": "stream",
          "text": [
            " Accuracy: 0.6203\n",
            " F1 score: 0.5159\n",
            " Average training loss: 1.0141\n",
            "Running Validation...\n"
          ]
        },
        {
          "data": {
            "application/vnd.jupyter.widget-view+json": {
              "model_id": "ac77b62c97ce4a2fa1e988f4e1a367c8",
              "version_major": 2,
              "version_minor": 0
            },
            "text/plain": [
              "  0%|          | 0/9 [00:00<?, ?it/s]"
            ]
          },
          "metadata": {},
          "output_type": "display_data"
        },
        {
          "name": "stdout",
          "output_type": "stream",
          "text": [
            "logits:    [5 0 2 0 1 1 4 0 5 3 4 3 1 0 0 0 0 1 0 4 3 1 3 2 1 2]\n",
            "labels_id: [1 4 2 4 2 1 4 2 3 3 4 3 1 3 0 0 0 5 5 2 4 1 3 2 1 5]\n",
            " Accuracy: 0.4765\n",
            " F1 score: 0.4454\n",
            "======== Epoch 265 / 500 ========\n",
            "Training...\n"
          ]
        },
        {
          "data": {
            "application/vnd.jupyter.widget-view+json": {
              "model_id": "747292c5237642998a32ba528c0d7fb5",
              "version_major": 2,
              "version_minor": 0
            },
            "text/plain": [
              "  0%|          | 0/104 [00:00<?, ?it/s]"
            ]
          },
          "metadata": {},
          "output_type": "display_data"
        },
        {
          "name": "stdout",
          "output_type": "stream",
          "text": [
            " Accuracy: 0.6195\n",
            " F1 score: 0.5149\n",
            " Average training loss: 1.0143\n",
            "Running Validation...\n"
          ]
        },
        {
          "data": {
            "application/vnd.jupyter.widget-view+json": {
              "model_id": "584150b1ef514a5b99b100d8a65d3f76",
              "version_major": 2,
              "version_minor": 0
            },
            "text/plain": [
              "  0%|          | 0/9 [00:00<?, ?it/s]"
            ]
          },
          "metadata": {},
          "output_type": "display_data"
        },
        {
          "name": "stdout",
          "output_type": "stream",
          "text": [
            "logits:    [5 0 2 0 1 1 4 0 5 3 4 3 1 0 0 0 0 1 0 4 3 1 3 2 1 2]\n",
            "labels_id: [1 4 2 4 2 1 4 2 3 3 4 3 1 3 0 0 0 5 5 2 4 1 3 2 1 5]\n",
            " Accuracy: 0.4782\n",
            " F1 score: 0.4497\n",
            "======== Epoch 266 / 500 ========\n",
            "Training...\n"
          ]
        },
        {
          "data": {
            "application/vnd.jupyter.widget-view+json": {
              "model_id": "9936aa2c4a064b41ac1d663d7b4e936d",
              "version_major": 2,
              "version_minor": 0
            },
            "text/plain": [
              "  0%|          | 0/104 [00:00<?, ?it/s]"
            ]
          },
          "metadata": {},
          "output_type": "display_data"
        },
        {
          "name": "stdout",
          "output_type": "stream",
          "text": [
            " Accuracy: 0.6218\n",
            " F1 score: 0.5124\n",
            " Average training loss: 1.0158\n",
            "Running Validation...\n"
          ]
        },
        {
          "data": {
            "application/vnd.jupyter.widget-view+json": {
              "model_id": "70d515ef3783443b9a226c90c691ad11",
              "version_major": 2,
              "version_minor": 0
            },
            "text/plain": [
              "  0%|          | 0/9 [00:00<?, ?it/s]"
            ]
          },
          "metadata": {},
          "output_type": "display_data"
        },
        {
          "name": "stdout",
          "output_type": "stream",
          "text": [
            "logits:    [5 0 2 0 1 1 4 0 5 3 4 3 1 0 0 0 0 1 0 4 3 1 3 2 1 2]\n",
            "labels_id: [1 4 2 4 2 1 4 2 3 3 4 3 1 3 0 0 0 5 5 2 4 1 3 2 1 5]\n",
            " Accuracy: 0.4782\n",
            " F1 score: 0.4497\n",
            "======== Epoch 267 / 500 ========\n",
            "Training...\n"
          ]
        },
        {
          "data": {
            "application/vnd.jupyter.widget-view+json": {
              "model_id": "9f4de1e4a1bf4b8b9832815d4ad23b58",
              "version_major": 2,
              "version_minor": 0
            },
            "text/plain": [
              "  0%|          | 0/104 [00:00<?, ?it/s]"
            ]
          },
          "metadata": {},
          "output_type": "display_data"
        },
        {
          "name": "stdout",
          "output_type": "stream",
          "text": [
            " Accuracy: 0.6150\n",
            " F1 score: 0.5145\n",
            " Average training loss: 1.0165\n",
            "Running Validation...\n"
          ]
        },
        {
          "data": {
            "application/vnd.jupyter.widget-view+json": {
              "model_id": "4d5bce5071e5432c8b72a679b22f6d65",
              "version_major": 2,
              "version_minor": 0
            },
            "text/plain": [
              "  0%|          | 0/9 [00:00<?, ?it/s]"
            ]
          },
          "metadata": {},
          "output_type": "display_data"
        },
        {
          "name": "stdout",
          "output_type": "stream",
          "text": [
            "logits:    [5 0 2 0 1 1 4 0 5 3 4 3 1 0 0 0 0 1 0 4 3 1 3 2 1 2]\n",
            "labels_id: [1 4 2 4 2 1 4 2 3 3 4 3 1 3 0 0 0 5 5 2 4 1 3 2 1 5]\n",
            " Accuracy: 0.4782\n",
            " F1 score: 0.4493\n",
            "======== Epoch 268 / 500 ========\n",
            "Training...\n"
          ]
        },
        {
          "data": {
            "application/vnd.jupyter.widget-view+json": {
              "model_id": "2f6ab1641ece41ab9770f588fd117640",
              "version_major": 2,
              "version_minor": 0
            },
            "text/plain": [
              "  0%|          | 0/104 [00:00<?, ?it/s]"
            ]
          },
          "metadata": {},
          "output_type": "display_data"
        },
        {
          "name": "stdout",
          "output_type": "stream",
          "text": [
            " Accuracy: 0.6215\n",
            " F1 score: 0.5144\n",
            " Average training loss: 1.0127\n",
            "Running Validation...\n"
          ]
        },
        {
          "data": {
            "application/vnd.jupyter.widget-view+json": {
              "model_id": "f12ff39b4aeb4a228fd277ad21e72b5e",
              "version_major": 2,
              "version_minor": 0
            },
            "text/plain": [
              "  0%|          | 0/9 [00:00<?, ?it/s]"
            ]
          },
          "metadata": {},
          "output_type": "display_data"
        },
        {
          "name": "stdout",
          "output_type": "stream",
          "text": [
            "logits:    [5 0 2 0 1 1 4 0 5 3 4 3 1 0 0 0 0 1 0 4 3 1 3 2 1 2]\n",
            "labels_id: [1 4 2 4 2 1 4 2 3 3 4 3 1 3 0 0 0 5 5 2 4 1 3 2 1 5]\n",
            " Accuracy: 0.4782\n",
            " F1 score: 0.4482\n",
            "======== Epoch 269 / 500 ========\n",
            "Training...\n"
          ]
        },
        {
          "data": {
            "application/vnd.jupyter.widget-view+json": {
              "model_id": "ccbe832de18e4a43af166841d2a585af",
              "version_major": 2,
              "version_minor": 0
            },
            "text/plain": [
              "  0%|          | 0/104 [00:00<?, ?it/s]"
            ]
          },
          "metadata": {},
          "output_type": "display_data"
        },
        {
          "name": "stdout",
          "output_type": "stream",
          "text": [
            " Accuracy: 0.6300\n",
            " F1 score: 0.5229\n",
            " Average training loss: 1.0063\n",
            "Running Validation...\n"
          ]
        },
        {
          "data": {
            "application/vnd.jupyter.widget-view+json": {
              "model_id": "0cd71fdfbb91484296e16d47f4b28dca",
              "version_major": 2,
              "version_minor": 0
            },
            "text/plain": [
              "  0%|          | 0/9 [00:00<?, ?it/s]"
            ]
          },
          "metadata": {},
          "output_type": "display_data"
        },
        {
          "name": "stdout",
          "output_type": "stream",
          "text": [
            "logits:    [5 0 2 0 1 1 4 0 5 3 4 3 1 0 0 0 0 1 0 4 3 1 3 2 1 2]\n",
            "labels_id: [1 4 2 4 2 1 4 2 3 3 4 3 1 3 0 0 0 5 5 2 4 1 3 2 1 5]\n",
            " Accuracy: 0.4782\n",
            " F1 score: 0.4492\n",
            "======== Epoch 270 / 500 ========\n",
            "Training...\n"
          ]
        },
        {
          "data": {
            "application/vnd.jupyter.widget-view+json": {
              "model_id": "f7327f19dc2b4ed7844a7b3d8815f399",
              "version_major": 2,
              "version_minor": 0
            },
            "text/plain": [
              "  0%|          | 0/104 [00:00<?, ?it/s]"
            ]
          },
          "metadata": {},
          "output_type": "display_data"
        },
        {
          "name": "stdout",
          "output_type": "stream",
          "text": [
            " Accuracy: 0.6188\n",
            " F1 score: 0.5163\n",
            " Average training loss: 1.0147\n",
            "Running Validation...\n"
          ]
        },
        {
          "data": {
            "application/vnd.jupyter.widget-view+json": {
              "model_id": "f607ed4e528f45c09b4b04013c0d958d",
              "version_major": 2,
              "version_minor": 0
            },
            "text/plain": [
              "  0%|          | 0/9 [00:00<?, ?it/s]"
            ]
          },
          "metadata": {},
          "output_type": "display_data"
        },
        {
          "name": "stdout",
          "output_type": "stream",
          "text": [
            "logits:    [5 0 2 0 1 1 4 0 5 3 4 3 1 0 0 0 0 1 0 4 3 1 3 2 1 2]\n",
            "labels_id: [1 4 2 4 2 1 4 2 3 3 4 3 1 3 0 0 0 5 5 2 4 1 3 2 1 5]\n",
            " Accuracy: 0.4782\n",
            " F1 score: 0.4482\n",
            "======== Epoch 271 / 500 ========\n",
            "Training...\n"
          ]
        },
        {
          "data": {
            "application/vnd.jupyter.widget-view+json": {
              "model_id": "271c2b85c8314d2689e14ea4810387da",
              "version_major": 2,
              "version_minor": 0
            },
            "text/plain": [
              "  0%|          | 0/104 [00:00<?, ?it/s]"
            ]
          },
          "metadata": {},
          "output_type": "display_data"
        },
        {
          "name": "stdout",
          "output_type": "stream",
          "text": [
            " Accuracy: 0.6192\n",
            " F1 score: 0.5115\n",
            " Average training loss: 1.0119\n",
            "Running Validation...\n"
          ]
        },
        {
          "data": {
            "application/vnd.jupyter.widget-view+json": {
              "model_id": "7b26b24b66514188af084028fb0d9b86",
              "version_major": 2,
              "version_minor": 0
            },
            "text/plain": [
              "  0%|          | 0/9 [00:00<?, ?it/s]"
            ]
          },
          "metadata": {},
          "output_type": "display_data"
        },
        {
          "name": "stdout",
          "output_type": "stream",
          "text": [
            "logits:    [5 0 2 0 1 1 4 0 5 3 4 3 1 0 0 0 0 1 0 4 3 1 3 2 1 2]\n",
            "labels_id: [1 4 2 4 2 1 4 2 3 3 4 3 1 3 0 0 0 5 5 2 4 1 3 2 1 5]\n",
            " Accuracy: 0.4782\n",
            " F1 score: 0.4479\n",
            "======== Epoch 272 / 500 ========\n",
            "Training...\n"
          ]
        },
        {
          "data": {
            "application/vnd.jupyter.widget-view+json": {
              "model_id": "c74dec38fb2045d4bf9b4cc34d5b45ef",
              "version_major": 2,
              "version_minor": 0
            },
            "text/plain": [
              "  0%|          | 0/104 [00:00<?, ?it/s]"
            ]
          },
          "metadata": {},
          "output_type": "display_data"
        },
        {
          "name": "stdout",
          "output_type": "stream",
          "text": [
            " Accuracy: 0.6251\n",
            " F1 score: 0.5182\n",
            " Average training loss: 1.0043\n",
            "Running Validation...\n"
          ]
        },
        {
          "data": {
            "application/vnd.jupyter.widget-view+json": {
              "model_id": "be20c672124d4ae2bf3f228be87f0142",
              "version_major": 2,
              "version_minor": 0
            },
            "text/plain": [
              "  0%|          | 0/9 [00:00<?, ?it/s]"
            ]
          },
          "metadata": {},
          "output_type": "display_data"
        },
        {
          "name": "stdout",
          "output_type": "stream",
          "text": [
            "logits:    [5 0 2 0 1 1 4 0 5 3 4 3 1 0 0 0 0 1 0 4 3 1 3 2 1 2]\n",
            "labels_id: [1 4 2 4 2 1 4 2 3 3 4 3 1 3 0 0 0 5 5 2 4 1 3 2 1 5]\n",
            " Accuracy: 0.4817\n",
            " F1 score: 0.4535\n",
            "======== Epoch 273 / 500 ========\n",
            "Training...\n"
          ]
        },
        {
          "data": {
            "application/vnd.jupyter.widget-view+json": {
              "model_id": "766fe2e198d741b5988e01b8fa9b1f73",
              "version_major": 2,
              "version_minor": 0
            },
            "text/plain": [
              "  0%|          | 0/104 [00:00<?, ?it/s]"
            ]
          },
          "metadata": {},
          "output_type": "display_data"
        },
        {
          "name": "stdout",
          "output_type": "stream",
          "text": [
            " Accuracy: 0.6239\n",
            " F1 score: 0.5227\n",
            " Average training loss: 1.0008\n",
            "Running Validation...\n"
          ]
        },
        {
          "data": {
            "application/vnd.jupyter.widget-view+json": {
              "model_id": "1911f84bffd44933b7684e573f82c76c",
              "version_major": 2,
              "version_minor": 0
            },
            "text/plain": [
              "  0%|          | 0/9 [00:00<?, ?it/s]"
            ]
          },
          "metadata": {},
          "output_type": "display_data"
        },
        {
          "name": "stdout",
          "output_type": "stream",
          "text": [
            "logits:    [5 0 2 0 1 1 4 0 5 3 4 3 1 0 0 0 0 1 0 4 3 1 3 2 1 2]\n",
            "labels_id: [1 4 2 4 2 1 4 2 3 3 4 3 1 3 0 0 0 5 5 2 4 1 3 2 1 5]\n",
            " Accuracy: 0.4782\n",
            " F1 score: 0.4481\n",
            "======== Epoch 274 / 500 ========\n",
            "Training...\n"
          ]
        },
        {
          "data": {
            "application/vnd.jupyter.widget-view+json": {
              "model_id": "ae65c11f59b74e8d9b21ed0bf40c59df",
              "version_major": 2,
              "version_minor": 0
            },
            "text/plain": [
              "  0%|          | 0/104 [00:00<?, ?it/s]"
            ]
          },
          "metadata": {},
          "output_type": "display_data"
        },
        {
          "name": "stdout",
          "output_type": "stream",
          "text": [
            " Accuracy: 0.6229\n",
            " F1 score: 0.5249\n",
            " Average training loss: 1.0096\n",
            "Running Validation...\n"
          ]
        },
        {
          "data": {
            "application/vnd.jupyter.widget-view+json": {
              "model_id": "027540aa4d174289906faab5c1e321fb",
              "version_major": 2,
              "version_minor": 0
            },
            "text/plain": [
              "  0%|          | 0/9 [00:00<?, ?it/s]"
            ]
          },
          "metadata": {},
          "output_type": "display_data"
        },
        {
          "name": "stdout",
          "output_type": "stream",
          "text": [
            "logits:    [5 0 2 0 1 1 4 0 5 3 4 3 1 0 0 0 0 1 0 4 3 1 3 2 1 2]\n",
            "labels_id: [1 4 2 4 2 1 4 2 3 3 4 3 1 3 0 0 0 5 5 2 4 1 3 2 1 5]\n",
            " Accuracy: 0.4800\n",
            " F1 score: 0.4500\n",
            "======== Epoch 275 / 500 ========\n",
            "Training...\n"
          ]
        },
        {
          "data": {
            "application/vnd.jupyter.widget-view+json": {
              "model_id": "92ca1d0276164e5b87aa01e1ba11857b",
              "version_major": 2,
              "version_minor": 0
            },
            "text/plain": [
              "  0%|          | 0/104 [00:00<?, ?it/s]"
            ]
          },
          "metadata": {},
          "output_type": "display_data"
        },
        {
          "name": "stdout",
          "output_type": "stream",
          "text": [
            " Accuracy: 0.6253\n",
            " F1 score: 0.5285\n",
            " Average training loss: 0.9960\n",
            "Running Validation...\n"
          ]
        },
        {
          "data": {
            "application/vnd.jupyter.widget-view+json": {
              "model_id": "4fb375714325495cb064fd66d939c057",
              "version_major": 2,
              "version_minor": 0
            },
            "text/plain": [
              "  0%|          | 0/9 [00:00<?, ?it/s]"
            ]
          },
          "metadata": {},
          "output_type": "display_data"
        },
        {
          "name": "stdout",
          "output_type": "stream",
          "text": [
            "logits:    [5 0 2 0 1 1 4 0 5 3 4 3 1 0 0 0 0 1 0 4 3 1 3 2 1 2]\n",
            "labels_id: [1 4 2 4 2 1 4 2 3 3 4 3 1 3 0 0 0 5 5 2 4 1 3 2 1 5]\n",
            " Accuracy: 0.4800\n",
            " F1 score: 0.4500\n",
            "======== Epoch 276 / 500 ========\n",
            "Training...\n"
          ]
        },
        {
          "data": {
            "application/vnd.jupyter.widget-view+json": {
              "model_id": "2140bb9e011e482ba691b4e91f36f0fc",
              "version_major": 2,
              "version_minor": 0
            },
            "text/plain": [
              "  0%|          | 0/104 [00:00<?, ?it/s]"
            ]
          },
          "metadata": {},
          "output_type": "display_data"
        },
        {
          "name": "stdout",
          "output_type": "stream",
          "text": [
            " Accuracy: 0.6248\n",
            " F1 score: 0.5201\n",
            " Average training loss: 0.9947\n",
            "Running Validation...\n"
          ]
        },
        {
          "data": {
            "application/vnd.jupyter.widget-view+json": {
              "model_id": "2c280b68b7894698b6124fca19c85eba",
              "version_major": 2,
              "version_minor": 0
            },
            "text/plain": [
              "  0%|          | 0/9 [00:00<?, ?it/s]"
            ]
          },
          "metadata": {},
          "output_type": "display_data"
        },
        {
          "name": "stdout",
          "output_type": "stream",
          "text": [
            "logits:    [5 0 2 0 1 1 4 0 5 3 4 3 1 0 0 0 0 1 0 4 3 1 3 2 1 2]\n",
            "labels_id: [1 4 2 4 2 1 4 2 3 3 4 3 1 3 0 0 0 5 5 2 4 1 3 2 1 5]\n",
            " Accuracy: 0.4800\n",
            " F1 score: 0.4520\n",
            "======== Epoch 277 / 500 ========\n",
            "Training...\n"
          ]
        },
        {
          "data": {
            "application/vnd.jupyter.widget-view+json": {
              "model_id": "62ad309156a24874b55fd0ac70fd3247",
              "version_major": 2,
              "version_minor": 0
            },
            "text/plain": [
              "  0%|          | 0/104 [00:00<?, ?it/s]"
            ]
          },
          "metadata": {},
          "output_type": "display_data"
        },
        {
          "name": "stdout",
          "output_type": "stream",
          "text": [
            " Accuracy: 0.6383\n",
            " F1 score: 0.5341\n",
            " Average training loss: 0.9860\n",
            "Running Validation...\n"
          ]
        },
        {
          "data": {
            "application/vnd.jupyter.widget-view+json": {
              "model_id": "317c4ae95fac47bf973740065e4ef82c",
              "version_major": 2,
              "version_minor": 0
            },
            "text/plain": [
              "  0%|          | 0/9 [00:00<?, ?it/s]"
            ]
          },
          "metadata": {},
          "output_type": "display_data"
        },
        {
          "name": "stdout",
          "output_type": "stream",
          "text": [
            "logits:    [5 0 2 0 1 1 4 0 5 3 4 3 1 0 0 0 0 1 0 4 3 1 3 2 1 2]\n",
            "labels_id: [1 4 2 4 2 1 4 2 3 3 4 3 1 3 0 0 0 5 5 2 4 1 3 2 1 5]\n",
            " Accuracy: 0.4748\n",
            " F1 score: 0.4448\n",
            "======== Epoch 278 / 500 ========\n",
            "Training...\n"
          ]
        },
        {
          "data": {
            "application/vnd.jupyter.widget-view+json": {
              "model_id": "36889ae150f9446694a4ae12073650f2",
              "version_major": 2,
              "version_minor": 0
            },
            "text/plain": [
              "  0%|          | 0/104 [00:00<?, ?it/s]"
            ]
          },
          "metadata": {},
          "output_type": "display_data"
        },
        {
          "name": "stdout",
          "output_type": "stream",
          "text": [
            " Accuracy: 0.6286\n",
            " F1 score: 0.5283\n",
            " Average training loss: 1.0001\n",
            "Running Validation...\n"
          ]
        },
        {
          "data": {
            "application/vnd.jupyter.widget-view+json": {
              "model_id": "2d1ddea90c2e4c718ec0dfb0c4f8f22c",
              "version_major": 2,
              "version_minor": 0
            },
            "text/plain": [
              "  0%|          | 0/9 [00:00<?, ?it/s]"
            ]
          },
          "metadata": {},
          "output_type": "display_data"
        },
        {
          "name": "stdout",
          "output_type": "stream",
          "text": [
            "logits:    [5 0 2 0 1 1 4 0 5 3 4 3 1 0 0 0 0 1 0 4 3 1 3 2 1 2]\n",
            "labels_id: [1 4 2 4 2 1 4 2 3 3 4 3 1 3 0 0 0 5 5 2 4 1 3 2 1 5]\n",
            " Accuracy: 0.4800\n",
            " F1 score: 0.4501\n",
            "======== Epoch 279 / 500 ========\n",
            "Training...\n"
          ]
        },
        {
          "data": {
            "application/vnd.jupyter.widget-view+json": {
              "model_id": "c507b0459f864dafa68982dd48c6d3e7",
              "version_major": 2,
              "version_minor": 0
            },
            "text/plain": [
              "  0%|          | 0/104 [00:00<?, ?it/s]"
            ]
          },
          "metadata": {},
          "output_type": "display_data"
        },
        {
          "name": "stdout",
          "output_type": "stream",
          "text": [
            " Accuracy: 0.6368\n",
            " F1 score: 0.5318\n",
            " Average training loss: 0.9872\n",
            "Running Validation...\n"
          ]
        },
        {
          "data": {
            "application/vnd.jupyter.widget-view+json": {
              "model_id": "f885c79381c64b1da6d125656e968894",
              "version_major": 2,
              "version_minor": 0
            },
            "text/plain": [
              "  0%|          | 0/9 [00:00<?, ?it/s]"
            ]
          },
          "metadata": {},
          "output_type": "display_data"
        },
        {
          "name": "stdout",
          "output_type": "stream",
          "text": [
            "logits:    [5 0 2 0 1 1 4 0 5 3 4 3 1 0 0 0 0 1 0 4 3 1 3 2 1 2]\n",
            "labels_id: [1 4 2 4 2 1 4 2 3 3 4 3 1 3 0 0 0 5 5 2 4 1 3 2 1 5]\n",
            " Accuracy: 0.4800\n",
            " F1 score: 0.4499\n",
            "======== Epoch 280 / 500 ========\n",
            "Training...\n"
          ]
        },
        {
          "data": {
            "application/vnd.jupyter.widget-view+json": {
              "model_id": "bd46e5f0601a4e51baabafde86da88e2",
              "version_major": 2,
              "version_minor": 0
            },
            "text/plain": [
              "  0%|          | 0/104 [00:00<?, ?it/s]"
            ]
          },
          "metadata": {},
          "output_type": "display_data"
        },
        {
          "name": "stdout",
          "output_type": "stream",
          "text": [
            " Accuracy: 0.6262\n",
            " F1 score: 0.5222\n",
            " Average training loss: 0.9962\n",
            "Running Validation...\n"
          ]
        },
        {
          "data": {
            "application/vnd.jupyter.widget-view+json": {
              "model_id": "5d17a103280a46ee87e696a9a0fc8a23",
              "version_major": 2,
              "version_minor": 0
            },
            "text/plain": [
              "  0%|          | 0/9 [00:00<?, ?it/s]"
            ]
          },
          "metadata": {},
          "output_type": "display_data"
        },
        {
          "name": "stdout",
          "output_type": "stream",
          "text": [
            "logits:    [5 0 2 0 1 1 4 0 5 3 4 3 1 0 0 0 0 1 0 4 3 1 3 2 1 2]\n",
            "labels_id: [1 4 2 4 2 1 4 2 3 3 4 3 1 3 0 0 0 5 5 2 4 1 3 2 1 5]\n",
            " Accuracy: 0.4800\n",
            " F1 score: 0.4505\n",
            "======== Epoch 281 / 500 ========\n",
            "Training...\n"
          ]
        },
        {
          "data": {
            "application/vnd.jupyter.widget-view+json": {
              "model_id": "843d5050c7d14c90867c42fa98fbd4e3",
              "version_major": 2,
              "version_minor": 0
            },
            "text/plain": [
              "  0%|          | 0/104 [00:00<?, ?it/s]"
            ]
          },
          "metadata": {},
          "output_type": "display_data"
        },
        {
          "name": "stdout",
          "output_type": "stream",
          "text": [
            " Accuracy: 0.6343\n",
            " F1 score: 0.5285\n",
            " Average training loss: 0.9870\n",
            "Running Validation...\n"
          ]
        },
        {
          "data": {
            "application/vnd.jupyter.widget-view+json": {
              "model_id": "ab2243ee8d384a6fad88ceb82059977b",
              "version_major": 2,
              "version_minor": 0
            },
            "text/plain": [
              "  0%|          | 0/9 [00:00<?, ?it/s]"
            ]
          },
          "metadata": {},
          "output_type": "display_data"
        },
        {
          "name": "stdout",
          "output_type": "stream",
          "text": [
            "logits:    [5 0 2 0 1 1 4 0 5 3 4 3 1 0 0 0 0 1 0 4 3 1 3 2 1 2]\n",
            "labels_id: [1 4 2 4 2 1 4 2 3 3 4 3 1 3 0 0 0 5 5 2 4 1 3 2 1 5]\n",
            " Accuracy: 0.4817\n",
            " F1 score: 0.4530\n",
            "======== Epoch 282 / 500 ========\n",
            "Training...\n"
          ]
        },
        {
          "data": {
            "application/vnd.jupyter.widget-view+json": {
              "model_id": "b026373a19204cc396fafc71574fcc57",
              "version_major": 2,
              "version_minor": 0
            },
            "text/plain": [
              "  0%|          | 0/104 [00:00<?, ?it/s]"
            ]
          },
          "metadata": {},
          "output_type": "display_data"
        },
        {
          "name": "stdout",
          "output_type": "stream",
          "text": [
            " Accuracy: 0.6326\n",
            " F1 score: 0.5327\n",
            " Average training loss: 0.9861\n",
            "Running Validation...\n"
          ]
        },
        {
          "data": {
            "application/vnd.jupyter.widget-view+json": {
              "model_id": "262b9521caeb4de19bf2de9a3587379e",
              "version_major": 2,
              "version_minor": 0
            },
            "text/plain": [
              "  0%|          | 0/9 [00:00<?, ?it/s]"
            ]
          },
          "metadata": {},
          "output_type": "display_data"
        },
        {
          "name": "stdout",
          "output_type": "stream",
          "text": [
            "logits:    [5 0 2 0 1 1 4 0 5 3 4 3 1 0 0 0 0 1 0 4 3 1 3 2 1 2]\n",
            "labels_id: [1 4 2 4 2 1 4 2 3 3 4 3 1 3 0 0 0 5 5 2 4 1 3 2 1 5]\n",
            " Accuracy: 0.4852\n",
            " F1 score: 0.4574\n",
            "======== Epoch 283 / 500 ========\n",
            "Training...\n"
          ]
        },
        {
          "data": {
            "application/vnd.jupyter.widget-view+json": {
              "model_id": "ad868cf4e6e240e4923e00264391d99e",
              "version_major": 2,
              "version_minor": 0
            },
            "text/plain": [
              "  0%|          | 0/104 [00:00<?, ?it/s]"
            ]
          },
          "metadata": {},
          "output_type": "display_data"
        },
        {
          "name": "stdout",
          "output_type": "stream",
          "text": [
            " Accuracy: 0.6276\n",
            " F1 score: 0.5265\n",
            " Average training loss: 0.9940\n",
            "Running Validation...\n"
          ]
        },
        {
          "data": {
            "application/vnd.jupyter.widget-view+json": {
              "model_id": "ec64b4c39ac7413aafdac6d198994790",
              "version_major": 2,
              "version_minor": 0
            },
            "text/plain": [
              "  0%|          | 0/9 [00:00<?, ?it/s]"
            ]
          },
          "metadata": {},
          "output_type": "display_data"
        },
        {
          "name": "stdout",
          "output_type": "stream",
          "text": [
            "logits:    [5 0 2 0 1 1 4 0 5 3 4 3 1 0 0 0 0 1 0 4 3 1 3 2 1 2]\n",
            "labels_id: [1 4 2 4 2 1 4 2 3 3 4 3 1 3 0 0 0 5 5 2 4 1 3 2 1 5]\n",
            " Accuracy: 0.4800\n",
            " F1 score: 0.4516\n",
            "======== Epoch 284 / 500 ========\n",
            "Training...\n"
          ]
        },
        {
          "data": {
            "application/vnd.jupyter.widget-view+json": {
              "model_id": "ad6e565aa2d64a589875bbf151a13601",
              "version_major": 2,
              "version_minor": 0
            },
            "text/plain": [
              "  0%|          | 0/104 [00:00<?, ?it/s]"
            ]
          },
          "metadata": {},
          "output_type": "display_data"
        },
        {
          "name": "stdout",
          "output_type": "stream",
          "text": [
            " Accuracy: 0.6318\n",
            " F1 score: 0.5288\n",
            " Average training loss: 0.9865\n",
            "Running Validation...\n"
          ]
        },
        {
          "data": {
            "application/vnd.jupyter.widget-view+json": {
              "model_id": "8775e8651fb54e7f8d1fe5067ca88ca1",
              "version_major": 2,
              "version_minor": 0
            },
            "text/plain": [
              "  0%|          | 0/9 [00:00<?, ?it/s]"
            ]
          },
          "metadata": {},
          "output_type": "display_data"
        },
        {
          "name": "stdout",
          "output_type": "stream",
          "text": [
            "logits:    [5 0 2 0 1 1 4 0 5 3 4 3 1 0 0 0 0 1 0 4 3 1 3 2 1 2]\n",
            "labels_id: [1 4 2 4 2 1 4 2 3 3 4 3 1 3 0 0 0 5 5 2 4 1 3 2 1 5]\n",
            " Accuracy: 0.4817\n",
            " F1 score: 0.4545\n",
            "======== Epoch 285 / 500 ========\n",
            "Training...\n"
          ]
        },
        {
          "data": {
            "application/vnd.jupyter.widget-view+json": {
              "model_id": "bf1aa8f767a247369f2523a9dd5d65eb",
              "version_major": 2,
              "version_minor": 0
            },
            "text/plain": [
              "  0%|          | 0/104 [00:00<?, ?it/s]"
            ]
          },
          "metadata": {},
          "output_type": "display_data"
        },
        {
          "name": "stdout",
          "output_type": "stream",
          "text": [
            " Accuracy: 0.6265\n",
            " F1 score: 0.5217\n",
            " Average training loss: 0.9840\n",
            "Running Validation...\n"
          ]
        },
        {
          "data": {
            "application/vnd.jupyter.widget-view+json": {
              "model_id": "b81f332593134f9c8864a687ef1835be",
              "version_major": 2,
              "version_minor": 0
            },
            "text/plain": [
              "  0%|          | 0/9 [00:00<?, ?it/s]"
            ]
          },
          "metadata": {},
          "output_type": "display_data"
        },
        {
          "name": "stdout",
          "output_type": "stream",
          "text": [
            "logits:    [5 0 2 0 1 1 4 0 5 3 4 3 1 0 0 0 0 1 0 4 3 1 3 2 1 2]\n",
            "labels_id: [1 4 2 4 2 1 4 2 3 3 4 3 1 3 0 0 0 5 5 2 4 1 3 2 1 5]\n",
            " Accuracy: 0.4817\n",
            " F1 score: 0.4546\n",
            "======== Epoch 286 / 500 ========\n",
            "Training...\n"
          ]
        },
        {
          "data": {
            "application/vnd.jupyter.widget-view+json": {
              "model_id": "e0f566132a444100a9a8907e7c7398a2",
              "version_major": 2,
              "version_minor": 0
            },
            "text/plain": [
              "  0%|          | 0/104 [00:00<?, ?it/s]"
            ]
          },
          "metadata": {},
          "output_type": "display_data"
        },
        {
          "name": "stdout",
          "output_type": "stream",
          "text": [
            " Accuracy: 0.6286\n",
            " F1 score: 0.5187\n",
            " Average training loss: 0.9870\n",
            "Running Validation...\n"
          ]
        },
        {
          "data": {
            "application/vnd.jupyter.widget-view+json": {
              "model_id": "b1dff6266055425fabcb64b984352441",
              "version_major": 2,
              "version_minor": 0
            },
            "text/plain": [
              "  0%|          | 0/9 [00:00<?, ?it/s]"
            ]
          },
          "metadata": {},
          "output_type": "display_data"
        },
        {
          "name": "stdout",
          "output_type": "stream",
          "text": [
            "logits:    [5 0 2 0 1 1 4 0 5 3 4 3 1 0 0 0 0 1 0 4 3 1 3 2 1 2]\n",
            "labels_id: [1 4 2 4 2 1 4 2 3 3 4 3 1 3 0 0 0 5 5 2 4 1 3 2 1 5]\n",
            " Accuracy: 0.4800\n",
            " F1 score: 0.4517\n",
            "======== Epoch 287 / 500 ========\n",
            "Training...\n"
          ]
        },
        {
          "data": {
            "application/vnd.jupyter.widget-view+json": {
              "model_id": "130698f325024301a849b2700822d20a",
              "version_major": 2,
              "version_minor": 0
            },
            "text/plain": [
              "  0%|          | 0/104 [00:00<?, ?it/s]"
            ]
          },
          "metadata": {},
          "output_type": "display_data"
        },
        {
          "name": "stdout",
          "output_type": "stream",
          "text": [
            " Accuracy: 0.6281\n",
            " F1 score: 0.5228\n",
            " Average training loss: 0.9873\n",
            "Running Validation...\n"
          ]
        },
        {
          "data": {
            "application/vnd.jupyter.widget-view+json": {
              "model_id": "0678ff06ba294e6996d85b54de1cd923",
              "version_major": 2,
              "version_minor": 0
            },
            "text/plain": [
              "  0%|          | 0/9 [00:00<?, ?it/s]"
            ]
          },
          "metadata": {},
          "output_type": "display_data"
        },
        {
          "name": "stdout",
          "output_type": "stream",
          "text": [
            "logits:    [5 0 2 0 1 1 4 0 5 3 4 3 1 0 0 0 0 1 0 4 3 1 3 2 1 2]\n",
            "labels_id: [1 4 2 4 2 1 4 2 3 3 4 3 1 3 0 0 0 5 5 2 4 1 3 2 1 5]\n",
            " Accuracy: 0.4800\n",
            " F1 score: 0.4512\n",
            "======== Epoch 288 / 500 ========\n",
            "Training...\n"
          ]
        },
        {
          "data": {
            "application/vnd.jupyter.widget-view+json": {
              "model_id": "3215bc26c9344451afc460716c6a0cf7",
              "version_major": 2,
              "version_minor": 0
            },
            "text/plain": [
              "  0%|          | 0/104 [00:00<?, ?it/s]"
            ]
          },
          "metadata": {},
          "output_type": "display_data"
        },
        {
          "name": "stdout",
          "output_type": "stream",
          "text": [
            " Accuracy: 0.6392\n",
            " F1 score: 0.5383\n",
            " Average training loss: 0.9764\n",
            "Running Validation...\n"
          ]
        },
        {
          "data": {
            "application/vnd.jupyter.widget-view+json": {
              "model_id": "bf2dbe9b800d4db6bf6f863147e27746",
              "version_major": 2,
              "version_minor": 0
            },
            "text/plain": [
              "  0%|          | 0/9 [00:00<?, ?it/s]"
            ]
          },
          "metadata": {},
          "output_type": "display_data"
        },
        {
          "name": "stdout",
          "output_type": "stream",
          "text": [
            "logits:    [5 0 2 0 1 1 4 0 5 3 4 3 1 0 0 0 0 1 0 4 3 1 3 2 1 2]\n",
            "labels_id: [1 4 2 4 2 1 4 2 3 3 4 3 1 3 0 0 0 5 5 2 4 1 3 2 1 5]\n",
            " Accuracy: 0.4800\n",
            " F1 score: 0.4512\n",
            "======== Epoch 289 / 500 ========\n",
            "Training...\n"
          ]
        },
        {
          "data": {
            "application/vnd.jupyter.widget-view+json": {
              "model_id": "baccd29e387f4ace863034561949e591",
              "version_major": 2,
              "version_minor": 0
            },
            "text/plain": [
              "  0%|          | 0/104 [00:00<?, ?it/s]"
            ]
          },
          "metadata": {},
          "output_type": "display_data"
        },
        {
          "name": "stdout",
          "output_type": "stream",
          "text": [
            " Accuracy: 0.6398\n",
            " F1 score: 0.5383\n",
            " Average training loss: 0.9694\n",
            "Running Validation...\n"
          ]
        },
        {
          "data": {
            "application/vnd.jupyter.widget-view+json": {
              "model_id": "1aa08450492a4ea58faf3066a63b5750",
              "version_major": 2,
              "version_minor": 0
            },
            "text/plain": [
              "  0%|          | 0/9 [00:00<?, ?it/s]"
            ]
          },
          "metadata": {},
          "output_type": "display_data"
        },
        {
          "name": "stdout",
          "output_type": "stream",
          "text": [
            "logits:    [5 0 2 0 1 1 4 0 5 3 4 3 1 0 0 0 0 1 0 4 3 1 3 2 1 2]\n",
            "labels_id: [1 4 2 4 2 1 4 2 3 3 4 3 1 3 0 0 0 5 5 2 4 1 3 2 1 5]\n",
            " Accuracy: 0.4800\n",
            " F1 score: 0.4516\n",
            "======== Epoch 290 / 500 ========\n",
            "Training...\n"
          ]
        },
        {
          "data": {
            "application/vnd.jupyter.widget-view+json": {
              "model_id": "9a42de1273304902a681962448e59891",
              "version_major": 2,
              "version_minor": 0
            },
            "text/plain": [
              "  0%|          | 0/104 [00:00<?, ?it/s]"
            ]
          },
          "metadata": {},
          "output_type": "display_data"
        },
        {
          "name": "stdout",
          "output_type": "stream",
          "text": [
            " Accuracy: 0.6323\n",
            " F1 score: 0.5307\n",
            " Average training loss: 0.9804\n",
            "Running Validation...\n"
          ]
        },
        {
          "data": {
            "application/vnd.jupyter.widget-view+json": {
              "model_id": "8b2e8b10fc57471b8532fd8e087baf62",
              "version_major": 2,
              "version_minor": 0
            },
            "text/plain": [
              "  0%|          | 0/9 [00:00<?, ?it/s]"
            ]
          },
          "metadata": {},
          "output_type": "display_data"
        },
        {
          "name": "stdout",
          "output_type": "stream",
          "text": [
            "logits:    [5 0 2 0 1 1 4 0 5 3 4 3 1 0 0 0 0 1 0 4 3 1 3 2 1 2]\n",
            "labels_id: [1 4 2 4 2 1 4 2 3 3 4 3 1 3 0 0 0 5 5 2 4 1 3 2 1 5]\n",
            " Accuracy: 0.4800\n",
            " F1 score: 0.4511\n",
            "======== Epoch 291 / 500 ========\n",
            "Training...\n"
          ]
        },
        {
          "data": {
            "application/vnd.jupyter.widget-view+json": {
              "model_id": "36833e2e90bc462ba218862573a4abdb",
              "version_major": 2,
              "version_minor": 0
            },
            "text/plain": [
              "  0%|          | 0/104 [00:00<?, ?it/s]"
            ]
          },
          "metadata": {},
          "output_type": "display_data"
        },
        {
          "name": "stdout",
          "output_type": "stream",
          "text": [
            " Accuracy: 0.6381\n",
            " F1 score: 0.5384\n",
            " Average training loss: 0.9764\n",
            "Running Validation...\n"
          ]
        },
        {
          "data": {
            "application/vnd.jupyter.widget-view+json": {
              "model_id": "1e9101479cb34e4aa639433889b4089d",
              "version_major": 2,
              "version_minor": 0
            },
            "text/plain": [
              "  0%|          | 0/9 [00:00<?, ?it/s]"
            ]
          },
          "metadata": {},
          "output_type": "display_data"
        },
        {
          "name": "stdout",
          "output_type": "stream",
          "text": [
            "logits:    [5 0 2 0 1 1 4 0 5 3 4 3 1 0 0 0 0 1 0 4 3 1 3 2 1 2]\n",
            "labels_id: [1 4 2 4 2 1 4 2 3 3 4 3 1 3 0 0 0 5 5 2 4 1 3 2 1 5]\n",
            " Accuracy: 0.4800\n",
            " F1 score: 0.4510\n",
            "======== Epoch 292 / 500 ========\n",
            "Training...\n"
          ]
        },
        {
          "data": {
            "application/vnd.jupyter.widget-view+json": {
              "model_id": "a8dee5131e854e05990afeee8a540beb",
              "version_major": 2,
              "version_minor": 0
            },
            "text/plain": [
              "  0%|          | 0/104 [00:00<?, ?it/s]"
            ]
          },
          "metadata": {},
          "output_type": "display_data"
        },
        {
          "name": "stdout",
          "output_type": "stream",
          "text": [
            " Accuracy: 0.6397\n",
            " F1 score: 0.5337\n",
            " Average training loss: 0.9718\n",
            "Running Validation...\n"
          ]
        },
        {
          "data": {
            "application/vnd.jupyter.widget-view+json": {
              "model_id": "d4931930a6eb4aba89232daec7c7189a",
              "version_major": 2,
              "version_minor": 0
            },
            "text/plain": [
              "  0%|          | 0/9 [00:00<?, ?it/s]"
            ]
          },
          "metadata": {},
          "output_type": "display_data"
        },
        {
          "name": "stdout",
          "output_type": "stream",
          "text": [
            "logits:    [5 0 2 0 1 1 4 0 5 3 4 3 1 0 0 0 0 1 0 4 3 1 3 2 1 2]\n",
            "labels_id: [1 4 2 4 2 1 4 2 3 3 4 3 1 3 0 0 0 5 5 2 4 1 3 2 1 5]\n",
            " Accuracy: 0.4800\n",
            " F1 score: 0.4524\n",
            "======== Epoch 293 / 500 ========\n",
            "Training...\n"
          ]
        },
        {
          "data": {
            "application/vnd.jupyter.widget-view+json": {
              "model_id": "cb6ab6e9f5244d2bbb8573af03de3ab0",
              "version_major": 2,
              "version_minor": 0
            },
            "text/plain": [
              "  0%|          | 0/104 [00:00<?, ?it/s]"
            ]
          },
          "metadata": {},
          "output_type": "display_data"
        },
        {
          "name": "stdout",
          "output_type": "stream",
          "text": [
            " Accuracy: 0.6391\n",
            " F1 score: 0.5379\n",
            " Average training loss: 0.9758\n",
            "Running Validation...\n"
          ]
        },
        {
          "data": {
            "application/vnd.jupyter.widget-view+json": {
              "model_id": "65d26cbc06b94f59ade8c1b7a609e595",
              "version_major": 2,
              "version_minor": 0
            },
            "text/plain": [
              "  0%|          | 0/9 [00:00<?, ?it/s]"
            ]
          },
          "metadata": {},
          "output_type": "display_data"
        },
        {
          "name": "stdout",
          "output_type": "stream",
          "text": [
            "logits:    [5 0 2 0 1 1 4 0 5 3 4 3 1 0 0 0 0 1 0 4 3 1 3 2 1 2]\n",
            "labels_id: [1 4 2 4 2 1 4 2 3 3 4 3 1 3 0 0 0 5 5 2 4 1 3 2 1 5]\n",
            " Accuracy: 0.4782\n",
            " F1 score: 0.4505\n",
            "======== Epoch 294 / 500 ========\n",
            "Training...\n"
          ]
        },
        {
          "data": {
            "application/vnd.jupyter.widget-view+json": {
              "model_id": "fe907c5f12894aa5aeaf0b014377e620",
              "version_major": 2,
              "version_minor": 0
            },
            "text/plain": [
              "  0%|          | 0/104 [00:00<?, ?it/s]"
            ]
          },
          "metadata": {},
          "output_type": "display_data"
        },
        {
          "name": "stdout",
          "output_type": "stream",
          "text": [
            " Accuracy: 0.6365\n",
            " F1 score: 0.5365\n",
            " Average training loss: 0.9632\n",
            "Running Validation...\n"
          ]
        },
        {
          "data": {
            "application/vnd.jupyter.widget-view+json": {
              "model_id": "7d0c6dd22dfb4018ab877c602eab8361",
              "version_major": 2,
              "version_minor": 0
            },
            "text/plain": [
              "  0%|          | 0/9 [00:00<?, ?it/s]"
            ]
          },
          "metadata": {},
          "output_type": "display_data"
        },
        {
          "name": "stdout",
          "output_type": "stream",
          "text": [
            "logits:    [5 0 2 0 1 1 4 0 5 3 4 3 1 0 0 0 0 1 0 4 3 1 3 2 1 2]\n",
            "labels_id: [1 4 2 4 2 1 4 2 3 3 4 3 1 3 0 0 0 5 5 2 4 1 3 2 1 5]\n",
            " Accuracy: 0.4800\n",
            " F1 score: 0.4525\n",
            "======== Epoch 295 / 500 ========\n",
            "Training...\n"
          ]
        },
        {
          "data": {
            "application/vnd.jupyter.widget-view+json": {
              "model_id": "31a42c3a95fa4c408c2f3c0db173ccd3",
              "version_major": 2,
              "version_minor": 0
            },
            "text/plain": [
              "  0%|          | 0/104 [00:00<?, ?it/s]"
            ]
          },
          "metadata": {},
          "output_type": "display_data"
        },
        {
          "name": "stdout",
          "output_type": "stream",
          "text": [
            " Accuracy: 0.6453\n",
            " F1 score: 0.5468\n",
            " Average training loss: 0.9614\n",
            "Running Validation...\n"
          ]
        },
        {
          "data": {
            "application/vnd.jupyter.widget-view+json": {
              "model_id": "6ede523190e34f0a88becc78db16c7e2",
              "version_major": 2,
              "version_minor": 0
            },
            "text/plain": [
              "  0%|          | 0/9 [00:00<?, ?it/s]"
            ]
          },
          "metadata": {},
          "output_type": "display_data"
        },
        {
          "name": "stdout",
          "output_type": "stream",
          "text": [
            "logits:    [5 0 2 0 1 1 4 0 5 3 4 3 1 0 0 0 0 1 0 4 3 1 3 2 1 2]\n",
            "labels_id: [1 4 2 4 2 1 4 2 3 3 4 3 1 3 0 0 0 5 5 2 4 1 3 2 1 5]\n",
            " Accuracy: 0.4782\n",
            " F1 score: 0.4505\n",
            "======== Epoch 296 / 500 ========\n",
            "Training...\n"
          ]
        },
        {
          "data": {
            "application/vnd.jupyter.widget-view+json": {
              "model_id": "b1f8110f4c6145a3992e1c8d1d3c8cb6",
              "version_major": 2,
              "version_minor": 0
            },
            "text/plain": [
              "  0%|          | 0/104 [00:00<?, ?it/s]"
            ]
          },
          "metadata": {},
          "output_type": "display_data"
        },
        {
          "name": "stdout",
          "output_type": "stream",
          "text": [
            " Accuracy: 0.6373\n",
            " F1 score: 0.5455\n",
            " Average training loss: 0.9751\n",
            "Running Validation...\n"
          ]
        },
        {
          "data": {
            "application/vnd.jupyter.widget-view+json": {
              "model_id": "dd5b44c1c5e748f1a7a65b68d6894e3b",
              "version_major": 2,
              "version_minor": 0
            },
            "text/plain": [
              "  0%|          | 0/9 [00:00<?, ?it/s]"
            ]
          },
          "metadata": {},
          "output_type": "display_data"
        },
        {
          "name": "stdout",
          "output_type": "stream",
          "text": [
            "logits:    [5 0 2 0 1 1 4 0 5 3 4 3 1 0 0 0 0 1 0 4 3 1 3 2 1 2]\n",
            "labels_id: [1 4 2 4 2 1 4 2 3 3 4 3 1 3 0 0 0 5 5 2 4 1 3 2 1 5]\n",
            " Accuracy: 0.4800\n",
            " F1 score: 0.4524\n",
            "======== Epoch 297 / 500 ========\n",
            "Training...\n"
          ]
        },
        {
          "data": {
            "application/vnd.jupyter.widget-view+json": {
              "model_id": "753e7b36d044470fb344ed7bc469a4fa",
              "version_major": 2,
              "version_minor": 0
            },
            "text/plain": [
              "  0%|          | 0/104 [00:00<?, ?it/s]"
            ]
          },
          "metadata": {},
          "output_type": "display_data"
        },
        {
          "name": "stdout",
          "output_type": "stream",
          "text": [
            " Accuracy: 0.6470\n",
            " F1 score: 0.5473\n",
            " Average training loss: 0.9572\n",
            "Running Validation...\n"
          ]
        },
        {
          "data": {
            "application/vnd.jupyter.widget-view+json": {
              "model_id": "b71234af1b804446967b2bba580600d0",
              "version_major": 2,
              "version_minor": 0
            },
            "text/plain": [
              "  0%|          | 0/9 [00:00<?, ?it/s]"
            ]
          },
          "metadata": {},
          "output_type": "display_data"
        },
        {
          "name": "stdout",
          "output_type": "stream",
          "text": [
            "logits:    [5 0 2 0 1 1 4 0 5 3 4 3 1 0 0 0 0 1 0 4 3 1 3 2 1 2]\n",
            "labels_id: [1 4 2 4 2 1 4 2 3 3 4 3 1 3 0 0 0 5 5 2 4 1 3 2 1 5]\n",
            " Accuracy: 0.4800\n",
            " F1 score: 0.4517\n",
            "======== Epoch 298 / 500 ========\n",
            "Training...\n"
          ]
        },
        {
          "data": {
            "application/vnd.jupyter.widget-view+json": {
              "model_id": "01a9fda8d5a64eca970d6f68a1950f33",
              "version_major": 2,
              "version_minor": 0
            },
            "text/plain": [
              "  0%|          | 0/104 [00:00<?, ?it/s]"
            ]
          },
          "metadata": {},
          "output_type": "display_data"
        },
        {
          "name": "stdout",
          "output_type": "stream",
          "text": [
            " Accuracy: 0.6536\n",
            " F1 score: 0.5517\n",
            " Average training loss: 0.9514\n",
            "Running Validation...\n"
          ]
        },
        {
          "data": {
            "application/vnd.jupyter.widget-view+json": {
              "model_id": "8b8dbf2d858a45beb461612215ab4514",
              "version_major": 2,
              "version_minor": 0
            },
            "text/plain": [
              "  0%|          | 0/9 [00:00<?, ?it/s]"
            ]
          },
          "metadata": {},
          "output_type": "display_data"
        },
        {
          "name": "stdout",
          "output_type": "stream",
          "text": [
            "logits:    [5 0 2 0 1 1 4 0 5 3 4 3 1 0 0 0 0 1 0 4 3 1 3 2 1 2]\n",
            "labels_id: [1 4 2 4 2 1 4 2 3 3 4 3 1 3 0 0 0 5 5 2 4 1 3 2 1 5]\n",
            " Accuracy: 0.4800\n",
            " F1 score: 0.4518\n",
            "======== Epoch 299 / 500 ========\n",
            "Training...\n"
          ]
        },
        {
          "data": {
            "application/vnd.jupyter.widget-view+json": {
              "model_id": "df101ba3a8bd45c6a78e5f80c856635c",
              "version_major": 2,
              "version_minor": 0
            },
            "text/plain": [
              "  0%|          | 0/104 [00:00<?, ?it/s]"
            ]
          },
          "metadata": {},
          "output_type": "display_data"
        },
        {
          "name": "stdout",
          "output_type": "stream",
          "text": [
            " Accuracy: 0.6477\n",
            " F1 score: 0.5487\n",
            " Average training loss: 0.9589\n",
            "Running Validation...\n"
          ]
        },
        {
          "data": {
            "application/vnd.jupyter.widget-view+json": {
              "model_id": "acfb284ed4b042a0bbddbbed39b448a5",
              "version_major": 2,
              "version_minor": 0
            },
            "text/plain": [
              "  0%|          | 0/9 [00:00<?, ?it/s]"
            ]
          },
          "metadata": {},
          "output_type": "display_data"
        },
        {
          "name": "stdout",
          "output_type": "stream",
          "text": [
            "logits:    [5 0 2 0 1 1 4 0 5 3 4 3 1 0 0 0 0 1 0 4 3 1 3 2 1 2]\n",
            "labels_id: [1 4 2 4 2 1 4 2 3 3 4 3 1 3 0 0 0 5 5 2 4 1 3 2 1 5]\n",
            " Accuracy: 0.4800\n",
            " F1 score: 0.4526\n",
            "======== Epoch 300 / 500 ========\n",
            "Training...\n"
          ]
        },
        {
          "data": {
            "application/vnd.jupyter.widget-view+json": {
              "model_id": "00a2ff14b5db40a69c227e054dafa06f",
              "version_major": 2,
              "version_minor": 0
            },
            "text/plain": [
              "  0%|          | 0/104 [00:00<?, ?it/s]"
            ]
          },
          "metadata": {},
          "output_type": "display_data"
        },
        {
          "name": "stdout",
          "output_type": "stream",
          "text": [
            " Accuracy: 0.6442\n",
            " F1 score: 0.5411\n",
            " Average training loss: 0.9596\n",
            "Running Validation...\n"
          ]
        },
        {
          "data": {
            "application/vnd.jupyter.widget-view+json": {
              "model_id": "52f946733b5f443aa4240ca150144535",
              "version_major": 2,
              "version_minor": 0
            },
            "text/plain": [
              "  0%|          | 0/9 [00:00<?, ?it/s]"
            ]
          },
          "metadata": {},
          "output_type": "display_data"
        },
        {
          "name": "stdout",
          "output_type": "stream",
          "text": [
            "logits:    [5 0 2 0 1 1 4 0 5 3 4 3 1 0 0 0 0 1 0 4 3 1 3 2 1 2]\n",
            "labels_id: [1 4 2 4 2 1 4 2 3 3 4 3 1 3 0 0 0 5 5 2 4 1 3 2 1 5]\n",
            " Accuracy: 0.4800\n",
            " F1 score: 0.4517\n",
            "======== Epoch 301 / 500 ========\n",
            "Training...\n"
          ]
        },
        {
          "data": {
            "application/vnd.jupyter.widget-view+json": {
              "model_id": "0bdb6963b5764a82b5cc7516b4786e8e",
              "version_major": 2,
              "version_minor": 0
            },
            "text/plain": [
              "  0%|          | 0/104 [00:00<?, ?it/s]"
            ]
          },
          "metadata": {},
          "output_type": "display_data"
        },
        {
          "name": "stdout",
          "output_type": "stream",
          "text": [
            " Accuracy: 0.6439\n",
            " F1 score: 0.5425\n",
            " Average training loss: 0.9585\n",
            "Running Validation...\n"
          ]
        },
        {
          "data": {
            "application/vnd.jupyter.widget-view+json": {
              "model_id": "ced343cdca654de199de48f1b4a78604",
              "version_major": 2,
              "version_minor": 0
            },
            "text/plain": [
              "  0%|          | 0/9 [00:00<?, ?it/s]"
            ]
          },
          "metadata": {},
          "output_type": "display_data"
        },
        {
          "name": "stdout",
          "output_type": "stream",
          "text": [
            "logits:    [5 0 2 0 1 1 4 0 5 3 4 3 1 0 0 0 0 1 0 4 3 1 3 2 1 2]\n",
            "labels_id: [1 4 2 4 2 1 4 2 3 3 4 3 1 3 0 0 0 5 5 2 4 1 3 2 1 5]\n",
            " Accuracy: 0.4817\n",
            " F1 score: 0.4544\n",
            "======== Epoch 302 / 500 ========\n",
            "Training...\n"
          ]
        },
        {
          "data": {
            "application/vnd.jupyter.widget-view+json": {
              "model_id": "b55e3fba443d4a4eb9999cd5936b5ecb",
              "version_major": 2,
              "version_minor": 0
            },
            "text/plain": [
              "  0%|          | 0/104 [00:00<?, ?it/s]"
            ]
          },
          "metadata": {},
          "output_type": "display_data"
        },
        {
          "name": "stdout",
          "output_type": "stream",
          "text": [
            " Accuracy: 0.6444\n",
            " F1 score: 0.5435\n",
            " Average training loss: 0.9533\n",
            "Running Validation...\n"
          ]
        },
        {
          "data": {
            "application/vnd.jupyter.widget-view+json": {
              "model_id": "6bd97382a51d4bd4a32cec1a189cace0",
              "version_major": 2,
              "version_minor": 0
            },
            "text/plain": [
              "  0%|          | 0/9 [00:00<?, ?it/s]"
            ]
          },
          "metadata": {},
          "output_type": "display_data"
        },
        {
          "name": "stdout",
          "output_type": "stream",
          "text": [
            "logits:    [5 0 2 0 1 1 4 0 5 3 4 3 1 0 0 0 0 1 0 4 3 1 3 2 1 2]\n",
            "labels_id: [1 4 2 4 2 1 4 2 3 3 4 3 1 3 0 0 0 5 5 2 4 1 3 2 1 5]\n",
            " Accuracy: 0.4800\n",
            " F1 score: 0.4523\n",
            "======== Epoch 303 / 500 ========\n",
            "Training...\n"
          ]
        },
        {
          "data": {
            "application/vnd.jupyter.widget-view+json": {
              "model_id": "c0e371c3cebb46bc805c33b00e3823b4",
              "version_major": 2,
              "version_minor": 0
            },
            "text/plain": [
              "  0%|          | 0/104 [00:00<?, ?it/s]"
            ]
          },
          "metadata": {},
          "output_type": "display_data"
        },
        {
          "name": "stdout",
          "output_type": "stream",
          "text": [
            " Accuracy: 0.6421\n",
            " F1 score: 0.5430\n",
            " Average training loss: 0.9615\n",
            "Running Validation...\n"
          ]
        },
        {
          "data": {
            "application/vnd.jupyter.widget-view+json": {
              "model_id": "a69f486be2b14e33954ec74c2b50340e",
              "version_major": 2,
              "version_minor": 0
            },
            "text/plain": [
              "  0%|          | 0/9 [00:00<?, ?it/s]"
            ]
          },
          "metadata": {},
          "output_type": "display_data"
        },
        {
          "name": "stdout",
          "output_type": "stream",
          "text": [
            "logits:    [5 0 2 0 1 1 4 0 5 3 4 3 1 0 0 0 0 1 0 4 3 1 3 2 1 2]\n",
            "labels_id: [1 4 2 4 2 1 4 2 3 3 4 3 1 3 0 0 0 5 5 2 4 1 3 2 1 5]\n",
            " Accuracy: 0.4800\n",
            " F1 score: 0.4526\n",
            "======== Epoch 304 / 500 ========\n",
            "Training...\n"
          ]
        },
        {
          "data": {
            "application/vnd.jupyter.widget-view+json": {
              "model_id": "c2fc66f9607b43d8bccf15f4ed8742ac",
              "version_major": 2,
              "version_minor": 0
            },
            "text/plain": [
              "  0%|          | 0/104 [00:00<?, ?it/s]"
            ]
          },
          "metadata": {},
          "output_type": "display_data"
        },
        {
          "name": "stdout",
          "output_type": "stream",
          "text": [
            " Accuracy: 0.6442\n",
            " F1 score: 0.5486\n",
            " Average training loss: 0.9571\n",
            "Running Validation...\n"
          ]
        },
        {
          "data": {
            "application/vnd.jupyter.widget-view+json": {
              "model_id": "fba24464132045bdb9d8f17090e93976",
              "version_major": 2,
              "version_minor": 0
            },
            "text/plain": [
              "  0%|          | 0/9 [00:00<?, ?it/s]"
            ]
          },
          "metadata": {},
          "output_type": "display_data"
        },
        {
          "name": "stdout",
          "output_type": "stream",
          "text": [
            "logits:    [5 0 2 0 1 1 4 0 5 3 4 3 1 0 0 0 0 1 0 4 3 1 3 2 1 2]\n",
            "labels_id: [1 4 2 4 2 1 4 2 3 3 4 3 1 3 0 0 0 5 5 2 4 1 3 2 1 5]\n",
            " Accuracy: 0.4800\n",
            " F1 score: 0.4523\n",
            "======== Epoch 305 / 500 ========\n",
            "Training...\n"
          ]
        },
        {
          "data": {
            "application/vnd.jupyter.widget-view+json": {
              "model_id": "5d6047f43d054a0cbe5211e38e2e765f",
              "version_major": 2,
              "version_minor": 0
            },
            "text/plain": [
              "  0%|          | 0/104 [00:00<?, ?it/s]"
            ]
          },
          "metadata": {},
          "output_type": "display_data"
        },
        {
          "name": "stdout",
          "output_type": "stream",
          "text": [
            " Accuracy: 0.6571\n",
            " F1 score: 0.5606\n",
            " Average training loss: 0.9368\n",
            "Running Validation...\n"
          ]
        },
        {
          "data": {
            "application/vnd.jupyter.widget-view+json": {
              "model_id": "e832a290beb64583aedd606521d46943",
              "version_major": 2,
              "version_minor": 0
            },
            "text/plain": [
              "  0%|          | 0/9 [00:00<?, ?it/s]"
            ]
          },
          "metadata": {},
          "output_type": "display_data"
        },
        {
          "name": "stdout",
          "output_type": "stream",
          "text": [
            "logits:    [5 0 2 0 1 1 4 0 5 3 4 3 1 0 0 0 0 1 0 4 3 1 3 2 1 2]\n",
            "labels_id: [1 4 2 4 2 1 4 2 3 3 4 3 1 3 0 0 0 5 5 2 4 1 3 2 1 5]\n",
            " Accuracy: 0.4800\n",
            " F1 score: 0.4523\n",
            "======== Epoch 306 / 500 ========\n",
            "Training...\n"
          ]
        },
        {
          "data": {
            "application/vnd.jupyter.widget-view+json": {
              "model_id": "7d51e144eb754611a95fc589c2b376d5",
              "version_major": 2,
              "version_minor": 0
            },
            "text/plain": [
              "  0%|          | 0/104 [00:00<?, ?it/s]"
            ]
          },
          "metadata": {},
          "output_type": "display_data"
        },
        {
          "name": "stdout",
          "output_type": "stream",
          "text": [
            " Accuracy: 0.6496\n",
            " F1 score: 0.5517\n",
            " Average training loss: 0.9449\n",
            "Running Validation...\n"
          ]
        },
        {
          "data": {
            "application/vnd.jupyter.widget-view+json": {
              "model_id": "94fc73d5f2934ca4a768db292f3a9c57",
              "version_major": 2,
              "version_minor": 0
            },
            "text/plain": [
              "  0%|          | 0/9 [00:00<?, ?it/s]"
            ]
          },
          "metadata": {},
          "output_type": "display_data"
        },
        {
          "name": "stdout",
          "output_type": "stream",
          "text": [
            "logits:    [5 0 2 0 1 1 4 0 5 3 4 3 1 0 0 0 0 1 0 4 3 1 3 2 1 2]\n",
            "labels_id: [1 4 2 4 2 1 4 2 3 3 4 3 1 3 0 0 0 5 5 2 4 1 3 2 1 5]\n",
            " Accuracy: 0.4800\n",
            " F1 score: 0.4517\n",
            "======== Epoch 307 / 500 ========\n",
            "Training...\n"
          ]
        },
        {
          "data": {
            "application/vnd.jupyter.widget-view+json": {
              "model_id": "7c2ecb995eae4c7b87a63e0c1d19535e",
              "version_major": 2,
              "version_minor": 0
            },
            "text/plain": [
              "  0%|          | 0/104 [00:00<?, ?it/s]"
            ]
          },
          "metadata": {},
          "output_type": "display_data"
        },
        {
          "name": "stdout",
          "output_type": "stream",
          "text": [
            " Accuracy: 0.6454\n",
            " F1 score: 0.5431\n",
            " Average training loss: 0.9474\n",
            "Running Validation...\n"
          ]
        },
        {
          "data": {
            "application/vnd.jupyter.widget-view+json": {
              "model_id": "ca7ac78986b74c30a393f4e56815358e",
              "version_major": 2,
              "version_minor": 0
            },
            "text/plain": [
              "  0%|          | 0/9 [00:00<?, ?it/s]"
            ]
          },
          "metadata": {},
          "output_type": "display_data"
        },
        {
          "name": "stdout",
          "output_type": "stream",
          "text": [
            "logits:    [5 0 2 0 1 1 4 0 5 3 4 3 1 0 0 0 0 1 0 4 3 1 3 2 1 2]\n",
            "labels_id: [1 4 2 4 2 1 4 2 3 3 4 3 1 3 0 0 0 5 5 2 4 1 3 2 1 5]\n",
            " Accuracy: 0.4800\n",
            " F1 score: 0.4524\n",
            "======== Epoch 308 / 500 ========\n",
            "Training...\n"
          ]
        },
        {
          "data": {
            "application/vnd.jupyter.widget-view+json": {
              "model_id": "51f822a451984471b63403a74b60a3ad",
              "version_major": 2,
              "version_minor": 0
            },
            "text/plain": [
              "  0%|          | 0/104 [00:00<?, ?it/s]"
            ]
          },
          "metadata": {},
          "output_type": "display_data"
        },
        {
          "name": "stdout",
          "output_type": "stream",
          "text": [
            " Accuracy: 0.6503\n",
            " F1 score: 0.5555\n",
            " Average training loss: 0.9457\n",
            "Running Validation...\n"
          ]
        },
        {
          "data": {
            "application/vnd.jupyter.widget-view+json": {
              "model_id": "0626290649e74b36852abef1720bf4de",
              "version_major": 2,
              "version_minor": 0
            },
            "text/plain": [
              "  0%|          | 0/9 [00:00<?, ?it/s]"
            ]
          },
          "metadata": {},
          "output_type": "display_data"
        },
        {
          "name": "stdout",
          "output_type": "stream",
          "text": [
            "logits:    [5 0 2 0 1 1 4 0 5 3 4 3 1 0 0 0 0 1 0 4 3 1 3 2 1 2]\n",
            "labels_id: [1 4 2 4 2 1 4 2 3 3 4 3 1 3 0 0 0 5 5 2 4 1 3 2 1 5]\n",
            " Accuracy: 0.4817\n",
            " F1 score: 0.4542\n",
            "======== Epoch 309 / 500 ========\n",
            "Training...\n"
          ]
        },
        {
          "data": {
            "application/vnd.jupyter.widget-view+json": {
              "model_id": "f37a1a16b0ce47d183d39fb37e379eab",
              "version_major": 2,
              "version_minor": 0
            },
            "text/plain": [
              "  0%|          | 0/104 [00:00<?, ?it/s]"
            ]
          },
          "metadata": {},
          "output_type": "display_data"
        },
        {
          "name": "stdout",
          "output_type": "stream",
          "text": [
            " Accuracy: 0.6528\n",
            " F1 score: 0.5612\n",
            " Average training loss: 0.9459\n",
            "Running Validation...\n"
          ]
        },
        {
          "data": {
            "application/vnd.jupyter.widget-view+json": {
              "model_id": "5b9675e1466241e49e2245099079918a",
              "version_major": 2,
              "version_minor": 0
            },
            "text/plain": [
              "  0%|          | 0/9 [00:00<?, ?it/s]"
            ]
          },
          "metadata": {},
          "output_type": "display_data"
        },
        {
          "name": "stdout",
          "output_type": "stream",
          "text": [
            "logits:    [5 0 2 0 1 1 4 0 5 3 4 3 1 0 0 0 0 1 0 4 3 1 3 2 1 2]\n",
            "labels_id: [1 4 2 4 2 1 4 2 3 3 4 3 1 3 0 0 0 5 5 2 4 1 3 2 1 5]\n",
            " Accuracy: 0.4817\n",
            " F1 score: 0.4535\n",
            "======== Epoch 310 / 500 ========\n",
            "Training...\n"
          ]
        },
        {
          "data": {
            "application/vnd.jupyter.widget-view+json": {
              "model_id": "25d72b5fab164447ad203704bd5aca9d",
              "version_major": 2,
              "version_minor": 0
            },
            "text/plain": [
              "  0%|          | 0/104 [00:00<?, ?it/s]"
            ]
          },
          "metadata": {},
          "output_type": "display_data"
        },
        {
          "name": "stdout",
          "output_type": "stream",
          "text": [
            " Accuracy: 0.6449\n",
            " F1 score: 0.5490\n",
            " Average training loss: 0.9483\n",
            "Running Validation...\n"
          ]
        },
        {
          "data": {
            "application/vnd.jupyter.widget-view+json": {
              "model_id": "e48a7bea91ce4532946b8d172e521053",
              "version_major": 2,
              "version_minor": 0
            },
            "text/plain": [
              "  0%|          | 0/9 [00:00<?, ?it/s]"
            ]
          },
          "metadata": {},
          "output_type": "display_data"
        },
        {
          "name": "stdout",
          "output_type": "stream",
          "text": [
            "logits:    [5 0 2 0 1 1 4 0 5 3 4 3 1 0 0 0 0 1 0 4 3 1 3 2 1 2]\n",
            "labels_id: [1 4 2 4 2 1 4 2 3 3 4 3 1 3 0 0 0 5 5 2 4 1 3 2 1 5]\n",
            " Accuracy: 0.4800\n",
            " F1 score: 0.4520\n",
            "======== Epoch 311 / 500 ========\n",
            "Training...\n"
          ]
        },
        {
          "data": {
            "application/vnd.jupyter.widget-view+json": {
              "model_id": "ffc2e525fa424d9a9d2bdaced3e3b46a",
              "version_major": 2,
              "version_minor": 0
            },
            "text/plain": [
              "  0%|          | 0/104 [00:00<?, ?it/s]"
            ]
          },
          "metadata": {},
          "output_type": "display_data"
        },
        {
          "name": "stdout",
          "output_type": "stream",
          "text": [
            " Accuracy: 0.6553\n",
            " F1 score: 0.5580\n",
            " Average training loss: 0.9312\n",
            "Running Validation...\n"
          ]
        },
        {
          "data": {
            "application/vnd.jupyter.widget-view+json": {
              "model_id": "321ccab1db944856831ad0706f512665",
              "version_major": 2,
              "version_minor": 0
            },
            "text/plain": [
              "  0%|          | 0/9 [00:00<?, ?it/s]"
            ]
          },
          "metadata": {},
          "output_type": "display_data"
        },
        {
          "name": "stdout",
          "output_type": "stream",
          "text": [
            "logits:    [5 0 2 0 1 1 4 0 5 3 4 3 1 0 0 0 0 1 0 4 3 1 3 2 1 2]\n",
            "labels_id: [1 4 2 4 2 1 4 2 3 3 4 3 1 3 0 0 0 5 5 2 4 1 3 2 1 5]\n",
            " Accuracy: 0.4782\n",
            " F1 score: 0.4510\n",
            "======== Epoch 312 / 500 ========\n",
            "Training...\n"
          ]
        },
        {
          "data": {
            "application/vnd.jupyter.widget-view+json": {
              "model_id": "04e79112d16540e088e7574c00c7c058",
              "version_major": 2,
              "version_minor": 0
            },
            "text/plain": [
              "  0%|          | 0/104 [00:00<?, ?it/s]"
            ]
          },
          "metadata": {},
          "output_type": "display_data"
        },
        {
          "name": "stdout",
          "output_type": "stream",
          "text": [
            " Accuracy: 0.6487\n",
            " F1 score: 0.5531\n",
            " Average training loss: 0.9464\n",
            "Running Validation...\n"
          ]
        },
        {
          "data": {
            "application/vnd.jupyter.widget-view+json": {
              "model_id": "12eeaa7103274084a6ad8d88c35c1b49",
              "version_major": 2,
              "version_minor": 0
            },
            "text/plain": [
              "  0%|          | 0/9 [00:00<?, ?it/s]"
            ]
          },
          "metadata": {},
          "output_type": "display_data"
        },
        {
          "name": "stdout",
          "output_type": "stream",
          "text": [
            "logits:    [5 0 2 0 1 1 4 0 5 3 4 3 1 0 0 0 0 1 0 4 3 1 3 2 1 2]\n",
            "labels_id: [1 4 2 4 2 1 4 2 3 3 4 3 1 3 0 0 0 5 5 2 4 1 3 2 1 5]\n",
            " Accuracy: 0.4817\n",
            " F1 score: 0.4535\n",
            "======== Epoch 313 / 500 ========\n",
            "Training...\n"
          ]
        },
        {
          "data": {
            "application/vnd.jupyter.widget-view+json": {
              "model_id": "577faf728d7542fd95fa6872bda89261",
              "version_major": 2,
              "version_minor": 0
            },
            "text/plain": [
              "  0%|          | 0/104 [00:00<?, ?it/s]"
            ]
          },
          "metadata": {},
          "output_type": "display_data"
        },
        {
          "name": "stdout",
          "output_type": "stream",
          "text": [
            " Accuracy: 0.6433\n",
            " F1 score: 0.5499\n",
            " Average training loss: 0.9458\n",
            "Running Validation...\n"
          ]
        },
        {
          "data": {
            "application/vnd.jupyter.widget-view+json": {
              "model_id": "36dd6106f32a4eeeb49080addcb76daf",
              "version_major": 2,
              "version_minor": 0
            },
            "text/plain": [
              "  0%|          | 0/9 [00:00<?, ?it/s]"
            ]
          },
          "metadata": {},
          "output_type": "display_data"
        },
        {
          "name": "stdout",
          "output_type": "stream",
          "text": [
            "logits:    [5 0 2 0 1 1 4 0 5 3 4 3 1 0 0 0 0 1 0 4 3 1 3 2 1 2]\n",
            "labels_id: [1 4 2 4 2 1 4 2 3 3 4 3 1 3 0 0 0 5 5 2 4 1 3 2 1 5]\n",
            " Accuracy: 0.4852\n",
            " F1 score: 0.4575\n",
            "======== Epoch 314 / 500 ========\n",
            "Training...\n"
          ]
        },
        {
          "data": {
            "application/vnd.jupyter.widget-view+json": {
              "model_id": "d1dfde8f726a4033abf47b179d5e1c31",
              "version_major": 2,
              "version_minor": 0
            },
            "text/plain": [
              "  0%|          | 0/104 [00:00<?, ?it/s]"
            ]
          },
          "metadata": {},
          "output_type": "display_data"
        },
        {
          "name": "stdout",
          "output_type": "stream",
          "text": [
            " Accuracy: 0.6518\n",
            " F1 score: 0.5495\n",
            " Average training loss: 0.9342\n",
            "Running Validation...\n"
          ]
        },
        {
          "data": {
            "application/vnd.jupyter.widget-view+json": {
              "model_id": "c81bcaa68c5f48169e0faffded3b7684",
              "version_major": 2,
              "version_minor": 0
            },
            "text/plain": [
              "  0%|          | 0/9 [00:00<?, ?it/s]"
            ]
          },
          "metadata": {},
          "output_type": "display_data"
        },
        {
          "name": "stdout",
          "output_type": "stream",
          "text": [
            "logits:    [5 0 2 0 1 1 4 0 5 3 4 3 1 0 0 0 0 1 0 4 3 1 3 2 1 2]\n",
            "labels_id: [1 4 2 4 2 1 4 2 3 3 4 3 1 3 0 0 0 5 5 2 4 1 3 2 1 5]\n",
            " Accuracy: 0.4800\n",
            " F1 score: 0.4518\n",
            "======== Epoch 315 / 500 ========\n",
            "Training...\n"
          ]
        },
        {
          "data": {
            "application/vnd.jupyter.widget-view+json": {
              "model_id": "77d0c30b6e8a45d6b124d8796e64a11f",
              "version_major": 2,
              "version_minor": 0
            },
            "text/plain": [
              "  0%|          | 0/104 [00:00<?, ?it/s]"
            ]
          },
          "metadata": {},
          "output_type": "display_data"
        },
        {
          "name": "stdout",
          "output_type": "stream",
          "text": [
            " Accuracy: 0.6550\n",
            " F1 score: 0.5544\n",
            " Average training loss: 0.9368\n",
            "Running Validation...\n"
          ]
        },
        {
          "data": {
            "application/vnd.jupyter.widget-view+json": {
              "model_id": "832dc75fbefd4b448b20e685cf265ce1",
              "version_major": 2,
              "version_minor": 0
            },
            "text/plain": [
              "  0%|          | 0/9 [00:00<?, ?it/s]"
            ]
          },
          "metadata": {},
          "output_type": "display_data"
        },
        {
          "name": "stdout",
          "output_type": "stream",
          "text": [
            "logits:    [5 0 2 0 1 1 4 0 5 3 4 3 1 0 0 0 0 1 0 4 4 1 3 2 1 2]\n",
            "labels_id: [1 4 2 4 2 1 4 2 3 3 4 3 1 3 0 0 0 5 5 2 4 1 3 2 1 5]\n",
            " Accuracy: 0.4877\n",
            " F1 score: 0.4607\n",
            "======== Epoch 316 / 500 ========\n",
            "Training...\n"
          ]
        },
        {
          "data": {
            "application/vnd.jupyter.widget-view+json": {
              "model_id": "1fe398e855c84eeb8c401c3df0dd2449",
              "version_major": 2,
              "version_minor": 0
            },
            "text/plain": [
              "  0%|          | 0/104 [00:00<?, ?it/s]"
            ]
          },
          "metadata": {},
          "output_type": "display_data"
        },
        {
          "name": "stdout",
          "output_type": "stream",
          "text": [
            " Accuracy: 0.6544\n",
            " F1 score: 0.5598\n",
            " Average training loss: 0.9325\n",
            "Running Validation...\n"
          ]
        },
        {
          "data": {
            "application/vnd.jupyter.widget-view+json": {
              "model_id": "18227cfc528f4cd687dbdce27c0e74bd",
              "version_major": 2,
              "version_minor": 0
            },
            "text/plain": [
              "  0%|          | 0/9 [00:00<?, ?it/s]"
            ]
          },
          "metadata": {},
          "output_type": "display_data"
        },
        {
          "name": "stdout",
          "output_type": "stream",
          "text": [
            "logits:    [5 0 2 0 1 1 4 0 5 3 4 3 1 0 0 0 0 1 0 4 4 1 3 2 1 2]\n",
            "labels_id: [1 4 2 4 2 1 4 2 3 3 4 3 1 3 0 0 0 5 5 2 4 1 3 2 1 5]\n",
            " Accuracy: 0.4860\n",
            " F1 score: 0.4598\n",
            "======== Epoch 317 / 500 ========\n",
            "Training...\n"
          ]
        },
        {
          "data": {
            "application/vnd.jupyter.widget-view+json": {
              "model_id": "9794f3df5bfa4d8cab83fc87d1710308",
              "version_major": 2,
              "version_minor": 0
            },
            "text/plain": [
              "  0%|          | 0/104 [00:00<?, ?it/s]"
            ]
          },
          "metadata": {},
          "output_type": "display_data"
        },
        {
          "name": "stdout",
          "output_type": "stream",
          "text": [
            " Accuracy: 0.6506\n",
            " F1 score: 0.5588\n",
            " Average training loss: 0.9205\n",
            "Running Validation...\n"
          ]
        },
        {
          "data": {
            "application/vnd.jupyter.widget-view+json": {
              "model_id": "25febffda6dd47489383cd489e032dd7",
              "version_major": 2,
              "version_minor": 0
            },
            "text/plain": [
              "  0%|          | 0/9 [00:00<?, ?it/s]"
            ]
          },
          "metadata": {},
          "output_type": "display_data"
        },
        {
          "name": "stdout",
          "output_type": "stream",
          "text": [
            "logits:    [5 0 2 0 1 1 4 0 5 3 4 3 1 0 0 0 0 1 0 4 3 1 3 2 1 2]\n",
            "labels_id: [1 4 2 4 2 1 4 2 3 3 4 3 1 3 0 0 0 5 5 2 4 1 3 2 1 5]\n",
            " Accuracy: 0.4834\n",
            " F1 score: 0.4558\n",
            "======== Epoch 318 / 500 ========\n",
            "Training...\n"
          ]
        },
        {
          "data": {
            "application/vnd.jupyter.widget-view+json": {
              "model_id": "fa864da83ec645fb9731eacb1deb6989",
              "version_major": 2,
              "version_minor": 0
            },
            "text/plain": [
              "  0%|          | 0/104 [00:00<?, ?it/s]"
            ]
          },
          "metadata": {},
          "output_type": "display_data"
        },
        {
          "name": "stdout",
          "output_type": "stream",
          "text": [
            " Accuracy: 0.6583\n",
            " F1 score: 0.5593\n",
            " Average training loss: 0.9260\n",
            "Running Validation...\n"
          ]
        },
        {
          "data": {
            "application/vnd.jupyter.widget-view+json": {
              "model_id": "83178c1e5abe438dbe23572db190dc52",
              "version_major": 2,
              "version_minor": 0
            },
            "text/plain": [
              "  0%|          | 0/9 [00:00<?, ?it/s]"
            ]
          },
          "metadata": {},
          "output_type": "display_data"
        },
        {
          "name": "stdout",
          "output_type": "stream",
          "text": [
            "logits:    [5 0 2 0 1 1 4 0 5 3 4 3 1 0 0 0 0 1 0 4 3 1 3 2 1 2]\n",
            "labels_id: [1 4 2 4 2 1 4 2 3 3 4 3 1 3 0 0 0 5 5 2 4 1 3 2 1 5]\n",
            " Accuracy: 0.4817\n",
            " F1 score: 0.4536\n",
            "======== Epoch 319 / 500 ========\n",
            "Training...\n"
          ]
        },
        {
          "data": {
            "application/vnd.jupyter.widget-view+json": {
              "model_id": "89298c004edc4d6fa0d62f7c780eb6c0",
              "version_major": 2,
              "version_minor": 0
            },
            "text/plain": [
              "  0%|          | 0/104 [00:00<?, ?it/s]"
            ]
          },
          "metadata": {},
          "output_type": "display_data"
        },
        {
          "name": "stdout",
          "output_type": "stream",
          "text": [
            " Accuracy: 0.6560\n",
            " F1 score: 0.5635\n",
            " Average training loss: 0.9273\n",
            "Running Validation...\n"
          ]
        },
        {
          "data": {
            "application/vnd.jupyter.widget-view+json": {
              "model_id": "5683ddb9dea04b1a9758d3ffc01d95d7",
              "version_major": 2,
              "version_minor": 0
            },
            "text/plain": [
              "  0%|          | 0/9 [00:00<?, ?it/s]"
            ]
          },
          "metadata": {},
          "output_type": "display_data"
        },
        {
          "name": "stdout",
          "output_type": "stream",
          "text": [
            "logits:    [5 0 2 0 1 1 4 0 5 3 4 3 1 0 0 0 0 1 0 4 4 1 3 2 1 2]\n",
            "labels_id: [1 4 2 4 2 1 4 2 3 3 4 3 1 3 0 0 0 5 5 2 4 1 3 2 1 5]\n",
            " Accuracy: 0.4842\n",
            " F1 score: 0.4566\n",
            "======== Epoch 320 / 500 ========\n",
            "Training...\n"
          ]
        },
        {
          "data": {
            "application/vnd.jupyter.widget-view+json": {
              "model_id": "054a1abc19bb4c5995697168acbb7035",
              "version_major": 2,
              "version_minor": 0
            },
            "text/plain": [
              "  0%|          | 0/104 [00:00<?, ?it/s]"
            ]
          },
          "metadata": {},
          "output_type": "display_data"
        },
        {
          "name": "stdout",
          "output_type": "stream",
          "text": [
            " Accuracy: 0.6549\n",
            " F1 score: 0.5581\n",
            " Average training loss: 0.9257\n",
            "Running Validation...\n"
          ]
        },
        {
          "data": {
            "application/vnd.jupyter.widget-view+json": {
              "model_id": "1c632c3431c9470b8840ed073f0c922f",
              "version_major": 2,
              "version_minor": 0
            },
            "text/plain": [
              "  0%|          | 0/9 [00:00<?, ?it/s]"
            ]
          },
          "metadata": {},
          "output_type": "display_data"
        },
        {
          "name": "stdout",
          "output_type": "stream",
          "text": [
            "logits:    [5 0 2 0 1 1 4 0 5 3 4 3 1 0 0 0 0 1 0 4 4 1 3 2 1 2]\n",
            "labels_id: [1 4 2 4 2 1 4 2 3 3 4 3 1 3 0 0 0 5 5 2 4 1 3 2 1 5]\n",
            " Accuracy: 0.4842\n",
            " F1 score: 0.4567\n",
            "======== Epoch 321 / 500 ========\n",
            "Training...\n"
          ]
        },
        {
          "data": {
            "application/vnd.jupyter.widget-view+json": {
              "model_id": "9e1e70ffaa4f4b359bafb73dfb875eea",
              "version_major": 2,
              "version_minor": 0
            },
            "text/plain": [
              "  0%|          | 0/104 [00:00<?, ?it/s]"
            ]
          },
          "metadata": {},
          "output_type": "display_data"
        },
        {
          "name": "stdout",
          "output_type": "stream",
          "text": [
            " Accuracy: 0.6556\n",
            " F1 score: 0.5600\n",
            " Average training loss: 0.9274\n",
            "Running Validation...\n"
          ]
        },
        {
          "data": {
            "application/vnd.jupyter.widget-view+json": {
              "model_id": "8c7c68f3d6fa48eb99f8e78b973d412c",
              "version_major": 2,
              "version_minor": 0
            },
            "text/plain": [
              "  0%|          | 0/9 [00:00<?, ?it/s]"
            ]
          },
          "metadata": {},
          "output_type": "display_data"
        },
        {
          "name": "stdout",
          "output_type": "stream",
          "text": [
            "logits:    [5 0 2 0 1 1 4 0 5 3 4 3 1 0 0 0 0 1 0 4 4 1 3 2 1 2]\n",
            "labels_id: [1 4 2 4 2 1 4 2 3 3 4 3 1 3 0 0 0 5 5 2 4 1 3 2 1 5]\n",
            " Accuracy: 0.4894\n",
            " F1 score: 0.4622\n",
            "======== Epoch 322 / 500 ========\n",
            "Training...\n"
          ]
        },
        {
          "data": {
            "application/vnd.jupyter.widget-view+json": {
              "model_id": "22afe34fccdb4a0db4028fa4d4188776",
              "version_major": 2,
              "version_minor": 0
            },
            "text/plain": [
              "  0%|          | 0/104 [00:00<?, ?it/s]"
            ]
          },
          "metadata": {},
          "output_type": "display_data"
        },
        {
          "name": "stdout",
          "output_type": "stream",
          "text": [
            " Accuracy: 0.6687\n",
            " F1 score: 0.5714\n",
            " Average training loss: 0.9136\n",
            "Running Validation...\n"
          ]
        },
        {
          "data": {
            "application/vnd.jupyter.widget-view+json": {
              "model_id": "7b9d2fcd20244c76a8942ae36c03d472",
              "version_major": 2,
              "version_minor": 0
            },
            "text/plain": [
              "  0%|          | 0/9 [00:00<?, ?it/s]"
            ]
          },
          "metadata": {},
          "output_type": "display_data"
        },
        {
          "name": "stdout",
          "output_type": "stream",
          "text": [
            "logits:    [5 0 2 0 1 1 4 0 5 3 4 3 1 0 0 0 0 1 0 4 4 1 3 2 1 2]\n",
            "labels_id: [1 4 2 4 2 1 4 2 3 3 4 3 1 3 0 0 0 5 5 2 4 1 3 2 1 5]\n",
            " Accuracy: 0.4842\n",
            " F1 score: 0.4561\n",
            "======== Epoch 323 / 500 ========\n",
            "Training...\n"
          ]
        },
        {
          "data": {
            "application/vnd.jupyter.widget-view+json": {
              "model_id": "621794c493564ccd97b0e1632f77ae76",
              "version_major": 2,
              "version_minor": 0
            },
            "text/plain": [
              "  0%|          | 0/104 [00:00<?, ?it/s]"
            ]
          },
          "metadata": {},
          "output_type": "display_data"
        },
        {
          "name": "stdout",
          "output_type": "stream",
          "text": [
            " Accuracy: 0.6634\n",
            " F1 score: 0.5713\n",
            " Average training loss: 0.9131\n",
            "Running Validation...\n"
          ]
        },
        {
          "data": {
            "application/vnd.jupyter.widget-view+json": {
              "model_id": "ae9b67d40a28443e8158492ff72c93d1",
              "version_major": 2,
              "version_minor": 0
            },
            "text/plain": [
              "  0%|          | 0/9 [00:00<?, ?it/s]"
            ]
          },
          "metadata": {},
          "output_type": "display_data"
        },
        {
          "name": "stdout",
          "output_type": "stream",
          "text": [
            "logits:    [5 0 2 0 1 1 4 0 5 3 4 3 1 0 0 0 0 1 0 4 4 1 3 2 1 2]\n",
            "labels_id: [1 4 2 4 2 1 4 2 3 3 4 3 1 3 0 0 0 5 5 2 4 1 3 2 1 5]\n",
            " Accuracy: 0.4877\n",
            " F1 score: 0.4613\n",
            "======== Epoch 324 / 500 ========\n",
            "Training...\n"
          ]
        },
        {
          "data": {
            "application/vnd.jupyter.widget-view+json": {
              "model_id": "5bb7c92c3ae347af94c20b2e887c73ec",
              "version_major": 2,
              "version_minor": 0
            },
            "text/plain": [
              "  0%|          | 0/104 [00:00<?, ?it/s]"
            ]
          },
          "metadata": {},
          "output_type": "display_data"
        },
        {
          "name": "stdout",
          "output_type": "stream",
          "text": [
            " Accuracy: 0.6577\n",
            " F1 score: 0.5669\n",
            " Average training loss: 0.9261\n",
            "Running Validation...\n"
          ]
        },
        {
          "data": {
            "application/vnd.jupyter.widget-view+json": {
              "model_id": "6d9c9cb56ac84d8d8a727309f7fb665c",
              "version_major": 2,
              "version_minor": 0
            },
            "text/plain": [
              "  0%|          | 0/9 [00:00<?, ?it/s]"
            ]
          },
          "metadata": {},
          "output_type": "display_data"
        },
        {
          "name": "stdout",
          "output_type": "stream",
          "text": [
            "logits:    [5 0 2 0 1 1 4 0 5 3 4 3 1 0 0 0 0 1 0 4 4 1 3 2 1 2]\n",
            "labels_id: [1 4 2 4 2 1 4 2 3 3 4 3 1 3 0 0 0 5 5 2 4 1 3 2 1 5]\n",
            " Accuracy: 0.4877\n",
            " F1 score: 0.4612\n",
            "======== Epoch 325 / 500 ========\n",
            "Training...\n"
          ]
        },
        {
          "data": {
            "application/vnd.jupyter.widget-view+json": {
              "model_id": "7f8d9467b5bb49b3a36da22310369a68",
              "version_major": 2,
              "version_minor": 0
            },
            "text/plain": [
              "  0%|          | 0/104 [00:00<?, ?it/s]"
            ]
          },
          "metadata": {},
          "output_type": "display_data"
        },
        {
          "name": "stdout",
          "output_type": "stream",
          "text": [
            " Accuracy: 0.6623\n",
            " F1 score: 0.5658\n",
            " Average training loss: 0.9241\n",
            "Running Validation...\n"
          ]
        },
        {
          "data": {
            "application/vnd.jupyter.widget-view+json": {
              "model_id": "d0955738db044a87a32b32e3ee44c6bf",
              "version_major": 2,
              "version_minor": 0
            },
            "text/plain": [
              "  0%|          | 0/9 [00:00<?, ?it/s]"
            ]
          },
          "metadata": {},
          "output_type": "display_data"
        },
        {
          "name": "stdout",
          "output_type": "stream",
          "text": [
            "logits:    [5 0 2 0 1 1 4 0 5 3 4 3 1 0 0 0 0 1 0 4 4 1 3 2 1 2]\n",
            "labels_id: [1 4 2 4 2 1 4 2 3 3 4 3 1 3 0 0 0 5 5 2 4 1 3 2 1 5]\n",
            " Accuracy: 0.4842\n",
            " F1 score: 0.4581\n",
            "======== Epoch 326 / 500 ========\n",
            "Training...\n"
          ]
        },
        {
          "data": {
            "application/vnd.jupyter.widget-view+json": {
              "model_id": "042a955ecdba476f9ccb62e4e7e33be8",
              "version_major": 2,
              "version_minor": 0
            },
            "text/plain": [
              "  0%|          | 0/104 [00:00<?, ?it/s]"
            ]
          },
          "metadata": {},
          "output_type": "display_data"
        },
        {
          "name": "stdout",
          "output_type": "stream",
          "text": [
            " Accuracy: 0.6608\n",
            " F1 score: 0.5636\n",
            " Average training loss: 0.9161\n",
            "Running Validation...\n"
          ]
        },
        {
          "data": {
            "application/vnd.jupyter.widget-view+json": {
              "model_id": "5520e484155d4a73b923f03c88c7d59d",
              "version_major": 2,
              "version_minor": 0
            },
            "text/plain": [
              "  0%|          | 0/9 [00:00<?, ?it/s]"
            ]
          },
          "metadata": {},
          "output_type": "display_data"
        },
        {
          "name": "stdout",
          "output_type": "stream",
          "text": [
            "logits:    [5 0 2 0 1 1 4 0 5 3 4 3 1 0 0 0 0 1 0 4 4 1 3 2 1 2]\n",
            "labels_id: [1 4 2 4 2 1 4 2 3 3 4 3 1 3 0 0 0 5 5 2 4 1 3 2 1 5]\n",
            " Accuracy: 0.4877\n",
            " F1 score: 0.4611\n",
            "======== Epoch 327 / 500 ========\n",
            "Training...\n"
          ]
        },
        {
          "data": {
            "application/vnd.jupyter.widget-view+json": {
              "model_id": "a4deb07d009648cda9190ea4032553ca",
              "version_major": 2,
              "version_minor": 0
            },
            "text/plain": [
              "  0%|          | 0/104 [00:00<?, ?it/s]"
            ]
          },
          "metadata": {},
          "output_type": "display_data"
        },
        {
          "name": "stdout",
          "output_type": "stream",
          "text": [
            " Accuracy: 0.6575\n",
            " F1 score: 0.5544\n",
            " Average training loss: 0.9176\n",
            "Running Validation...\n"
          ]
        },
        {
          "data": {
            "application/vnd.jupyter.widget-view+json": {
              "model_id": "9d58fc7a3c644fbfbbf8539f5a58c4d0",
              "version_major": 2,
              "version_minor": 0
            },
            "text/plain": [
              "  0%|          | 0/9 [00:00<?, ?it/s]"
            ]
          },
          "metadata": {},
          "output_type": "display_data"
        },
        {
          "name": "stdout",
          "output_type": "stream",
          "text": [
            "logits:    [5 0 2 0 1 1 4 0 5 3 4 3 1 0 0 0 0 1 0 4 4 1 3 2 1 2]\n",
            "labels_id: [1 4 2 4 2 1 4 2 3 3 4 3 1 3 0 0 0 5 5 2 4 1 3 2 1 5]\n",
            " Accuracy: 0.4877\n",
            " F1 score: 0.4611\n",
            "======== Epoch 328 / 500 ========\n",
            "Training...\n"
          ]
        },
        {
          "data": {
            "application/vnd.jupyter.widget-view+json": {
              "model_id": "b96f518ec99d42c3a56fa16462bd759a",
              "version_major": 2,
              "version_minor": 0
            },
            "text/plain": [
              "  0%|          | 0/104 [00:00<?, ?it/s]"
            ]
          },
          "metadata": {},
          "output_type": "display_data"
        },
        {
          "name": "stdout",
          "output_type": "stream",
          "text": [
            " Accuracy: 0.6613\n",
            " F1 score: 0.5663\n",
            " Average training loss: 0.9156\n",
            "Running Validation...\n"
          ]
        },
        {
          "data": {
            "application/vnd.jupyter.widget-view+json": {
              "model_id": "b0feadba38dc4e0cacbefed601f8065d",
              "version_major": 2,
              "version_minor": 0
            },
            "text/plain": [
              "  0%|          | 0/9 [00:00<?, ?it/s]"
            ]
          },
          "metadata": {},
          "output_type": "display_data"
        },
        {
          "name": "stdout",
          "output_type": "stream",
          "text": [
            "logits:    [5 0 2 0 1 1 4 0 5 3 4 3 1 0 0 0 0 1 0 4 4 1 3 2 1 2]\n",
            "labels_id: [1 4 2 4 2 1 4 2 3 3 4 3 1 3 0 0 0 5 5 2 4 1 3 2 1 5]\n",
            " Accuracy: 0.4877\n",
            " F1 score: 0.4612\n",
            "======== Epoch 329 / 500 ========\n",
            "Training...\n"
          ]
        },
        {
          "data": {
            "application/vnd.jupyter.widget-view+json": {
              "model_id": "00b02d4700be459295c5e7cc203345a1",
              "version_major": 2,
              "version_minor": 0
            },
            "text/plain": [
              "  0%|          | 0/104 [00:00<?, ?it/s]"
            ]
          },
          "metadata": {},
          "output_type": "display_data"
        },
        {
          "name": "stdout",
          "output_type": "stream",
          "text": [
            " Accuracy: 0.6600\n",
            " F1 score: 0.5636\n",
            " Average training loss: 0.9121\n",
            "Running Validation...\n"
          ]
        },
        {
          "data": {
            "application/vnd.jupyter.widget-view+json": {
              "model_id": "bd54fbf6bdd44523bb37480e3944bed2",
              "version_major": 2,
              "version_minor": 0
            },
            "text/plain": [
              "  0%|          | 0/9 [00:00<?, ?it/s]"
            ]
          },
          "metadata": {},
          "output_type": "display_data"
        },
        {
          "name": "stdout",
          "output_type": "stream",
          "text": [
            "logits:    [5 0 2 0 1 1 4 0 5 3 4 3 1 0 0 0 0 1 0 4 4 1 3 2 1 2]\n",
            "labels_id: [1 4 2 4 2 1 4 2 3 3 4 3 1 3 0 0 0 5 5 2 4 1 3 2 1 5]\n",
            " Accuracy: 0.4877\n",
            " F1 score: 0.4609\n",
            "======== Epoch 330 / 500 ========\n",
            "Training...\n"
          ]
        },
        {
          "data": {
            "application/vnd.jupyter.widget-view+json": {
              "model_id": "0be6a54db52c4d979a95277378cf8b43",
              "version_major": 2,
              "version_minor": 0
            },
            "text/plain": [
              "  0%|          | 0/104 [00:00<?, ?it/s]"
            ]
          },
          "metadata": {},
          "output_type": "display_data"
        },
        {
          "name": "stdout",
          "output_type": "stream",
          "text": [
            " Accuracy: 0.6649\n",
            " F1 score: 0.5735\n",
            " Average training loss: 0.9135\n",
            "Running Validation...\n"
          ]
        },
        {
          "data": {
            "application/vnd.jupyter.widget-view+json": {
              "model_id": "1823277bafe94c3cb698a57bc5a2dfe5",
              "version_major": 2,
              "version_minor": 0
            },
            "text/plain": [
              "  0%|          | 0/9 [00:00<?, ?it/s]"
            ]
          },
          "metadata": {},
          "output_type": "display_data"
        },
        {
          "name": "stdout",
          "output_type": "stream",
          "text": [
            "logits:    [5 0 2 0 1 1 4 0 5 3 4 3 1 0 0 0 0 1 0 4 4 1 3 2 1 2]\n",
            "labels_id: [1 4 2 4 2 1 4 2 3 3 4 3 1 3 0 0 0 5 5 2 4 1 3 2 1 5]\n",
            " Accuracy: 0.4860\n",
            " F1 score: 0.4597\n",
            "======== Epoch 331 / 500 ========\n",
            "Training...\n"
          ]
        },
        {
          "data": {
            "application/vnd.jupyter.widget-view+json": {
              "model_id": "a91e1a94dc5b4bf28484f1d2b8f63098",
              "version_major": 2,
              "version_minor": 0
            },
            "text/plain": [
              "  0%|          | 0/104 [00:00<?, ?it/s]"
            ]
          },
          "metadata": {},
          "output_type": "display_data"
        },
        {
          "name": "stdout",
          "output_type": "stream",
          "text": [
            " Accuracy: 0.6589\n",
            " F1 score: 0.5638\n",
            " Average training loss: 0.9174\n",
            "Running Validation...\n"
          ]
        },
        {
          "data": {
            "application/vnd.jupyter.widget-view+json": {
              "model_id": "7b21d42cafe548ee85c7680db0a0eb0f",
              "version_major": 2,
              "version_minor": 0
            },
            "text/plain": [
              "  0%|          | 0/9 [00:00<?, ?it/s]"
            ]
          },
          "metadata": {},
          "output_type": "display_data"
        },
        {
          "name": "stdout",
          "output_type": "stream",
          "text": [
            "logits:    [5 0 2 0 1 1 4 0 5 3 4 3 1 0 0 0 0 1 0 4 4 1 3 2 1 2]\n",
            "labels_id: [1 4 2 4 2 1 4 2 3 3 4 3 1 3 0 0 0 5 5 2 4 1 3 2 1 5]\n",
            " Accuracy: 0.4894\n",
            " F1 score: 0.4636\n",
            "======== Epoch 332 / 500 ========\n",
            "Training...\n"
          ]
        },
        {
          "data": {
            "application/vnd.jupyter.widget-view+json": {
              "model_id": "a90c698f89c14d738a15f80e14bcc5ac",
              "version_major": 2,
              "version_minor": 0
            },
            "text/plain": [
              "  0%|          | 0/104 [00:00<?, ?it/s]"
            ]
          },
          "metadata": {},
          "output_type": "display_data"
        },
        {
          "name": "stdout",
          "output_type": "stream",
          "text": [
            " Accuracy: 0.6636\n",
            " F1 score: 0.5719\n",
            " Average training loss: 0.9042\n",
            "Running Validation...\n"
          ]
        },
        {
          "data": {
            "application/vnd.jupyter.widget-view+json": {
              "model_id": "ae6f0077202344d5999c446cc696cb7f",
              "version_major": 2,
              "version_minor": 0
            },
            "text/plain": [
              "  0%|          | 0/9 [00:00<?, ?it/s]"
            ]
          },
          "metadata": {},
          "output_type": "display_data"
        },
        {
          "name": "stdout",
          "output_type": "stream",
          "text": [
            "logits:    [5 0 2 0 1 1 4 0 5 3 4 3 1 0 0 0 0 1 0 4 4 1 3 2 1 2]\n",
            "labels_id: [1 4 2 4 2 1 4 2 3 3 4 3 1 3 0 0 0 5 5 2 4 1 3 2 1 5]\n",
            " Accuracy: 0.4877\n",
            " F1 score: 0.4609\n",
            "======== Epoch 333 / 500 ========\n",
            "Training...\n"
          ]
        },
        {
          "data": {
            "application/vnd.jupyter.widget-view+json": {
              "model_id": "ae65356f8f974b9f96b3c3fda518d315",
              "version_major": 2,
              "version_minor": 0
            },
            "text/plain": [
              "  0%|          | 0/104 [00:00<?, ?it/s]"
            ]
          },
          "metadata": {},
          "output_type": "display_data"
        },
        {
          "name": "stdout",
          "output_type": "stream",
          "text": [
            " Accuracy: 0.6720\n",
            " F1 score: 0.5865\n",
            " Average training loss: 0.9034\n",
            "Running Validation...\n"
          ]
        },
        {
          "data": {
            "application/vnd.jupyter.widget-view+json": {
              "model_id": "64d9e1d4be5e4b868f7311a043d7cef0",
              "version_major": 2,
              "version_minor": 0
            },
            "text/plain": [
              "  0%|          | 0/9 [00:00<?, ?it/s]"
            ]
          },
          "metadata": {},
          "output_type": "display_data"
        },
        {
          "name": "stdout",
          "output_type": "stream",
          "text": [
            "logits:    [5 0 2 0 1 1 4 0 5 3 4 3 1 0 0 0 0 1 0 4 4 1 3 2 1 2]\n",
            "labels_id: [1 4 2 4 2 1 4 2 3 3 4 3 1 3 0 0 0 5 5 2 4 1 3 2 1 5]\n",
            " Accuracy: 0.4860\n",
            " F1 score: 0.4592\n",
            "======== Epoch 334 / 500 ========\n",
            "Training...\n"
          ]
        },
        {
          "data": {
            "application/vnd.jupyter.widget-view+json": {
              "model_id": "b405731757a3436ab33800466bd601ae",
              "version_major": 2,
              "version_minor": 0
            },
            "text/plain": [
              "  0%|          | 0/104 [00:00<?, ?it/s]"
            ]
          },
          "metadata": {},
          "output_type": "display_data"
        },
        {
          "name": "stdout",
          "output_type": "stream",
          "text": [
            " Accuracy: 0.6629\n",
            " F1 score: 0.5683\n",
            " Average training loss: 0.9099\n",
            "Running Validation...\n"
          ]
        },
        {
          "data": {
            "application/vnd.jupyter.widget-view+json": {
              "model_id": "e71bf311c8d44222b8ed02d6d8bf73d0",
              "version_major": 2,
              "version_minor": 0
            },
            "text/plain": [
              "  0%|          | 0/9 [00:00<?, ?it/s]"
            ]
          },
          "metadata": {},
          "output_type": "display_data"
        },
        {
          "name": "stdout",
          "output_type": "stream",
          "text": [
            "logits:    [5 0 2 0 1 1 4 0 5 3 4 3 1 0 0 0 0 1 0 4 4 1 3 2 1 2]\n",
            "labels_id: [1 4 2 4 2 1 4 2 3 3 4 3 1 3 0 0 0 5 5 2 4 1 3 2 1 5]\n",
            " Accuracy: 0.4860\n",
            " F1 score: 0.4583\n",
            "======== Epoch 335 / 500 ========\n",
            "Training...\n"
          ]
        },
        {
          "data": {
            "application/vnd.jupyter.widget-view+json": {
              "model_id": "d5951b97a15441838f808e197e85105f",
              "version_major": 2,
              "version_minor": 0
            },
            "text/plain": [
              "  0%|          | 0/104 [00:00<?, ?it/s]"
            ]
          },
          "metadata": {},
          "output_type": "display_data"
        },
        {
          "name": "stdout",
          "output_type": "stream",
          "text": [
            " Accuracy: 0.6714\n",
            " F1 score: 0.5808\n",
            " Average training loss: 0.8995\n",
            "Running Validation...\n"
          ]
        },
        {
          "data": {
            "application/vnd.jupyter.widget-view+json": {
              "model_id": "290cd2d4b5b34214a0e41c16651d5daa",
              "version_major": 2,
              "version_minor": 0
            },
            "text/plain": [
              "  0%|          | 0/9 [00:00<?, ?it/s]"
            ]
          },
          "metadata": {},
          "output_type": "display_data"
        },
        {
          "name": "stdout",
          "output_type": "stream",
          "text": [
            "logits:    [5 0 2 0 1 1 4 0 5 3 4 3 1 0 0 0 0 1 0 4 4 1 3 2 1 2]\n",
            "labels_id: [1 4 2 4 2 1 4 2 3 3 4 3 1 3 0 0 0 5 5 2 4 1 3 2 1 5]\n",
            " Accuracy: 0.4842\n",
            " F1 score: 0.4584\n",
            "======== Epoch 336 / 500 ========\n",
            "Training...\n"
          ]
        },
        {
          "data": {
            "application/vnd.jupyter.widget-view+json": {
              "model_id": "3493875946ec49688299048506ad5c58",
              "version_major": 2,
              "version_minor": 0
            },
            "text/plain": [
              "  0%|          | 0/104 [00:00<?, ?it/s]"
            ]
          },
          "metadata": {},
          "output_type": "display_data"
        },
        {
          "name": "stdout",
          "output_type": "stream",
          "text": [
            " Accuracy: 0.6632\n",
            " F1 score: 0.5701\n",
            " Average training loss: 0.9110\n",
            "Running Validation...\n"
          ]
        },
        {
          "data": {
            "application/vnd.jupyter.widget-view+json": {
              "model_id": "b38a8484db134b56806180b78c6b6db3",
              "version_major": 2,
              "version_minor": 0
            },
            "text/plain": [
              "  0%|          | 0/9 [00:00<?, ?it/s]"
            ]
          },
          "metadata": {},
          "output_type": "display_data"
        },
        {
          "name": "stdout",
          "output_type": "stream",
          "text": [
            "logits:    [5 0 2 0 1 1 4 5 5 3 4 3 1 0 0 0 0 1 0 4 4 1 3 2 1 2]\n",
            "labels_id: [1 4 2 4 2 1 4 2 3 3 4 3 1 3 0 0 0 5 5 2 4 1 3 2 1 5]\n",
            " Accuracy: 0.4842\n",
            " F1 score: 0.4586\n",
            "======== Epoch 337 / 500 ========\n",
            "Training...\n"
          ]
        },
        {
          "data": {
            "application/vnd.jupyter.widget-view+json": {
              "model_id": "3184235893cb457d9f99b9b2fbccaa5c",
              "version_major": 2,
              "version_minor": 0
            },
            "text/plain": [
              "  0%|          | 0/104 [00:00<?, ?it/s]"
            ]
          },
          "metadata": {},
          "output_type": "display_data"
        },
        {
          "name": "stdout",
          "output_type": "stream",
          "text": [
            " Accuracy: 0.6723\n",
            " F1 score: 0.5794\n",
            " Average training loss: 0.8894\n",
            "Running Validation...\n"
          ]
        },
        {
          "data": {
            "application/vnd.jupyter.widget-view+json": {
              "model_id": "4a8bd14f473c4c708c4d1297bfad6fda",
              "version_major": 2,
              "version_minor": 0
            },
            "text/plain": [
              "  0%|          | 0/9 [00:00<?, ?it/s]"
            ]
          },
          "metadata": {},
          "output_type": "display_data"
        },
        {
          "name": "stdout",
          "output_type": "stream",
          "text": [
            "logits:    [5 0 2 0 1 1 4 0 5 3 4 3 1 0 0 0 0 1 0 4 4 1 3 2 1 2]\n",
            "labels_id: [1 4 2 4 2 1 4 2 3 3 4 3 1 3 0 0 0 5 5 2 4 1 3 2 1 5]\n",
            " Accuracy: 0.4842\n",
            " F1 score: 0.4587\n",
            "======== Epoch 338 / 500 ========\n",
            "Training...\n"
          ]
        },
        {
          "data": {
            "application/vnd.jupyter.widget-view+json": {
              "model_id": "04d45cfe86614660b8e9024c9a9bd097",
              "version_major": 2,
              "version_minor": 0
            },
            "text/plain": [
              "  0%|          | 0/104 [00:00<?, ?it/s]"
            ]
          },
          "metadata": {},
          "output_type": "display_data"
        },
        {
          "name": "stdout",
          "output_type": "stream",
          "text": [
            " Accuracy: 0.6726\n",
            " F1 score: 0.5775\n",
            " Average training loss: 0.8932\n",
            "Running Validation...\n"
          ]
        },
        {
          "data": {
            "application/vnd.jupyter.widget-view+json": {
              "model_id": "18d1912d94b142ecb27bffa66b133356",
              "version_major": 2,
              "version_minor": 0
            },
            "text/plain": [
              "  0%|          | 0/9 [00:00<?, ?it/s]"
            ]
          },
          "metadata": {},
          "output_type": "display_data"
        },
        {
          "name": "stdout",
          "output_type": "stream",
          "text": [
            "logits:    [5 0 2 0 1 1 4 5 5 3 4 3 1 0 0 0 0 1 0 4 4 1 3 2 1 2]\n",
            "labels_id: [1 4 2 4 2 1 4 2 3 3 4 3 1 3 0 0 0 5 5 2 4 1 3 2 1 5]\n",
            " Accuracy: 0.4877\n",
            " F1 score: 0.4619\n",
            "======== Epoch 339 / 500 ========\n",
            "Training...\n"
          ]
        },
        {
          "data": {
            "application/vnd.jupyter.widget-view+json": {
              "model_id": "51d427c6b89542c285f4bea09023a606",
              "version_major": 2,
              "version_minor": 0
            },
            "text/plain": [
              "  0%|          | 0/104 [00:00<?, ?it/s]"
            ]
          },
          "metadata": {},
          "output_type": "display_data"
        },
        {
          "name": "stdout",
          "output_type": "stream",
          "text": [
            " Accuracy: 0.6685\n",
            " F1 score: 0.5793\n",
            " Average training loss: 0.8997\n",
            "Running Validation...\n"
          ]
        },
        {
          "data": {
            "application/vnd.jupyter.widget-view+json": {
              "model_id": "701e3010ff56457b98d6ddb7b8839122",
              "version_major": 2,
              "version_minor": 0
            },
            "text/plain": [
              "  0%|          | 0/9 [00:00<?, ?it/s]"
            ]
          },
          "metadata": {},
          "output_type": "display_data"
        },
        {
          "name": "stdout",
          "output_type": "stream",
          "text": [
            "logits:    [5 0 2 0 1 1 4 5 5 3 4 3 1 0 0 0 0 1 0 4 4 1 3 2 1 2]\n",
            "labels_id: [1 4 2 4 2 1 4 2 3 3 4 3 1 3 0 0 0 5 5 2 4 1 3 2 1 5]\n",
            " Accuracy: 0.4842\n",
            " F1 score: 0.4591\n",
            "======== Epoch 340 / 500 ========\n",
            "Training...\n"
          ]
        },
        {
          "data": {
            "application/vnd.jupyter.widget-view+json": {
              "model_id": "ab13f7c4dc43454a93e13eeb98699901",
              "version_major": 2,
              "version_minor": 0
            },
            "text/plain": [
              "  0%|          | 0/104 [00:00<?, ?it/s]"
            ]
          },
          "metadata": {},
          "output_type": "display_data"
        },
        {
          "name": "stdout",
          "output_type": "stream",
          "text": [
            " Accuracy: 0.6660\n",
            " F1 score: 0.5716\n",
            " Average training loss: 0.9069\n",
            "Running Validation...\n"
          ]
        },
        {
          "data": {
            "application/vnd.jupyter.widget-view+json": {
              "model_id": "0292aa09e93d4e6390241658936ce6cd",
              "version_major": 2,
              "version_minor": 0
            },
            "text/plain": [
              "  0%|          | 0/9 [00:00<?, ?it/s]"
            ]
          },
          "metadata": {},
          "output_type": "display_data"
        },
        {
          "name": "stdout",
          "output_type": "stream",
          "text": [
            "logits:    [5 0 2 0 1 1 4 5 5 3 4 3 1 0 0 0 0 1 0 4 4 1 3 2 1 2]\n",
            "labels_id: [1 4 2 4 2 1 4 2 3 3 4 3 1 3 0 0 0 5 5 2 4 1 3 2 1 5]\n",
            " Accuracy: 0.4825\n",
            " F1 score: 0.4573\n",
            "======== Epoch 341 / 500 ========\n",
            "Training...\n"
          ]
        },
        {
          "data": {
            "application/vnd.jupyter.widget-view+json": {
              "model_id": "56b0defe961b4c24af648d9069932be1",
              "version_major": 2,
              "version_minor": 0
            },
            "text/plain": [
              "  0%|          | 0/104 [00:00<?, ?it/s]"
            ]
          },
          "metadata": {},
          "output_type": "display_data"
        },
        {
          "name": "stdout",
          "output_type": "stream",
          "text": [
            " Accuracy: 0.6695\n",
            " F1 score: 0.5803\n",
            " Average training loss: 0.9026\n",
            "Running Validation...\n"
          ]
        },
        {
          "data": {
            "application/vnd.jupyter.widget-view+json": {
              "model_id": "11ed424370014e3496000a65db978474",
              "version_major": 2,
              "version_minor": 0
            },
            "text/plain": [
              "  0%|          | 0/9 [00:00<?, ?it/s]"
            ]
          },
          "metadata": {},
          "output_type": "display_data"
        },
        {
          "name": "stdout",
          "output_type": "stream",
          "text": [
            "logits:    [5 0 2 0 1 1 4 5 5 3 4 3 1 0 0 0 0 1 0 4 4 1 3 2 1 2]\n",
            "labels_id: [1 4 2 4 2 1 4 2 3 3 4 3 1 3 0 0 0 5 5 2 4 1 3 2 1 5]\n",
            " Accuracy: 0.4860\n",
            " F1 score: 0.4606\n",
            "======== Epoch 342 / 500 ========\n",
            "Training...\n"
          ]
        },
        {
          "data": {
            "application/vnd.jupyter.widget-view+json": {
              "model_id": "981f3b516d4843549f5c50e64675c48d",
              "version_major": 2,
              "version_minor": 0
            },
            "text/plain": [
              "  0%|          | 0/104 [00:00<?, ?it/s]"
            ]
          },
          "metadata": {},
          "output_type": "display_data"
        },
        {
          "name": "stdout",
          "output_type": "stream",
          "text": [
            " Accuracy: 0.6831\n",
            " F1 score: 0.5904\n",
            " Average training loss: 0.8827\n",
            "Running Validation...\n"
          ]
        },
        {
          "data": {
            "application/vnd.jupyter.widget-view+json": {
              "model_id": "dab33aa223a24f1ca49ec099f602eb51",
              "version_major": 2,
              "version_minor": 0
            },
            "text/plain": [
              "  0%|          | 0/9 [00:00<?, ?it/s]"
            ]
          },
          "metadata": {},
          "output_type": "display_data"
        },
        {
          "name": "stdout",
          "output_type": "stream",
          "text": [
            "logits:    [5 0 2 0 1 1 4 5 5 3 4 3 1 0 0 0 0 1 0 4 4 1 3 2 1 2]\n",
            "labels_id: [1 4 2 4 2 1 4 2 3 3 4 3 1 3 0 0 0 5 5 2 4 1 3 2 1 5]\n",
            " Accuracy: 0.4842\n",
            " F1 score: 0.4593\n",
            "======== Epoch 343 / 500 ========\n",
            "Training...\n"
          ]
        },
        {
          "data": {
            "application/vnd.jupyter.widget-view+json": {
              "model_id": "6cc3b1f42a544415b0a55248e04d4a5a",
              "version_major": 2,
              "version_minor": 0
            },
            "text/plain": [
              "  0%|          | 0/104 [00:00<?, ?it/s]"
            ]
          },
          "metadata": {},
          "output_type": "display_data"
        },
        {
          "name": "stdout",
          "output_type": "stream",
          "text": [
            " Accuracy: 0.6703\n",
            " F1 score: 0.5803\n",
            " Average training loss: 0.8892\n",
            "Running Validation...\n"
          ]
        },
        {
          "data": {
            "application/vnd.jupyter.widget-view+json": {
              "model_id": "1de45abcc0a849a49d69468b1dc87edd",
              "version_major": 2,
              "version_minor": 0
            },
            "text/plain": [
              "  0%|          | 0/9 [00:00<?, ?it/s]"
            ]
          },
          "metadata": {},
          "output_type": "display_data"
        },
        {
          "name": "stdout",
          "output_type": "stream",
          "text": [
            "logits:    [0 0 2 0 1 1 4 5 5 3 4 3 1 0 0 0 0 1 0 4 4 1 3 2 1 2]\n",
            "labels_id: [1 4 2 4 2 1 4 2 3 3 4 3 1 3 0 0 0 5 5 2 4 1 3 2 1 5]\n",
            " Accuracy: 0.4825\n",
            " F1 score: 0.4575\n",
            "======== Epoch 344 / 500 ========\n",
            "Training...\n"
          ]
        },
        {
          "data": {
            "application/vnd.jupyter.widget-view+json": {
              "model_id": "7e927cc76c094128ae7e55d129c46663",
              "version_major": 2,
              "version_minor": 0
            },
            "text/plain": [
              "  0%|          | 0/104 [00:00<?, ?it/s]"
            ]
          },
          "metadata": {},
          "output_type": "display_data"
        },
        {
          "name": "stdout",
          "output_type": "stream",
          "text": [
            " Accuracy: 0.6688\n",
            " F1 score: 0.5736\n",
            " Average training loss: 0.8923\n",
            "Running Validation...\n"
          ]
        },
        {
          "data": {
            "application/vnd.jupyter.widget-view+json": {
              "model_id": "6d783af5ba074c9b92f94c6a17c84112",
              "version_major": 2,
              "version_minor": 0
            },
            "text/plain": [
              "  0%|          | 0/9 [00:00<?, ?it/s]"
            ]
          },
          "metadata": {},
          "output_type": "display_data"
        },
        {
          "name": "stdout",
          "output_type": "stream",
          "text": [
            "logits:    [0 0 2 0 1 1 4 5 5 3 4 3 1 0 0 0 0 1 0 4 4 1 3 2 1 2]\n",
            "labels_id: [1 4 2 4 2 1 4 2 3 3 4 3 1 3 0 0 0 5 5 2 4 1 3 2 1 5]\n",
            " Accuracy: 0.4825\n",
            " F1 score: 0.4572\n",
            "======== Epoch 345 / 500 ========\n",
            "Training...\n"
          ]
        },
        {
          "data": {
            "application/vnd.jupyter.widget-view+json": {
              "model_id": "c56a53daed654e839198ab231abc4871",
              "version_major": 2,
              "version_minor": 0
            },
            "text/plain": [
              "  0%|          | 0/104 [00:00<?, ?it/s]"
            ]
          },
          "metadata": {},
          "output_type": "display_data"
        },
        {
          "name": "stdout",
          "output_type": "stream",
          "text": [
            " Accuracy: 0.6762\n",
            " F1 score: 0.5887\n",
            " Average training loss: 0.8816\n",
            "Running Validation...\n"
          ]
        },
        {
          "data": {
            "application/vnd.jupyter.widget-view+json": {
              "model_id": "36e2d60732dd45528de062caa3f65552",
              "version_major": 2,
              "version_minor": 0
            },
            "text/plain": [
              "  0%|          | 0/9 [00:00<?, ?it/s]"
            ]
          },
          "metadata": {},
          "output_type": "display_data"
        },
        {
          "name": "stdout",
          "output_type": "stream",
          "text": [
            "logits:    [5 0 2 0 1 1 4 5 5 3 4 3 1 0 0 0 0 1 0 4 4 1 3 2 1 2]\n",
            "labels_id: [1 4 2 4 2 1 4 2 3 3 4 3 1 3 0 0 0 5 5 2 4 1 3 2 1 5]\n",
            " Accuracy: 0.4808\n",
            " F1 score: 0.4558\n",
            "======== Epoch 346 / 500 ========\n",
            "Training...\n"
          ]
        },
        {
          "data": {
            "application/vnd.jupyter.widget-view+json": {
              "model_id": "48d6f1f8a85e4e96a4176d0645a44486",
              "version_major": 2,
              "version_minor": 0
            },
            "text/plain": [
              "  0%|          | 0/104 [00:00<?, ?it/s]"
            ]
          },
          "metadata": {},
          "output_type": "display_data"
        },
        {
          "name": "stdout",
          "output_type": "stream",
          "text": [
            " Accuracy: 0.6862\n",
            " F1 score: 0.5971\n",
            " Average training loss: 0.8687\n",
            "Running Validation...\n"
          ]
        },
        {
          "data": {
            "application/vnd.jupyter.widget-view+json": {
              "model_id": "a164cb69073644a9bab2949fa6b7e538",
              "version_major": 2,
              "version_minor": 0
            },
            "text/plain": [
              "  0%|          | 0/9 [00:00<?, ?it/s]"
            ]
          },
          "metadata": {},
          "output_type": "display_data"
        },
        {
          "name": "stdout",
          "output_type": "stream",
          "text": [
            "logits:    [5 0 2 0 1 1 4 5 5 3 4 3 1 0 0 0 0 1 0 4 4 1 3 2 1 2]\n",
            "labels_id: [1 4 2 4 2 1 4 2 3 3 4 3 1 3 0 0 0 5 5 2 4 1 3 2 1 5]\n",
            " Accuracy: 0.4808\n",
            " F1 score: 0.4558\n",
            "======== Epoch 347 / 500 ========\n",
            "Training...\n"
          ]
        },
        {
          "data": {
            "application/vnd.jupyter.widget-view+json": {
              "model_id": "cecb30d1a6124e509efd24187f9063eb",
              "version_major": 2,
              "version_minor": 0
            },
            "text/plain": [
              "  0%|          | 0/104 [00:00<?, ?it/s]"
            ]
          },
          "metadata": {},
          "output_type": "display_data"
        },
        {
          "name": "stdout",
          "output_type": "stream",
          "text": [
            " Accuracy: 0.6759\n",
            " F1 score: 0.5836\n",
            " Average training loss: 0.8850\n",
            "Running Validation...\n"
          ]
        },
        {
          "data": {
            "application/vnd.jupyter.widget-view+json": {
              "model_id": "4b9f094b71ae4ab38a2c53aad5188695",
              "version_major": 2,
              "version_minor": 0
            },
            "text/plain": [
              "  0%|          | 0/9 [00:00<?, ?it/s]"
            ]
          },
          "metadata": {},
          "output_type": "display_data"
        },
        {
          "name": "stdout",
          "output_type": "stream",
          "text": [
            "logits:    [0 0 2 0 1 1 4 5 5 3 4 3 1 0 0 0 0 1 0 4 4 1 3 2 1 2]\n",
            "labels_id: [1 4 2 4 2 1 4 2 3 3 4 3 1 3 0 0 0 5 5 2 4 1 3 2 1 5]\n",
            " Accuracy: 0.4825\n",
            " F1 score: 0.4572\n",
            "======== Epoch 348 / 500 ========\n",
            "Training...\n"
          ]
        },
        {
          "data": {
            "application/vnd.jupyter.widget-view+json": {
              "model_id": "9b71661d24674c11b50797845bb0cf52",
              "version_major": 2,
              "version_minor": 0
            },
            "text/plain": [
              "  0%|          | 0/104 [00:00<?, ?it/s]"
            ]
          },
          "metadata": {},
          "output_type": "display_data"
        },
        {
          "name": "stdout",
          "output_type": "stream",
          "text": [
            " Accuracy: 0.6893\n",
            " F1 score: 0.5994\n",
            " Average training loss: 0.8654\n",
            "Running Validation...\n"
          ]
        },
        {
          "data": {
            "application/vnd.jupyter.widget-view+json": {
              "model_id": "cb62c84a4fbb4c7d9e3bba13e41d21be",
              "version_major": 2,
              "version_minor": 0
            },
            "text/plain": [
              "  0%|          | 0/9 [00:00<?, ?it/s]"
            ]
          },
          "metadata": {},
          "output_type": "display_data"
        },
        {
          "name": "stdout",
          "output_type": "stream",
          "text": [
            "logits:    [5 0 2 0 1 1 4 5 5 3 4 3 1 0 0 0 0 1 0 4 4 1 3 2 1 2]\n",
            "labels_id: [1 4 2 4 2 1 4 2 3 3 4 3 1 3 0 0 0 5 5 2 4 1 3 2 1 5]\n",
            " Accuracy: 0.4842\n",
            " F1 score: 0.4595\n",
            "======== Epoch 349 / 500 ========\n",
            "Training...\n"
          ]
        },
        {
          "data": {
            "application/vnd.jupyter.widget-view+json": {
              "model_id": "5b33df704dd7448ea29fffc0e9c3d539",
              "version_major": 2,
              "version_minor": 0
            },
            "text/plain": [
              "  0%|          | 0/104 [00:00<?, ?it/s]"
            ]
          },
          "metadata": {},
          "output_type": "display_data"
        },
        {
          "name": "stdout",
          "output_type": "stream",
          "text": [
            " Accuracy: 0.6714\n",
            " F1 score: 0.5765\n",
            " Average training loss: 0.8879\n",
            "Running Validation...\n"
          ]
        },
        {
          "data": {
            "application/vnd.jupyter.widget-view+json": {
              "model_id": "cc3329e488d149dca70a2746922d1b5f",
              "version_major": 2,
              "version_minor": 0
            },
            "text/plain": [
              "  0%|          | 0/9 [00:00<?, ?it/s]"
            ]
          },
          "metadata": {},
          "output_type": "display_data"
        },
        {
          "name": "stdout",
          "output_type": "stream",
          "text": [
            "logits:    [0 0 2 0 1 1 4 0 5 3 4 3 1 0 0 0 0 1 0 4 4 1 3 2 1 2]\n",
            "labels_id: [1 4 2 4 2 1 4 2 3 3 4 3 1 3 0 0 0 5 5 2 4 1 3 2 1 5]\n",
            " Accuracy: 0.4825\n",
            " F1 score: 0.4568\n",
            "======== Epoch 350 / 500 ========\n",
            "Training...\n"
          ]
        },
        {
          "data": {
            "application/vnd.jupyter.widget-view+json": {
              "model_id": "91efa7858d3043d69e4484b41b64b0e4",
              "version_major": 2,
              "version_minor": 0
            },
            "text/plain": [
              "  0%|          | 0/104 [00:00<?, ?it/s]"
            ]
          },
          "metadata": {},
          "output_type": "display_data"
        },
        {
          "name": "stdout",
          "output_type": "stream",
          "text": [
            " Accuracy: 0.6813\n",
            " F1 score: 0.5859\n",
            " Average training loss: 0.8786\n",
            "Running Validation...\n"
          ]
        },
        {
          "data": {
            "application/vnd.jupyter.widget-view+json": {
              "model_id": "d8e677d63d9943809d218cab864a1da5",
              "version_major": 2,
              "version_minor": 0
            },
            "text/plain": [
              "  0%|          | 0/9 [00:00<?, ?it/s]"
            ]
          },
          "metadata": {},
          "output_type": "display_data"
        },
        {
          "name": "stdout",
          "output_type": "stream",
          "text": [
            "logits:    [5 0 2 0 1 1 4 5 5 3 4 3 1 0 0 0 0 1 0 4 4 1 3 2 1 2]\n",
            "labels_id: [1 4 2 4 2 1 4 2 3 3 4 3 1 3 0 0 0 5 5 2 4 1 3 2 1 5]\n",
            " Accuracy: 0.4808\n",
            " F1 score: 0.4560\n",
            "======== Epoch 351 / 500 ========\n",
            "Training...\n"
          ]
        },
        {
          "data": {
            "application/vnd.jupyter.widget-view+json": {
              "model_id": "4e04598f97934822b42ef44d0090212f",
              "version_major": 2,
              "version_minor": 0
            },
            "text/plain": [
              "  0%|          | 0/104 [00:00<?, ?it/s]"
            ]
          },
          "metadata": {},
          "output_type": "display_data"
        },
        {
          "name": "stdout",
          "output_type": "stream",
          "text": [
            " Accuracy: 0.6774\n",
            " F1 score: 0.5867\n",
            " Average training loss: 0.8726\n",
            "Running Validation...\n"
          ]
        },
        {
          "data": {
            "application/vnd.jupyter.widget-view+json": {
              "model_id": "00fce88e3ff94cbbac0f5bcee600d479",
              "version_major": 2,
              "version_minor": 0
            },
            "text/plain": [
              "  0%|          | 0/9 [00:00<?, ?it/s]"
            ]
          },
          "metadata": {},
          "output_type": "display_data"
        },
        {
          "name": "stdout",
          "output_type": "stream",
          "text": [
            "logits:    [0 0 2 0 1 1 4 0 5 3 4 3 1 0 0 0 0 1 0 4 4 1 3 2 1 2]\n",
            "labels_id: [1 4 2 4 2 1 4 2 3 3 4 3 1 3 0 0 0 5 5 2 4 1 3 2 1 5]\n",
            " Accuracy: 0.4842\n",
            " F1 score: 0.4580\n",
            "======== Epoch 352 / 500 ========\n",
            "Training...\n"
          ]
        },
        {
          "data": {
            "application/vnd.jupyter.widget-view+json": {
              "model_id": "b8841da3d86e42419ad4109b8cf763a9",
              "version_major": 2,
              "version_minor": 0
            },
            "text/plain": [
              "  0%|          | 0/104 [00:00<?, ?it/s]"
            ]
          },
          "metadata": {},
          "output_type": "display_data"
        },
        {
          "name": "stdout",
          "output_type": "stream",
          "text": [
            " Accuracy: 0.6797\n",
            " F1 score: 0.5873\n",
            " Average training loss: 0.8762\n",
            "Running Validation...\n"
          ]
        },
        {
          "data": {
            "application/vnd.jupyter.widget-view+json": {
              "model_id": "3967f9751e924ca3bea2fa55f8705f13",
              "version_major": 2,
              "version_minor": 0
            },
            "text/plain": [
              "  0%|          | 0/9 [00:00<?, ?it/s]"
            ]
          },
          "metadata": {},
          "output_type": "display_data"
        },
        {
          "name": "stdout",
          "output_type": "stream",
          "text": [
            "logits:    [0 0 2 0 1 1 4 5 5 3 4 3 1 0 0 0 0 1 0 4 4 1 3 2 1 2]\n",
            "labels_id: [1 4 2 4 2 1 4 2 3 3 4 3 1 3 0 0 0 5 5 2 4 1 3 2 1 5]\n",
            " Accuracy: 0.4825\n",
            " F1 score: 0.4566\n",
            "======== Epoch 353 / 500 ========\n",
            "Training...\n"
          ]
        },
        {
          "data": {
            "application/vnd.jupyter.widget-view+json": {
              "model_id": "e89595495e194e7ab4f78a57da150963",
              "version_major": 2,
              "version_minor": 0
            },
            "text/plain": [
              "  0%|          | 0/104 [00:00<?, ?it/s]"
            ]
          },
          "metadata": {},
          "output_type": "display_data"
        },
        {
          "name": "stdout",
          "output_type": "stream",
          "text": [
            " Accuracy: 0.6818\n",
            " F1 score: 0.5902\n",
            " Average training loss: 0.8679\n",
            "Running Validation...\n"
          ]
        },
        {
          "data": {
            "application/vnd.jupyter.widget-view+json": {
              "model_id": "01ff90041e60447f8810f1302c1c19ea",
              "version_major": 2,
              "version_minor": 0
            },
            "text/plain": [
              "  0%|          | 0/9 [00:00<?, ?it/s]"
            ]
          },
          "metadata": {},
          "output_type": "display_data"
        },
        {
          "name": "stdout",
          "output_type": "stream",
          "text": [
            "logits:    [0 0 2 0 1 1 4 5 5 3 4 3 1 0 0 0 0 1 0 4 4 1 3 2 1 2]\n",
            "labels_id: [1 4 2 4 2 1 4 2 3 3 4 3 1 3 0 0 0 5 5 2 4 1 3 2 1 5]\n",
            " Accuracy: 0.4842\n",
            " F1 score: 0.4587\n",
            "======== Epoch 354 / 500 ========\n",
            "Training...\n"
          ]
        },
        {
          "data": {
            "application/vnd.jupyter.widget-view+json": {
              "model_id": "d0128ed88e304ddeab436327b54debe6",
              "version_major": 2,
              "version_minor": 0
            },
            "text/plain": [
              "  0%|          | 0/104 [00:00<?, ?it/s]"
            ]
          },
          "metadata": {},
          "output_type": "display_data"
        },
        {
          "name": "stdout",
          "output_type": "stream",
          "text": [
            " Accuracy: 0.6857\n",
            " F1 score: 0.5928\n",
            " Average training loss: 0.8685\n",
            "Running Validation...\n"
          ]
        },
        {
          "data": {
            "application/vnd.jupyter.widget-view+json": {
              "model_id": "1c796e5898364b3e822429c39fe45bc4",
              "version_major": 2,
              "version_minor": 0
            },
            "text/plain": [
              "  0%|          | 0/9 [00:00<?, ?it/s]"
            ]
          },
          "metadata": {},
          "output_type": "display_data"
        },
        {
          "name": "stdout",
          "output_type": "stream",
          "text": [
            "logits:    [5 0 2 0 1 1 4 5 5 3 4 3 1 0 0 0 0 1 0 4 4 1 3 2 1 2]\n",
            "labels_id: [1 4 2 4 2 1 4 2 3 3 4 3 1 3 0 0 0 5 5 2 4 1 3 2 1 5]\n",
            " Accuracy: 0.4842\n",
            " F1 score: 0.4591\n",
            "======== Epoch 355 / 500 ========\n",
            "Training...\n"
          ]
        },
        {
          "data": {
            "application/vnd.jupyter.widget-view+json": {
              "model_id": "362aa06a37ae4e9794decb02e754d57d",
              "version_major": 2,
              "version_minor": 0
            },
            "text/plain": [
              "  0%|          | 0/104 [00:00<?, ?it/s]"
            ]
          },
          "metadata": {},
          "output_type": "display_data"
        },
        {
          "name": "stdout",
          "output_type": "stream",
          "text": [
            " Accuracy: 0.6777\n",
            " F1 score: 0.5819\n",
            " Average training loss: 0.8654\n",
            "Running Validation...\n"
          ]
        },
        {
          "data": {
            "application/vnd.jupyter.widget-view+json": {
              "model_id": "40c5fec95f8344cd9de4ec5627d7208e",
              "version_major": 2,
              "version_minor": 0
            },
            "text/plain": [
              "  0%|          | 0/9 [00:00<?, ?it/s]"
            ]
          },
          "metadata": {},
          "output_type": "display_data"
        },
        {
          "name": "stdout",
          "output_type": "stream",
          "text": [
            "logits:    [0 0 2 0 1 1 4 5 5 3 4 3 1 0 0 0 0 1 0 4 4 1 3 2 1 2]\n",
            "labels_id: [1 4 2 4 2 1 4 2 3 3 4 3 1 3 0 0 0 5 5 2 4 1 3 2 1 5]\n",
            " Accuracy: 0.4825\n",
            " F1 score: 0.4579\n",
            "======== Epoch 356 / 500 ========\n",
            "Training...\n"
          ]
        },
        {
          "data": {
            "application/vnd.jupyter.widget-view+json": {
              "model_id": "d83a6eacbbcd4bf19767043a73b03013",
              "version_major": 2,
              "version_minor": 0
            },
            "text/plain": [
              "  0%|          | 0/104 [00:00<?, ?it/s]"
            ]
          },
          "metadata": {},
          "output_type": "display_data"
        },
        {
          "name": "stdout",
          "output_type": "stream",
          "text": [
            " Accuracy: 0.6826\n",
            " F1 score: 0.5903\n",
            " Average training loss: 0.8689\n",
            "Running Validation...\n"
          ]
        },
        {
          "data": {
            "application/vnd.jupyter.widget-view+json": {
              "model_id": "9a3786b953d8490b9112de1a39aa928c",
              "version_major": 2,
              "version_minor": 0
            },
            "text/plain": [
              "  0%|          | 0/9 [00:00<?, ?it/s]"
            ]
          },
          "metadata": {},
          "output_type": "display_data"
        },
        {
          "name": "stdout",
          "output_type": "stream",
          "text": [
            "logits:    [0 0 2 0 1 1 4 5 5 3 4 3 1 0 0 0 0 1 0 4 4 1 3 2 1 2]\n",
            "labels_id: [1 4 2 4 2 1 4 2 3 3 4 3 1 3 0 0 0 5 5 2 4 1 3 2 1 5]\n",
            " Accuracy: 0.4842\n",
            " F1 score: 0.4585\n",
            "======== Epoch 357 / 500 ========\n",
            "Training...\n"
          ]
        },
        {
          "data": {
            "application/vnd.jupyter.widget-view+json": {
              "model_id": "f606245f038d43ba962bfc19feef0531",
              "version_major": 2,
              "version_minor": 0
            },
            "text/plain": [
              "  0%|          | 0/104 [00:00<?, ?it/s]"
            ]
          },
          "metadata": {},
          "output_type": "display_data"
        },
        {
          "name": "stdout",
          "output_type": "stream",
          "text": [
            " Accuracy: 0.6882\n",
            " F1 score: 0.5997\n",
            " Average training loss: 0.8634\n",
            "Running Validation...\n"
          ]
        },
        {
          "data": {
            "application/vnd.jupyter.widget-view+json": {
              "model_id": "3090a94064f94c098caa6de929af067d",
              "version_major": 2,
              "version_minor": 0
            },
            "text/plain": [
              "  0%|          | 0/9 [00:00<?, ?it/s]"
            ]
          },
          "metadata": {},
          "output_type": "display_data"
        },
        {
          "name": "stdout",
          "output_type": "stream",
          "text": [
            "logits:    [0 0 2 0 1 1 4 5 5 3 4 3 1 0 0 0 0 1 0 4 4 1 3 2 1 2]\n",
            "labels_id: [1 4 2 4 2 1 4 2 3 3 4 3 1 3 0 0 0 5 5 2 4 1 3 2 1 5]\n",
            " Accuracy: 0.4825\n",
            " F1 score: 0.4570\n",
            "======== Epoch 358 / 500 ========\n",
            "Training...\n"
          ]
        },
        {
          "data": {
            "application/vnd.jupyter.widget-view+json": {
              "model_id": "d58053b56d704a4d84842321fa7c26c3",
              "version_major": 2,
              "version_minor": 0
            },
            "text/plain": [
              "  0%|          | 0/104 [00:00<?, ?it/s]"
            ]
          },
          "metadata": {},
          "output_type": "display_data"
        },
        {
          "name": "stdout",
          "output_type": "stream",
          "text": [
            " Accuracy: 0.6804\n",
            " F1 score: 0.5941\n",
            " Average training loss: 0.8666\n",
            "Running Validation...\n"
          ]
        },
        {
          "data": {
            "application/vnd.jupyter.widget-view+json": {
              "model_id": "5f416166234c41079615c7f261b46769",
              "version_major": 2,
              "version_minor": 0
            },
            "text/plain": [
              "  0%|          | 0/9 [00:00<?, ?it/s]"
            ]
          },
          "metadata": {},
          "output_type": "display_data"
        },
        {
          "name": "stdout",
          "output_type": "stream",
          "text": [
            "logits:    [0 0 2 0 1 1 4 5 5 3 4 3 1 0 0 0 0 1 0 4 4 1 3 2 1 2]\n",
            "labels_id: [1 4 2 4 2 1 4 2 3 3 4 3 1 3 0 0 0 5 5 2 4 1 3 2 1 5]\n",
            " Accuracy: 0.4825\n",
            " F1 score: 0.4578\n",
            "======== Epoch 359 / 500 ========\n",
            "Training...\n"
          ]
        },
        {
          "data": {
            "application/vnd.jupyter.widget-view+json": {
              "model_id": "9156b4cb02fc42009080f9b1ea8ab1fa",
              "version_major": 2,
              "version_minor": 0
            },
            "text/plain": [
              "  0%|          | 0/104 [00:00<?, ?it/s]"
            ]
          },
          "metadata": {},
          "output_type": "display_data"
        },
        {
          "name": "stdout",
          "output_type": "stream",
          "text": [
            " Accuracy: 0.6867\n",
            " F1 score: 0.5939\n",
            " Average training loss: 0.8647\n",
            "Running Validation...\n"
          ]
        },
        {
          "data": {
            "application/vnd.jupyter.widget-view+json": {
              "model_id": "69027622904747c5b68538e9e77a5c0d",
              "version_major": 2,
              "version_minor": 0
            },
            "text/plain": [
              "  0%|          | 0/9 [00:00<?, ?it/s]"
            ]
          },
          "metadata": {},
          "output_type": "display_data"
        },
        {
          "name": "stdout",
          "output_type": "stream",
          "text": [
            "logits:    [0 0 2 0 1 1 4 5 5 3 4 3 1 0 0 0 0 1 0 4 4 1 3 2 1 2]\n",
            "labels_id: [1 4 2 4 2 1 4 2 3 3 4 3 1 3 0 0 0 5 5 2 4 1 3 2 1 5]\n",
            " Accuracy: 0.4808\n",
            " F1 score: 0.4567\n",
            "======== Epoch 360 / 500 ========\n",
            "Training...\n"
          ]
        },
        {
          "data": {
            "application/vnd.jupyter.widget-view+json": {
              "model_id": "49225b3f198c42428d1c27bcc301d8fc",
              "version_major": 2,
              "version_minor": 0
            },
            "text/plain": [
              "  0%|          | 0/104 [00:00<?, ?it/s]"
            ]
          },
          "metadata": {},
          "output_type": "display_data"
        },
        {
          "name": "stdout",
          "output_type": "stream",
          "text": [
            " Accuracy: 0.6807\n",
            " F1 score: 0.5942\n",
            " Average training loss: 0.8699\n",
            "Running Validation...\n"
          ]
        },
        {
          "data": {
            "application/vnd.jupyter.widget-view+json": {
              "model_id": "d2dbbe6c7797499b84dcb8d056470fe6",
              "version_major": 2,
              "version_minor": 0
            },
            "text/plain": [
              "  0%|          | 0/9 [00:00<?, ?it/s]"
            ]
          },
          "metadata": {},
          "output_type": "display_data"
        },
        {
          "name": "stdout",
          "output_type": "stream",
          "text": [
            "logits:    [0 0 2 0 1 1 4 5 5 3 4 3 1 0 0 0 0 1 0 4 4 1 3 2 1 2]\n",
            "labels_id: [1 4 2 4 2 1 4 2 3 3 4 3 1 3 0 0 0 5 5 2 4 1 3 2 1 5]\n",
            " Accuracy: 0.4825\n",
            " F1 score: 0.4566\n",
            "======== Epoch 361 / 500 ========\n",
            "Training...\n"
          ]
        },
        {
          "data": {
            "application/vnd.jupyter.widget-view+json": {
              "model_id": "57ac0fd0bab34cba959ccec921d844bb",
              "version_major": 2,
              "version_minor": 0
            },
            "text/plain": [
              "  0%|          | 0/104 [00:00<?, ?it/s]"
            ]
          },
          "metadata": {},
          "output_type": "display_data"
        },
        {
          "name": "stdout",
          "output_type": "stream",
          "text": [
            " Accuracy: 0.6876\n",
            " F1 score: 0.5989\n",
            " Average training loss: 0.8560\n",
            "Running Validation...\n"
          ]
        },
        {
          "data": {
            "application/vnd.jupyter.widget-view+json": {
              "model_id": "c117e4be17aa4ea79f13676671868cd0",
              "version_major": 2,
              "version_minor": 0
            },
            "text/plain": [
              "  0%|          | 0/9 [00:00<?, ?it/s]"
            ]
          },
          "metadata": {},
          "output_type": "display_data"
        },
        {
          "name": "stdout",
          "output_type": "stream",
          "text": [
            "logits:    [0 0 2 0 1 1 4 5 5 3 4 3 1 0 0 0 0 1 0 4 4 1 3 2 1 2]\n",
            "labels_id: [1 4 2 4 2 1 4 2 3 3 4 3 1 3 0 0 0 5 5 2 4 1 3 2 1 5]\n",
            " Accuracy: 0.4825\n",
            " F1 score: 0.4570\n",
            "======== Epoch 362 / 500 ========\n",
            "Training...\n"
          ]
        },
        {
          "data": {
            "application/vnd.jupyter.widget-view+json": {
              "model_id": "488cf442d98d48e3ad307a6213c3ec9c",
              "version_major": 2,
              "version_minor": 0
            },
            "text/plain": [
              "  0%|          | 0/104 [00:00<?, ?it/s]"
            ]
          },
          "metadata": {},
          "output_type": "display_data"
        },
        {
          "name": "stdout",
          "output_type": "stream",
          "text": [
            " Accuracy: 0.6840\n",
            " F1 score: 0.5958\n",
            " Average training loss: 0.8632\n",
            "Running Validation...\n"
          ]
        },
        {
          "data": {
            "application/vnd.jupyter.widget-view+json": {
              "model_id": "7eb1a1768175451aa65ae6e97d863cd4",
              "version_major": 2,
              "version_minor": 0
            },
            "text/plain": [
              "  0%|          | 0/9 [00:00<?, ?it/s]"
            ]
          },
          "metadata": {},
          "output_type": "display_data"
        },
        {
          "name": "stdout",
          "output_type": "stream",
          "text": [
            "logits:    [0 0 2 0 1 1 4 0 5 3 4 3 1 0 0 0 0 1 0 4 4 1 3 2 1 2]\n",
            "labels_id: [1 4 2 4 2 1 4 2 3 3 4 3 1 3 0 0 0 5 5 2 4 1 3 2 1 5]\n",
            " Accuracy: 0.4808\n",
            " F1 score: 0.4548\n",
            "======== Epoch 363 / 500 ========\n",
            "Training...\n"
          ]
        },
        {
          "data": {
            "application/vnd.jupyter.widget-view+json": {
              "model_id": "3a663367b1f24dd4af66bc14a268e5d7",
              "version_major": 2,
              "version_minor": 0
            },
            "text/plain": [
              "  0%|          | 0/104 [00:00<?, ?it/s]"
            ]
          },
          "metadata": {},
          "output_type": "display_data"
        },
        {
          "name": "stdout",
          "output_type": "stream",
          "text": [
            " Accuracy: 0.6854\n",
            " F1 score: 0.6005\n",
            " Average training loss: 0.8530\n",
            "Running Validation...\n"
          ]
        },
        {
          "data": {
            "application/vnd.jupyter.widget-view+json": {
              "model_id": "8f16c604545d4b32bfcebcb0d99f1529",
              "version_major": 2,
              "version_minor": 0
            },
            "text/plain": [
              "  0%|          | 0/9 [00:00<?, ?it/s]"
            ]
          },
          "metadata": {},
          "output_type": "display_data"
        },
        {
          "name": "stdout",
          "output_type": "stream",
          "text": [
            "logits:    [0 0 2 0 1 1 4 5 5 3 4 3 1 0 0 0 0 1 0 4 4 1 3 2 1 2]\n",
            "labels_id: [1 4 2 4 2 1 4 2 3 3 4 3 1 3 0 0 0 5 5 2 4 1 3 2 1 5]\n",
            " Accuracy: 0.4808\n",
            " F1 score: 0.4556\n",
            "======== Epoch 364 / 500 ========\n",
            "Training...\n"
          ]
        },
        {
          "data": {
            "application/vnd.jupyter.widget-view+json": {
              "model_id": "f2decd893d174371a79a8d866840d16e",
              "version_major": 2,
              "version_minor": 0
            },
            "text/plain": [
              "  0%|          | 0/104 [00:00<?, ?it/s]"
            ]
          },
          "metadata": {},
          "output_type": "display_data"
        },
        {
          "name": "stdout",
          "output_type": "stream",
          "text": [
            " Accuracy: 0.6925\n",
            " F1 score: 0.6035\n",
            " Average training loss: 0.8530\n",
            "Running Validation...\n"
          ]
        },
        {
          "data": {
            "application/vnd.jupyter.widget-view+json": {
              "model_id": "dab66efcfb9c438a836a5d7a1e7750b3",
              "version_major": 2,
              "version_minor": 0
            },
            "text/plain": [
              "  0%|          | 0/9 [00:00<?, ?it/s]"
            ]
          },
          "metadata": {},
          "output_type": "display_data"
        },
        {
          "name": "stdout",
          "output_type": "stream",
          "text": [
            "logits:    [0 0 2 0 1 1 4 5 5 3 4 3 1 0 0 0 0 1 0 4 4 1 3 2 1 2]\n",
            "labels_id: [1 4 2 4 2 1 4 2 3 3 4 3 1 3 0 0 0 5 5 2 4 1 3 2 1 5]\n",
            " Accuracy: 0.4808\n",
            " F1 score: 0.4556\n",
            "======== Epoch 365 / 500 ========\n",
            "Training...\n"
          ]
        },
        {
          "data": {
            "application/vnd.jupyter.widget-view+json": {
              "model_id": "7e189eb7ae8c41999f2431c3d7978d13",
              "version_major": 2,
              "version_minor": 0
            },
            "text/plain": [
              "  0%|          | 0/104 [00:00<?, ?it/s]"
            ]
          },
          "metadata": {},
          "output_type": "display_data"
        },
        {
          "name": "stdout",
          "output_type": "stream",
          "text": [
            " Accuracy: 0.6871\n",
            " F1 score: 0.5986\n",
            " Average training loss: 0.8502\n",
            "Running Validation...\n"
          ]
        },
        {
          "data": {
            "application/vnd.jupyter.widget-view+json": {
              "model_id": "88669ba12a0543dd898518581c0d0859",
              "version_major": 2,
              "version_minor": 0
            },
            "text/plain": [
              "  0%|          | 0/9 [00:00<?, ?it/s]"
            ]
          },
          "metadata": {},
          "output_type": "display_data"
        },
        {
          "name": "stdout",
          "output_type": "stream",
          "text": [
            "logits:    [0 0 2 0 1 1 4 5 5 3 4 3 1 0 0 0 0 1 0 4 4 1 3 2 1 2]\n",
            "labels_id: [1 4 2 4 2 1 4 2 3 3 4 3 1 3 0 0 0 5 5 2 4 1 3 2 1 5]\n",
            " Accuracy: 0.4808\n",
            " F1 score: 0.4556\n",
            "======== Epoch 366 / 500 ========\n",
            "Training...\n"
          ]
        },
        {
          "data": {
            "application/vnd.jupyter.widget-view+json": {
              "model_id": "04bfb85fd18942469032c481511c7e1d",
              "version_major": 2,
              "version_minor": 0
            },
            "text/plain": [
              "  0%|          | 0/104 [00:00<?, ?it/s]"
            ]
          },
          "metadata": {},
          "output_type": "display_data"
        },
        {
          "name": "stdout",
          "output_type": "stream",
          "text": [
            " Accuracy: 0.6887\n",
            " F1 score: 0.6008\n",
            " Average training loss: 0.8521\n",
            "Running Validation...\n"
          ]
        },
        {
          "data": {
            "application/vnd.jupyter.widget-view+json": {
              "model_id": "6c2d75fa0a59468ea0756832a13dc258",
              "version_major": 2,
              "version_minor": 0
            },
            "text/plain": [
              "  0%|          | 0/9 [00:00<?, ?it/s]"
            ]
          },
          "metadata": {},
          "output_type": "display_data"
        },
        {
          "name": "stdout",
          "output_type": "stream",
          "text": [
            "logits:    [0 0 2 0 1 1 4 5 5 3 4 3 1 0 0 0 0 1 0 4 4 1 3 2 1 2]\n",
            "labels_id: [1 4 2 4 2 1 4 2 3 3 4 3 1 3 0 0 0 5 5 2 4 1 3 2 1 5]\n",
            " Accuracy: 0.4808\n",
            " F1 score: 0.4548\n",
            "======== Epoch 367 / 500 ========\n",
            "Training...\n"
          ]
        },
        {
          "data": {
            "application/vnd.jupyter.widget-view+json": {
              "model_id": "ba2255f5120d4d709c16a10ed31dbce3",
              "version_major": 2,
              "version_minor": 0
            },
            "text/plain": [
              "  0%|          | 0/104 [00:00<?, ?it/s]"
            ]
          },
          "metadata": {},
          "output_type": "display_data"
        },
        {
          "name": "stdout",
          "output_type": "stream",
          "text": [
            " Accuracy: 0.6906\n",
            " F1 score: 0.6027\n",
            " Average training loss: 0.8483\n",
            "Running Validation...\n"
          ]
        },
        {
          "data": {
            "application/vnd.jupyter.widget-view+json": {
              "model_id": "74086ef233c04908836b4860ccb45a16",
              "version_major": 2,
              "version_minor": 0
            },
            "text/plain": [
              "  0%|          | 0/9 [00:00<?, ?it/s]"
            ]
          },
          "metadata": {},
          "output_type": "display_data"
        },
        {
          "name": "stdout",
          "output_type": "stream",
          "text": [
            "logits:    [0 0 2 0 1 1 4 5 5 3 4 3 1 0 0 0 0 1 0 4 4 1 3 2 1 2]\n",
            "labels_id: [1 4 2 4 2 1 4 2 3 3 4 3 1 3 0 0 0 5 5 2 4 1 3 2 1 5]\n",
            " Accuracy: 0.4825\n",
            " F1 score: 0.4571\n",
            "======== Epoch 368 / 500 ========\n",
            "Training...\n"
          ]
        },
        {
          "data": {
            "application/vnd.jupyter.widget-view+json": {
              "model_id": "e3ba09b9e7a14919bc00fd38464f1ada",
              "version_major": 2,
              "version_minor": 0
            },
            "text/plain": [
              "  0%|          | 0/104 [00:00<?, ?it/s]"
            ]
          },
          "metadata": {},
          "output_type": "display_data"
        },
        {
          "name": "stdout",
          "output_type": "stream",
          "text": [
            " Accuracy: 0.6901\n",
            " F1 score: 0.5988\n",
            " Average training loss: 0.8441\n",
            "Running Validation...\n"
          ]
        },
        {
          "data": {
            "application/vnd.jupyter.widget-view+json": {
              "model_id": "8c7ef5446cee4349abd87976f852cc6c",
              "version_major": 2,
              "version_minor": 0
            },
            "text/plain": [
              "  0%|          | 0/9 [00:00<?, ?it/s]"
            ]
          },
          "metadata": {},
          "output_type": "display_data"
        },
        {
          "name": "stdout",
          "output_type": "stream",
          "text": [
            "logits:    [0 0 2 0 1 1 4 5 5 3 4 3 1 0 0 0 0 1 0 4 4 1 3 2 1 2]\n",
            "labels_id: [1 4 2 4 2 1 4 2 3 3 4 3 1 3 0 0 0 5 5 2 4 1 3 2 1 5]\n",
            " Accuracy: 0.4790\n",
            " F1 score: 0.4537\n",
            "======== Epoch 369 / 500 ========\n",
            "Training...\n"
          ]
        },
        {
          "data": {
            "application/vnd.jupyter.widget-view+json": {
              "model_id": "97f1385c246b4f349674b7532d273f95",
              "version_major": 2,
              "version_minor": 0
            },
            "text/plain": [
              "  0%|          | 0/104 [00:00<?, ?it/s]"
            ]
          },
          "metadata": {},
          "output_type": "display_data"
        },
        {
          "name": "stdout",
          "output_type": "stream",
          "text": [
            " Accuracy: 0.6854\n",
            " F1 score: 0.5992\n",
            " Average training loss: 0.8551\n",
            "Running Validation...\n"
          ]
        },
        {
          "data": {
            "application/vnd.jupyter.widget-view+json": {
              "model_id": "0cd93b73a9a249e0aaa24756c49e55ef",
              "version_major": 2,
              "version_minor": 0
            },
            "text/plain": [
              "  0%|          | 0/9 [00:00<?, ?it/s]"
            ]
          },
          "metadata": {},
          "output_type": "display_data"
        },
        {
          "name": "stdout",
          "output_type": "stream",
          "text": [
            "logits:    [0 0 2 0 1 1 4 5 5 3 4 3 1 0 0 0 0 1 0 4 4 1 3 2 1 2]\n",
            "labels_id: [1 4 2 4 2 1 4 2 3 3 4 3 1 3 0 0 0 5 5 2 4 1 3 2 1 5]\n",
            " Accuracy: 0.4773\n",
            " F1 score: 0.4520\n",
            "======== Epoch 370 / 500 ========\n",
            "Training...\n"
          ]
        },
        {
          "data": {
            "application/vnd.jupyter.widget-view+json": {
              "model_id": "8e732515b3f247299da4a76db2fd2f08",
              "version_major": 2,
              "version_minor": 0
            },
            "text/plain": [
              "  0%|          | 0/104 [00:00<?, ?it/s]"
            ]
          },
          "metadata": {},
          "output_type": "display_data"
        },
        {
          "name": "stdout",
          "output_type": "stream",
          "text": [
            " Accuracy: 0.6916\n",
            " F1 score: 0.6066\n",
            " Average training loss: 0.8444\n",
            "Running Validation...\n"
          ]
        },
        {
          "data": {
            "application/vnd.jupyter.widget-view+json": {
              "model_id": "b4f1fe9446fb4911b7de38d3a5f2e204",
              "version_major": 2,
              "version_minor": 0
            },
            "text/plain": [
              "  0%|          | 0/9 [00:00<?, ?it/s]"
            ]
          },
          "metadata": {},
          "output_type": "display_data"
        },
        {
          "name": "stdout",
          "output_type": "stream",
          "text": [
            "logits:    [0 0 2 0 5 1 4 5 5 3 4 3 1 0 0 0 0 1 0 4 4 1 3 2 1 2]\n",
            "labels_id: [1 4 2 4 2 1 4 2 3 3 4 3 1 3 0 0 0 5 5 2 4 1 3 2 1 5]\n",
            " Accuracy: 0.4773\n",
            " F1 score: 0.4533\n",
            "======== Epoch 371 / 500 ========\n",
            "Training...\n"
          ]
        },
        {
          "data": {
            "application/vnd.jupyter.widget-view+json": {
              "model_id": "6275df9f608d4a85b4afcc5003e81556",
              "version_major": 2,
              "version_minor": 0
            },
            "text/plain": [
              "  0%|          | 0/104 [00:00<?, ?it/s]"
            ]
          },
          "metadata": {},
          "output_type": "display_data"
        },
        {
          "name": "stdout",
          "output_type": "stream",
          "text": [
            " Accuracy: 0.6909\n",
            " F1 score: 0.6058\n",
            " Average training loss: 0.8521\n",
            "Running Validation...\n"
          ]
        },
        {
          "data": {
            "application/vnd.jupyter.widget-view+json": {
              "model_id": "40526c8252914af0832c58d3511dcc68",
              "version_major": 2,
              "version_minor": 0
            },
            "text/plain": [
              "  0%|          | 0/9 [00:00<?, ?it/s]"
            ]
          },
          "metadata": {},
          "output_type": "display_data"
        },
        {
          "name": "stdout",
          "output_type": "stream",
          "text": [
            "logits:    [0 0 2 0 5 1 4 5 5 3 4 3 1 0 0 0 0 1 0 4 4 1 3 2 1 2]\n",
            "labels_id: [1 4 2 4 2 1 4 2 3 3 4 3 1 3 0 0 0 5 5 2 4 1 3 2 1 5]\n",
            " Accuracy: 0.4808\n",
            " F1 score: 0.4569\n",
            "======== Epoch 372 / 500 ========\n",
            "Training...\n"
          ]
        },
        {
          "data": {
            "application/vnd.jupyter.widget-view+json": {
              "model_id": "04ee8342522b4ac699833832d8fb55fb",
              "version_major": 2,
              "version_minor": 0
            },
            "text/plain": [
              "  0%|          | 0/104 [00:00<?, ?it/s]"
            ]
          },
          "metadata": {},
          "output_type": "display_data"
        },
        {
          "name": "stdout",
          "output_type": "stream",
          "text": [
            " Accuracy: 0.6967\n",
            " F1 score: 0.6049\n",
            " Average training loss: 0.8380\n",
            "Running Validation...\n"
          ]
        },
        {
          "data": {
            "application/vnd.jupyter.widget-view+json": {
              "model_id": "dddec2d71dfb4021be1c52fc7f88b0cd",
              "version_major": 2,
              "version_minor": 0
            },
            "text/plain": [
              "  0%|          | 0/9 [00:00<?, ?it/s]"
            ]
          },
          "metadata": {},
          "output_type": "display_data"
        },
        {
          "name": "stdout",
          "output_type": "stream",
          "text": [
            "logits:    [0 0 2 0 1 1 4 5 5 3 4 3 1 0 0 0 0 1 0 4 4 1 3 2 1 2]\n",
            "labels_id: [1 4 2 4 2 1 4 2 3 3 4 3 1 3 0 0 0 5 5 2 4 1 3 2 1 5]\n",
            " Accuracy: 0.4808\n",
            " F1 score: 0.4556\n",
            "======== Epoch 373 / 500 ========\n",
            "Training...\n"
          ]
        },
        {
          "data": {
            "application/vnd.jupyter.widget-view+json": {
              "model_id": "75e18274e2174c0fbefbc360b86ae36f",
              "version_major": 2,
              "version_minor": 0
            },
            "text/plain": [
              "  0%|          | 0/104 [00:00<?, ?it/s]"
            ]
          },
          "metadata": {},
          "output_type": "display_data"
        },
        {
          "name": "stdout",
          "output_type": "stream",
          "text": [
            " Accuracy: 0.6963\n",
            " F1 score: 0.6121\n",
            " Average training loss: 0.8343\n",
            "Running Validation...\n"
          ]
        },
        {
          "data": {
            "application/vnd.jupyter.widget-view+json": {
              "model_id": "3e8adcfd5b634cc49341c50003c4a2cc",
              "version_major": 2,
              "version_minor": 0
            },
            "text/plain": [
              "  0%|          | 0/9 [00:00<?, ?it/s]"
            ]
          },
          "metadata": {},
          "output_type": "display_data"
        },
        {
          "name": "stdout",
          "output_type": "stream",
          "text": [
            "logits:    [0 0 2 0 1 1 4 5 5 3 4 3 1 0 0 0 0 1 0 4 4 1 3 2 1 2]\n",
            "labels_id: [1 4 2 4 2 1 4 2 3 3 4 3 1 3 0 0 0 5 5 2 4 1 3 2 1 5]\n",
            " Accuracy: 0.4808\n",
            " F1 score: 0.4556\n",
            "======== Epoch 374 / 500 ========\n",
            "Training...\n"
          ]
        },
        {
          "data": {
            "application/vnd.jupyter.widget-view+json": {
              "model_id": "af1a220429a948628556593e182b6e63",
              "version_major": 2,
              "version_minor": 0
            },
            "text/plain": [
              "  0%|          | 0/104 [00:00<?, ?it/s]"
            ]
          },
          "metadata": {},
          "output_type": "display_data"
        },
        {
          "name": "stdout",
          "output_type": "stream",
          "text": [
            " Accuracy: 0.6970\n",
            " F1 score: 0.6097\n",
            " Average training loss: 0.8330\n",
            "Running Validation...\n"
          ]
        },
        {
          "data": {
            "application/vnd.jupyter.widget-view+json": {
              "model_id": "4a19c6b6f2d749529099f0e6cd243291",
              "version_major": 2,
              "version_minor": 0
            },
            "text/plain": [
              "  0%|          | 0/9 [00:00<?, ?it/s]"
            ]
          },
          "metadata": {},
          "output_type": "display_data"
        },
        {
          "name": "stdout",
          "output_type": "stream",
          "text": [
            "logits:    [0 0 2 0 5 1 4 5 5 3 4 3 1 0 0 0 0 1 0 4 4 1 3 2 1 2]\n",
            "labels_id: [1 4 2 4 2 1 4 2 3 3 4 3 1 3 0 0 0 5 5 2 4 1 3 2 1 5]\n",
            " Accuracy: 0.4808\n",
            " F1 score: 0.4573\n",
            "======== Epoch 375 / 500 ========\n",
            "Training...\n"
          ]
        },
        {
          "data": {
            "application/vnd.jupyter.widget-view+json": {
              "model_id": "60095eaaf003487694d9d93a5c5bfa67",
              "version_major": 2,
              "version_minor": 0
            },
            "text/plain": [
              "  0%|          | 0/104 [00:00<?, ?it/s]"
            ]
          },
          "metadata": {},
          "output_type": "display_data"
        },
        {
          "name": "stdout",
          "output_type": "stream",
          "text": [
            " Accuracy: 0.6934\n",
            " F1 score: 0.6011\n",
            " Average training loss: 0.8340\n",
            "Running Validation...\n"
          ]
        },
        {
          "data": {
            "application/vnd.jupyter.widget-view+json": {
              "model_id": "fb6343308f1f480584d0ef88fcaa386c",
              "version_major": 2,
              "version_minor": 0
            },
            "text/plain": [
              "  0%|          | 0/9 [00:00<?, ?it/s]"
            ]
          },
          "metadata": {},
          "output_type": "display_data"
        },
        {
          "name": "stdout",
          "output_type": "stream",
          "text": [
            "logits:    [0 0 2 0 5 1 4 5 5 3 4 3 1 0 0 0 0 1 0 4 4 1 3 2 1 2]\n",
            "labels_id: [1 4 2 4 2 1 4 2 3 3 4 3 1 3 0 0 0 5 5 2 4 1 3 2 1 5]\n",
            " Accuracy: 0.4808\n",
            " F1 score: 0.4573\n",
            "======== Epoch 376 / 500 ========\n",
            "Training...\n"
          ]
        },
        {
          "data": {
            "application/vnd.jupyter.widget-view+json": {
              "model_id": "8cac1a1ac18642d08e6255b190448da1",
              "version_major": 2,
              "version_minor": 0
            },
            "text/plain": [
              "  0%|          | 0/104 [00:00<?, ?it/s]"
            ]
          },
          "metadata": {},
          "output_type": "display_data"
        },
        {
          "name": "stdout",
          "output_type": "stream",
          "text": [
            " Accuracy: 0.7000\n",
            " F1 score: 0.6132\n",
            " Average training loss: 0.8355\n",
            "Running Validation...\n"
          ]
        },
        {
          "data": {
            "application/vnd.jupyter.widget-view+json": {
              "model_id": "4791323f12c64ec092423d6caf4454df",
              "version_major": 2,
              "version_minor": 0
            },
            "text/plain": [
              "  0%|          | 0/9 [00:00<?, ?it/s]"
            ]
          },
          "metadata": {},
          "output_type": "display_data"
        },
        {
          "name": "stdout",
          "output_type": "stream",
          "text": [
            "logits:    [0 0 2 0 5 1 4 5 5 3 4 3 1 0 0 0 0 1 0 4 4 1 3 2 1 2]\n",
            "labels_id: [1 4 2 4 2 1 4 2 3 3 4 3 1 3 0 0 0 5 5 2 4 1 3 2 1 5]\n",
            " Accuracy: 0.4790\n",
            " F1 score: 0.4556\n",
            "======== Epoch 377 / 500 ========\n",
            "Training...\n"
          ]
        },
        {
          "data": {
            "application/vnd.jupyter.widget-view+json": {
              "model_id": "5d4567dee3e44d2a931c98a692382f1a",
              "version_major": 2,
              "version_minor": 0
            },
            "text/plain": [
              "  0%|          | 0/104 [00:00<?, ?it/s]"
            ]
          },
          "metadata": {},
          "output_type": "display_data"
        },
        {
          "name": "stdout",
          "output_type": "stream",
          "text": [
            " Accuracy: 0.7031\n",
            " F1 score: 0.6146\n",
            " Average training loss: 0.8277\n",
            "Running Validation...\n"
          ]
        },
        {
          "data": {
            "application/vnd.jupyter.widget-view+json": {
              "model_id": "3a7528eae81348dd985642d1babda9fe",
              "version_major": 2,
              "version_minor": 0
            },
            "text/plain": [
              "  0%|          | 0/9 [00:00<?, ?it/s]"
            ]
          },
          "metadata": {},
          "output_type": "display_data"
        },
        {
          "name": "stdout",
          "output_type": "stream",
          "text": [
            "logits:    [0 0 2 0 5 1 4 5 5 3 4 3 1 0 0 0 0 1 0 4 4 1 3 2 1 2]\n",
            "labels_id: [1 4 2 4 2 1 4 2 3 3 4 3 1 3 0 0 0 5 5 2 4 1 3 2 1 5]\n",
            " Accuracy: 0.4808\n",
            " F1 score: 0.4571\n",
            "======== Epoch 378 / 500 ========\n",
            "Training...\n"
          ]
        },
        {
          "data": {
            "application/vnd.jupyter.widget-view+json": {
              "model_id": "9b27b6d8d0aa4cd3949e493cfb73745d",
              "version_major": 2,
              "version_minor": 0
            },
            "text/plain": [
              "  0%|          | 0/104 [00:00<?, ?it/s]"
            ]
          },
          "metadata": {},
          "output_type": "display_data"
        },
        {
          "name": "stdout",
          "output_type": "stream",
          "text": [
            " Accuracy: 0.7024\n",
            " F1 score: 0.6179\n",
            " Average training loss: 0.8286\n",
            "Running Validation...\n"
          ]
        },
        {
          "data": {
            "application/vnd.jupyter.widget-view+json": {
              "model_id": "350c4ca3ac564ee185813cdc4e41f867",
              "version_major": 2,
              "version_minor": 0
            },
            "text/plain": [
              "  0%|          | 0/9 [00:00<?, ?it/s]"
            ]
          },
          "metadata": {},
          "output_type": "display_data"
        },
        {
          "name": "stdout",
          "output_type": "stream",
          "text": [
            "logits:    [0 0 2 0 5 1 4 5 5 3 4 3 1 0 0 0 0 1 0 4 4 1 3 2 1 2]\n",
            "labels_id: [1 4 2 4 2 1 4 2 3 3 4 3 1 3 0 0 0 5 5 2 4 1 3 2 1 5]\n",
            " Accuracy: 0.4825\n",
            " F1 score: 0.4586\n",
            "======== Epoch 379 / 500 ========\n",
            "Training...\n"
          ]
        },
        {
          "data": {
            "application/vnd.jupyter.widget-view+json": {
              "model_id": "ad44c9b99d254ccc9a14712f7d25b42f",
              "version_major": 2,
              "version_minor": 0
            },
            "text/plain": [
              "  0%|          | 0/104 [00:00<?, ?it/s]"
            ]
          },
          "metadata": {},
          "output_type": "display_data"
        },
        {
          "name": "stdout",
          "output_type": "stream",
          "text": [
            " Accuracy: 0.7011\n",
            " F1 score: 0.6147\n",
            " Average training loss: 0.8384\n",
            "Running Validation...\n"
          ]
        },
        {
          "data": {
            "application/vnd.jupyter.widget-view+json": {
              "model_id": "f898d2865a594cad86dfeda6eda6cd44",
              "version_major": 2,
              "version_minor": 0
            },
            "text/plain": [
              "  0%|          | 0/9 [00:00<?, ?it/s]"
            ]
          },
          "metadata": {},
          "output_type": "display_data"
        },
        {
          "name": "stdout",
          "output_type": "stream",
          "text": [
            "logits:    [0 0 2 0 5 1 4 5 5 3 4 3 1 0 0 0 0 1 0 4 4 1 3 2 1 2]\n",
            "labels_id: [1 4 2 4 2 1 4 2 3 3 4 3 1 3 0 0 0 5 5 2 4 1 3 2 1 5]\n",
            " Accuracy: 0.4808\n",
            " F1 score: 0.4570\n",
            "======== Epoch 380 / 500 ========\n",
            "Training...\n"
          ]
        },
        {
          "data": {
            "application/vnd.jupyter.widget-view+json": {
              "model_id": "5740d873e80f4c319924c2c249cd1052",
              "version_major": 2,
              "version_minor": 0
            },
            "text/plain": [
              "  0%|          | 0/104 [00:00<?, ?it/s]"
            ]
          },
          "metadata": {},
          "output_type": "display_data"
        },
        {
          "name": "stdout",
          "output_type": "stream",
          "text": [
            " Accuracy: 0.7036\n",
            " F1 score: 0.6166\n",
            " Average training loss: 0.8242\n",
            "Running Validation...\n"
          ]
        },
        {
          "data": {
            "application/vnd.jupyter.widget-view+json": {
              "model_id": "98c3d39b9ce84fea9cb0020827a7f8ba",
              "version_major": 2,
              "version_minor": 0
            },
            "text/plain": [
              "  0%|          | 0/9 [00:00<?, ?it/s]"
            ]
          },
          "metadata": {},
          "output_type": "display_data"
        },
        {
          "name": "stdout",
          "output_type": "stream",
          "text": [
            "logits:    [0 0 2 0 5 1 4 5 5 3 4 3 1 0 0 0 0 1 0 4 4 1 3 2 1 2]\n",
            "labels_id: [1 4 2 4 2 1 4 2 3 3 4 3 1 3 0 0 0 5 5 2 4 1 3 2 1 5]\n",
            " Accuracy: 0.4808\n",
            " F1 score: 0.4571\n",
            "======== Epoch 381 / 500 ========\n",
            "Training...\n"
          ]
        },
        {
          "data": {
            "application/vnd.jupyter.widget-view+json": {
              "model_id": "241a5e0519ec4645be9cb6c918f2b8b7",
              "version_major": 2,
              "version_minor": 0
            },
            "text/plain": [
              "  0%|          | 0/104 [00:00<?, ?it/s]"
            ]
          },
          "metadata": {},
          "output_type": "display_data"
        },
        {
          "name": "stdout",
          "output_type": "stream",
          "text": [
            " Accuracy: 0.7021\n",
            " F1 score: 0.6146\n",
            " Average training loss: 0.8301\n",
            "Running Validation...\n"
          ]
        },
        {
          "data": {
            "application/vnd.jupyter.widget-view+json": {
              "model_id": "090dcb3b82464134b8743e6b2cfd8e0f",
              "version_major": 2,
              "version_minor": 0
            },
            "text/plain": [
              "  0%|          | 0/9 [00:00<?, ?it/s]"
            ]
          },
          "metadata": {},
          "output_type": "display_data"
        },
        {
          "name": "stdout",
          "output_type": "stream",
          "text": [
            "logits:    [0 0 2 0 1 1 4 5 5 3 4 3 1 0 0 0 0 1 0 4 4 1 3 2 1 2]\n",
            "labels_id: [1 4 2 4 2 1 4 2 3 3 4 3 1 3 0 0 0 5 5 2 4 1 3 2 1 5]\n",
            " Accuracy: 0.4790\n",
            " F1 score: 0.4548\n",
            "======== Epoch 382 / 500 ========\n",
            "Training...\n"
          ]
        },
        {
          "data": {
            "application/vnd.jupyter.widget-view+json": {
              "model_id": "c18efaabb3ee49f5aa43294a504c5a7f",
              "version_major": 2,
              "version_minor": 0
            },
            "text/plain": [
              "  0%|          | 0/104 [00:00<?, ?it/s]"
            ]
          },
          "metadata": {},
          "output_type": "display_data"
        },
        {
          "name": "stdout",
          "output_type": "stream",
          "text": [
            " Accuracy: 0.6962\n",
            " F1 score: 0.6116\n",
            " Average training loss: 0.8379\n",
            "Running Validation...\n"
          ]
        },
        {
          "data": {
            "application/vnd.jupyter.widget-view+json": {
              "model_id": "82da5920403f4bf180ec0726b2d45c91",
              "version_major": 2,
              "version_minor": 0
            },
            "text/plain": [
              "  0%|          | 0/9 [00:00<?, ?it/s]"
            ]
          },
          "metadata": {},
          "output_type": "display_data"
        },
        {
          "name": "stdout",
          "output_type": "stream",
          "text": [
            "logits:    [0 0 2 0 1 1 4 5 5 3 4 3 1 0 0 0 0 1 0 4 4 1 3 2 1 2]\n",
            "labels_id: [1 4 2 4 2 1 4 2 3 3 4 3 1 3 0 0 0 5 5 2 4 1 3 2 1 5]\n",
            " Accuracy: 0.4842\n",
            " F1 score: 0.4608\n",
            "======== Epoch 383 / 500 ========\n",
            "Training...\n"
          ]
        },
        {
          "data": {
            "application/vnd.jupyter.widget-view+json": {
              "model_id": "eeaca4b783614124ae44198a47d343e7",
              "version_major": 2,
              "version_minor": 0
            },
            "text/plain": [
              "  0%|          | 0/104 [00:00<?, ?it/s]"
            ]
          },
          "metadata": {},
          "output_type": "display_data"
        },
        {
          "name": "stdout",
          "output_type": "stream",
          "text": [
            " Accuracy: 0.6988\n",
            " F1 score: 0.6121\n",
            " Average training loss: 0.8329\n",
            "Running Validation...\n"
          ]
        },
        {
          "data": {
            "application/vnd.jupyter.widget-view+json": {
              "model_id": "cfca565efea34b93b8e238a9b1988a31",
              "version_major": 2,
              "version_minor": 0
            },
            "text/plain": [
              "  0%|          | 0/9 [00:00<?, ?it/s]"
            ]
          },
          "metadata": {},
          "output_type": "display_data"
        },
        {
          "name": "stdout",
          "output_type": "stream",
          "text": [
            "logits:    [0 0 2 0 1 1 4 5 5 3 4 3 1 0 0 0 0 1 0 4 4 1 3 2 1 2]\n",
            "labels_id: [1 4 2 4 2 1 4 2 3 3 4 3 1 3 0 0 0 5 5 2 4 1 3 2 1 5]\n",
            " Accuracy: 0.4808\n",
            " F1 score: 0.4586\n",
            "======== Epoch 384 / 500 ========\n",
            "Training...\n"
          ]
        },
        {
          "data": {
            "application/vnd.jupyter.widget-view+json": {
              "model_id": "747b424481a74726814b8f3b10df9b88",
              "version_major": 2,
              "version_minor": 0
            },
            "text/plain": [
              "  0%|          | 0/104 [00:00<?, ?it/s]"
            ]
          },
          "metadata": {},
          "output_type": "display_data"
        },
        {
          "name": "stdout",
          "output_type": "stream",
          "text": [
            " Accuracy: 0.7067\n",
            " F1 score: 0.6230\n",
            " Average training loss: 0.8161\n",
            "Running Validation...\n"
          ]
        },
        {
          "data": {
            "application/vnd.jupyter.widget-view+json": {
              "model_id": "8dada21d3dd543be8e6b55eb7ca82751",
              "version_major": 2,
              "version_minor": 0
            },
            "text/plain": [
              "  0%|          | 0/9 [00:00<?, ?it/s]"
            ]
          },
          "metadata": {},
          "output_type": "display_data"
        },
        {
          "name": "stdout",
          "output_type": "stream",
          "text": [
            "logits:    [0 0 2 0 1 1 4 5 5 3 4 3 1 0 0 0 0 1 0 4 4 1 3 2 1 2]\n",
            "labels_id: [1 4 2 4 2 1 4 2 3 3 4 3 1 3 0 0 0 5 5 2 4 1 3 2 1 5]\n",
            " Accuracy: 0.4842\n",
            " F1 score: 0.4618\n",
            "======== Epoch 385 / 500 ========\n",
            "Training...\n"
          ]
        },
        {
          "data": {
            "application/vnd.jupyter.widget-view+json": {
              "model_id": "ec56012d732a43308c4b59406c71a70f",
              "version_major": 2,
              "version_minor": 0
            },
            "text/plain": [
              "  0%|          | 0/104 [00:00<?, ?it/s]"
            ]
          },
          "metadata": {},
          "output_type": "display_data"
        },
        {
          "name": "stdout",
          "output_type": "stream",
          "text": [
            " Accuracy: 0.7031\n",
            " F1 score: 0.6184\n",
            " Average training loss: 0.8251\n",
            "Running Validation...\n"
          ]
        },
        {
          "data": {
            "application/vnd.jupyter.widget-view+json": {
              "model_id": "70a0da7268514bd4a371b7d99f89fd8b",
              "version_major": 2,
              "version_minor": 0
            },
            "text/plain": [
              "  0%|          | 0/9 [00:00<?, ?it/s]"
            ]
          },
          "metadata": {},
          "output_type": "display_data"
        },
        {
          "name": "stdout",
          "output_type": "stream",
          "text": [
            "logits:    [0 0 2 0 1 1 4 5 5 3 4 3 1 0 0 0 0 1 0 4 4 1 3 2 1 2]\n",
            "labels_id: [1 4 2 4 2 1 4 2 3 3 4 3 1 3 0 0 0 5 5 2 4 1 3 2 1 5]\n",
            " Accuracy: 0.4842\n",
            " F1 score: 0.4615\n",
            "======== Epoch 386 / 500 ========\n",
            "Training...\n"
          ]
        },
        {
          "data": {
            "application/vnd.jupyter.widget-view+json": {
              "model_id": "d9d21053840c47a3b24c48fd0ea2d3cf",
              "version_major": 2,
              "version_minor": 0
            },
            "text/plain": [
              "  0%|          | 0/104 [00:00<?, ?it/s]"
            ]
          },
          "metadata": {},
          "output_type": "display_data"
        },
        {
          "name": "stdout",
          "output_type": "stream",
          "text": [
            " Accuracy: 0.7078\n",
            " F1 score: 0.6256\n",
            " Average training loss: 0.8172\n",
            "Running Validation...\n"
          ]
        },
        {
          "data": {
            "application/vnd.jupyter.widget-view+json": {
              "model_id": "bc1a88b572454cd2964712112a4a4608",
              "version_major": 2,
              "version_minor": 0
            },
            "text/plain": [
              "  0%|          | 0/9 [00:00<?, ?it/s]"
            ]
          },
          "metadata": {},
          "output_type": "display_data"
        },
        {
          "name": "stdout",
          "output_type": "stream",
          "text": [
            "logits:    [0 0 2 0 5 1 4 5 5 3 4 3 1 0 0 0 0 1 0 4 4 1 3 2 1 2]\n",
            "labels_id: [1 4 2 4 2 1 4 2 3 3 4 3 1 3 0 0 0 5 5 2 4 1 3 2 1 5]\n",
            " Accuracy: 0.4825\n",
            " F1 score: 0.4612\n",
            "======== Epoch 387 / 500 ========\n",
            "Training...\n"
          ]
        },
        {
          "data": {
            "application/vnd.jupyter.widget-view+json": {
              "model_id": "c5c52d47fd6f4377960a8c640a8f2d0b",
              "version_major": 2,
              "version_minor": 0
            },
            "text/plain": [
              "  0%|          | 0/104 [00:00<?, ?it/s]"
            ]
          },
          "metadata": {},
          "output_type": "display_data"
        },
        {
          "name": "stdout",
          "output_type": "stream",
          "text": [
            " Accuracy: 0.7000\n",
            " F1 score: 0.6139\n",
            " Average training loss: 0.8244\n",
            "Running Validation...\n"
          ]
        },
        {
          "data": {
            "application/vnd.jupyter.widget-view+json": {
              "model_id": "54c6b83161734706a64c280023f12b24",
              "version_major": 2,
              "version_minor": 0
            },
            "text/plain": [
              "  0%|          | 0/9 [00:00<?, ?it/s]"
            ]
          },
          "metadata": {},
          "output_type": "display_data"
        },
        {
          "name": "stdout",
          "output_type": "stream",
          "text": [
            "logits:    [0 0 2 0 1 1 4 5 5 3 4 3 1 0 0 0 0 1 0 4 4 1 3 2 1 2]\n",
            "labels_id: [1 4 2 4 2 1 4 2 3 3 4 3 1 3 0 0 0 5 5 2 4 1 3 2 1 5]\n",
            " Accuracy: 0.4842\n",
            " F1 score: 0.4615\n",
            "======== Epoch 388 / 500 ========\n",
            "Training...\n"
          ]
        },
        {
          "data": {
            "application/vnd.jupyter.widget-view+json": {
              "model_id": "45bb0d03409a4dcc88aca54f19e39119",
              "version_major": 2,
              "version_minor": 0
            },
            "text/plain": [
              "  0%|          | 0/104 [00:00<?, ?it/s]"
            ]
          },
          "metadata": {},
          "output_type": "display_data"
        },
        {
          "name": "stdout",
          "output_type": "stream",
          "text": [
            " Accuracy: 0.7078\n",
            " F1 score: 0.6238\n",
            " Average training loss: 0.8188\n",
            "Running Validation...\n"
          ]
        },
        {
          "data": {
            "application/vnd.jupyter.widget-view+json": {
              "model_id": "9acc7aa52fee48bc91abb32424ce505a",
              "version_major": 2,
              "version_minor": 0
            },
            "text/plain": [
              "  0%|          | 0/9 [00:00<?, ?it/s]"
            ]
          },
          "metadata": {},
          "output_type": "display_data"
        },
        {
          "name": "stdout",
          "output_type": "stream",
          "text": [
            "logits:    [0 0 2 0 1 1 4 5 5 3 4 3 1 0 0 0 0 1 0 4 4 1 3 2 1 2]\n",
            "labels_id: [1 4 2 4 2 1 4 2 3 3 4 3 1 3 0 0 0 5 5 2 4 1 3 2 1 5]\n",
            " Accuracy: 0.4842\n",
            " F1 score: 0.4619\n",
            "======== Epoch 389 / 500 ========\n",
            "Training...\n"
          ]
        },
        {
          "data": {
            "application/vnd.jupyter.widget-view+json": {
              "model_id": "1d5ec043bd38484fbfc99e65d2098771",
              "version_major": 2,
              "version_minor": 0
            },
            "text/plain": [
              "  0%|          | 0/104 [00:00<?, ?it/s]"
            ]
          },
          "metadata": {},
          "output_type": "display_data"
        },
        {
          "name": "stdout",
          "output_type": "stream",
          "text": [
            " Accuracy: 0.7020\n",
            " F1 score: 0.6222\n",
            " Average training loss: 0.8165\n",
            "Running Validation...\n"
          ]
        },
        {
          "data": {
            "application/vnd.jupyter.widget-view+json": {
              "model_id": "81c4b34e81b04be3bfacd6f8290dc4a7",
              "version_major": 2,
              "version_minor": 0
            },
            "text/plain": [
              "  0%|          | 0/9 [00:00<?, ?it/s]"
            ]
          },
          "metadata": {},
          "output_type": "display_data"
        },
        {
          "name": "stdout",
          "output_type": "stream",
          "text": [
            "logits:    [0 0 2 0 1 1 4 5 5 3 4 3 1 0 0 0 0 1 0 4 4 1 3 2 1 2]\n",
            "labels_id: [1 4 2 4 2 1 4 2 3 3 4 3 1 3 0 0 0 5 5 2 4 1 3 2 1 5]\n",
            " Accuracy: 0.4842\n",
            " F1 score: 0.4620\n",
            "======== Epoch 390 / 500 ========\n",
            "Training...\n"
          ]
        },
        {
          "data": {
            "application/vnd.jupyter.widget-view+json": {
              "model_id": "8f7cd10553b74656a5c6e49850775502",
              "version_major": 2,
              "version_minor": 0
            },
            "text/plain": [
              "  0%|          | 0/104 [00:00<?, ?it/s]"
            ]
          },
          "metadata": {},
          "output_type": "display_data"
        },
        {
          "name": "stdout",
          "output_type": "stream",
          "text": [
            " Accuracy: 0.7014\n",
            " F1 score: 0.6096\n",
            " Average training loss: 0.8252\n",
            "Running Validation...\n"
          ]
        },
        {
          "data": {
            "application/vnd.jupyter.widget-view+json": {
              "model_id": "76121f264b10494eb0a2e3ee13488afb",
              "version_major": 2,
              "version_minor": 0
            },
            "text/plain": [
              "  0%|          | 0/9 [00:00<?, ?it/s]"
            ]
          },
          "metadata": {},
          "output_type": "display_data"
        },
        {
          "name": "stdout",
          "output_type": "stream",
          "text": [
            "logits:    [0 0 2 0 1 1 4 5 5 3 4 3 1 0 0 0 0 1 0 4 4 1 3 2 1 2]\n",
            "labels_id: [1 4 2 4 2 1 4 2 3 3 4 3 1 3 0 0 0 5 5 2 4 1 3 2 1 5]\n",
            " Accuracy: 0.4842\n",
            " F1 score: 0.4614\n",
            "======== Epoch 391 / 500 ========\n",
            "Training...\n"
          ]
        },
        {
          "data": {
            "application/vnd.jupyter.widget-view+json": {
              "model_id": "6f25233076bd4e5a86bc8e844dd3f22a",
              "version_major": 2,
              "version_minor": 0
            },
            "text/plain": [
              "  0%|          | 0/104 [00:00<?, ?it/s]"
            ]
          },
          "metadata": {},
          "output_type": "display_data"
        },
        {
          "name": "stdout",
          "output_type": "stream",
          "text": [
            " Accuracy: 0.6978\n",
            " F1 score: 0.6181\n",
            " Average training loss: 0.8231\n",
            "Running Validation...\n"
          ]
        },
        {
          "data": {
            "application/vnd.jupyter.widget-view+json": {
              "model_id": "7ec8c592b7874ea498aeb2a82501aa3f",
              "version_major": 2,
              "version_minor": 0
            },
            "text/plain": [
              "  0%|          | 0/9 [00:00<?, ?it/s]"
            ]
          },
          "metadata": {},
          "output_type": "display_data"
        },
        {
          "name": "stdout",
          "output_type": "stream",
          "text": [
            "logits:    [0 0 2 0 1 1 4 5 5 3 4 3 1 0 0 0 0 1 0 4 4 1 3 2 1 2]\n",
            "labels_id: [1 4 2 4 2 1 4 2 3 3 4 3 1 3 0 0 0 5 5 2 4 1 3 2 1 5]\n",
            " Accuracy: 0.4860\n",
            " F1 score: 0.4632\n",
            "======== Epoch 392 / 500 ========\n",
            "Training...\n"
          ]
        },
        {
          "data": {
            "application/vnd.jupyter.widget-view+json": {
              "model_id": "f8656e68fa374a72b172eb35de697830",
              "version_major": 2,
              "version_minor": 0
            },
            "text/plain": [
              "  0%|          | 0/104 [00:00<?, ?it/s]"
            ]
          },
          "metadata": {},
          "output_type": "display_data"
        },
        {
          "name": "stdout",
          "output_type": "stream",
          "text": [
            " Accuracy: 0.7038\n",
            " F1 score: 0.6199\n",
            " Average training loss: 0.8109\n",
            "Running Validation...\n"
          ]
        },
        {
          "data": {
            "application/vnd.jupyter.widget-view+json": {
              "model_id": "144992c269704bf185a0b0344ede2505",
              "version_major": 2,
              "version_minor": 0
            },
            "text/plain": [
              "  0%|          | 0/9 [00:00<?, ?it/s]"
            ]
          },
          "metadata": {},
          "output_type": "display_data"
        },
        {
          "name": "stdout",
          "output_type": "stream",
          "text": [
            "logits:    [0 0 2 0 1 1 4 5 5 3 4 3 1 0 0 0 0 1 0 4 4 1 3 2 1 2]\n",
            "labels_id: [1 4 2 4 2 1 4 2 3 3 4 3 1 3 0 0 0 5 5 2 4 1 3 2 1 5]\n",
            " Accuracy: 0.4860\n",
            " F1 score: 0.4632\n",
            "======== Epoch 393 / 500 ========\n",
            "Training...\n"
          ]
        },
        {
          "data": {
            "application/vnd.jupyter.widget-view+json": {
              "model_id": "ac7c6b4f716b43daa83797d8e55cd7ad",
              "version_major": 2,
              "version_minor": 0
            },
            "text/plain": [
              "  0%|          | 0/104 [00:00<?, ?it/s]"
            ]
          },
          "metadata": {},
          "output_type": "display_data"
        },
        {
          "name": "stdout",
          "output_type": "stream",
          "text": [
            " Accuracy: 0.7072\n",
            " F1 score: 0.6257\n",
            " Average training loss: 0.8175\n",
            "Running Validation...\n"
          ]
        },
        {
          "data": {
            "application/vnd.jupyter.widget-view+json": {
              "model_id": "6353756b766b409db1792f691e130360",
              "version_major": 2,
              "version_minor": 0
            },
            "text/plain": [
              "  0%|          | 0/9 [00:00<?, ?it/s]"
            ]
          },
          "metadata": {},
          "output_type": "display_data"
        },
        {
          "name": "stdout",
          "output_type": "stream",
          "text": [
            "logits:    [0 4 2 0 1 1 4 5 5 3 4 3 1 0 0 0 0 1 0 4 4 1 3 2 1 2]\n",
            "labels_id: [1 4 2 4 2 1 4 2 3 3 4 3 1 3 0 0 0 5 5 2 4 1 3 2 1 5]\n",
            " Accuracy: 0.4955\n",
            " F1 score: 0.4743\n",
            "======== Epoch 394 / 500 ========\n",
            "Training...\n"
          ]
        },
        {
          "data": {
            "application/vnd.jupyter.widget-view+json": {
              "model_id": "1a7ee81469d04acda2fc77828f11bbf3",
              "version_major": 2,
              "version_minor": 0
            },
            "text/plain": [
              "  0%|          | 0/104 [00:00<?, ?it/s]"
            ]
          },
          "metadata": {},
          "output_type": "display_data"
        },
        {
          "name": "stdout",
          "output_type": "stream",
          "text": [
            " Accuracy: 0.7115\n",
            " F1 score: 0.6239\n",
            " Average training loss: 0.8005\n",
            "Running Validation...\n"
          ]
        },
        {
          "data": {
            "application/vnd.jupyter.widget-view+json": {
              "model_id": "d94d98b2f4a549ecbc6a2c95bdfe31b7",
              "version_major": 2,
              "version_minor": 0
            },
            "text/plain": [
              "  0%|          | 0/9 [00:00<?, ?it/s]"
            ]
          },
          "metadata": {},
          "output_type": "display_data"
        },
        {
          "name": "stdout",
          "output_type": "stream",
          "text": [
            "logits:    [0 4 2 0 1 1 4 5 5 3 4 3 1 0 0 0 0 1 0 4 4 1 3 2 1 2]\n",
            "labels_id: [1 4 2 4 2 1 4 2 3 3 4 3 1 3 0 0 0 5 5 2 4 1 3 2 1 5]\n",
            " Accuracy: 0.4937\n",
            " F1 score: 0.4707\n",
            "======== Epoch 395 / 500 ========\n",
            "Training...\n"
          ]
        },
        {
          "data": {
            "application/vnd.jupyter.widget-view+json": {
              "model_id": "f352bded7ae54ef2aad0768cf159a4d2",
              "version_major": 2,
              "version_minor": 0
            },
            "text/plain": [
              "  0%|          | 0/104 [00:00<?, ?it/s]"
            ]
          },
          "metadata": {},
          "output_type": "display_data"
        },
        {
          "name": "stdout",
          "output_type": "stream",
          "text": [
            " Accuracy: 0.7091\n",
            " F1 score: 0.6297\n",
            " Average training loss: 0.8035\n",
            "Running Validation...\n"
          ]
        },
        {
          "data": {
            "application/vnd.jupyter.widget-view+json": {
              "model_id": "9f8a58d9c0bc48dcb724beebec8f0b74",
              "version_major": 2,
              "version_minor": 0
            },
            "text/plain": [
              "  0%|          | 0/9 [00:00<?, ?it/s]"
            ]
          },
          "metadata": {},
          "output_type": "display_data"
        },
        {
          "name": "stdout",
          "output_type": "stream",
          "text": [
            "logits:    [0 4 2 0 1 1 4 5 5 3 4 3 1 0 0 0 0 1 0 4 4 1 3 2 1 2]\n",
            "labels_id: [1 4 2 4 2 1 4 2 3 3 4 3 1 3 0 0 0 5 5 2 4 1 3 2 1 5]\n",
            " Accuracy: 0.4937\n",
            " F1 score: 0.4731\n",
            "======== Epoch 396 / 500 ========\n",
            "Training...\n"
          ]
        },
        {
          "data": {
            "application/vnd.jupyter.widget-view+json": {
              "model_id": "b9a4dd0deba040f2b3da966d46e12d1c",
              "version_major": 2,
              "version_minor": 0
            },
            "text/plain": [
              "  0%|          | 0/104 [00:00<?, ?it/s]"
            ]
          },
          "metadata": {},
          "output_type": "display_data"
        },
        {
          "name": "stdout",
          "output_type": "stream",
          "text": [
            " Accuracy: 0.7061\n",
            " F1 score: 0.6214\n",
            " Average training loss: 0.8030\n",
            "Running Validation...\n"
          ]
        },
        {
          "data": {
            "application/vnd.jupyter.widget-view+json": {
              "model_id": "ce416a141f7d4ca29a95743599c89444",
              "version_major": 2,
              "version_minor": 0
            },
            "text/plain": [
              "  0%|          | 0/9 [00:00<?, ?it/s]"
            ]
          },
          "metadata": {},
          "output_type": "display_data"
        },
        {
          "name": "stdout",
          "output_type": "stream",
          "text": [
            "logits:    [0 4 2 0 1 1 4 5 5 3 4 3 1 0 0 0 0 1 0 4 4 1 3 2 1 2]\n",
            "labels_id: [1 4 2 4 2 1 4 2 3 3 4 3 1 3 0 0 0 5 5 2 4 1 3 2 1 5]\n",
            " Accuracy: 0.4955\n",
            " F1 score: 0.4744\n",
            "======== Epoch 397 / 500 ========\n",
            "Training...\n"
          ]
        },
        {
          "data": {
            "application/vnd.jupyter.widget-view+json": {
              "model_id": "8f3e3d348aa14ce8ab9eeaee533f5252",
              "version_major": 2,
              "version_minor": 0
            },
            "text/plain": [
              "  0%|          | 0/104 [00:00<?, ?it/s]"
            ]
          },
          "metadata": {},
          "output_type": "display_data"
        },
        {
          "name": "stdout",
          "output_type": "stream",
          "text": [
            " Accuracy: 0.7131\n",
            " F1 score: 0.6306\n",
            " Average training loss: 0.8011\n",
            "Running Validation...\n"
          ]
        },
        {
          "data": {
            "application/vnd.jupyter.widget-view+json": {
              "model_id": "9af6a2d1054a4f9c949a660c2eb93de8",
              "version_major": 2,
              "version_minor": 0
            },
            "text/plain": [
              "  0%|          | 0/9 [00:00<?, ?it/s]"
            ]
          },
          "metadata": {},
          "output_type": "display_data"
        },
        {
          "name": "stdout",
          "output_type": "stream",
          "text": [
            "logits:    [0 4 2 0 1 1 4 5 5 3 4 3 1 0 0 0 0 1 0 4 4 1 3 2 1 2]\n",
            "labels_id: [1 4 2 4 2 1 4 2 3 3 4 3 1 3 0 0 0 5 5 2 4 1 3 2 1 5]\n",
            " Accuracy: 0.4955\n",
            " F1 score: 0.4741\n",
            "======== Epoch 398 / 500 ========\n",
            "Training...\n"
          ]
        },
        {
          "data": {
            "application/vnd.jupyter.widget-view+json": {
              "model_id": "dae1ca4b42714cd1884e3c15f3f4ac8c",
              "version_major": 2,
              "version_minor": 0
            },
            "text/plain": [
              "  0%|          | 0/104 [00:00<?, ?it/s]"
            ]
          },
          "metadata": {},
          "output_type": "display_data"
        },
        {
          "name": "stdout",
          "output_type": "stream",
          "text": [
            " Accuracy: 0.7066\n",
            " F1 score: 0.6156\n",
            " Average training loss: 0.7974\n",
            "Running Validation...\n"
          ]
        },
        {
          "data": {
            "application/vnd.jupyter.widget-view+json": {
              "model_id": "3f4a53e8cba14751a7bcc6d173e9dcef",
              "version_major": 2,
              "version_minor": 0
            },
            "text/plain": [
              "  0%|          | 0/9 [00:00<?, ?it/s]"
            ]
          },
          "metadata": {},
          "output_type": "display_data"
        },
        {
          "name": "stdout",
          "output_type": "stream",
          "text": [
            "logits:    [0 4 2 0 1 1 4 5 5 3 4 3 1 0 0 0 0 1 0 4 4 1 3 2 1 2]\n",
            "labels_id: [1 4 2 4 2 1 4 2 3 3 4 3 1 3 0 0 0 5 5 2 4 1 3 2 1 5]\n",
            " Accuracy: 0.4972\n",
            " F1 score: 0.4752\n",
            "======== Epoch 399 / 500 ========\n",
            "Training...\n"
          ]
        },
        {
          "data": {
            "application/vnd.jupyter.widget-view+json": {
              "model_id": "bb01b80b4b6a49129b99bee6abefb1e6",
              "version_major": 2,
              "version_minor": 0
            },
            "text/plain": [
              "  0%|          | 0/104 [00:00<?, ?it/s]"
            ]
          },
          "metadata": {},
          "output_type": "display_data"
        },
        {
          "name": "stdout",
          "output_type": "stream",
          "text": [
            " Accuracy: 0.7078\n",
            " F1 score: 0.6285\n",
            " Average training loss: 0.8022\n",
            "Running Validation...\n"
          ]
        },
        {
          "data": {
            "application/vnd.jupyter.widget-view+json": {
              "model_id": "18812ff84d9f4382bfd8163f770e6db9",
              "version_major": 2,
              "version_minor": 0
            },
            "text/plain": [
              "  0%|          | 0/9 [00:00<?, ?it/s]"
            ]
          },
          "metadata": {},
          "output_type": "display_data"
        },
        {
          "name": "stdout",
          "output_type": "stream",
          "text": [
            "logits:    [0 4 2 0 5 1 4 5 5 3 4 3 1 0 0 0 0 1 0 4 4 1 3 2 1 2]\n",
            "labels_id: [1 4 2 4 2 1 4 2 3 3 4 3 1 3 0 0 0 5 5 2 4 1 3 2 1 5]\n",
            " Accuracy: 0.4955\n",
            " F1 score: 0.4752\n",
            "======== Epoch 400 / 500 ========\n",
            "Training...\n"
          ]
        },
        {
          "data": {
            "application/vnd.jupyter.widget-view+json": {
              "model_id": "5d0c36ad43fb4b43bf0081d9da8dc014",
              "version_major": 2,
              "version_minor": 0
            },
            "text/plain": [
              "  0%|          | 0/104 [00:00<?, ?it/s]"
            ]
          },
          "metadata": {},
          "output_type": "display_data"
        },
        {
          "name": "stdout",
          "output_type": "stream",
          "text": [
            " Accuracy: 0.7150\n",
            " F1 score: 0.6288\n",
            " Average training loss: 0.7929\n",
            "Running Validation...\n"
          ]
        },
        {
          "data": {
            "application/vnd.jupyter.widget-view+json": {
              "model_id": "b5cd54e0ece74a19a71cc0bd16f53b15",
              "version_major": 2,
              "version_minor": 0
            },
            "text/plain": [
              "  0%|          | 0/9 [00:00<?, ?it/s]"
            ]
          },
          "metadata": {},
          "output_type": "display_data"
        },
        {
          "name": "stdout",
          "output_type": "stream",
          "text": [
            "logits:    [0 4 2 0 5 1 4 5 5 3 4 3 1 0 0 0 0 1 0 4 4 1 3 2 1 2]\n",
            "labels_id: [1 4 2 4 2 1 4 2 3 3 4 3 1 3 0 0 0 5 5 2 4 1 3 2 1 5]\n",
            " Accuracy: 0.4955\n",
            " F1 score: 0.4757\n",
            "======== Epoch 401 / 500 ========\n",
            "Training...\n"
          ]
        },
        {
          "data": {
            "application/vnd.jupyter.widget-view+json": {
              "model_id": "5ba528de0e68416888e062e8eaac82d1",
              "version_major": 2,
              "version_minor": 0
            },
            "text/plain": [
              "  0%|          | 0/104 [00:00<?, ?it/s]"
            ]
          },
          "metadata": {},
          "output_type": "display_data"
        },
        {
          "name": "stdout",
          "output_type": "stream",
          "text": [
            " Accuracy: 0.7049\n",
            " F1 score: 0.6204\n",
            " Average training loss: 0.8081\n",
            "Running Validation...\n"
          ]
        },
        {
          "data": {
            "application/vnd.jupyter.widget-view+json": {
              "model_id": "6d97c92e0c3242b99606b2cf65550b9c",
              "version_major": 2,
              "version_minor": 0
            },
            "text/plain": [
              "  0%|          | 0/9 [00:00<?, ?it/s]"
            ]
          },
          "metadata": {},
          "output_type": "display_data"
        },
        {
          "name": "stdout",
          "output_type": "stream",
          "text": [
            "logits:    [0 4 2 0 5 1 4 5 5 3 4 3 1 0 0 0 0 1 0 4 4 1 3 2 1 2]\n",
            "labels_id: [1 4 2 4 2 1 4 2 3 3 4 3 1 3 0 0 0 5 5 2 4 1 3 2 1 5]\n",
            " Accuracy: 0.4972\n",
            " F1 score: 0.4765\n",
            "======== Epoch 402 / 500 ========\n",
            "Training...\n"
          ]
        },
        {
          "data": {
            "application/vnd.jupyter.widget-view+json": {
              "model_id": "9e8683c8bc06481a85d8c6452c3411ef",
              "version_major": 2,
              "version_minor": 0
            },
            "text/plain": [
              "  0%|          | 0/104 [00:00<?, ?it/s]"
            ]
          },
          "metadata": {},
          "output_type": "display_data"
        },
        {
          "name": "stdout",
          "output_type": "stream",
          "text": [
            " Accuracy: 0.7093\n",
            " F1 score: 0.6315\n",
            " Average training loss: 0.8019\n",
            "Running Validation...\n"
          ]
        },
        {
          "data": {
            "application/vnd.jupyter.widget-view+json": {
              "model_id": "adf618b135cf47eab0483b1e65ab5425",
              "version_major": 2,
              "version_minor": 0
            },
            "text/plain": [
              "  0%|          | 0/9 [00:00<?, ?it/s]"
            ]
          },
          "metadata": {},
          "output_type": "display_data"
        },
        {
          "name": "stdout",
          "output_type": "stream",
          "text": [
            "logits:    [0 4 2 0 5 1 4 5 5 3 4 3 1 0 0 0 0 1 0 4 4 1 3 2 1 2]\n",
            "labels_id: [1 4 2 4 2 1 4 2 3 3 4 3 1 3 0 0 0 5 5 2 4 1 3 2 1 5]\n",
            " Accuracy: 0.4937\n",
            " F1 score: 0.4740\n",
            "======== Epoch 403 / 500 ========\n",
            "Training...\n"
          ]
        },
        {
          "data": {
            "application/vnd.jupyter.widget-view+json": {
              "model_id": "eb4a1135ee2148eaa91ea72d9a596f50",
              "version_major": 2,
              "version_minor": 0
            },
            "text/plain": [
              "  0%|          | 0/104 [00:00<?, ?it/s]"
            ]
          },
          "metadata": {},
          "output_type": "display_data"
        },
        {
          "name": "stdout",
          "output_type": "stream",
          "text": [
            " Accuracy: 0.7112\n",
            " F1 score: 0.6256\n",
            " Average training loss: 0.7916\n",
            "Running Validation...\n"
          ]
        },
        {
          "data": {
            "application/vnd.jupyter.widget-view+json": {
              "model_id": "413ec5c320904aedaacfdcf7b5dabee8",
              "version_major": 2,
              "version_minor": 0
            },
            "text/plain": [
              "  0%|          | 0/9 [00:00<?, ?it/s]"
            ]
          },
          "metadata": {},
          "output_type": "display_data"
        },
        {
          "name": "stdout",
          "output_type": "stream",
          "text": [
            "logits:    [0 4 2 0 5 1 4 5 5 3 4 3 1 0 0 0 0 1 0 4 4 1 3 2 1 2]\n",
            "labels_id: [1 4 2 4 2 1 4 2 3 3 4 3 1 3 0 0 0 5 5 2 4 1 3 2 1 5]\n",
            " Accuracy: 0.4955\n",
            " F1 score: 0.4751\n",
            "======== Epoch 404 / 500 ========\n",
            "Training...\n"
          ]
        },
        {
          "data": {
            "application/vnd.jupyter.widget-view+json": {
              "model_id": "003eabc2cc214813be572d5324c7ce4a",
              "version_major": 2,
              "version_minor": 0
            },
            "text/plain": [
              "  0%|          | 0/104 [00:00<?, ?it/s]"
            ]
          },
          "metadata": {},
          "output_type": "display_data"
        },
        {
          "name": "stdout",
          "output_type": "stream",
          "text": [
            " Accuracy: 0.7159\n",
            " F1 score: 0.6291\n",
            " Average training loss: 0.7953\n",
            "Running Validation...\n"
          ]
        },
        {
          "data": {
            "application/vnd.jupyter.widget-view+json": {
              "model_id": "59e2fd2a553445e1ba5d06239ce9fc65",
              "version_major": 2,
              "version_minor": 0
            },
            "text/plain": [
              "  0%|          | 0/9 [00:00<?, ?it/s]"
            ]
          },
          "metadata": {},
          "output_type": "display_data"
        },
        {
          "name": "stdout",
          "output_type": "stream",
          "text": [
            "logits:    [0 4 2 0 5 1 4 5 5 3 4 3 1 0 0 0 0 1 0 4 4 1 3 2 1 2]\n",
            "labels_id: [1 4 2 4 2 1 4 2 3 3 4 3 1 3 0 0 0 5 5 2 4 1 3 2 1 5]\n",
            " Accuracy: 0.4920\n",
            " F1 score: 0.4712\n",
            "======== Epoch 405 / 500 ========\n",
            "Training...\n"
          ]
        },
        {
          "data": {
            "application/vnd.jupyter.widget-view+json": {
              "model_id": "49488362deb4403c9eeae60d14bae6b8",
              "version_major": 2,
              "version_minor": 0
            },
            "text/plain": [
              "  0%|          | 0/104 [00:00<?, ?it/s]"
            ]
          },
          "metadata": {},
          "output_type": "display_data"
        },
        {
          "name": "stdout",
          "output_type": "stream",
          "text": [
            " Accuracy: 0.7154\n",
            " F1 score: 0.6330\n",
            " Average training loss: 0.7954\n",
            "Running Validation...\n"
          ]
        },
        {
          "data": {
            "application/vnd.jupyter.widget-view+json": {
              "model_id": "8f79055f4933482b81d9d852dd59ef2f",
              "version_major": 2,
              "version_minor": 0
            },
            "text/plain": [
              "  0%|          | 0/9 [00:00<?, ?it/s]"
            ]
          },
          "metadata": {},
          "output_type": "display_data"
        },
        {
          "name": "stdout",
          "output_type": "stream",
          "text": [
            "logits:    [0 4 2 0 5 1 4 5 5 3 4 3 1 0 0 0 0 1 0 4 4 1 3 2 1 2]\n",
            "labels_id: [1 4 2 4 2 1 4 2 3 3 4 3 1 3 0 0 0 5 5 2 4 1 3 2 1 5]\n",
            " Accuracy: 0.4972\n",
            " F1 score: 0.4759\n",
            "======== Epoch 406 / 500 ========\n",
            "Training...\n"
          ]
        },
        {
          "data": {
            "application/vnd.jupyter.widget-view+json": {
              "model_id": "1f892a482651442ab3a041af5c7f34a2",
              "version_major": 2,
              "version_minor": 0
            },
            "text/plain": [
              "  0%|          | 0/104 [00:00<?, ?it/s]"
            ]
          },
          "metadata": {},
          "output_type": "display_data"
        },
        {
          "name": "stdout",
          "output_type": "stream",
          "text": [
            " Accuracy: 0.7065\n",
            " F1 score: 0.6180\n",
            " Average training loss: 0.7967\n",
            "Running Validation...\n"
          ]
        },
        {
          "data": {
            "application/vnd.jupyter.widget-view+json": {
              "model_id": "f29051186c26469e940a4df345cd2264",
              "version_major": 2,
              "version_minor": 0
            },
            "text/plain": [
              "  0%|          | 0/9 [00:00<?, ?it/s]"
            ]
          },
          "metadata": {},
          "output_type": "display_data"
        },
        {
          "name": "stdout",
          "output_type": "stream",
          "text": [
            "logits:    [0 4 2 0 1 1 4 5 5 3 4 3 1 0 0 0 0 1 0 4 4 1 3 2 1 2]\n",
            "labels_id: [1 4 2 4 2 1 4 2 3 3 4 3 1 3 0 0 0 5 5 2 4 1 3 2 1 5]\n",
            " Accuracy: 0.4972\n",
            " F1 score: 0.4746\n",
            "======== Epoch 407 / 500 ========\n",
            "Training...\n"
          ]
        },
        {
          "data": {
            "application/vnd.jupyter.widget-view+json": {
              "model_id": "f0a4510dac2a4358a914719bac6a000e",
              "version_major": 2,
              "version_minor": 0
            },
            "text/plain": [
              "  0%|          | 0/104 [00:00<?, ?it/s]"
            ]
          },
          "metadata": {},
          "output_type": "display_data"
        },
        {
          "name": "stdout",
          "output_type": "stream",
          "text": [
            " Accuracy: 0.7157\n",
            " F1 score: 0.6362\n",
            " Average training loss: 0.7843\n",
            "Running Validation...\n"
          ]
        },
        {
          "data": {
            "application/vnd.jupyter.widget-view+json": {
              "model_id": "d8a42e34a5bd4b4ab15e3c701aa07e52",
              "version_major": 2,
              "version_minor": 0
            },
            "text/plain": [
              "  0%|          | 0/9 [00:00<?, ?it/s]"
            ]
          },
          "metadata": {},
          "output_type": "display_data"
        },
        {
          "name": "stdout",
          "output_type": "stream",
          "text": [
            "logits:    [0 4 2 0 5 1 4 5 5 3 4 3 1 0 0 0 0 1 0 4 4 1 3 2 1 2]\n",
            "labels_id: [1 4 2 4 2 1 4 2 3 3 4 3 1 3 0 0 0 5 5 2 4 1 3 2 1 5]\n",
            " Accuracy: 0.4972\n",
            " F1 score: 0.4762\n",
            "======== Epoch 408 / 500 ========\n",
            "Training...\n"
          ]
        },
        {
          "data": {
            "application/vnd.jupyter.widget-view+json": {
              "model_id": "eb2fc69f63774e6c885a8c72f6682f9c",
              "version_major": 2,
              "version_minor": 0
            },
            "text/plain": [
              "  0%|          | 0/104 [00:00<?, ?it/s]"
            ]
          },
          "metadata": {},
          "output_type": "display_data"
        },
        {
          "name": "stdout",
          "output_type": "stream",
          "text": [
            " Accuracy: 0.7156\n",
            " F1 score: 0.6421\n",
            " Average training loss: 0.7810\n",
            "Running Validation...\n"
          ]
        },
        {
          "data": {
            "application/vnd.jupyter.widget-view+json": {
              "model_id": "332f530dc760429d9ffbbf95b0597365",
              "version_major": 2,
              "version_minor": 0
            },
            "text/plain": [
              "  0%|          | 0/9 [00:00<?, ?it/s]"
            ]
          },
          "metadata": {},
          "output_type": "display_data"
        },
        {
          "name": "stdout",
          "output_type": "stream",
          "text": [
            "logits:    [0 4 2 0 5 1 4 5 5 3 4 3 1 0 0 0 0 1 0 4 4 1 3 2 1 2]\n",
            "labels_id: [1 4 2 4 2 1 4 2 3 3 4 3 1 3 0 0 0 5 5 2 4 1 3 2 1 5]\n",
            " Accuracy: 0.4955\n",
            " F1 score: 0.4736\n",
            "======== Epoch 409 / 500 ========\n",
            "Training...\n"
          ]
        },
        {
          "data": {
            "application/vnd.jupyter.widget-view+json": {
              "model_id": "f6753ac504c049d5a077ed413de1e1c3",
              "version_major": 2,
              "version_minor": 0
            },
            "text/plain": [
              "  0%|          | 0/104 [00:00<?, ?it/s]"
            ]
          },
          "metadata": {},
          "output_type": "display_data"
        },
        {
          "name": "stdout",
          "output_type": "stream",
          "text": [
            " Accuracy: 0.7164\n",
            " F1 score: 0.6420\n",
            " Average training loss: 0.7893\n",
            "Running Validation...\n"
          ]
        },
        {
          "data": {
            "application/vnd.jupyter.widget-view+json": {
              "model_id": "515eb4334e284a7ebd2141d26a01dc26",
              "version_major": 2,
              "version_minor": 0
            },
            "text/plain": [
              "  0%|          | 0/9 [00:00<?, ?it/s]"
            ]
          },
          "metadata": {},
          "output_type": "display_data"
        },
        {
          "name": "stdout",
          "output_type": "stream",
          "text": [
            "logits:    [0 4 2 0 5 1 4 5 5 3 4 3 1 0 0 0 0 1 0 4 4 1 3 2 1 2]\n",
            "labels_id: [1 4 2 4 2 1 4 2 3 3 4 3 1 3 0 0 0 5 5 2 4 1 3 2 1 5]\n",
            " Accuracy: 0.4972\n",
            " F1 score: 0.4761\n",
            "======== Epoch 410 / 500 ========\n",
            "Training...\n"
          ]
        },
        {
          "data": {
            "application/vnd.jupyter.widget-view+json": {
              "model_id": "854e8587bf3e46528e7d6bef08e92d80",
              "version_major": 2,
              "version_minor": 0
            },
            "text/plain": [
              "  0%|          | 0/104 [00:00<?, ?it/s]"
            ]
          },
          "metadata": {},
          "output_type": "display_data"
        },
        {
          "name": "stdout",
          "output_type": "stream",
          "text": [
            " Accuracy: 0.7203\n",
            " F1 score: 0.6343\n",
            " Average training loss: 0.7800\n",
            "Running Validation...\n"
          ]
        },
        {
          "data": {
            "application/vnd.jupyter.widget-view+json": {
              "model_id": "2c8955847d54413c88c182d37edf4a78",
              "version_major": 2,
              "version_minor": 0
            },
            "text/plain": [
              "  0%|          | 0/9 [00:00<?, ?it/s]"
            ]
          },
          "metadata": {},
          "output_type": "display_data"
        },
        {
          "name": "stdout",
          "output_type": "stream",
          "text": [
            "logits:    [0 4 2 0 5 1 4 5 5 3 4 3 1 0 0 0 0 1 0 4 4 1 3 2 1 2]\n",
            "labels_id: [1 4 2 4 2 1 4 2 3 3 4 3 1 3 0 0 0 5 5 2 4 1 3 2 1 5]\n",
            " Accuracy: 0.5007\n",
            " F1 score: 0.4796\n",
            "======== Epoch 411 / 500 ========\n",
            "Training...\n"
          ]
        },
        {
          "data": {
            "application/vnd.jupyter.widget-view+json": {
              "model_id": "d8e4e884a8ea42cba13ddf5b49259637",
              "version_major": 2,
              "version_minor": 0
            },
            "text/plain": [
              "  0%|          | 0/104 [00:00<?, ?it/s]"
            ]
          },
          "metadata": {},
          "output_type": "display_data"
        },
        {
          "name": "stdout",
          "output_type": "stream",
          "text": [
            " Accuracy: 0.7194\n",
            " F1 score: 0.6405\n",
            " Average training loss: 0.7779\n",
            "Running Validation...\n"
          ]
        },
        {
          "data": {
            "application/vnd.jupyter.widget-view+json": {
              "model_id": "b01a8a54f2ff411782ee43ee415c840e",
              "version_major": 2,
              "version_minor": 0
            },
            "text/plain": [
              "  0%|          | 0/9 [00:00<?, ?it/s]"
            ]
          },
          "metadata": {},
          "output_type": "display_data"
        },
        {
          "name": "stdout",
          "output_type": "stream",
          "text": [
            "logits:    [0 4 2 0 5 1 4 5 5 3 4 3 1 0 0 0 0 1 0 4 4 1 3 2 1 2]\n",
            "labels_id: [1 4 2 4 2 1 4 2 3 3 4 3 1 3 0 0 0 5 5 2 4 1 3 2 1 5]\n",
            " Accuracy: 0.5007\n",
            " F1 score: 0.4801\n",
            "======== Epoch 412 / 500 ========\n",
            "Training...\n"
          ]
        },
        {
          "data": {
            "application/vnd.jupyter.widget-view+json": {
              "model_id": "e2f1e02d453043be8364ee23dedf8dd2",
              "version_major": 2,
              "version_minor": 0
            },
            "text/plain": [
              "  0%|          | 0/104 [00:00<?, ?it/s]"
            ]
          },
          "metadata": {},
          "output_type": "display_data"
        },
        {
          "name": "stdout",
          "output_type": "stream",
          "text": [
            " Accuracy: 0.7190\n",
            " F1 score: 0.6360\n",
            " Average training loss: 0.7804\n",
            "Running Validation...\n"
          ]
        },
        {
          "data": {
            "application/vnd.jupyter.widget-view+json": {
              "model_id": "d09c2036c1bb4d828bb2ad4805f260aa",
              "version_major": 2,
              "version_minor": 0
            },
            "text/plain": [
              "  0%|          | 0/9 [00:00<?, ?it/s]"
            ]
          },
          "metadata": {},
          "output_type": "display_data"
        },
        {
          "name": "stdout",
          "output_type": "stream",
          "text": [
            "logits:    [0 4 2 0 5 1 4 5 5 3 4 3 1 0 0 0 0 1 0 4 4 1 3 2 1 2]\n",
            "labels_id: [1 4 2 4 2 1 4 2 3 3 4 3 1 3 0 0 0 5 5 2 4 1 3 2 1 5]\n",
            " Accuracy: 0.4989\n",
            " F1 score: 0.4790\n",
            "======== Epoch 413 / 500 ========\n",
            "Training...\n"
          ]
        },
        {
          "data": {
            "application/vnd.jupyter.widget-view+json": {
              "model_id": "242fe0aa87184c6e97c7f32566f28dba",
              "version_major": 2,
              "version_minor": 0
            },
            "text/plain": [
              "  0%|          | 0/104 [00:00<?, ?it/s]"
            ]
          },
          "metadata": {},
          "output_type": "display_data"
        },
        {
          "name": "stdout",
          "output_type": "stream",
          "text": [
            " Accuracy: 0.7158\n",
            " F1 score: 0.6281\n",
            " Average training loss: 0.7851\n",
            "Running Validation...\n"
          ]
        },
        {
          "data": {
            "application/vnd.jupyter.widget-view+json": {
              "model_id": "a945678af1fa4382b5f3da33f939b8ff",
              "version_major": 2,
              "version_minor": 0
            },
            "text/plain": [
              "  0%|          | 0/9 [00:00<?, ?it/s]"
            ]
          },
          "metadata": {},
          "output_type": "display_data"
        },
        {
          "name": "stdout",
          "output_type": "stream",
          "text": [
            "logits:    [0 4 2 0 5 1 4 5 5 3 4 3 1 0 0 0 0 1 0 4 4 1 3 2 1 2]\n",
            "labels_id: [1 4 2 4 2 1 4 2 3 3 4 3 1 3 0 0 0 5 5 2 4 1 3 2 1 5]\n",
            " Accuracy: 0.4972\n",
            " F1 score: 0.4763\n",
            "======== Epoch 414 / 500 ========\n",
            "Training...\n"
          ]
        },
        {
          "data": {
            "application/vnd.jupyter.widget-view+json": {
              "model_id": "c7d6c2d0c7db4e8db5f4afb4944b7e9f",
              "version_major": 2,
              "version_minor": 0
            },
            "text/plain": [
              "  0%|          | 0/104 [00:00<?, ?it/s]"
            ]
          },
          "metadata": {},
          "output_type": "display_data"
        },
        {
          "name": "stdout",
          "output_type": "stream",
          "text": [
            " Accuracy: 0.7186\n",
            " F1 score: 0.6342\n",
            " Average training loss: 0.7842\n",
            "Running Validation...\n"
          ]
        },
        {
          "data": {
            "application/vnd.jupyter.widget-view+json": {
              "model_id": "8e3e8a35a6264c69a485d6eeb78baeb2",
              "version_major": 2,
              "version_minor": 0
            },
            "text/plain": [
              "  0%|          | 0/9 [00:00<?, ?it/s]"
            ]
          },
          "metadata": {},
          "output_type": "display_data"
        },
        {
          "name": "stdout",
          "output_type": "stream",
          "text": [
            "logits:    [0 4 2 0 5 1 4 5 5 3 4 3 1 0 0 0 0 1 0 4 4 1 3 2 1 2]\n",
            "labels_id: [1 4 2 4 2 1 4 2 3 3 4 3 1 3 0 0 0 5 5 2 4 1 3 2 1 5]\n",
            " Accuracy: 0.4972\n",
            " F1 score: 0.4774\n",
            "======== Epoch 415 / 500 ========\n",
            "Training...\n"
          ]
        },
        {
          "data": {
            "application/vnd.jupyter.widget-view+json": {
              "model_id": "ae60490bdc79409e92c9043b817d7b75",
              "version_major": 2,
              "version_minor": 0
            },
            "text/plain": [
              "  0%|          | 0/104 [00:00<?, ?it/s]"
            ]
          },
          "metadata": {},
          "output_type": "display_data"
        },
        {
          "name": "stdout",
          "output_type": "stream",
          "text": [
            " Accuracy: 0.7220\n",
            " F1 score: 0.6401\n",
            " Average training loss: 0.7764\n",
            "Running Validation...\n"
          ]
        },
        {
          "data": {
            "application/vnd.jupyter.widget-view+json": {
              "model_id": "e7722828bf6b44b3994604d525ba6058",
              "version_major": 2,
              "version_minor": 0
            },
            "text/plain": [
              "  0%|          | 0/9 [00:00<?, ?it/s]"
            ]
          },
          "metadata": {},
          "output_type": "display_data"
        },
        {
          "name": "stdout",
          "output_type": "stream",
          "text": [
            "logits:    [0 4 2 0 5 1 4 5 5 3 4 3 1 0 0 0 0 1 0 4 4 1 3 2 1 2]\n",
            "labels_id: [1 4 2 4 2 1 4 2 3 3 4 3 1 3 0 0 0 5 5 2 4 1 3 2 1 5]\n",
            " Accuracy: 0.4972\n",
            " F1 score: 0.4777\n",
            "======== Epoch 416 / 500 ========\n",
            "Training...\n"
          ]
        },
        {
          "data": {
            "application/vnd.jupyter.widget-view+json": {
              "model_id": "142270e66bc44269b293a1af7b480fdc",
              "version_major": 2,
              "version_minor": 0
            },
            "text/plain": [
              "  0%|          | 0/104 [00:00<?, ?it/s]"
            ]
          },
          "metadata": {},
          "output_type": "display_data"
        },
        {
          "name": "stdout",
          "output_type": "stream",
          "text": [
            " Accuracy: 0.7200\n",
            " F1 score: 0.6348\n",
            " Average training loss: 0.7815\n",
            "Running Validation...\n"
          ]
        },
        {
          "data": {
            "application/vnd.jupyter.widget-view+json": {
              "model_id": "6530cd827943496eadef872534fc2819",
              "version_major": 2,
              "version_minor": 0
            },
            "text/plain": [
              "  0%|          | 0/9 [00:00<?, ?it/s]"
            ]
          },
          "metadata": {},
          "output_type": "display_data"
        },
        {
          "name": "stdout",
          "output_type": "stream",
          "text": [
            "logits:    [0 4 2 0 5 1 4 5 5 3 4 3 1 0 0 0 0 1 0 4 4 1 3 2 1 2]\n",
            "labels_id: [1 4 2 4 2 1 4 2 3 3 4 3 1 3 0 0 0 5 5 2 4 1 3 2 1 5]\n",
            " Accuracy: 0.5007\n",
            " F1 score: 0.4804\n",
            "======== Epoch 417 / 500 ========\n",
            "Training...\n"
          ]
        },
        {
          "data": {
            "application/vnd.jupyter.widget-view+json": {
              "model_id": "c172fea381a1408eb22d1df5ea0fcf01",
              "version_major": 2,
              "version_minor": 0
            },
            "text/plain": [
              "  0%|          | 0/104 [00:00<?, ?it/s]"
            ]
          },
          "metadata": {},
          "output_type": "display_data"
        },
        {
          "name": "stdout",
          "output_type": "stream",
          "text": [
            " Accuracy: 0.7249\n",
            " F1 score: 0.6433\n",
            " Average training loss: 0.7727\n",
            "Running Validation...\n"
          ]
        },
        {
          "data": {
            "application/vnd.jupyter.widget-view+json": {
              "model_id": "e7c989d26c2d4c41859103c8ee4784b1",
              "version_major": 2,
              "version_minor": 0
            },
            "text/plain": [
              "  0%|          | 0/9 [00:00<?, ?it/s]"
            ]
          },
          "metadata": {},
          "output_type": "display_data"
        },
        {
          "name": "stdout",
          "output_type": "stream",
          "text": [
            "logits:    [0 4 2 0 5 1 4 5 5 3 4 3 1 0 0 0 0 1 0 4 4 1 3 2 1 2]\n",
            "labels_id: [1 4 2 4 2 1 4 2 3 3 4 3 1 3 0 0 0 5 5 2 4 1 3 2 1 5]\n",
            " Accuracy: 0.5007\n",
            " F1 score: 0.4804\n",
            "======== Epoch 418 / 500 ========\n",
            "Training...\n"
          ]
        },
        {
          "data": {
            "application/vnd.jupyter.widget-view+json": {
              "model_id": "f6ea2b7ee19d44788cbd4f86a8958a20",
              "version_major": 2,
              "version_minor": 0
            },
            "text/plain": [
              "  0%|          | 0/104 [00:00<?, ?it/s]"
            ]
          },
          "metadata": {},
          "output_type": "display_data"
        },
        {
          "name": "stdout",
          "output_type": "stream",
          "text": [
            " Accuracy: 0.7197\n",
            " F1 score: 0.6347\n",
            " Average training loss: 0.7776\n",
            "Running Validation...\n"
          ]
        },
        {
          "data": {
            "application/vnd.jupyter.widget-view+json": {
              "model_id": "d3fc6f1ffed94895b4d558f66ec6bbf8",
              "version_major": 2,
              "version_minor": 0
            },
            "text/plain": [
              "  0%|          | 0/9 [00:00<?, ?it/s]"
            ]
          },
          "metadata": {},
          "output_type": "display_data"
        },
        {
          "name": "stdout",
          "output_type": "stream",
          "text": [
            "logits:    [0 4 2 0 5 1 4 5 5 3 4 3 1 0 0 0 0 1 0 4 4 1 3 2 1 2]\n",
            "labels_id: [1 4 2 4 2 1 4 2 3 3 4 3 1 3 0 0 0 5 5 2 4 1 3 2 1 5]\n",
            " Accuracy: 0.4972\n",
            " F1 score: 0.4774\n",
            "======== Epoch 419 / 500 ========\n",
            "Training...\n"
          ]
        },
        {
          "data": {
            "application/vnd.jupyter.widget-view+json": {
              "model_id": "96ba9b13f4c94bf1902bcae0b2cbcfed",
              "version_major": 2,
              "version_minor": 0
            },
            "text/plain": [
              "  0%|          | 0/104 [00:00<?, ?it/s]"
            ]
          },
          "metadata": {},
          "output_type": "display_data"
        },
        {
          "name": "stdout",
          "output_type": "stream",
          "text": [
            " Accuracy: 0.7232\n",
            " F1 score: 0.6402\n",
            " Average training loss: 0.7714\n",
            "Running Validation...\n"
          ]
        },
        {
          "data": {
            "application/vnd.jupyter.widget-view+json": {
              "model_id": "1e33c474089843ffa70206086e55f12d",
              "version_major": 2,
              "version_minor": 0
            },
            "text/plain": [
              "  0%|          | 0/9 [00:00<?, ?it/s]"
            ]
          },
          "metadata": {},
          "output_type": "display_data"
        },
        {
          "name": "stdout",
          "output_type": "stream",
          "text": [
            "logits:    [0 4 2 0 5 1 4 5 5 3 4 3 1 0 0 0 0 1 0 4 4 1 3 2 1 2]\n",
            "labels_id: [1 4 2 4 2 1 4 2 3 3 4 3 1 3 0 0 0 5 5 2 4 1 3 2 1 5]\n",
            " Accuracy: 0.4972\n",
            " F1 score: 0.4770\n",
            "======== Epoch 420 / 500 ========\n",
            "Training...\n"
          ]
        },
        {
          "data": {
            "application/vnd.jupyter.widget-view+json": {
              "model_id": "ebd72e95789e4cf2a872f557eb846548",
              "version_major": 2,
              "version_minor": 0
            },
            "text/plain": [
              "  0%|          | 0/104 [00:00<?, ?it/s]"
            ]
          },
          "metadata": {},
          "output_type": "display_data"
        },
        {
          "name": "stdout",
          "output_type": "stream",
          "text": [
            " Accuracy: 0.7285\n",
            " F1 score: 0.6452\n",
            " Average training loss: 0.7639\n",
            "Running Validation...\n"
          ]
        },
        {
          "data": {
            "application/vnd.jupyter.widget-view+json": {
              "model_id": "cbe2463714c443cf83cfed6bb79a1f3f",
              "version_major": 2,
              "version_minor": 0
            },
            "text/plain": [
              "  0%|          | 0/9 [00:00<?, ?it/s]"
            ]
          },
          "metadata": {},
          "output_type": "display_data"
        },
        {
          "name": "stdout",
          "output_type": "stream",
          "text": [
            "logits:    [0 4 2 0 5 1 4 5 5 3 4 3 1 0 0 0 0 1 0 4 4 1 3 2 1 2]\n",
            "labels_id: [1 4 2 4 2 1 4 2 3 3 4 3 1 3 0 0 0 5 5 2 4 1 3 2 1 5]\n",
            " Accuracy: 0.4972\n",
            " F1 score: 0.4773\n",
            "======== Epoch 421 / 500 ========\n",
            "Training...\n"
          ]
        },
        {
          "data": {
            "application/vnd.jupyter.widget-view+json": {
              "model_id": "6333a21336ea4e8ebe76c0be8aee28d5",
              "version_major": 2,
              "version_minor": 0
            },
            "text/plain": [
              "  0%|          | 0/104 [00:00<?, ?it/s]"
            ]
          },
          "metadata": {},
          "output_type": "display_data"
        },
        {
          "name": "stdout",
          "output_type": "stream",
          "text": [
            " Accuracy: 0.7273\n",
            " F1 score: 0.6452\n",
            " Average training loss: 0.7712\n",
            "Running Validation...\n"
          ]
        },
        {
          "data": {
            "application/vnd.jupyter.widget-view+json": {
              "model_id": "db6df79c292749b9ab4a46e9d251ac34",
              "version_major": 2,
              "version_minor": 0
            },
            "text/plain": [
              "  0%|          | 0/9 [00:00<?, ?it/s]"
            ]
          },
          "metadata": {},
          "output_type": "display_data"
        },
        {
          "name": "stdout",
          "output_type": "stream",
          "text": [
            "logits:    [0 4 2 0 5 1 4 5 5 3 4 3 1 0 0 0 0 1 0 4 4 1 3 2 1 2]\n",
            "labels_id: [1 4 2 4 2 1 4 2 3 3 4 3 1 3 0 0 0 5 5 2 4 1 3 2 1 5]\n",
            " Accuracy: 0.4972\n",
            " F1 score: 0.4773\n",
            "======== Epoch 422 / 500 ========\n",
            "Training...\n"
          ]
        },
        {
          "data": {
            "application/vnd.jupyter.widget-view+json": {
              "model_id": "b8cbd18808e84d20a35aa80a1d495614",
              "version_major": 2,
              "version_minor": 0
            },
            "text/plain": [
              "  0%|          | 0/104 [00:00<?, ?it/s]"
            ]
          },
          "metadata": {},
          "output_type": "display_data"
        },
        {
          "name": "stdout",
          "output_type": "stream",
          "text": [
            " Accuracy: 0.7259\n",
            " F1 score: 0.6473\n",
            " Average training loss: 0.7627\n",
            "Running Validation...\n"
          ]
        },
        {
          "data": {
            "application/vnd.jupyter.widget-view+json": {
              "model_id": "723e383878b34b218c1ac0cea9a0ec02",
              "version_major": 2,
              "version_minor": 0
            },
            "text/plain": [
              "  0%|          | 0/9 [00:00<?, ?it/s]"
            ]
          },
          "metadata": {},
          "output_type": "display_data"
        },
        {
          "name": "stdout",
          "output_type": "stream",
          "text": [
            "logits:    [0 4 2 0 5 1 4 5 5 3 4 3 1 0 0 0 0 1 0 4 4 1 3 2 1 2]\n",
            "labels_id: [1 4 2 4 2 1 4 2 3 3 4 3 1 3 0 0 0 5 5 2 4 1 3 2 1 5]\n",
            " Accuracy: 0.4972\n",
            " F1 score: 0.4773\n",
            "======== Epoch 423 / 500 ========\n",
            "Training...\n"
          ]
        },
        {
          "data": {
            "application/vnd.jupyter.widget-view+json": {
              "model_id": "36b5d6de720b475c9ee590a3470d9e50",
              "version_major": 2,
              "version_minor": 0
            },
            "text/plain": [
              "  0%|          | 0/104 [00:00<?, ?it/s]"
            ]
          },
          "metadata": {},
          "output_type": "display_data"
        },
        {
          "name": "stdout",
          "output_type": "stream",
          "text": [
            " Accuracy: 0.7255\n",
            " F1 score: 0.6532\n",
            " Average training loss: 0.7694\n",
            "Running Validation...\n"
          ]
        },
        {
          "data": {
            "application/vnd.jupyter.widget-view+json": {
              "model_id": "21d8144e01624e169c516ae741b61de8",
              "version_major": 2,
              "version_minor": 0
            },
            "text/plain": [
              "  0%|          | 0/9 [00:00<?, ?it/s]"
            ]
          },
          "metadata": {},
          "output_type": "display_data"
        },
        {
          "name": "stdout",
          "output_type": "stream",
          "text": [
            "logits:    [0 4 2 0 5 1 4 5 5 3 4 3 1 0 0 0 0 1 0 4 4 1 3 2 1 2]\n",
            "labels_id: [1 4 2 4 2 1 4 2 3 3 4 3 1 3 0 0 0 5 5 2 4 1 3 2 1 5]\n",
            " Accuracy: 0.4972\n",
            " F1 score: 0.4780\n",
            "======== Epoch 424 / 500 ========\n",
            "Training...\n"
          ]
        },
        {
          "data": {
            "application/vnd.jupyter.widget-view+json": {
              "model_id": "04253d3bc8fe46df8388e4b2eeefc4ce",
              "version_major": 2,
              "version_minor": 0
            },
            "text/plain": [
              "  0%|          | 0/104 [00:00<?, ?it/s]"
            ]
          },
          "metadata": {},
          "output_type": "display_data"
        },
        {
          "name": "stdout",
          "output_type": "stream",
          "text": [
            " Accuracy: 0.7191\n",
            " F1 score: 0.6468\n",
            " Average training loss: 0.7716\n",
            "Running Validation...\n"
          ]
        },
        {
          "data": {
            "application/vnd.jupyter.widget-view+json": {
              "model_id": "a98fd48e983744b6b236037f86148601",
              "version_major": 2,
              "version_minor": 0
            },
            "text/plain": [
              "  0%|          | 0/9 [00:00<?, ?it/s]"
            ]
          },
          "metadata": {},
          "output_type": "display_data"
        },
        {
          "name": "stdout",
          "output_type": "stream",
          "text": [
            "logits:    [0 4 2 0 5 1 4 5 5 3 4 3 1 0 0 0 0 1 0 4 4 1 3 2 1 2]\n",
            "labels_id: [1 4 2 4 2 1 4 2 3 3 4 3 1 3 0 0 0 5 5 2 4 1 3 2 1 5]\n",
            " Accuracy: 0.4989\n",
            " F1 score: 0.4798\n",
            "======== Epoch 425 / 500 ========\n",
            "Training...\n"
          ]
        },
        {
          "data": {
            "application/vnd.jupyter.widget-view+json": {
              "model_id": "b44f16d186994396bc8bd17cbb48e6a9",
              "version_major": 2,
              "version_minor": 0
            },
            "text/plain": [
              "  0%|          | 0/104 [00:00<?, ?it/s]"
            ]
          },
          "metadata": {},
          "output_type": "display_data"
        },
        {
          "name": "stdout",
          "output_type": "stream",
          "text": [
            " Accuracy: 0.7226\n",
            " F1 score: 0.6479\n",
            " Average training loss: 0.7571\n",
            "Running Validation...\n"
          ]
        },
        {
          "data": {
            "application/vnd.jupyter.widget-view+json": {
              "model_id": "737124e4f08d4bfe8dfaad3df63fdeff",
              "version_major": 2,
              "version_minor": 0
            },
            "text/plain": [
              "  0%|          | 0/9 [00:00<?, ?it/s]"
            ]
          },
          "metadata": {},
          "output_type": "display_data"
        },
        {
          "name": "stdout",
          "output_type": "stream",
          "text": [
            "logits:    [0 4 2 0 5 1 4 5 5 3 4 3 1 0 0 0 0 1 0 4 4 1 3 2 1 2]\n",
            "labels_id: [1 4 2 4 2 1 4 2 3 3 4 3 1 3 0 0 0 5 5 2 4 1 3 2 1 5]\n",
            " Accuracy: 0.4955\n",
            " F1 score: 0.4765\n",
            "======== Epoch 426 / 500 ========\n",
            "Training...\n"
          ]
        },
        {
          "data": {
            "application/vnd.jupyter.widget-view+json": {
              "model_id": "b7efec4d77464a31a41edb6a386f572e",
              "version_major": 2,
              "version_minor": 0
            },
            "text/plain": [
              "  0%|          | 0/104 [00:00<?, ?it/s]"
            ]
          },
          "metadata": {},
          "output_type": "display_data"
        },
        {
          "name": "stdout",
          "output_type": "stream",
          "text": [
            " Accuracy: 0.7249\n",
            " F1 score: 0.6450\n",
            " Average training loss: 0.7614\n",
            "Running Validation...\n"
          ]
        },
        {
          "data": {
            "application/vnd.jupyter.widget-view+json": {
              "model_id": "b5e64f0a37b74c61b018e7ef4481dbf3",
              "version_major": 2,
              "version_minor": 0
            },
            "text/plain": [
              "  0%|          | 0/9 [00:00<?, ?it/s]"
            ]
          },
          "metadata": {},
          "output_type": "display_data"
        },
        {
          "name": "stdout",
          "output_type": "stream",
          "text": [
            "logits:    [0 4 2 0 5 1 4 5 5 3 4 3 1 0 0 0 0 1 0 4 4 1 3 2 1 2]\n",
            "labels_id: [1 4 2 4 2 1 4 2 3 3 4 3 1 3 0 0 0 5 5 2 4 1 3 2 1 5]\n",
            " Accuracy: 0.4955\n",
            " F1 score: 0.4766\n",
            "======== Epoch 427 / 500 ========\n",
            "Training...\n"
          ]
        },
        {
          "data": {
            "application/vnd.jupyter.widget-view+json": {
              "model_id": "d5c31701737e4ecb9c10628b70eb6453",
              "version_major": 2,
              "version_minor": 0
            },
            "text/plain": [
              "  0%|          | 0/104 [00:00<?, ?it/s]"
            ]
          },
          "metadata": {},
          "output_type": "display_data"
        },
        {
          "name": "stdout",
          "output_type": "stream",
          "text": [
            " Accuracy: 0.7179\n",
            " F1 score: 0.6347\n",
            " Average training loss: 0.7647\n",
            "Running Validation...\n"
          ]
        },
        {
          "data": {
            "application/vnd.jupyter.widget-view+json": {
              "model_id": "90caa78b9ca44a0295a8e3cfbd1ff21f",
              "version_major": 2,
              "version_minor": 0
            },
            "text/plain": [
              "  0%|          | 0/9 [00:00<?, ?it/s]"
            ]
          },
          "metadata": {},
          "output_type": "display_data"
        },
        {
          "name": "stdout",
          "output_type": "stream",
          "text": [
            "logits:    [0 4 2 0 5 1 4 5 5 3 4 3 1 0 0 0 0 1 0 4 4 1 3 2 1 2]\n",
            "labels_id: [1 4 2 4 2 1 4 2 3 3 4 3 1 3 0 0 0 5 5 2 4 1 3 2 1 5]\n",
            " Accuracy: 0.4972\n",
            " F1 score: 0.4780\n",
            "======== Epoch 428 / 500 ========\n",
            "Training...\n"
          ]
        },
        {
          "data": {
            "application/vnd.jupyter.widget-view+json": {
              "model_id": "39f76e1b2ced4c4296f873626ae22823",
              "version_major": 2,
              "version_minor": 0
            },
            "text/plain": [
              "  0%|          | 0/104 [00:00<?, ?it/s]"
            ]
          },
          "metadata": {},
          "output_type": "display_data"
        },
        {
          "name": "stdout",
          "output_type": "stream",
          "text": [
            " Accuracy: 0.7288\n",
            " F1 score: 0.6469\n",
            " Average training loss: 0.7702\n",
            "Running Validation...\n"
          ]
        },
        {
          "data": {
            "application/vnd.jupyter.widget-view+json": {
              "model_id": "75288164b7924c9aba8acc89dd159e37",
              "version_major": 2,
              "version_minor": 0
            },
            "text/plain": [
              "  0%|          | 0/9 [00:00<?, ?it/s]"
            ]
          },
          "metadata": {},
          "output_type": "display_data"
        },
        {
          "name": "stdout",
          "output_type": "stream",
          "text": [
            "logits:    [0 4 2 0 5 1 4 5 5 3 4 3 1 0 0 0 0 1 0 4 4 1 3 2 1 2]\n",
            "labels_id: [1 4 2 4 2 1 4 2 3 3 4 3 1 3 0 0 0 5 5 2 4 1 3 2 1 5]\n",
            " Accuracy: 0.4972\n",
            " F1 score: 0.4785\n",
            "======== Epoch 429 / 500 ========\n",
            "Training...\n"
          ]
        },
        {
          "data": {
            "application/vnd.jupyter.widget-view+json": {
              "model_id": "67dd86edd669464899ead6fb341eeb31",
              "version_major": 2,
              "version_minor": 0
            },
            "text/plain": [
              "  0%|          | 0/104 [00:00<?, ?it/s]"
            ]
          },
          "metadata": {},
          "output_type": "display_data"
        },
        {
          "name": "stdout",
          "output_type": "stream",
          "text": [
            " Accuracy: 0.7278\n",
            " F1 score: 0.6476\n",
            " Average training loss: 0.7600\n",
            "Running Validation...\n"
          ]
        },
        {
          "data": {
            "application/vnd.jupyter.widget-view+json": {
              "model_id": "7f1e32dc3d3d41c0aeb4ed8407cc7e64",
              "version_major": 2,
              "version_minor": 0
            },
            "text/plain": [
              "  0%|          | 0/9 [00:00<?, ?it/s]"
            ]
          },
          "metadata": {},
          "output_type": "display_data"
        },
        {
          "name": "stdout",
          "output_type": "stream",
          "text": [
            "logits:    [0 4 2 0 5 1 4 5 5 3 4 3 1 0 0 0 0 1 0 4 4 1 3 2 1 2]\n",
            "labels_id: [1 4 2 4 2 1 4 2 3 3 4 3 1 3 0 0 0 5 5 2 4 1 3 2 1 5]\n",
            " Accuracy: 0.4972\n",
            " F1 score: 0.4785\n",
            "======== Epoch 430 / 500 ========\n",
            "Training...\n"
          ]
        },
        {
          "data": {
            "application/vnd.jupyter.widget-view+json": {
              "model_id": "3e5d775f7e21447eb9f76b89486c0d61",
              "version_major": 2,
              "version_minor": 0
            },
            "text/plain": [
              "  0%|          | 0/104 [00:00<?, ?it/s]"
            ]
          },
          "metadata": {},
          "output_type": "display_data"
        },
        {
          "name": "stdout",
          "output_type": "stream",
          "text": [
            " Accuracy: 0.7337\n",
            " F1 score: 0.6600\n",
            " Average training loss: 0.7558\n",
            "Running Validation...\n"
          ]
        },
        {
          "data": {
            "application/vnd.jupyter.widget-view+json": {
              "model_id": "715a99e0c4dd46a593bb23a9effc960b",
              "version_major": 2,
              "version_minor": 0
            },
            "text/plain": [
              "  0%|          | 0/9 [00:00<?, ?it/s]"
            ]
          },
          "metadata": {},
          "output_type": "display_data"
        },
        {
          "name": "stdout",
          "output_type": "stream",
          "text": [
            "logits:    [0 4 2 0 5 1 4 5 5 3 4 3 1 0 0 0 0 1 0 4 4 1 3 2 1 2]\n",
            "labels_id: [1 4 2 4 2 1 4 2 3 3 4 3 1 3 0 0 0 5 5 2 4 1 3 2 1 5]\n",
            " Accuracy: 0.4955\n",
            " F1 score: 0.4764\n",
            "======== Epoch 431 / 500 ========\n",
            "Training...\n"
          ]
        },
        {
          "data": {
            "application/vnd.jupyter.widget-view+json": {
              "model_id": "525e33f8513a4d38aa39d85b27ab123f",
              "version_major": 2,
              "version_minor": 0
            },
            "text/plain": [
              "  0%|          | 0/104 [00:00<?, ?it/s]"
            ]
          },
          "metadata": {},
          "output_type": "display_data"
        },
        {
          "name": "stdout",
          "output_type": "stream",
          "text": [
            " Accuracy: 0.7261\n",
            " F1 score: 0.6496\n",
            " Average training loss: 0.7562\n",
            "Running Validation...\n"
          ]
        },
        {
          "data": {
            "application/vnd.jupyter.widget-view+json": {
              "model_id": "d3a32a3bab764535a6e42552d2c86565",
              "version_major": 2,
              "version_minor": 0
            },
            "text/plain": [
              "  0%|          | 0/9 [00:00<?, ?it/s]"
            ]
          },
          "metadata": {},
          "output_type": "display_data"
        },
        {
          "name": "stdout",
          "output_type": "stream",
          "text": [
            "logits:    [0 4 2 0 5 1 4 5 5 3 4 3 1 0 0 0 0 1 0 4 4 1 3 2 1 2]\n",
            "labels_id: [1 4 2 4 2 1 4 2 3 3 4 3 1 3 0 0 0 5 5 2 4 1 3 2 1 5]\n",
            " Accuracy: 0.4937\n",
            " F1 score: 0.4750\n",
            "======== Epoch 432 / 500 ========\n",
            "Training...\n"
          ]
        },
        {
          "data": {
            "application/vnd.jupyter.widget-view+json": {
              "model_id": "7c24a499c0b448c895ea1d6cf48d6d7e",
              "version_major": 2,
              "version_minor": 0
            },
            "text/plain": [
              "  0%|          | 0/104 [00:00<?, ?it/s]"
            ]
          },
          "metadata": {},
          "output_type": "display_data"
        },
        {
          "name": "stdout",
          "output_type": "stream",
          "text": [
            " Accuracy: 0.7298\n",
            " F1 score: 0.6473\n",
            " Average training loss: 0.7565\n",
            "Running Validation...\n"
          ]
        },
        {
          "data": {
            "application/vnd.jupyter.widget-view+json": {
              "model_id": "9c8df7b379694064a2eb25aaef88ba28",
              "version_major": 2,
              "version_minor": 0
            },
            "text/plain": [
              "  0%|          | 0/9 [00:00<?, ?it/s]"
            ]
          },
          "metadata": {},
          "output_type": "display_data"
        },
        {
          "name": "stdout",
          "output_type": "stream",
          "text": [
            "logits:    [0 4 2 0 5 1 4 5 5 3 4 3 1 0 0 0 0 1 0 4 4 1 3 2 1 2]\n",
            "labels_id: [1 4 2 4 2 1 4 2 3 3 4 3 1 3 0 0 0 5 5 2 4 1 3 2 1 5]\n",
            " Accuracy: 0.4989\n",
            " F1 score: 0.4798\n",
            "======== Epoch 433 / 500 ========\n",
            "Training...\n"
          ]
        },
        {
          "data": {
            "application/vnd.jupyter.widget-view+json": {
              "model_id": "890ab5913f25430ebc9ea661a235e917",
              "version_major": 2,
              "version_minor": 0
            },
            "text/plain": [
              "  0%|          | 0/104 [00:00<?, ?it/s]"
            ]
          },
          "metadata": {},
          "output_type": "display_data"
        },
        {
          "name": "stdout",
          "output_type": "stream",
          "text": [
            " Accuracy: 0.7298\n",
            " F1 score: 0.6527\n",
            " Average training loss: 0.7490\n",
            "Running Validation...\n"
          ]
        },
        {
          "data": {
            "application/vnd.jupyter.widget-view+json": {
              "model_id": "00537016e3aa4e51908df439cc2cff8c",
              "version_major": 2,
              "version_minor": 0
            },
            "text/plain": [
              "  0%|          | 0/9 [00:00<?, ?it/s]"
            ]
          },
          "metadata": {},
          "output_type": "display_data"
        },
        {
          "name": "stdout",
          "output_type": "stream",
          "text": [
            "logits:    [0 4 2 0 5 1 4 5 5 3 4 3 1 0 0 0 0 1 0 4 4 1 3 2 1 2]\n",
            "labels_id: [1 4 2 4 2 1 4 2 3 3 4 3 1 3 0 0 0 5 5 2 4 1 3 2 1 5]\n",
            " Accuracy: 0.4937\n",
            " F1 score: 0.4744\n",
            "======== Epoch 434 / 500 ========\n",
            "Training...\n"
          ]
        },
        {
          "data": {
            "application/vnd.jupyter.widget-view+json": {
              "model_id": "1e752457e20e4819a907eab5ffa87c37",
              "version_major": 2,
              "version_minor": 0
            },
            "text/plain": [
              "  0%|          | 0/104 [00:00<?, ?it/s]"
            ]
          },
          "metadata": {},
          "output_type": "display_data"
        },
        {
          "name": "stdout",
          "output_type": "stream",
          "text": [
            " Accuracy: 0.7382\n",
            " F1 score: 0.6588\n",
            " Average training loss: 0.7433\n",
            "Running Validation...\n"
          ]
        },
        {
          "data": {
            "application/vnd.jupyter.widget-view+json": {
              "model_id": "958638c122684bd4ab70b551b3bccb3e",
              "version_major": 2,
              "version_minor": 0
            },
            "text/plain": [
              "  0%|          | 0/9 [00:00<?, ?it/s]"
            ]
          },
          "metadata": {},
          "output_type": "display_data"
        },
        {
          "name": "stdout",
          "output_type": "stream",
          "text": [
            "logits:    [0 4 2 0 5 1 4 5 5 3 4 3 1 0 0 0 0 1 0 4 4 1 3 2 1 2]\n",
            "labels_id: [1 4 2 4 2 1 4 2 3 3 4 3 1 3 0 0 0 5 5 2 4 1 3 2 1 5]\n",
            " Accuracy: 0.4989\n",
            " F1 score: 0.4793\n",
            "======== Epoch 435 / 500 ========\n",
            "Training...\n"
          ]
        },
        {
          "data": {
            "application/vnd.jupyter.widget-view+json": {
              "model_id": "cd579315a0c84258a9592437ce8e121e",
              "version_major": 2,
              "version_minor": 0
            },
            "text/plain": [
              "  0%|          | 0/104 [00:00<?, ?it/s]"
            ]
          },
          "metadata": {},
          "output_type": "display_data"
        },
        {
          "name": "stdout",
          "output_type": "stream",
          "text": [
            " Accuracy: 0.7294\n",
            " F1 score: 0.6467\n",
            " Average training loss: 0.7491\n",
            "Running Validation...\n"
          ]
        },
        {
          "data": {
            "application/vnd.jupyter.widget-view+json": {
              "model_id": "0b8a949575fa47f6b499ed06b82649cf",
              "version_major": 2,
              "version_minor": 0
            },
            "text/plain": [
              "  0%|          | 0/9 [00:00<?, ?it/s]"
            ]
          },
          "metadata": {},
          "output_type": "display_data"
        },
        {
          "name": "stdout",
          "output_type": "stream",
          "text": [
            "logits:    [0 4 2 0 5 1 4 5 5 3 4 3 1 0 0 0 0 1 0 4 4 1 3 2 1 2]\n",
            "labels_id: [1 4 2 4 2 1 4 2 3 3 4 3 1 3 0 0 0 5 5 2 4 1 3 2 1 5]\n",
            " Accuracy: 0.4989\n",
            " F1 score: 0.4800\n",
            "======== Epoch 436 / 500 ========\n",
            "Training...\n"
          ]
        },
        {
          "data": {
            "application/vnd.jupyter.widget-view+json": {
              "model_id": "f6b6d512039b44628dc69cdf023c81d6",
              "version_major": 2,
              "version_minor": 0
            },
            "text/plain": [
              "  0%|          | 0/104 [00:00<?, ?it/s]"
            ]
          },
          "metadata": {},
          "output_type": "display_data"
        },
        {
          "name": "stdout",
          "output_type": "stream",
          "text": [
            " Accuracy: 0.7316\n",
            " F1 score: 0.6603\n",
            " Average training loss: 0.7453\n",
            "Running Validation...\n"
          ]
        },
        {
          "data": {
            "application/vnd.jupyter.widget-view+json": {
              "model_id": "9eee664efd52414faf321ba3079a004a",
              "version_major": 2,
              "version_minor": 0
            },
            "text/plain": [
              "  0%|          | 0/9 [00:00<?, ?it/s]"
            ]
          },
          "metadata": {},
          "output_type": "display_data"
        },
        {
          "name": "stdout",
          "output_type": "stream",
          "text": [
            "logits:    [0 4 2 0 2 1 4 5 5 3 4 3 1 0 0 0 0 1 0 4 4 1 3 2 1 2]\n",
            "labels_id: [1 4 2 4 2 1 4 2 3 3 4 3 1 3 0 0 0 5 5 2 4 1 3 2 1 5]\n",
            " Accuracy: 0.4997\n",
            " F1 score: 0.4795\n",
            "======== Epoch 437 / 500 ========\n",
            "Training...\n"
          ]
        },
        {
          "data": {
            "application/vnd.jupyter.widget-view+json": {
              "model_id": "6d7d51ea80ec42ba97c162020aeb085e",
              "version_major": 2,
              "version_minor": 0
            },
            "text/plain": [
              "  0%|          | 0/104 [00:00<?, ?it/s]"
            ]
          },
          "metadata": {},
          "output_type": "display_data"
        },
        {
          "name": "stdout",
          "output_type": "stream",
          "text": [
            " Accuracy: 0.7355\n",
            " F1 score: 0.6573\n",
            " Average training loss: 0.7418\n",
            "Running Validation...\n"
          ]
        },
        {
          "data": {
            "application/vnd.jupyter.widget-view+json": {
              "model_id": "ae1f161499a24ccf93976f477e69c1a2",
              "version_major": 2,
              "version_minor": 0
            },
            "text/plain": [
              "  0%|          | 0/9 [00:00<?, ?it/s]"
            ]
          },
          "metadata": {},
          "output_type": "display_data"
        },
        {
          "name": "stdout",
          "output_type": "stream",
          "text": [
            "logits:    [0 4 2 0 5 1 4 5 5 3 4 3 1 0 0 0 0 1 0 4 4 1 3 2 1 2]\n",
            "labels_id: [1 4 2 4 2 1 4 2 3 3 4 3 1 3 0 0 0 5 5 2 4 1 3 2 1 5]\n",
            " Accuracy: 0.4955\n",
            " F1 score: 0.4764\n",
            "======== Epoch 438 / 500 ========\n",
            "Training...\n"
          ]
        },
        {
          "data": {
            "application/vnd.jupyter.widget-view+json": {
              "model_id": "3358c04c321a419f8689d1752530c3e7",
              "version_major": 2,
              "version_minor": 0
            },
            "text/plain": [
              "  0%|          | 0/104 [00:00<?, ?it/s]"
            ]
          },
          "metadata": {},
          "output_type": "display_data"
        },
        {
          "name": "stdout",
          "output_type": "stream",
          "text": [
            " Accuracy: 0.7365\n",
            " F1 score: 0.6590\n",
            " Average training loss: 0.7374\n",
            "Running Validation...\n"
          ]
        },
        {
          "data": {
            "application/vnd.jupyter.widget-view+json": {
              "model_id": "3cbe21198d0b4906a9af81d852a16031",
              "version_major": 2,
              "version_minor": 0
            },
            "text/plain": [
              "  0%|          | 0/9 [00:00<?, ?it/s]"
            ]
          },
          "metadata": {},
          "output_type": "display_data"
        },
        {
          "name": "stdout",
          "output_type": "stream",
          "text": [
            "logits:    [0 4 2 0 5 1 4 5 5 3 4 3 1 0 0 0 0 1 0 4 4 1 3 2 1 2]\n",
            "labels_id: [1 4 2 4 2 1 4 2 3 3 4 3 1 3 0 0 0 5 5 2 4 1 3 2 1 5]\n",
            " Accuracy: 0.4972\n",
            " F1 score: 0.4786\n",
            "======== Epoch 439 / 500 ========\n",
            "Training...\n"
          ]
        },
        {
          "data": {
            "application/vnd.jupyter.widget-view+json": {
              "model_id": "cfe111d65e0a4beb9d945a05eb5d4ab9",
              "version_major": 2,
              "version_minor": 0
            },
            "text/plain": [
              "  0%|          | 0/104 [00:00<?, ?it/s]"
            ]
          },
          "metadata": {},
          "output_type": "display_data"
        },
        {
          "name": "stdout",
          "output_type": "stream",
          "text": [
            " Accuracy: 0.7297\n",
            " F1 score: 0.6494\n",
            " Average training loss: 0.7465\n",
            "Running Validation...\n"
          ]
        },
        {
          "data": {
            "application/vnd.jupyter.widget-view+json": {
              "model_id": "d295af5abc264a40a7f1e4bfd52808a1",
              "version_major": 2,
              "version_minor": 0
            },
            "text/plain": [
              "  0%|          | 0/9 [00:00<?, ?it/s]"
            ]
          },
          "metadata": {},
          "output_type": "display_data"
        },
        {
          "name": "stdout",
          "output_type": "stream",
          "text": [
            "logits:    [0 4 2 0 5 1 4 5 5 3 4 3 1 0 0 0 0 1 0 4 4 1 3 2 1 2]\n",
            "labels_id: [1 4 2 4 2 1 4 2 3 3 4 3 1 3 0 0 0 5 5 2 4 1 3 2 1 5]\n",
            " Accuracy: 0.4972\n",
            " F1 score: 0.4783\n",
            "======== Epoch 440 / 500 ========\n",
            "Training...\n"
          ]
        },
        {
          "data": {
            "application/vnd.jupyter.widget-view+json": {
              "model_id": "3d88f6844cd7485493d9aed475942da7",
              "version_major": 2,
              "version_minor": 0
            },
            "text/plain": [
              "  0%|          | 0/104 [00:00<?, ?it/s]"
            ]
          },
          "metadata": {},
          "output_type": "display_data"
        },
        {
          "name": "stdout",
          "output_type": "stream",
          "text": [
            " Accuracy: 0.7340\n",
            " F1 score: 0.6583\n",
            " Average training loss: 0.7446\n",
            "Running Validation...\n"
          ]
        },
        {
          "data": {
            "application/vnd.jupyter.widget-view+json": {
              "model_id": "a65eaa69bdbe468b955f5182e464c49b",
              "version_major": 2,
              "version_minor": 0
            },
            "text/plain": [
              "  0%|          | 0/9 [00:00<?, ?it/s]"
            ]
          },
          "metadata": {},
          "output_type": "display_data"
        },
        {
          "name": "stdout",
          "output_type": "stream",
          "text": [
            "logits:    [0 4 2 0 5 1 4 5 5 3 4 3 1 0 0 0 0 1 0 4 4 1 3 2 1 2]\n",
            "labels_id: [1 4 2 4 2 1 4 2 3 3 4 3 1 3 0 0 0 5 5 2 4 1 3 2 1 5]\n",
            " Accuracy: 0.4989\n",
            " F1 score: 0.4798\n",
            "======== Epoch 441 / 500 ========\n",
            "Training...\n"
          ]
        },
        {
          "data": {
            "application/vnd.jupyter.widget-view+json": {
              "model_id": "62d1388ef851401baa1c2f90fbbd1526",
              "version_major": 2,
              "version_minor": 0
            },
            "text/plain": [
              "  0%|          | 0/104 [00:00<?, ?it/s]"
            ]
          },
          "metadata": {},
          "output_type": "display_data"
        },
        {
          "name": "stdout",
          "output_type": "stream",
          "text": [
            " Accuracy: 0.7348\n",
            " F1 score: 0.6602\n",
            " Average training loss: 0.7398\n",
            "Running Validation...\n"
          ]
        },
        {
          "data": {
            "application/vnd.jupyter.widget-view+json": {
              "model_id": "e2bb1b7b94f64142a273209fa149b7e0",
              "version_major": 2,
              "version_minor": 0
            },
            "text/plain": [
              "  0%|          | 0/9 [00:00<?, ?it/s]"
            ]
          },
          "metadata": {},
          "output_type": "display_data"
        },
        {
          "name": "stdout",
          "output_type": "stream",
          "text": [
            "logits:    [0 4 2 0 5 1 4 5 5 3 4 3 1 0 0 0 0 1 0 4 4 1 3 2 1 2]\n",
            "labels_id: [1 4 2 4 2 1 4 2 3 3 4 3 1 3 0 0 0 5 5 2 4 1 3 2 1 5]\n",
            " Accuracy: 0.4955\n",
            " F1 score: 0.4769\n",
            "======== Epoch 442 / 500 ========\n",
            "Training...\n"
          ]
        },
        {
          "data": {
            "application/vnd.jupyter.widget-view+json": {
              "model_id": "2b3fd1e67cd8481991d1921973fec958",
              "version_major": 2,
              "version_minor": 0
            },
            "text/plain": [
              "  0%|          | 0/104 [00:00<?, ?it/s]"
            ]
          },
          "metadata": {},
          "output_type": "display_data"
        },
        {
          "name": "stdout",
          "output_type": "stream",
          "text": [
            " Accuracy: 0.7390\n",
            " F1 score: 0.6645\n",
            " Average training loss: 0.7326\n",
            "Running Validation...\n"
          ]
        },
        {
          "data": {
            "application/vnd.jupyter.widget-view+json": {
              "model_id": "b390e95ac95f4c4e8a86eebfda70fb32",
              "version_major": 2,
              "version_minor": 0
            },
            "text/plain": [
              "  0%|          | 0/9 [00:00<?, ?it/s]"
            ]
          },
          "metadata": {},
          "output_type": "display_data"
        },
        {
          "name": "stdout",
          "output_type": "stream",
          "text": [
            "logits:    [0 4 2 0 5 1 4 5 5 3 4 3 1 0 0 0 0 1 0 4 4 1 3 2 1 2]\n",
            "labels_id: [1 4 2 4 2 1 4 2 3 3 4 3 1 3 0 0 0 5 5 2 4 1 3 2 1 5]\n",
            " Accuracy: 0.4989\n",
            " F1 score: 0.4801\n",
            "======== Epoch 443 / 500 ========\n",
            "Training...\n"
          ]
        },
        {
          "data": {
            "application/vnd.jupyter.widget-view+json": {
              "model_id": "b806aacffc7343c4a9ee3c017e51b435",
              "version_major": 2,
              "version_minor": 0
            },
            "text/plain": [
              "  0%|          | 0/104 [00:00<?, ?it/s]"
            ]
          },
          "metadata": {},
          "output_type": "display_data"
        },
        {
          "name": "stdout",
          "output_type": "stream",
          "text": [
            " Accuracy: 0.7359\n",
            " F1 score: 0.6521\n",
            " Average training loss: 0.7417\n",
            "Running Validation...\n"
          ]
        },
        {
          "data": {
            "application/vnd.jupyter.widget-view+json": {
              "model_id": "825c7245f22349dfbb9b069f21af2cfd",
              "version_major": 2,
              "version_minor": 0
            },
            "text/plain": [
              "  0%|          | 0/9 [00:00<?, ?it/s]"
            ]
          },
          "metadata": {},
          "output_type": "display_data"
        },
        {
          "name": "stdout",
          "output_type": "stream",
          "text": [
            "logits:    [0 4 2 0 2 1 4 5 5 3 4 3 1 0 0 0 0 1 0 4 4 1 3 2 1 2]\n",
            "labels_id: [1 4 2 4 2 1 4 2 3 3 4 3 1 3 0 0 0 5 5 2 4 1 3 2 1 5]\n",
            " Accuracy: 0.5032\n",
            " F1 score: 0.4833\n",
            "======== Epoch 444 / 500 ========\n",
            "Training...\n"
          ]
        },
        {
          "data": {
            "application/vnd.jupyter.widget-view+json": {
              "model_id": "b85d815715e049508740f716a6eeb110",
              "version_major": 2,
              "version_minor": 0
            },
            "text/plain": [
              "  0%|          | 0/104 [00:00<?, ?it/s]"
            ]
          },
          "metadata": {},
          "output_type": "display_data"
        },
        {
          "name": "stdout",
          "output_type": "stream",
          "text": [
            " Accuracy: 0.7348\n",
            " F1 score: 0.6553\n",
            " Average training loss: 0.7352\n",
            "Running Validation...\n"
          ]
        },
        {
          "data": {
            "application/vnd.jupyter.widget-view+json": {
              "model_id": "a0b28382efbf4bcfa2f9304dc4c2c796",
              "version_major": 2,
              "version_minor": 0
            },
            "text/plain": [
              "  0%|          | 0/9 [00:00<?, ?it/s]"
            ]
          },
          "metadata": {},
          "output_type": "display_data"
        },
        {
          "name": "stdout",
          "output_type": "stream",
          "text": [
            "logits:    [0 4 2 0 5 1 4 5 5 3 4 3 1 0 0 0 0 1 0 4 4 1 3 2 1 2]\n",
            "labels_id: [1 4 2 4 2 1 4 2 3 3 4 3 1 3 0 0 0 5 5 2 4 1 3 2 1 5]\n",
            " Accuracy: 0.4989\n",
            " F1 score: 0.4798\n",
            "======== Epoch 445 / 500 ========\n",
            "Training...\n"
          ]
        },
        {
          "data": {
            "application/vnd.jupyter.widget-view+json": {
              "model_id": "7c347a64ce564842820f4e75fc9fd64c",
              "version_major": 2,
              "version_minor": 0
            },
            "text/plain": [
              "  0%|          | 0/104 [00:00<?, ?it/s]"
            ]
          },
          "metadata": {},
          "output_type": "display_data"
        },
        {
          "name": "stdout",
          "output_type": "stream",
          "text": [
            " Accuracy: 0.7438\n",
            " F1 score: 0.6621\n",
            " Average training loss: 0.7310\n",
            "Running Validation...\n"
          ]
        },
        {
          "data": {
            "application/vnd.jupyter.widget-view+json": {
              "model_id": "61bd7f600abe4a58bec38ec21d39726a",
              "version_major": 2,
              "version_minor": 0
            },
            "text/plain": [
              "  0%|          | 0/9 [00:00<?, ?it/s]"
            ]
          },
          "metadata": {},
          "output_type": "display_data"
        },
        {
          "name": "stdout",
          "output_type": "stream",
          "text": [
            "logits:    [0 4 2 0 2 1 4 5 5 3 4 3 1 0 0 0 0 1 0 4 4 1 3 2 1 2]\n",
            "labels_id: [1 4 2 4 2 1 4 2 3 3 4 3 1 3 0 0 0 5 5 2 4 1 3 2 1 5]\n",
            " Accuracy: 0.5015\n",
            " F1 score: 0.4821\n",
            "======== Epoch 446 / 500 ========\n",
            "Training...\n"
          ]
        },
        {
          "data": {
            "application/vnd.jupyter.widget-view+json": {
              "model_id": "67c5520a73a6427ab76979b21e784312",
              "version_major": 2,
              "version_minor": 0
            },
            "text/plain": [
              "  0%|          | 0/104 [00:00<?, ?it/s]"
            ]
          },
          "metadata": {},
          "output_type": "display_data"
        },
        {
          "name": "stdout",
          "output_type": "stream",
          "text": [
            " Accuracy: 0.7391\n",
            " F1 score: 0.6659\n",
            " Average training loss: 0.7382\n",
            "Running Validation...\n"
          ]
        },
        {
          "data": {
            "application/vnd.jupyter.widget-view+json": {
              "model_id": "30113af648d847db844d8bbdbf003d73",
              "version_major": 2,
              "version_minor": 0
            },
            "text/plain": [
              "  0%|          | 0/9 [00:00<?, ?it/s]"
            ]
          },
          "metadata": {},
          "output_type": "display_data"
        },
        {
          "name": "stdout",
          "output_type": "stream",
          "text": [
            "logits:    [0 4 2 0 2 1 4 5 5 3 4 3 1 0 0 0 0 1 0 4 4 1 3 2 1 2]\n",
            "labels_id: [1 4 2 4 2 1 4 2 3 3 4 3 1 3 0 0 0 5 5 2 4 1 3 2 1 5]\n",
            " Accuracy: 0.5032\n",
            " F1 score: 0.4833\n",
            "======== Epoch 447 / 500 ========\n",
            "Training...\n"
          ]
        },
        {
          "data": {
            "application/vnd.jupyter.widget-view+json": {
              "model_id": "85fc3da193844f608cb28057071384f2",
              "version_major": 2,
              "version_minor": 0
            },
            "text/plain": [
              "  0%|          | 0/104 [00:00<?, ?it/s]"
            ]
          },
          "metadata": {},
          "output_type": "display_data"
        },
        {
          "name": "stdout",
          "output_type": "stream",
          "text": [
            " Accuracy: 0.7360\n",
            " F1 score: 0.6634\n",
            " Average training loss: 0.7403\n",
            "Running Validation...\n"
          ]
        },
        {
          "data": {
            "application/vnd.jupyter.widget-view+json": {
              "model_id": "5f032c3b56aa46b68a5399f4ffb5d856",
              "version_major": 2,
              "version_minor": 0
            },
            "text/plain": [
              "  0%|          | 0/9 [00:00<?, ?it/s]"
            ]
          },
          "metadata": {},
          "output_type": "display_data"
        },
        {
          "name": "stdout",
          "output_type": "stream",
          "text": [
            "logits:    [0 4 2 0 2 1 4 5 5 3 4 3 1 0 0 0 0 1 0 4 4 1 3 2 1 2]\n",
            "labels_id: [1 4 2 4 2 1 4 2 3 3 4 3 1 3 0 0 0 5 5 2 4 1 3 2 1 5]\n",
            " Accuracy: 0.5032\n",
            " F1 score: 0.4833\n",
            "======== Epoch 448 / 500 ========\n",
            "Training...\n"
          ]
        },
        {
          "data": {
            "application/vnd.jupyter.widget-view+json": {
              "model_id": "0e860f1f0794407b8a153563f58e7824",
              "version_major": 2,
              "version_minor": 0
            },
            "text/plain": [
              "  0%|          | 0/104 [00:00<?, ?it/s]"
            ]
          },
          "metadata": {},
          "output_type": "display_data"
        },
        {
          "name": "stdout",
          "output_type": "stream",
          "text": [
            " Accuracy: 0.7357\n",
            " F1 score: 0.6613\n",
            " Average training loss: 0.7358\n",
            "Running Validation...\n"
          ]
        },
        {
          "data": {
            "application/vnd.jupyter.widget-view+json": {
              "model_id": "8ff3d8f95a7b415d98c93035628361d9",
              "version_major": 2,
              "version_minor": 0
            },
            "text/plain": [
              "  0%|          | 0/9 [00:00<?, ?it/s]"
            ]
          },
          "metadata": {},
          "output_type": "display_data"
        },
        {
          "name": "stdout",
          "output_type": "stream",
          "text": [
            "logits:    [0 4 2 0 2 1 4 5 5 3 4 3 1 0 0 0 0 1 0 4 4 1 3 2 1 2]\n",
            "labels_id: [1 4 2 4 2 1 4 2 3 3 4 3 1 3 0 0 0 5 5 2 4 1 3 2 1 5]\n",
            " Accuracy: 0.5032\n",
            " F1 score: 0.4831\n",
            "======== Epoch 449 / 500 ========\n",
            "Training...\n"
          ]
        },
        {
          "data": {
            "application/vnd.jupyter.widget-view+json": {
              "model_id": "c0ac480dc6f4450e8e2de594e0ed9a93",
              "version_major": 2,
              "version_minor": 0
            },
            "text/plain": [
              "  0%|          | 0/104 [00:00<?, ?it/s]"
            ]
          },
          "metadata": {},
          "output_type": "display_data"
        },
        {
          "name": "stdout",
          "output_type": "stream",
          "text": [
            " Accuracy: 0.7462\n",
            " F1 score: 0.6655\n",
            " Average training loss: 0.7243\n",
            "Running Validation...\n"
          ]
        },
        {
          "data": {
            "application/vnd.jupyter.widget-view+json": {
              "model_id": "f60941030ec8489da3e478eef5a89619",
              "version_major": 2,
              "version_minor": 0
            },
            "text/plain": [
              "  0%|          | 0/9 [00:00<?, ?it/s]"
            ]
          },
          "metadata": {},
          "output_type": "display_data"
        },
        {
          "name": "stdout",
          "output_type": "stream",
          "text": [
            "logits:    [0 4 2 0 2 1 4 5 5 3 4 3 1 0 0 0 0 1 0 4 4 1 3 2 1 2]\n",
            "labels_id: [1 4 2 4 2 1 4 2 3 3 4 3 1 3 0 0 0 5 5 2 4 1 3 2 1 5]\n",
            " Accuracy: 0.5032\n",
            " F1 score: 0.4831\n",
            "======== Epoch 450 / 500 ========\n",
            "Training...\n"
          ]
        },
        {
          "data": {
            "application/vnd.jupyter.widget-view+json": {
              "model_id": "d36fa164178f4766a7c20969e96d425c",
              "version_major": 2,
              "version_minor": 0
            },
            "text/plain": [
              "  0%|          | 0/104 [00:00<?, ?it/s]"
            ]
          },
          "metadata": {},
          "output_type": "display_data"
        },
        {
          "name": "stdout",
          "output_type": "stream",
          "text": [
            " Accuracy: 0.7386\n",
            " F1 score: 0.6638\n",
            " Average training loss: 0.7341\n",
            "Running Validation...\n"
          ]
        },
        {
          "data": {
            "application/vnd.jupyter.widget-view+json": {
              "model_id": "e98a092d441440469907d16c5a9c7098",
              "version_major": 2,
              "version_minor": 0
            },
            "text/plain": [
              "  0%|          | 0/9 [00:00<?, ?it/s]"
            ]
          },
          "metadata": {},
          "output_type": "display_data"
        },
        {
          "name": "stdout",
          "output_type": "stream",
          "text": [
            "logits:    [0 4 2 0 2 1 4 5 5 3 4 3 1 0 0 0 0 1 0 4 4 1 3 2 1 2]\n",
            "labels_id: [1 4 2 4 2 1 4 2 3 3 4 3 1 3 0 0 0 5 5 2 4 1 3 2 1 5]\n",
            " Accuracy: 0.4997\n",
            " F1 score: 0.4802\n",
            "======== Epoch 451 / 500 ========\n",
            "Training...\n"
          ]
        },
        {
          "data": {
            "application/vnd.jupyter.widget-view+json": {
              "model_id": "c3dec3e256684586b36a80ac97c06c5e",
              "version_major": 2,
              "version_minor": 0
            },
            "text/plain": [
              "  0%|          | 0/104 [00:00<?, ?it/s]"
            ]
          },
          "metadata": {},
          "output_type": "display_data"
        },
        {
          "name": "stdout",
          "output_type": "stream",
          "text": [
            " Accuracy: 0.7417\n",
            " F1 score: 0.6600\n",
            " Average training loss: 0.7221\n",
            "Running Validation...\n"
          ]
        },
        {
          "data": {
            "application/vnd.jupyter.widget-view+json": {
              "model_id": "96ca26b7b27342b894fb4b9148a67e1c",
              "version_major": 2,
              "version_minor": 0
            },
            "text/plain": [
              "  0%|          | 0/9 [00:00<?, ?it/s]"
            ]
          },
          "metadata": {},
          "output_type": "display_data"
        },
        {
          "name": "stdout",
          "output_type": "stream",
          "text": [
            "logits:    [0 4 2 0 2 1 4 5 5 3 4 3 1 0 0 0 0 1 0 4 4 1 3 2 1 2]\n",
            "labels_id: [1 4 2 4 2 1 4 2 3 3 4 3 1 3 0 0 0 5 5 2 4 1 3 2 1 5]\n",
            " Accuracy: 0.5015\n",
            " F1 score: 0.4823\n",
            "======== Epoch 452 / 500 ========\n",
            "Training...\n"
          ]
        },
        {
          "data": {
            "application/vnd.jupyter.widget-view+json": {
              "model_id": "59e4f00232e44f0cb2dc96ca8f8a14de",
              "version_major": 2,
              "version_minor": 0
            },
            "text/plain": [
              "  0%|          | 0/104 [00:00<?, ?it/s]"
            ]
          },
          "metadata": {},
          "output_type": "display_data"
        },
        {
          "name": "stdout",
          "output_type": "stream",
          "text": [
            " Accuracy: 0.7414\n",
            " F1 score: 0.6657\n",
            " Average training loss: 0.7266\n",
            "Running Validation...\n"
          ]
        },
        {
          "data": {
            "application/vnd.jupyter.widget-view+json": {
              "model_id": "68d2d772349e463f8aec8fc1dcd0dd40",
              "version_major": 2,
              "version_minor": 0
            },
            "text/plain": [
              "  0%|          | 0/9 [00:00<?, ?it/s]"
            ]
          },
          "metadata": {},
          "output_type": "display_data"
        },
        {
          "name": "stdout",
          "output_type": "stream",
          "text": [
            "logits:    [0 4 2 0 2 1 4 5 5 3 4 3 1 0 0 0 0 1 0 4 4 1 3 2 1 2]\n",
            "labels_id: [1 4 2 4 2 1 4 2 3 3 4 3 1 3 0 0 0 5 5 2 4 1 3 2 1 5]\n",
            " Accuracy: 0.5015\n",
            " F1 score: 0.4821\n",
            "======== Epoch 453 / 500 ========\n",
            "Training...\n"
          ]
        },
        {
          "data": {
            "application/vnd.jupyter.widget-view+json": {
              "model_id": "6e9761b48360422f9a8c8e1c7868da4e",
              "version_major": 2,
              "version_minor": 0
            },
            "text/plain": [
              "  0%|          | 0/104 [00:00<?, ?it/s]"
            ]
          },
          "metadata": {},
          "output_type": "display_data"
        },
        {
          "name": "stdout",
          "output_type": "stream",
          "text": [
            " Accuracy: 0.7416\n",
            " F1 score: 0.6582\n",
            " Average training loss: 0.7242\n",
            "Running Validation...\n"
          ]
        },
        {
          "data": {
            "application/vnd.jupyter.widget-view+json": {
              "model_id": "98342aa3433d4e3895a4fddb6861d221",
              "version_major": 2,
              "version_minor": 0
            },
            "text/plain": [
              "  0%|          | 0/9 [00:00<?, ?it/s]"
            ]
          },
          "metadata": {},
          "output_type": "display_data"
        },
        {
          "name": "stdout",
          "output_type": "stream",
          "text": [
            "logits:    [0 4 2 0 2 1 4 5 5 3 4 3 1 0 0 0 0 1 0 4 4 1 3 2 1 2]\n",
            "labels_id: [1 4 2 4 2 1 4 2 3 3 4 3 1 3 0 0 0 5 5 2 4 1 3 2 1 5]\n",
            " Accuracy: 0.5015\n",
            " F1 score: 0.4821\n",
            "======== Epoch 454 / 500 ========\n",
            "Training...\n"
          ]
        },
        {
          "data": {
            "application/vnd.jupyter.widget-view+json": {
              "model_id": "a5778e909b724ad2a13df10b9571207f",
              "version_major": 2,
              "version_minor": 0
            },
            "text/plain": [
              "  0%|          | 0/104 [00:00<?, ?it/s]"
            ]
          },
          "metadata": {},
          "output_type": "display_data"
        },
        {
          "name": "stdout",
          "output_type": "stream",
          "text": [
            " Accuracy: 0.7377\n",
            " F1 score: 0.6602\n",
            " Average training loss: 0.7280\n",
            "Running Validation...\n"
          ]
        },
        {
          "data": {
            "application/vnd.jupyter.widget-view+json": {
              "model_id": "9c955bcbbe1f4e5ba46bf5d7848f11da",
              "version_major": 2,
              "version_minor": 0
            },
            "text/plain": [
              "  0%|          | 0/9 [00:00<?, ?it/s]"
            ]
          },
          "metadata": {},
          "output_type": "display_data"
        },
        {
          "name": "stdout",
          "output_type": "stream",
          "text": [
            "logits:    [0 4 2 0 2 1 4 5 5 3 4 3 1 0 0 0 0 1 0 4 4 1 3 2 1 2]\n",
            "labels_id: [1 4 2 4 2 1 4 2 3 3 4 3 1 3 0 0 0 5 5 2 4 1 3 2 1 5]\n",
            " Accuracy: 0.5015\n",
            " F1 score: 0.4817\n",
            "======== Epoch 455 / 500 ========\n",
            "Training...\n"
          ]
        },
        {
          "data": {
            "application/vnd.jupyter.widget-view+json": {
              "model_id": "4eaea77504ae4030a04a7c7ba9bfaa63",
              "version_major": 2,
              "version_minor": 0
            },
            "text/plain": [
              "  0%|          | 0/104 [00:00<?, ?it/s]"
            ]
          },
          "metadata": {},
          "output_type": "display_data"
        },
        {
          "name": "stdout",
          "output_type": "stream",
          "text": [
            " Accuracy: 0.7412\n",
            " F1 score: 0.6647\n",
            " Average training loss: 0.7224\n",
            "Running Validation...\n"
          ]
        },
        {
          "data": {
            "application/vnd.jupyter.widget-view+json": {
              "model_id": "3751a9ef8c5748d1aa98539a61af9789",
              "version_major": 2,
              "version_minor": 0
            },
            "text/plain": [
              "  0%|          | 0/9 [00:00<?, ?it/s]"
            ]
          },
          "metadata": {},
          "output_type": "display_data"
        },
        {
          "name": "stdout",
          "output_type": "stream",
          "text": [
            "logits:    [0 4 2 0 2 1 4 5 5 3 4 3 1 0 0 0 0 1 0 4 4 1 3 2 1 2]\n",
            "labels_id: [1 4 2 4 2 1 4 2 3 3 4 3 1 3 0 0 0 5 5 2 4 1 3 2 1 5]\n",
            " Accuracy: 0.5032\n",
            " F1 score: 0.4834\n",
            "======== Epoch 456 / 500 ========\n",
            "Training...\n"
          ]
        },
        {
          "data": {
            "application/vnd.jupyter.widget-view+json": {
              "model_id": "c25cd145a94e41e6b7a3b6514552c189",
              "version_major": 2,
              "version_minor": 0
            },
            "text/plain": [
              "  0%|          | 0/104 [00:00<?, ?it/s]"
            ]
          },
          "metadata": {},
          "output_type": "display_data"
        },
        {
          "name": "stdout",
          "output_type": "stream",
          "text": [
            " Accuracy: 0.7459\n",
            " F1 score: 0.6733\n",
            " Average training loss: 0.7181\n",
            "Running Validation...\n"
          ]
        },
        {
          "data": {
            "application/vnd.jupyter.widget-view+json": {
              "model_id": "ecf638fd01974e3d861ff8acd058cf36",
              "version_major": 2,
              "version_minor": 0
            },
            "text/plain": [
              "  0%|          | 0/9 [00:00<?, ?it/s]"
            ]
          },
          "metadata": {},
          "output_type": "display_data"
        },
        {
          "name": "stdout",
          "output_type": "stream",
          "text": [
            "logits:    [0 4 2 0 2 1 4 5 5 3 4 3 1 0 0 0 0 1 0 4 4 1 3 2 1 2]\n",
            "labels_id: [1 4 2 4 2 1 4 2 3 3 4 3 1 3 0 0 0 5 5 2 4 1 3 2 1 5]\n",
            " Accuracy: 0.5032\n",
            " F1 score: 0.4833\n",
            "======== Epoch 457 / 500 ========\n",
            "Training...\n"
          ]
        },
        {
          "data": {
            "application/vnd.jupyter.widget-view+json": {
              "model_id": "126dbad97ef440e6a1f6e40250f49656",
              "version_major": 2,
              "version_minor": 0
            },
            "text/plain": [
              "  0%|          | 0/104 [00:00<?, ?it/s]"
            ]
          },
          "metadata": {},
          "output_type": "display_data"
        },
        {
          "name": "stdout",
          "output_type": "stream",
          "text": [
            " Accuracy: 0.7498\n",
            " F1 score: 0.6737\n",
            " Average training loss: 0.7100\n",
            "Running Validation...\n"
          ]
        },
        {
          "data": {
            "application/vnd.jupyter.widget-view+json": {
              "model_id": "504e16a01a954ac2b2ea98e4efc6b820",
              "version_major": 2,
              "version_minor": 0
            },
            "text/plain": [
              "  0%|          | 0/9 [00:00<?, ?it/s]"
            ]
          },
          "metadata": {},
          "output_type": "display_data"
        },
        {
          "name": "stdout",
          "output_type": "stream",
          "text": [
            "logits:    [0 4 2 0 2 1 4 5 5 3 4 3 1 0 0 0 0 1 0 4 4 1 3 2 1 2]\n",
            "labels_id: [1 4 2 4 2 1 4 2 3 3 4 3 1 3 0 0 0 5 5 2 4 1 3 2 1 5]\n",
            " Accuracy: 0.5015\n",
            " F1 score: 0.4821\n",
            "======== Epoch 458 / 500 ========\n",
            "Training...\n"
          ]
        },
        {
          "data": {
            "application/vnd.jupyter.widget-view+json": {
              "model_id": "f92b192de4a8443ab711ffff5c8c3027",
              "version_major": 2,
              "version_minor": 0
            },
            "text/plain": [
              "  0%|          | 0/104 [00:00<?, ?it/s]"
            ]
          },
          "metadata": {},
          "output_type": "display_data"
        },
        {
          "name": "stdout",
          "output_type": "stream",
          "text": [
            " Accuracy: 0.7477\n",
            " F1 score: 0.6693\n",
            " Average training loss: 0.7080\n",
            "Running Validation...\n"
          ]
        },
        {
          "data": {
            "application/vnd.jupyter.widget-view+json": {
              "model_id": "5e4c9183322149f580da10df9e0e80f3",
              "version_major": 2,
              "version_minor": 0
            },
            "text/plain": [
              "  0%|          | 0/9 [00:00<?, ?it/s]"
            ]
          },
          "metadata": {},
          "output_type": "display_data"
        },
        {
          "name": "stdout",
          "output_type": "stream",
          "text": [
            "logits:    [0 4 2 0 2 1 4 5 5 3 4 3 1 0 0 0 0 1 0 4 4 1 3 2 1 2]\n",
            "labels_id: [1 4 2 4 2 1 4 2 3 3 4 3 1 3 0 0 0 5 5 2 4 1 3 2 1 5]\n",
            " Accuracy: 0.5015\n",
            " F1 score: 0.4823\n",
            "======== Epoch 459 / 500 ========\n",
            "Training...\n"
          ]
        },
        {
          "data": {
            "application/vnd.jupyter.widget-view+json": {
              "model_id": "65e11851fcc54b768da620b3a53f61d0",
              "version_major": 2,
              "version_minor": 0
            },
            "text/plain": [
              "  0%|          | 0/104 [00:00<?, ?it/s]"
            ]
          },
          "metadata": {},
          "output_type": "display_data"
        },
        {
          "name": "stdout",
          "output_type": "stream",
          "text": [
            " Accuracy: 0.7404\n",
            " F1 score: 0.6603\n",
            " Average training loss: 0.7235\n",
            "Running Validation...\n"
          ]
        },
        {
          "data": {
            "application/vnd.jupyter.widget-view+json": {
              "model_id": "2f93c92c84924575a824073ac61d1f58",
              "version_major": 2,
              "version_minor": 0
            },
            "text/plain": [
              "  0%|          | 0/9 [00:00<?, ?it/s]"
            ]
          },
          "metadata": {},
          "output_type": "display_data"
        },
        {
          "name": "stdout",
          "output_type": "stream",
          "text": [
            "logits:    [0 4 2 0 2 1 4 5 5 3 4 3 1 0 0 0 0 1 0 4 4 1 3 2 1 2]\n",
            "labels_id: [1 4 2 4 2 1 4 2 3 3 4 3 1 3 0 0 0 5 5 2 4 1 3 2 1 5]\n",
            " Accuracy: 0.5015\n",
            " F1 score: 0.4822\n",
            "======== Epoch 460 / 500 ========\n",
            "Training...\n"
          ]
        },
        {
          "data": {
            "application/vnd.jupyter.widget-view+json": {
              "model_id": "4323dee2fade407b8b9f3e54c27a6297",
              "version_major": 2,
              "version_minor": 0
            },
            "text/plain": [
              "  0%|          | 0/104 [00:00<?, ?it/s]"
            ]
          },
          "metadata": {},
          "output_type": "display_data"
        },
        {
          "name": "stdout",
          "output_type": "stream",
          "text": [
            " Accuracy: 0.7433\n",
            " F1 score: 0.6660\n",
            " Average training loss: 0.7217\n",
            "Running Validation...\n"
          ]
        },
        {
          "data": {
            "application/vnd.jupyter.widget-view+json": {
              "model_id": "d00502738c15451281eab8598c42d75e",
              "version_major": 2,
              "version_minor": 0
            },
            "text/plain": [
              "  0%|          | 0/9 [00:00<?, ?it/s]"
            ]
          },
          "metadata": {},
          "output_type": "display_data"
        },
        {
          "name": "stdout",
          "output_type": "stream",
          "text": [
            "logits:    [0 4 2 0 2 1 4 5 5 3 4 3 1 0 0 0 0 1 0 4 4 1 3 2 1 2]\n",
            "labels_id: [1 4 2 4 2 1 4 2 3 3 4 3 1 3 0 0 0 5 5 2 4 1 3 2 1 5]\n",
            " Accuracy: 0.4997\n",
            " F1 score: 0.4808\n",
            "======== Epoch 461 / 500 ========\n",
            "Training...\n"
          ]
        },
        {
          "data": {
            "application/vnd.jupyter.widget-view+json": {
              "model_id": "72de1c9305124f36a6d7767c31b91b80",
              "version_major": 2,
              "version_minor": 0
            },
            "text/plain": [
              "  0%|          | 0/104 [00:00<?, ?it/s]"
            ]
          },
          "metadata": {},
          "output_type": "display_data"
        },
        {
          "name": "stdout",
          "output_type": "stream",
          "text": [
            " Accuracy: 0.7448\n",
            " F1 score: 0.6727\n",
            " Average training loss: 0.7040\n",
            "Running Validation...\n"
          ]
        },
        {
          "data": {
            "application/vnd.jupyter.widget-view+json": {
              "model_id": "1c15064dbf3d449d848433f387c476a1",
              "version_major": 2,
              "version_minor": 0
            },
            "text/plain": [
              "  0%|          | 0/9 [00:00<?, ?it/s]"
            ]
          },
          "metadata": {},
          "output_type": "display_data"
        },
        {
          "name": "stdout",
          "output_type": "stream",
          "text": [
            "logits:    [0 4 2 0 2 1 4 5 5 3 4 3 1 0 0 0 0 1 0 4 4 1 3 2 1 2]\n",
            "labels_id: [1 4 2 4 2 1 4 2 3 3 4 3 1 3 0 0 0 5 5 2 4 1 3 2 1 5]\n",
            " Accuracy: 0.4997\n",
            " F1 score: 0.4808\n",
            "======== Epoch 462 / 500 ========\n",
            "Training...\n"
          ]
        },
        {
          "data": {
            "application/vnd.jupyter.widget-view+json": {
              "model_id": "4842a25737e0409ebd464a87ebdd2384",
              "version_major": 2,
              "version_minor": 0
            },
            "text/plain": [
              "  0%|          | 0/104 [00:00<?, ?it/s]"
            ]
          },
          "metadata": {},
          "output_type": "display_data"
        },
        {
          "name": "stdout",
          "output_type": "stream",
          "text": [
            " Accuracy: 0.7486\n",
            " F1 score: 0.6713\n",
            " Average training loss: 0.7137\n",
            "Running Validation...\n"
          ]
        },
        {
          "data": {
            "application/vnd.jupyter.widget-view+json": {
              "model_id": "62e3517b531d4a5eb123ae58b98503e8",
              "version_major": 2,
              "version_minor": 0
            },
            "text/plain": [
              "  0%|          | 0/9 [00:00<?, ?it/s]"
            ]
          },
          "metadata": {},
          "output_type": "display_data"
        },
        {
          "name": "stdout",
          "output_type": "stream",
          "text": [
            "logits:    [0 4 2 0 2 1 4 5 5 3 4 3 1 0 0 0 0 1 0 4 4 1 3 2 1 2]\n",
            "labels_id: [1 4 2 4 2 1 4 2 3 3 4 3 1 3 0 0 0 5 5 2 4 1 3 2 1 5]\n",
            " Accuracy: 0.4980\n",
            " F1 score: 0.4794\n",
            "======== Epoch 463 / 500 ========\n",
            "Training...\n"
          ]
        },
        {
          "data": {
            "application/vnd.jupyter.widget-view+json": {
              "model_id": "f01efbde658645a58e18affa3536c2a1",
              "version_major": 2,
              "version_minor": 0
            },
            "text/plain": [
              "  0%|          | 0/104 [00:00<?, ?it/s]"
            ]
          },
          "metadata": {},
          "output_type": "display_data"
        },
        {
          "name": "stdout",
          "output_type": "stream",
          "text": [
            " Accuracy: 0.7467\n",
            " F1 score: 0.6805\n",
            " Average training loss: 0.7096\n",
            "Running Validation...\n"
          ]
        },
        {
          "data": {
            "application/vnd.jupyter.widget-view+json": {
              "model_id": "145a149b265e4781b0155d06aa302f86",
              "version_major": 2,
              "version_minor": 0
            },
            "text/plain": [
              "  0%|          | 0/9 [00:00<?, ?it/s]"
            ]
          },
          "metadata": {},
          "output_type": "display_data"
        },
        {
          "name": "stdout",
          "output_type": "stream",
          "text": [
            "logits:    [0 4 2 0 2 1 4 5 5 3 4 3 1 0 0 0 0 1 0 4 4 1 3 2 1 2]\n",
            "labels_id: [1 4 2 4 2 1 4 2 3 3 4 3 1 3 0 0 0 5 5 2 4 1 3 2 1 5]\n",
            " Accuracy: 0.5032\n",
            " F1 score: 0.4829\n",
            "======== Epoch 464 / 500 ========\n",
            "Training...\n"
          ]
        },
        {
          "data": {
            "application/vnd.jupyter.widget-view+json": {
              "model_id": "72361b518f154e7bafe1fd34d5af6139",
              "version_major": 2,
              "version_minor": 0
            },
            "text/plain": [
              "  0%|          | 0/104 [00:00<?, ?it/s]"
            ]
          },
          "metadata": {},
          "output_type": "display_data"
        },
        {
          "name": "stdout",
          "output_type": "stream",
          "text": [
            " Accuracy: 0.7470\n",
            " F1 score: 0.6695\n",
            " Average training loss: 0.7152\n",
            "Running Validation...\n"
          ]
        },
        {
          "data": {
            "application/vnd.jupyter.widget-view+json": {
              "model_id": "48540edf0a944d74a296ad1a61a589dd",
              "version_major": 2,
              "version_minor": 0
            },
            "text/plain": [
              "  0%|          | 0/9 [00:00<?, ?it/s]"
            ]
          },
          "metadata": {},
          "output_type": "display_data"
        },
        {
          "name": "stdout",
          "output_type": "stream",
          "text": [
            "logits:    [0 4 2 0 2 1 4 5 5 3 4 3 1 0 0 0 0 1 0 4 4 1 3 2 1 2]\n",
            "labels_id: [1 4 2 4 2 1 4 2 3 3 4 3 1 3 0 0 0 5 5 2 4 1 3 2 1 5]\n",
            " Accuracy: 0.5015\n",
            " F1 score: 0.4820\n",
            "======== Epoch 465 / 500 ========\n",
            "Training...\n"
          ]
        },
        {
          "data": {
            "application/vnd.jupyter.widget-view+json": {
              "model_id": "61440beb2fec4008afc84d8239fd5fcb",
              "version_major": 2,
              "version_minor": 0
            },
            "text/plain": [
              "  0%|          | 0/104 [00:00<?, ?it/s]"
            ]
          },
          "metadata": {},
          "output_type": "display_data"
        },
        {
          "name": "stdout",
          "output_type": "stream",
          "text": [
            " Accuracy: 0.7513\n",
            " F1 score: 0.6749\n",
            " Average training loss: 0.7062\n",
            "Running Validation...\n"
          ]
        },
        {
          "data": {
            "application/vnd.jupyter.widget-view+json": {
              "model_id": "ad729dd62f4a4fd0b8f5172a82842ce8",
              "version_major": 2,
              "version_minor": 0
            },
            "text/plain": [
              "  0%|          | 0/9 [00:00<?, ?it/s]"
            ]
          },
          "metadata": {},
          "output_type": "display_data"
        },
        {
          "name": "stdout",
          "output_type": "stream",
          "text": [
            "logits:    [0 4 2 0 2 1 4 5 5 3 4 3 1 0 0 0 0 1 0 4 4 1 3 2 1 2]\n",
            "labels_id: [1 4 2 4 2 1 4 2 3 3 4 3 1 3 0 0 0 5 5 2 4 1 3 2 1 5]\n",
            " Accuracy: 0.5015\n",
            " F1 score: 0.4822\n",
            "======== Epoch 466 / 500 ========\n",
            "Training...\n"
          ]
        },
        {
          "data": {
            "application/vnd.jupyter.widget-view+json": {
              "model_id": "5c069269d8914abf9971de6745c54875",
              "version_major": 2,
              "version_minor": 0
            },
            "text/plain": [
              "  0%|          | 0/104 [00:00<?, ?it/s]"
            ]
          },
          "metadata": {},
          "output_type": "display_data"
        },
        {
          "name": "stdout",
          "output_type": "stream",
          "text": [
            " Accuracy: 0.7458\n",
            " F1 score: 0.6724\n",
            " Average training loss: 0.7116\n",
            "Running Validation...\n"
          ]
        },
        {
          "data": {
            "application/vnd.jupyter.widget-view+json": {
              "model_id": "1ca01c67854742cd80b60e531377271f",
              "version_major": 2,
              "version_minor": 0
            },
            "text/plain": [
              "  0%|          | 0/9 [00:00<?, ?it/s]"
            ]
          },
          "metadata": {},
          "output_type": "display_data"
        },
        {
          "name": "stdout",
          "output_type": "stream",
          "text": [
            "logits:    [0 4 2 0 2 1 4 5 5 3 4 3 1 0 0 0 0 1 0 4 4 1 3 2 1 2]\n",
            "labels_id: [1 4 2 4 2 1 4 2 3 3 4 3 1 3 0 0 0 5 5 2 4 1 3 2 1 5]\n",
            " Accuracy: 0.4980\n",
            " F1 score: 0.4794\n",
            "======== Epoch 467 / 500 ========\n",
            "Training...\n"
          ]
        },
        {
          "data": {
            "application/vnd.jupyter.widget-view+json": {
              "model_id": "8a05a9076dda476cbd70dd5de485a293",
              "version_major": 2,
              "version_minor": 0
            },
            "text/plain": [
              "  0%|          | 0/104 [00:00<?, ?it/s]"
            ]
          },
          "metadata": {},
          "output_type": "display_data"
        },
        {
          "name": "stdout",
          "output_type": "stream",
          "text": [
            " Accuracy: 0.7500\n",
            " F1 score: 0.6744\n",
            " Average training loss: 0.7103\n",
            "Running Validation...\n"
          ]
        },
        {
          "data": {
            "application/vnd.jupyter.widget-view+json": {
              "model_id": "801d47491aef442ca0d3aaf04ba09919",
              "version_major": 2,
              "version_minor": 0
            },
            "text/plain": [
              "  0%|          | 0/9 [00:00<?, ?it/s]"
            ]
          },
          "metadata": {},
          "output_type": "display_data"
        },
        {
          "name": "stdout",
          "output_type": "stream",
          "text": [
            "logits:    [0 4 2 0 2 1 4 5 5 3 4 3 1 0 0 0 0 1 0 4 4 1 3 2 1 2]\n",
            "labels_id: [1 4 2 4 2 1 4 2 3 3 4 3 1 3 0 0 0 5 5 2 4 1 3 2 1 5]\n",
            " Accuracy: 0.4997\n",
            " F1 score: 0.4806\n",
            "======== Epoch 468 / 500 ========\n",
            "Training...\n"
          ]
        },
        {
          "data": {
            "application/vnd.jupyter.widget-view+json": {
              "model_id": "a31878af3e93437e9fb3cabdd8e574ad",
              "version_major": 2,
              "version_minor": 0
            },
            "text/plain": [
              "  0%|          | 0/104 [00:00<?, ?it/s]"
            ]
          },
          "metadata": {},
          "output_type": "display_data"
        },
        {
          "name": "stdout",
          "output_type": "stream",
          "text": [
            " Accuracy: 0.7555\n",
            " F1 score: 0.6770\n",
            " Average training loss: 0.6953\n",
            "Running Validation...\n"
          ]
        },
        {
          "data": {
            "application/vnd.jupyter.widget-view+json": {
              "model_id": "a1956e31c12347ebb3b2fc81c5267bf1",
              "version_major": 2,
              "version_minor": 0
            },
            "text/plain": [
              "  0%|          | 0/9 [00:00<?, ?it/s]"
            ]
          },
          "metadata": {},
          "output_type": "display_data"
        },
        {
          "name": "stdout",
          "output_type": "stream",
          "text": [
            "logits:    [0 4 2 0 2 1 4 5 5 3 4 3 1 0 0 0 0 1 0 4 4 1 3 2 1 2]\n",
            "labels_id: [1 4 2 4 2 1 4 2 3 3 4 3 1 3 0 0 0 5 5 2 4 1 3 2 1 5]\n",
            " Accuracy: 0.4980\n",
            " F1 score: 0.4795\n",
            "======== Epoch 469 / 500 ========\n",
            "Training...\n"
          ]
        },
        {
          "data": {
            "application/vnd.jupyter.widget-view+json": {
              "model_id": "78812a6701eb4babb0541f74771245c7",
              "version_major": 2,
              "version_minor": 0
            },
            "text/plain": [
              "  0%|          | 0/104 [00:00<?, ?it/s]"
            ]
          },
          "metadata": {},
          "output_type": "display_data"
        },
        {
          "name": "stdout",
          "output_type": "stream",
          "text": [
            " Accuracy: 0.7472\n",
            " F1 score: 0.6770\n",
            " Average training loss: 0.7025\n",
            "Running Validation...\n"
          ]
        },
        {
          "data": {
            "application/vnd.jupyter.widget-view+json": {
              "model_id": "252ca72c9d344eab933a6c25b7324165",
              "version_major": 2,
              "version_minor": 0
            },
            "text/plain": [
              "  0%|          | 0/9 [00:00<?, ?it/s]"
            ]
          },
          "metadata": {},
          "output_type": "display_data"
        },
        {
          "name": "stdout",
          "output_type": "stream",
          "text": [
            "logits:    [0 4 2 0 2 1 4 5 5 3 4 3 1 0 0 0 0 1 0 4 4 1 3 2 1 2]\n",
            "labels_id: [1 4 2 4 2 1 4 2 3 3 4 3 1 3 0 0 0 5 5 2 4 1 3 2 1 5]\n",
            " Accuracy: 0.4997\n",
            " F1 score: 0.4805\n",
            "======== Epoch 470 / 500 ========\n",
            "Training...\n"
          ]
        },
        {
          "data": {
            "application/vnd.jupyter.widget-view+json": {
              "model_id": "b0712da9a0fd4c42a3c37aa5ef3c7465",
              "version_major": 2,
              "version_minor": 0
            },
            "text/plain": [
              "  0%|          | 0/104 [00:00<?, ?it/s]"
            ]
          },
          "metadata": {},
          "output_type": "display_data"
        },
        {
          "name": "stdout",
          "output_type": "stream",
          "text": [
            " Accuracy: 0.7441\n",
            " F1 score: 0.6740\n",
            " Average training loss: 0.7052\n",
            "Running Validation...\n"
          ]
        },
        {
          "data": {
            "application/vnd.jupyter.widget-view+json": {
              "model_id": "40b0ebb609014304827cfb750230d6f1",
              "version_major": 2,
              "version_minor": 0
            },
            "text/plain": [
              "  0%|          | 0/9 [00:00<?, ?it/s]"
            ]
          },
          "metadata": {},
          "output_type": "display_data"
        },
        {
          "name": "stdout",
          "output_type": "stream",
          "text": [
            "logits:    [0 4 2 0 2 1 4 5 5 3 4 3 1 0 0 0 0 1 0 4 4 1 3 2 1 2]\n",
            "labels_id: [1 4 2 4 2 1 4 2 3 3 4 3 1 3 0 0 0 5 5 2 4 1 3 2 1 5]\n",
            " Accuracy: 0.5015\n",
            " F1 score: 0.4819\n",
            "======== Epoch 471 / 500 ========\n",
            "Training...\n"
          ]
        },
        {
          "data": {
            "application/vnd.jupyter.widget-view+json": {
              "model_id": "a452a3954def4f9396b57f512fe6cf94",
              "version_major": 2,
              "version_minor": 0
            },
            "text/plain": [
              "  0%|          | 0/104 [00:00<?, ?it/s]"
            ]
          },
          "metadata": {},
          "output_type": "display_data"
        },
        {
          "name": "stdout",
          "output_type": "stream",
          "text": [
            " Accuracy: 0.7499\n",
            " F1 score: 0.6741\n",
            " Average training loss: 0.7008\n",
            "Running Validation...\n"
          ]
        },
        {
          "data": {
            "application/vnd.jupyter.widget-view+json": {
              "model_id": "375928430c56498993254b1eb0996d96",
              "version_major": 2,
              "version_minor": 0
            },
            "text/plain": [
              "  0%|          | 0/9 [00:00<?, ?it/s]"
            ]
          },
          "metadata": {},
          "output_type": "display_data"
        },
        {
          "name": "stdout",
          "output_type": "stream",
          "text": [
            "logits:    [0 4 2 0 2 1 4 5 5 3 4 3 1 0 0 0 0 1 0 4 4 1 3 2 1 2]\n",
            "labels_id: [1 4 2 4 2 1 4 2 3 3 4 3 1 3 0 0 0 5 5 2 4 1 3 2 1 5]\n",
            " Accuracy: 0.5015\n",
            " F1 score: 0.4818\n",
            "======== Epoch 472 / 500 ========\n",
            "Training...\n"
          ]
        },
        {
          "data": {
            "application/vnd.jupyter.widget-view+json": {
              "model_id": "31875ac7c8674457bad553bb718f3803",
              "version_major": 2,
              "version_minor": 0
            },
            "text/plain": [
              "  0%|          | 0/104 [00:00<?, ?it/s]"
            ]
          },
          "metadata": {},
          "output_type": "display_data"
        },
        {
          "name": "stdout",
          "output_type": "stream",
          "text": [
            " Accuracy: 0.7547\n",
            " F1 score: 0.6834\n",
            " Average training loss: 0.6968\n",
            "Running Validation...\n"
          ]
        },
        {
          "data": {
            "application/vnd.jupyter.widget-view+json": {
              "model_id": "ff9b391a60f643d096b18b172b35e8db",
              "version_major": 2,
              "version_minor": 0
            },
            "text/plain": [
              "  0%|          | 0/9 [00:00<?, ?it/s]"
            ]
          },
          "metadata": {},
          "output_type": "display_data"
        },
        {
          "name": "stdout",
          "output_type": "stream",
          "text": [
            "logits:    [0 4 2 0 2 1 4 5 5 3 4 3 1 0 0 0 0 1 0 4 4 1 3 2 1 2]\n",
            "labels_id: [1 4 2 4 2 1 4 2 3 3 4 3 1 3 0 0 0 5 5 2 4 1 3 2 1 5]\n",
            " Accuracy: 0.5015\n",
            " F1 score: 0.4818\n",
            "======== Epoch 473 / 500 ========\n",
            "Training...\n"
          ]
        },
        {
          "data": {
            "application/vnd.jupyter.widget-view+json": {
              "model_id": "b50b171b5eff4e3fa4621de1ed908ad1",
              "version_major": 2,
              "version_minor": 0
            },
            "text/plain": [
              "  0%|          | 0/104 [00:00<?, ?it/s]"
            ]
          },
          "metadata": {},
          "output_type": "display_data"
        },
        {
          "name": "stdout",
          "output_type": "stream",
          "text": [
            " Accuracy: 0.7625\n",
            " F1 score: 0.6976\n",
            " Average training loss: 0.6880\n",
            "Running Validation...\n"
          ]
        },
        {
          "data": {
            "application/vnd.jupyter.widget-view+json": {
              "model_id": "7dcc370c054a45f8a1a02ad857f4a8e5",
              "version_major": 2,
              "version_minor": 0
            },
            "text/plain": [
              "  0%|          | 0/9 [00:00<?, ?it/s]"
            ]
          },
          "metadata": {},
          "output_type": "display_data"
        },
        {
          "name": "stdout",
          "output_type": "stream",
          "text": [
            "logits:    [0 4 2 0 2 1 4 5 5 3 4 3 1 0 0 0 0 1 0 4 4 1 3 2 1 2]\n",
            "labels_id: [1 4 2 4 2 1 4 2 3 3 4 3 1 3 0 0 0 5 5 2 4 1 3 2 1 5]\n",
            " Accuracy: 0.5015\n",
            " F1 score: 0.4821\n",
            "======== Epoch 474 / 500 ========\n",
            "Training...\n"
          ]
        },
        {
          "data": {
            "application/vnd.jupyter.widget-view+json": {
              "model_id": "f1fd35f9b108427db0fe2c86b7f002fe",
              "version_major": 2,
              "version_minor": 0
            },
            "text/plain": [
              "  0%|          | 0/104 [00:00<?, ?it/s]"
            ]
          },
          "metadata": {},
          "output_type": "display_data"
        },
        {
          "name": "stdout",
          "output_type": "stream",
          "text": [
            " Accuracy: 0.7552\n",
            " F1 score: 0.6805\n",
            " Average training loss: 0.6907\n",
            "Running Validation...\n"
          ]
        },
        {
          "data": {
            "application/vnd.jupyter.widget-view+json": {
              "model_id": "21fccbb38ab5410998f578ca5ca8a9cb",
              "version_major": 2,
              "version_minor": 0
            },
            "text/plain": [
              "  0%|          | 0/9 [00:00<?, ?it/s]"
            ]
          },
          "metadata": {},
          "output_type": "display_data"
        },
        {
          "name": "stdout",
          "output_type": "stream",
          "text": [
            "logits:    [0 4 2 0 2 1 4 5 5 3 4 3 1 0 0 0 0 1 0 4 4 1 3 2 1 2]\n",
            "labels_id: [1 4 2 4 2 1 4 2 3 3 4 3 1 3 0 0 0 5 5 2 4 1 3 2 1 5]\n",
            " Accuracy: 0.5015\n",
            " F1 score: 0.4822\n",
            "======== Epoch 475 / 500 ========\n",
            "Training...\n"
          ]
        },
        {
          "data": {
            "application/vnd.jupyter.widget-view+json": {
              "model_id": "e130052a6c41496687afccce5e514e7f",
              "version_major": 2,
              "version_minor": 0
            },
            "text/plain": [
              "  0%|          | 0/104 [00:00<?, ?it/s]"
            ]
          },
          "metadata": {},
          "output_type": "display_data"
        },
        {
          "name": "stdout",
          "output_type": "stream",
          "text": [
            " Accuracy: 0.7557\n",
            " F1 score: 0.6834\n",
            " Average training loss: 0.6921\n",
            "Running Validation...\n"
          ]
        },
        {
          "data": {
            "application/vnd.jupyter.widget-view+json": {
              "model_id": "0180490f38e448d98a4b5b0ea6626854",
              "version_major": 2,
              "version_minor": 0
            },
            "text/plain": [
              "  0%|          | 0/9 [00:00<?, ?it/s]"
            ]
          },
          "metadata": {},
          "output_type": "display_data"
        },
        {
          "name": "stdout",
          "output_type": "stream",
          "text": [
            "logits:    [0 4 2 0 2 1 4 5 5 3 4 3 1 0 0 0 0 1 0 4 4 1 3 2 1 2]\n",
            "labels_id: [1 4 2 4 2 1 4 2 3 3 4 3 1 3 0 0 0 5 5 2 4 1 3 2 1 5]\n",
            " Accuracy: 0.4980\n",
            " F1 score: 0.4793\n",
            "======== Epoch 476 / 500 ========\n",
            "Training...\n"
          ]
        },
        {
          "data": {
            "application/vnd.jupyter.widget-view+json": {
              "model_id": "8e98baf012e645c3ad4ee6ea1caf426b",
              "version_major": 2,
              "version_minor": 0
            },
            "text/plain": [
              "  0%|          | 0/104 [00:00<?, ?it/s]"
            ]
          },
          "metadata": {},
          "output_type": "display_data"
        },
        {
          "name": "stdout",
          "output_type": "stream",
          "text": [
            " Accuracy: 0.7573\n",
            " F1 score: 0.6865\n",
            " Average training loss: 0.6842\n",
            "Running Validation...\n"
          ]
        },
        {
          "data": {
            "application/vnd.jupyter.widget-view+json": {
              "model_id": "d3f23d147d774285b7c9469b1e51b662",
              "version_major": 2,
              "version_minor": 0
            },
            "text/plain": [
              "  0%|          | 0/9 [00:00<?, ?it/s]"
            ]
          },
          "metadata": {},
          "output_type": "display_data"
        },
        {
          "name": "stdout",
          "output_type": "stream",
          "text": [
            "logits:    [0 4 2 0 2 1 4 5 5 3 4 3 1 0 0 0 0 1 0 4 4 1 3 2 1 2]\n",
            "labels_id: [1 4 2 4 2 1 4 2 3 3 4 3 1 3 0 0 0 5 5 2 4 1 3 2 1 5]\n",
            " Accuracy: 0.5032\n",
            " F1 score: 0.4849\n",
            "======== Epoch 477 / 500 ========\n",
            "Training...\n"
          ]
        },
        {
          "data": {
            "application/vnd.jupyter.widget-view+json": {
              "model_id": "b6531231a6044516a145106ee86b5763",
              "version_major": 2,
              "version_minor": 0
            },
            "text/plain": [
              "  0%|          | 0/104 [00:00<?, ?it/s]"
            ]
          },
          "metadata": {},
          "output_type": "display_data"
        },
        {
          "name": "stdout",
          "output_type": "stream",
          "text": [
            " Accuracy: 0.7546\n",
            " F1 score: 0.6806\n",
            " Average training loss: 0.6885\n",
            "Running Validation...\n"
          ]
        },
        {
          "data": {
            "application/vnd.jupyter.widget-view+json": {
              "model_id": "c41e4c93b3e54466bde720cfb5e94f10",
              "version_major": 2,
              "version_minor": 0
            },
            "text/plain": [
              "  0%|          | 0/9 [00:00<?, ?it/s]"
            ]
          },
          "metadata": {},
          "output_type": "display_data"
        },
        {
          "name": "stdout",
          "output_type": "stream",
          "text": [
            "logits:    [0 4 2 0 2 1 4 5 5 3 4 3 1 0 0 0 0 1 0 4 4 1 3 2 1 2]\n",
            "labels_id: [1 4 2 4 2 1 4 2 3 3 4 3 1 3 0 0 0 5 5 2 4 1 3 2 1 5]\n",
            " Accuracy: 0.4980\n",
            " F1 score: 0.4792\n",
            "======== Epoch 478 / 500 ========\n",
            "Training...\n"
          ]
        },
        {
          "data": {
            "application/vnd.jupyter.widget-view+json": {
              "model_id": "89517257d4154976a8e7187ed0854835",
              "version_major": 2,
              "version_minor": 0
            },
            "text/plain": [
              "  0%|          | 0/104 [00:00<?, ?it/s]"
            ]
          },
          "metadata": {},
          "output_type": "display_data"
        },
        {
          "name": "stdout",
          "output_type": "stream",
          "text": [
            " Accuracy: 0.7558\n",
            " F1 score: 0.6774\n",
            " Average training loss: 0.6882\n",
            "Running Validation...\n"
          ]
        },
        {
          "data": {
            "application/vnd.jupyter.widget-view+json": {
              "model_id": "8020df9657e84af88b2909b7bd07d432",
              "version_major": 2,
              "version_minor": 0
            },
            "text/plain": [
              "  0%|          | 0/9 [00:00<?, ?it/s]"
            ]
          },
          "metadata": {},
          "output_type": "display_data"
        },
        {
          "name": "stdout",
          "output_type": "stream",
          "text": [
            "logits:    [0 4 2 0 2 1 4 5 5 3 4 3 1 0 0 0 0 1 0 4 4 1 3 2 1 2]\n",
            "labels_id: [1 4 2 4 2 1 4 2 3 3 4 3 1 3 0 0 0 5 5 2 4 1 3 2 1 5]\n",
            " Accuracy: 0.5015\n",
            " F1 score: 0.4829\n",
            "======== Epoch 479 / 500 ========\n",
            "Training...\n"
          ]
        },
        {
          "data": {
            "application/vnd.jupyter.widget-view+json": {
              "model_id": "67a39c489ad1424e97abe88b98209760",
              "version_major": 2,
              "version_minor": 0
            },
            "text/plain": [
              "  0%|          | 0/104 [00:00<?, ?it/s]"
            ]
          },
          "metadata": {},
          "output_type": "display_data"
        },
        {
          "name": "stdout",
          "output_type": "stream",
          "text": [
            " Accuracy: 0.7631\n",
            " F1 score: 0.6954\n",
            " Average training loss: 0.6771\n",
            "Running Validation...\n"
          ]
        },
        {
          "data": {
            "application/vnd.jupyter.widget-view+json": {
              "model_id": "f49a662191c5494daa533b574cb9cdbe",
              "version_major": 2,
              "version_minor": 0
            },
            "text/plain": [
              "  0%|          | 0/9 [00:00<?, ?it/s]"
            ]
          },
          "metadata": {},
          "output_type": "display_data"
        },
        {
          "name": "stdout",
          "output_type": "stream",
          "text": [
            "logits:    [0 4 2 0 2 1 4 5 5 3 4 3 1 0 0 0 0 1 0 4 4 1 3 2 1 2]\n",
            "labels_id: [1 4 2 4 2 1 4 2 3 3 4 3 1 3 0 0 0 5 5 2 4 1 3 2 1 5]\n",
            " Accuracy: 0.4980\n",
            " F1 score: 0.4801\n",
            "======== Epoch 480 / 500 ========\n",
            "Training...\n"
          ]
        },
        {
          "data": {
            "application/vnd.jupyter.widget-view+json": {
              "model_id": "666e6df300d14b669ca739e5beccc9e5",
              "version_major": 2,
              "version_minor": 0
            },
            "text/plain": [
              "  0%|          | 0/104 [00:00<?, ?it/s]"
            ]
          },
          "metadata": {},
          "output_type": "display_data"
        },
        {
          "name": "stdout",
          "output_type": "stream",
          "text": [
            " Accuracy: 0.7586\n",
            " F1 score: 0.6848\n",
            " Average training loss: 0.6784\n",
            "Running Validation...\n"
          ]
        },
        {
          "data": {
            "application/vnd.jupyter.widget-view+json": {
              "model_id": "04b2360ec2c248d7bdb89bbebf9ca294",
              "version_major": 2,
              "version_minor": 0
            },
            "text/plain": [
              "  0%|          | 0/9 [00:00<?, ?it/s]"
            ]
          },
          "metadata": {},
          "output_type": "display_data"
        },
        {
          "name": "stdout",
          "output_type": "stream",
          "text": [
            "logits:    [0 4 2 0 2 1 4 5 5 3 4 3 1 0 0 0 0 1 0 4 4 1 3 2 1 2]\n",
            "labels_id: [1 4 2 4 2 1 4 2 3 3 4 3 1 3 0 0 0 5 5 2 4 1 3 2 1 5]\n",
            " Accuracy: 0.5032\n",
            " F1 score: 0.4842\n",
            "======== Epoch 481 / 500 ========\n",
            "Training...\n"
          ]
        },
        {
          "data": {
            "application/vnd.jupyter.widget-view+json": {
              "model_id": "136013eecb9f4b0ea52cb3ff7d0d5c18",
              "version_major": 2,
              "version_minor": 0
            },
            "text/plain": [
              "  0%|          | 0/104 [00:00<?, ?it/s]"
            ]
          },
          "metadata": {},
          "output_type": "display_data"
        },
        {
          "name": "stdout",
          "output_type": "stream",
          "text": [
            " Accuracy: 0.7559\n",
            " F1 score: 0.6792\n",
            " Average training loss: 0.6824\n",
            "Running Validation...\n"
          ]
        },
        {
          "data": {
            "application/vnd.jupyter.widget-view+json": {
              "model_id": "f898faecb49e435eaedd8756b44b54b1",
              "version_major": 2,
              "version_minor": 0
            },
            "text/plain": [
              "  0%|          | 0/9 [00:00<?, ?it/s]"
            ]
          },
          "metadata": {},
          "output_type": "display_data"
        },
        {
          "name": "stdout",
          "output_type": "stream",
          "text": [
            "logits:    [0 4 2 0 2 1 4 5 5 3 4 3 1 0 0 0 0 1 0 4 4 1 3 2 1 2]\n",
            "labels_id: [1 4 2 4 2 1 4 2 3 3 4 3 1 3 0 0 0 5 5 2 4 1 3 2 1 5]\n",
            " Accuracy: 0.5032\n",
            " F1 score: 0.4842\n",
            "======== Epoch 482 / 500 ========\n",
            "Training...\n"
          ]
        },
        {
          "data": {
            "application/vnd.jupyter.widget-view+json": {
              "model_id": "87bdb63d4a40403ab85cd344aafe4671",
              "version_major": 2,
              "version_minor": 0
            },
            "text/plain": [
              "  0%|          | 0/104 [00:00<?, ?it/s]"
            ]
          },
          "metadata": {},
          "output_type": "display_data"
        },
        {
          "name": "stdout",
          "output_type": "stream",
          "text": [
            " Accuracy: 0.7652\n",
            " F1 score: 0.6958\n",
            " Average training loss: 0.6742\n",
            "Running Validation...\n"
          ]
        },
        {
          "data": {
            "application/vnd.jupyter.widget-view+json": {
              "model_id": "758b98d597ce4d8a804b570a5abecd75",
              "version_major": 2,
              "version_minor": 0
            },
            "text/plain": [
              "  0%|          | 0/9 [00:00<?, ?it/s]"
            ]
          },
          "metadata": {},
          "output_type": "display_data"
        },
        {
          "name": "stdout",
          "output_type": "stream",
          "text": [
            "logits:    [0 4 2 0 2 1 4 5 5 3 4 3 1 0 0 0 0 1 0 4 4 1 3 2 1 2]\n",
            "labels_id: [1 4 2 4 2 1 4 2 3 3 4 3 1 3 0 0 0 5 5 2 4 1 3 2 1 5]\n",
            " Accuracy: 0.5032\n",
            " F1 score: 0.4840\n",
            "======== Epoch 483 / 500 ========\n",
            "Training...\n"
          ]
        },
        {
          "data": {
            "application/vnd.jupyter.widget-view+json": {
              "model_id": "e28a81a0c6a94c09bf562f3cb113c5ed",
              "version_major": 2,
              "version_minor": 0
            },
            "text/plain": [
              "  0%|          | 0/104 [00:00<?, ?it/s]"
            ]
          },
          "metadata": {},
          "output_type": "display_data"
        },
        {
          "name": "stdout",
          "output_type": "stream",
          "text": [
            " Accuracy: 0.7591\n",
            " F1 score: 0.6859\n",
            " Average training loss: 0.6766\n",
            "Running Validation...\n"
          ]
        },
        {
          "data": {
            "application/vnd.jupyter.widget-view+json": {
              "model_id": "fc9ffea2ef5f4e358f90ce59f7d74f7b",
              "version_major": 2,
              "version_minor": 0
            },
            "text/plain": [
              "  0%|          | 0/9 [00:00<?, ?it/s]"
            ]
          },
          "metadata": {},
          "output_type": "display_data"
        },
        {
          "name": "stdout",
          "output_type": "stream",
          "text": [
            "logits:    [0 4 2 0 2 1 4 5 5 3 4 3 1 0 0 0 0 1 0 4 4 1 3 2 1 2]\n",
            "labels_id: [1 4 2 4 2 1 4 2 3 3 4 3 1 3 0 0 0 5 5 2 4 1 3 2 1 5]\n",
            " Accuracy: 0.4997\n",
            " F1 score: 0.4809\n",
            "======== Epoch 484 / 500 ========\n",
            "Training...\n"
          ]
        },
        {
          "data": {
            "application/vnd.jupyter.widget-view+json": {
              "model_id": "ed2c8721ea9b422f8b74c74c05a01499",
              "version_major": 2,
              "version_minor": 0
            },
            "text/plain": [
              "  0%|          | 0/104 [00:00<?, ?it/s]"
            ]
          },
          "metadata": {},
          "output_type": "display_data"
        },
        {
          "name": "stdout",
          "output_type": "stream",
          "text": [
            " Accuracy: 0.7564\n",
            " F1 score: 0.6823\n",
            " Average training loss: 0.6847\n",
            "Running Validation...\n"
          ]
        },
        {
          "data": {
            "application/vnd.jupyter.widget-view+json": {
              "model_id": "3fb205aec6d646d58afeb1bd94146adc",
              "version_major": 2,
              "version_minor": 0
            },
            "text/plain": [
              "  0%|          | 0/9 [00:00<?, ?it/s]"
            ]
          },
          "metadata": {},
          "output_type": "display_data"
        },
        {
          "name": "stdout",
          "output_type": "stream",
          "text": [
            "logits:    [0 4 2 0 2 1 4 5 5 3 4 3 1 0 0 0 0 1 0 4 4 1 3 2 1 2]\n",
            "labels_id: [1 4 2 4 2 1 4 2 3 3 4 3 1 3 0 0 0 5 5 2 4 1 3 2 1 5]\n",
            " Accuracy: 0.5015\n",
            " F1 score: 0.4829\n",
            "======== Epoch 485 / 500 ========\n",
            "Training...\n"
          ]
        },
        {
          "data": {
            "application/vnd.jupyter.widget-view+json": {
              "model_id": "773186a31db344ed97bb60591a58ff1a",
              "version_major": 2,
              "version_minor": 0
            },
            "text/plain": [
              "  0%|          | 0/104 [00:00<?, ?it/s]"
            ]
          },
          "metadata": {},
          "output_type": "display_data"
        },
        {
          "name": "stdout",
          "output_type": "stream",
          "text": [
            " Accuracy: 0.7643\n",
            " F1 score: 0.6954\n",
            " Average training loss: 0.6734\n",
            "Running Validation...\n"
          ]
        },
        {
          "data": {
            "application/vnd.jupyter.widget-view+json": {
              "model_id": "2bca40e992d04aa38a8403feb36d338c",
              "version_major": 2,
              "version_minor": 0
            },
            "text/plain": [
              "  0%|          | 0/9 [00:00<?, ?it/s]"
            ]
          },
          "metadata": {},
          "output_type": "display_data"
        },
        {
          "name": "stdout",
          "output_type": "stream",
          "text": [
            "logits:    [0 4 2 0 2 1 4 5 5 3 4 3 1 0 0 0 0 1 0 4 4 1 3 2 1 2]\n",
            "labels_id: [1 4 2 4 2 1 4 2 3 3 4 3 1 3 0 0 0 5 5 2 4 1 3 2 1 5]\n",
            " Accuracy: 0.5049\n",
            " F1 score: 0.4853\n",
            "======== Epoch 486 / 500 ========\n",
            "Training...\n"
          ]
        },
        {
          "data": {
            "application/vnd.jupyter.widget-view+json": {
              "model_id": "b789b0f609b0410c97809a46d2f1deb6",
              "version_major": 2,
              "version_minor": 0
            },
            "text/plain": [
              "  0%|          | 0/104 [00:00<?, ?it/s]"
            ]
          },
          "metadata": {},
          "output_type": "display_data"
        },
        {
          "name": "stdout",
          "output_type": "stream",
          "text": [
            " Accuracy: 0.7618\n",
            " F1 score: 0.6933\n",
            " Average training loss: 0.6731\n",
            "Running Validation...\n"
          ]
        },
        {
          "data": {
            "application/vnd.jupyter.widget-view+json": {
              "model_id": "8c1099309053413fa686ac9b1c766e28",
              "version_major": 2,
              "version_minor": 0
            },
            "text/plain": [
              "  0%|          | 0/9 [00:00<?, ?it/s]"
            ]
          },
          "metadata": {},
          "output_type": "display_data"
        },
        {
          "name": "stdout",
          "output_type": "stream",
          "text": [
            "logits:    [0 4 2 0 2 1 4 5 5 3 4 3 1 0 0 0 0 1 0 4 4 1 3 2 1 2]\n",
            "labels_id: [1 4 2 4 2 1 4 2 3 3 4 3 1 3 0 0 0 5 5 2 4 1 3 2 1 5]\n",
            " Accuracy: 0.4980\n",
            " F1 score: 0.4795\n",
            "======== Epoch 487 / 500 ========\n",
            "Training...\n"
          ]
        },
        {
          "data": {
            "application/vnd.jupyter.widget-view+json": {
              "model_id": "127f091b9fec461bb460b415acbddeb6",
              "version_major": 2,
              "version_minor": 0
            },
            "text/plain": [
              "  0%|          | 0/104 [00:00<?, ?it/s]"
            ]
          },
          "metadata": {},
          "output_type": "display_data"
        },
        {
          "name": "stdout",
          "output_type": "stream",
          "text": [
            " Accuracy: 0.7600\n",
            " F1 score: 0.6907\n",
            " Average training loss: 0.6704\n",
            "Running Validation...\n"
          ]
        },
        {
          "data": {
            "application/vnd.jupyter.widget-view+json": {
              "model_id": "436d915e3f664e55add5574b5c23c883",
              "version_major": 2,
              "version_minor": 0
            },
            "text/plain": [
              "  0%|          | 0/9 [00:00<?, ?it/s]"
            ]
          },
          "metadata": {},
          "output_type": "display_data"
        },
        {
          "name": "stdout",
          "output_type": "stream",
          "text": [
            "logits:    [0 4 2 0 2 1 4 5 5 3 4 3 1 0 0 0 0 1 0 4 4 1 3 2 1 2]\n",
            "labels_id: [1 4 2 4 2 1 4 2 3 3 4 3 1 3 0 0 0 5 5 2 4 1 3 2 1 5]\n",
            " Accuracy: 0.5032\n",
            " F1 score: 0.4840\n",
            "======== Epoch 488 / 500 ========\n",
            "Training...\n"
          ]
        },
        {
          "data": {
            "application/vnd.jupyter.widget-view+json": {
              "model_id": "468440a5c5484832ae1611253c767276",
              "version_major": 2,
              "version_minor": 0
            },
            "text/plain": [
              "  0%|          | 0/104 [00:00<?, ?it/s]"
            ]
          },
          "metadata": {},
          "output_type": "display_data"
        },
        {
          "name": "stdout",
          "output_type": "stream",
          "text": [
            " Accuracy: 0.7640\n",
            " F1 score: 0.6873\n",
            " Average training loss: 0.6729\n",
            "Running Validation...\n"
          ]
        },
        {
          "data": {
            "application/vnd.jupyter.widget-view+json": {
              "model_id": "d1c26e63afa9487dab0c47c94f48d623",
              "version_major": 2,
              "version_minor": 0
            },
            "text/plain": [
              "  0%|          | 0/9 [00:00<?, ?it/s]"
            ]
          },
          "metadata": {},
          "output_type": "display_data"
        },
        {
          "name": "stdout",
          "output_type": "stream",
          "text": [
            "logits:    [0 4 2 0 2 1 4 5 5 3 4 3 1 0 0 0 0 1 0 4 4 1 3 2 1 2]\n",
            "labels_id: [1 4 2 4 2 1 4 2 3 3 4 3 1 3 0 0 0 5 5 2 4 1 3 2 1 5]\n",
            " Accuracy: 0.4980\n",
            " F1 score: 0.4796\n",
            "======== Epoch 489 / 500 ========\n",
            "Training...\n"
          ]
        },
        {
          "data": {
            "application/vnd.jupyter.widget-view+json": {
              "model_id": "6bcc391693c4441ca54bd246ecb68269",
              "version_major": 2,
              "version_minor": 0
            },
            "text/plain": [
              "  0%|          | 0/104 [00:00<?, ?it/s]"
            ]
          },
          "metadata": {},
          "output_type": "display_data"
        },
        {
          "name": "stdout",
          "output_type": "stream",
          "text": [
            " Accuracy: 0.7601\n",
            " F1 score: 0.6877\n",
            " Average training loss: 0.6739\n",
            "Running Validation...\n"
          ]
        },
        {
          "data": {
            "application/vnd.jupyter.widget-view+json": {
              "model_id": "2e1b079a1f444353b8f6bc06a1868dce",
              "version_major": 2,
              "version_minor": 0
            },
            "text/plain": [
              "  0%|          | 0/9 [00:00<?, ?it/s]"
            ]
          },
          "metadata": {},
          "output_type": "display_data"
        },
        {
          "name": "stdout",
          "output_type": "stream",
          "text": [
            "logits:    [0 4 2 0 2 1 4 5 5 3 4 3 1 0 0 0 0 1 0 4 4 1 3 2 1 2]\n",
            "labels_id: [1 4 2 4 2 1 4 2 3 3 4 3 1 3 0 0 0 5 5 2 4 1 3 2 1 5]\n",
            " Accuracy: 0.5032\n",
            " F1 score: 0.4840\n",
            "======== Epoch 490 / 500 ========\n",
            "Training...\n"
          ]
        },
        {
          "data": {
            "application/vnd.jupyter.widget-view+json": {
              "model_id": "d1fc18b24e564fab9c8a214090be6ebb",
              "version_major": 2,
              "version_minor": 0
            },
            "text/plain": [
              "  0%|          | 0/104 [00:00<?, ?it/s]"
            ]
          },
          "metadata": {},
          "output_type": "display_data"
        },
        {
          "name": "stdout",
          "output_type": "stream",
          "text": [
            " Accuracy: 0.7596\n",
            " F1 score: 0.6827\n",
            " Average training loss: 0.6752\n",
            "Running Validation...\n"
          ]
        },
        {
          "data": {
            "application/vnd.jupyter.widget-view+json": {
              "model_id": "c46c7574722f43f385757b17730490ba",
              "version_major": 2,
              "version_minor": 0
            },
            "text/plain": [
              "  0%|          | 0/9 [00:00<?, ?it/s]"
            ]
          },
          "metadata": {},
          "output_type": "display_data"
        },
        {
          "name": "stdout",
          "output_type": "stream",
          "text": [
            "logits:    [0 4 2 0 2 1 4 5 5 3 4 3 1 0 0 0 0 1 0 4 4 1 3 2 1 2]\n",
            "labels_id: [1 4 2 4 2 1 4 2 3 3 4 3 1 3 0 0 0 5 5 2 4 1 3 2 1 5]\n",
            " Accuracy: 0.5032\n",
            " F1 score: 0.4838\n",
            "======== Epoch 491 / 500 ========\n",
            "Training...\n"
          ]
        },
        {
          "data": {
            "application/vnd.jupyter.widget-view+json": {
              "model_id": "c5de6e91ffdf4bb5a98add5361d5f042",
              "version_major": 2,
              "version_minor": 0
            },
            "text/plain": [
              "  0%|          | 0/104 [00:00<?, ?it/s]"
            ]
          },
          "metadata": {},
          "output_type": "display_data"
        },
        {
          "name": "stdout",
          "output_type": "stream",
          "text": [
            " Accuracy: 0.7618\n",
            " F1 score: 0.6872\n",
            " Average training loss: 0.6716\n",
            "Running Validation...\n"
          ]
        },
        {
          "data": {
            "application/vnd.jupyter.widget-view+json": {
              "model_id": "f5265a4b93c544f1a88ebf9858472667",
              "version_major": 2,
              "version_minor": 0
            },
            "text/plain": [
              "  0%|          | 0/9 [00:00<?, ?it/s]"
            ]
          },
          "metadata": {},
          "output_type": "display_data"
        },
        {
          "name": "stdout",
          "output_type": "stream",
          "text": [
            "logits:    [0 4 2 0 2 1 4 5 5 3 4 3 1 0 0 0 0 1 0 4 4 1 3 2 1 2]\n",
            "labels_id: [1 4 2 4 2 1 4 2 3 3 4 3 1 3 0 0 0 5 5 2 4 1 3 2 1 5]\n",
            " Accuracy: 0.4997\n",
            " F1 score: 0.4807\n",
            "======== Epoch 492 / 500 ========\n",
            "Training...\n"
          ]
        },
        {
          "data": {
            "application/vnd.jupyter.widget-view+json": {
              "model_id": "2f850a5144534063addb08e895593b8a",
              "version_major": 2,
              "version_minor": 0
            },
            "text/plain": [
              "  0%|          | 0/104 [00:00<?, ?it/s]"
            ]
          },
          "metadata": {},
          "output_type": "display_data"
        },
        {
          "name": "stdout",
          "output_type": "stream",
          "text": [
            " Accuracy: 0.7603\n",
            " F1 score: 0.6841\n",
            " Average training loss: 0.6725\n",
            "Running Validation...\n"
          ]
        },
        {
          "data": {
            "application/vnd.jupyter.widget-view+json": {
              "model_id": "0e1acf7e95ce476d878f64329509480a",
              "version_major": 2,
              "version_minor": 0
            },
            "text/plain": [
              "  0%|          | 0/9 [00:00<?, ?it/s]"
            ]
          },
          "metadata": {},
          "output_type": "display_data"
        },
        {
          "name": "stdout",
          "output_type": "stream",
          "text": [
            "logits:    [0 4 2 0 2 1 4 5 5 3 4 3 1 0 0 0 0 1 0 4 4 1 3 2 1 2]\n",
            "labels_id: [1 4 2 4 2 1 4 2 3 3 4 3 1 3 0 0 0 5 5 2 4 1 3 2 1 5]\n",
            " Accuracy: 0.5032\n",
            " F1 score: 0.4833\n",
            "======== Epoch 493 / 500 ========\n",
            "Training...\n"
          ]
        },
        {
          "data": {
            "application/vnd.jupyter.widget-view+json": {
              "model_id": "44d294650fc4485789ce5aa28ca42a3d",
              "version_major": 2,
              "version_minor": 0
            },
            "text/plain": [
              "  0%|          | 0/104 [00:00<?, ?it/s]"
            ]
          },
          "metadata": {},
          "output_type": "display_data"
        },
        {
          "name": "stdout",
          "output_type": "stream",
          "text": [
            " Accuracy: 0.7667\n",
            " F1 score: 0.7010\n",
            " Average training loss: 0.6659\n",
            "Running Validation...\n"
          ]
        },
        {
          "data": {
            "application/vnd.jupyter.widget-view+json": {
              "model_id": "3145159843b546f28ec652683c983b89",
              "version_major": 2,
              "version_minor": 0
            },
            "text/plain": [
              "  0%|          | 0/9 [00:00<?, ?it/s]"
            ]
          },
          "metadata": {},
          "output_type": "display_data"
        },
        {
          "name": "stdout",
          "output_type": "stream",
          "text": [
            "logits:    [0 4 2 0 2 1 4 5 5 3 4 3 1 0 0 0 0 1 0 4 4 1 3 2 1 2]\n",
            "labels_id: [1 4 2 4 2 1 4 2 3 3 4 3 1 3 0 0 0 5 5 2 4 1 3 2 1 5]\n",
            " Accuracy: 0.5015\n",
            " F1 score: 0.4824\n",
            "======== Epoch 494 / 500 ========\n",
            "Training...\n"
          ]
        },
        {
          "data": {
            "application/vnd.jupyter.widget-view+json": {
              "model_id": "6c38aa22566e47599bd7f7cba72cfbe5",
              "version_major": 2,
              "version_minor": 0
            },
            "text/plain": [
              "  0%|          | 0/104 [00:00<?, ?it/s]"
            ]
          },
          "metadata": {},
          "output_type": "display_data"
        },
        {
          "name": "stdout",
          "output_type": "stream",
          "text": [
            " Accuracy: 0.7572\n",
            " F1 score: 0.6858\n",
            " Average training loss: 0.6811\n",
            "Running Validation...\n"
          ]
        },
        {
          "data": {
            "application/vnd.jupyter.widget-view+json": {
              "model_id": "8961e112450d41c2b4a7056b7b605074",
              "version_major": 2,
              "version_minor": 0
            },
            "text/plain": [
              "  0%|          | 0/9 [00:00<?, ?it/s]"
            ]
          },
          "metadata": {},
          "output_type": "display_data"
        },
        {
          "name": "stdout",
          "output_type": "stream",
          "text": [
            "logits:    [0 4 2 0 2 1 4 5 5 3 4 3 1 0 0 0 0 1 0 4 4 1 3 2 1 2]\n",
            "labels_id: [1 4 2 4 2 1 4 2 3 3 4 3 1 3 0 0 0 5 5 2 4 1 3 2 1 5]\n",
            " Accuracy: 0.5015\n",
            " F1 score: 0.4820\n",
            "======== Epoch 495 / 500 ========\n",
            "Training...\n"
          ]
        },
        {
          "data": {
            "application/vnd.jupyter.widget-view+json": {
              "model_id": "f7843345ee134f5dbc6add0513bd0564",
              "version_major": 2,
              "version_minor": 0
            },
            "text/plain": [
              "  0%|          | 0/104 [00:00<?, ?it/s]"
            ]
          },
          "metadata": {},
          "output_type": "display_data"
        },
        {
          "name": "stdout",
          "output_type": "stream",
          "text": [
            " Accuracy: 0.7631\n",
            " F1 score: 0.6978\n",
            " Average training loss: 0.6614\n",
            "Running Validation...\n"
          ]
        },
        {
          "data": {
            "application/vnd.jupyter.widget-view+json": {
              "model_id": "755ecea44e04447db1703f04ae097260",
              "version_major": 2,
              "version_minor": 0
            },
            "text/plain": [
              "  0%|          | 0/9 [00:00<?, ?it/s]"
            ]
          },
          "metadata": {},
          "output_type": "display_data"
        },
        {
          "name": "stdout",
          "output_type": "stream",
          "text": [
            "logits:    [0 4 2 0 2 1 4 5 5 3 4 3 1 0 0 0 0 1 0 4 4 1 3 2 1 2]\n",
            "labels_id: [1 4 2 4 2 1 4 2 3 3 4 3 1 3 0 0 0 5 5 2 4 1 3 2 1 5]\n",
            " Accuracy: 0.5032\n",
            " F1 score: 0.4833\n",
            "======== Epoch 496 / 500 ========\n",
            "Training...\n"
          ]
        },
        {
          "data": {
            "application/vnd.jupyter.widget-view+json": {
              "model_id": "fc45e1b935b7466ea71397dca5e4d5b9",
              "version_major": 2,
              "version_minor": 0
            },
            "text/plain": [
              "  0%|          | 0/104 [00:00<?, ?it/s]"
            ]
          },
          "metadata": {},
          "output_type": "display_data"
        },
        {
          "name": "stdout",
          "output_type": "stream",
          "text": [
            " Accuracy: 0.7624\n",
            " F1 score: 0.6843\n",
            " Average training loss: 0.6693\n",
            "Running Validation...\n"
          ]
        },
        {
          "data": {
            "application/vnd.jupyter.widget-view+json": {
              "model_id": "277a4bb51bd446f9a8303e77602d4375",
              "version_major": 2,
              "version_minor": 0
            },
            "text/plain": [
              "  0%|          | 0/9 [00:00<?, ?it/s]"
            ]
          },
          "metadata": {},
          "output_type": "display_data"
        },
        {
          "name": "stdout",
          "output_type": "stream",
          "text": [
            "logits:    [0 4 2 0 2 1 4 5 5 3 4 3 1 0 0 0 0 1 0 4 4 1 3 2 1 2]\n",
            "labels_id: [1 4 2 4 2 1 4 2 3 3 4 3 1 3 0 0 0 5 5 2 4 1 3 2 1 5]\n",
            " Accuracy: 0.5015\n",
            " F1 score: 0.4819\n",
            "======== Epoch 497 / 500 ========\n",
            "Training...\n"
          ]
        },
        {
          "data": {
            "application/vnd.jupyter.widget-view+json": {
              "model_id": "e8a674e32fda4a0f9d5d4c7feda38a05",
              "version_major": 2,
              "version_minor": 0
            },
            "text/plain": [
              "  0%|          | 0/104 [00:00<?, ?it/s]"
            ]
          },
          "metadata": {},
          "output_type": "display_data"
        },
        {
          "name": "stdout",
          "output_type": "stream",
          "text": [
            " Accuracy: 0.7762\n",
            " F1 score: 0.6992\n",
            " Average training loss: 0.6451\n",
            "Running Validation...\n"
          ]
        },
        {
          "data": {
            "application/vnd.jupyter.widget-view+json": {
              "model_id": "c877376c8e4847759ad41e00d440e299",
              "version_major": 2,
              "version_minor": 0
            },
            "text/plain": [
              "  0%|          | 0/9 [00:00<?, ?it/s]"
            ]
          },
          "metadata": {},
          "output_type": "display_data"
        },
        {
          "name": "stdout",
          "output_type": "stream",
          "text": [
            "logits:    [0 4 2 0 2 1 4 5 5 3 4 3 1 0 0 0 0 1 0 4 4 1 3 2 1 2]\n",
            "labels_id: [1 4 2 4 2 1 4 2 3 3 4 3 1 3 0 0 0 5 5 2 4 1 3 2 1 5]\n",
            " Accuracy: 0.4997\n",
            " F1 score: 0.4805\n",
            "======== Epoch 498 / 500 ========\n",
            "Training...\n"
          ]
        },
        {
          "data": {
            "application/vnd.jupyter.widget-view+json": {
              "model_id": "2fe431d39ce54530901cc49a2822efdf",
              "version_major": 2,
              "version_minor": 0
            },
            "text/plain": [
              "  0%|          | 0/104 [00:00<?, ?it/s]"
            ]
          },
          "metadata": {},
          "output_type": "display_data"
        },
        {
          "name": "stdout",
          "output_type": "stream",
          "text": [
            " Accuracy: 0.7672\n",
            " F1 score: 0.6967\n",
            " Average training loss: 0.6619\n",
            "Running Validation...\n"
          ]
        },
        {
          "data": {
            "application/vnd.jupyter.widget-view+json": {
              "model_id": "cb0705a971804b06b8286d1e2e291b75",
              "version_major": 2,
              "version_minor": 0
            },
            "text/plain": [
              "  0%|          | 0/9 [00:00<?, ?it/s]"
            ]
          },
          "metadata": {},
          "output_type": "display_data"
        },
        {
          "name": "stdout",
          "output_type": "stream",
          "text": [
            "logits:    [0 4 2 0 2 1 4 5 5 3 4 3 1 0 0 0 0 1 0 4 4 1 3 2 1 2]\n",
            "labels_id: [1 4 2 4 2 1 4 2 3 3 4 3 1 3 0 0 0 5 5 2 4 1 3 2 1 5]\n",
            " Accuracy: 0.5015\n",
            " F1 score: 0.4824\n",
            "======== Epoch 499 / 500 ========\n",
            "Training...\n"
          ]
        },
        {
          "data": {
            "application/vnd.jupyter.widget-view+json": {
              "model_id": "9bd20be9edb541aa850d64b276c764e7",
              "version_major": 2,
              "version_minor": 0
            },
            "text/plain": [
              "  0%|          | 0/104 [00:00<?, ?it/s]"
            ]
          },
          "metadata": {},
          "output_type": "display_data"
        },
        {
          "name": "stdout",
          "output_type": "stream",
          "text": [
            " Accuracy: 0.7637\n",
            " F1 score: 0.6936\n",
            " Average training loss: 0.6636\n",
            "Running Validation...\n"
          ]
        },
        {
          "data": {
            "application/vnd.jupyter.widget-view+json": {
              "model_id": "fd2c2ede24564bb8b06278aa1d6cf7b1",
              "version_major": 2,
              "version_minor": 0
            },
            "text/plain": [
              "  0%|          | 0/9 [00:00<?, ?it/s]"
            ]
          },
          "metadata": {},
          "output_type": "display_data"
        },
        {
          "name": "stdout",
          "output_type": "stream",
          "text": [
            "logits:    [0 4 2 0 2 1 4 5 5 3 4 3 1 0 0 0 0 1 0 4 4 1 3 2 1 2]\n",
            "labels_id: [1 4 2 4 2 1 4 2 3 3 4 3 1 3 0 0 0 5 5 2 4 1 3 2 1 5]\n",
            " Accuracy: 0.4997\n",
            " F1 score: 0.4805\n",
            "======== Epoch 500 / 500 ========\n",
            "Training...\n"
          ]
        },
        {
          "data": {
            "application/vnd.jupyter.widget-view+json": {
              "model_id": "0b137f877ce64c29bd73bf6c8fcbefbf",
              "version_major": 2,
              "version_minor": 0
            },
            "text/plain": [
              "  0%|          | 0/104 [00:00<?, ?it/s]"
            ]
          },
          "metadata": {},
          "output_type": "display_data"
        },
        {
          "name": "stdout",
          "output_type": "stream",
          "text": [
            " Accuracy: 0.7613\n",
            " F1 score: 0.6922\n",
            " Average training loss: 0.6621\n",
            "Running Validation...\n"
          ]
        },
        {
          "data": {
            "application/vnd.jupyter.widget-view+json": {
              "model_id": "c4db8c375d0d497fb16ded84aa72d064",
              "version_major": 2,
              "version_minor": 0
            },
            "text/plain": [
              "  0%|          | 0/9 [00:00<?, ?it/s]"
            ]
          },
          "metadata": {},
          "output_type": "display_data"
        },
        {
          "name": "stdout",
          "output_type": "stream",
          "text": [
            "logits:    [0 4 2 0 2 1 4 5 5 3 4 3 1 0 0 0 0 1 0 4 4 1 3 2 1 2]\n",
            "labels_id: [1 4 2 4 2 1 4 2 3 3 4 3 1 3 0 0 0 5 5 2 4 1 3 2 1 5]\n",
            " Accuracy: 0.4980\n",
            " F1 score: 0.4771\n",
            "Training complete!\n",
            "Best Valid acc : 0.5049412393162394, epoch: 485\n",
            "elapsed_time:35229.04954910278[sec]\n"
          ]
        }
      ],
      "source": [
        "import random\n",
        "import time\n",
        "# from tqdm import tqdm_notebook\n",
        "from tqdm.notebook import tqdm\n",
        "\n",
        "# device = torch.device(\"mps\" if torch.has_mps else \"cpu\")\n",
        "device = \"cpu\"\n",
        "epochs = 500\n",
        "max = 0\n",
        "\n",
        "param_optimizer = list(BERT_SA.named_parameters())\n",
        "no_decay = ['bias', 'LayerNorm.bias', 'LayerNorm.weight']\n",
        "optimizer_grouped_parameters = [\n",
        "    {'params': [p for n, p in param_optimizer if not any(\n",
        "        nd in n for nd in no_decay)], 'weight_decay': 0.0},\n",
        "    {'params': [p for n, p in param_optimizer if any(\n",
        "        nd in n for nd in no_decay)], 'weight_decay': 0.0}\n",
        "]\n",
        "\n",
        "optimizer = AdamW(optimizer_grouped_parameters, lr=5e-7, correct_bias=False)\n",
        "\n",
        "echo = []\n",
        "acc = []\n",
        "acc_val = []\n",
        "av_loss = []\n",
        "f1 = []\n",
        "f1_val = []\n",
        "start_time = time.time()\n",
        "e = 0\n",
        "for epoch_i in range(0, epochs):\n",
        "    print('======== Epoch {:} / {:} ========'.format(epoch_i + 1, epochs))\n",
        "    print('Training...')\n",
        "\n",
        "    echo.append(epoch_i)\n",
        "\n",
        "    total_loss = 0\n",
        "    BERT_SA.train()\n",
        "    train_accuracy = 0\n",
        "    nb_train_steps = 0\n",
        "    train_f1 = 0\n",
        "\n",
        "    for step, batch in tqdm(enumerate(train_dataloader), total=len(train_dataloader)):\n",
        "        b_input_ids = batch[0].to(device)\n",
        "        b_input_mask = batch[1].to(device)\n",
        "        b_labels = batch[2].to(device)\n",
        "        # print(b_labels)\n",
        "        BERT_SA.zero_grad()\n",
        "        outputs = BERT_SA(b_input_ids,\n",
        "                          token_type_ids=None,\n",
        "                          attention_mask=b_input_mask,\n",
        "                          labels=b_labels)\n",
        "        loss = outputs[0]\n",
        "        # print(outputs)\n",
        "        total_loss += loss.item()\n",
        "\n",
        "        logits = outputs[1].detach().cpu().numpy()\n",
        "        label_ids = b_labels.to('cpu').numpy()\n",
        "        tmp_train_accuracy, tmp_train_f1 = flat_accuracy(logits, label_ids)\n",
        "        train_accuracy += tmp_train_accuracy\n",
        "        train_f1 += tmp_train_f1\n",
        "        nb_train_steps += 1\n",
        "\n",
        "        loss.backward()\n",
        "        torch.nn.utils.clip_grad_norm_(BERT_SA.parameters(), 1.0)\n",
        "        optimizer.step()\n",
        "\n",
        "    avg_train_loss = total_loss / len(train_dataloader)\n",
        "\n",
        "    print(\" Accuracy: {0:.4f}\".format(train_accuracy/nb_train_steps))\n",
        "    acc.append(float(\"{:.4f}\".format(train_accuracy/nb_train_steps)))\n",
        "\n",
        "    print(\" F1 score: {0:.4f}\".format(train_f1/nb_train_steps))\n",
        "    f1.append(float(\"{:.4f}\".format(train_f1/nb_train_steps)))\n",
        "\n",
        "    print(\" Average training loss: {0:.4f}\".format(avg_train_loss))\n",
        "    av_loss.append(float(\"{:.4f}\".format(avg_train_loss)))\n",
        "\n",
        "    BERT_SA.save_pretrained('./model/{}'.format(epoch_i+1))\n",
        "    print(\"Running Validation...\")\n",
        "    BERT_SA.eval()\n",
        "    eval_loss, eval_accuracy = 0, 0\n",
        "    nb_eval_steps, nb_eval_examples = 0, 0\n",
        "    eval_f1 = 0\n",
        "    for batch in tqdm(val_dataloader, total=len(val_dataloader)):\n",
        "\n",
        "        batch = tuple(t.to(device) for t in batch)\n",
        "\n",
        "        b_input_ids, b_input_mask, b_labels = batch\n",
        "        # print(b_labels)\n",
        "\n",
        "        with torch.no_grad():\n",
        "            outputs = BERT_SA(b_input_ids,\n",
        "                              token_type_ids=None,\n",
        "                              attention_mask=b_input_mask)\n",
        "            logits = outputs[0]\n",
        "            # loss_val=outputs[0]\n",
        "            logits = logits.detach().cpu().numpy()\n",
        "            label_ids = b_labels.to('cpu').numpy()\n",
        "            # print(logits)\n",
        "            # print(label_ids)\n",
        "\n",
        "            tmp_eval_accuracy, tmp_eval_f1 = flat_accuracy(logits, label_ids)\n",
        "\n",
        "            eval_accuracy += tmp_eval_accuracy\n",
        "            eval_f1 += tmp_eval_f1\n",
        "            nb_eval_steps += 1\n",
        "    if max < eval_accuracy/nb_eval_steps:\n",
        "        max = eval_accuracy/nb_eval_steps\n",
        "        e = epoch_i\n",
        "    print('logits:    {}'.format(np.argmax(logits, axis=1).flatten()))\n",
        "    print('labels_id: {}'.format(label_ids))\n",
        "\n",
        "    print(\" Accuracy: {0:.4f}\".format(eval_accuracy/nb_eval_steps))\n",
        "    acc_val.append(float(\"{:.4f}\".format(eval_accuracy/nb_eval_steps)))\n",
        "\n",
        "    print(\" F1 score: {0:.4f}\".format(eval_f1/nb_eval_steps))\n",
        "    f1_val.append(float(\"{:.4f}\".format(eval_f1/nb_eval_steps)))\n",
        "print(\"Training complete!\")\n",
        "print('Best Valid acc : {}, epoch: {}'.format(max, e+1))\n",
        "end_time = time.time()\n",
        "elapsed_time = end_time - start_time\n",
        "print(\"elapsed_time:{0}\".format(elapsed_time) + \"[sec]\")\n"
      ]
    },
    {
      "cell_type": "code",
      "execution_count": null,
      "metadata": {},
      "outputs": [],
      "source": [
        "# save checkpoint\n",
        "torch.save({\n",
        "    'epoch': epochs,\n",
        "    'model_state_dict': BERT_SA.state_dict(),\n",
        "    'optimizer_state_dict': optimizer.state_dict(),\n",
        "    'loss': loss,\n",
        "}, './checkpoint/checkpoint_200e.pth')\n"
      ]
    },
    {
      "cell_type": "code",
      "execution_count": null,
      "metadata": {},
      "outputs": [],
      "source": [
        "#load checkpoint\n",
        "checkpoint = torch.load('./checkpoint/checkpoint_200e.pth')\n",
        "BERT_SA.load_state_dict(checkpoint['model_state_dict'])\n",
        "optimizer.load_state_dict(checkpoint['optimizer_state_dict'])\n",
        "epoch = checkpoint['epoch']\n",
        "loss = checkpoint['loss']"
      ]
    },
    {
      "cell_type": "markdown",
      "metadata": {
        "id": "e9ps50gI-quK"
      },
      "source": [
        "### `***ACC, F1, Loss***`\n",
        "echo = []\n",
        "acc = []\n",
        "acc_val = []\n",
        "av_loss = []\n",
        "f1 = []\n",
        "f1_val = []"
      ]
    },
    {
      "cell_type": "code",
      "execution_count": null,
      "metadata": {
        "id": "YYwE2jHvdGpx"
      },
      "outputs": [],
      "source": [
        "# echo_old = echo\n",
        "# acc_old = acc\n",
        "# acc_val_old = acc_val\n",
        "# av_loss_old = av_loss\n",
        "# f1_old = f1\n",
        "# f1_val_old = f1_val\n",
        "\n",
        "# echo_old.extend(echo)\n",
        "# acc_old.extend(acc)\n",
        "# acc_val_old.extend(acc_val)\n",
        "# av_loss_old = av_loss\n",
        "# f1_old = f1\n",
        "# f1_val_old = f1_val\n",
        "\n",
        "# print(echo_old)\n",
        "# print(acc_old)\n",
        "# print(acc_val_old) \n",
        "# print(av_loss_old) \n",
        "# print(f1_old) \n",
        "# print(f1_val_old) "
      ]
    },
    {
      "cell_type": "code",
      "execution_count": 16,
      "metadata": {
        "id": "e1QuWEvh-y5P"
      },
      "outputs": [
        {
          "data": {
            "image/png": "[encoded data removed]",
            "text/plain": [
              "<Figure size 640x480 with 1 Axes>"
            ]
          },
          "metadata": {},
          "output_type": "display_data"
        }
      ],
      "source": [
        "#ACC train and val\n",
        "import matplotlib.pyplot as plt\n",
        "plt.plot(echo,acc)\n",
        "plt.plot(echo,acc_val)\n",
        "plt.title('PhoBert model accuracy')\n",
        "plt.ylabel('accuracy')\n",
        "plt.xlabel('epoch')\n",
        "plt.legend(['acc train', 'acc val'], loc='upper left')\n",
        "plt.savefig('./result/ModelV1/acc_200e_6Label_base.png',bbox_inches='tight')\n",
        "plt.show()"
      ]
    },
    {
      "cell_type": "code",
      "execution_count": 17,
      "metadata": {
        "id": "9YtCuk3nQEwx"
      },
      "outputs": [
        {
          "data": {
            "image/png": "[encoded data removed]",
            "text/plain": [
              "<Figure size 640x480 with 1 Axes>"
            ]
          },
          "metadata": {},
          "output_type": "display_data"
        }
      ],
      "source": [
        "#F1 train and val\n",
        "import matplotlib.pyplot as plt\n",
        "plt.plot(echo,f1)\n",
        "plt.plot(echo,f1_val)\n",
        "plt.title('PhoBert model F1')\n",
        "plt.ylabel('f1')\n",
        "plt.xlabel('epoch')\n",
        "plt.legend(['f1 train', 'f1 test'], loc='upper left')\n",
        "plt.savefig('./result/ModelV1/f1_200e_6Label_base.png', bbox_inches='tight')\n",
        "plt.show()"
      ]
    },
    {
      "cell_type": "code",
      "execution_count": 18,
      "metadata": {
        "colab": {
          "base_uri": "https://localhost:8080/",
          "height": 294
        },
        "id": "rK5abNkoE2pm",
        "outputId": "0e60dce7-34b8-4a0c-b049-2a9acb94e506"
      },
      "outputs": [
        {
          "data": {
            "image/png": "[encoded data removed]",
            "text/plain": [
              "<Figure size 640x480 with 1 Axes>"
            ]
          },
          "metadata": {},
          "output_type": "display_data"
        }
      ],
      "source": [
        "#Loss\n",
        "import matplotlib.pyplot as plt\n",
        "plt.plot(echo,av_loss)\n",
        "# plt.plot(echo,y1)\n",
        "plt.title('PhoBert model loss')\n",
        "plt.ylabel('loss')\n",
        "plt.xlabel('epoch')\n",
        "plt.legend(['loss train'], loc='upper left')\n",
        "plt.savefig('./result/ModelV1/loss_200e_6Label_base.png', bbox_inches='tight')\n",
        "plt.show()"
      ]
    },
    {
      "cell_type": "code",
      "execution_count": null,
      "metadata": {
        "id": "71-XfetyCos2"
      },
      "outputs": [],
      "source": [
        "!zip -r ./model.zip ./Deep/modelbert/5"
      ]
    },
    {
      "cell_type": "markdown",
      "metadata": {
        "id": "5IiMD_mADAgm"
      },
      "source": [
        "# ***Test***"
      ]
    },
    {
      "cell_type": "code",
      "execution_count": null,
      "metadata": {
        "id": "36eR6Xy4C_sV"
      },
      "outputs": [],
      "source": [
        "path_config = './model/9/config.json'\n",
        "path_model = './model/9/pytorch_model.bin'\n",
        "path_bpe = './PhoBERT_base_transformers/bpe.codes'\n",
        "path_vocab = './PhoBERT_base_transformers/dict.txt'\n",
        "from transformers import RobertaForSequenceClassification, RobertaConfig, AdamW\n",
        "from tensorflow.keras.preprocessing.sequence import pad_sequences\n",
        "import torch\n",
        "def get_model(path_model= None, path_config = None, path_bpe = None, path_vocab = None):\n",
        "  config = RobertaConfig.from_pretrained(\n",
        "      path_config, from_tf=False, num_labels = 8, output_hidden_states=False\n",
        "  )\n",
        "  BERT_SA_NEW = RobertaForSequenceClassification.from_pretrained(\n",
        "      path_model,\n",
        "      ignore_mismatched_sizes=True,\n",
        "      config=config\n",
        "  )\n",
        "  # BERT_SA_NEW.cuda()\n",
        "  BERT_SA_NEW.eval()\n",
        "\n",
        "\n",
        "  try:\n",
        "    parser = argparse.ArgumentParser()\n",
        "    parser.add_argument('--bpe-codes', \n",
        "        default=path_bpe,\n",
        "        required=False,\n",
        "        type=str,\n",
        "        help='path to fastBPE BPE'\n",
        "    )\n",
        "    args, unknown = parser.parse_known_args()\n",
        "    bpe = fastBPE(args)\n",
        "  except:\n",
        "    bpe = None\n",
        "    print(\"load bpe fail\")\n",
        "\n",
        "  try:\n",
        "    vocab = Dictionary()\n",
        "    vocab.add_from_file(path_vocab)\n",
        "  except:\n",
        "    vocab=None\n",
        "    print('load vocab fail')\n",
        "  return BERT_SA_NEW, bpe, vocab\n",
        "\n",
        "model, bpe, vocab = get_model(path_model, path_config, path_bpe, path_vocab)"
      ]
    },
    {
      "cell_type": "code",
      "execution_count": null,
      "metadata": {
        "id": "kUuR27sGD7PO"
      },
      "outputs": [],
      "source": [
        "def predict(model, bpe, sense, vocab):\n",
        "  subwords = '<s> ' + bpe.encode(sense) + ' </s>'\n",
        "  encoded_sent = vocab.encode_line(subwords, append_eos=True, add_if_not_exist=False).long().tolist()\n",
        "  encoded_sent = pad_sequences([encoded_sent], maxlen=195, dtype=\"long\", value=0, truncating=\"post\", padding=\"post\")\n",
        "  mask = [int(token_id > 0) for token_id in encoded_sent[0]]\n",
        "\n",
        "\n",
        "  # encoded_sent = torch.tensor(encoded_sent).cuda()\n",
        "  # mask = torch.tensor(mask).cuda()\n",
        "  encoded_sent = torch.tensor(encoded_sent)\n",
        "  mask = torch.tensor(mask)\n",
        "  encoded_sent = torch.reshape(encoded_sent, (1, 195))\n",
        "  mask = torch.reshape(mask, (1, 195))\n",
        "\n",
        "  with torch.no_grad():\n",
        "    outputs = model(encoded_sent, \n",
        "      token_type_ids=None, \n",
        "      attention_mask=mask)\n",
        "    logits = outputs[0]\n",
        "  return int(torch.argmax(logits))"
      ]
    },
    {
      "cell_type": "code",
      "execution_count": null,
      "metadata": {
        "id": "enp-lZwkD-wu"
      },
      "outputs": [],
      "source": [
        "sent = 'một lí do trong muôn vàn lí do'\n",
        "predict(model, bpe, sent, vocab)"
      ]
    }
  ],
  "metadata": {
    "accelerator": "GPU",
    "colab": {
      "collapsed_sections": [],
      "machine_shape": "hm",
      "name": "ModelV1_1.ipynb",
      "provenance": [],
      "toc_visible": true
    },
    "gpuClass": "standard",
    "kernelspec": {
      "display_name": "Python 3.8.13 (conda)",
      "language": "python",
      "name": "python3"
    },
    "language_info": {
      "codemirror_mode": {
        "name": "ipython",
        "version": 3
      },
      "file_extension": ".py",
      "mimetype": "text/x-python",
      "name": "python",
      "nbconvert_exporter": "python",
      "pygments_lexer": "ipython3",
      "version": "3.8.13"
    },
    "vscode": {
      "interpreter": {
        "hash": "36b5d234dcadb63a5dcffe129e6467f293a83c75bbea9a5662c39cecefcc4dbb"
      }
    }
  },
  "nbformat": 4,
  "nbformat_minor": 0
}
