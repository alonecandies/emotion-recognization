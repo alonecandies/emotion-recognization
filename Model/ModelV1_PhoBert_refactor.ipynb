{
 "cells": [
  {
   "cell_type": "markdown",
   "metadata": {},
   "source": [
    "## Instal requirements"
   ]
  },
  {
   "cell_type": "code",
   "execution_count": null,
   "metadata": {},
   "outputs": [],
   "source": [
    "!pip install transformers\n",
    "!pip install fastBPE\n",
    "!pip install fairseq\n",
    "!pip install vncorenlp\n",
    "!pip install scikit-learn"
   ]
  },
  {
   "cell_type": "code",
   "execution_count": null,
   "metadata": {},
   "outputs": [],
   "source": [
    "!mkdir -p vncorenlp/models/wordsegmenter\n",
    "!wget https://raw.githubusercontent.com/vncorenlp/VnCoreNLP/master/VnCoreNLP-1.1.1.jar\n",
    "!wget https://raw.githubusercontent.com/vncorenlp/VnCoreNLP/master/models/wordsegmenter/vi-vocab\n",
    "!wget https://raw.githubusercontent.com/vncorenlp/VnCoreNLP/master/models/wordsegmenter/wordsegmenter.rdr\n",
    "!mv VnCoreNLP-1.1.1.jar vncorenlp/\n",
    "!mv vi-vocab vncorenlp/models/wordsegmenter/\n",
    "!mv wordsegmenter.rdr vncorenlp/models/wordsegmenter/\n"
   ]
  },
  {
   "cell_type": "code",
   "execution_count": null,
   "metadata": {
    "id": "w3Be1B4QsXXk"
   },
   "outputs": [],
   "source": [
    "!wget https://public.vinai.io/PhoBERT_base_transformers.tar.gz\n",
    "!tar -xzvf PhoBERT_base_transformers.tar.gz\n",
    "!rm -rf PhoBERT_base_transformers.tar.gz"
   ]
  },
  {
   "cell_type": "code",
   "execution_count": null,
   "metadata": {
    "id": "JemZ4tgeWpWU"
   },
   "outputs": [],
   "source": [
    "!wget https://public.vinai.io/PhoBERT_large_transformers.tar.gz\n",
    "!tar -xzvf PhoBERT_large_transformers.tar.gz\n",
    "!rm -rf PhoBERT_large_transformers.tar.gz"
   ]
  },
  {
   "cell_type": "code",
   "execution_count": null,
   "metadata": {
    "id": "qqpoVnv6sZfV"
   },
   "outputs": [],
   "source": [
    "!wget https://public.vinai.io/PhoBERT_base_fairseq.tar.gz\n",
    "!tar -xzvf PhoBERT_base_fairseq.tar.gz\n",
    "!rm -rf PhoBERT_base_fairseq.tar.gz"
   ]
  },
  {
   "cell_type": "markdown",
   "metadata": {},
   "source": [
    "## Import dependencies"
   ]
  },
  {
   "cell_type": "code",
   "execution_count": 27,
   "metadata": {
    "id": "oyjiNnxOq8FW"
   },
   "outputs": [],
   "source": [
    "import pandas as pd\n",
    "import re\n",
    "import sqlite3\n",
    "import string\n",
    "import pickle\n",
    "import seaborn as sns\n",
    "from vncorenlp import VnCoreNLP\n",
    "from fairseq.data.encoders.fastbpe import fastBPE\n",
    "from fairseq.data import Dictionary\n",
    "import argparse\n",
    "from transformers import RobertaForSequenceClassification, RobertaConfig, AdamW\n",
    "from tensorflow.keras.preprocessing.sequence import pad_sequences\n",
    "import torch\n",
    "import matplotlib.pyplot as plt\n",
    "import numpy as np\n",
    "from sklearn.metrics import f1_score, accuracy_score\n",
    "import random\n",
    "import time\n",
    "# from tqdm import tqdm_notebook\n",
    "from tqdm.notebook import tqdm\n",
    "from torch.utils.data import TensorDataset, DataLoader, RandomSampler\n"
   ]
  },
  {
   "cell_type": "code",
   "execution_count": 28,
   "metadata": {},
   "outputs": [],
   "source": [
    "conn_train = sqlite3.connect(\"../Data/generate_data/data_train.db\")\n",
    "crs_train = conn_train.cursor()\n",
    "data_train = pd.read_sql_query(\"SELECT * FROM data\", conn_train) \n",
    "\n",
    "conn_test = sqlite3.connect(\"../Data/generate_data/data_test.db\")\n",
    "crs_test = conn_test.cursor()\n",
    "data_test = pd.read_sql_query(\"SELECT * FROM data\", conn_test)\n"
   ]
  },
  {
   "cell_type": "code",
   "execution_count": 29,
   "metadata": {
    "id": "yRh_F7Q0rPEG"
   },
   "outputs": [],
   "source": [
    "train_data = pd.DataFrame()\n",
    "train_data['title'] = data_train.Posts\n",
    "train_data['label'] = data_train['Emotion']\n",
    "\n",
    "test_data = pd.DataFrame()\n",
    "test_data['title'] = data_test.Posts\n",
    "test_data['label'] = data_test['Emotion']"
   ]
  },
  {
   "cell_type": "code",
   "execution_count": 30,
   "metadata": {},
   "outputs": [
    {
     "data": {
      "text/plain": [
       "<AxesSubplot:xlabel='label', ylabel='count'>"
      ]
     },
     "execution_count": 30,
     "metadata": {},
     "output_type": "execute_result"
    },
    {
     "data": {
      "image/png": "[encoded data removed]",
      "text/plain": [
       "<Figure size 640x480 with 1 Axes>"
      ]
     },
     "metadata": {},
     "output_type": "display_data"
    }
   ],
   "source": [
    "sns.countplot(data=train_data, x='label')"
   ]
  },
  {
   "cell_type": "code",
   "execution_count": 31,
   "metadata": {
    "id": "mymjJ5ucsTts"
   },
   "outputs": [
    {
     "name": "stderr",
     "output_type": "stream",
     "text": [
      "2022-11-07 18:44:30 | INFO | vncorenlp.vncorenlp | Starting server on: http://127.0.0.1:58101\n",
      "2022-11-07 18:44:30 | INFO | vncorenlp.vncorenlp | Server ID: 47965\n",
      "2022-11-07 18:44:30 | INFO | vncorenlp.vncorenlp | Waiting until the server is available...\n",
      "2022-11-07 18:44:35 | INFO | vncorenlp.vncorenlp | The server is now available on: http://127.0.0.1:58101\n"
     ]
    }
   ],
   "source": [
    "rdrsegmenter = VnCoreNLP(\"./vncorenlp/VnCoreNLP-1.1.1.jar\", annotators=\"wseg\", max_heap_size='-Xmx500m')"
   ]
  },
  {
   "cell_type": "code",
   "execution_count": 32,
   "metadata": {
    "id": "iTPWNfQZsbQc"
   },
   "outputs": [
    {
     "name": "stderr",
     "output_type": "stream",
     "text": [
      "Loading codes from ./PhoBERT_base_transformers/bpe.codes ...\n",
      "Read 64000 codes from the codes file.\n"
     ]
    }
   ],
   "source": [
    "parser = argparse.ArgumentParser()\n",
    "parser.add_argument('--bpe-codes', \n",
    "    default=\"./PhoBERT_base_transformers/bpe.codes\",\n",
    "    # default=\"./PhoBERT_large_transformers/bpe.codes\",\n",
    "    required=False,\n",
    "    type=str,\n",
    "    help='path to fastBPE BPE'\n",
    ")\n",
    "args, unknown = parser.parse_known_args()\n",
    "bpe = fastBPE(args)\n",
    "\n",
    "# Load the dictionary\n",
    "vocab = Dictionary()\n",
    "vocab.add_from_file(\"./PhoBERT_base_transformers/dict.txt\")\n",
    "# vocab.add_from_file(\"./PhoBERT_large_transformers/dict.txt\")"
   ]
  },
  {
   "cell_type": "code",
   "execution_count": 33,
   "metadata": {},
   "outputs": [],
   "source": [
    "def removeStopWord():\n",
    "   f = open(\"../StopWords/vietnamese-stopwords-dash.txt\", \"r\")\n",
    "   stopWords = f.readlines()\n",
    "   for idx,line  in enumerate(stopWords):\n",
    "      stopWords[idx] = line.replace(\"\\n\", \"\").strip()\n",
    "      if (len(stopWords[idx]) <= 0):\n",
    "         stopWords.pop(idx)\n",
    "   return stopWords\n",
    "\n",
    "stopWords = removeStopWord()"
   ]
  },
  {
   "cell_type": "code",
   "execution_count": 34,
   "metadata": {},
   "outputs": [],
   "source": [
    "def remove_emoji(string):\n",
    "    emoji_pattern = re.compile(\"[\"\n",
    "                               u\"\\U0001F600-\\U0001F64F\"  # emoticons\n",
    "                               u\"\\U0001F300-\\U0001F5FF\"  # symbols & pictographs\n",
    "                               u\"\\U0001F680-\\U0001F6FF\"  # transport & map symbols\n",
    "                               u\"\\U0001F1E0-\\U0001F1FF\"  # flags (iOS)\n",
    "                               u\"\\U00002500-\\U00002BEF\"  # chinese char\n",
    "                               u\"\\U00002702-\\U000027B0\"\n",
    "                               u\"\\U00002702-\\U000027B0\"\n",
    "                               u\"\\U000024C2-\\U0001F251\"\n",
    "                               u\"\\U0001f926-\\U0001f937\"\n",
    "                               u\"\\U00010000-\\U0010ffff\"\n",
    "                               u\"\\u2640-\\u2642\"\n",
    "                               u\"\\u2600-\\u2B55\"\n",
    "                               u\"\\u200d\"\n",
    "                               u\"\\u23cf\"\n",
    "                               u\"\\u23e9\"\n",
    "                               u\"\\u231a\"\n",
    "                               u\"\\ufe0f\"  # dingbats\n",
    "                               u\"\\u3030\"\n",
    "                               \"]+\", flags=re.UNICODE)\n",
    "    return emoji_pattern.sub(r'', string)\n"
   ]
  },
  {
   "cell_type": "code",
   "execution_count": 35,
   "metadata": {},
   "outputs": [],
   "source": [
    "with open('../Emoticon_Dict.p', 'rb') as fp:\n",
    "    Emoticon_Dict = pickle.load(fp)\n",
    "\n",
    "def remove_emoticons(text):\n",
    "    emoticon_pattern = re.compile(\n",
    "        u'(' + u'|'.join(k for k in Emoticon_Dict) + u')')\n",
    "    return emoticon_pattern.sub(r'', text)\n"
   ]
  },
  {
   "cell_type": "code",
   "execution_count": null,
   "metadata": {
    "id": "nr6JR50jrk_1"
   },
   "outputs": [],
   "source": [
    "train_text = train_data['title'].to_list()\n",
    "train_labels = train_data['label'].to_list()\n",
    "train_text = [re.sub(r'^\\s+|\\s+$', '', str(t)) for t in train_text]\n",
    "train_text = [str(t).strip() for t in train_text]\n",
    "train_text = [re.sub(r'\\s\\s+', ' ', str(t)) for t in train_text]\n",
    "train_text = [re.sub(r'\\n', ' ', str(t)) for t in train_text]\n",
    "train_text = [re.sub(r'\\d+', '', str(t)) for t in train_text]\n",
    "train_text = [re.sub(r'http\\S+', '', str(t)) for t in train_text]\n",
    "train_text = [remove_emoji(str(t)) for t in train_text]\n",
    "train_text = [remove_emoticons(str(t)) for t in train_text]\n",
    "train_text = [rdrsegmenter.tokenize(t) for t in train_text]\n",
    "for idx, text in enumerate(train_text):\n",
    "   for idx2, text2 in enumerate(text):\n",
    "         for idx3, text3 in enumerate(text2):\n",
    "            if text3 in stopWords:\n",
    "               text2.pop(idx3)\n",
    "         if len(text2) <= 0:\n",
    "            text.pop(idx2)\n",
    "   if len(text) <= 0:\n",
    "      train_text.pop(idx)\n",
    "      train_labels.pop(idx)\n",
    "for idx, text in enumerate(train_text):\n",
    "   tmp = []\n",
    "   for idx2, text2 in enumerate(text):\n",
    "      tmp2 = []\n",
    "      for idx3, text3 in enumerate(text2):\n",
    "         if not text3.startswith(\"'\") and text3 not in string.punctuation:\n",
    "            tmp2.append(\" \"+text3)\n",
    "         else:\n",
    "            tmp2.append(text3)\n",
    "         # if text3 not in string.punctuation:\n",
    "         #    tmp2.append(\" \"+text3)\n",
    "      tmp.append(\"\".join(tmp2).strip())\n",
    "   train_text[idx] = \" \".join(tmp).strip()\n",
    "# train_text = [str(t).lower() for t in train_text]\n",
    "\n",
    "test_text = test_data['title'].to_list()\n",
    "test_labels = test_data['label'].to_list()\n",
    "test_text = [re.sub(r'^\\s+|\\s+$', '', str(t)) for t in test_text]\n",
    "test_text = [str(t).strip() for t in test_text]\n",
    "test_text = [re.sub(r'\\s\\s+', ' ', str(t)) for t in test_text]\n",
    "test_text = [re.sub(r'\\n', ' ', str(t)) for t in test_text]\n",
    "test_text = [re.sub(r'\\d+', '', str(t)) for t in test_text]\n",
    "test_text = [re.sub(r'http\\S+', '', str(t)) for t in test_text]\n",
    "test_text = [remove_emoji(str(t)) for t in test_text]\n",
    "test_text = [remove_emoticons(str(t)) for t in test_text]\n",
    "test_text = [rdrsegmenter.tokenize(t) for t in test_text]\n",
    "for idx, text in enumerate(test_text):\n",
    "   for idx2, text2 in enumerate(text):\n",
    "         for idx3, text3 in enumerate(text2):\n",
    "            if text3 in stopWords:\n",
    "               text2.pop(idx3)\n",
    "         if len(text2) <= 0:\n",
    "            text.pop(idx2)\n",
    "   if len(text) <= 0:\n",
    "      test_text.pop(idx)\n",
    "      test_labels.pop(idx)\n",
    "for idx, text in enumerate(test_text):\n",
    "   tmp = []\n",
    "   for idx2, text2 in enumerate(text):\n",
    "      tmp2 = []\n",
    "      for idx3, text3 in enumerate(text2):\n",
    "         if not text3.startswith(\"'\") and text3 not in string.punctuation:\n",
    "            tmp2.append(\" \"+text3)\n",
    "         else:\n",
    "            tmp2.append(text3)\n",
    "         # if text3 not in string.punctuation:\n",
    "         #    tmp2.append(\" \"+text3)\n",
    "      tmp.append(\"\".join(tmp2).strip())\n",
    "   test_text[idx] = \" \".join(tmp).strip()\n",
    "# test_text = [str(t).lower() for t in test_text]"
   ]
  },
  {
   "cell_type": "code",
   "execution_count": 37,
   "metadata": {},
   "outputs": [],
   "source": [
    "train_sents = train_text\n",
    "train_labels = train_labels\n",
    "val_sents = test_text\n",
    "val_labels = test_labels"
   ]
  },
  {
   "cell_type": "code",
   "execution_count": 38,
   "metadata": {
    "id": "BbLSz7a9snWE"
   },
   "outputs": [],
   "source": [
    "MAX_LEN = 128\n",
    "\n",
    "train_ids = []\n",
    "for sent in train_sents:\n",
    "    subwords = '<s> ' + bpe.encode(sent) + ' </s>'\n",
    "    encoded_sent = vocab.encode_line(subwords, append_eos=True, add_if_not_exist=False).long().tolist()\n",
    "    train_ids.append(encoded_sent)\n",
    "\n",
    "val_ids = []\n",
    "for sent in val_sents:\n",
    "    subwords = '<s> ' + bpe.encode(sent) + ' </s>'\n",
    "    encoded_sent = vocab.encode_line(subwords, append_eos=True, add_if_not_exist=False).long().tolist()\n",
    "    val_ids.append(encoded_sent)\n",
    "    \n",
    "train_ids = pad_sequences(train_ids, maxlen=MAX_LEN, dtype=\"long\", value=0, truncating=\"post\", padding=\"post\")\n",
    "val_ids = pad_sequences(val_ids, maxlen=MAX_LEN, dtype=\"long\", value=0, truncating=\"post\", padding=\"post\")"
   ]
  },
  {
   "cell_type": "code",
   "execution_count": null,
   "metadata": {
    "id": "oDfWMP72spRL"
   },
   "outputs": [],
   "source": [
    "train_masks = []\n",
    "for sent in train_ids:\n",
    "    mask = [int(token_id > 0) for token_id in sent]\n",
    "    train_masks.append(mask)\n",
    "\n",
    "val_masks = []\n",
    "for sent in val_ids:\n",
    "    mask = [int(token_id > 0) for token_id in sent]\n",
    "    val_masks.append(mask)"
   ]
  },
  {
   "cell_type": "code",
   "execution_count": null,
   "metadata": {
    "id": "4iJ5npuAsrOU"
   },
   "outputs": [],
   "source": [
    "\n",
    "# device = torch.device(\"mps\" if torch.has_mps else \"cpu\")\n",
    "device = \"cpu\"\n",
    "train_inputs = torch.tensor(train_ids, device=device)\n",
    "val_inputs = torch.tensor(val_ids, device=device)\n",
    "train_labels = torch.tensor(train_labels, device=device)\n",
    "val_labels = torch.tensor(val_labels, device=device)\n",
    "train_masks = torch.tensor(train_masks, device=device)\n",
    "val_masks = torch.tensor(val_masks, device=device)\n",
    "\n",
    "train_data = TensorDataset(train_inputs, train_masks, train_labels)\n",
    "train_sampler = RandomSampler(train_data)\n",
    "train_dataloader = DataLoader(train_data, sampler=train_sampler, batch_size=50)\n",
    "val_data = TensorDataset(val_inputs, val_masks, val_labels)\n",
    "val_sampler = RandomSampler(val_data)\n",
    "val_dataloader = DataLoader(val_data, sampler=val_sampler, batch_size=50)"
   ]
  },
  {
   "cell_type": "code",
   "execution_count": null,
   "metadata": {
    "id": "LOZy950tss38"
   },
   "outputs": [
    {
     "name": "stderr",
     "output_type": "stream",
     "text": [
      "You are using a model of type bert to instantiate a model of type roberta. This is not supported for all configurations of models and can yield errors.\n",
      "Some weights of the model checkpoint at ./PhoBERT_base_transformers/model.bin were not used when initializing RobertaForSequenceClassification: ['lm_head.dense.bias', 'lm_head.layer_norm.bias', 'lm_head.decoder.weight', 'lm_head.decoder.bias', 'roberta.pooler.dense.weight', 'lm_head.dense.weight', 'lm_head.bias', 'lm_head.layer_norm.weight', 'roberta.pooler.dense.bias']\n",
      "- This IS expected if you are initializing RobertaForSequenceClassification from the checkpoint of a model trained on another task or with another architecture (e.g. initializing a BertForSequenceClassification model from a BertForPreTraining model).\n",
      "- This IS NOT expected if you are initializing RobertaForSequenceClassification from the checkpoint of a model that you expect to be exactly identical (initializing a BertForSequenceClassification model from a BertForSequenceClassification model).\n",
      "Some weights of RobertaForSequenceClassification were not initialized from the model checkpoint at ./PhoBERT_base_transformers/model.bin and are newly initialized: ['classifier.out_proj.bias', 'classifier.out_proj.weight', 'classifier.dense.weight', 'classifier.dense.bias']\n",
      "You should probably TRAIN this model on a down-stream task to be able to use it for predictions and inference.\n"
     ]
    }
   ],
   "source": [
    "config = RobertaConfig.from_pretrained(\n",
    "    \"./PhoBERT_base_transformers/config.json\"\n",
    "    # \"./PhoBERT_large_transformers/config.json\"\n",
    "    , from_tf=False, num_labels = 6, output_hidden_states=False\n",
    ")\n",
    "BERT_SA = RobertaForSequenceClassification.from_pretrained(\n",
    "    \"./PhoBERT_base_transformers/model.bin\",\n",
    "    # \"./PhoBERT_large_transformers/model.bin\",\n",
    "    config = config\n",
    ")"
   ]
  },
  {
   "cell_type": "code",
   "execution_count": null,
   "metadata": {
    "id": "zxoOmF91swPM"
   },
   "outputs": [],
   "source": [
    "def flat_accuracy(preds, labels):\n",
    "    pred_flat = np.argmax(preds, axis=1).flatten()\n",
    "    labels_flat = labels.flatten()\n",
    "    \n",
    "    F1_score = f1_score(pred_flat, labels_flat, average='macro')\n",
    "    \n",
    "    return accuracy_score(pred_flat, labels_flat), F1_score"
   ]
  },
  {
   "cell_type": "code",
   "execution_count": null,
   "metadata": {
    "id": "jai8BmMxsyyU"
   },
   "outputs": [
    {
     "name": "stdout",
     "output_type": "stream",
     "text": [
      "======== Epoch 1 / 5 ========\n",
      "Training...\n"
     ]
    },
    {
     "name": "stderr",
     "output_type": "stream",
     "text": [
      "/Users/maddie/Desktop/DATN/HoangPhiLong/Code/env/lib/python3.8/site-packages/transformers/optimization.py:306: FutureWarning: This implementation of AdamW is deprecated and will be removed in a future version. Use the PyTorch implementation torch.optim.AdamW instead, or set `no_deprecation_warning=True` to disable this warning\n",
      "  warnings.warn(\n"
     ]
    },
    {
     "data": {
      "application/vnd.jupyter.widget-view+json": {
       "model_id": "a900cf9ed3394f21844b15639010b8a3",
       "version_major": 2,
       "version_minor": 0
      },
      "text/plain": [
       "  0%|          | 0/170 [00:00<?, ?it/s]"
      ]
     },
     "metadata": {},
     "output_type": "display_data"
    },
    {
     "name": "stdout",
     "output_type": "stream",
     "text": [
      " Accuracy: 0.1766\n",
      " F1 score: 0.1560\n",
      " Average training loss: 1.7932\n",
      "Running Validation...\n"
     ]
    },
    {
     "data": {
      "application/vnd.jupyter.widget-view+json": {
       "model_id": "d5472eb415154e94844fb93699a82c9d",
       "version_major": 2,
       "version_minor": 0
      },
      "text/plain": [
       "  0%|          | 0/31 [00:00<?, ?it/s]"
      ]
     },
     "metadata": {},
     "output_type": "display_data"
    },
    {
     "name": "stdout",
     "output_type": "stream",
     "text": [
      "logits:    [1]\n",
      "labels_id: [1]\n",
      " Accuracy: 0.1929\n",
      " F1 score: 0.1805\n",
      "======== Epoch 2 / 5 ========\n",
      "Training...\n"
     ]
    },
    {
     "data": {
      "application/vnd.jupyter.widget-view+json": {
       "model_id": "35cc3056e16b418ea27e69aef4b653e2",
       "version_major": 2,
       "version_minor": 0
      },
      "text/plain": [
       "  0%|          | 0/170 [00:00<?, ?it/s]"
      ]
     },
     "metadata": {},
     "output_type": "display_data"
    },
    {
     "name": "stdout",
     "output_type": "stream",
     "text": [
      " Accuracy: 0.1719\n",
      " F1 score: 0.1616\n",
      " Average training loss: 1.7920\n",
      "Running Validation...\n"
     ]
    },
    {
     "data": {
      "application/vnd.jupyter.widget-view+json": {
       "model_id": "3057cfe987a642d7ac2e99f920da1625",
       "version_major": 2,
       "version_minor": 0
      },
      "text/plain": [
       "  0%|          | 0/31 [00:00<?, ?it/s]"
      ]
     },
     "metadata": {},
     "output_type": "display_data"
    },
    {
     "name": "stdout",
     "output_type": "stream",
     "text": [
      "logits:    [1]\n",
      "labels_id: [3]\n",
      " Accuracy: 0.1542\n",
      " F1 score: 0.1402\n",
      "======== Epoch 3 / 5 ========\n",
      "Training...\n"
     ]
    },
    {
     "data": {
      "application/vnd.jupyter.widget-view+json": {
       "model_id": "5e1d484918d441d5b0fd173c12a97a3c",
       "version_major": 2,
       "version_minor": 0
      },
      "text/plain": [
       "  0%|          | 0/170 [00:00<?, ?it/s]"
      ]
     },
     "metadata": {},
     "output_type": "display_data"
    },
    {
     "name": "stdout",
     "output_type": "stream",
     "text": [
      " Accuracy: 0.1858\n",
      " F1 score: 0.1755\n",
      " Average training loss: 1.7870\n",
      "Running Validation...\n"
     ]
    },
    {
     "data": {
      "application/vnd.jupyter.widget-view+json": {
       "model_id": "36294d79a8194604957107dad89022f0",
       "version_major": 2,
       "version_minor": 0
      },
      "text/plain": [
       "  0%|          | 0/31 [00:00<?, ?it/s]"
      ]
     },
     "metadata": {},
     "output_type": "display_data"
    },
    {
     "name": "stdout",
     "output_type": "stream",
     "text": [
      "logits:    [5]\n",
      "labels_id: [5]\n",
      " Accuracy: 0.1916\n",
      " F1 score: 0.1705\n",
      "======== Epoch 4 / 5 ========\n",
      "Training...\n"
     ]
    },
    {
     "data": {
      "application/vnd.jupyter.widget-view+json": {
       "model_id": "d423a26d9632401abd7d235320004ca8",
       "version_major": 2,
       "version_minor": 0
      },
      "text/plain": [
       "  0%|          | 0/170 [00:00<?, ?it/s]"
      ]
     },
     "metadata": {},
     "output_type": "display_data"
    },
    {
     "name": "stdout",
     "output_type": "stream",
     "text": [
      " Accuracy: 0.1834\n",
      " F1 score: 0.1726\n",
      " Average training loss: 1.7850\n",
      "Running Validation...\n"
     ]
    },
    {
     "data": {
      "application/vnd.jupyter.widget-view+json": {
       "model_id": "bd35daac15554243a9fedb1ff5b561a3",
       "version_major": 2,
       "version_minor": 0
      },
      "text/plain": [
       "  0%|          | 0/31 [00:00<?, ?it/s]"
      ]
     },
     "metadata": {},
     "output_type": "display_data"
    },
    {
     "name": "stdout",
     "output_type": "stream",
     "text": [
      "logits:    [2]\n",
      "labels_id: [1]\n",
      " Accuracy: 0.1710\n",
      " F1 score: 0.1476\n",
      "======== Epoch 5 / 5 ========\n",
      "Training...\n"
     ]
    },
    {
     "data": {
      "application/vnd.jupyter.widget-view+json": {
       "model_id": "c79607f3255c4b1ebfb7e4f7d0c66e03",
       "version_major": 2,
       "version_minor": 0
      },
      "text/plain": [
       "  0%|          | 0/170 [00:00<?, ?it/s]"
      ]
     },
     "metadata": {},
     "output_type": "display_data"
    },
    {
     "name": "stdout",
     "output_type": "stream",
     "text": [
      " Accuracy: 0.1968\n",
      " F1 score: 0.1795\n",
      " Average training loss: 1.7804\n",
      "Running Validation...\n"
     ]
    },
    {
     "data": {
      "application/vnd.jupyter.widget-view+json": {
       "model_id": "2b73cb6513874f14a248fa7d4b4bbdb9",
       "version_major": 2,
       "version_minor": 0
      },
      "text/plain": [
       "  0%|          | 0/31 [00:00<?, ?it/s]"
      ]
     },
     "metadata": {},
     "output_type": "display_data"
    },
    {
     "name": "stdout",
     "output_type": "stream",
     "text": [
      "logits:    [2]\n",
      "labels_id: [1]\n",
      " Accuracy: 0.1677\n",
      " F1 score: 0.1496\n",
      "Training complete!\n",
      "Best Valid acc : 0.19290322580645164, epoch: 1\n",
      "elapsed_time:1316.4799537658691[sec]\n"
     ]
    }
   ],
   "source": [
    "# device = torch.device(\"mps\" if torch.has_mps else \"cpu\")\n",
    "device = \"cpu\"\n",
    "epochs = 5\n",
    "max = 0\n",
    "\n",
    "param_optimizer = list(BERT_SA.named_parameters())\n",
    "no_decay = ['bias', 'LayerNorm.bias', 'LayerNorm.weight']\n",
    "optimizer_grouped_parameters = [\n",
    "    {'params': [p for n, p in param_optimizer if not any(\n",
    "        nd in n for nd in no_decay)], 'weight_decay': 0.0},\n",
    "    {'params': [p for n, p in param_optimizer if any(\n",
    "        nd in n for nd in no_decay)], 'weight_decay': 0.0}\n",
    "]\n",
    "\n",
    "optimizer = AdamW(optimizer_grouped_parameters, lr=5e-7, correct_bias=False)\n",
    "\n",
    "echo = []\n",
    "acc = []\n",
    "acc_val = []\n",
    "av_loss = []\n",
    "f1 = []\n",
    "f1_val = []\n",
    "start_time = time.time()\n",
    "e = 0\n",
    "for epoch_i in range(0, epochs):\n",
    "    print('======== Epoch {:} / {:} ========'.format(epoch_i + 1, epochs))\n",
    "    print('Training...')\n",
    "\n",
    "    echo.append(epoch_i)\n",
    "\n",
    "    total_loss = 0\n",
    "    BERT_SA.train()\n",
    "    train_accuracy = 0\n",
    "    nb_train_steps = 0\n",
    "    train_f1 = 0\n",
    "\n",
    "    for step, batch in tqdm(enumerate(train_dataloader), total=len(train_dataloader)):\n",
    "        b_input_ids = batch[0].to(device)\n",
    "        b_input_mask = batch[1].to(device)\n",
    "        b_labels = batch[2].to(device)\n",
    "        # print(b_labels)\n",
    "        BERT_SA.zero_grad()\n",
    "        outputs = BERT_SA(b_input_ids,\n",
    "                          token_type_ids=None,\n",
    "                          attention_mask=b_input_mask,\n",
    "                          labels=b_labels)\n",
    "        loss = outputs[0]\n",
    "        # print(outputs)\n",
    "        total_loss += loss.item()\n",
    "\n",
    "        logits = outputs[1].detach().cpu().numpy()\n",
    "        label_ids = b_labels.to('cpu').numpy()\n",
    "        tmp_train_accuracy, tmp_train_f1 = flat_accuracy(logits, label_ids)\n",
    "        train_accuracy += tmp_train_accuracy\n",
    "        train_f1 += tmp_train_f1\n",
    "        nb_train_steps += 1\n",
    "\n",
    "        loss.backward()\n",
    "        torch.nn.utils.clip_grad_norm_(BERT_SA.parameters(), 1.0)\n",
    "        optimizer.step()\n",
    "\n",
    "    avg_train_loss = total_loss / len(train_dataloader)\n",
    "\n",
    "    print(\" Accuracy: {0:.4f}\".format(train_accuracy/nb_train_steps))\n",
    "    acc.append(float(\"{:.4f}\".format(train_accuracy/nb_train_steps)))\n",
    "\n",
    "    print(\" F1 score: {0:.4f}\".format(train_f1/nb_train_steps))\n",
    "    f1.append(float(\"{:.4f}\".format(train_f1/nb_train_steps)))\n",
    "\n",
    "    print(\" Average training loss: {0:.4f}\".format(avg_train_loss))\n",
    "    av_loss.append(float(\"{:.4f}\".format(avg_train_loss)))\n",
    "\n",
    "    BERT_SA.save_pretrained('./model/{}'.format(epoch_i+1))\n",
    "    print(\"Running Validation...\")\n",
    "    BERT_SA.eval()\n",
    "    eval_loss, eval_accuracy = 0, 0\n",
    "    nb_eval_steps, nb_eval_examples = 0, 0\n",
    "    eval_f1 = 0\n",
    "    for batch in tqdm(val_dataloader, total=len(val_dataloader)):\n",
    "\n",
    "        batch = tuple(t.to(device) for t in batch)\n",
    "\n",
    "        b_input_ids, b_input_mask, b_labels = batch\n",
    "        # print(b_labels)\n",
    "\n",
    "        with torch.no_grad():\n",
    "            outputs = BERT_SA(b_input_ids,\n",
    "                              token_type_ids=None,\n",
    "                              attention_mask=b_input_mask)\n",
    "            logits = outputs[0]\n",
    "            # loss_val=outputs[0]\n",
    "            logits = logits.detach().cpu().numpy()\n",
    "            label_ids = b_labels.to('cpu').numpy()\n",
    "            # print(logits)\n",
    "            # print(label_ids)\n",
    "\n",
    "            tmp_eval_accuracy, tmp_eval_f1 = flat_accuracy(logits, label_ids)\n",
    "\n",
    "            eval_accuracy += tmp_eval_accuracy\n",
    "            eval_f1 += tmp_eval_f1\n",
    "            nb_eval_steps += 1\n",
    "    if max < eval_accuracy/nb_eval_steps:\n",
    "        max = eval_accuracy/nb_eval_steps\n",
    "        e = epoch_i\n",
    "    print('logits:    {}'.format(np.argmax(logits, axis=1).flatten()))\n",
    "    print('labels_id: {}'.format(label_ids))\n",
    "\n",
    "    print(\" Accuracy: {0:.4f}\".format(eval_accuracy/nb_eval_steps))\n",
    "    acc_val.append(float(\"{:.4f}\".format(eval_accuracy/nb_eval_steps)))\n",
    "\n",
    "    print(\" F1 score: {0:.4f}\".format(eval_f1/nb_eval_steps))\n",
    "    f1_val.append(float(\"{:.4f}\".format(eval_f1/nb_eval_steps)))\n",
    "print(\"Training complete!\")\n",
    "print('Best Valid acc : {}, epoch: {}'.format(max, e+1))\n",
    "end_time = time.time()\n",
    "elapsed_time = end_time - start_time\n",
    "print(\"elapsed_time:{0}\".format(elapsed_time) + \"[sec]\")\n"
   ]
  },
  {
   "cell_type": "markdown",
   "metadata": {
    "id": "e9ps50gI-quK"
   },
   "source": [
    "### `***ACC, F1, Loss***`\n",
    "echo = []\n",
    "acc = []\n",
    "acc_val = []\n",
    "av_loss = []\n",
    "f1 = []\n",
    "f1_val = []"
   ]
  },
  {
   "cell_type": "code",
   "execution_count": null,
   "metadata": {
    "id": "YYwE2jHvdGpx"
   },
   "outputs": [],
   "source": [
    "# echo_old = echo\n",
    "# acc_old = acc\n",
    "# acc_val_old = acc_val\n",
    "# av_loss_old = av_loss\n",
    "# f1_old = f1\n",
    "# f1_val_old = f1_val\n",
    "\n",
    "# echo_old.extend(echo)\n",
    "# acc_old.extend(acc)\n",
    "# acc_val_old.extend(acc_val)\n",
    "# av_loss_old = av_loss\n",
    "# f1_old = f1\n",
    "# f1_val_old = f1_val\n",
    "\n",
    "# print(echo_old)\n",
    "# print(acc_old)\n",
    "# print(acc_val_old) \n",
    "# print(av_loss_old) \n",
    "# print(f1_old) \n",
    "# print(f1_val_old) "
   ]
  },
  {
   "cell_type": "code",
   "execution_count": null,
   "metadata": {
    "id": "e1QuWEvh-y5P"
   },
   "outputs": [
    {
     "data": {
      "image/png": "[encoded data removed]",
      "text/plain": [
       "<Figure size 640x480 with 1 Axes>"
      ]
     },
     "metadata": {},
     "output_type": "display_data"
    }
   ],
   "source": [
    "#ACC train and val\n",
    "plt.plot(echo,acc)\n",
    "plt.plot(echo,acc_val)\n",
    "plt.title('PhoBert model accuracy')\n",
    "plt.ylabel('accuracy')\n",
    "plt.xlabel('epoch')\n",
    "plt.legend(['acc train', 'acc val'], loc='upper left')\n",
    "plt.savefig('./result/ModelV1/acc_200e_6Label_base.png',bbox_inches='tight')\n",
    "plt.show()"
   ]
  },
  {
   "cell_type": "code",
   "execution_count": null,
   "metadata": {
    "id": "9YtCuk3nQEwx"
   },
   "outputs": [
    {
     "data": {
      "image/png": "[encoded data removed]",
      "text/plain": [
       "<Figure size 640x480 with 1 Axes>"
      ]
     },
     "metadata": {},
     "output_type": "display_data"
    }
   ],
   "source": [
    "#F1 train and val\n",
    "plt.plot(echo,f1)\n",
    "plt.plot(echo,f1_val)\n",
    "plt.title('PhoBert model F1')\n",
    "plt.ylabel('f1')\n",
    "plt.xlabel('epoch')\n",
    "plt.legend(['f1 train', 'f1 test'], loc='upper left')\n",
    "plt.savefig('./result/ModelV1/f1_200e_6Label_base.png', bbox_inches='tight')\n",
    "plt.show()"
   ]
  },
  {
   "cell_type": "code",
   "execution_count": null,
   "metadata": {
    "colab": {
     "base_uri": "https://localhost:8080/",
     "height": 294
    },
    "id": "rK5abNkoE2pm",
    "outputId": "0e60dce7-34b8-4a0c-b049-2a9acb94e506"
   },
   "outputs": [
    {
     "data": {
      "image/png": "[encoded data removed]",
      "text/plain": [
       "<Figure size 640x480 with 1 Axes>"
      ]
     },
     "metadata": {},
     "output_type": "display_data"
    }
   ],
   "source": [
    "#Loss\n",
    "\n",
    "plt.plot(echo,av_loss)\n",
    "# plt.plot(echo,y1)\n",
    "plt.title('PhoBert model loss')\n",
    "plt.ylabel('loss')\n",
    "plt.xlabel('epoch')\n",
    "plt.legend(['loss train'], loc='upper left')\n",
    "plt.savefig('./result/ModelV1/loss_200e_6Label_base.png', bbox_inches='tight')\n",
    "plt.show()"
   ]
  },
  {
   "cell_type": "code",
   "execution_count": null,
   "metadata": {
    "id": "71-XfetyCos2"
   },
   "outputs": [],
   "source": [
    "!zip -r ./model.zip ./Deep/modelbert/5"
   ]
  },
  {
   "cell_type": "markdown",
   "metadata": {
    "id": "5IiMD_mADAgm"
   },
   "source": [
    "# ***Test***"
   ]
  },
  {
   "cell_type": "code",
   "execution_count": null,
   "metadata": {
    "id": "36eR6Xy4C_sV"
   },
   "outputs": [],
   "source": [
    "path_config = './model/9/config.json'\n",
    "path_model = './model/9/pytorch_model.bin'\n",
    "path_bpe = './PhoBERT_base_transformers/bpe.codes'\n",
    "path_vocab = './PhoBERT_base_transformers/dict.txt'\n",
    "\n",
    "def get_model(path_model= None, path_config = None, path_bpe = None, path_vocab = None):\n",
    "  config = RobertaConfig.from_pretrained(\n",
    "      path_config, from_tf=False, num_labels = 8, output_hidden_states=False\n",
    "  )\n",
    "  BERT_SA_NEW = RobertaForSequenceClassification.from_pretrained(\n",
    "      path_model,\n",
    "      ignore_mismatched_sizes=True,\n",
    "      config=config\n",
    "  )\n",
    "  # BERT_SA_NEW.cuda()\n",
    "  BERT_SA_NEW.eval()\n",
    "\n",
    "\n",
    "  try:\n",
    "    parser = argparse.ArgumentParser()\n",
    "    parser.add_argument('--bpe-codes', \n",
    "        default=path_bpe,\n",
    "        required=False,\n",
    "        type=str,\n",
    "        help='path to fastBPE BPE'\n",
    "    )\n",
    "    args, unknown = parser.parse_known_args()\n",
    "    bpe = fastBPE(args)\n",
    "  except:\n",
    "    bpe = None\n",
    "    print(\"load bpe fail\")\n",
    "\n",
    "  try:\n",
    "    vocab = Dictionary()\n",
    "    vocab.add_from_file(path_vocab)\n",
    "  except:\n",
    "    vocab=None\n",
    "    print('load vocab fail')\n",
    "  return BERT_SA_NEW, bpe, vocab\n",
    "\n",
    "model, bpe, vocab = get_model(path_model, path_config, path_bpe, path_vocab)"
   ]
  },
  {
   "cell_type": "code",
   "execution_count": null,
   "metadata": {
    "id": "kUuR27sGD7PO"
   },
   "outputs": [],
   "source": [
    "def predict(model, bpe, sense, vocab):\n",
    "  subwords = '<s> ' + bpe.encode(sense) + ' </s>'\n",
    "  encoded_sent = vocab.encode_line(subwords, append_eos=True, add_if_not_exist=False).long().tolist()\n",
    "  encoded_sent = pad_sequences([encoded_sent], maxlen=195, dtype=\"long\", value=0, truncating=\"post\", padding=\"post\")\n",
    "  mask = [int(token_id > 0) for token_id in encoded_sent[0]]\n",
    "\n",
    "\n",
    "  # encoded_sent = torch.tensor(encoded_sent).cuda()\n",
    "  # mask = torch.tensor(mask).cuda()\n",
    "  encoded_sent = torch.tensor(encoded_sent)\n",
    "  mask = torch.tensor(mask)\n",
    "  encoded_sent = torch.reshape(encoded_sent, (1, 195))\n",
    "  mask = torch.reshape(mask, (1, 195))\n",
    "\n",
    "  with torch.no_grad():\n",
    "    outputs = model(encoded_sent, \n",
    "      token_type_ids=None, \n",
    "      attention_mask=mask)\n",
    "    logits = outputs[0]\n",
    "  return int(torch.argmax(logits))"
   ]
  },
  {
   "cell_type": "code",
   "execution_count": null,
   "metadata": {
    "id": "enp-lZwkD-wu"
   },
   "outputs": [],
   "source": [
    "sent = 'một lí do trong muôn vàn lí do'\n",
    "predict(model, bpe, sent, vocab)"
   ]
  }
 ],
 "metadata": {
  "kernelspec": {
   "display_name": "Python 3.8.13 (conda)",
   "language": "python",
   "name": "python3"
  },
  "language_info": {
   "codemirror_mode": {
    "name": "ipython",
    "version": 3
   },
   "file_extension": ".py",
   "mimetype": "text/x-python",
   "name": "python",
   "nbconvert_exporter": "python",
   "pygments_lexer": "ipython3",
   "version": "3.8.13"
  },
  "orig_nbformat": 4,
  "vscode": {
   "interpreter": {
    "hash": "36b5d234dcadb63a5dcffe129e6467f293a83c75bbea9a5662c39cecefcc4dbb"
   }
  }
 },
 "nbformat": 4,
 "nbformat_minor": 2
}
