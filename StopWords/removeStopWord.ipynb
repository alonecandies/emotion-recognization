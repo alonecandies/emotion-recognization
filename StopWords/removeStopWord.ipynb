{
 "cells": [
  {
   "cell_type": "code",
   "execution_count": 1,
   "metadata": {},
   "outputs": [],
   "source": [
    "def removeStopWord():\n",
    "   f = open(\"./vietnamese-stopwords.txt\", \"r\")\n",
    "   stopWords = f.readlines()\n",
    "   for idx,line  in enumerate(stopWords):\n",
    "      stopWords[idx] = line.replace(\"\\n\", \"\").strip()\n",
    "      if (len(stopWords[idx]) <= 0):\n",
    "         stopWords.pop(idx)\n",
    "   return stopWords"
   ]
  },
  {
   "cell_type": "code",
   "execution_count": 5,
   "metadata": {},
   "outputs": [
    {
     "name": "stdout",
     "output_type": "stream",
     "text": [
      "Chán chồng lắm suốt rượu_chè chả giúp gì acsdc\n"
     ]
    }
   ],
   "source": [
    "listStopWord = removeStopWord()\n",
    "text = \"Chán ông chồng này lắm rồi suốt ngày rượu_chè chả giúp được gì cả acsdc\"\n",
    "text = text.split(\" \")\n",
    "for word in text:\n",
    "   if word in listStopWord:\n",
    "      text.remove(word)\n",
    "print(\" \".join(text))"
   ]
  }
 ],
 "metadata": {
  "kernelspec": {
   "display_name": "Python 3",
   "language": "python",
   "name": "python3"
  },
  "language_info": {
   "codemirror_mode": {
    "name": "ipython",
    "version": 3
   },
   "file_extension": ".py",
   "mimetype": "text/x-python",
   "name": "python",
   "nbconvert_exporter": "python",
   "pygments_lexer": "ipython3",
   "version": "3.8.13"
  },
  "orig_nbformat": 4,
  "vscode": {
   "interpreter": {
    "hash": "36b5d234dcadb63a5dcffe129e6467f293a83c75bbea9a5662c39cecefcc4dbb"
   }
  }
 },
 "nbformat": 4,
 "nbformat_minor": 2
}
